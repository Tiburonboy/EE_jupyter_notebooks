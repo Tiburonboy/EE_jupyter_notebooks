{
 "cells": [
  {
   "cell_type": "markdown",
   "id": "95bddc26-d4fb-42b0-a477-bff0aa104345",
   "metadata": {},
   "source": [
    "# Sensitivity Analysis v0\n",
    "Last update: 12 Mar 2025  \n",
    "> $\\large{\\color {red} {\\text{Note}}}$  \n",
    "> This notbook is work in progress and is posted as a place holder  \n",
    "> Spelling and grammar checks have not been completed.  \n",
    "\n",
    "\n",
    "#### Versions\n",
    "\n",
    "- 6-Mar-2025: Added v0 to filename.\n",
    "\n",
    "\n",
    "## Sensitivity Analysis\n",
    "Circuit sensitivity analysis is an essenctial step in electronic circuit design. Sensitivity analysis attempts to determine how much a circuit's characteristics change in relation to variations in component values. It helps circuit designers make informed decisions to balance performance and cost. The purpose is to determine the effect of each component's tolerance and its effect on the overall performance of the circuit. The Jupyter notebook linked [here](https://github.com/Tiburonboy/EE_jupyter_notebooks/blob/main/Buchla%20Twin-T%20Active%20Filter/Twin-T_BPF_Sensitivity_Analysis.ipynb) performs a sensitivity analysis, Monte Carlo simulation and a \n",
    "worst case tolerance analysis on the filter.\n",
    "\n",
    "\n",
    "\n",
    "Analysis\n",
    "\n",
    "\n",
    "\n",
    "\n",
    "\n",
    "\n",
    "that helps engineers understand how variations in component values affect the overall performance of a circuit.\n",
    "\n",
    "Sensitivity analysis is a technique to determine how much a circuit's characteristics change in relation to variations in component values. \n",
    "\n",
    "\n",
    "\n",
    "When look at a filter, especially in the context of a design review, the circuit designer will want to examine the circuit sensitivity.\n",
    "\n",
    "Prototype Sensitivity Analysis in seperate notebook. \n",
    "\n",
    "Twin-T_BPF_Sensitivity_Analysis.ipynb\n",
    "\n",
    "### Monte Carlo Tolerance Analysis\n",
    "\n",
    "- use 1000kHz filter with values from table I\n",
    "\n",
    "### Worst Case Tolerance Analysis\n",
    "\n",
    "- use 1000kHz filter with values from table I\n",
    "\n",
    "Add link to jupyterlab notebook in github.\n",
    "\n",
    "\n",
    "[here](https://github.com/Tiburonboy/EE_jupyter_notebooks/blob/main/Buchla%20Twin-T%20Active%20Filter/Twin-T_BPF_Sensitivity_Analysis.ipynb)\n",
    "\n",
    "\n",
    "\n",
    "\n",
    "## From Gemini \n",
    "\n",
    "Circuit sensitivity analysis is a crucial process in electronic circuit design that helps engineers understand how variations in component values affect the overall performance of a circuit. Here's a breakdown of what it entails:\n",
    "\n",
    "**Core Concept:**\n",
    "\n",
    "* **Component Variations:**\n",
    "    * Real-world electronic components (resistors, capacitors, transistors, etc.) don't have perfectly fixed values. They come with tolerances, meaning their actual values can deviate from their nominal (specified) values.\n",
    "    * These variations can be due to manufacturing processes, temperature changes, aging, and other factors.\n",
    "* **Performance Impact:**\n",
    "    * Sensitivity analysis aims to determine how these component variations influence critical circuit performance parameters, such as:\n",
    "        * Voltage levels\n",
    "        * Current flow\n",
    "        * Frequency response\n",
    "        * Gain\n",
    "        * Output noise\n",
    "* **Goal:**\n",
    "    * The primary goal is to identify which components have the most significant impact on circuit performance. This allows designers to:\n",
    "        * Optimize circuit designs for robustness.\n",
    "        * Select components with appropriate tolerances.\n",
    "        * Reduce manufacturing costs by relaxing tolerances on less sensitive components.\n",
    "        * Improve the reliability of the circuit.\n",
    "\n",
    "**Key Aspects:**\n",
    "\n",
    "* **Mathematical Analysis:**\n",
    "    * Sensitivity analysis often involves mathematical techniques, including calculating partial derivatives to determine how changes in component values affect circuit outputs.\n",
    "    * Both deterministic and probabilistic methods are used.\n",
    "* **Simulation Tools:**\n",
    "    * Modern circuit simulation software (like PSpice) provides powerful tools for sensitivity analysis, allowing designers to:\n",
    "        * Vary component values within their tolerance ranges.\n",
    "        * Simulate circuit behavior under various conditions.\n",
    "        * Generate reports that highlight the most sensitive components.\n",
    "* **Practical Applications:**\n",
    "    * Sensitivity analysis is essential in various applications, including:\n",
    "        * Analog circuit design\n",
    "        * Filter design\n",
    "        * Power supply design\n",
    "        * RF circuit design\n",
    "\n",
    "In essence, circuit sensitivity analysis is a vital tool for ensuring that electronic circuits perform reliably and consistently, even when component values deviate from their ideal values.\n",
    "\n",
    "\n",
    "## from notebookLM\n",
    "\n",
    "Sensitivity analysis is a technique to determine how much a circuit's characteristics change in relation to variations in component values. It helps circuit designers make informed decisions to balance performance and cost. It is useful in determining the effect of each input tolerance in the system and its effect on the overall performance of the model.\n",
    "\n",
    "Key aspects of sensitivity analysis:\n",
    "*   **Definition** Circuit sensitivity is how much a circuit characteristic changes as a particular component value varies. A simple definition of sensitivity is how much one thing changes as a function of another thing that is changing.\n",
    "*   **Formula** The sensitivity, *S*, is the percentage change in a circuit characteristic (*Y*) relative to the percentage change in a component value (*X*).\n",
    "*   **Applications** It is important for proper component selection, choice of circuit topology and proper guard-band in the mathematical description. It can be applied to virtually all analog circuits.\n",
    "*   **Implementation**  Real filters are implemented with real components. The values of these components will vary from unit to unit, over environmental conditions, and over time. Different filter topologies have different sensitivities to component variations. Even within a single topology, sensitivities can vary as a function of the component values.\n",
    "*   **Techniques** The mathematical tools for sensitivity analysis are well-known and can generally be divided into two classes: deterministic and probabilistic.\n",
    "*   **SPICE Simulators** Taking a numerical approach allows you to analyze the sensitivity in a standard simulation output, such as DC sweep, AC sweep, temperature variation, transfer function, filter or amplifier 3 dB point, or other analysis as component values are varied.\n",
    "*   **Benefits** By being aware of component sensitivity for filter circuits, one can at least choose to tighten up on tolerances for components to which the circuit response is most sensitive. By using this sensitivity information intelligently, circuits can often be configured to be inherently less sensitive.\n",
    "\n",
    "\n",
    "Circuit sensitivity analysis helps designers understand how variations in component values affect a circuit's performance, allowing them to make informed decisions about design trade-offs. Benefits include:\n",
    "\n",
    "*   **Informed decision making** Wise circuit designers analyze the sensitivities of circuits' critical characteristics to variations in components, which allows them to balance trade-offs between performance and cost. Deeper use of sensitivity analysis can lead designers to modify circuit topologies or make different choices to optimize these trade-offs.\n",
    "*   **Component selection** Sensitivity analysis is important for proper component selection. Knowing how much a circuit's behavior changes with a component variation, the sensitivity of the circuit to the component, is important for proper selection of components. For example, it enables the selection of a 1% resistor vs. a 5% resistor.\n",
    "*   **Topology choice** It is also important for choice of circuit topology.\n",
    "*   **Tolerance management** Sensitivity analysis can be used to determine proper guard-band in the mathematical description.\n",
    "*   **Improved designs** By using sensitivity information intelligently, circuits can often be configured to be inherently less sensitive. Understanding the limitations of these less sensitive circuits allows for the use of more complex circuit topologies only when necessary, while using simpler, more limited, insensitive circuits for the majority of needs.\n",
    "*   **Versatility** The definition of, and methods for, using circuit sensitivity can be applied beyond analog filters, with similar insights and improvements possible for virtually any circuit.\n",
    "*   **Assess the impact of manufacturing variations** It helps answer the question of how the variations in component values affect the behavior of a given circuit.\n",
    "*    **Optimize circuit tuning** It helps tune a circuit to overcome the effects of variation on circuit performance.\n",
    "*   **Cost savings** It allows for trading off a little more design time for cost savings in components and test time.\n",
    "*   **System performance optimization** It helps determine the effect of each input tolerance in the system and its effect on the overall performance of the model.\n",
    "\n",
    "The mathematical definition of circuit sensitivity describes how much a circuit characteristic changes in relation to a change in a component value. It's a way to evaluate the variation of any circuit parameter relative to a change in any circuit component value.\n",
    "\n",
    "The sensitivity, *S*, is defined as:\n",
    "\n",
    "*S* = (δ*Y*/ *Y*) / (δ*X*/ *X*) = lim Δ*x*→0 (Δ*y*/*y*) / (Δ*x*/*x*)\n",
    "\n",
    "Where:\n",
    "*   *X* is the changing component.\n",
    "*   *Y* is the circuit characteristic being evaluated.\n",
    "*   Δ*x* is the change in the component value.\n",
    "*   Δ*y* is the resulting change in the circuit characteristic.\n",
    "\n",
    "The formula calculates the percentage change in the dependent variable (*Y*) relative to the percentage change in the independent variable (*X*) as the change in *x* approaches zero.\n",
    "\n",
    "Circuit sensitivity analysis offers several key benefits to circuit designers, enabling them to create more robust, cost-effective, and reliable circuits. These benefits include:\n",
    "\n",
    "*   **Informed decision making** By analyzing the sensitivities of a circuit's critical characteristics to variations in components, designers can make informed decisions to balance trade-offs between performance and cost. Sensitivity analysis can guide designers to modify circuit topologies or make different choices to optimize these trade-offs.\n",
    "*   **Component selection** Sensitivity analysis helps in proper component selection. Knowing how much a circuit's behavior changes with a component variation, the sensitivity of the circuit to the component is important for selecting components with appropriate tolerances. For instance, it helps determine whether to use a 1% resistor instead of a 5% resistor.\n",
    "*   **Topology choice** Sensitivity analysis is important for the choice of circuit topology. Different filter topologies have different sensitivities to component variations.\n",
    "*   **Tolerance management** It can be used to determine the proper guard-band in the mathematical description, providing sufficient margin to still meet requirements.\n",
    "*   **Improved designs** By using sensitivity information intelligently, circuits can often be configured to be inherently less sensitive. Understanding the limitations of these less sensitive circuits allows for the use of more complex circuit topologies only when necessary, while using simpler, more limited, insensitive circuits for the majority of needs.\n",
    "*   **Versatility** The definition of, and methods for, using circuit sensitivity can be applied beyond analog filters, with similar insights and improvements possible for virtually any circuit.\n",
    "*   **Assess manufacturing variations** It helps assess how variations in component values affect the behavior of a given circuit.\n",
    "*   **Optimize circuit tuning** It helps tune a circuit to overcome the effects of variation on circuit performance. The Virtuoso Analog Design Environment GXL (ADE GXL) offers features to help tune circuits, addressing the impact of variations on circuit design.\n",
    "*   **Cost savings** It allows for trading off a little more design time for cost savings in components and test time.\n",
    "*   **System performance optimization** It helps determine the effect of each input tolerance in the system and its effect on the overall performance of the model.\n",
    "*   **Component grading** By being aware of component sensitivity for filter circuits, one can at least choose to tighten up on tolerances for components to which the circuit response is most sensitive.\n",
    "*   **Identify critical components** Sensitivity Analysis in ADE GXL helps identify critical devices in a circuit and their effects on design performance. It helps determine which devices have the most impact on each of the design specifications, and how changing a device size to improve one specification will adversely change the other specifications.\n",
    "*   **Optimize over a large number of corners** ADE GXL provides optimization-based run modes, such as Size Over Corners, to efficiently optimize over a large number of corners. It also provides Improve Yield, which combines Monte Carlo analysis and automatic statistical corner creation with iterations of circuit optimization to center a design within statistical process and mismatch variation.\n",
    "\n",
    "\n"
   ]
  },
  {
   "cell_type": "code",
   "execution_count": 1,
   "id": "b5ddf60f-40df-486d-8646-a710e408cb25",
   "metadata": {
    "collapsed": false,
    "jupyter": {
     "outputs_hidden": false
    }
   },
   "outputs": [],
   "source": [
    "import random\n",
    "from sympy import *\n",
    "import numpy as np\n",
    "from tabulate import tabulate\n",
    "from scipy import signal\n",
    "import matplotlib.pyplot as plt\n",
    "import SymMNA\n",
    "from IPython.display import display, Markdown, Math, Latex\n",
    "from tabulate import tabulate\n",
    "init_printing()"
   ]
  },
  {
   "cell_type": "markdown",
   "id": "b9a316d6-abe2-46fc-9ba0-9b564ec3c6bc",
   "metadata": {
    "tags": []
   },
   "source": [
    "# SYMBOLIC ANALYSIS\n",
    "Symbolic analysis presented in this report employes the MNA technique to generate network equations from the filter's netlist with the circuit's elements are represented by symbols. SymPy is used to solve the system of equations in symbolic form to obtain analytic expressions for the filter's voltage transfer function. The symbolic expressions can in some cases provide a deeper understanding of how each component contributes to the circuit's operation that can complement numerical simulations.\n",
    "\n",
    "## Circuit Netlist\n",
    "The netlist generated by LTSpice from the schematic is shown below. Some edits were made to fix up the formating of the component values and the Op Amp declaration. The nodes were labeled in the schematic, otherwise LTSpice will use default labels such as N001, N002 etc. and the smna function wants integer values for the node numbers and these need to be consecutively ordered with no gaps in the numbering.\n",
    "\n",
    "```\n",
    "    * Bandpass-Twin-T-Active-Filter.asc\n",
    "    R1 3 1 15k\n",
    "    R2 4 5 186k\n",
    "    R3 2 5 15k\n",
    "    C1 5 1 10n\n",
    "    C2 4 3 910p\n",
    "    C3 2 3 10n\n",
    "    XU1 4 0 2 opamp Aol=100K GBW=10Meg\n",
    "    V1 1 0 1 AC 1\n",
    "    .lib opamp.sub\n",
    "    .ac dec 1000 100 10k\n",
    "    .backanno\n",
    "    .end\n",
    "```\n",
    "\n",
    "Generation of the netlist from a schematic caputure program is comvinent and less error propne than generating the netwlist by hand. A visiual inspection of the schematic insurs that the circuit to be analyzed is correct and it follows that the netlist is alos correct. This is espically true or larger more complicated schamitics. \n",
    "\n",
    "The cleaned up netlist was copied to the cell below. The tripple quotes allow text strings to span multiple lines since the line breaks are preserved."
   ]
  },
  {
   "cell_type": "code",
   "execution_count": 2,
   "id": "15566faa-a9be-4f8b-9603-aef97dd53a3d",
   "metadata": {},
   "outputs": [],
   "source": [
    "example_net_list = '''\n",
    "* Bandpass-Twin-T-Active-Filter.asc\n",
    "R1 3 1 15e3\n",
    "R2 4 5 186e3\n",
    "R3 2 5 15e3\n",
    "C1 5 1 10e-9\n",
    "C2 4 3 910e-12\n",
    "C3 2 3 10e-9\n",
    "O1 4 0 2\n",
    "V1 1 0 1\n",
    "'''"
   ]
  },
  {
   "cell_type": "markdown",
   "id": "32be5315-2402-4429-a607-42d53999e14e",
   "metadata": {},
   "source": [
    "## Generate Network Equations \n",
    "The function ```SymMNA.smna(example_net_list)``` implements the MNA method on the filter's netlist. Stamps which are templates for modifying the B, C and D matrices are used to facilitate the construction of the matrices. The stamps used in this implementation of the MNA follow the stamps of [4]. The function is divided in the following sections.  \n",
    "\n",
    "- The preprocessor reads in the netlist text file and removes comments, extra spaces and blank lines. The first letter of the element type is capitalized to make subsequent parsing of the file easier. The number of lines are counted and the number of entries on each line are checked to make sure the count is consistent with the element type.\n",
    "- The parser code loads the preprocessed netlist into a data frame.  A report is generated which consists of a count of the element types in the netlist.\n",
    "- Matrix formulation: Each of the matrices and vectors are generated.\n",
    "- Circuit equation generation: The circuit equations are generated in a ```for``` loop. Sympy automatically does some simplification according to its default settings. The Laplace variable $s$ is used when inductors and capacitors are included in the circuit.\n",
    "\n",
    "There is a limited amount of error checking performed. The number of items on each line in the netlist is checked to make sure the count is correct depending on the element type. The node numbering needs to be consecutive with no skipped numbers, otherwise empty rows or columns will be included in the matrix. Unknown element types create an error.\n",
    "\n",
    "The function takes one argument which is a text string that is the circuit’s netlist. The format of the netlist is very similar to the standard spice netlist and any of the required changes can be easily made with a text editor. The function returns six items.  \n",
    "\n",
    "1. report - a text string, which is the netlist report.\n",
    "2. df - a Pandas data frame, which the circuit’s net list info loaded into a data frame.\n",
    "3. df2 - a Pandas data frame, which contains the branches with unknown currents.\n",
    "4. $A$ - a SymPy matrix, which is $(m+n)$ by $(m+n)$, where $n$ is the number of nodes and $m$ is the number of current unknowns. $A$ is the combination of four smaller matrices, $G$, $B$, $C$, and $D$. These matrices are described in the GitHub repository.\n",
    "5. $X$ - a list that holds the unknown node voltages and the currents through the independent voltage sources.\n",
    "6. $Z$ - a list that holds the independent voltage and current sources\n",
    "\n",
    "The netlist can be generated by hand or exported from a schematic capture program and pasted into the JupyterLab notebook."
   ]
  },
  {
   "cell_type": "code",
   "execution_count": 3,
   "id": "64459475-5dfc-433d-a418-2a49c3c6eaa5",
   "metadata": {},
   "outputs": [],
   "source": [
    "#| echo: true\n",
    "report, network_df, df2, A, X, Z = SymMNA.smna(example_net_list)"
   ]
  },
  {
   "cell_type": "markdown",
   "id": "09266b3b-9dcb-4823-b955-1dc3473fb187",
   "metadata": {},
   "source": [
    "Convert the lists of unknown node voltages and currents as well as the list of independednt voltage and current sources into SymPy matrices. "
   ]
  },
  {
   "cell_type": "code",
   "execution_count": 4,
   "id": "ccd3658f-6843-489f-9e0f-40c014cc23e8",
   "metadata": {},
   "outputs": [],
   "source": [
    "X = Matrix(X)\n",
    "Z = Matrix(Z)"
   ]
  },
  {
   "cell_type": "markdown",
   "id": "74592765-692a-4a32-922d-25cbb270607e",
   "metadata": {},
   "source": [
    "Use the SymPy function ```Eq``` to formulate the network equations."
   ]
  },
  {
   "cell_type": "code",
   "execution_count": 5,
   "id": "b1c4d18a-dc55-4f35-95ca-fa94383eef86",
   "metadata": {},
   "outputs": [],
   "source": [
    "NE_sym = Eq(A*X,Z)"
   ]
  },
  {
   "cell_type": "markdown",
   "id": "49e941a9-6fff-4286-8ba8-16b8509f0515",
   "metadata": {},
   "source": [
    "The equations, ```NE_sym```, define the mathematical relationship between voltages and currents in the filter circuit in terms of node voltages, $v_1$, $v_2$ etc., components $R_1$, $C_1$ etc., the Laplace variable $s$ and the indepenedent voltage source $V_1$. The equations are shown below:"
   ]
  },
  {
   "cell_type": "code",
   "execution_count": 6,
   "id": "6ac884b9-61ce-4426-b549-3af633547e11",
   "metadata": {},
   "outputs": [
    {
     "data": {
      "text/markdown": [
       "<p>$- C_{1} s v_{5} + I_{V1} + v_{1} \\left(C_{1} s + \\frac{1}{R_{1}}\\right) - \\frac{v_{3}}{R_{1}} = 0$</p><p>$- C_{3} s v_{3} + I_{O1} + v_{2} \\left(C_{3} s + \\frac{1}{R_{3}}\\right) - \\frac{v_{5}}{R_{3}} = 0$</p><p>$- C_{2} s v_{4} - C_{3} s v_{2} + v_{3} \\left(C_{2} s + C_{3} s + \\frac{1}{R_{1}}\\right) - \\frac{v_{1}}{R_{1}} = 0$</p><p>$- C_{2} s v_{3} + v_{4} \\left(C_{2} s + \\frac{1}{R_{2}}\\right) - \\frac{v_{5}}{R_{2}} = 0$</p><p>$- C_{1} s v_{1} + v_{5} \\left(C_{1} s + \\frac{1}{R_{3}} + \\frac{1}{R_{2}}\\right) - \\frac{v_{2}}{R_{3}} - \\frac{v_{4}}{R_{2}} = 0$</p><p>$v_{1} = V_{1}$</p><p>$v_{4} = 0$</p>"
      ],
      "text/plain": [
       "<IPython.core.display.Markdown object>"
      ]
     },
     "execution_count": 6,
     "metadata": {},
     "output_type": "execute_result"
    }
   ],
   "source": [
    "# Put matrices into SymPy \n",
    "X = Matrix(X)\n",
    "Z = Matrix(Z)\n",
    "\n",
    "NE_sym = Eq(A*X,Z)\n",
    "\n",
    "# display the equations\n",
    "temp = ''\n",
    "for i in range(shape(NE_sym.lhs)[0]):\n",
    "    temp += '<p>${:s} = {:s}$</p>'.format(latex(NE_sym.lhs[i]),\n",
    "        latex(NE_sym.rhs[i]))\n",
    "\n",
    "Markdown(temp)"
   ]
  },
  {
   "cell_type": "markdown",
   "id": "825b3dc2-e22e-49fd-aa9d-5a0922f39361",
   "metadata": {},
   "source": [
    "The two lines of Python code below turn the free symbols from the ```NE_sym``` equations into SymPy variables and the element values contained in the netlist are put into a Python dictionary data structure to be used in the numerical solutions later in this report."
   ]
  },
  {
   "cell_type": "code",
   "execution_count": 7,
   "id": "9fde1081-243c-4b59-9f8d-6179641cd7d1",
   "metadata": {},
   "outputs": [],
   "source": [
    "var(str(NE_sym.free_symbols).replace('{','').replace('}',''))\n",
    "nominal_component_value = SymMNA.get_part_values(network_df)"
   ]
  },
  {
   "cell_type": "markdown",
   "id": "ea6a60fc-1b6e-4f3c-973f-26a950ce5cc1",
   "metadata": {},
   "source": [
    "## Solve the Network Equations\n",
    "The SymPy function ```solve``` is used to obtain the node voltages and independent voltage source currents."
   ]
  },
  {
   "cell_type": "code",
   "execution_count": 8,
   "id": "af363c8e-e77f-4ebe-a2d3-b1729e16b353",
   "metadata": {},
   "outputs": [],
   "source": [
    "U_sym = solve(NE_sym,X)"
   ]
  },
  {
   "cell_type": "markdown",
   "id": "615e7322-c1c0-47f6-a6af-fd749b3dcb1f",
   "metadata": {},
   "source": [
    "The solution to the network equations are the node voltages expressed in terms of the Laplace variable $s$ are displayed below."
   ]
  },
  {
   "cell_type": "code",
   "execution_count": 9,
   "id": "2d9ee635-e8b7-4352-bdbc-51c32a9243f1",
   "metadata": {},
   "outputs": [
    {
     "data": {
      "text/markdown": [
       "<p>$v_{1} = V_{1}$</p><p>$v_{2} = \\frac{- C_{1} C_{2} R_{1} R_{3} V_{1} s^{2} - C_{1} C_{2} R_{2} R_{3} V_{1} s^{2} - C_{1} C_{3} R_{1} R_{3} V_{1} s^{2} - C_{1} R_{3} V_{1} s - C_{2} R_{2} V_{1} s - C_{2} R_{3} V_{1} s}{C_{1} C_{2} C_{3} R_{1} R_{2} R_{3} s^{3} + C_{2} C_{3} R_{1} R_{2} s^{2} + C_{2} C_{3} R_{1} R_{3} s^{2} + C_{2} R_{1} s + C_{3} R_{1} s + 1}$</p><p>$v_{3} = \\frac{- C_{1} C_{3} R_{1} R_{3} V_{1} s^{2} + V_{1}}{C_{1} C_{2} C_{3} R_{1} R_{2} R_{3} s^{3} + C_{2} C_{3} R_{1} R_{2} s^{2} + C_{2} C_{3} R_{1} R_{3} s^{2} + C_{2} R_{1} s + C_{3} R_{1} s + 1}$</p><p>$v_{4} = 0$</p><p>$v_{5} = \\frac{C_{1} C_{2} C_{3} R_{1} R_{2} R_{3} V_{1} s^{3} - C_{2} R_{2} V_{1} s}{C_{1} C_{2} C_{3} R_{1} R_{2} R_{3} s^{3} + C_{2} C_{3} R_{1} R_{2} s^{2} + C_{2} C_{3} R_{1} R_{3} s^{2} + C_{2} R_{1} s + C_{3} R_{1} s + 1}$</p>"
      ],
      "text/plain": [
       "<IPython.core.display.Markdown object>"
      ]
     },
     "execution_count": 9,
     "metadata": {},
     "output_type": "execute_result"
    }
   ],
   "source": [
    "temp = ''\n",
    "for i in U_sym.keys():\n",
    "    if str(i)[0] == 'v': # only display the node voltages\n",
    "        temp += '<p>${:s} = {:s}$</p>'.format(latex(i),latex(U_sym[i]))\n",
    "\n",
    "Markdown(temp)"
   ]
  },
  {
   "cell_type": "markdown",
   "id": "474d66fa-102c-4d92-9827-ebaaca53b24f",
   "metadata": {},
   "source": [
    "### Voltage Transfer Function $H(s)=\\frac {v_2(s)}{v_1(s)}$\n",
    "The voltage transfer function, $H(s)$, for the filter  is generated and displayed by the following code:"
   ]
  },
  {
   "cell_type": "code",
   "execution_count": 10,
   "id": "12a05ea6-be8b-4cd2-89b4-13601f57b51c",
   "metadata": {},
   "outputs": [
    {
     "data": {
      "text/markdown": [
       "$H(s)=\\frac{s^{2} \\left(- C_{1} C_{2} R_{1} R_{3} - C_{1} C_{2} R_{2} R_{3} - C_{1} C_{3} R_{1} R_{3}\\right) + s \\left(- C_{1} R_{3} - C_{2} R_{2} - C_{2} R_{3}\\right)}{C_{1} C_{2} C_{3} R_{1} R_{2} R_{3} s^{3} + s^{2} \\left(C_{2} C_{3} R_{1} R_{2} + C_{2} C_{3} R_{1} R_{3}\\right) + s \\left(C_{2} R_{1} + C_{3} R_{1}\\right) + 1}$"
      ],
      "text/plain": [
       "<IPython.core.display.Markdown object>"
      ]
     },
     "execution_count": 10,
     "metadata": {},
     "output_type": "execute_result"
    }
   ],
   "source": [
    "H_sym = cancel(U_sym[v2]/U_sym[v1],s)\n",
    "Markdown('$H(s)={:s}$'.format(latex(H_sym)))"
   ]
  },
  {
   "cell_type": "markdown",
   "id": "27338434-0424-4669-b0a3-089bb8a0a930",
   "metadata": {},
   "source": [
    "This expression agrees with [1 eq. (1)]. The numerator is a second order polynominal and the demominator is third order polynominal in terms of $s$. Generally, the order of the dominator is equal to the number of reactive elements in the circuit. The roots of the numerator polynominal are called the zeros of the transfer function and the roots of the denominator are called the poles of the transfer function."
   ]
  },
  {
   "cell_type": "markdown",
   "id": "d87ed05e-a389-453d-90a0-7ea31a1b6eff",
   "metadata": {},
   "source": [
    "## Sensitivity Analysis\n",
    "When look at a filter, especially in the context of a design review, the circuit designer will want to examine the circuit sensitivity.\n",
    "\n",
    "Prototype Sensitivity Analysis in seperate notebook. \n",
    "\n",
    "Twin-T_BPF_Sensitivity_Analysis.ipynb\n",
    "\n",
    "## Monte Carlo Tolerance Analysis\n",
    "\n",
    "- use 1000kHz filter with values from table I\n",
    "\n",
    "## Worst Case Tolerance Analysis\n",
    "\n",
    "- use 1000kHz filter with values from table I"
   ]
  },
  {
   "cell_type": "code",
   "execution_count": null,
   "id": "40b57d6f-887c-46d3-b4a2-3538bdd294e5",
   "metadata": {},
   "outputs": [],
   "source": []
  },
  {
   "cell_type": "code",
   "execution_count": null,
   "id": "f3556af1-bc28-4397-a955-7fcfe7f140a5",
   "metadata": {},
   "outputs": [],
   "source": []
  },
  {
   "cell_type": "code",
   "execution_count": null,
   "id": "a32b7e68-d173-4398-a737-71741f72a867",
   "metadata": {},
   "outputs": [],
   "source": []
  },
  {
   "cell_type": "markdown",
   "id": "14132e8d-33ac-4143-a325-2bae8ef8647d",
   "metadata": {},
   "source": [
    "The calculations above show that within the audio range the deviation of the preamp amplitude response from the RIAA curve varies from -0.044 to 0.066 dB when the nominal component values are used. \n",
    "\n",
    "### Sensitivity analysis\n",
    "All circuits have characteristics that depend on the values of the component. The sensitivity of a circuit's performance is a measure of how much a particular circuit characteristic changes as a particular component value varies. In this analysis I'll look at the changes of each pole or zero relative to the component's value.\n",
    "\n",
    "The root sensitivity function $S_x^y$ gives the change occurring in filter characteristic per $\\delta y/ \\delta x$.  \n",
    "\n",
    "$S_x^y$ is read as the sensitivity of the characteristic (i.e. y = $\\omega_n,$ or Q or some other characteristic) with respect to the element x.\n",
    "\n",
    "$S_x^y = \\frac {x}{y} \\frac{\\delta y}{\\delta x}$\n",
    "\n",
    "Where x is the filter component that is varied and y is the filter characteristic ($\\omega_n,$ or Q etc.) that we wish to evaluate as x is varied.\n",
    "\n",
    "The preamp transfer function in symbolic form is, H_preamp_sym, and we can get the numerator and denominator with the SymPy fraction function."
   ]
  },
  {
   "cell_type": "code",
   "execution_count": null,
   "id": "59ed648d-5ef0-410c-89b0-f84964974c2f",
   "metadata": {},
   "outputs": [],
   "source": []
  },
  {
   "cell_type": "code",
   "execution_count": 11,
   "id": "44298da7-4935-4773-8d2c-e225d1fc5040",
   "metadata": {
    "tags": []
   },
   "outputs": [],
   "source": [
    "H_sym_num, H_sym_denom = fraction(H_sym,s) #returns numerator and denominator"
   ]
  },
  {
   "cell_type": "markdown",
   "id": "2dfdaed6-4307-4613-b6d1-c66157b8edc4",
   "metadata": {},
   "source": [
    "The SymPy solve function is used to find the root of the numerator and denominator polynomials."
   ]
  },
  {
   "cell_type": "code",
   "execution_count": 12,
   "id": "cb6d9f30-8721-4dbf-88bc-becd64bde31a",
   "metadata": {},
   "outputs": [],
   "source": [
    "H_sym_zeros = solve(H_sym_num,s)\n",
    "H_sym_poles = solve(H_sym_denom,s)"
   ]
  },
  {
   "cell_type": "markdown",
   "id": "7473aa04-0403-4eb8-92b7-fdf7da921f4f",
   "metadata": {},
   "source": [
    "#### Zeros\n",
    "How many roots are there for the numerator polynomial?"
   ]
  },
  {
   "cell_type": "code",
   "execution_count": 13,
   "id": "207c872a-4f3f-4919-84f2-990558f4eaa0",
   "metadata": {},
   "outputs": [
    {
     "name": "stdout",
     "output_type": "stream",
     "text": [
      "there are 2 zeros\n"
     ]
    }
   ],
   "source": [
    "print('there are {:d} zeros'.format(len(H_sym_zeros)))"
   ]
  },
  {
   "cell_type": "markdown",
   "id": "de84b155-1cca-49ae-b3af-412d08747475",
   "metadata": {},
   "source": [
    "#### Z0\n",
    "The first zero is at DC."
   ]
  },
  {
   "cell_type": "code",
   "execution_count": 14,
   "id": "549f916e-2ba2-4ea9-86db-2598019ee68e",
   "metadata": {},
   "outputs": [
    {
     "data": {
      "image/png": "[encoded data removed]",
      "text/latex": [
       "$\\displaystyle 0$"
      ],
      "text/plain": [
       "0"
      ]
     },
     "execution_count": 14,
     "metadata": {},
     "output_type": "execute_result"
    }
   ],
   "source": [
    "H_sym_Z0 = H_sym_zeros[0]\n",
    "H_sym_Z0"
   ]
  },
  {
   "cell_type": "markdown",
   "id": "9bc638f6-8535-4129-b066-cf067081f428",
   "metadata": {},
   "source": [
    "#### Z1\n",
    "The second zero is given symbolically by the expression:"
   ]
  },
  {
   "cell_type": "code",
   "execution_count": 15,
   "id": "b11e3402-a135-4ba4-b88a-9ff158822480",
   "metadata": {},
   "outputs": [
    {
     "data": {
      "image/png": "[encoded data removed]",
      "text/latex": [
       "$\\displaystyle \\frac{- C_{1} R_{3} - C_{2} R_{2} - C_{2} R_{3}}{C_{1} R_{3} \\left(C_{2} R_{1} + C_{2} R_{2} + C_{3} R_{1}\\right)}$"
      ],
      "text/plain": [
       "    -C₁⋅R₃ - C₂⋅R₂ - C₂⋅R₃   \n",
       "─────────────────────────────\n",
       "C₁⋅R₃⋅(C₂⋅R₁ + C₂⋅R₂ + C₃⋅R₁)"
      ]
     },
     "execution_count": 15,
     "metadata": {},
     "output_type": "execute_result"
    }
   ],
   "source": [
    "H_sym_Z1 = H_sym_zeros[1]\n",
    "H_sym_Z1"
   ]
  },
  {
   "cell_type": "markdown",
   "id": "38a90cca-ab29-4f44-ba8b-b42e7b66a8ac",
   "metadata": {},
   "source": [
    "What are the components that determine Z1?"
   ]
  },
  {
   "cell_type": "code",
   "execution_count": 16,
   "id": "e9e3c6b2-91ad-4d74-9196-b50fa10a4caf",
   "metadata": {},
   "outputs": [
    {
     "name": "stdout",
     "output_type": "stream",
     "text": [
      "the components that determine Z1 are: {C3, R1, C1, R3, R2, C2} \n"
     ]
    }
   ],
   "source": [
    "print('the components that determine Z1 are: {:s} '.format(str(H_sym_Z1.free_symbols)))"
   ]
  },
  {
   "cell_type": "markdown",
   "id": "06250d5c-ac37-46ef-bcc5-9ccc0ea70334",
   "metadata": {},
   "source": [
    "What is the locations of Z1?"
   ]
  },
  {
   "cell_type": "code",
   "execution_count": 17,
   "id": "ab3ccb30-5968-4a04-b267-d53e1f24ad7e",
   "metadata": {},
   "outputs": [
    {
     "name": "stdout",
     "output_type": "stream",
     "text": [
      "location of zero: -1061.03 Hz\n"
     ]
    }
   ],
   "source": [
    "print('location of zero: {:.2f} Hz'.format(N(H_sym_Z1.subs(nominal_component_value))/(2*np.pi)))"
   ]
  },
  {
   "cell_type": "markdown",
   "id": "586a0577-0f39-49f8-b863-4005c8cfd3a1",
   "metadata": {},
   "source": [
    "We can find the sensitivity of Z1 to C1 with the following operation."
   ]
  },
  {
   "cell_type": "code",
   "execution_count": 18,
   "id": "0cdf64db-b021-4269-b24f-07717d64bcd7",
   "metadata": {},
   "outputs": [
    {
     "data": {
      "image/png": "[encoded data removed]",
      "text/latex": [
       "$\\displaystyle \\frac{C_{1}^{2} R_{3} \\left(- \\frac{1}{C_{1} \\left(C_{2} R_{1} + C_{2} R_{2} + C_{3} R_{1}\\right)} - \\frac{- C_{1} R_{3} - C_{2} R_{2} - C_{2} R_{3}}{C_{1}^{2} R_{3} \\left(C_{2} R_{1} + C_{2} R_{2} + C_{3} R_{1}\\right)}\\right) \\left(C_{2} R_{1} + C_{2} R_{2} + C_{3} R_{1}\\right)}{- C_{1} R_{3} - C_{2} R_{2} - C_{2} R_{3}}$"
      ],
      "text/plain": [
       "  2    ⎛              1                    -C₁⋅R₃ - C₂⋅R₂ - C₂⋅R₃    ⎞        \n",
       "C₁ ⋅R₃⋅⎜- ────────────────────────── - ──────────────────────────────⎟⋅(C₂⋅R₁ \n",
       "       ⎜  C₁⋅(C₂⋅R₁ + C₂⋅R₂ + C₃⋅R₁)     2                           ⎟        \n",
       "       ⎝                               C₁ ⋅R₃⋅(C₂⋅R₁ + C₂⋅R₂ + C₃⋅R₁)⎠        \n",
       "──────────────────────────────────────────────────────────────────────────────\n",
       "                                    -C₁⋅R₃ - C₂⋅R₂ - C₂⋅R₃                    \n",
       "\n",
       "                \n",
       "+ C₂⋅R₂ + C₃⋅R₁)\n",
       "                \n",
       "                \n",
       "────────────────\n",
       "                "
      ]
     },
     "execution_count": 18,
     "metadata": {},
     "output_type": "execute_result"
    }
   ],
   "source": [
    "S_C1_H_sym_Z1 = (C1/H_sym_Z1)*(H_sym_Z1.diff(C1))\n",
    "S_C1_H_sym_Z1"
   ]
  },
  {
   "cell_type": "markdown",
   "id": "ae54fd06-20f0-49c8-b8e2-2004b7f4ddb8",
   "metadata": {},
   "source": [
    "Evaluating this numerically with the component values, we get the sensitivity of Z1 to C1."
   ]
  },
  {
   "cell_type": "code",
   "execution_count": 19,
   "id": "3881298f-bf97-45c7-a58b-9cceeb268ef7",
   "metadata": {},
   "outputs": [
    {
     "name": "stdout",
     "output_type": "stream",
     "text": [
      "the sensitivity of Z1 to C1 is: -0.55\n"
     ]
    }
   ],
   "source": [
    "print('the sensitivity of Z1 to C1 is: {:.2f}'.format(N(S_C1_H_sym_Z1.subs(nominal_component_value))))"
   ]
  },
  {
   "cell_type": "markdown",
   "id": "58f21532-50c3-4675-94ec-02a061e2f47e",
   "metadata": {},
   "source": [
    "Doing the math with SymPy, we can get the sensitivity of Z1 to the other components. "
   ]
  },
  {
   "cell_type": "code",
   "execution_count": 20,
   "id": "0ceb3864-bc43-404b-8849-cc6320ab37c9",
   "metadata": {},
   "outputs": [
    {
     "name": "stdout",
     "output_type": "stream",
     "text": [
      "the sensitivity of Z1 to R1 is: -0.49\n"
     ]
    }
   ],
   "source": [
    "S_R1_H_sym_Z1 = (R1/H_sym_Z1)*(H_sym_Z1.diff(R1))\n",
    "print('the sensitivity of Z1 to R1 is: {:.2f}'.format(N(S_R1_H_sym_Z1.subs(nominal_component_value))))"
   ]
  },
  {
   "cell_type": "code",
   "execution_count": 21,
   "id": "c7b13f4d-c42c-4871-9dc4-219e0ec71e4a",
   "metadata": {},
   "outputs": [
    {
     "name": "stdout",
     "output_type": "stream",
     "text": [
      "the sensitivity of Z1 to R2 is: 0.00\n"
     ]
    }
   ],
   "source": [
    "S_R2_H_sym_Z1 = (R2/H_sym_Z1)*(H_sym_Z1.diff(R2))\n",
    "print('the sensitivity of Z1 to R2 is: {:.2f}'.format(N(S_R2_H_sym_Z1.subs(nominal_component_value))))"
   ]
  },
  {
   "cell_type": "code",
   "execution_count": 22,
   "id": "5d87efeb-3927-48f5-90f0-dbd37db3c8e2",
   "metadata": {},
   "outputs": [
    {
     "name": "stdout",
     "output_type": "stream",
     "text": [
      "the sensitivity of Z1 to R3 is: -0.51\n"
     ]
    }
   ],
   "source": [
    "S_R3_H_sym_Z1 = (R3/H_sym_Z1)*(H_sym_Z1.diff(R3))\n",
    "print('the sensitivity of Z1 to R3 is: {:.2f}'.format(N(S_R3_H_sym_Z1.subs(nominal_component_value))))"
   ]
  },
  {
   "cell_type": "code",
   "execution_count": 23,
   "id": "75912dfa-b3a8-4344-be74-92bf6b5e9e05",
   "metadata": {},
   "outputs": [
    {
     "name": "stdout",
     "output_type": "stream",
     "text": [
      "the sensitivity of Z1 to C1 is: -0.5494\n"
     ]
    }
   ],
   "source": [
    "S_C1_H_sym_Z1 = (C1/H_sym_Z1)*(H_sym_Z1.diff(C1))\n",
    "print('the sensitivity of Z1 to C1 is: {:.4f}'.format(N(S_C1_H_sym_Z1.subs(nominal_component_value))))"
   ]
  },
  {
   "cell_type": "code",
   "execution_count": 24,
   "id": "97575e43-1ec0-422f-a1ed-73abdb43dd47",
   "metadata": {},
   "outputs": [
    {
     "name": "stdout",
     "output_type": "stream",
     "text": [
      "the sensitivity of Z1 to C2 is: 0.00\n"
     ]
    }
   ],
   "source": [
    "S_C2_H_sym_Z1 = (C2/H_sym_Z1)*(H_sym_Z1.diff(C2))\n",
    "print('the sensitivity of Z1 to C2 is: {:.2f}'.format(N(S_C2_H_sym_Z1.subs(nominal_component_value))))"
   ]
  },
  {
   "cell_type": "code",
   "execution_count": 25,
   "id": "d6fdd522-7b49-49ba-9eb2-5665f5588956",
   "metadata": {},
   "outputs": [
    {
     "name": "stdout",
     "output_type": "stream",
     "text": [
      "the sensitivity of Z1 to C3 is: -0.45\n"
     ]
    }
   ],
   "source": [
    "S_C3_H_sym_Z1 = (C3/H_sym_Z1)*(H_sym_Z1.diff(C3))\n",
    "print('the sensitivity of Z1 to C3 is: {:.2f}'.format(N(S_C3_H_sym_Z1.subs(nominal_component_value))))"
   ]
  },
  {
   "cell_type": "markdown",
   "id": "317fa434-792f-4be9-bc39-fc102445fe70",
   "metadata": {
    "tags": []
   },
   "source": [
    "Later, we are doing the worst case analysis, we can ignore C2. "
   ]
  },
  {
   "cell_type": "markdown",
   "id": "f84cb83d-fed7-4aa7-934f-fe1b2950dbc8",
   "metadata": {},
   "source": [
    "#### Poles\n",
    "How many poles are there in the preamp transfer function?"
   ]
  },
  {
   "cell_type": "code",
   "execution_count": 26,
   "id": "82be0807-7e91-4c33-bcde-9787dbf88b45",
   "metadata": {},
   "outputs": [
    {
     "name": "stdout",
     "output_type": "stream",
     "text": [
      "there are 3 poles in the transfer function\n"
     ]
    }
   ],
   "source": [
    "print('there are {:d} poles in the transfer function'.format(len(H_sym_poles)))"
   ]
  },
  {
   "cell_type": "markdown",
   "id": "c9942c8b-23be-4567-8721-a7bdfeec9e13",
   "metadata": {},
   "source": [
    "#### P0\n",
    "The first pole is:"
   ]
  },
  {
   "cell_type": "code",
   "execution_count": 27,
   "id": "f040632d-7ac7-4278-b298-dbf15197a686",
   "metadata": {},
   "outputs": [
    {
     "data": {
      "image/png": "[encoded data removed]",
      "text/latex": [
       "$\\displaystyle - \\frac{- \\frac{3 \\left(C_{2} + C_{3}\\right)}{C_{1} C_{2} C_{3} R_{2} R_{3}} + \\frac{\\left(R_{2} + R_{3}\\right)^{2}}{C_{1}^{2} R_{2}^{2} R_{3}^{2}}}{3 \\sqrt[3]{\\frac{\\sqrt{- 4 \\left(- \\frac{3 \\left(C_{2} + C_{3}\\right)}{C_{1} C_{2} C_{3} R_{2} R_{3}} + \\frac{\\left(R_{2} + R_{3}\\right)^{2}}{C_{1}^{2} R_{2}^{2} R_{3}^{2}}\\right)^{3} + \\left(\\frac{27}{C_{1} C_{2} C_{3} R_{1} R_{2} R_{3}} - \\frac{9 \\left(C_{2} + C_{3}\\right) \\left(R_{2} + R_{3}\\right)}{C_{1}^{2} C_{2} C_{3} R_{2}^{2} R_{3}^{2}} + \\frac{2 \\left(R_{2} + R_{3}\\right)^{3}}{C_{1}^{3} R_{2}^{3} R_{3}^{3}}\\right)^{2}}}{2} + \\frac{27}{2 C_{1} C_{2} C_{3} R_{1} R_{2} R_{3}} - \\frac{9 \\left(C_{2} + C_{3}\\right) \\left(R_{2} + R_{3}\\right)}{2 C_{1}^{2} C_{2} C_{3} R_{2}^{2} R_{3}^{2}} + \\frac{\\left(R_{2} + R_{3}\\right)^{3}}{C_{1}^{3} R_{2}^{3} R_{3}^{3}}}} - \\frac{\\sqrt[3]{\\frac{\\sqrt{- 4 \\left(- \\frac{3 \\left(C_{2} + C_{3}\\right)}{C_{1} C_{2} C_{3} R_{2} R_{3}} + \\frac{\\left(R_{2} + R_{3}\\right)^{2}}{C_{1}^{2} R_{2}^{2} R_{3}^{2}}\\right)^{3} + \\left(\\frac{27}{C_{1} C_{2} C_{3} R_{1} R_{2} R_{3}} - \\frac{9 \\left(C_{2} + C_{3}\\right) \\left(R_{2} + R_{3}\\right)}{C_{1}^{2} C_{2} C_{3} R_{2}^{2} R_{3}^{2}} + \\frac{2 \\left(R_{2} + R_{3}\\right)^{3}}{C_{1}^{3} R_{2}^{3} R_{3}^{3}}\\right)^{2}}}{2} + \\frac{27}{2 C_{1} C_{2} C_{3} R_{1} R_{2} R_{3}} - \\frac{9 \\left(C_{2} + C_{3}\\right) \\left(R_{2} + R_{3}\\right)}{2 C_{1}^{2} C_{2} C_{3} R_{2}^{2} R_{3}^{2}} + \\frac{\\left(R_{2} + R_{3}\\right)^{3}}{C_{1}^{3} R_{2}^{3} R_{3}^{3}}}}{3} - \\frac{R_{2} + R_{3}}{3 C_{1} R_{2} R_{3}}$"
      ],
      "text/plain": [
       "                                                                              \n",
       "                                                                              \n",
       "                                                                              \n",
       "                                                                              \n",
       "                                                                              \n",
       "                                                                              \n",
       "                                                                              \n",
       "                                                                              \n",
       "                                                                              \n",
       "                                                                              \n",
       "                                                                              \n",
       "- ────────────────────────────────────────────────────────────────────────────\n",
       "               _______________________________________________________________\n",
       "              ╱        _______________________________________________________\n",
       "             ╱        ╱                                     3                 \n",
       "            ╱        ╱      ⎛                             2⎞    ⎛             \n",
       "           ╱        ╱       ⎜   3⋅(C₂ + C₃)      (R₂ + R₃) ⎟    ⎜        27   \n",
       "          ╱        ╱    - 4⋅⎜- ────────────── + ───────────⎟  + ⎜─────────────\n",
       "         ╱        ╱         ⎜  C₁⋅C₂⋅C₃⋅R₂⋅R₃     2   2   2⎟    ⎜C₁⋅C₂⋅C₃⋅R₁⋅R\n",
       "        ╱       ╲╱          ⎝                   C₁ ⋅R₂ ⋅R₃ ⎠    ⎝             \n",
       "  3⋅   ╱        ──────────────────────────────────────────────────────────────\n",
       "    3 ╱                                                              2        \n",
       "    ╲╱                                                                        \n",
       "\n",
       "                                                                              \n",
       "                                                                              \n",
       "                                                                              \n",
       "                                                                              \n",
       "                                                                              \n",
       "                                                                              \n",
       "                              2                                               \n",
       "    3⋅(C₂ + C₃)      (R₂ + R₃)                                                \n",
       " - ────────────── + ───────────                                               \n",
       "   C₁⋅C₂⋅C₃⋅R₂⋅R₃     2   2   2                                               \n",
       "                    C₁ ⋅R₂ ⋅R₃                                                \n",
       "──────────────────────────────────────────────────────────────────────────────\n",
       "______________________________________________________________________________\n",
       "______________________________________________                                \n",
       "                                            2                                 \n",
       "                                          3⎞                                  \n",
       "       9⋅(C₂ + C₃)⋅(R₂ + R₃)   2⋅(R₂ + R₃) ⎟                                  \n",
       "──── - ───────────────────── + ────────────⎟                                  \n",
       "₂⋅R₃       2         2   2       3   3   3 ⎟                                  \n",
       "         C₁ ⋅C₂⋅C₃⋅R₂ ⋅R₃      C₁ ⋅R₂ ⋅R₃  ⎠              27           9⋅(C₂ +\n",
       "────────────────────────────────────────────── + ─────────────────── - ───────\n",
       "                                                 2⋅C₁⋅C₂⋅C₃⋅R₁⋅R₂⋅R₃        2 \n",
       "                                                                        2⋅C₁ ⋅\n",
       "\n",
       "                                           ___________________________________\n",
       "                                          ╱        ___________________________\n",
       "                                         ╱        ╱                           \n",
       "                                        ╱        ╱      ⎛                     \n",
       "                                       ╱        ╱       ⎜   3⋅(C₂ + C₃)      (\n",
       "                                      ╱        ╱    - 4⋅⎜- ────────────── + ──\n",
       "                                     ╱        ╱         ⎜  C₁⋅C₂⋅C₃⋅R₂⋅R₃     \n",
       "                                    ╱       ╲╱          ⎝                   C₁\n",
       "                                   ╱        ──────────────────────────────────\n",
       "                                3 ╱                                           \n",
       "                                ╲╱                                            \n",
       "───────────────────────────── - ──────────────────────────────────────────────\n",
       "_____________________________                                                 \n",
       "                                                                              \n",
       "                                                                              \n",
       "                                                                              \n",
       "                                                                              \n",
       "                                                                              \n",
       "                           3                                                  \n",
       " C₃)⋅(R₂ + R₃)    (R₂ + R₃)                                                   \n",
       "────────────── + ───────────                                                  \n",
       "        2   2      3   3   3                                                  \n",
       "C₂⋅C₃⋅R₂ ⋅R₃     C₁ ⋅R₂ ⋅R₃                                                   \n",
       "\n",
       "______________________________________________________________________________\n",
       "__________________________________________________________________________    \n",
       "          3                                                             2     \n",
       "        2⎞    ⎛                                                       3⎞      \n",
       "R₂ + R₃) ⎟    ⎜        27          9⋅(C₂ + C₃)⋅(R₂ + R₃)   2⋅(R₂ + R₃) ⎟      \n",
       "─────────⎟  + ⎜───────────────── - ───────────────────── + ────────────⎟      \n",
       "2   2   2⎟    ⎜C₁⋅C₂⋅C₃⋅R₁⋅R₂⋅R₃       2         2   2       3   3   3 ⎟      \n",
       " ⋅R₂ ⋅R₃ ⎠    ⎝                      C₁ ⋅C₂⋅C₃⋅R₂ ⋅R₃      C₁ ⋅R₂ ⋅R₃  ⎠      \n",
       "────────────────────────────────────────────────────────────────────────── + ─\n",
       "                   2                                                         2\n",
       "                                                                              \n",
       "──────────────────────────────────────────────────────────────────────────────\n",
       "                                            3                                 \n",
       "                                                                              \n",
       "                                                                              \n",
       "                                                                              \n",
       "                                                                              \n",
       "                                                                              \n",
       "                                                                              \n",
       "                                                                              \n",
       "                                                                              \n",
       "                                                                              \n",
       "                                                                              \n",
       "\n",
       "_________________________________________________________             \n",
       "                                                                      \n",
       "                                                                      \n",
       "                                                                      \n",
       "                                                                      \n",
       "                                                                      \n",
       "                                                       3              \n",
       "        27           9⋅(C₂ + C₃)⋅(R₂ + R₃)    (R₂ + R₃)               \n",
       "────────────────── - ───────────────────── + ───────────              \n",
       "⋅C₁⋅C₂⋅C₃⋅R₁⋅R₂⋅R₃        2         2   2      3   3   3              \n",
       "                      2⋅C₁ ⋅C₂⋅C₃⋅R₂ ⋅R₃     C₁ ⋅R₂ ⋅R₃      R₂ + R₃  \n",
       "───────────────────────────────────────────────────────── - ──────────\n",
       "                                                            3⋅C₁⋅R₂⋅R₃\n",
       "                                                                      \n",
       "                                                                      \n",
       "                                                                      \n",
       "                                                                      \n",
       "                                                                      \n",
       "                                                                      \n",
       "                                                                      \n",
       "                                                                      \n",
       "                                                                      \n",
       "                                                                      "
      ]
     },
     "execution_count": 27,
     "metadata": {},
     "output_type": "execute_result"
    }
   ],
   "source": [
    "H_sym_P0 = H_sym_poles[0]\n",
    "H_sym_P0"
   ]
  },
  {
   "cell_type": "markdown",
   "id": "4c2855b0-b36f-46ce-8211-03c5f59f9b83",
   "metadata": {},
   "source": [
    "comment"
   ]
  },
  {
   "cell_type": "code",
   "execution_count": 28,
   "id": "597cc5f8-9c75-4a96-971d-535863ee8e4a",
   "metadata": {},
   "outputs": [
    {
     "name": "stdout",
     "output_type": "stream",
     "text": [
      "P0: -1061.03Hz\n"
     ]
    }
   ],
   "source": [
    "print('P0: {:.2f}Hz'.format(N(H_sym_P0.subs(nominal_component_value))/(2*np.pi)))"
   ]
  },
  {
   "cell_type": "code",
   "execution_count": 29,
   "id": "d990ab3c-aeda-4e2a-8fc0-5c41ab74e829",
   "metadata": {},
   "outputs": [
    {
     "name": "stdout",
     "output_type": "stream",
     "text": [
      "the sensitivity of P0 to R1 is: -0.49\n"
     ]
    }
   ],
   "source": [
    "S_R1_H_sym_P0 = (R1/H_sym_P0)*(H_sym_P0.diff(R1))\n",
    "print('the sensitivity of P0 to R1 is: {:.2f}'.format(N(S_R1_H_sym_P0.subs(nominal_component_value))))"
   ]
  },
  {
   "cell_type": "code",
   "execution_count": 30,
   "id": "56ffaa60-2227-49ad-9e5e-8dfbd965f042",
   "metadata": {},
   "outputs": [
    {
     "name": "stdout",
     "output_type": "stream",
     "text": [
      "the sensitivity of P0 to R1 is: 0.00\n"
     ]
    }
   ],
   "source": [
    "S_R2_H_sym_P0 = (R2/H_sym_P0)*(H_sym_P0.diff(R2))\n",
    "print('the sensitivity of P0 to R1 is: {:.2f}'.format(N(S_R2_H_sym_P0.subs(nominal_component_value))))"
   ]
  },
  {
   "cell_type": "code",
   "execution_count": 31,
   "id": "026318b3-df07-4632-a544-ac89c853e852",
   "metadata": {},
   "outputs": [
    {
     "name": "stdout",
     "output_type": "stream",
     "text": [
      "the sensitivity of P0 to R3 is: -0.51\n"
     ]
    }
   ],
   "source": [
    "S_R3_H_sym_P0 = (R3/H_sym_P0)*(H_sym_P0.diff(R3))\n",
    "print('the sensitivity of P0 to R3 is: {:.2f}'.format(N(S_R3_H_sym_P0.subs(nominal_component_value))))"
   ]
  },
  {
   "cell_type": "code",
   "execution_count": 32,
   "id": "8c64678e-da98-4624-8037-1beeb233d89a",
   "metadata": {},
   "outputs": [
    {
     "name": "stdout",
     "output_type": "stream",
     "text": [
      "the sensitivity of P0 to C1 is: -0.55\n"
     ]
    }
   ],
   "source": [
    "S_C1_H_sym_P0 = (C1/H_sym_P0)*(H_sym_P0.diff(C1))\n",
    "print('the sensitivity of P0 to C1 is: {:.2f}'.format(N(S_C1_H_sym_P0.subs(nominal_component_value))))"
   ]
  },
  {
   "cell_type": "code",
   "execution_count": 33,
   "id": "d30e925e-deec-44ce-8a78-e0ea01c284ea",
   "metadata": {},
   "outputs": [
    {
     "name": "stdout",
     "output_type": "stream",
     "text": [
      "the sensitivity of P0 to C21 is: -0.00\n"
     ]
    }
   ],
   "source": [
    "S_C2_H_sym_P0 = (C2/H_sym_P0)*(H_sym_P0.diff(C2))\n",
    "print('the sensitivity of P0 to C21 is: {:.2f}'.format(N(S_C2_H_sym_P0.subs(nominal_component_value))))"
   ]
  },
  {
   "cell_type": "code",
   "execution_count": 34,
   "id": "869502a8-6061-43c4-b63e-2d248a6d2be3",
   "metadata": {},
   "outputs": [
    {
     "name": "stdout",
     "output_type": "stream",
     "text": [
      "the sensitivity of P0 to C3 is: -0.45\n"
     ]
    }
   ],
   "source": [
    "S_C3_H_sym_P0 = (C3/H_sym_P0)*(H_sym_P0.diff(C3))\n",
    "print('the sensitivity of P0 to C3 is: {:.2f}'.format(N(S_C3_H_sym_P0.subs(nominal_component_value))))"
   ]
  },
  {
   "cell_type": "markdown",
   "id": "9047994a-8d55-4ca6-bcad-32f7cd01b847",
   "metadata": {},
   "source": [
    "#### P1\n",
    "The second pole is:"
   ]
  },
  {
   "cell_type": "code",
   "execution_count": 35,
   "id": "7ab80caf-be91-4a98-ad42-f152210de0c1",
   "metadata": {},
   "outputs": [
    {
     "data": {
      "image/png": "[encoded data removed]",
      "text/latex": [
       "$\\displaystyle - \\frac{- \\frac{3 \\left(C_{2} + C_{3}\\right)}{C_{1} C_{2} C_{3} R_{2} R_{3}} + \\frac{\\left(R_{2} + R_{3}\\right)^{2}}{C_{1}^{2} R_{2}^{2} R_{3}^{2}}}{3 \\left(- \\frac{1}{2} - \\frac{\\sqrt{3} i}{2}\\right) \\sqrt[3]{\\frac{\\sqrt{- 4 \\left(- \\frac{3 \\left(C_{2} + C_{3}\\right)}{C_{1} C_{2} C_{3} R_{2} R_{3}} + \\frac{\\left(R_{2} + R_{3}\\right)^{2}}{C_{1}^{2} R_{2}^{2} R_{3}^{2}}\\right)^{3} + \\left(\\frac{27}{C_{1} C_{2} C_{3} R_{1} R_{2} R_{3}} - \\frac{9 \\left(C_{2} + C_{3}\\right) \\left(R_{2} + R_{3}\\right)}{C_{1}^{2} C_{2} C_{3} R_{2}^{2} R_{3}^{2}} + \\frac{2 \\left(R_{2} + R_{3}\\right)^{3}}{C_{1}^{3} R_{2}^{3} R_{3}^{3}}\\right)^{2}}}{2} + \\frac{27}{2 C_{1} C_{2} C_{3} R_{1} R_{2} R_{3}} - \\frac{9 \\left(C_{2} + C_{3}\\right) \\left(R_{2} + R_{3}\\right)}{2 C_{1}^{2} C_{2} C_{3} R_{2}^{2} R_{3}^{2}} + \\frac{\\left(R_{2} + R_{3}\\right)^{3}}{C_{1}^{3} R_{2}^{3} R_{3}^{3}}}} - \\frac{\\left(- \\frac{1}{2} - \\frac{\\sqrt{3} i}{2}\\right) \\sqrt[3]{\\frac{\\sqrt{- 4 \\left(- \\frac{3 \\left(C_{2} + C_{3}\\right)}{C_{1} C_{2} C_{3} R_{2} R_{3}} + \\frac{\\left(R_{2} + R_{3}\\right)^{2}}{C_{1}^{2} R_{2}^{2} R_{3}^{2}}\\right)^{3} + \\left(\\frac{27}{C_{1} C_{2} C_{3} R_{1} R_{2} R_{3}} - \\frac{9 \\left(C_{2} + C_{3}\\right) \\left(R_{2} + R_{3}\\right)}{C_{1}^{2} C_{2} C_{3} R_{2}^{2} R_{3}^{2}} + \\frac{2 \\left(R_{2} + R_{3}\\right)^{3}}{C_{1}^{3} R_{2}^{3} R_{3}^{3}}\\right)^{2}}}{2} + \\frac{27}{2 C_{1} C_{2} C_{3} R_{1} R_{2} R_{3}} - \\frac{9 \\left(C_{2} + C_{3}\\right) \\left(R_{2} + R_{3}\\right)}{2 C_{1}^{2} C_{2} C_{3} R_{2}^{2} R_{3}^{2}} + \\frac{\\left(R_{2} + R_{3}\\right)^{3}}{C_{1}^{3} R_{2}^{3} R_{3}^{3}}}}{3} - \\frac{R_{2} + R_{3}}{3 C_{1} R_{2} R_{3}}$"
      ],
      "text/plain": [
       "                                                                              \n",
       "                                                                              \n",
       "                                                                              \n",
       "                                                                              \n",
       "                                                                              \n",
       "                                                                              \n",
       "                                                                              \n",
       "                                                                              \n",
       "                                                                              \n",
       "                                                                              \n",
       "                                                                              \n",
       "- ────────────────────────────────────────────────────────────────────────────\n",
       "                            __________________________________________________\n",
       "                           ╱        __________________________________________\n",
       "                          ╱        ╱                                     3    \n",
       "                         ╱        ╱      ⎛                             2⎞    ⎛\n",
       "                        ╱        ╱       ⎜   3⋅(C₂ + C₃)      (R₂ + R₃) ⎟    ⎜\n",
       "                       ╱        ╱    - 4⋅⎜- ────────────── + ───────────⎟  + ⎜\n",
       "                      ╱        ╱         ⎜  C₁⋅C₂⋅C₃⋅R₂⋅R₃     2   2   2⎟    ⎜\n",
       "    ⎛  1   √3⋅ⅈ⎞     ╱       ╲╱          ⎝                   C₁ ⋅R₂ ⋅R₃ ⎠    ⎝\n",
       "  3⋅⎜- ─ - ────⎟⋅   ╱        ─────────────────────────────────────────────────\n",
       "    ⎝  2    2  ⎠ 3 ╱                                                          \n",
       "                 ╲╱                                                           \n",
       "\n",
       "                                                                              \n",
       "                                                                              \n",
       "                                                                              \n",
       "                                                                              \n",
       "                                                                              \n",
       "                                                                              \n",
       "                                    2                                         \n",
       "          3⋅(C₂ + C₃)      (R₂ + R₃)                                          \n",
       "       - ────────────── + ───────────                                         \n",
       "         C₁⋅C₂⋅C₃⋅R₂⋅R₃     2   2   2                                         \n",
       "                          C₁ ⋅R₂ ⋅R₃                                          \n",
       "──────────────────────────────────────────────────────────────────────────────\n",
       "______________________________________________________________________________\n",
       "___________________________________________________________                   \n",
       "                                                         2                    \n",
       "                                                       3⎞                     \n",
       "        27          9⋅(C₂ + C₃)⋅(R₂ + R₃)   2⋅(R₂ + R₃) ⎟                     \n",
       "───────────────── - ───────────────────── + ────────────⎟                     \n",
       "C₁⋅C₂⋅C₃⋅R₁⋅R₂⋅R₃       2         2   2       3   3   3 ⎟                     \n",
       "                      C₁ ⋅C₂⋅C₃⋅R₂ ⋅R₃      C₁ ⋅R₂ ⋅R₃  ⎠              27     \n",
       "─────────────────────────────────────────────────────────── + ────────────────\n",
       "    2                                                         2⋅C₁⋅C₂⋅C₃⋅R₁⋅R₂\n",
       "                                                                              \n",
       "\n",
       "                                                                     _________\n",
       "                                                                    ╱        _\n",
       "                                                                   ╱        ╱ \n",
       "                                                                  ╱        ╱  \n",
       "                                                                 ╱        ╱   \n",
       "                                                                ╱        ╱    \n",
       "                                                               ╱        ╱     \n",
       "                                             ⎛  1   √3⋅ⅈ⎞     ╱       ╲╱      \n",
       "                                             ⎜- ─ - ────⎟⋅   ╱        ────────\n",
       "                                             ⎝  2    2  ⎠ 3 ╱                 \n",
       "                                                          ╲╱                  \n",
       "────────────────────────────────────────── - ─────────────────────────────────\n",
       "__________________________________________                                    \n",
       "                                                                              \n",
       "                                                                              \n",
       "                                                                              \n",
       "                                                                              \n",
       "                                                                              \n",
       "                                        3                                     \n",
       "      9⋅(C₂ + C₃)⋅(R₂ + R₃)    (R₂ + R₃)                                      \n",
       "─── - ───────────────────── + ───────────                                     \n",
       "⋅R₃        2         2   2      3   3   3                                     \n",
       "       2⋅C₁ ⋅C₂⋅C₃⋅R₂ ⋅R₃     C₁ ⋅R₂ ⋅R₃                                      \n",
       "\n",
       "______________________________________________________________________________\n",
       "______________________________________________________________________________\n",
       "                                    3                                         \n",
       "    ⎛                             2⎞    ⎛                                     \n",
       "    ⎜   3⋅(C₂ + C₃)      (R₂ + R₃) ⎟    ⎜        27          9⋅(C₂ + C₃)⋅(R₂ +\n",
       "- 4⋅⎜- ────────────── + ───────────⎟  + ⎜───────────────── - ─────────────────\n",
       "    ⎜  C₁⋅C₂⋅C₃⋅R₂⋅R₃     2   2   2⎟    ⎜C₁⋅C₂⋅C₃⋅R₁⋅R₂⋅R₃       2         2  \n",
       "    ⎝                   C₁ ⋅R₂ ⋅R₃ ⎠    ⎝                      C₁ ⋅C₂⋅C₃⋅R₂ ⋅R\n",
       "──────────────────────────────────────────────────────────────────────────────\n",
       "                                             2                                \n",
       "                                                                              \n",
       "──────────────────────────────────────────────────────────────────────────────\n",
       "                                                               3              \n",
       "                                                                              \n",
       "                                                                              \n",
       "                                                                              \n",
       "                                                                              \n",
       "                                                                              \n",
       "                                                                              \n",
       "                                                                              \n",
       "                                                                              \n",
       "                                                                              \n",
       "                                                                              \n",
       "\n",
       "______________________________________________________________________________\n",
       "______________________                                                        \n",
       "                    2                                                         \n",
       "                  3⎞                                                          \n",
       " R₃)   2⋅(R₂ + R₃) ⎟                                                          \n",
       "──── + ────────────⎟                                                          \n",
       " 2       3   3   3 ⎟                                                          \n",
       "₃      C₁ ⋅R₂ ⋅R₃  ⎠              27           9⋅(C₂ + C₃)⋅(R₂ + R₃)    (R₂ + \n",
       "────────────────────── + ─────────────────── - ───────────────────── + ───────\n",
       "                         2⋅C₁⋅C₂⋅C₃⋅R₁⋅R₂⋅R₃        2         2   2      3   3\n",
       "                                                2⋅C₁ ⋅C₂⋅C₃⋅R₂ ⋅R₃     C₁ ⋅R₂ \n",
       "──────────────────────────────────────────────────────────────────────────────\n",
       "                                                                              \n",
       "                                                                              \n",
       "                                                                              \n",
       "                                                                              \n",
       "                                                                              \n",
       "                                                                              \n",
       "                                                                              \n",
       "                                                                              \n",
       "                                                                              \n",
       "                                                                              \n",
       "                                                                              \n",
       "\n",
       "_____             \n",
       "                  \n",
       "                  \n",
       "                  \n",
       "                  \n",
       "                  \n",
       "   3              \n",
       "R₃)               \n",
       "────              \n",
       "   3              \n",
       "⋅R₃      R₂ + R₃  \n",
       "───── - ──────────\n",
       "        3⋅C₁⋅R₂⋅R₃\n",
       "                  \n",
       "                  \n",
       "                  \n",
       "                  \n",
       "                  \n",
       "                  \n",
       "                  \n",
       "                  \n",
       "                  \n",
       "                  "
      ]
     },
     "execution_count": 35,
     "metadata": {},
     "output_type": "execute_result"
    }
   ],
   "source": [
    "H_sym_P1 = H_sym_poles[1]\n",
    "H_sym_P1"
   ]
  },
  {
   "cell_type": "markdown",
   "id": "bd60a6af-f76d-4abb-97cc-40d352c141c0",
   "metadata": {},
   "source": [
    "The pole P1 evaluates to a frequency near DC."
   ]
  },
  {
   "cell_type": "code",
   "execution_count": 36,
   "id": "e07a6a60-da79-4c59-ba2d-bc8e315625f3",
   "metadata": {},
   "outputs": [
    {
     "name": "stdout",
     "output_type": "stream",
     "text": [
      "P1: 998.84Hz\n"
     ]
    }
   ],
   "source": [
    "#print('P1: {:.2f}Hz'.format(N(H_sym_P1.subs(nominal_component_value))/(2*np.pi)))\n",
    "print('P1: {:.2f}Hz'.format(abs(N(H_sym_P1.subs(nominal_component_value))/(2*np.pi))))"
   ]
  },
  {
   "cell_type": "code",
   "execution_count": 37,
   "id": "b50270ad-6d2d-4fe6-8d20-fd4b91fe7650",
   "metadata": {},
   "outputs": [
    {
     "name": "stdout",
     "output_type": "stream",
     "text": [
      "the sensitivity of P1 to R1 is: 0.37\n"
     ]
    }
   ],
   "source": [
    "S_R1_H_sym_P1 = (R1/H_sym_P1)*(H_sym_P1.diff(R1))\n",
    "print('the sensitivity of P1 to R1 is: {:.2f}'.format(abs(N(S_R1_H_sym_P1.subs(nominal_component_value)))))"
   ]
  },
  {
   "cell_type": "code",
   "execution_count": 38,
   "id": "b4409086-446d-4eb7-80a4-38c86f272dcb",
   "metadata": {},
   "outputs": [
    {
     "name": "stdout",
     "output_type": "stream",
     "text": [
      "the sensitivity of P1 to R2 is: 0.50\n"
     ]
    }
   ],
   "source": [
    "S_R2_H_sym_P1 = (R2/H_sym_P1)*(H_sym_P1.diff(R2))\n",
    "print('the sensitivity of P1 to R2 is: {:.2f}'.format(abs(N(S_R2_H_sym_P1.subs(nominal_component_value)))))"
   ]
  },
  {
   "cell_type": "code",
   "execution_count": 39,
   "id": "eabeb91b-f592-4d4c-9f7f-8984017c8d9b",
   "metadata": {},
   "outputs": [
    {
     "name": "stdout",
     "output_type": "stream",
     "text": [
      "the sensitivity of P1 to R3 is: 0.35\n"
     ]
    }
   ],
   "source": [
    "S_R3_H_sym_P1 = (R3/H_sym_P1)*(H_sym_P1.diff(R3))\n",
    "print('the sensitivity of P1 to R3 is: {:.2f}'.format(abs(N(S_R3_H_sym_P1.subs(nominal_component_value)))))"
   ]
  },
  {
   "cell_type": "code",
   "execution_count": null,
   "id": "87a3ca31-861e-41d1-8858-ef17df7018eb",
   "metadata": {},
   "outputs": [],
   "source": []
  },
  {
   "cell_type": "code",
   "execution_count": 40,
   "id": "37c8ad6c-8390-4c74-aeb0-ed0bbfdcfc28",
   "metadata": {},
   "outputs": [
    {
     "name": "stdout",
     "output_type": "stream",
     "text": [
      "the sensitivity of P1 to C1 is: 0.35\n"
     ]
    }
   ],
   "source": [
    "S_C1_H_sym_P1 = (C1/H_sym_P1)*(H_sym_P1.diff(C1))\n",
    "print('the sensitivity of P1 to C1 is: {:.2f}'.format(abs(N(S_C1_H_sym_P1.subs(nominal_component_value)))))"
   ]
  },
  {
   "cell_type": "code",
   "execution_count": 41,
   "id": "829c12d8-9b94-4467-a629-18cc3f169ffa",
   "metadata": {},
   "outputs": [
    {
     "name": "stdout",
     "output_type": "stream",
     "text": [
      "the sensitivity of P1 to C2 is: 0.50\n"
     ]
    }
   ],
   "source": [
    "S_C2_H_sym_P1 = (C2/H_sym_P1)*(H_sym_P1.diff(C2))\n",
    "print('the sensitivity of P1 to C2 is: {:.2f}'.format(abs(N(S_C2_H_sym_P1.subs(nominal_component_value)))))"
   ]
  },
  {
   "cell_type": "code",
   "execution_count": 42,
   "id": "82e4b25a-bfea-4aa9-94db-4f6321ec11ea",
   "metadata": {},
   "outputs": [
    {
     "name": "stdout",
     "output_type": "stream",
     "text": [
      "the sensitivity of P1 to C3 is: 0.37\n"
     ]
    }
   ],
   "source": [
    "S_C3_H_sym_P1 = (C3/H_sym_P1)*(H_sym_P1.diff(C3))\n",
    "print('the sensitivity of P1 to C3 is: {:.2f}'.format(abs(N(S_C3_H_sym_P1.subs(nominal_component_value)))))"
   ]
  },
  {
   "cell_type": "markdown",
   "id": "1fc34e0d-81e5-40aa-a89a-952d8cccee48",
   "metadata": {},
   "source": [
    "#### P2\n",
    "The 3rd pole is:"
   ]
  },
  {
   "cell_type": "code",
   "execution_count": 43,
   "id": "f9537526-7932-4240-b64e-5332a62e5385",
   "metadata": {},
   "outputs": [
    {
     "data": {
      "image/png": "[encoded data removed]",
      "text/latex": [
       "$\\displaystyle - \\frac{- \\frac{3 \\left(C_{2} + C_{3}\\right)}{C_{1} C_{2} C_{3} R_{2} R_{3}} + \\frac{\\left(R_{2} + R_{3}\\right)^{2}}{C_{1}^{2} R_{2}^{2} R_{3}^{2}}}{3 \\left(- \\frac{1}{2} + \\frac{\\sqrt{3} i}{2}\\right) \\sqrt[3]{\\frac{\\sqrt{- 4 \\left(- \\frac{3 \\left(C_{2} + C_{3}\\right)}{C_{1} C_{2} C_{3} R_{2} R_{3}} + \\frac{\\left(R_{2} + R_{3}\\right)^{2}}{C_{1}^{2} R_{2}^{2} R_{3}^{2}}\\right)^{3} + \\left(\\frac{27}{C_{1} C_{2} C_{3} R_{1} R_{2} R_{3}} - \\frac{9 \\left(C_{2} + C_{3}\\right) \\left(R_{2} + R_{3}\\right)}{C_{1}^{2} C_{2} C_{3} R_{2}^{2} R_{3}^{2}} + \\frac{2 \\left(R_{2} + R_{3}\\right)^{3}}{C_{1}^{3} R_{2}^{3} R_{3}^{3}}\\right)^{2}}}{2} + \\frac{27}{2 C_{1} C_{2} C_{3} R_{1} R_{2} R_{3}} - \\frac{9 \\left(C_{2} + C_{3}\\right) \\left(R_{2} + R_{3}\\right)}{2 C_{1}^{2} C_{2} C_{3} R_{2}^{2} R_{3}^{2}} + \\frac{\\left(R_{2} + R_{3}\\right)^{3}}{C_{1}^{3} R_{2}^{3} R_{3}^{3}}}} - \\frac{\\left(- \\frac{1}{2} + \\frac{\\sqrt{3} i}{2}\\right) \\sqrt[3]{\\frac{\\sqrt{- 4 \\left(- \\frac{3 \\left(C_{2} + C_{3}\\right)}{C_{1} C_{2} C_{3} R_{2} R_{3}} + \\frac{\\left(R_{2} + R_{3}\\right)^{2}}{C_{1}^{2} R_{2}^{2} R_{3}^{2}}\\right)^{3} + \\left(\\frac{27}{C_{1} C_{2} C_{3} R_{1} R_{2} R_{3}} - \\frac{9 \\left(C_{2} + C_{3}\\right) \\left(R_{2} + R_{3}\\right)}{C_{1}^{2} C_{2} C_{3} R_{2}^{2} R_{3}^{2}} + \\frac{2 \\left(R_{2} + R_{3}\\right)^{3}}{C_{1}^{3} R_{2}^{3} R_{3}^{3}}\\right)^{2}}}{2} + \\frac{27}{2 C_{1} C_{2} C_{3} R_{1} R_{2} R_{3}} - \\frac{9 \\left(C_{2} + C_{3}\\right) \\left(R_{2} + R_{3}\\right)}{2 C_{1}^{2} C_{2} C_{3} R_{2}^{2} R_{3}^{2}} + \\frac{\\left(R_{2} + R_{3}\\right)^{3}}{C_{1}^{3} R_{2}^{3} R_{3}^{3}}}}{3} - \\frac{R_{2} + R_{3}}{3 C_{1} R_{2} R_{3}}$"
      ],
      "text/plain": [
       "                                                                              \n",
       "                                                                              \n",
       "                                                                              \n",
       "                                                                              \n",
       "                                                                              \n",
       "                                                                              \n",
       "                                                                              \n",
       "                                                                              \n",
       "                                                                              \n",
       "                                                                              \n",
       "                                                                              \n",
       "- ────────────────────────────────────────────────────────────────────────────\n",
       "                            __________________________________________________\n",
       "                           ╱        __________________________________________\n",
       "                          ╱        ╱                                     3    \n",
       "                         ╱        ╱      ⎛                             2⎞    ⎛\n",
       "                        ╱        ╱       ⎜   3⋅(C₂ + C₃)      (R₂ + R₃) ⎟    ⎜\n",
       "                       ╱        ╱    - 4⋅⎜- ────────────── + ───────────⎟  + ⎜\n",
       "                      ╱        ╱         ⎜  C₁⋅C₂⋅C₃⋅R₂⋅R₃     2   2   2⎟    ⎜\n",
       "    ⎛  1   √3⋅ⅈ⎞     ╱       ╲╱          ⎝                   C₁ ⋅R₂ ⋅R₃ ⎠    ⎝\n",
       "  3⋅⎜- ─ + ────⎟⋅   ╱        ─────────────────────────────────────────────────\n",
       "    ⎝  2    2  ⎠ 3 ╱                                                          \n",
       "                 ╲╱                                                           \n",
       "\n",
       "                                                                              \n",
       "                                                                              \n",
       "                                                                              \n",
       "                                                                              \n",
       "                                                                              \n",
       "                                                                              \n",
       "                                    2                                         \n",
       "          3⋅(C₂ + C₃)      (R₂ + R₃)                                          \n",
       "       - ────────────── + ───────────                                         \n",
       "         C₁⋅C₂⋅C₃⋅R₂⋅R₃     2   2   2                                         \n",
       "                          C₁ ⋅R₂ ⋅R₃                                          \n",
       "──────────────────────────────────────────────────────────────────────────────\n",
       "______________________________________________________________________________\n",
       "___________________________________________________________                   \n",
       "                                                         2                    \n",
       "                                                       3⎞                     \n",
       "        27          9⋅(C₂ + C₃)⋅(R₂ + R₃)   2⋅(R₂ + R₃) ⎟                     \n",
       "───────────────── - ───────────────────── + ────────────⎟                     \n",
       "C₁⋅C₂⋅C₃⋅R₁⋅R₂⋅R₃       2         2   2       3   3   3 ⎟                     \n",
       "                      C₁ ⋅C₂⋅C₃⋅R₂ ⋅R₃      C₁ ⋅R₂ ⋅R₃  ⎠              27     \n",
       "─────────────────────────────────────────────────────────── + ────────────────\n",
       "    2                                                         2⋅C₁⋅C₂⋅C₃⋅R₁⋅R₂\n",
       "                                                                              \n",
       "\n",
       "                                                                     _________\n",
       "                                                                    ╱        _\n",
       "                                                                   ╱        ╱ \n",
       "                                                                  ╱        ╱  \n",
       "                                                                 ╱        ╱   \n",
       "                                                                ╱        ╱    \n",
       "                                                               ╱        ╱     \n",
       "                                             ⎛  1   √3⋅ⅈ⎞     ╱       ╲╱      \n",
       "                                             ⎜- ─ + ────⎟⋅   ╱        ────────\n",
       "                                             ⎝  2    2  ⎠ 3 ╱                 \n",
       "                                                          ╲╱                  \n",
       "────────────────────────────────────────── - ─────────────────────────────────\n",
       "__________________________________________                                    \n",
       "                                                                              \n",
       "                                                                              \n",
       "                                                                              \n",
       "                                                                              \n",
       "                                                                              \n",
       "                                        3                                     \n",
       "      9⋅(C₂ + C₃)⋅(R₂ + R₃)    (R₂ + R₃)                                      \n",
       "─── - ───────────────────── + ───────────                                     \n",
       "⋅R₃        2         2   2      3   3   3                                     \n",
       "       2⋅C₁ ⋅C₂⋅C₃⋅R₂ ⋅R₃     C₁ ⋅R₂ ⋅R₃                                      \n",
       "\n",
       "______________________________________________________________________________\n",
       "______________________________________________________________________________\n",
       "                                    3                                         \n",
       "    ⎛                             2⎞    ⎛                                     \n",
       "    ⎜   3⋅(C₂ + C₃)      (R₂ + R₃) ⎟    ⎜        27          9⋅(C₂ + C₃)⋅(R₂ +\n",
       "- 4⋅⎜- ────────────── + ───────────⎟  + ⎜───────────────── - ─────────────────\n",
       "    ⎜  C₁⋅C₂⋅C₃⋅R₂⋅R₃     2   2   2⎟    ⎜C₁⋅C₂⋅C₃⋅R₁⋅R₂⋅R₃       2         2  \n",
       "    ⎝                   C₁ ⋅R₂ ⋅R₃ ⎠    ⎝                      C₁ ⋅C₂⋅C₃⋅R₂ ⋅R\n",
       "──────────────────────────────────────────────────────────────────────────────\n",
       "                                             2                                \n",
       "                                                                              \n",
       "──────────────────────────────────────────────────────────────────────────────\n",
       "                                                               3              \n",
       "                                                                              \n",
       "                                                                              \n",
       "                                                                              \n",
       "                                                                              \n",
       "                                                                              \n",
       "                                                                              \n",
       "                                                                              \n",
       "                                                                              \n",
       "                                                                              \n",
       "                                                                              \n",
       "\n",
       "______________________________________________________________________________\n",
       "______________________                                                        \n",
       "                    2                                                         \n",
       "                  3⎞                                                          \n",
       " R₃)   2⋅(R₂ + R₃) ⎟                                                          \n",
       "──── + ────────────⎟                                                          \n",
       " 2       3   3   3 ⎟                                                          \n",
       "₃      C₁ ⋅R₂ ⋅R₃  ⎠              27           9⋅(C₂ + C₃)⋅(R₂ + R₃)    (R₂ + \n",
       "────────────────────── + ─────────────────── - ───────────────────── + ───────\n",
       "                         2⋅C₁⋅C₂⋅C₃⋅R₁⋅R₂⋅R₃        2         2   2      3   3\n",
       "                                                2⋅C₁ ⋅C₂⋅C₃⋅R₂ ⋅R₃     C₁ ⋅R₂ \n",
       "──────────────────────────────────────────────────────────────────────────────\n",
       "                                                                              \n",
       "                                                                              \n",
       "                                                                              \n",
       "                                                                              \n",
       "                                                                              \n",
       "                                                                              \n",
       "                                                                              \n",
       "                                                                              \n",
       "                                                                              \n",
       "                                                                              \n",
       "                                                                              \n",
       "\n",
       "_____             \n",
       "                  \n",
       "                  \n",
       "                  \n",
       "                  \n",
       "                  \n",
       "   3              \n",
       "R₃)               \n",
       "────              \n",
       "   3              \n",
       "⋅R₃      R₂ + R₃  \n",
       "───── - ──────────\n",
       "        3⋅C₁⋅R₂⋅R₃\n",
       "                  \n",
       "                  \n",
       "                  \n",
       "                  \n",
       "                  \n",
       "                  \n",
       "                  \n",
       "                  \n",
       "                  \n",
       "                  "
      ]
     },
     "execution_count": 43,
     "metadata": {},
     "output_type": "execute_result"
    }
   ],
   "source": [
    "H_sym_P2 = H_sym_poles[2]\n",
    "H_sym_P2"
   ]
  },
  {
   "cell_type": "code",
   "execution_count": 44,
   "id": "23bda1b9-5e14-4d09-b50e-1d32f9eb532d",
   "metadata": {},
   "outputs": [
    {
     "name": "stdout",
     "output_type": "stream",
     "text": [
      "the components that determine P2 are: {C3, R1, C1, R3, R2, C2} \n"
     ]
    }
   ],
   "source": [
    "print('the components that determine P2 are: {:s} '.format(str(H_sym_P2.free_symbols)))"
   ]
  },
  {
   "cell_type": "code",
   "execution_count": 45,
   "id": "60d95265-ec3e-45e7-af06-93ce4566f1b8",
   "metadata": {},
   "outputs": [
    {
     "name": "stdout",
     "output_type": "stream",
     "text": [
      "P2: 998.84Hz\n"
     ]
    }
   ],
   "source": [
    "print('P2: {:.2f}Hz'.format(abs(N(H_sym_P2.subs(nominal_component_value))/(2*np.pi))))"
   ]
  },
  {
   "cell_type": "code",
   "execution_count": 46,
   "id": "9c50c724-87c9-4468-af76-d32bd8143a4f",
   "metadata": {},
   "outputs": [
    {
     "name": "stdout",
     "output_type": "stream",
     "text": [
      "the sensitivity of P2 to R1 is: 0.37\n"
     ]
    }
   ],
   "source": [
    "S_R1_H_sym_P2 = (R1/H_sym_P2)*(H_sym_P2.diff(R1))\n",
    "print('the sensitivity of P2 to R1 is: {:.2f}'.format(abs(N(S_R1_H_sym_P2.subs(nominal_component_value)))))"
   ]
  },
  {
   "cell_type": "code",
   "execution_count": 47,
   "id": "a103af2b-54ee-406d-a04d-e9d55df476b1",
   "metadata": {},
   "outputs": [
    {
     "name": "stdout",
     "output_type": "stream",
     "text": [
      "the sensitivity of P2 to R2 is: 0.50\n"
     ]
    }
   ],
   "source": [
    "S_R2_H_sym_P2 = (R2/H_sym_P2)*(H_sym_P2.diff(R2))\n",
    "print('the sensitivity of P2 to R2 is: {:.2f}'.format(abs(N(S_R2_H_sym_P2.subs(nominal_component_value)))))"
   ]
  },
  {
   "cell_type": "code",
   "execution_count": 48,
   "id": "c70019cf-d083-491c-9ea5-ca97edaaa9d7",
   "metadata": {},
   "outputs": [
    {
     "name": "stdout",
     "output_type": "stream",
     "text": [
      "the sensitivity of P2 to R3 is: 0.35\n"
     ]
    }
   ],
   "source": [
    "S_R3_H_sym_P2 = (R3/H_sym_P2)*(H_sym_P2.diff(R3))\n",
    "print('the sensitivity of P2 to R3 is: {:.2f}'.format(abs(N(S_R3_H_sym_P2.subs(nominal_component_value)))))"
   ]
  },
  {
   "cell_type": "code",
   "execution_count": 49,
   "id": "982fa210-16e3-41c9-9a41-e6d233116dac",
   "metadata": {},
   "outputs": [
    {
     "name": "stdout",
     "output_type": "stream",
     "text": [
      "the sensitivity of P2 to C1 is: 0.35\n"
     ]
    }
   ],
   "source": [
    "S_C1_H_sym_P2 = (C1/H_sym_P2)*(H_sym_P2.diff(C1))\n",
    "print('the sensitivity of P2 to C1 is: {:.2f}'.format(abs(N(S_C1_H_sym_P2.subs(nominal_component_value)))))"
   ]
  },
  {
   "cell_type": "code",
   "execution_count": 50,
   "id": "1094bffc-06a6-49e3-bd99-5bb74bd6d87d",
   "metadata": {},
   "outputs": [
    {
     "name": "stdout",
     "output_type": "stream",
     "text": [
      "the sensitivity of P2 to C2 is: 0.50\n"
     ]
    }
   ],
   "source": [
    "S_C2_H_sym_P2 = (C2/H_sym_P2)*(H_sym_P2.diff(C2))\n",
    "print('the sensitivity of P2 to C2 is: {:.2f}'.format(abs(N(S_C2_H_sym_P2.subs(nominal_component_value)))))"
   ]
  },
  {
   "cell_type": "code",
   "execution_count": 51,
   "id": "b6bf9461-8fde-497a-850f-469a6a64f2c9",
   "metadata": {},
   "outputs": [
    {
     "name": "stdout",
     "output_type": "stream",
     "text": [
      "the sensitivity of P2 to C3 is: 0.37\n"
     ]
    }
   ],
   "source": [
    "S_C3_H_sym_P2 = (C3/H_sym_P2)*(H_sym_P2.diff(C3))\n",
    "print('the sensitivity of P2 to C3 is: {:.2f}'.format(abs(N(S_C3_H_sym_P2.subs(nominal_component_value)))))"
   ]
  },
  {
   "cell_type": "code",
   "execution_count": 52,
   "id": "027a28fb-debd-4562-9647-9d33cdc5ddac",
   "metadata": {},
   "outputs": [
    {
     "data": {
      "text/latex": [
       "$\\displaystyle \\left\\{ C_{1} : 1.0 \\cdot 10^{-8}, \\  C_{2} : 9.1 \\cdot 10^{-10}, \\  C_{3} : 1.0 \\cdot 10^{-8}, \\  O_{1} : \\text{NaN}, \\  R_{1} : 15000.0, \\  R_{2} : 186000.0, \\  R_{3} : 15000.0, \\  V_{1} : 1.0\\right\\}$"
      ],
      "text/plain": [
       "{C₁: 1e-08, C₂: 9.1e-10, C₃: 1e-08, O₁: nan, R₁: 15000.0, R₂: 186000.0, R₃: 15\n",
       "000.0, V₁: 1.0}"
      ]
     },
     "execution_count": 52,
     "metadata": {},
     "output_type": "execute_result"
    }
   ],
   "source": [
    "nominal_component_value"
   ]
  },
  {
   "cell_type": "code",
   "execution_count": 53,
   "id": "1db91c16-cd43-4c56-b2a3-14b54afa02ac",
   "metadata": {},
   "outputs": [
    {
     "ename": "NameError",
     "evalue": "name 'stop' is not defined",
     "output_type": "error",
     "traceback": [
      "\u001b[0;31m---------------------------------------------------------------------------\u001b[0m",
      "\u001b[0;31mNameError\u001b[0m                                 Traceback (most recent call last)",
      "Cell \u001b[0;32mIn[53], line 1\u001b[0m\n\u001b[0;32m----> 1\u001b[0m \u001b[43mstop\u001b[49m\n",
      "\u001b[0;31mNameError\u001b[0m: name 'stop' is not defined"
     ]
    }
   ],
   "source": [
    "stop"
   ]
  },
  {
   "cell_type": "markdown",
   "id": "0bc06e12-1fbb-404f-bab3-907eb6061bb1",
   "metadata": {},
   "source": [
    "In the worst case analysis below, the components that have sensitivities greater than 0.05 are the ones that factor into the worst case analysis.\n",
    "\n",
    "## Monte Carlo Tolerance Analysis\n",
    "\n",
    "- use 1000kHz filter with values from table I\n",
    "\n",
    "\n",
    "### Component selection\n",
    "The table below lists each of the components used in the preamp along with a link to the [Digikey](https://www.digikey.com/) pages for each of the components in the preamp. Digikey is a larger distributor of electronic components in the US. All the components have operating temperature ranges that exceed the normal household environment.\n",
    "\n",
    "The resistors chosen are all 1% [Metal film](https://en.wikipedia.org/wiki/Resistor) type resistors. Metal film resistors possess good noise characteristics and low nonlinearity due to a low voltage coefficient. They are also beneficial due to long-term stability.\n",
    "\n",
    "The capacitors are all polypropylene [Film capacitor](https://en.wikipedia.org/wiki/Film_capacitor) types. Polystyrene or polypropylene are considered the best for audio applications.\n",
    "\n",
    "\n",
    "$R_1$ is implemented with a fixed 15k$\\Omega$ resistor\n",
    "\n",
    "$R_2$ is a fixed 100 k$\\Omega$ resistor in series with a 100 k$\\Omega$ potentiometer wired as a variable resistor.\n",
    "\n",
    "$R_3$ for each filter is a 20 k$\\Omega$ potentiometer wired as a variable resistor.\n",
    "\n",
    "| Ref | Value | Description | Digikey PN |\n",
    "|---|---|---|---|\n",
    "| R1 | 15k | ±1% 1/4W Metal Film | [RNF14FTD15K0](https://www.digikey.com/en/products/detail/stackpole-electronics-inc/RNF14FTD15K0/1706645) |\n",
    "| R2a | 150k | ±1% 1/4W Metal Film, 150 kOhms ±1% 0.25W, 1/4W Through Hole Resistor Axial Metal Film | [RNF14FTD100K](https://www.digikey.com/en/products/detail/yageo/MFR-25FRF52-150K/14631) |\n",
    "| R2b | 100k pot | 100 kOhms 0.25W, 1/4W PC Pins Through Hole Trimmer Potentiometer Cermet 12.0 Turn Top Adjustment, Temperature Coefficient ±150ppm/°C| [PV37W104C01B00](https://www.digikey.com/en/products/detail/bourns-inc/PV37W104C01B00/666598) |\n",
    "| R3 | 20k pot | 20 kOhms 0.25W, 1/4W PC Pins Through Hole Trimmer Potentiometer Cermet 12.0 Turn Top Adjustment, Temperature Coefficient ±150ppm/°C | [PV37W203C01B00](https://www.digikey.com/en/products/detail/bourns-inc/PV37W203C01B00/666603) |\n",
    "| C1, C3 | 10n | 2% Film Capacitor 25V 63V Polypropylene, CAP FILM 10000PF 5% 63VDC RADIAL, 10000 pF Film Capacitor 40V 63V Polypropylene (PP) Radial | [PFR5103J63J12L4BULK](https://www.digikey.com/en/products/detail/kemet/PFR5103J63J12L4BULK/3465888?s=N4IgjCBcoMxaBjKAzAhgGwM4FMA0IB7KAbRACYBWABjgF18AHAFyhAGUmAnASwDsBzEAF98ATiqj4IJJDRY8hEiBgAOFQHYYANhD0QzVhx4Dh%2BMGVFxo0lBhz4ikUmS1UtFCHoOR2XPoJFyKgAWSWsZOXtFJ3AqOKoAAgYAMV1GFh8AVV5uJgB5ZABZbFRMAFdObFMQAFoyKRkuMoVHUgpdIU6gA) |\n",
    "| C2 | 910p | CAP FILM 910PF 5% 630VDC RADIAL, 910 pF Film Capacitor 300V 630V Polypropylene (PP), Metallized Radial | [BFC237510911](https://www.digikey.com/en/products/detail/vishay-beyschlag-draloric-bc-components/BFC237510911/5363491?s=N4IgjCBcoJwAwyqAxlAZgQwDYGcCmANCAPZQDaIAzABzUDsALBALpEAOALlCAMocBOASwB2AcxABfIgCY4DRNBCpImXIRLkQMMHAAEbAGIhWITtwCqwwRwDyaALJ4MOAK788kogFppSJVAEXdVJICgBWYwkooA) |\n"
   ]
  },
  {
   "cell_type": "code",
   "execution_count": null,
   "id": "04b58b42-06e3-4d34-bf73-9229a857ac83",
   "metadata": {},
   "outputs": [],
   "source": []
  },
  {
   "cell_type": "markdown",
   "id": "e65fa98d-ab2a-4f3e-b2f6-7ab08d018fdb",
   "metadata": {},
   "source": [
    "The parts in this list are considered good choices for a first pass at the bill of materials. The size of the production run and the piece part cost are also factors which must be considered if the preamp is going to be built. One thing to notice is that Co, the 200 $\\mu$ F capacitor is expensive. The use of a polypropylene film capacitor for this component is consistent with the advice of keeping all capacitors in the audio path polystyrene or polypropylene.   \n",
    "\n",
    "### Monte Carlo simulation\n",
    "In this analysis the circuit equations are solved after assigning random element values from within the tolerance band to the components. This simulates building a large number of circuits with components chosen at random from bins or reals of components during the board stuffing process. All the components are required to meet their specifications, but are allowed to have some variation according to their tolerance. For example a 1% 2k resistor can range from 1980 to 2020 $\\Omega$. In addition to the components initial tolerance, the temperature coefficient and aging of parameters can also be included. \n",
    "\n",
    "In this simulation, I'm only including the initial tolerances of parameters and I'm assuming the distribution is uniform. The NumPy function random.uniform is used to generate the random values within the tolerance range, however, for this function, the high end-point value may or may not be included in the range depending on floating-point rounding, so if this is important, some adjustments to the code are required. The NumPy function random.seed is used to re-seed the random number generator. "
   ]
  },
  {
   "cell_type": "code",
   "execution_count": 54,
   "id": "91980ed4-0d79-4d06-b0f1-a7aa19d25bbc",
   "metadata": {},
   "outputs": [],
   "source": [
    "num = 20 # number of simulations to run\n",
    "new_x_axis_range = np.logspace(1.9, 4.1, 1000, endpoint=True)*2*np.pi # x axis data values\n",
    "\n",
    "# make some arrays to the hold the results of each run\n",
    "mag_ans = np.zeros(shape=(num,len(new_x_axis_range)))\n",
    "phase_ans = np.zeros(shape=(num,len(new_x_axis_range)))\n",
    "\n",
    "component_values_tol = nominal_component_value.copy() # make a copy\n",
    "\n",
    "random.seed(a=None, version=2) # re-seed the random number generator"
   ]
  },
  {
   "cell_type": "markdown",
   "id": "d57adcb7-b6ac-45b6-99f4-60b00dea6092",
   "metadata": {},
   "source": [
    "The following takes about 15 seconds to run on for num=20 on an i3 machine."
   ]
  },
  {
   "cell_type": "code",
   "execution_count": null,
   "id": "19490fb7-ad7b-47c7-aa18-286cf60f3c60",
   "metadata": {},
   "outputs": [],
   "source": []
  },
  {
   "cell_type": "markdown",
   "id": "11c91ba9-206d-4dcf-8e67-d74a426529c3",
   "metadata": {},
   "source": [
    "## Nominal Frequency Response"
   ]
  },
  {
   "cell_type": "code",
   "execution_count": 55,
   "id": "0b28acd9-acc7-4a7a-a4f8-9cdf747bb047",
   "metadata": {},
   "outputs": [],
   "source": [
    "equ_N = NE_sym.subs(nominal_component_value)\n",
    "\n",
    "U = solve(equ_N,X)\n",
    "\n",
    "H = (U[v2]/U[v1]).cancel()\n",
    "\n",
    "H_num, H_denom = fraction(H) #returns numerator and denominator\n",
    "\n",
    "# convert symbolic to numpy polynomial\n",
    "a = np.array(Poly(H_num, s).all_coeffs(), dtype=float)\n",
    "b = np.array(Poly(H_denom, s).all_coeffs(), dtype=float)\n",
    "\n",
    "sys_tf = signal.TransferFunction(a,b)\n",
    "\n",
    "x = np.logspace(1.9, 4.1, 1000, endpoint=True)*2*np.pi # x axis data values\n",
    "w, mag, phase = signal.bode(sys_tf, w=x) # returns: rad/s, mag in dB and phase in deg\n",
    "max_mag = mag.max()"
   ]
  },
  {
   "cell_type": "code",
   "execution_count": 56,
   "id": "ecee72d0-05cc-4ac8-b715-9fba891ae4a1",
   "metadata": {},
   "outputs": [
    {
     "data": {
      "image/png": "[encoded data removed]",
      "text/latex": [
       "$\\displaystyle 27.7393915211102$"
      ],
      "text/plain": [
       "27.739391521110228"
      ]
     },
     "execution_count": 56,
     "metadata": {},
     "output_type": "execute_result"
    }
   ],
   "source": [
    "max_mag"
   ]
  },
  {
   "cell_type": "code",
   "execution_count": null,
   "id": "99d65397-db96-4cc8-ab2f-e1a6233a948d",
   "metadata": {},
   "outputs": [],
   "source": []
  },
  {
   "cell_type": "markdown",
   "id": "51bdbc1c-81e6-4f59-8aeb-fa76a8d0aee4",
   "metadata": {},
   "source": [
    "## Monte Carlo Run"
   ]
  },
  {
   "cell_type": "code",
   "execution_count": 57,
   "id": "4f3c27fe-108b-4b62-98a8-d250842372e2",
   "metadata": {},
   "outputs": [],
   "source": [
    "for i in range(0,num):\n",
    "\n",
    "    component_values_tol[R1] = random.uniform(nominal_component_value[R1]-nominal_component_value[R1]*0.01, nominal_component_value[R1]+nominal_component_value[R1]*0.01)\n",
    "    component_values_tol[R2] = random.uniform(nominal_component_value[R2]-nominal_component_value[R2]*0.01, nominal_component_value[R2]+nominal_component_value[R2]*0.02)    \n",
    "    component_values_tol[R3] = random.uniform(nominal_component_value[R3]-nominal_component_value[R3]*0.01, nominal_component_value[R3]+nominal_component_value[R3]*0.02)\n",
    "\n",
    "    component_values_tol[C1] = random.uniform(nominal_component_value[C1]-nominal_component_value[C1]*0.02, nominal_component_value[C1]+nominal_component_value[C1]*0.02)\n",
    "    component_values_tol[C2] = random.uniform(nominal_component_value[C2]-nominal_component_value[C2]*0.01, nominal_component_value[C2]+nominal_component_value[C2]*0.05)\n",
    "    component_values_tol[C3] = random.uniform(nominal_component_value[C3]-nominal_component_value[C3]*0.1, nominal_component_value[C3]+nominal_component_value[C3]*0.02)\n",
    "\n",
    "    # enter the element values\n",
    "    equ_tol = NE_sym.subs(component_values_tol)\n",
    "\n",
    "    U_tol = solve(equ_tol,X)\n",
    "\n",
    "    H_tol = U_tol[v2]/U_tol[v1]\n",
    "\n",
    "    # Extract the numerator and denominator polynomials so that the system can be defined in SciPy.\n",
    "    H_tol_num, H_tol_denom = fraction(H_tol) #returns numerator and denominator\n",
    "\n",
    "    # convert symbolic to numpy polynomial\n",
    "    a = np.array(Poly(H_tol_num, s).all_coeffs(), dtype=float)\n",
    "    b = np.array(Poly(H_tol_denom, s).all_coeffs(), dtype=float)\n",
    "    sys_tf_tol = signal.TransferFunction(a,b)\n",
    "\n",
    "    w_sys_tf_tol, mag_sys_tf_tol, phase_sys_tf_tol = sys_tf_tol.bode(w=new_x_axis_range)\n",
    "    \n",
    "    # save the results from each run\n",
    "    mag_ans[i] = mag_sys_tf_tol\n",
    "    phase_ans[i] = phase_sys_tf_tol"
   ]
  },
  {
   "cell_type": "markdown",
   "id": "2a1f6fc8-22eb-4331-8c27-cf8f7ddaad02",
   "metadata": {},
   "source": [
    "### Filter deviation from nominal response"
   ]
  },
  {
   "cell_type": "code",
   "execution_count": 58,
   "id": "3a29a66a-4561-4b1e-8b1c-88ca8abd0244",
   "metadata": {},
   "outputs": [
    {
     "data": {
      "image/png": "[encoded data removed]",
      "text/plain": [
       "<Figure size 640x480 with 2 Axes>"
      ]
     },
     "metadata": {},
     "output_type": "display_data"
    }
   ],
   "source": [
    "fig, ax1 = plt.subplots()\n",
    "ax1.set_ylabel('magnitude, dB')\n",
    "ax1.set_xlabel('frequency, Hz')\n",
    "\n",
    "for i in range(0,num):\n",
    "    plt.semilogx(w/(2*np.pi), mag - mag_ans[i],'-k')    # Bode magnitude plot\n",
    "\n",
    "ax1.tick_params(axis='y')\n",
    "#ax1.set_ylim((-0.3,0.3))\n",
    "plt.grid()\n",
    "#plt.axvspan(20, 20e3, color='y', alpha=0.3)\n",
    "\n",
    "# instantiate a second y-axes that shares the same x-axis\n",
    "ax2 = ax1.twinx()\n",
    "color = 'tab:blue'\n",
    "\n",
    "for i in range(0,num):\n",
    "    plt.semilogx(w/(2*np.pi), phase - phase_ans[i],':',color=color)  # Bode phase plot\n",
    "\n",
    "ax2.set_ylabel('phase, deg',color=color)\n",
    "ax2.tick_params(axis='y', labelcolor=color)\n",
    "\n",
    "plt.title('Monte Carlo runs showing deviation from the nominal curve')\n",
    "plt.show()"
   ]
  },
  {
   "cell_type": "markdown",
   "id": "7cc7c1be-250e-43d6-ac24-81e559d5f07c",
   "metadata": {},
   "source": [
    "The Monte Carlo simulation shows that ...\n",
    "\n",
    "\n",
    "### Worst case analysis\n",
    "In a worst case analysis, we would look at:   \n",
    "\n",
    "- minimum and maximum values of the initial component tolerance  \n",
    "- maximum or minimum temperature coefficients of the parameters  \n",
    "- maximum aging or drift of parameter values  \n",
    "\n",
    "Since we usually can't tell by inspection which combination of minimum and maximum values will give the worst case, we can run a number of simulations in which all combinations of minimum and maximum variations are included. From the family of results we can look for the worst case."
   ]
  },
  {
   "cell_type": "markdown",
   "id": "545a0ac0-875b-4512-b8bb-1c5a236c6dde",
   "metadata": {},
   "source": [
    "How many min and max combinations?"
   ]
  },
  {
   "cell_type": "code",
   "execution_count": 59,
   "id": "297fe98f-1f6a-4a91-b1d4-530cb3c8d641",
   "metadata": {},
   "outputs": [
    {
     "name": "stdout",
     "output_type": "stream",
     "text": [
      "number of min and max combinations: 64\n"
     ]
    }
   ],
   "source": [
    "print('number of min and max combinations: {:,d}'.format(2**6))"
   ]
  },
  {
   "cell_type": "markdown",
   "id": "a6b922a5-943b-468a-9664-78aa6548f743",
   "metadata": {},
   "source": [
    "Running all combinations of the min and max tolerance for this set is reasonable and is $2^6=64$ combinations.\n",
    "\n",
    "The tolerances for each of the components is defined below:"
   ]
  },
  {
   "cell_type": "code",
   "execution_count": 60,
   "id": "facd317d-be24-4b87-9c16-e42582b42178",
   "metadata": {},
   "outputs": [],
   "source": [
    "Tol = {R1:0.01, R2:0.02, R3:0.02, C1:0.02, C2:0.05, C3:0.02}"
   ]
  },
  {
   "cell_type": "markdown",
   "id": "93f1c573-49de-483a-b6c7-08fd9f9adc06",
   "metadata": {},
   "source": [
    "The array 'run' is created that consists of a binary count, with leading zeros from 0 to 127. Then the zero values are replaced with -1. "
   ]
  },
  {
   "cell_type": "code",
   "execution_count": 61,
   "id": "fca2b05d-d2d3-413d-8659-d87685165c10",
   "metadata": {},
   "outputs": [],
   "source": [
    "run = []\n",
    "for i in range(0,2**(len(Tol))):\n",
    "    temp = list('{:06b}'.format(i)) # include leading zeros\n",
    "    for j in range(len(temp)):\n",
    "        temp[j] = int(temp[j])\n",
    "    run.append(temp)\n",
    "\n",
    "run = np.asarray(run)\n",
    "run = np.where(run == 0, -1, run)"
   ]
  },
  {
   "cell_type": "markdown",
   "id": "67502a32-3c4c-4a4b-9b65-379f5829e5e0",
   "metadata": {},
   "source": [
    "The first row of run is:"
   ]
  },
  {
   "cell_type": "code",
   "execution_count": 62,
   "id": "0ea55b18-5067-420f-b3e9-28932738eca7",
   "metadata": {},
   "outputs": [
    {
     "data": {
      "text/plain": [
       "array([-1, -1, -1, -1, -1, -1])"
      ]
     },
     "execution_count": 62,
     "metadata": {},
     "output_type": "execute_result"
    }
   ],
   "source": [
    "run[0]"
   ]
  },
  {
   "cell_type": "markdown",
   "id": "ddcb757f-b8ae-49a6-be8e-a2f984f442a8",
   "metadata": {},
   "source": [
    "In the for loop below, at i = 0, run[0] would be all -1's and this could apply the low tolerance range to the nominal component values. "
   ]
  },
  {
   "cell_type": "code",
   "execution_count": 63,
   "id": "2076b9ca-0a04-4546-a7f8-dd56395b27e7",
   "metadata": {},
   "outputs": [
    {
     "data": {
      "text/plain": [
       "array([1, 1, 1, 1, 1, 1])"
      ]
     },
     "execution_count": 63,
     "metadata": {},
     "output_type": "execute_result"
    }
   ],
   "source": [
    "run[-1]"
   ]
  },
  {
   "cell_type": "markdown",
   "id": "cec955eb-ea5b-4b75-b787-160f8a31e62e",
   "metadata": {},
   "source": [
    "The last time through the for loop, where i = 127, run[-1] is all 1's and this would apply the high tolerance range to the nominal component values. Between i = 0 and i = 127, all combinations of minimum and maximum tolerance are applied. "
   ]
  },
  {
   "cell_type": "code",
   "execution_count": 64,
   "id": "ca25a85a-a756-45db-82ac-3eaceb243b25",
   "metadata": {},
   "outputs": [],
   "source": [
    "new_x_axis_range = np.logspace(1.9, 4.1, 1000, endpoint=True)*2*np.pi # x axis data values\n",
    "\n",
    "# make some arrays to hold the results\n",
    "mag_ans = np.zeros(shape=(len(run),len(new_x_axis_range)))\n",
    "phase_ans = np.zeros(shape=(len(run),len(new_x_axis_range)))"
   ]
  },
  {
   "cell_type": "markdown",
   "id": "c057db30-38d4-49b8-af67-7bdfa20c502b",
   "metadata": {},
   "source": [
    "The following cell takes about 90 seconds to run on my i3-8130U 2.20GHz laptop."
   ]
  },
  {
   "cell_type": "code",
   "execution_count": 65,
   "id": "115b3e78-a389-4c62-bae7-571d5cc3d9a5",
   "metadata": {},
   "outputs": [],
   "source": [
    "for i in range(len(run)):\n",
    "\n",
    "    component_values_tol[R1] = nominal_component_value[R1]*(1+run[i][0]*Tol[R1])\n",
    "    component_values_tol[R2] = nominal_component_value[R2]*(1+run[i][1]*Tol[R2]) \n",
    "    component_values_tol[R3] = nominal_component_value[R3]*(1+run[i][2]*Tol[R3])\n",
    "\n",
    "    component_values_tol[C1] = nominal_component_value[C1]*(1+run[i][3]*Tol[C1])\n",
    "    component_values_tol[C2] = nominal_component_value[C2]*(1+run[i][4]*Tol[C2])\n",
    "    component_values_tol[C3] = nominal_component_value[C3]*(1+run[i][5]*Tol[C3])\n",
    "    \n",
    "    # enter the element values\n",
    "    preamp_equ_tol = NE_sym.subs(component_values_tol)\n",
    "\n",
    "    U_preamp_tol = solve(preamp_equ_tol,X)\n",
    "\n",
    "    H_preamp_tol = U_preamp_tol[v2]/U_preamp_tol[v1]\n",
    "\n",
    "    # Extract the numerator and denominator polynomials so that the system can be defined in SciPy.\n",
    "    H_preamp_tol_num, H_preamp_tol_denom = fraction(H_preamp_tol) #returns numerator and denominator\n",
    "\n",
    "    # convert symbolic to NumPy polynomial\n",
    "    a2 = np.array(Poly(H_preamp_tol_num, s).all_coeffs(), dtype=float)\n",
    "    b2 = np.array(Poly(H_preamp_tol_denom, s).all_coeffs(), dtype=float)\n",
    "    preamp_sys_tol = signal.TransferFunction(a2,b2)\n",
    "\n",
    "    w_preamp_sys_tol, mag_preamp_sys_tol, phase_preamp_sys_tol = preamp_sys_tol.bode(w=new_x_axis_range)\n",
    "    mag_ans[i] = mag_preamp_sys_tol\n",
    "    phase_ans[i] = phase_preamp_sys_tol"
   ]
  },
  {
   "cell_type": "code",
   "execution_count": 66,
   "id": "af545dc5-a4b9-4e90-8f62-12a9dc02fd6f",
   "metadata": {},
   "outputs": [
    {
     "data": {
      "image/png": "[encoded data removed]",
      "text/plain": [
       "<Figure size 640x480 with 2 Axes>"
      ]
     },
     "metadata": {},
     "output_type": "display_data"
    }
   ],
   "source": [
    "fig, ax1 = plt.subplots()\n",
    "ax1.set_ylabel('magnitude, dB')\n",
    "ax1.set_xlabel('frequency, Hz')\n",
    "\n",
    "for i in range(0,num):\n",
    "    plt.semilogx(w/(2*np.pi), mag - mag_ans[i],'-k')    # Bode magnitude plot\n",
    "\n",
    "ax1.tick_params(axis='y')\n",
    "#ax1.set_ylim((-0.3,0.4))\n",
    "plt.grid()\n",
    "#plt.axvspan(20, 20e3, color='y', alpha=0.3)\n",
    "\n",
    "# instantiate a second y-axes that shares the same x-axis\n",
    "ax2 = ax1.twinx()\n",
    "color = 'tab:blue'\n",
    "\n",
    "for i in range(0,num):\n",
    "    plt.semilogx(w/(2*np.pi), phase - phase_ans[i],':',color=color)  # Bode phase plot\n",
    "\n",
    "ax2.set_ylabel('phase, deg',color=color)\n",
    "ax2.tick_params(axis='y', labelcolor=color)\n",
    "\n",
    "plt.title('Worst Case deviation from nominal curve')\n",
    "plt.show()"
   ]
  },
  {
   "cell_type": "markdown",
   "id": "0b45f311-17db-4985-bad3-899e352fab93",
   "metadata": {},
   "source": [
    "The results above show that ...\n",
    "\n",
    "## Summary\n",
    "The circuit presented in this analysis is just one example of many circuits that can be found online. For each design to be evaluated, some type of side by side analysis should be used to down select. This notebook can be used as a template for any comparative analysis.\n",
    "\n"
   ]
  },
  {
   "cell_type": "code",
   "execution_count": null,
   "id": "6c81d2c4-7c44-466e-a127-fd5a3106930a",
   "metadata": {},
   "outputs": [],
   "source": []
  }
 ],
 "metadata": {
  "kernelspec": {
   "display_name": "Python 3 (ipykernel)",
   "language": "python",
   "name": "python3"
  },
  "language_info": {
   "codemirror_mode": {
    "name": "ipython",
    "version": 3
   },
   "file_extension": ".py",
   "mimetype": "text/x-python",
   "name": "python",
   "nbconvert_exporter": "python",
   "pygments_lexer": "ipython3",
   "version": "3.10.9"
  }
 },
 "nbformat": 4,
 "nbformat_minor": 5
}
