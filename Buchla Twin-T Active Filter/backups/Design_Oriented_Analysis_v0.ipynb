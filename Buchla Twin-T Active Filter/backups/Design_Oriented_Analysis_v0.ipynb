{
 "cells": [
  {
   "cell_type": "markdown",
   "id": "292645b7-81dc-4bad-b4e8-5222e94e1014",
   "metadata": {},
   "source": [
    "# Design Oriented Analysis v0\n",
    "\n",
    "Last update: 18 Mar 2025  \n",
    "> $\\large{\\color {red} {\\text{Note}}}$  \n",
    "> This notebook is an early draft and is posted as a placeholder  \n",
    "> The narrative and calculations are very preliminary  \n",
    "> Spelling and grammar checks have not been completed  \n",
    "\n",
    "\n",
    "\n"
   ]
  },
  {
   "cell_type": "code",
   "execution_count": null,
   "id": "6ba8c865-364a-4ba3-93c2-96512c6283d0",
   "metadata": {},
   "outputs": [],
   "source": []
  },
  {
   "cell_type": "markdown",
   "id": "ee779977-7683-4605-9449-c065206f55f2",
   "metadata": {},
   "source": [
    "# FACTS (Fast Analytical Circuits Techniques)\n",
    "\n",
    "The FACTS (Fast Analytical Circuits Techniques) method refers to a circuit analysis technique that enables engineers to obtain the transfer functions and input and output impedances of a circuit by inspection without resorting to too much algebra. The circuits offered as illustrations of the technique are small with one or two reactive elements. Middlebrook [x] seems to have been the first proponent of the method and describes what he calls design oriented analysis. He talks about low entropy equations, in which the terms and elements are ordered or grouped in such a way that their physical origin, where they come from in the circuit, and what part of the circuit contributes to this part of the final expression becomes obvious. The method is also described in [x].\n",
    "\n",
    "The origin of the FACTS circuit analysis method, as stated above, is from [x] and [x] @Middlebrook1991. [IEEE](https://www.ieee.org/) technical papers and books by [x] @basso2016 and [x] @Vorpérian2002 have been written on the subject, however these are not free or available to download for free. FACTS is a circuit analysis method where the transfer function is determined by applying the Extra Element Theorem. Christophe Basso, Vatché Vorpérian and others have open source content available:\n",
    "\n",
    "- [Introduction to Fast Analytical Techniques: Application to Small-Signal Modeling](https://www.powersimtof.com/Downloads/PPTs/Chris%20Basso%20APEC%20seminar%202016.pdf)\n",
    "- A series of 22 YouTube videos starting with: [Fast Analytical Techniques for Electrical and Electronic Circuits](https://www.youtube.com/watch?v=uir9Js1l_r8)\n",
    "- [Extra Element Theorem: An Introduction (with Examples)](https://www.edn.com/middlebrooks-extra-element-theorem/)\n",
    "\n",
    "According to the open source FACTS literature:\n",
    "\n",
    ">The well-known and widely used methods of nodal or loop analysis, while effective for obtaining numerical solutions, are largely ineffective for deriving analytical solutions in symbolic form, except for simple circuits. Attempting to invert a matrix with symbolic entries, even for low-order matrices, results in tedious algebra and complex, high-entropy expressions that provide little meaningful insight.\n",
    "\n",
    "The FACTS procedure, as illustrated in the open source literature, employs example circuits that are usually of order 1 or 2. The procedure results in equations that keep circuit elements grouped together and thus the equations are more intuitive. For 3rd order and higher circuits, the procedure becomes rather involved and I didn't see any circuit analysis examples beyond a 2nd order circuit.\n",
    "\n",
    "Traditional circuit analysis techniques usually don't produce analytical answers, i.e. equations in terms of symbols. Both the FACTS procedure and the MNA Python code in this book yield analytical answers, with the FACTS results possibly being more intuitive and the MNA Python code providing an automated solution, which would then have to be algebraically manipulated to be put into a FACTS type solution.\n",
    "\n",
    "\n",
    "IN the video series start with video 8\n",
    "\n",
    "#### Versions\n",
    "\n",
    "- 6-Mar-2025: Added v0 to filename."
   ]
  },
  {
   "cell_type": "markdown",
   "id": "2d03d5aa-5b8e-42b5-b419-31ee0ddfb446",
   "metadata": {},
   "source": [
    "Prototype FACTS equations in seperate notebook. \n",
    "\n",
    "Twin-T_BPF_FACTS.ipynb\n",
    "\n",
    "references\n",
    "```\n",
    "@INPROCEEDINGS{Middlebrook1992,\n",
    "  author={Middlebrook, R.D.},\n",
    "  booktitle={Proceedings. Twenty-Second Annual conference Frontiers in Education}, \n",
    "  title={Methods of Design-Oriented Analysis: The Quadratic Equation Revisited}, \n",
    "  year={1992},\n",
    "  pages={95-102},\n",
    "  doi={10.1109/FIE.1992.683365}\n",
    "}\n",
    "\n",
    "@INPROCEEDINGS{Middlebrook1991,\n",
    "  author={Middlebrook, R.D.},\n",
    "  booktitle={Proceedings Frontiers in Education Twenty-First Annual Conference. Engineering Education in a New World Order}, \n",
    "  title={Low-entropy expressions: the key to design-oriented analysis}, \n",
    "  year={1991},\n",
    "  pages={399-403},\n",
    "  doi={10.1109/FIE.1991.187513}\n",
    "}\n",
    "\n",
    "@online{basso2016,\n",
    "    author = {Basso, Christophe},\n",
    "    title = {Introduction to Fast Analytical Techniques: Application to Small-Signal Modeling},\n",
    "    url  = {https://www.powersimtof.com/Downloads/PPTs/Chris%20Basso%20APEC%20seminar%202016.pdf},\n",
    "    year={2016},\n",
    "    addendum = {accessed 12 Feb 2024}\n",
    "}\n",
    "\n",
    "@book{Vorpérian2002,\n",
    "  title={Fast Analytical Techniques for Electrical and Electronic Circuits},\n",
    "  author={Vatché Vorpérian},\n",
    "  isbn={9780521624718},\n",
    "  year={2002},\n",
    "  url={https://www.cambridge.org/core/books/fast-analytical-techniques-for-electrical-and-electronic-circuits/17845BA88A05A1645A8409D6739A475A#fndtn-information},\n",
    "  publisher={Cambridge University Press},\n",
    "  addendum = {accessed 1 July 2024}\n",
    "}\n",
    "```"
   ]
  },
  {
   "cell_type": "markdown",
   "id": "6dfbdd5c-f5ce-4d28-9afb-c408f000993f",
   "metadata": {},
   "source": [
    "The analytic expressions for the transfer functions and roots of the numerator and denominator polynominals are rather long and not very intuitive. There is an alternate approach to circuits aanalysis called Design Orientated Anlysis proposed by R.D.Middlebrook and also called Fast Analytical Circuits Techniques, proposed by Vatché Vorpérian, which attempts to reduce algebraic complexity and provide physical insight into the circuit's behavior[x][x]. See the link (here)[https://github.com/Tiburonboy/EE_jupyter_notebooks/blob/main/Buchla%20Twin-T%20Active%20Filter/Twin-T_BPF_FACTS.ipynb] for a JupyterLab notebook exploring these ideas.\n",
    "\n",
    "\n",
    "[x] R. D. Middlebrook, Low-entropy expressions: the key to design-oriented analysis, Proceedings Frontiers in Education Twenty-First Annual Conference. Engineering Education in a New World Order, 1991\n",
    "[x] Vatché Vorpérian, Fast Analytical Techniques for Electrical and Electronic Circuits, Cambridge University Press, 2002\n",
    "\n",
    "\n",
    "\n",
    "\n",
    "\n",
    "\n",
    "\n",
    "Fast analytical techniques offer a streamlined approach to transfer function analysis in electrical circuits by reducing algebraic complexity and providing physical insight into circuit behavior. These methods, often based on theorems like the Extra Element Theorem (EET) and Null Double Injection (NDI), help in deriving low-entropy expressions.\n",
    "\n",
    "The FACTS (Fast Analytical Circuits Techniques) method refers to a circuit analysis technique that enables engineers to obtain the transfer functions and input and output impedances of a circuit by inspection without resorting to too much algebra. The circuits offered as illustrations of the technique are small with one or two reactive elements. Middlebrook [x] seems to have been the first proponent of the method and describes what he calls design oriented analysis. He talks about low entropy equations, in which the terms and elements are ordered or grouped in such a way that their physical origin, where they come from in the circuit, and what part of the circuit contributes to this part of the final expression becomes obvious. The method is also described in [x].\n",
    "\n",
    "The origin of the FACTS circuit analysis method, as stated above, is from [x] and [x] @Middlebrook1991. [IEEE](https://www.ieee.org/) technical papers and books by [x] @basso2016 and [x] @Vorpérian2002 have been written on the subject, however these are not free or available to download for free. FACTS is a circuit analysis method where the transfer function is determined by applying the Extra Element Theorem. Christophe Basso, Vatché Vorpérian and others have open source content available:\n",
    "\n",
    "- [Introduction to Fast Analytical Techniques: Application to Small-Signal Modeling](https://www.powersimtof.com/Downloads/PPTs/Chris%20Basso%20APEC%20seminar%202016.pdf)\n",
    "- A series of 22 YouTube videos starting with: [Fast Analytical Techniques for Electrical and Electronic Circuits](https://www.youtube.com/watch?v=uir9Js1l_r8)\n",
    "- [Extra Element Theorem: An Introduction (with Examples)](https://www.edn.com/middlebrooks-extra-element-theorem/)\n",
    "\n",
    "According to the open source FACTS literature:\n",
    "\n",
    ">The well-known and widely used methods of nodal or loop analysis, while effective for obtaining numerical solutions, are largely ineffective for deriving analytical solutions in symbolic form, except for simple circuits. Attempting to invert a matrix with symbolic entries, even for low-order matrices, results in tedious algebra and complex, high-entropy expressions that provide little meaningful insight.\n",
    "\n",
    "The FACTS procedure, as illustrated in the open source literature, employs example circuits that are usually of order 1 or 2. The procedure results in equations that keep circuit elements grouped together and thus the equations are more intuitive. For 3rd order and higher circuits, the procedure becomes rather involved and I didn't see any circuit analysis examples beyond a 2nd order circuit.\n",
    "\n",
    "Traditional circuit analysis techniques usually don't produce analytical answers, i.e. equations in terms of symbols. Both the FACTS procedure and the MNA Python code in this book yield analytical answers, with the FACTS results possibly being more intuitive and the MNA Python code providing an automated solution, which would then have to be algebraically manipulated to be put into a FACTS type solution.\n",
    "\n",
    "\n",
    "IN the video series start with video 8\n",
    "\n",
    "Add link to jupyterlab notebook in github."
   ]
  },
  {
   "cell_type": "code",
   "execution_count": null,
   "id": "978a38be-cf0e-4004-a137-eb901bdd4a6a",
   "metadata": {},
   "outputs": [],
   "source": []
  },
  {
   "cell_type": "markdown",
   "id": "8b8de26e-ce22-4010-b03c-c047c160cae7",
   "metadata": {},
   "source": [
    "Fast analytical techniques offer a streamlined approach to transfer function analysis in electrical circuits by reducing algebraic complexity and providing physical insight into circuit behavior. These methods, often based on theorems like the Extra Element Theorem (EET) and Null Double Injection (NDI), help in deriving low-entropy expressions.\n",
    "\n",
    "Key benefits and techniques:\n",
    "*   **Low Entropy Expressions:** These techniques aim to express transfer functions in a way that exposes the relationships between circuit elements, such as series/parallel combinations and time constants, rather than as complex sums of products. A low-entropy expression clarifies how element values affect the result and helps avoid algebraic mistakes.\n",
    "*   **Simplification of Complex Circuits:** Fast analytical techniques simplify complicated circuits with reactive elements and dependent sources. They reduce these circuits to simpler, purely resistive circuits that can be analyzed by inspection.\n",
    "*   ** использовании теорем:** Theorems like the EET allow engineers to analyze circuits by considering one reactance at a time, which simplifies the overall analysis. The EET involves steps such as finding the gain with an extra element removed, determining driving-point and null impedances, and then solving for the modified gain.\n",
    "*   **Time Constant Analysis:** These techniques involve determining time constants by looking at the resistance driving a storage element (capacitor or inductor) under different conditions (e.g., when the excitation is turned off).\n",
    "*   **Zero and Pole Identification:** Fast analytical techniques help identify zeros and poles of transfer functions by inspection. Zeros are found by determining when the response disappears, often by considering transformed open or short circuits in the network.\n",
    "*   **Design-Oriented Analysis:** These methods facilitate design by ensuring that the analysis is structured to reveal how circuit parameters influence performance. This approach helps engineers understand the causes of circuit behavior and make informed design choices.\n",
    "*   **PWM Switch Model:** In power electronics, fast analytical techniques can be applied using the PWM switch model, which simplifies the analysis of PWM converters by replacing the switching cell with an equivalent circuit.\n",
    "*   **Modular Analysis:** Methods like EET can lead to modular answers, so that errors remain confined and can be replaced without affecting the entire answer.\n",
    "*   **Reduced Algebra:** These techniques minimize the amount of algebra needed, with much of the analysis done directly on the circuit diagram.\n",
    "*   **Physical Interpretation:** Results obtained through fast analytical techniques offer direct physical interpretations, because the algebra is done on the circuit diagram itself, allowing the analytical result to be written by inspection.\n",
    "\n",
    "While traditional methods like nodal or loop analysis are suitable for numerical solutions, fast analytical techniques excel at providing analytical solutions that offer insight into circuit behavior and are valuable for design purposes.\n",
    "\n",
    "\n",
    "**Low-entropy expressions** are a way of presenting the results of circuit analysis so that additional insight is obtained into the relative importance of the various contributions to the result. They are defined as expressions in which the terms are ordered or grouped. The term \"entropy\" is borrowed from physics.\n",
    "\n",
    "Here's why low-entropy expressions are useful:\n",
    "*   **Provide Insight:** They give insight into how element relative values affect the result. A low-entropy expression exposes the relationships between circuit elements, such as series/parallel combinations, ratios, and time constants.\n",
    "*   **Aid Design:** Low Entropy Expressions clarify relationships as to how element values affect the result. Design-oriented analysis, which produces low-entropy expressions, is valuable because analysis is only useful if it can be \"inverted\" for design.\n",
    "*   **Simplify Complex Circuits:** They simplify complicated circuits with reactive elements and dependent sources, reducing them to simpler, purely resistive circuits that can be analyzed by inspection.\n",
    "*   **Reduce Errors:** They eliminate algebra, reducing the chance of algebraic mistakes.\n",
    "*   **Enable Approximations:** Low-entropy expressions can be easily approximated into simpler expressions useful for design purposes. Series-parallel combinations of resistances can be simplified by ignoring the smaller of two resistances in a series combination and the larger of two resistances in a parallel combination.\n",
    "*   **Offer Physical Interpretation:** They allow direct physical interpretation of the result. Direct physical interpretation of the results follows from the fact that the algebra is done on the circuit diagram, leaving the analytical result to be written by inspection.\n",
    "*   **Highlight Dominant Factors:** Resistances appear in series/parallel combinations, so it is clear which ones are dominant.\n",
    "*   **Reveal Sensitivities:** The relative values of terms in the expression expose the sensitivity of the gain to variations of parameters.\n",
    "\n",
    "In contrast, a **high-entropy expression** is obtained by blind application of algebraic manipulations, usually leading to sums of products of circuit elements, and gives no insight into how the relative values affect the result. High-entropy expressions offer no insight on what drives poles and zeros.\n",
    "\n",
    "A Low-Entropy Expression is defined as one in which\n",
    "terms are ordered, or grouped, so that additional inskht is\n",
    "obtained into the relative importanceof the various\n",
    "contributionsto the result. This is the source of the\n",
    "additional information needed for design, and substitutes\n",
    "for the missing equations that would be needed to solve\n",
    "formally for the number of unknowns.\n",
    "\n",
    "Design-Oriented Analysis (D-OA) is a method that creates low-entropy expressions by guiding and controlling the algebra to provide additional insight into the relative importance of the various contributions to the result. This approach ensures that the analysis is structured to reveal how circuit parameters influence performance, facilitating design and understanding.\n",
    "\n",
    "Key aspects of how D-OA creates low-entropy expressions:\n",
    "\n",
    "*   **Focus on the Desired Result:** The desired final form of the answer shapes the initial setup of the problem.\n",
    "*   **Strategic Simplification:** D-OA involves putting only enough into the model to get the answer needed. A simple model can always be augmented, but simplifying a complex model may not be so easy. Make approximations as soon as justified.\n",
    "*   **Structured Approach:** A design analysis must be managed or structured to guide the analysis efficiently towards the desired result. Subdivide a complex analysis into multiple simpler pieces and then assemble the results of the pieces into the final result.\n",
    "*   **Emphasis on Insight**: A properly organized equation can yield valuable information on circuit behavior without numerical calculation.\n",
    "*   **Algebra on the Circuit Diagram:** D-OA emphasizes doing the algebra on the circuit diagram itself. This means using circuit theorems (like Thevenin's and Norton's) and network transformations to simplify the circuit before writing equations. This often allows the analytical result to be written by inspection.\n",
    "*   **Efficient Methodology:** By applying strategic mental energy before doing any math, the answer comes out in low-entropy form.\n",
    "*   **Avoid Blind Algebra:** D-OA avoids \"blind application of algebraic manipulations\" that lead to high-entropy expressions.\n",
    "*   **Low-Entropy Groupings:** D-OA uses methods in which low-entropy groupings arise naturally and automatically.\n",
    "*   **Exploiting Theorems:** D-OA utilizes theorems and methods as tools to steer the analysis in a direction that gives a result in a Low-Entropy format of choice. For example, the Extra Element Theorem (EET) simplifies the extraction from circuits of the parameters of interest for design.\n",
    "*    **Time Constants:** D-OA helps determine time constants by looking at the resistance driving a storage element.\n",
    "*   **PWM Switch Model:** D-OA can be applied to pulse width modulation (PWM) converters using a PWM switch model.\n",
    "\n",
    "The goal is to obtain results in forms such as series/parallel combinations of elements, ratios of resistances or time constants, and polynomials with clear physical significance. These low-entropy expressions expose the dominant relationships and enable designers to make informed decisions.\n",
    "\n",
    "\n",
    "Design reverses conventional analysis by starting with the desired outcome and working backward to determine the necessary components and configurations. This contrasts with traditional analysis, which begins with a known circuit and calculates its behavior. Design-Oriented Analysis (D-OA) facilitates this reverse process by emphasizing low-entropy expressions.\n",
    "\n",
    "Key differences highlighting the reversal:\n",
    "\n",
    "*   **Starting Point:** **Analysis begins with a circuit configuration and element values to find the output or behavior, while design starts with the desired specifications (the answer to the analysis) and determines the circuit configuration and element values needed to meet those specifications**.\n",
    "*   **Objective:** The aim of analysis is to understand or predict the behavior of a given circuit. The purpose of design is to create a circuit that meets a specific set of performance criteria.\n",
    "*   **Equations:** **Analysis solves for unknowns using a sufficient number of equations, whereas design often deals with an insufficient number of equations, requiring approximations and trade-offs**.\n",
    "*   **Process:** Analysis typically involves applying theorems and methods to derive expressions for circuit behavior. Design involves \"inverting\" the analysis to select element values and configurations that satisfy the desired specifications.\n",
    "*   **Emphasis:** Analysis emphasizes accuracy and detailed calculations. Design balances accuracy with simplicity, often prioritizing insight and practicality.\n",
    "*   **Mentality:** Design replaces the negative attitude of \"I don’t have enough equations to solve for the number of unknowns\" with the positive attitude of \"I need to make the few equations I have work harder, and I need to substitute the missing equations with inequalities, tradeoffs, and approximations\".\n",
    "\n",
    "D-OA is crucial in making analysis results usable \"backwards\" for design. It uses low-entropy expressions to provide insight into how circuit parameters influence performance, enabling engineers to make informed design choices. By presenting results in a structured way, D-OA helps designers understand the trade-offs and approximations necessary to achieve their design goals.\n",
    "\n",
    "\n",
    "Engineers obtain meaningful analytical solutions by using fast analytical techniques that reduce algebraic complexity and offer insight into circuit behavior. These techniques emphasize **design-oriented analysis** and **low-entropy expressions**, enabling engineers to work backward from desired specifications to determine appropriate circuit configurations and element values.\n",
    "\n",
    "Key strategies include:\n",
    "\n",
    "*   **Low-Entropy Expressions:** Engineers aim to express transfer functions so the relative importance of various contributions to the result is clear. Low-entropy expressions expose relationships between circuit elements (series/parallel combinations, ratios, time constants) rather than complex sums of products. These expressions clarify how element values affect the result, aid design, simplify complex circuits, reduce errors, enable approximations and offer physical interpretations.\n",
    "*   **Design-Oriented Analysis (D-OA):** D-OA guides and controls the algebra to provide additional insight into the relative importance of the various contributions to the result. This approach ensures the analysis reveals how circuit parameters influence performance, facilitating design and understanding. D-OA uses strategic simplification, structured approaches, and emphasizes insight, efficient methodology and exploitation of theorems.\n",
    "*   **Theorems and Techniques:** Engineers use theorems like the Extra Element Theorem (EET) to simplify complex circuits. For example, the EET simplifies the extraction from circuits of the parameters of interest for design. Also, D-OA emphasizes doing algebra on the circuit diagram itself using circuit theorems and network transformations to simplify the circuit before writing equations.\n",
    "*   **Time Constant Analysis:** Fast analytical techniques determine time constants by looking at the resistance driving a storage element (capacitor or inductor) under different conditions.\n",
    "*   **Zero and Pole Identification:** Engineers identify zeros and poles of transfer functions by inspection, determining when the response disappears.\n",
    "*   **PWM Switch Model:** In power electronics, engineers apply fast analytical techniques using the PWM switch model, simplifying the analysis of PWM converters by replacing the switching cell with an equivalent circuit.\n",
    "*   **Reverse of Analysis:** Design reverses conventional analysis by starting with the desired specifications and determining the circuit configuration and element values.\n",
    "*   **Emphasis on Approximations and Trade-offs:** Because design often deals with an insufficient number of equations, engineers make approximations and trade-offs.\n",
    "\n",
    "By using these techniques, engineers can derive analytical solutions that offer physical insight into circuit operation, which is crucial for effective design.\n",
    "\n",
    "\n",
    "Low-entropy expressions aid design by providing **insight into the relationships between circuit parameters and performance**, which is essential for engineers to work backward from desired specifications to determine appropriate circuit configurations and element values. They facilitate the \"reverse of analysis\" required in design.\n",
    "\n",
    "Here's how low-entropy expressions specifically support the design process:\n",
    "\n",
    "*   **Highlight Element Relationships**: They expose how circuit elements relate to each other through series/parallel combinations, ratios, and time constants.\n",
    "*   **Enable Informed Trade-offs:** They clarify how element values affect the result.\n",
    "*   **Facilitate Approximations**: Low-entropy expressions can be easily approximated into simpler forms. For instance, a series-parallel combination of resistances can be simplified by ignoring the smaller of two resistances in a series combination, and the larger of two resistances in a parallel combination.\n",
    "*   **Provide a Clear Starting Point:** They begin with the Answer (the Specification), and work back to the beginning (circuit configuration and element values).\n",
    "*   **Offer Direct Physical Interpretation:** They allow direct physical interpretation of the result because the algebra is performed on the circuit diagram.\n",
    "*   **Expose Sensitivities**: They reveal the sensitivity of circuit performance to variations in component values.\n",
    "*   **Simplify Complex Analysis:** They simplify complex circuits, making it easier to understand and optimize performance.\n",
    "*   **Reduce Design Iterations:** They enable designers to meet specifications efficiently, reducing the need for multiple design iterations.\n",
    "*   **Enable \"Inversion\" for Design**: They make analysis results usable \"backwards\" for design, which allows for the selection of element values to achieve the desired roots.\n",
    "*   **Non-Algebraic Information**: They yield valuable information on circuit behavior without any numerical calculation.\n",
    "\n",
    "By presenting results in a structured, insightful way, low-entropy expressions enable designers to understand trade-offs and make informed decisions to meet design goals. They help in substituting missing exact equations with inequalities in the form of approximations and tradeoffs. They also help to substitute for the missing equations that would be needed to solve formally for the number of unknowns. They are easy to use for design: given A (the Specification), it becomes straightforward to choose element values.\n",
    "\n",
    "\n",
    "\n"
   ]
  },
  {
   "cell_type": "code",
   "execution_count": null,
   "id": "80816763-004c-4e22-8922-3f29b934acfc",
   "metadata": {},
   "outputs": [],
   "source": []
  },
  {
   "cell_type": "markdown",
   "id": "da37aa10-bfe5-4ef7-8da0-07cebb32e90b",
   "metadata": {},
   "source": [
    "Yes, you can approximate the poles of a transfer function by calculating the AC resistance and capacitance at each node, especially in circuits dominated by resistors and capacitors (RC circuits). This method is closely related to the **asymptotic waveform evaluation (AWE)** and **dominant pole approximation** techniques.\n",
    "\n",
    "Here's a breakdown of how it works and its limitations:\n",
    "\n",
    "**Conceptual Basis:**\n",
    "\n",
    "1.  **Node Analysis:**\n",
    "    * You analyze the circuit node by node.\n",
    "    * At each node, you determine the equivalent resistance (R) looking \"out\" from that node and the equivalent capacitance (C) connected to that node.\n",
    "\n",
    "2.  **Time Constants:**\n",
    "    * The product of R and C (RC) gives you a time constant (τ) at that node.\n",
    "    * This time constant corresponds to a pole in the transfer function, approximately located at s = -1/RC.\n",
    "\n",
    "3.  **Dominant Pole Approximation:**\n",
    "    * In many practical circuits, one or a few poles have a significantly larger time constant (smaller magnitude on the s-plane) than the others. These are the \"dominant poles.\"\n",
    "    * The dominant poles have the most significant impact on the circuit's transient response and low-frequency behavior.\n",
    "    * By identifying the nodes with the largest RC time constants, you can approximate the dominant poles of the transfer function.\n",
    "\n",
    "**Practical Implementation:**\n",
    "\n",
    "1.  **AC Resistance Calculation:**\n",
    "    * To find the AC resistance at a node, you deactivate all independent voltage and current sources (voltage sources become shorts, current sources become opens).\n",
    "    * Then, you calculate the equivalent resistance seen from that node. This might involve series and parallel combinations of resistors.\n",
    "\n",
    "2.  **Capacitance Calculation:**\n",
    "    * The capacitance at a node is simply the sum of all capacitances connected to that node.\n",
    "\n",
    "3.  **Pole Approximation:**\n",
    "    * Calculate the time constant (τ = RC) for each node.\n",
    "    * The approximate poles are then s = -1/τ.\n",
    "\n",
    "**Advantages:**\n",
    "\n",
    "* **Simplicity:** It's relatively easy to understand and implement, especially for simple RC circuits.\n",
    "* **Intuitive:** It provides an intuitive understanding of how the circuit's components affect its poles.\n",
    "* **Quick Estimation:** it can give a quick estimation of dominant poles without solving complex circuit equations.\n",
    "\n",
    "**Limitations:**\n",
    "\n",
    "* **Accuracy:**\n",
    "    * This method provides approximations, not exact pole locations.\n",
    "    * It's most accurate for circuits where the poles are well-separated (dominant poles are significantly different from other poles).\n",
    "    * It becomes less accurate when there are many poles close together, or when there are inductors in the circuit.\n",
    "* **Interactions:**\n",
    "    * It assumes that the nodes are relatively independent, which may not always be the case.\n",
    "    * It doesn't fully account for interactions between different parts of the circuit.\n",
    "* **Inductors:**\n",
    "    * This method is primarily designed for RC circuits. When inductors are present, you need to consider the inductive effects and use more advanced techniques.\n",
    "* **Complex Circuits:**\n",
    "    * For very complex circuits, finding the equivalent resistance at each node can become cumbersome.\n",
    "* **Zeros:**\n",
    "    * This method only approximates the poles, not the zeros of the transfer function.\n",
    "\n",
    "**In summary:**\n",
    "\n",
    "Calculating AC resistance and capacitance at each node is a useful technique for approximating the poles of a transfer function, particularly in RC circuits. However, it's essential to understand its limitations and use it appropriately. For more accurate results and complex circuits, more sophisticated methods like circuit simulation or symbolic analysis may be required.\n",
    "\n",
    "\n",
    "The **dominant pole approximation** is a simplification technique used in systems analysis, particularly in control systems and circuit analysis. It aims to reduce the complexity of a system's transfer function by focusing on the poles that have the most significant impact on its behavior. Here's a breakdown:\n",
    "\n",
    "**Core Concept:**\n",
    "\n",
    "* **Poles and System Response:**\n",
    "    * In a system's transfer function, poles are the roots of the denominator. They determine the system's stability and how it responds to inputs.\n",
    "    * Poles closer to the imaginary axis (in the s-plane) have a greater influence on the system's transient response (how it changes over time).\n",
    "* **Dominant Poles:**\n",
    "    * Dominant poles are those poles that are closest to the imaginary axis. They have the slowest decay rate and therefore \"dominate\" the system's response.\n",
    "    * The idea is that the effects of poles farther away from the imaginary axis decay quickly, so they can often be ignored.\n",
    "* **Approximation:**\n",
    "    * The dominant pole approximation simplifies the transfer function by discarding the poles that are far from the imaginary axis.\n",
    "    * This results in a lower-order approximation of the system, making it easier to analyze.\n",
    "\n",
    "**Why it's Useful:**\n",
    "\n",
    "* **Simplification:**\n",
    "    * It reduces the complexity of system analysis, making it easier to understand and predict system behavior.\n",
    "* **Intuition:**\n",
    "    * It provides a clear understanding of which parts of the system have the most significant impact on its response.\n",
    "* **Design:**\n",
    "    * It can be used to simplify the design of control systems and filters.\n",
    "\n",
    "**When it's Valid:**\n",
    "\n",
    "* The approximation is most accurate when there is a clear separation between the dominant poles and the other poles.\n",
    "* If the poles are clustered together, the approximation may not be accurate.\n",
    "\n",
    "**In essence:**\n",
    "\n",
    "The dominant pole approximation is a tool that allows engineers to focus on the most important aspects of a system's behavior, simplifying analysis and design.\n",
    "\n",
    "\n",
    "**asymptotic waveform evaluation (AWE)**  \n",
    "Asymptotic Waveform Evaluation (AWE) is a model order reduction technique used in electronic circuit simulation. It's designed to efficiently approximate the transient response of linear(ized) circuits, particularly large and complex ones, by estimating the moments of the transfer function and then matching those moments to a reduced-order model.\n",
    "\n",
    "Here's a breakdown of AWE:\n",
    "\n",
    "**Core Concepts:**\n",
    "\n",
    "1.  **Moments of the Transfer Function:**\n",
    "    * The transfer function of a linear circuit can be represented as a Taylor series expansion in the frequency domain (s-domain).\n",
    "    * The coefficients of this series are called the moments of the transfer function. They contain information about the circuit's time-domain behavior.\n",
    "    * AWE calculates these moments efficiently.\n",
    "\n",
    "2.  **Moment Matching:**\n",
    "    * Once the moments are calculated, AWE constructs a reduced-order model (a simpler transfer function) whose moments match the calculated moments.\n",
    "    * This matching ensures that the reduced-order model approximates the original circuit's behavior, particularly its early-time response.\n",
    "\n",
    "3.  **Pole-Residue Approximation:**\n",
    "    * The reduced-order model is typically expressed in a pole-residue form, which allows for efficient time-domain simulation.\n",
    "    * The poles and residues of the reduced-order model are determined by matching the moments.\n",
    "\n",
    "**Why AWE is Useful:**\n",
    "\n",
    "* **Speed:**\n",
    "    * It significantly speeds up the simulation of large and complex circuits compared to traditional time-domain or frequency-domain simulations.\n",
    "* **Efficiency:**\n",
    "    * It avoids the need for repeatedly solving large systems of differential equations.\n",
    "* **Linear(ized) Circuits:**\n",
    "    * It's particularly effective for linear circuits or linearized nonlinear circuits.\n",
    "* **Interconnect Analysis:**\n",
    "    * AWE is widely used in interconnect analysis, where it helps to model the delay and waveform distortion caused by long interconnect lines in integrated circuits.\n",
    "\n",
    "**Key Features:**\n",
    "\n",
    "* **Moment Calculation:**\n",
    "    * AWE uses efficient algorithms to calculate the moments of the transfer function, avoiding the need for symbolic analysis or repeated circuit simulations.\n",
    "* **Padé Approximation:**\n",
    "    * The moment matching process is often based on Padé approximation, which provides a rational function approximation of the transfer function.\n",
    "* **Reduced-Order Model:**\n",
    "    * AWE produces a reduced-order model that captures the dominant behavior of the original circuit.\n",
    "\n",
    "**Limitations:**\n",
    "\n",
    "* **Accuracy:**\n",
    "    * The accuracy of AWE depends on the number of moments used and the complexity of the circuit.\n",
    "    * It may not be accurate for circuits with highly nonlinear behavior or widely separated poles.\n",
    "* **Stability:**\n",
    "    * The reduced-order model may not always be stable, even if the original circuit is stable.\n",
    "* **Complex circuits:**\n",
    "    * While much faster than full simulations, very complex circuits will still require significant computation time.\n",
    "\n",
    "**In essence:**\n",
    "\n",
    "AWE is a powerful technique for efficiently approximating the transient response of linear(ized) electronic circuits. By calculating and matching the moments of the transfer function, it creates a reduced-order model that provides accurate results with significantly less computational effort.\n"
   ]
  },
  {
   "cell_type": "code",
   "execution_count": null,
   "id": "921e386b-112f-4f8a-b5b9-3827b4bdea7c",
   "metadata": {},
   "outputs": [],
   "source": []
  },
  {
   "cell_type": "markdown",
   "id": "bbf5b083-6918-40d6-872a-0c04ca78573d",
   "metadata": {},
   "source": [
    "The **N Extra Element Theorem (NEET)** is an alternative method for analyzing transfer functions of linear system models, not limited to electrical systems. Unlike conventional loop or node analysis that requires solving determinants or inverting matrices, NEET starts by analyzing a simpler **reference system model** where N designated \"**extra**\" elements (EE's) are absent. These extra elements are then reintroduced through a **correction factor**.\n",
    "\n",
    "Here's a summary of the key aspects of NEET based on the provided source:\n",
    "\n",
    "*   **Core Idea:** NEET simplifies analysis by first solving a reference system without the extra elements and then applying a correction factor that accounts for these elements. This is a \"**divide and conquer**\" approach that can be easier and shorter than conventional methods and yields results in a lower entropy form.\n",
    "*   **Correction Factor:** The correction factor involves various **single injection (si)** and **null double injection (ndi)** driving point immittances (dpi) seen by the extra elements, all calculated on the reference model. This means no calculations are performed on a model containing any of the designated extra elements. The NEET correction factor provides a **simultaneous bilinear representation** of the extra elements, revealing the contribution of each one.\n",
    "*   **Extra Elements (EE's):** Any immittance or dependent generator can be designated as an extra element. A useful implementation involves designating all **reactances** as extra elements. In this case, the frequency response of the transfer function is entirely contained within the NEET correction factor, which emerges as a ratio of polynomials in complex frequency *s*. This allows for direct determination of zeros and poles, and whether they are exactly factorable.\n",
    "*   **Reference State:** For each extra element, a **reference state** (ref state), either short or open, is chosen to define the reference model. The transfer function of this reference model is the starting point for the NEET. There is also an **opposite of reference state** (opref state).\n",
    "*   **Driving Point Immittances (dpi's):**\n",
    "    *   **Single Injection (si) dpi:** This is the impedance or admittance seen looking into the reference network at the port where an extra element is to be connected, with the independent excitation (input signal) set to zero.\n",
    "    *   **Null Double Injection (ndi) dpi:** This is the impedance or admittance seen looking into the reference network at the port where an extra element is to be connected, with the input signal present and adjusted to null the transfer function output signal. The calculation of ndi dpi's is often simpler than si dpi's due to the nulling condition.\n",
    "*   **Advantages for Design-Oriented Analysis:** NEET provides an analytic result in a **low-entropy form**, which explicitly shows the contributions of each element to the overall transfer function. This makes it easier to adjust element values in an informed manner to meet design specifications. The format of NEET allows the transfer function to be calculated on a simpler reference network and then corrected by a factor involving the reinstated extra elements.\n",
    "*   **EET Construction Algorithm:** This algorithm describes how to extend the NEET from *n* extra elements to *n+1* extra elements. The terms in the numerator (Num) and denominator (Denom) of the NEET for *n* EE's are used to construct the terms for *n+1* EE's by multiplying by the ratio of the (n+1)th EE to its dpi, considering the opref states of the other EE's.\n",
    "*   **Versions of NEET:** There are different versions of NEET depending on the ref states chosen for the extra elements (short or open). The notation is condensed to simplify the expressions by indicating only deviations from the ref states using superscripts in parentheses.\n",
    "*   **Equivalent opref Products and Reciprocity Equality:** For more than two extra elements, there are **reciprocity equalities** between the **interaction ratios** of any two EE's, indicating how the dpi seen by one EE is influenced by the state of another. These equalities lead to **equivalent opref products**, providing alternative ways to express products of dpi's with different EE's in their opref states. These different forms can yield different low-entropy combinations of circuit elements.\n",
    "*   **Strategies for Application:** Applying NEET involves choosing the number and type of extra elements, deciding their ref states, writing down the correction factor using the EET construction algorithm, and then potentially substituting dpi products with redundant forms using the equivalent opref product algorithm. Criteria for these choices include the desire to expose the effects of certain elements, the ease of calculating the required dpi's, and the avoidance of indeterminacies.\n",
    "*   **Relationship to Other Theorems:** The single EET is equivalent to Blackman's theorem when applied to a self-immittance. NEET is also an extension of Bode's Bilinear Theorem.\n",
    "\n",
    "In essence, NEET provides a structured way to analyze linear systems by breaking down the problem into smaller, more manageable steps focused on a simpler reference circuit and the impact of individually added \"extra\" elements. This approach often leads to more insightful and design-oriented analytical expressions."
   ]
  },
  {
   "cell_type": "code",
   "execution_count": null,
   "id": "aa286d25-8a2a-42e5-ac3e-944207700e7a",
   "metadata": {},
   "outputs": [],
   "source": []
  },
  {
   "cell_type": "code",
   "execution_count": 1,
   "id": "7b1da6f9-b197-49b9-af0c-236064e2cb42",
   "metadata": {
    "collapsed": false,
    "jupyter": {
     "outputs_hidden": false
    }
   },
   "outputs": [],
   "source": [
    "from sympy import *\n",
    "import numpy as np\n",
    "from tabulate import tabulate\n",
    "from scipy import signal\n",
    "import matplotlib.pyplot as plt\n",
    "import SymMNA\n",
    "from IPython.display import display, Markdown, Math, Latex\n",
    "from tabulate import tabulate\n",
    "init_printing()"
   ]
  },
  {
   "cell_type": "markdown",
   "id": "fdd2c7f3-4227-49e9-82fc-c362895c1043",
   "metadata": {
    "tags": []
   },
   "source": [
    "## Circuit Netlist\n",
    "The netlist generated by LTSpice from the schematic is shown below. Some edits were made to fix up the formating of the component values and the Op Amp declaration. The nodes were labeled in the schematic, otherwise LTSpice will use default labels such as N001, N002 etc. and the smna function wants integer values for the node numbers and these need to be consecutively ordered with no gaps in the numbering.\n",
    "\n",
    "```\n",
    "    * Bandpass-Twin-T-Active-Filter.asc\n",
    "    R1 3 1 15k\n",
    "    R2 4 5 186k\n",
    "    R3 2 5 15k\n",
    "    C1 5 1 10n\n",
    "    C2 4 3 910p\n",
    "    C3 2 3 10n\n",
    "    XU1 4 0 2 opamp Aol=100K GBW=10Meg\n",
    "    V1 1 0 1 AC 1\n",
    "    .lib opamp.sub\n",
    "    .ac dec 1000 100 10k\n",
    "    .backanno\n",
    "    .end\n",
    "```\n",
    "\n",
    "Generation of the netlist from a schematic caputure program is comvinent and less error propne than generating the netwlist by hand. A visiual inspection of the schematic insurs that the circuit to be analyzed is correct and it follows that the netlist is alos correct. This is espically true or larger more complicated schamitics. \n",
    "\n",
    "The cleaned up netlist was copied to the cell below. The tripple quotes allow text strings to span multiple lines since the line breaks are preserved."
   ]
  },
  {
   "cell_type": "code",
   "execution_count": 2,
   "id": "850a8307-97b3-4137-bb50-52575c897bb8",
   "metadata": {},
   "outputs": [],
   "source": [
    "example_net_list = '''\n",
    "* Bandpass-Twin-T-Active-Filter.asc\n",
    "R1 3 1 15e3\n",
    "R2 4 5 186e3\n",
    "R3 2 5 15e3\n",
    "C1 5 1 10e-9\n",
    "C2 4 3 910e-12\n",
    "C3 2 3 10e-9\n",
    "O1 4 0 2\n",
    "V1 1 0 1\n",
    "'''"
   ]
  },
  {
   "cell_type": "markdown",
   "id": "859018a5-1309-4f00-8249-8d8b91a6303d",
   "metadata": {},
   "source": [
    "## Generate Network Equations "
   ]
  },
  {
   "cell_type": "code",
   "execution_count": 3,
   "id": "f9c60f02-9772-40a8-93ba-45cfccdaa5b5",
   "metadata": {},
   "outputs": [
    {
     "data": {
      "text/markdown": [
       "<p>$- C_{1} s v_{5} + I_{V1} + v_{1} \\left(C_{1} s + \\frac{1}{R_{1}}\\right) - \\frac{v_{3}}{R_{1}} = 0$</p><p>$- C_{3} s v_{3} + I_{O1} + v_{2} \\left(C_{3} s + \\frac{1}{R_{3}}\\right) - \\frac{v_{5}}{R_{3}} = 0$</p><p>$- C_{2} s v_{4} - C_{3} s v_{2} + v_{3} \\left(C_{2} s + C_{3} s + \\frac{1}{R_{1}}\\right) - \\frac{v_{1}}{R_{1}} = 0$</p><p>$- C_{2} s v_{3} + v_{4} \\left(C_{2} s + \\frac{1}{R_{2}}\\right) - \\frac{v_{5}}{R_{2}} = 0$</p><p>$- C_{1} s v_{1} + v_{5} \\left(C_{1} s + \\frac{1}{R_{3}} + \\frac{1}{R_{2}}\\right) - \\frac{v_{2}}{R_{3}} - \\frac{v_{4}}{R_{2}} = 0$</p><p>$v_{1} = V_{1}$</p><p>$v_{4} = 0$</p>"
      ],
      "text/plain": [
       "<IPython.core.display.Markdown object>"
      ]
     },
     "execution_count": 3,
     "metadata": {},
     "output_type": "execute_result"
    }
   ],
   "source": [
    "report, network_df, df2, A, X, Z = SymMNA.smna(example_net_list)\n",
    "\n",
    "# Put matrices into SymPy \n",
    "X = Matrix(X)\n",
    "Z = Matrix(Z)\n",
    "\n",
    "NE_sym = Eq(A*X,Z)\n",
    "\n",
    "# display the equations\n",
    "temp = ''\n",
    "for i in range(shape(NE_sym.lhs)[0]):\n",
    "    temp += '<p>${:s} = {:s}$</p>'.format(latex(NE_sym.lhs[i]),\n",
    "        latex(NE_sym.rhs[i]))\n",
    "\n",
    "Markdown(temp)"
   ]
  },
  {
   "cell_type": "markdown",
   "id": "839b7d29-5351-42d5-a226-0ded5905437d",
   "metadata": {},
   "source": [
    "The two lines of Python code below turn the free symbols from the ```NE_sym``` equations into SymPy variables and the element values contained in the netlist are put into a Python dictionary data structure to be used in the numerical solutions later in this report."
   ]
  },
  {
   "cell_type": "code",
   "execution_count": 4,
   "id": "9ee756b4-2cef-4c4c-b466-3e5ece1cc83f",
   "metadata": {},
   "outputs": [],
   "source": [
    "var(str(NE_sym.free_symbols).replace('{','').replace('}',''))\n",
    "element_values = SymMNA.get_part_values(network_df)"
   ]
  },
  {
   "cell_type": "markdown",
   "id": "84cbe1d8-21db-4c84-8205-4bb5a697c11f",
   "metadata": {},
   "source": [
    "## Solve the Network Equations\n",
    "The SymPy function ```solve``` is used to obtain the node voltages and independent voltage source currents."
   ]
  },
  {
   "cell_type": "code",
   "execution_count": 5,
   "id": "b79db29a-2b9e-4a35-a6ae-ccfbb76d9584",
   "metadata": {},
   "outputs": [],
   "source": [
    "U_sym = solve(NE_sym,X)"
   ]
  },
  {
   "cell_type": "markdown",
   "id": "8883bca4-a247-4525-8f45-871ff34ec647",
   "metadata": {},
   "source": [
    "The solution to the network equations are the node voltages expressed in terms of the Laplace variable $s$ are displayed below."
   ]
  },
  {
   "cell_type": "code",
   "execution_count": 6,
   "id": "1dc75a7c-9de2-4059-93c6-486141692935",
   "metadata": {},
   "outputs": [
    {
     "data": {
      "text/markdown": [
       "<p>$v_{1} = V_{1}$</p><p>$v_{2} = \\frac{- C_{1} C_{2} R_{1} R_{3} V_{1} s^{2} - C_{1} C_{2} R_{2} R_{3} V_{1} s^{2} - C_{1} C_{3} R_{1} R_{3} V_{1} s^{2} - C_{1} R_{3} V_{1} s - C_{2} R_{2} V_{1} s - C_{2} R_{3} V_{1} s}{C_{1} C_{2} C_{3} R_{1} R_{2} R_{3} s^{3} + C_{2} C_{3} R_{1} R_{2} s^{2} + C_{2} C_{3} R_{1} R_{3} s^{2} + C_{2} R_{1} s + C_{3} R_{1} s + 1}$</p><p>$v_{3} = \\frac{- C_{1} C_{3} R_{1} R_{3} V_{1} s^{2} + V_{1}}{C_{1} C_{2} C_{3} R_{1} R_{2} R_{3} s^{3} + C_{2} C_{3} R_{1} R_{2} s^{2} + C_{2} C_{3} R_{1} R_{3} s^{2} + C_{2} R_{1} s + C_{3} R_{1} s + 1}$</p><p>$v_{4} = 0$</p><p>$v_{5} = \\frac{C_{1} C_{2} C_{3} R_{1} R_{2} R_{3} V_{1} s^{3} - C_{2} R_{2} V_{1} s}{C_{1} C_{2} C_{3} R_{1} R_{2} R_{3} s^{3} + C_{2} C_{3} R_{1} R_{2} s^{2} + C_{2} C_{3} R_{1} R_{3} s^{2} + C_{2} R_{1} s + C_{3} R_{1} s + 1}$</p>"
      ],
      "text/plain": [
       "<IPython.core.display.Markdown object>"
      ]
     },
     "execution_count": 6,
     "metadata": {},
     "output_type": "execute_result"
    }
   ],
   "source": [
    "temp = ''\n",
    "for i in U_sym.keys():\n",
    "    if str(i)[0] == 'v': # only display the node voltages\n",
    "        temp += '<p>${:s} = {:s}$</p>'.format(latex(i),latex(U_sym[i]))\n",
    "\n",
    "Markdown(temp)"
   ]
  },
  {
   "cell_type": "markdown",
   "id": "41ae0da1-79e7-456b-bb7e-7ddfdfb6d703",
   "metadata": {},
   "source": [
    "### Voltage Transfer Function $H(s)=\\frac {v_2(s)}{v_1(s)}$\n",
    "The voltage transfer function, $H(s)$, for the filter  is generated and displayed by the following code:"
   ]
  },
  {
   "cell_type": "code",
   "execution_count": 7,
   "id": "4d9b3b50-8fdc-4e9b-8c36-a268c3d6eeff",
   "metadata": {},
   "outputs": [
    {
     "data": {
      "text/markdown": [
       "$H(s)=\\frac{s^{2} \\left(- C_{1} C_{2} R_{1} R_{3} - C_{1} C_{2} R_{2} R_{3} - C_{1} C_{3} R_{1} R_{3}\\right) + s \\left(- C_{1} R_{3} - C_{2} R_{2} - C_{2} R_{3}\\right)}{C_{1} C_{2} C_{3} R_{1} R_{2} R_{3} s^{3} + s^{2} \\left(C_{2} C_{3} R_{1} R_{2} + C_{2} C_{3} R_{1} R_{3}\\right) + s \\left(C_{2} R_{1} + C_{3} R_{1}\\right) + 1}$"
      ],
      "text/plain": [
       "<IPython.core.display.Markdown object>"
      ]
     },
     "execution_count": 7,
     "metadata": {},
     "output_type": "execute_result"
    }
   ],
   "source": [
    "H_sym = cancel(U_sym[v2]/U_sym[v1],s)\n",
    "Markdown('$H(s)={:s}$'.format(latex(H_sym)))"
   ]
  },
  {
   "cell_type": "code",
   "execution_count": 8,
   "id": "1bef2c59-b857-4d5f-b335-1908fc002407",
   "metadata": {
    "tags": []
   },
   "outputs": [],
   "source": [
    "H_sym_num, H_sym_denom = fraction(H_sym,s) #returns numerator and denominator"
   ]
  },
  {
   "cell_type": "markdown",
   "id": "dbd2879c-38c4-4314-b9fb-456fd65f54f2",
   "metadata": {},
   "source": [
    "### Numerator Polynominal\n",
    "The numerator polynominal is:"
   ]
  },
  {
   "cell_type": "code",
   "execution_count": 9,
   "id": "f266011e-9b92-4eab-9d07-53938a75a060",
   "metadata": {},
   "outputs": [
    {
     "data": {
      "text/markdown": [
       "$N(s)=s^{2} \\left(- C_{1} C_{2} R_{1} R_{3} - C_{1} C_{2} R_{2} R_{3} - C_{1} C_{3} R_{1} R_{3}\\right) + s \\left(- C_{1} R_{3} - C_{2} R_{2} - C_{2} R_{3}\\right)$"
      ],
      "text/plain": [
       "<IPython.core.display.Markdown object>"
      ]
     },
     "execution_count": 9,
     "metadata": {},
     "output_type": "execute_result"
    }
   ],
   "source": [
    "Markdown('$N(s)={:s}$'.format(latex(H_sym_num)))"
   ]
  },
  {
   "cell_type": "markdown",
   "id": "dbf581e1-7182-4d80-b12c-db7649d69547",
   "metadata": {},
   "source": [
    "The coeficients of each Laplace terms can be equated to the variables $b_2$, $b_1$ and $b_0$ in the expression: \n",
    "\n",
    "$b_2s^{2}+b_1s+b_0$\n",
    "\n",
    "where $b_2$, $b_1$ and $b_0$ are:"
   ]
  },
  {
   "cell_type": "code",
   "execution_count": 10,
   "id": "946acbda-f74f-4e5b-af76-60ec31233d64",
   "metadata": {},
   "outputs": [
    {
     "data": {
      "text/markdown": [
       "<p>$b_2=- C_{1} C_{2} R_{1} R_{3} - C_{1} C_{2} R_{2} R_{3} - C_{1} C_{3} R_{1} R_{3}$</p><p>$b_1=- C_{1} R_{3} - C_{2} R_{2} - C_{2} R_{3}$</p><p>$b_0=0$</p>"
      ],
      "text/plain": [
       "<IPython.core.display.Markdown object>"
      ]
     },
     "execution_count": 10,
     "metadata": {},
     "output_type": "execute_result"
    }
   ],
   "source": [
    "b2 = H_sym_num.coeff(s**2)\n",
    "b1 = H_sym_num.coeff(s**1)\n",
    "b0 = H_sym_num - b1*s*1 - b2*s**2\n",
    "\n",
    "Markdown('<p>$b_2={:s}$</p><p>$b_1={:s}$</p><p>$b_0={:s}$</p>'.format(latex(b2),latex(b1),latex(b0)))"
   ]
  },
  {
   "cell_type": "markdown",
   "id": "7aeb0948-0380-4201-a578-0c35e8fce3f3",
   "metadata": {},
   "source": [
    "Notice that ther terms $b_2$ and $b_1$ are negative. This follows from the Op Amp being configured as an inverting amplifier. R2 and R3 provide a DC path from the Op Amp's output to the inverting terminal.\n",
    "\n",
    "The roots of the numerator polynominal can easily be found with SymPy. \n",
    "\n",
    "This filter has two transmission zeros"
   ]
  },
  {
   "cell_type": "code",
   "execution_count": 11,
   "id": "3f735940-e563-4555-b7b1-e502cfdcbfa2",
   "metadata": {},
   "outputs": [],
   "source": [
    "num_root_sym = solve(H_sym_num,s)"
   ]
  },
  {
   "cell_type": "markdown",
   "id": "7ac12e8f-6901-458f-94ad-6bf8489b4cd4",
   "metadata": {},
   "source": [
    "There are two solutions, $z_1=0$ and another root at: "
   ]
  },
  {
   "cell_type": "code",
   "execution_count": 12,
   "id": "9beeda86-58d7-4786-a2a6-93eb75e4815b",
   "metadata": {},
   "outputs": [
    {
     "data": {
      "text/markdown": [
       "$z_2=\\frac{- C_{1} R_{3} - C_{2} R_{2} - C_{2} R_{3}}{C_{1} R_{3} \\left(C_{2} R_{1} + C_{2} R_{2} + C_{3} R_{1}\\right)}$"
      ],
      "text/plain": [
       "<IPython.core.display.Markdown object>"
      ]
     },
     "execution_count": 12,
     "metadata": {},
     "output_type": "execute_result"
    }
   ],
   "source": [
    "Markdown('$z_2={:s}$'.format(latex(num_root_sym[1])))"
   ]
  },
  {
   "cell_type": "markdown",
   "id": "dd41dfad-f83c-48fe-adb7-f38d13c2680c",
   "metadata": {},
   "source": [
    "### Denominator Polynominal\n"
   ]
  },
  {
   "cell_type": "code",
   "execution_count": 13,
   "id": "78a781c8-1de0-4d15-aae5-f9b34e84607e",
   "metadata": {},
   "outputs": [
    {
     "data": {
      "text/markdown": [
       "$D(s)=C_{1} C_{2} C_{3} R_{1} R_{2} R_{3} s^{3} + s^{2} \\left(C_{2} C_{3} R_{1} R_{2} + C_{2} C_{3} R_{1} R_{3}\\right) + s \\left(C_{2} R_{1} + C_{3} R_{1}\\right) + 1$"
      ],
      "text/plain": [
       "<IPython.core.display.Markdown object>"
      ]
     },
     "execution_count": 13,
     "metadata": {},
     "output_type": "execute_result"
    }
   ],
   "source": [
    "Markdown('$D(s)={:s}$'.format(latex(H_sym_denom)))"
   ]
  },
  {
   "cell_type": "markdown",
   "id": "76727e37-1f38-4316-8d7c-bb631c1e96c9",
   "metadata": {},
   "source": [
    "The coeficients of each Laplace terms can be equated to the variables $a_3$, $a_2$, $a_1$ and $a_0$ in the expression: \n",
    "\n",
    "$a_3s^3+a_2s^2+a_1s+a_0$\n",
    "\n",
    "where $a_3$, $a_2$, $a_1$ and $a_0$ are:"
   ]
  },
  {
   "cell_type": "code",
   "execution_count": 14,
   "id": "bbddce2c-fb72-4589-b65a-9048340baaa8",
   "metadata": {},
   "outputs": [
    {
     "data": {
      "text/markdown": [
       "<p>$a_3=C_{1} C_{2} C_{3} R_{1} R_{2} R_{3}$</p><p>$a_2=C_{2} C_{3} R_{1} R_{2} + C_{2} C_{3} R_{1} R_{3}$</p><p>$a_1=C_{2} R_{1} + C_{3} R_{1}$</p><p>$a_0=1$</p>"
      ],
      "text/plain": [
       "<IPython.core.display.Markdown object>"
      ]
     },
     "execution_count": 14,
     "metadata": {},
     "output_type": "execute_result"
    }
   ],
   "source": [
    "a3 = H_sym_denom.coeff(s**3)\n",
    "a2 = H_sym_denom.coeff(s**2)\n",
    "a1 = H_sym_denom.coeff(s**1)\n",
    "a0 = H_sym_denom - a1*s*1 - a2*s**2 - a3*s**3\n",
    "Markdown('<p>$a_3={:s}$</p><p>$a_2={:s}$</p><p>$a_1={:s}$</p><p>$a_0={:s}$</p>'.format(latex(a3), latex(a2),latex(a1),latex(a0)))"
   ]
  },
  {
   "cell_type": "markdown",
   "id": "f399d3f9-b92d-4333-a586-330592898f47",
   "metadata": {},
   "source": [
    "The roots of the denominator polynominal can found with SymPy. The filter circuit being analyzed in this report has a denominator polynominal that SymPy can quickly solve. This is not always the case. The expressions are long and do not render well when the JupyterLab notebook is converted to PDF, so the expressions were converted to LaTex strings and then to PNG images with [latex2png](https://latex2png.com/) for this report."
   ]
  },
  {
   "cell_type": "code",
   "execution_count": 15,
   "id": "53afdb6e-8a4d-4efc-9902-8a2e94638f93",
   "metadata": {},
   "outputs": [],
   "source": [
    "denom_root_sym = solve(H_sym_denom,s)"
   ]
  },
  {
   "cell_type": "code",
   "execution_count": 16,
   "id": "faad18c7-406b-4674-b4b8-532e87172131",
   "metadata": {},
   "outputs": [
    {
     "data": {
      "text/markdown": [
       "$N_r(s)=- s \\left(C R s + 1\\right) \\left(C R + C_{2} R + C_{2} R_{2}\\right)$"
      ],
      "text/plain": [
       "<IPython.core.display.Markdown object>"
      ]
     },
     "execution_count": 16,
     "metadata": {},
     "output_type": "execute_result"
    }
   ],
   "source": [
    "C, R = symbols('C R')\n",
    "Markdown('$N_r(s)={:s}$'.format(latex(H_sym_num.subs({R1:R, R3:R, C1:C, C3:C}).collect(s).factor())))"
   ]
  },
  {
   "cell_type": "markdown",
   "id": "b8cad665-1bc3-4c51-b9aa-897c8190bef6",
   "metadata": {},
   "source": [
    "In a simular fashon, the denominator polynominal is:"
   ]
  },
  {
   "cell_type": "code",
   "execution_count": 17,
   "id": "d8c23335-3cc3-4717-b304-743a729260dd",
   "metadata": {
    "tags": []
   },
   "outputs": [
    {
     "data": {
      "text/markdown": [
       "$D_r(s)=\\left(C R s + 1\\right) \\left(C C_{2} R R_{2} s^{2} + C_{2} R s + 1\\right)$"
      ],
      "text/plain": [
       "<IPython.core.display.Markdown object>"
      ]
     },
     "execution_count": 17,
     "metadata": {},
     "output_type": "execute_result"
    }
   ],
   "source": [
    "Markdown('$D_r(s)={:s}$'.format(latex(H_sym_denom.subs({R1:R, R3:R, C1:C, C3:C}).collect(s).factor())))"
   ]
  },
  {
   "cell_type": "markdown",
   "id": "48ed9303-88ee-42d9-a8dd-24fa1985919a",
   "metadata": {},
   "source": [
    "You can see the $\\left(CRs+1\\right)$ terms will cancel in the numerator and denominator.\n",
    "\n",
    "$\\frac {N_r(s)}{D_r(s)}=\\frac {- s \\left(C R s + 1\\right) \\left(C R + C_{2} R + C_{2} R_{2}\\right)}{\\left(C R s + 1\\right) \\left(C C_{2} R R_{2} s^{2} + C_{2} R s + 1\\right)}=\\frac {- s \\left(C R + C_{2} R + C_{2} R_{2}\\right)}{ \\left(C C_{2} R R_{2} s^{2} + C_{2} R s + 1\\right)}$\n"
   ]
  },
  {
   "cell_type": "markdown",
   "id": "33ba8888-2293-40d0-94c5-f04e2c1a7330",
   "metadata": {},
   "source": [
    "## The Quadratic Equation Revisited\n",
    "Methods of Design Oriented Analysis: The Quadratic Equation Revisited\n",
    "\n",
    "[x] R. D. Middlebrook, \"Methods of Design-Oriented Analysis: The Quadratic Equation Revisited,\" Proceedings. Twenty-Second Annual conference Frontiers in Education, Nashville, TN, USA, 1992, pp. 95-102, doi: 10.1109/FIE.1992.683365. keywords: {Design methodology;Equations},\n"
   ]
  },
  {
   "cell_type": "markdown",
   "id": "b424071d-e403-47b8-9e8f-82aa29fdb0a7",
   "metadata": {},
   "source": [
    "The coefficients of the Laplace variable, s, can be represented by $a$, $b$, and $c$ in the [quadratic equation](https://en.wikipedia.org/wiki/Quadratic_equation):\n",
    "\n",
    "$as^{2}+bs+c=0$\n",
    "\n",
    "where:"
   ]
  },
  {
   "cell_type": "code",
   "execution_count": 18,
   "id": "b65983e6-ba0f-4be4-9c41-02d45c22ee11",
   "metadata": {},
   "outputs": [],
   "source": [
    "omega_n, Q_factor, damping_ratio, atten_param = symbols('omega_n Q_factor damping_ratio atten_param')"
   ]
  },
  {
   "cell_type": "code",
   "execution_count": 19,
   "id": "57bef51a-64a4-48da-b89a-81dd571b525d",
   "metadata": {},
   "outputs": [],
   "source": [
    "a, b, c, s, z = symbols('a b c s z')"
   ]
  },
  {
   "cell_type": "code",
   "execution_count": 20,
   "id": "d6273e04-60c0-4aca-8f12-523783ae62fb",
   "metadata": {},
   "outputs": [
    {
     "data": {
      "image/png": "[encoded data removed]",
      "text/latex": [
       "$\\displaystyle a s^{2} + b s + c$"
      ],
      "text/plain": [
       "   2          \n",
       "a⋅s  + b⋅s + c"
      ]
     },
     "execution_count": 20,
     "metadata": {},
     "output_type": "execute_result"
    }
   ],
   "source": [
    "a*s**2+b*s+c"
   ]
  },
  {
   "cell_type": "code",
   "execution_count": 21,
   "id": "86c221cb-c02f-4ad3-b158-87fb3e539739",
   "metadata": {},
   "outputs": [],
   "source": [
    "x1, x2 = solve(a*s**2+b*s+c,s)"
   ]
  },
  {
   "cell_type": "code",
   "execution_count": 22,
   "id": "0239f98a-5f25-4508-8bef-1de6dc250ff5",
   "metadata": {},
   "outputs": [
    {
     "data": {
      "image/png": "[encoded data removed]",
      "text/latex": [
       "$\\displaystyle \\frac{- b - \\sqrt{- 4 a c + b^{2}}}{2 a}$"
      ],
      "text/plain": [
       "        _____________\n",
       "       ╱           2 \n",
       "-b - ╲╱  -4⋅a⋅c + b  \n",
       "─────────────────────\n",
       "         2⋅a         "
      ]
     },
     "execution_count": 22,
     "metadata": {},
     "output_type": "execute_result"
    }
   ],
   "source": [
    "x1"
   ]
  },
  {
   "cell_type": "code",
   "execution_count": 23,
   "id": "baf960d9-b8fb-4927-81ca-61486fb19020",
   "metadata": {},
   "outputs": [
    {
     "data": {
      "image/png": "[encoded data removed]",
      "text/latex": [
       "$\\displaystyle - \\frac{b}{2 a} - \\frac{\\sqrt{- 4 a c + b^{2}}}{2 a}$"
      ],
      "text/plain": [
       "           _____________\n",
       "          ╱           2 \n",
       "   b    ╲╱  -4⋅a⋅c + b  \n",
       "- ─── - ────────────────\n",
       "  2⋅a         2⋅a       "
      ]
     },
     "execution_count": 23,
     "metadata": {},
     "output_type": "execute_result"
    }
   ],
   "source": [
    "x1.expand() #apart()"
   ]
  },
  {
   "cell_type": "markdown",
   "id": "4ea6a46a-59e6-4912-acc5-58e05e3a7022",
   "metadata": {},
   "source": [
    "almost equation (3)\n",
    "\n",
    "Looking at equation (6)"
   ]
  },
  {
   "cell_type": "code",
   "execution_count": 24,
   "id": "c13963b6-1d4b-40bc-825c-e0aad1d62837",
   "metadata": {},
   "outputs": [
    {
     "data": {
      "image/png": "[encoded data removed]",
      "text/latex": [
       "$\\displaystyle z^{2} + 45000.0 z + 1$"
      ],
      "text/plain": [
       " 2                \n",
       "z  + 45000.0⋅z + 1"
      ]
     },
     "execution_count": 24,
     "metadata": {},
     "output_type": "execute_result"
    }
   ],
   "source": [
    "(a*z**2 + b*z + c).subs({a:1, b:45e3, c:1})"
   ]
  },
  {
   "cell_type": "code",
   "execution_count": 25,
   "id": "2bb3a3e3-f60d-4710-b18d-06aa5efc2838",
   "metadata": {},
   "outputs": [],
   "source": [
    "z1, z2 = solve((a*z**2 + b*z + c).subs({a:1, b:45000, c:1}), z)"
   ]
  },
  {
   "cell_type": "code",
   "execution_count": 26,
   "id": "9a55b185-76c9-49c0-9471-6b44096466cf",
   "metadata": {},
   "outputs": [
    {
     "data": {
      "image/png": "[encoded data removed]",
      "text/latex": [
       "$\\displaystyle -22500 - \\sqrt{506249999}$"
      ],
      "text/plain": [
       "-22500 - √506249999"
      ]
     },
     "execution_count": 26,
     "metadata": {},
     "output_type": "execute_result"
    }
   ],
   "source": [
    "z1"
   ]
  },
  {
   "cell_type": "code",
   "execution_count": 27,
   "id": "252b10f3-b698-4a63-ae27-062c6774cdb6",
   "metadata": {},
   "outputs": [
    {
     "data": {
      "image/png": "[encoded data removed]",
      "text/latex": [
       "$\\displaystyle -44999.9999777778$"
      ],
      "text/plain": [
       "-44999.9999777778"
      ]
     },
     "execution_count": 27,
     "metadata": {},
     "output_type": "execute_result"
    }
   ],
   "source": [
    "N(z1)"
   ]
  },
  {
   "cell_type": "code",
   "execution_count": 28,
   "id": "1a2d652a-85ef-4a00-a56a-0547153ca144",
   "metadata": {},
   "outputs": [
    {
     "data": {
      "image/png": "[encoded data removed]",
      "text/latex": [
       "$\\displaystyle -22500 + \\sqrt{506249999}$"
      ],
      "text/plain": [
       "-22500 + √506249999"
      ]
     },
     "execution_count": 28,
     "metadata": {},
     "output_type": "execute_result"
    }
   ],
   "source": [
    "z2"
   ]
  },
  {
   "cell_type": "code",
   "execution_count": 29,
   "id": "23d8f278-c8c0-41ba-85a0-f6f58bb18328",
   "metadata": {},
   "outputs": [
    {
     "data": {
      "image/png": "[encoded data removed]",
      "text/latex": [
       "$\\displaystyle -2.22222222331962 \\cdot 10^{-5}$"
      ],
      "text/plain": [
       "-2.22222222331962e-5"
      ]
     },
     "execution_count": 29,
     "metadata": {},
     "output_type": "execute_result"
    }
   ],
   "source": [
    "N(z2)"
   ]
  },
  {
   "cell_type": "code",
   "execution_count": null,
   "id": "83afb4a2-eb79-4f26-b612-f9744b62084d",
   "metadata": {},
   "outputs": [],
   "source": []
  },
  {
   "cell_type": "code",
   "execution_count": null,
   "id": "95145b47-45e9-48f2-b255-35d0f3e7f19c",
   "metadata": {},
   "outputs": [],
   "source": []
  },
  {
   "cell_type": "markdown",
   "id": "827387ef-32b6-48bc-ba30-8aae30dd3ee2",
   "metadata": {},
   "source": [
    "Figure 2\n",
    "\n",
    "```\n",
    "* C:\\users\\jeff64\\My Documents\\JupyterLab\\Misc ipython notebooks\\Buchla 295 10 Channel Comb Filter\\FACT circuits\\Fig_2_example.asc\n",
    "R1 2 1 47e3\n",
    "R2 3 0 1e3\n",
    "R3 2 0 100e3\n",
    "C1 2 3 0.1e-6\n",
    "C2 2 0 0.002e-6\n",
    "V1 1 0 1\n",
    ".backanno\n",
    ".end\n",
    "```\n"
   ]
  },
  {
   "cell_type": "code",
   "execution_count": 30,
   "id": "83d03c60-2030-480f-aae0-5985d29802c3",
   "metadata": {},
   "outputs": [],
   "source": [
    "example_net_list = '''\n",
    "* Fig_2_example.asc\n",
    "R1 2 1 47e3\n",
    "R2 3 0 1e3\n",
    "R3 2 0 100e3\n",
    "C1 2 3 0.1e-6\n",
    "C2 2 0 0.002e-6\n",
    "V1 1 0 1\n",
    "'''"
   ]
  },
  {
   "cell_type": "markdown",
   "id": "34fc1d49-4db9-463f-833d-09d2cf12b520",
   "metadata": {},
   "source": [
    "## Generate Network Equations "
   ]
  },
  {
   "cell_type": "code",
   "execution_count": 31,
   "id": "6fb3d070-de2b-43c2-aa9a-2e9ac5ffc97c",
   "metadata": {},
   "outputs": [
    {
     "data": {
      "text/markdown": [
       "<p>$I_{V1} + \\frac{v_{1}}{R_{1}} - \\frac{v_{2}}{R_{1}} = 0$</p><p>$- C_{1} s v_{3} + v_{2} \\left(C_{1} s + C_{2} s + \\frac{1}{R_{3}} + \\frac{1}{R_{1}}\\right) - \\frac{v_{1}}{R_{1}} = 0$</p><p>$- C_{1} s v_{2} + v_{3} \\left(C_{1} s + \\frac{1}{R_{2}}\\right) = 0$</p><p>$v_{1} = V_{1}$</p>"
      ],
      "text/plain": [
       "<IPython.core.display.Markdown object>"
      ]
     },
     "execution_count": 31,
     "metadata": {},
     "output_type": "execute_result"
    }
   ],
   "source": [
    "report, network_df, df2, A, X, Z = SymMNA.smna(example_net_list)\n",
    "\n",
    "# Put matrices into SymPy \n",
    "X = Matrix(X)\n",
    "Z = Matrix(Z)\n",
    "\n",
    "NE_sym = Eq(A*X,Z)\n",
    "\n",
    "# display the equations\n",
    "temp = ''\n",
    "for i in range(shape(NE_sym.lhs)[0]):\n",
    "    temp += '<p>${:s} = {:s}$</p>'.format(latex(NE_sym.lhs[i]),\n",
    "        latex(NE_sym.rhs[i]))\n",
    "\n",
    "Markdown(temp)"
   ]
  },
  {
   "cell_type": "code",
   "execution_count": 32,
   "id": "80184a14-3d12-4873-8127-0df9b8539599",
   "metadata": {},
   "outputs": [],
   "source": [
    "var(str(NE_sym.free_symbols).replace('{','').replace('}',''))\n",
    "element_values = SymMNA.get_part_values(network_df)"
   ]
  },
  {
   "cell_type": "code",
   "execution_count": 33,
   "id": "43fd891b-1a27-4045-93ea-9e61ab4aee88",
   "metadata": {},
   "outputs": [],
   "source": [
    "U_sym = solve(NE_sym,X)"
   ]
  },
  {
   "cell_type": "code",
   "execution_count": 34,
   "id": "253a5feb-b169-47be-8bce-d3015fc5531f",
   "metadata": {},
   "outputs": [
    {
     "data": {
      "text/markdown": [
       "<p>$v_{1} = V_{1}$</p><p>$v_{2} = \\frac{C_{1} R_{2} R_{3} V_{1} s + R_{3} V_{1}}{C_{1} C_{2} R_{1} R_{2} R_{3} s^{2} + C_{1} R_{1} R_{2} s + C_{1} R_{1} R_{3} s + C_{1} R_{2} R_{3} s + C_{2} R_{1} R_{3} s + R_{1} + R_{3}}$</p><p>$v_{3} = \\frac{C_{1} R_{2} R_{3} V_{1} s}{C_{1} C_{2} R_{1} R_{2} R_{3} s^{2} + C_{1} R_{1} R_{2} s + C_{1} R_{1} R_{3} s + C_{1} R_{2} R_{3} s + C_{2} R_{1} R_{3} s + R_{1} + R_{3}}$</p>"
      ],
      "text/plain": [
       "<IPython.core.display.Markdown object>"
      ]
     },
     "execution_count": 34,
     "metadata": {},
     "output_type": "execute_result"
    }
   ],
   "source": [
    "temp = ''\n",
    "for i in U_sym.keys():\n",
    "    if str(i)[0] == 'v': # only display the node voltages\n",
    "        temp += '<p>${:s} = {:s}$</p>'.format(latex(i),latex(U_sym[i]))\n",
    "\n",
    "Markdown(temp)"
   ]
  },
  {
   "cell_type": "markdown",
   "id": "a16a326a-be87-467e-81bb-5f9041b31bae",
   "metadata": {},
   "source": [
    "### Voltage Transfer Function $H(s)=\\frac {v_2(s)}{v_1(s)}$"
   ]
  },
  {
   "cell_type": "code",
   "execution_count": 35,
   "id": "faa9fbd2-0ac2-41bf-a307-97badd27b277",
   "metadata": {},
   "outputs": [
    {
     "data": {
      "text/markdown": [
       "$H(s)=\\frac{C_{1} R_{2} R_{3} s + R_{3}}{C_{1} C_{2} R_{1} R_{2} R_{3} s^{2} + R_{1} + R_{3} + s \\left(C_{1} R_{1} R_{2} + C_{1} R_{1} R_{3} + C_{1} R_{2} R_{3} + C_{2} R_{1} R_{3}\\right)}$"
      ],
      "text/plain": [
       "<IPython.core.display.Markdown object>"
      ]
     },
     "execution_count": 35,
     "metadata": {},
     "output_type": "execute_result"
    }
   ],
   "source": [
    "H_sym = cancel(U_sym[v2]/U_sym[v1],s)\n",
    "Markdown('$H(s)={:s}$'.format(latex(H_sym)))"
   ]
  },
  {
   "cell_type": "code",
   "execution_count": 36,
   "id": "9417a51d-fad0-4097-8169-a19ef32b3aff",
   "metadata": {
    "tags": []
   },
   "outputs": [],
   "source": [
    "H_sym_num, H_sym_denom = fraction(H_sym,s) #returns numerator and denominator"
   ]
  },
  {
   "cell_type": "markdown",
   "id": "8a09d864-b713-4576-a783-ad4d1bc4d636",
   "metadata": {},
   "source": [
    "### Numerator Polynominal"
   ]
  },
  {
   "cell_type": "code",
   "execution_count": 37,
   "id": "998b4398-875b-407e-a2cf-ea3d6352e350",
   "metadata": {},
   "outputs": [
    {
     "data": {
      "text/markdown": [
       "$N(s)=C_{1} R_{2} R_{3} s + R_{3}$"
      ],
      "text/plain": [
       "<IPython.core.display.Markdown object>"
      ]
     },
     "execution_count": 37,
     "metadata": {},
     "output_type": "execute_result"
    }
   ],
   "source": [
    "Markdown('$N(s)={:s}$'.format(latex(H_sym_num)))"
   ]
  },
  {
   "cell_type": "markdown",
   "id": "acde3bc1-82b8-402a-ba00-0c36f7842a43",
   "metadata": {},
   "source": [
    "The coeficients of each Laplace terms can be equated to the variables $b_2$, $b_1$ and $b_0$ in the expression: \n",
    "\n",
    "$b_2s^{2}+b_1s+b_0$\n",
    "\n",
    "where $b_2$, $b_1$ and $b_0$ are:"
   ]
  },
  {
   "cell_type": "code",
   "execution_count": 38,
   "id": "6b7d78bf-9e52-4e1a-b057-ccc6ac107989",
   "metadata": {},
   "outputs": [
    {
     "data": {
      "text/markdown": [
       "<p>$b_2=0$</p><p>$b_1=C_{1} R_{2} R_{3}$</p><p>$b_0=R_{3}$</p>"
      ],
      "text/plain": [
       "<IPython.core.display.Markdown object>"
      ]
     },
     "execution_count": 38,
     "metadata": {},
     "output_type": "execute_result"
    }
   ],
   "source": [
    "b2 = H_sym_num.coeff(s**2)\n",
    "b1 = H_sym_num.coeff(s**1)\n",
    "b0 = H_sym_num - b1*s*1 - b2*s**2\n",
    "\n",
    "Markdown('<p>$b_2={:s}$</p><p>$b_1={:s}$</p><p>$b_0={:s}$</p>'.format(latex(b2),latex(b1),latex(b0)))"
   ]
  },
  {
   "cell_type": "markdown",
   "id": "b4689ec0-e4e1-4715-937e-872edf9baded",
   "metadata": {},
   "source": [
    "Notice that ther terms $b_2$ and $b_1$ are negative. This follows from the Op Amp being configured as an inverting amplifier. R2 and R3 provide a DC path from the Op Amp's output to the inverting terminal.\n",
    "\n",
    "The roots of the numerator polynominal can easily be found with SymPy. \n",
    "\n",
    "This filter has two transmission zeros"
   ]
  },
  {
   "cell_type": "code",
   "execution_count": 39,
   "id": "bbf36668-5f03-4fe5-bd6e-c727b68828c1",
   "metadata": {},
   "outputs": [],
   "source": [
    "num_root_sym = solve(H_sym_num,s)"
   ]
  },
  {
   "cell_type": "code",
   "execution_count": 40,
   "id": "91ed965a-0e29-43c2-a420-4ced6ea9ccb8",
   "metadata": {},
   "outputs": [
    {
     "data": {
      "image/png": "[encoded data removed]",
      "text/latex": [
       "$\\displaystyle \\left[ - \\frac{1}{C_{1} R_{2}}\\right]$"
      ],
      "text/plain": [
       "⎡ -1  ⎤\n",
       "⎢─────⎥\n",
       "⎣C₁⋅R₂⎦"
      ]
     },
     "execution_count": 40,
     "metadata": {},
     "output_type": "execute_result"
    }
   ],
   "source": [
    "num_root_sym"
   ]
  },
  {
   "cell_type": "markdown",
   "id": "242db405-20bc-407c-81a2-9da6a29f7c55",
   "metadata": {},
   "source": [
    "### Denominator Polynominal"
   ]
  },
  {
   "cell_type": "code",
   "execution_count": 41,
   "id": "c63ef161-219e-4cdd-86bd-f9ebbddab917",
   "metadata": {},
   "outputs": [
    {
     "data": {
      "text/markdown": [
       "$D(s)=C_{1} C_{2} R_{1} R_{2} R_{3} s^{2} + R_{1} + R_{3} + s \\left(C_{1} R_{1} R_{2} + C_{1} R_{1} R_{3} + C_{1} R_{2} R_{3} + C_{2} R_{1} R_{3}\\right)$"
      ],
      "text/plain": [
       "<IPython.core.display.Markdown object>"
      ]
     },
     "execution_count": 41,
     "metadata": {},
     "output_type": "execute_result"
    }
   ],
   "source": [
    "Markdown('$D(s)={:s}$'.format(latex(H_sym_denom)))"
   ]
  },
  {
   "cell_type": "markdown",
   "id": "3d0482c7-3d34-47ee-b2c1-3c32cb1dadf4",
   "metadata": {},
   "source": [
    "The coeficients of each Laplace terms can be equated to the variables $a_3$, $a_2$, $a_1$ and $a_0$ in the expression: \n",
    "\n",
    "$a_3s^3+a_2s^2+a_1s+a_0$\n",
    "\n",
    "where $a_3$, $a_2$, $a_1$ and $a_0$ are:"
   ]
  },
  {
   "cell_type": "code",
   "execution_count": 42,
   "id": "6b8eb6a3-e9b8-481a-b794-8b77f1622f78",
   "metadata": {},
   "outputs": [
    {
     "data": {
      "text/markdown": [
       "<p>$a_3=0$</p><p>$a_2=C_{1} C_{2} R_{1} R_{2} R_{3}$</p><p>$a_1=C_{1} R_{1} R_{2} + C_{1} R_{1} R_{3} + C_{1} R_{2} R_{3} + C_{2} R_{1} R_{3}$</p><p>$a_0=R_{1} + R_{3}$</p>"
      ],
      "text/plain": [
       "<IPython.core.display.Markdown object>"
      ]
     },
     "execution_count": 42,
     "metadata": {},
     "output_type": "execute_result"
    }
   ],
   "source": [
    "a3 = H_sym_denom.coeff(s**3)\n",
    "a2 = H_sym_denom.coeff(s**2)\n",
    "a1 = H_sym_denom.coeff(s**1)\n",
    "a0 = H_sym_denom - a1*s*1 - a2*s**2 - a3*s**3\n",
    "Markdown('<p>$a_3={:s}$</p><p>$a_2={:s}$</p><p>$a_1={:s}$</p><p>$a_0={:s}$</p>'.format(latex(a3), latex(a2),latex(a1),latex(a0)))"
   ]
  },
  {
   "cell_type": "code",
   "execution_count": 43,
   "id": "377009c2-c30f-4b15-9e40-8e9211c55db5",
   "metadata": {},
   "outputs": [],
   "source": [
    "r1, r2 = denom_root_sym = solve(H_sym_denom,s)"
   ]
  },
  {
   "cell_type": "code",
   "execution_count": 44,
   "id": "c84679bf-3586-4dfa-a0cd-3c3ff59c343b",
   "metadata": {},
   "outputs": [
    {
     "data": {
      "image/png": "[encoded data removed]",
      "text/latex": [
       "$\\displaystyle \\frac{- C_{1} R_{1} R_{2} - C_{1} R_{1} R_{3} - C_{1} R_{2} R_{3} - C_{2} R_{1} R_{3} - \\sqrt{C_{1}^{2} R_{1}^{2} R_{2}^{2} + 2 C_{1}^{2} R_{1}^{2} R_{2} R_{3} + C_{1}^{2} R_{1}^{2} R_{3}^{2} + 2 C_{1}^{2} R_{1} R_{2}^{2} R_{3} + 2 C_{1}^{2} R_{1} R_{2} R_{3}^{2} + C_{1}^{2} R_{2}^{2} R_{3}^{2} - 2 C_{1} C_{2} R_{1}^{2} R_{2} R_{3} + 2 C_{1} C_{2} R_{1}^{2} R_{3}^{2} - 2 C_{1} C_{2} R_{1} R_{2} R_{3}^{2} + C_{2}^{2} R_{1}^{2} R_{3}^{2}}}{2 C_{1} C_{2} R_{1} R_{2} R_{3}}$"
      ],
      "text/plain": [
       "                                                ______________________________\n",
       "                                               ╱   2   2   2       2   2      \n",
       "-C₁⋅R₁⋅R₂ - C₁⋅R₁⋅R₃ - C₁⋅R₂⋅R₃ - C₂⋅R₁⋅R₃ - ╲╱  C₁ ⋅R₁ ⋅R₂  + 2⋅C₁ ⋅R₁ ⋅R₂⋅R₃\n",
       "──────────────────────────────────────────────────────────────────────────────\n",
       "                                                                              \n",
       "\n",
       "______________________________________________________________________________\n",
       "     2   2   2       2      2          2         2     2   2   2             2\n",
       " + C₁ ⋅R₁ ⋅R₃  + 2⋅C₁ ⋅R₁⋅R₂ ⋅R₃ + 2⋅C₁ ⋅R₁⋅R₂⋅R₃  + C₁ ⋅R₂ ⋅R₃  - 2⋅C₁⋅C₂⋅R₁ \n",
       "──────────────────────────────────────────────────────────────────────────────\n",
       "                      2⋅C₁⋅C₂⋅R₁⋅R₂⋅R₃                                        \n",
       "\n",
       "___________________________________________________________\n",
       "                   2   2                   2     2   2   2 \n",
       "⋅R₂⋅R₃ + 2⋅C₁⋅C₂⋅R₁ ⋅R₃  - 2⋅C₁⋅C₂⋅R₁⋅R₂⋅R₃  + C₂ ⋅R₁ ⋅R₃  \n",
       "───────────────────────────────────────────────────────────\n",
       "                                                           "
      ]
     },
     "execution_count": 44,
     "metadata": {},
     "output_type": "execute_result"
    }
   ],
   "source": [
    "r1"
   ]
  },
  {
   "cell_type": "code",
   "execution_count": 45,
   "id": "1117c7ed-a457-4d36-96ba-d79b10808bd3",
   "metadata": {},
   "outputs": [
    {
     "data": {
      "image/png": "[encoded data removed]",
      "text/latex": [
       "$\\displaystyle \\frac{2 C_{1} C_{2} R_{1} R_{2} R_{3}}{- C_{1} R_{1} R_{2} - C_{1} R_{1} R_{3} - C_{1} R_{2} R_{3} - C_{2} R_{1} R_{3} - \\sqrt{C_{1}^{2} R_{1}^{2} R_{2}^{2} + 2 C_{1}^{2} R_{1}^{2} R_{2} R_{3} + C_{1}^{2} R_{1}^{2} R_{3}^{2} + 2 C_{1}^{2} R_{1} R_{2}^{2} R_{3} + 2 C_{1}^{2} R_{1} R_{2} R_{3}^{2} + C_{1}^{2} R_{2}^{2} R_{3}^{2} - 2 C_{1} C_{2} R_{1}^{2} R_{2} R_{3} + 2 C_{1} C_{2} R_{1}^{2} R_{3}^{2} - 2 C_{1} C_{2} R_{1} R_{2} R_{3}^{2} + C_{2}^{2} R_{1}^{2} R_{3}^{2}}}$"
      ],
      "text/plain": [
       "                                                                              \n",
       "──────────────────────────────────────────────────────────────────────────────\n",
       "                                                ______________________________\n",
       "                                               ╱   2   2   2       2   2      \n",
       "-C₁⋅R₁⋅R₂ - C₁⋅R₁⋅R₃ - C₁⋅R₂⋅R₃ - C₂⋅R₁⋅R₃ - ╲╱  C₁ ⋅R₁ ⋅R₂  + 2⋅C₁ ⋅R₁ ⋅R₂⋅R₃\n",
       "\n",
       "                      2⋅C₁⋅C₂⋅R₁⋅R₂⋅R₃                                        \n",
       "──────────────────────────────────────────────────────────────────────────────\n",
       "______________________________________________________________________________\n",
       "     2   2   2       2      2          2         2     2   2   2             2\n",
       " + C₁ ⋅R₁ ⋅R₃  + 2⋅C₁ ⋅R₁⋅R₂ ⋅R₃ + 2⋅C₁ ⋅R₁⋅R₂⋅R₃  + C₁ ⋅R₂ ⋅R₃  - 2⋅C₁⋅C₂⋅R₁ \n",
       "\n",
       "                                                           \n",
       "───────────────────────────────────────────────────────────\n",
       "___________________________________________________________\n",
       "                   2   2                   2     2   2   2 \n",
       "⋅R₂⋅R₃ + 2⋅C₁⋅C₂⋅R₁ ⋅R₃  - 2⋅C₁⋅C₂⋅R₁⋅R₂⋅R₃  + C₂ ⋅R₁ ⋅R₃  "
      ]
     },
     "execution_count": 45,
     "metadata": {},
     "output_type": "execute_result"
    }
   ],
   "source": [
    "(1/r1).expand()"
   ]
  },
  {
   "cell_type": "code",
   "execution_count": null,
   "id": "0223202e-e64a-48c4-8141-86caa9bfc702",
   "metadata": {},
   "outputs": [],
   "source": []
  },
  {
   "cell_type": "code",
   "execution_count": null,
   "id": "19361275-d8ee-4eea-8d8a-ad0165ad4763",
   "metadata": {},
   "outputs": [],
   "source": []
  },
  {
   "cell_type": "markdown",
   "id": "de3b74dd-2e1d-43a4-836e-bf5a27e3c9cf",
   "metadata": {},
   "source": [
    "## Working through examples in *Introduction to Fast Analytical Techniques*\n",
    "\n",
    "- make folder for schematics and LTSpice circuits\n",
    "\n",
    "[x] Christophe Basso, Introduction to Fast Analytical Techniques: Application to Small-Signal Modeling, https://www.powersimtof.com/Downloads/PPTs/Chris%20Basso%20APEC%20seminar%202016.pdf, last accessed March 6, 2025\n",
    "\n",
    "\n",
    "### Circuit on slide #9\n",
    "```\n",
    "* C:\\users\\jeff64\\My Documents\\JupyterLab\\Misc ipython notebooks\\Buchla 295 10 Channel Comb Filter\\FACT circuits\\Slide_9_circuit.asc\n",
    "V1 1 0 1\n",
    "RL 3 1 1\n",
    "RC 2 4 1\n",
    "R1 2 0 1\n",
    "C2 4 0 1\n",
    "L1 3 2 1\n",
    ".backanno\n",
    ".end\n",
    "```"
   ]
  },
  {
   "cell_type": "code",
   "execution_count": 46,
   "id": "0f9da093-832f-493c-8c3c-b2750aabf6d0",
   "metadata": {},
   "outputs": [],
   "source": [
    "example_net_list = '''\n",
    "V1 1 0 1\n",
    "RL 3 1 1\n",
    "RC 2 4 1\n",
    "R1 2 0 1\n",
    "C2 4 0 1\n",
    "L1 3 2 1\n",
    "'''"
   ]
  },
  {
   "cell_type": "markdown",
   "id": "b02b70d8-e4ea-4cab-930c-ef0832d50479",
   "metadata": {},
   "source": [
    "## Generate Network Equations "
   ]
  },
  {
   "cell_type": "code",
   "execution_count": 47,
   "id": "f1b2df0b-fe75-4f4b-a435-9752e6932944",
   "metadata": {},
   "outputs": [],
   "source": [
    "report, network_df, df2, A, X, Z = SymMNA.smna(example_net_list)"
   ]
  },
  {
   "cell_type": "code",
   "execution_count": 48,
   "id": "45f6f889-4d73-487b-afcc-7ec19d3c019e",
   "metadata": {},
   "outputs": [
    {
     "data": {
      "text/markdown": [
       "<p>$I_{V1} + \\frac{v_{1}}{Rl} - \\frac{v_{3}}{Rl} = 0$</p><p>$- I_{L1} + v_{2} \\cdot \\left(\\frac{1}{Rc} + \\frac{1}{R_{1}}\\right) - \\frac{v_{4}}{Rc} = 0$</p><p>$I_{L1} - \\frac{v_{1}}{Rl} + \\frac{v_{3}}{Rl} = 0$</p><p>$v_{4} \\left(C_{2} s + \\frac{1}{Rc}\\right) - \\frac{v_{2}}{Rc} = 0$</p><p>$v_{1} = V_{1}$</p><p>$- I_{L1} L_{1} s - v_{2} + v_{3} = 0$</p>"
      ],
      "text/plain": [
       "<IPython.core.display.Markdown object>"
      ]
     },
     "execution_count": 48,
     "metadata": {},
     "output_type": "execute_result"
    }
   ],
   "source": [
    "# Put matrices into SymPy \n",
    "X = Matrix(X)\n",
    "Z = Matrix(Z)\n",
    "\n",
    "NE_sym = Eq(A*X,Z)\n",
    "\n",
    "# display the equations\n",
    "temp = ''\n",
    "for i in range(shape(NE_sym.lhs)[0]):\n",
    "    temp += '<p>${:s} = {:s}$</p>'.format(latex(NE_sym.lhs[i]),\n",
    "        latex(NE_sym.rhs[i]))\n",
    "\n",
    "Markdown(temp)"
   ]
  },
  {
   "cell_type": "code",
   "execution_count": 49,
   "id": "a785bce5-57ca-4e74-bfd3-3fcc02a4dde7",
   "metadata": {},
   "outputs": [],
   "source": [
    "var(str(NE_sym.free_symbols).replace('{','').replace('}',''))\n",
    "element_values = SymMNA.get_part_values(network_df)"
   ]
  },
  {
   "cell_type": "code",
   "execution_count": 50,
   "id": "a343f779-5c9b-42a4-a704-6badc7ff6b79",
   "metadata": {},
   "outputs": [],
   "source": [
    "U_sym = solve(NE_sym,X)"
   ]
  },
  {
   "cell_type": "code",
   "execution_count": 51,
   "id": "39605fcb-deee-45a7-baae-ee31333adace",
   "metadata": {},
   "outputs": [
    {
     "data": {
      "text/markdown": [
       "<p>$v_{1} = V_{1}$</p><p>$v_{2} = \\frac{C_{2} R_{1} Rc V_{1} s + R_{1} V_{1}}{C_{2} L_{1} R_{1} s^{2} + C_{2} L_{1} Rc s^{2} + C_{2} R_{1} Rc s + C_{2} R_{1} Rl s + C_{2} Rc Rl s + L_{1} s + R_{1} + Rl}$</p><p>$v_{3} = \\frac{C_{2} L_{1} R_{1} V_{1} s^{2} + C_{2} L_{1} Rc V_{1} s^{2} + C_{2} R_{1} Rc V_{1} s + L_{1} V_{1} s + R_{1} V_{1}}{C_{2} L_{1} R_{1} s^{2} + C_{2} L_{1} Rc s^{2} + C_{2} R_{1} Rc s + C_{2} R_{1} Rl s + C_{2} Rc Rl s + L_{1} s + R_{1} + Rl}$</p><p>$v_{4} = \\frac{R_{1} V_{1}}{C_{2} L_{1} R_{1} s^{2} + C_{2} L_{1} Rc s^{2} + C_{2} R_{1} Rc s + C_{2} R_{1} Rl s + C_{2} Rc Rl s + L_{1} s + R_{1} + Rl}$</p>"
      ],
      "text/plain": [
       "<IPython.core.display.Markdown object>"
      ]
     },
     "execution_count": 51,
     "metadata": {},
     "output_type": "execute_result"
    }
   ],
   "source": [
    "temp = ''\n",
    "for i in U_sym.keys():\n",
    "    if str(i)[0] == 'v': # only display the node voltages\n",
    "        temp += '<p>${:s} = {:s}$</p>'.format(latex(i),latex(U_sym[i]))\n",
    "\n",
    "Markdown(temp)"
   ]
  },
  {
   "cell_type": "markdown",
   "id": "89759c8b-66ea-4564-af88-d622a24cf3e3",
   "metadata": {},
   "source": [
    "### Voltage Transfer Function $H(s)=\\frac {v_2(s)}{v_1(s)}$"
   ]
  },
  {
   "cell_type": "code",
   "execution_count": 52,
   "id": "571a46f5-7778-4384-b137-3e20b3192273",
   "metadata": {},
   "outputs": [
    {
     "data": {
      "text/markdown": [
       "$H(s)=\\frac{C_{2} R_{1} Rc s + R_{1}}{R_{1} + Rl + s^{2} \\left(C_{2} L_{1} R_{1} + C_{2} L_{1} Rc\\right) + s \\left(C_{2} R_{1} Rc + C_{2} R_{1} Rl + C_{2} Rc Rl + L_{1}\\right)}$"
      ],
      "text/plain": [
       "<IPython.core.display.Markdown object>"
      ]
     },
     "execution_count": 52,
     "metadata": {},
     "output_type": "execute_result"
    }
   ],
   "source": [
    "H_sym = cancel(U_sym[v2]/U_sym[v1],s)\n",
    "Markdown('$H(s)={:s}$'.format(latex(H_sym)))"
   ]
  },
  {
   "cell_type": "code",
   "execution_count": 53,
   "id": "933bdaee-71b4-4310-81f5-0932323f9db6",
   "metadata": {
    "tags": []
   },
   "outputs": [],
   "source": [
    "H_sym_num, H_sym_denom = fraction(H_sym,s) #returns numerator and denominator"
   ]
  },
  {
   "cell_type": "markdown",
   "id": "3c6551af-65d6-406a-ac55-e28d1f76c204",
   "metadata": {},
   "source": [
    "### Numerator Polynominal"
   ]
  },
  {
   "cell_type": "code",
   "execution_count": 54,
   "id": "206e2b80-5703-4c06-ae6b-fd3e1392fddc",
   "metadata": {},
   "outputs": [
    {
     "data": {
      "text/markdown": [
       "$N(s)=C_{2} R_{1} Rc s + R_{1}$"
      ],
      "text/plain": [
       "<IPython.core.display.Markdown object>"
      ]
     },
     "execution_count": 54,
     "metadata": {},
     "output_type": "execute_result"
    }
   ],
   "source": [
    "Markdown('$N(s)={:s}$'.format(latex(H_sym_num)))"
   ]
  },
  {
   "cell_type": "markdown",
   "id": "50a17637-7acb-4f7d-98b8-db0d4738b304",
   "metadata": {},
   "source": [
    "The coeficients of each Laplace terms can be equated to the variables $b_2$, $b_1$ and $b_0$ in the expression: \n",
    "\n",
    "$b_2s^{2}+b_1s+b_0$\n",
    "\n",
    "where $b_2$, $b_1$ and $b_0$ are:"
   ]
  },
  {
   "cell_type": "code",
   "execution_count": 55,
   "id": "a6f82761-fccf-49d7-91d0-757c4b70f13b",
   "metadata": {},
   "outputs": [
    {
     "data": {
      "text/markdown": [
       "<p>$b_2=0$</p><p>$b_1=C_{2} R_{1} Rc$</p><p>$b_0=R_{1}$</p>"
      ],
      "text/plain": [
       "<IPython.core.display.Markdown object>"
      ]
     },
     "execution_count": 55,
     "metadata": {},
     "output_type": "execute_result"
    }
   ],
   "source": [
    "b2 = H_sym_num.coeff(s**2)\n",
    "b1 = H_sym_num.coeff(s**1)\n",
    "b0 = H_sym_num - b1*s*1 - b2*s**2\n",
    "\n",
    "Markdown('<p>$b_2={:s}$</p><p>$b_1={:s}$</p><p>$b_0={:s}$</p>'.format(latex(b2),latex(b1),latex(b0)))"
   ]
  },
  {
   "cell_type": "code",
   "execution_count": 56,
   "id": "11d69f0d-917d-4d16-b36a-78bb05ef8224",
   "metadata": {},
   "outputs": [],
   "source": [
    "num_root_sym = solve(H_sym_num,s)"
   ]
  },
  {
   "cell_type": "code",
   "execution_count": 57,
   "id": "1138922a-f3c9-4819-b5f1-689c8ab6c1bb",
   "metadata": {},
   "outputs": [
    {
     "data": {
      "image/png": "[encoded data removed]",
      "text/latex": [
       "$\\displaystyle \\left[ - \\frac{1}{C_{2} Rc}\\right]$"
      ],
      "text/plain": [
       "⎡ -1  ⎤\n",
       "⎢─────⎥\n",
       "⎣C₂⋅Rc⎦"
      ]
     },
     "execution_count": 57,
     "metadata": {},
     "output_type": "execute_result"
    }
   ],
   "source": [
    "num_root_sym"
   ]
  },
  {
   "cell_type": "markdown",
   "id": "7d3c312f-5302-488f-bd29-e78ff137fc67",
   "metadata": {},
   "source": [
    "The zero looks correct.\n",
    "\n",
    "### Denominator Polynominal"
   ]
  },
  {
   "cell_type": "code",
   "execution_count": 58,
   "id": "a78de8e5-5e87-4261-a7c8-e0f026597087",
   "metadata": {},
   "outputs": [
    {
     "data": {
      "text/markdown": [
       "$D(s)=R_{1} + Rl + s^{2} \\left(C_{2} L_{1} R_{1} + C_{2} L_{1} Rc\\right) + s \\left(C_{2} R_{1} Rc + C_{2} R_{1} Rl + C_{2} Rc Rl + L_{1}\\right)$"
      ],
      "text/plain": [
       "<IPython.core.display.Markdown object>"
      ]
     },
     "execution_count": 58,
     "metadata": {},
     "output_type": "execute_result"
    }
   ],
   "source": [
    "Markdown('$D(s)={:s}$'.format(latex(H_sym_denom)))"
   ]
  },
  {
   "cell_type": "markdown",
   "id": "5cb9b192-7c2e-44b8-bd88-5f1df36ae320",
   "metadata": {},
   "source": [
    "The coeficients of each Laplace terms can be equated to the variables $a_3$, $a_2$, $a_1$ and $a_0$ in the expression: \n",
    "\n",
    "$a_3s^3+a_2s^2+a_1s+a_0$\n",
    "\n",
    "where $a_3$, $a_2$, $a_1$ and $a_0$ are:"
   ]
  },
  {
   "cell_type": "code",
   "execution_count": 59,
   "id": "6a4b27f6-618b-4adb-a1b9-f441c4c1495a",
   "metadata": {},
   "outputs": [
    {
     "data": {
      "text/markdown": [
       "<p>$a_3=0$</p><p>$a_2=C_{2} L_{1} R_{1} + C_{2} L_{1} Rc$</p><p>$a_1=C_{2} R_{1} Rc + C_{2} R_{1} Rl + C_{2} Rc Rl + L_{1}$</p><p>$a_0=R_{1} + Rl$</p>"
      ],
      "text/plain": [
       "<IPython.core.display.Markdown object>"
      ]
     },
     "execution_count": 59,
     "metadata": {},
     "output_type": "execute_result"
    }
   ],
   "source": [
    "a3 = H_sym_denom.coeff(s**3)\n",
    "a2 = H_sym_denom.coeff(s**2)\n",
    "a1 = H_sym_denom.coeff(s**1)\n",
    "a0 = H_sym_denom - a1*s*1 - a2*s**2 - a3*s**3\n",
    "Markdown('<p>$a_3={:s}$</p><p>$a_2={:s}$</p><p>$a_1={:s}$</p><p>$a_0={:s}$</p>'.format(latex(a3), latex(a2),latex(a1),latex(a0)))"
   ]
  },
  {
   "cell_type": "code",
   "execution_count": 60,
   "id": "88e4f50c-f79f-41b0-b159-152a9bfb753c",
   "metadata": {},
   "outputs": [],
   "source": [
    "r1, r2 = denom_root_sym = solve(H_sym_denom,s)"
   ]
  },
  {
   "cell_type": "code",
   "execution_count": 61,
   "id": "eee827c5-5d40-4035-b5f8-6944f4741eef",
   "metadata": {},
   "outputs": [
    {
     "data": {
      "image/png": "[encoded data removed]",
      "text/latex": [
       "$\\displaystyle \\frac{- C_{2} R_{1} Rc - C_{2} R_{1} Rl - C_{2} Rc Rl - L_{1} - \\sqrt{C_{2}^{2} R_{1}^{2} Rc^{2} + 2 C_{2}^{2} R_{1}^{2} Rc Rl + C_{2}^{2} R_{1}^{2} Rl^{2} + 2 C_{2}^{2} R_{1} Rc^{2} Rl + 2 C_{2}^{2} R_{1} Rc Rl^{2} + C_{2}^{2} Rc^{2} Rl^{2} - 4 C_{2} L_{1} R_{1}^{2} - 2 C_{2} L_{1} R_{1} Rc - 2 C_{2} L_{1} R_{1} Rl - 2 C_{2} L_{1} Rc Rl + L_{1}^{2}}}{2 C_{2} L_{1} \\left(R_{1} + Rc\\right)}$"
      ],
      "text/plain": [
       "                                          ____________________________________\n",
       "                                         ╱   2   2   2       2   2           2\n",
       "-C₂⋅R₁⋅Rc - C₂⋅R₁⋅Rl - C₂⋅Rc⋅Rl - L₁ - ╲╱  C₂ ⋅R₁ ⋅Rc  + 2⋅C₂ ⋅R₁ ⋅Rc⋅Rl + C₂ \n",
       "──────────────────────────────────────────────────────────────────────────────\n",
       "                                                                              \n",
       "\n",
       "______________________________________________________________________________\n",
       "   2   2       2      2          2         2     2   2   2             2      \n",
       "⋅R₁ ⋅Rl  + 2⋅C₂ ⋅R₁⋅Rc ⋅Rl + 2⋅C₂ ⋅R₁⋅Rc⋅Rl  + C₂ ⋅Rc ⋅Rl  - 4⋅C₂⋅L₁⋅R₁  - 2⋅C\n",
       "──────────────────────────────────────────────────────────────────────────────\n",
       "                2⋅C₂⋅L₁⋅(R₁ + Rc)                                             \n",
       "\n",
       "_________________________________________________\n",
       "                                               2 \n",
       "₂⋅L₁⋅R₁⋅Rc - 2⋅C₂⋅L₁⋅R₁⋅Rl - 2⋅C₂⋅L₁⋅Rc⋅Rl + L₁  \n",
       "─────────────────────────────────────────────────\n",
       "                                                 "
      ]
     },
     "execution_count": 61,
     "metadata": {},
     "output_type": "execute_result"
    }
   ],
   "source": [
    "r1"
   ]
  },
  {
   "cell_type": "code",
   "execution_count": 62,
   "id": "86f22b98-97bf-436b-a555-193062878a6d",
   "metadata": {},
   "outputs": [
    {
     "data": {
      "image/png": "[encoded data removed]",
      "text/latex": [
       "$\\displaystyle \\frac{2 C_{2} L_{1} R_{1}}{- C_{2} R_{1} Rc - C_{2} R_{1} Rl - C_{2} Rc Rl - L_{1} - \\sqrt{C_{2}^{2} R_{1}^{2} Rc^{2} + 2 C_{2}^{2} R_{1}^{2} Rc Rl + C_{2}^{2} R_{1}^{2} Rl^{2} + 2 C_{2}^{2} R_{1} Rc^{2} Rl + 2 C_{2}^{2} R_{1} Rc Rl^{2} + C_{2}^{2} Rc^{2} Rl^{2} - 4 C_{2} L_{1} R_{1}^{2} - 2 C_{2} L_{1} R_{1} Rc - 2 C_{2} L_{1} R_{1} Rl - 2 C_{2} L_{1} Rc Rl + L_{1}^{2}}} + \\frac{2 C_{2} L_{1} Rc}{- C_{2} R_{1} Rc - C_{2} R_{1} Rl - C_{2} Rc Rl - L_{1} - \\sqrt{C_{2}^{2} R_{1}^{2} Rc^{2} + 2 C_{2}^{2} R_{1}^{2} Rc Rl + C_{2}^{2} R_{1}^{2} Rl^{2} + 2 C_{2}^{2} R_{1} Rc^{2} Rl + 2 C_{2}^{2} R_{1} Rc Rl^{2} + C_{2}^{2} Rc^{2} Rl^{2} - 4 C_{2} L_{1} R_{1}^{2} - 2 C_{2} L_{1} R_{1} Rc - 2 C_{2} L_{1} R_{1} Rl - 2 C_{2} L_{1} Rc Rl + L_{1}^{2}}}$"
      ],
      "text/plain": [
       "                                                                              \n",
       "──────────────────────────────────────────────────────────────────────────────\n",
       "                                          ____________________________________\n",
       "                                         ╱   2   2   2       2   2           2\n",
       "-C₂⋅R₁⋅Rc - C₂⋅R₁⋅Rl - C₂⋅Rc⋅Rl - L₁ - ╲╱  C₂ ⋅R₁ ⋅Rc  + 2⋅C₂ ⋅R₁ ⋅Rc⋅Rl + C₂ \n",
       "\n",
       "                    2⋅C₂⋅L₁⋅R₁                                                \n",
       "──────────────────────────────────────────────────────────────────────────────\n",
       "______________________________________________________________________________\n",
       "   2   2       2      2          2         2     2   2   2             2      \n",
       "⋅R₁ ⋅Rl  + 2⋅C₂ ⋅R₁⋅Rc ⋅Rl + 2⋅C₂ ⋅R₁⋅Rc⋅Rl  + C₂ ⋅Rc ⋅Rl  - 4⋅C₂⋅L₁⋅R₁  - 2⋅C\n",
       "\n",
       "                                                                              \n",
       "───────────────────────────────────────────────── + ──────────────────────────\n",
       "_________________________________________________                             \n",
       "                                               2                              \n",
       "₂⋅L₁⋅R₁⋅Rc - 2⋅C₂⋅L₁⋅R₁⋅Rl - 2⋅C₂⋅L₁⋅Rc⋅Rl + L₁     -C₂⋅R₁⋅Rc - C₂⋅R₁⋅Rl - C₂⋅\n",
       "\n",
       "                                                                        2⋅C₂⋅L\n",
       "──────────────────────────────────────────────────────────────────────────────\n",
       "                ______________________________________________________________\n",
       "               ╱   2   2   2       2   2           2   2   2       2      2   \n",
       "Rc⋅Rl - L₁ - ╲╱  C₂ ⋅R₁ ⋅Rc  + 2⋅C₂ ⋅R₁ ⋅Rc⋅Rl + C₂ ⋅R₁ ⋅Rl  + 2⋅C₂ ⋅R₁⋅Rc ⋅Rl\n",
       "\n",
       "₁⋅Rc                                                                          \n",
       "──────────────────────────────────────────────────────────────────────────────\n",
       "______________________________________________________________________________\n",
       "       2         2     2   2   2             2                                \n",
       " + 2⋅C₂ ⋅R₁⋅Rc⋅Rl  + C₂ ⋅Rc ⋅Rl  - 4⋅C₂⋅L₁⋅R₁  - 2⋅C₂⋅L₁⋅R₁⋅Rc - 2⋅C₂⋅L₁⋅R₁⋅Rl\n",
       "\n",
       "                       \n",
       "───────────────────────\n",
       "_______________________\n",
       "                     2 \n",
       " - 2⋅C₂⋅L₁⋅Rc⋅Rl + L₁  "
      ]
     },
     "execution_count": 62,
     "metadata": {},
     "output_type": "execute_result"
    }
   ],
   "source": [
    "(1/r1).expand()"
   ]
  },
  {
   "cell_type": "code",
   "execution_count": 63,
   "id": "065e69ad-d1b4-4685-aaa7-1ae92deb3df7",
   "metadata": {},
   "outputs": [
    {
     "data": {
      "image/png": "[encoded data removed]",
      "text/latex": [
       "$\\displaystyle \\frac{C_{2} R_{1} Rc + C_{2} R_{1} Rl + C_{2} Rc Rl + L_{1}}{C_{2} L_{1} R_{1} + C_{2} L_{1} Rc}$"
      ],
      "text/plain": [
       "C₂⋅R₁⋅Rc + C₂⋅R₁⋅Rl + C₂⋅Rc⋅Rl + L₁\n",
       "───────────────────────────────────\n",
       "        C₂⋅L₁⋅R₁ + C₂⋅L₁⋅Rc        "
      ]
     },
     "execution_count": 63,
     "metadata": {},
     "output_type": "execute_result"
    }
   ],
   "source": [
    "a1/a2"
   ]
  },
  {
   "cell_type": "code",
   "execution_count": 64,
   "id": "20456596-1211-408b-a66c-da0f70f6af60",
   "metadata": {},
   "outputs": [
    {
     "data": {
      "image/png": "[encoded data removed]",
      "text/latex": [
       "$\\displaystyle \\frac{R_{1} + Rl}{C_{2} L_{1} R_{1} + C_{2} L_{1} Rc}$"
      ],
      "text/plain": [
       "      R₁ + Rl      \n",
       "───────────────────\n",
       "C₂⋅L₁⋅R₁ + C₂⋅L₁⋅Rc"
      ]
     },
     "execution_count": 64,
     "metadata": {},
     "output_type": "execute_result"
    }
   ],
   "source": [
    "a0/a2"
   ]
  },
  {
   "cell_type": "markdown",
   "id": "105cb4c4-dc1a-4a5d-99af-e3e3faaac852",
   "metadata": {},
   "source": [
    "Characteristic polynomial for a second order\n",
    "\n",
    "$s^2 + \\frac {\\omega_n}{Q}s+\\omega_n^2$\n"
   ]
  },
  {
   "cell_type": "code",
   "execution_count": 65,
   "id": "67a80818-9f5c-4377-879d-23208d665b2b",
   "metadata": {},
   "outputs": [],
   "source": [
    "omega_n, Q = symbols('omega_n Q')"
   ]
  },
  {
   "cell_type": "code",
   "execution_count": 66,
   "id": "ecdc11cc-e8e4-4df9-bd7e-6d77f91f30ed",
   "metadata": {},
   "outputs": [
    {
     "data": {
      "image/png": "[encoded data removed]",
      "text/latex": [
       "$\\displaystyle \\frac{C_{2} L_{1} \\omega_{n} \\left(R_{1} + Rc\\right)}{C_{2} R_{1} Rc + C_{2} R_{1} Rl + C_{2} Rc Rl + L_{1}}$"
      ],
      "text/plain": [
       "         C₂⋅L₁⋅ωₙ⋅(R₁ + Rc)        \n",
       "───────────────────────────────────\n",
       "C₂⋅R₁⋅Rc + C₂⋅R₁⋅Rl + C₂⋅Rc⋅Rl + L₁"
      ]
     },
     "execution_count": 66,
     "metadata": {},
     "output_type": "execute_result"
    }
   ],
   "source": [
    "Q = solve(a1/a2-omega_n/Q,Q)[0]\n",
    "Q"
   ]
  },
  {
   "cell_type": "markdown",
   "id": "ed504a41-eedd-4f03-aa0d-1c3ef03b1fd0",
   "metadata": {},
   "source": [
    "The numerator of Q does not match."
   ]
  },
  {
   "cell_type": "code",
   "execution_count": 67,
   "id": "1736a058-f12a-4a81-bed6-624b3789bdb9",
   "metadata": {},
   "outputs": [],
   "source": [
    "Q_num, Q_denom = fraction(Q)"
   ]
  },
  {
   "cell_type": "code",
   "execution_count": 68,
   "id": "d4b4a872-9811-4f6f-8af2-fb261c94fcae",
   "metadata": {},
   "outputs": [
    {
     "data": {
      "text/plain": [
       "'C2*R1*Rc + C2*R1*Rl + C2*Rc*Rl + L1'"
      ]
     },
     "execution_count": 68,
     "metadata": {},
     "output_type": "execute_result"
    }
   ],
   "source": [
    "str(Q_denom)"
   ]
  },
  {
   "cell_type": "code",
   "execution_count": 69,
   "id": "f76aed75-3772-4ade-9917-82711b2b5460",
   "metadata": {},
   "outputs": [
    {
     "data": {
      "image/png": "[encoded data removed]",
      "text/latex": [
       "$\\displaystyle C_{2} \\left(R_{1} Rc + R_{1} Rl + Rc Rl\\right)$"
      ],
      "text/plain": [
       "C₂⋅(R₁⋅Rc + R₁⋅Rl + Rc⋅Rl)"
      ]
     },
     "execution_count": 69,
     "metadata": {},
     "output_type": "execute_result"
    }
   ],
   "source": [
    "(C2*R1*Rc + C2*R1*Rl + C2*Rc*Rl).factor()"
   ]
  },
  {
   "cell_type": "markdown",
   "id": "b243b6bd-e976-497a-ad90-670031b6d61b",
   "metadata": {},
   "source": [
    "Q_denom looks correct, but Q_num is different.\n",
    "\n",
    "$\\omega_n$ is not in the denominator, otherwise looks the same. \n",
    "\n",
    "$\\omega_n$ below matches."
   ]
  },
  {
   "cell_type": "code",
   "execution_count": 70,
   "id": "70357589-6081-462c-bd0f-7641054ddac6",
   "metadata": {},
   "outputs": [
    {
     "data": {
      "image/png": "[encoded data removed]",
      "text/latex": [
       "$\\displaystyle \\sqrt{\\frac{R_{1} + Rl}{C_{2} L_{1} \\left(R_{1} + Rc\\right)}}$"
      ],
      "text/plain": [
       "    _________________\n",
       "   ╱     R₁ + Rl     \n",
       "  ╱  ─────────────── \n",
       "╲╱   C₂⋅L₁⋅(R₁ + Rc) "
      ]
     },
     "execution_count": 70,
     "metadata": {},
     "output_type": "execute_result"
    }
   ],
   "source": [
    "omega_n = solve(a0/a2-omega_n**2, omega_n)[1]\n",
    "omega_n"
   ]
  },
  {
   "cell_type": "markdown",
   "id": "dd08b17e-588f-491a-9182-25c29551fbf5",
   "metadata": {},
   "source": [
    "2nd order systems can be expressed in terms of Q and $\\omega_n$ and don't need the FACTS method."
   ]
  },
  {
   "cell_type": "code",
   "execution_count": null,
   "id": "a2ce2562-ce80-4499-a7a8-2c099e884b28",
   "metadata": {},
   "outputs": [],
   "source": []
  },
  {
   "cell_type": "markdown",
   "id": "6165d9b0-0fa9-4c30-b08c-6ef9f4fa7d73",
   "metadata": {},
   "source": [
    "## Slide 21 example\n",
    "Using some simple techniques to find the time constants of poles and zeros, then writing the transfer function. Use the R1||R2 notation to preserve components in  paralle combinations. \n",
    "\n",
    "\n",
    "```\n",
    "* Slide_21_circuit.asc\n",
    "V1 1 0 1\n",
    "R1 3 1 1\n",
    "R2 3 0 1\n",
    "R3 3 2 1\n",
    "Rc 2 4 1\n",
    "R4 2 0 1\n",
    "C1 4 0 1\n",
    ".backanno\n",
    ".end\n",
    "```\n",
    "\n",
    "First the brute force solution."
   ]
  },
  {
   "cell_type": "markdown",
   "id": "63a665ee-a906-4370-8e12-6b71a1292c0f",
   "metadata": {},
   "source": [
    "## Brute force"
   ]
  },
  {
   "cell_type": "code",
   "execution_count": 71,
   "id": "74a70812-56ee-49f1-9406-8faa39ef9027",
   "metadata": {},
   "outputs": [],
   "source": [
    "example_net_list = '''\n",
    "V1 1 0 1\n",
    "R1 3 1 1\n",
    "R2 3 0 1\n",
    "R3 3 2 1\n",
    "Rc 2 4 1\n",
    "R4 2 0 1\n",
    "C1 4 0 1\n",
    "'''"
   ]
  },
  {
   "cell_type": "markdown",
   "id": "37407703-7603-4ea0-9375-624dc7b4c5bd",
   "metadata": {},
   "source": [
    "## Generate Network Equations "
   ]
  },
  {
   "cell_type": "code",
   "execution_count": 72,
   "id": "8d70674c-71b5-4c48-a085-791c36a0351d",
   "metadata": {},
   "outputs": [
    {
     "data": {
      "text/markdown": [
       "<p>$I_{V1} + \\frac{v_{1}}{R_{1}} - \\frac{v_{3}}{R_{1}} = 0$</p><p>$v_{2} \\cdot \\left(\\frac{1}{Rc} + \\frac{1}{R_{4}} + \\frac{1}{R_{3}}\\right) - \\frac{v_{4}}{Rc} - \\frac{v_{3}}{R_{3}} = 0$</p><p>$v_{3} \\cdot \\left(\\frac{1}{R_{3}} + \\frac{1}{R_{2}} + \\frac{1}{R_{1}}\\right) - \\frac{v_{2}}{R_{3}} - \\frac{v_{1}}{R_{1}} = 0$</p><p>$v_{4} \\left(C_{1} s + \\frac{1}{Rc}\\right) - \\frac{v_{2}}{Rc} = 0$</p><p>$v_{1} = V_{1}$</p>"
      ],
      "text/plain": [
       "<IPython.core.display.Markdown object>"
      ]
     },
     "execution_count": 72,
     "metadata": {},
     "output_type": "execute_result"
    }
   ],
   "source": [
    "report, network_df, df2, A, X, Z = SymMNA.smna(example_net_list)\n",
    "\n",
    "# Put matrices into SymPy \n",
    "X = Matrix(X)\n",
    "Z = Matrix(Z)\n",
    "\n",
    "NE_sym = Eq(A*X,Z)\n",
    "\n",
    "# display the equations\n",
    "temp = ''\n",
    "for i in range(shape(NE_sym.lhs)[0]):\n",
    "    temp += '<p>${:s} = {:s}$</p>'.format(latex(NE_sym.lhs[i]),\n",
    "        latex(NE_sym.rhs[i]))\n",
    "\n",
    "Markdown(temp)"
   ]
  },
  {
   "cell_type": "code",
   "execution_count": 73,
   "id": "954094f6-def3-4989-a5cb-32859ce0526e",
   "metadata": {},
   "outputs": [
    {
     "data": {
      "text/markdown": [
       "<p>$v_{1} = V_{1}$</p><p>$v_{2} = \\frac{C_{1} R_{2} R_{4} Rc V_{1} s + R_{2} R_{4} V_{1}}{C_{1} R_{1} R_{2} R_{4} s + C_{1} R_{1} R_{2} Rc s + C_{1} R_{1} R_{3} R_{4} s + C_{1} R_{1} R_{3} Rc s + C_{1} R_{1} R_{4} Rc s + C_{1} R_{2} R_{3} R_{4} s + C_{1} R_{2} R_{3} Rc s + C_{1} R_{2} R_{4} Rc s + R_{1} R_{2} + R_{1} R_{3} + R_{1} R_{4} + R_{2} R_{3} + R_{2} R_{4}}$</p><p>$v_{3} = \\frac{C_{1} R_{2} R_{3} R_{4} V_{1} s + C_{1} R_{2} R_{3} Rc V_{1} s + C_{1} R_{2} R_{4} Rc V_{1} s + R_{2} R_{3} V_{1} + R_{2} R_{4} V_{1}}{C_{1} R_{1} R_{2} R_{4} s + C_{1} R_{1} R_{2} Rc s + C_{1} R_{1} R_{3} R_{4} s + C_{1} R_{1} R_{3} Rc s + C_{1} R_{1} R_{4} Rc s + C_{1} R_{2} R_{3} R_{4} s + C_{1} R_{2} R_{3} Rc s + C_{1} R_{2} R_{4} Rc s + R_{1} R_{2} + R_{1} R_{3} + R_{1} R_{4} + R_{2} R_{3} + R_{2} R_{4}}$</p><p>$v_{4} = \\frac{R_{2} R_{4} V_{1}}{C_{1} R_{1} R_{2} R_{4} s + C_{1} R_{1} R_{2} Rc s + C_{1} R_{1} R_{3} R_{4} s + C_{1} R_{1} R_{3} Rc s + C_{1} R_{1} R_{4} Rc s + C_{1} R_{2} R_{3} R_{4} s + C_{1} R_{2} R_{3} Rc s + C_{1} R_{2} R_{4} Rc s + R_{1} R_{2} + R_{1} R_{3} + R_{1} R_{4} + R_{2} R_{3} + R_{2} R_{4}}$</p><p>$I_{V1} = \\frac{- C_{1} R_{2} R_{4} V_{1} s - C_{1} R_{2} Rc V_{1} s - C_{1} R_{3} R_{4} V_{1} s - C_{1} R_{3} Rc V_{1} s - C_{1} R_{4} Rc V_{1} s - R_{2} V_{1} - R_{3} V_{1} - R_{4} V_{1}}{C_{1} R_{1} R_{2} R_{4} s + C_{1} R_{1} R_{2} Rc s + C_{1} R_{1} R_{3} R_{4} s + C_{1} R_{1} R_{3} Rc s + C_{1} R_{1} R_{4} Rc s + C_{1} R_{2} R_{3} R_{4} s + C_{1} R_{2} R_{3} Rc s + C_{1} R_{2} R_{4} Rc s + R_{1} R_{2} + R_{1} R_{3} + R_{1} R_{4} + R_{2} R_{3} + R_{2} R_{4}}$</p>"
      ],
      "text/plain": [
       "<IPython.core.display.Markdown object>"
      ]
     },
     "execution_count": 73,
     "metadata": {},
     "output_type": "execute_result"
    }
   ],
   "source": [
    "var(str(NE_sym.free_symbols).replace('{','').replace('}',''))\n",
    "element_values = SymMNA.get_part_values(network_df)\n",
    "\n",
    "U_sym = solve(NE_sym,X)\n",
    "\n",
    "temp = ''\n",
    "for i in U_sym.keys():\n",
    "        temp += '<p>${:s} = {:s}$</p>'.format(latex(i),latex(U_sym[i]))\n",
    "\n",
    "Markdown(temp)"
   ]
  },
  {
   "cell_type": "markdown",
   "id": "daf0b5f2-e66d-49c4-bfed-4ae3a94a84a3",
   "metadata": {},
   "source": [
    "### Voltage Transfer Function $H(s)=\\frac {v_2(s)}{v_1(s)}$"
   ]
  },
  {
   "cell_type": "code",
   "execution_count": 74,
   "id": "899343e2-4cb1-4440-91b6-665401e718f2",
   "metadata": {},
   "outputs": [
    {
     "data": {
      "text/markdown": [
       "$H(s)=\\frac{C_{1} R_{2} R_{4} Rc s + R_{2} R_{4}}{R_{1} R_{2} + R_{1} R_{3} + R_{1} R_{4} + R_{2} R_{3} + R_{2} R_{4} + s \\left(C_{1} R_{1} R_{2} R_{4} + C_{1} R_{1} R_{2} Rc + C_{1} R_{1} R_{3} R_{4} + C_{1} R_{1} R_{3} Rc + C_{1} R_{1} R_{4} Rc + C_{1} R_{2} R_{3} R_{4} + C_{1} R_{2} R_{3} Rc + C_{1} R_{2} R_{4} Rc\\right)}$"
      ],
      "text/plain": [
       "<IPython.core.display.Markdown object>"
      ]
     },
     "execution_count": 74,
     "metadata": {},
     "output_type": "execute_result"
    }
   ],
   "source": [
    "H_sym_bf = cancel(U_sym[v2]/U_sym[v1],s)\n",
    "Markdown('$H(s)={:s}$'.format(latex(H_sym_bf)))"
   ]
  },
  {
   "cell_type": "code",
   "execution_count": 75,
   "id": "31074fe0-a498-4066-b40b-75f2cf5d7ceb",
   "metadata": {
    "tags": []
   },
   "outputs": [],
   "source": [
    "H_sym_num, H_sym_denom = fraction(H_sym_bf,s) #returns numerator and denominator"
   ]
  },
  {
   "cell_type": "markdown",
   "id": "ef06cc85-c7c1-4a42-a29d-f4ced967089d",
   "metadata": {},
   "source": [
    "### Numerator Polynominal"
   ]
  },
  {
   "cell_type": "code",
   "execution_count": 76,
   "id": "88c8eacd-2500-47f5-a64d-ce1ad439c3c7",
   "metadata": {},
   "outputs": [
    {
     "data": {
      "text/markdown": [
       "$N(s)=C_{1} R_{2} R_{4} Rc s + R_{2} R_{4}$"
      ],
      "text/plain": [
       "<IPython.core.display.Markdown object>"
      ]
     },
     "execution_count": 76,
     "metadata": {},
     "output_type": "execute_result"
    }
   ],
   "source": [
    "Markdown('$N(s)={:s}$'.format(latex(H_sym_num)))"
   ]
  },
  {
   "cell_type": "markdown",
   "id": "cd82ac05-67dd-4a00-bbdc-ba6ade8d34b7",
   "metadata": {},
   "source": [
    "The coeficients of each Laplace terms can be equated to the variables $b_2$, $b_1$ and $b_0$ in the expression: \n",
    "\n",
    "$b_2s^{2}+b_1s+b_0$\n",
    "\n",
    "where $b_2$, $b_1$ and $b_0$ are:"
   ]
  },
  {
   "cell_type": "code",
   "execution_count": 77,
   "id": "9e8ef75a-402e-4b11-90e1-9fcaf35cfdf1",
   "metadata": {},
   "outputs": [
    {
     "data": {
      "text/markdown": [
       "<p>$b_2=0$</p><p>$b_1=C_{1} R_{2} R_{4} Rc$</p><p>$b_0=R_{2} R_{4}$</p>"
      ],
      "text/plain": [
       "<IPython.core.display.Markdown object>"
      ]
     },
     "execution_count": 77,
     "metadata": {},
     "output_type": "execute_result"
    }
   ],
   "source": [
    "b2 = H_sym_num.coeff(s**2)\n",
    "b1 = H_sym_num.coeff(s**1)\n",
    "b0 = H_sym_num - b1*s*1 - b2*s**2\n",
    "\n",
    "Markdown('<p>$b_2={:s}$</p><p>$b_1={:s}$</p><p>$b_0={:s}$</p>'.format(latex(b2),latex(b1),latex(b0)))"
   ]
  },
  {
   "cell_type": "code",
   "execution_count": 78,
   "id": "21925c19-2c4f-4ab3-9077-a92f074228f5",
   "metadata": {},
   "outputs": [],
   "source": [
    "z1_bf = solve(H_sym_num,s)"
   ]
  },
  {
   "cell_type": "code",
   "execution_count": 79,
   "id": "fdc8fb6f-9502-4fed-aa9c-56f3111fc10c",
   "metadata": {},
   "outputs": [
    {
     "data": {
      "image/png": "[encoded data removed]",
      "text/latex": [
       "$\\displaystyle \\left[ - \\frac{1}{C_{1} Rc}\\right]$"
      ],
      "text/plain": [
       "⎡ -1  ⎤\n",
       "⎢─────⎥\n",
       "⎣C₁⋅Rc⎦"
      ]
     },
     "execution_count": 79,
     "metadata": {},
     "output_type": "execute_result"
    }
   ],
   "source": [
    "z1_bf"
   ]
  },
  {
   "cell_type": "markdown",
   "id": "9f2b844b-4e82-45b8-b74e-63a3630d0af0",
   "metadata": {},
   "source": [
    "### Denominator Polynominal"
   ]
  },
  {
   "cell_type": "code",
   "execution_count": 80,
   "id": "30ea6367-0008-4c09-93b8-a28db8571f4a",
   "metadata": {},
   "outputs": [
    {
     "data": {
      "text/markdown": [
       "$D(s)=R_{1} R_{2} + R_{1} R_{3} + R_{1} R_{4} + R_{2} R_{3} + R_{2} R_{4} + s \\left(C_{1} R_{1} R_{2} R_{4} + C_{1} R_{1} R_{2} Rc + C_{1} R_{1} R_{3} R_{4} + C_{1} R_{1} R_{3} Rc + C_{1} R_{1} R_{4} Rc + C_{1} R_{2} R_{3} R_{4} + C_{1} R_{2} R_{3} Rc + C_{1} R_{2} R_{4} Rc\\right)$"
      ],
      "text/plain": [
       "<IPython.core.display.Markdown object>"
      ]
     },
     "execution_count": 80,
     "metadata": {},
     "output_type": "execute_result"
    }
   ],
   "source": [
    "Markdown('$D(s)={:s}$'.format(latex(H_sym_denom)))"
   ]
  },
  {
   "cell_type": "markdown",
   "id": "efdf1f8d-2413-47fa-8d54-0b4a3d359964",
   "metadata": {},
   "source": [
    "The coeficients of each Laplace terms can be equated to the variables $a_3$, $a_2$, $a_1$ and $a_0$ in the expression: \n",
    "\n",
    "$a_3s^3+a_2s^2+a_1s+a_0$\n",
    "\n",
    "where $a_3$, $a_2$, $a_1$ and $a_0$ are:"
   ]
  },
  {
   "cell_type": "code",
   "execution_count": 81,
   "id": "120c715f-bcff-41df-b86a-adf83749a4a1",
   "metadata": {},
   "outputs": [
    {
     "data": {
      "text/markdown": [
       "<p>$a_3=0$</p><p>$a_2=0$</p><p>$a_1=C_{1} R_{1} R_{2} R_{4} + C_{1} R_{1} R_{2} Rc + C_{1} R_{1} R_{3} R_{4} + C_{1} R_{1} R_{3} Rc + C_{1} R_{1} R_{4} Rc + C_{1} R_{2} R_{3} R_{4} + C_{1} R_{2} R_{3} Rc + C_{1} R_{2} R_{4} Rc$</p><p>$a_0=R_{1} R_{2} + R_{1} R_{3} + R_{1} R_{4} + R_{2} R_{3} + R_{2} R_{4}$</p>"
      ],
      "text/plain": [
       "<IPython.core.display.Markdown object>"
      ]
     },
     "execution_count": 81,
     "metadata": {},
     "output_type": "execute_result"
    }
   ],
   "source": [
    "a3 = H_sym_denom.coeff(s**3)\n",
    "a2 = H_sym_denom.coeff(s**2)\n",
    "a1 = H_sym_denom.coeff(s**1)\n",
    "a0 = H_sym_denom - a1*s*1 - a2*s**2 - a3*s**3\n",
    "Markdown('<p>$a_3={:s}$</p><p>$a_2={:s}$</p><p>$a_1={:s}$</p><p>$a_0={:s}$</p>'.format(latex(a3), latex(a2),latex(a1),latex(a0)))"
   ]
  },
  {
   "cell_type": "code",
   "execution_count": 82,
   "id": "d655531c-e249-4812-b707-e7f315a417fb",
   "metadata": {},
   "outputs": [],
   "source": [
    "p1_bf = solve(H_sym_denom,s)"
   ]
  },
  {
   "cell_type": "code",
   "execution_count": 83,
   "id": "fde95c24-1338-486b-bcf7-878acbcc3b0c",
   "metadata": {},
   "outputs": [
    {
     "data": {
      "image/png": "[encoded data removed]",
      "text/latex": [
       "$\\displaystyle \\left[ \\frac{- R_{1} R_{2} - R_{1} R_{3} - R_{1} R_{4} - R_{2} R_{3} - R_{2} R_{4}}{C_{1} \\left(R_{1} R_{2} R_{4} + R_{1} R_{2} Rc + R_{1} R_{3} R_{4} + R_{1} R_{3} Rc + R_{1} R_{4} Rc + R_{2} R_{3} R_{4} + R_{2} R_{3} Rc + R_{2} R_{4} Rc\\right)}\\right]$"
      ],
      "text/plain": [
       "⎡                          -R₁⋅R₂ - R₁⋅R₃ - R₁⋅R₄ - R₂⋅R₃ - R₂⋅R₄             \n",
       "⎢─────────────────────────────────────────────────────────────────────────────\n",
       "⎣C₁⋅(R₁⋅R₂⋅R₄ + R₁⋅R₂⋅Rc + R₁⋅R₃⋅R₄ + R₁⋅R₃⋅Rc + R₁⋅R₄⋅Rc + R₂⋅R₃⋅R₄ + R₂⋅R₃⋅R\n",
       "\n",
       "             ⎤\n",
       "─────────────⎥\n",
       "c + R₂⋅R₄⋅Rc)⎦"
      ]
     },
     "execution_count": 83,
     "metadata": {},
     "output_type": "execute_result"
    }
   ],
   "source": [
    "p1_bf"
   ]
  },
  {
   "cell_type": "markdown",
   "id": "62a3ba38-cda1-44e2-abd9-5b1f8294209c",
   "metadata": {},
   "source": [
    "## FACTS method\n",
    "\n",
    "What is the gain when Vin is a dc voltage?\n",
    "\n",
    "The capacitor is open circuited, circuited read the schematic!\n",
    "\n",
    "comment the capacitor line"
   ]
  },
  {
   "cell_type": "code",
   "execution_count": 84,
   "id": "c65f3d01-a767-4f1e-92d8-a42ac4fb10af",
   "metadata": {},
   "outputs": [],
   "source": [
    "example_net_list = '''\n",
    "V1 1 0 1\n",
    "R1 3 1 1\n",
    "R2 3 0 1\n",
    "R3 3 2 1\n",
    "Rc 2 4 1\n",
    "R4 2 0 1\n",
    "*C1 4 0 1\n",
    "'''"
   ]
  },
  {
   "cell_type": "code",
   "execution_count": 85,
   "id": "48983469-2bfc-41de-8ca5-45f12975ca46",
   "metadata": {},
   "outputs": [
    {
     "data": {
      "text/markdown": [
       "<p>$I_{V1} + \\frac{v_{1}}{R_{1}} - \\frac{v_{3}}{R_{1}} = 0$</p><p>$v_{2} \\cdot \\left(\\frac{1}{Rc} + \\frac{1}{R_{4}} + \\frac{1}{R_{3}}\\right) - \\frac{v_{4}}{Rc} - \\frac{v_{3}}{R_{3}} = 0$</p><p>$v_{3} \\cdot \\left(\\frac{1}{R_{3}} + \\frac{1}{R_{2}} + \\frac{1}{R_{1}}\\right) - \\frac{v_{2}}{R_{3}} - \\frac{v_{1}}{R_{1}} = 0$</p><p>$- \\frac{v_{2}}{Rc} + \\frac{v_{4}}{Rc} = 0$</p><p>$v_{1} = V_{1}$</p>"
      ],
      "text/plain": [
       "<IPython.core.display.Markdown object>"
      ]
     },
     "execution_count": 85,
     "metadata": {},
     "output_type": "execute_result"
    }
   ],
   "source": [
    "report, network_df, df2, A, X, Z = SymMNA.smna(example_net_list)\n",
    "\n",
    "# Put matrices into SymPy \n",
    "X = Matrix(X)\n",
    "Z = Matrix(Z)\n",
    "\n",
    "NE_sym = Eq(A*X,Z)\n",
    "\n",
    "# display the equations\n",
    "temp = ''\n",
    "for i in range(shape(NE_sym.lhs)[0]):\n",
    "    temp += '<p>${:s} = {:s}$</p>'.format(latex(NE_sym.lhs[i]),\n",
    "        latex(NE_sym.rhs[i]))\n",
    "\n",
    "Markdown(temp)"
   ]
  },
  {
   "cell_type": "code",
   "execution_count": 86,
   "id": "b6fc9750-6384-4d51-8bfb-09da5f9fc4e8",
   "metadata": {},
   "outputs": [
    {
     "data": {
      "text/markdown": [
       "<p>$v_{1} = V_{1}$</p><p>$v_{2} = \\frac{R_{2} R_{4} V_{1}}{R_{1} R_{2} + R_{1} R_{3} + R_{1} R_{4} + R_{2} R_{3} + R_{2} R_{4}}$</p><p>$v_{3} = \\frac{R_{2} R_{3} V_{1} + R_{2} R_{4} V_{1}}{R_{1} R_{2} + R_{1} R_{3} + R_{1} R_{4} + R_{2} R_{3} + R_{2} R_{4}}$</p><p>$v_{4} = \\frac{R_{2} R_{4} V_{1}}{R_{1} R_{2} + R_{1} R_{3} + R_{1} R_{4} + R_{2} R_{3} + R_{2} R_{4}}$</p><p>$I_{V1} = \\frac{- R_{2} V_{1} - R_{3} V_{1} - R_{4} V_{1}}{R_{1} R_{2} + R_{1} R_{3} + R_{1} R_{4} + R_{2} R_{3} + R_{2} R_{4}}$</p>"
      ],
      "text/plain": [
       "<IPython.core.display.Markdown object>"
      ]
     },
     "execution_count": 86,
     "metadata": {},
     "output_type": "execute_result"
    }
   ],
   "source": [
    "var(str(NE_sym.free_symbols).replace('{','').replace('}',''))\n",
    "element_values = SymMNA.get_part_values(network_df)\n",
    "\n",
    "U_sym = solve(NE_sym,X)\n",
    "\n",
    "temp = ''\n",
    "for i in U_sym.keys():\n",
    "        temp += '<p>${:s} = {:s}$</p>'.format(latex(i),latex(U_sym[i]))\n",
    "\n",
    "Markdown(temp)"
   ]
  },
  {
   "cell_type": "markdown",
   "id": "63889021-9470-46a6-a72c-58d9234cf3fd",
   "metadata": {},
   "source": [
    "### Voltage Transfer Function $H(s)=\\frac {v_2(s)}{v_1(s)}$"
   ]
  },
  {
   "cell_type": "code",
   "execution_count": 87,
   "id": "5fb32b2b-c309-42cb-b51c-ce8c73c81d70",
   "metadata": {},
   "outputs": [
    {
     "data": {
      "text/markdown": [
       "$H(s)=\\frac{R_{2} R_{4}}{R_{1} R_{2} + R_{1} R_{3} + R_{1} R_{4} + R_{2} R_{3} + R_{2} R_{4}}$"
      ],
      "text/plain": [
       "<IPython.core.display.Markdown object>"
      ]
     },
     "execution_count": 87,
     "metadata": {},
     "output_type": "execute_result"
    }
   ],
   "source": [
    "H_sym = cancel(U_sym[v2]/U_sym[v1],s)\n",
    "Markdown('$H(s)={:s}$'.format(latex(H_sym)))"
   ]
  },
  {
   "cell_type": "markdown",
   "id": "97f04a22-886d-43bf-abed-04f7d30e5531",
   "metadata": {},
   "source": [
    "numerator is the same, slide has R1||R2 term in denominator.\n",
    "\n",
    "Need to do some math to see if they are the same.\n",
    "\n",
    "Slide 22, fine the time constant. Set V1 to zero and find R as seen by the capacitor. Replace C1 with V2 and find "
   ]
  },
  {
   "cell_type": "markdown",
   "id": "885a6535-6231-4f7f-9415-d60c8c244e93",
   "metadata": {},
   "source": [
    "comments\n",
    "\n",
    "Could just make a new component call Rp12 for the parallel of R1 and R2"
   ]
  },
  {
   "cell_type": "code",
   "execution_count": 88,
   "id": "cb046677-3910-487c-b166-ac9dd3d7eb41",
   "metadata": {},
   "outputs": [],
   "source": [
    "def parallel_comb(Ra,Rb):\n",
    "    return (1/(1/Ra + 1/Rb)).simplify()"
   ]
  },
  {
   "cell_type": "code",
   "execution_count": 89,
   "id": "4d8fe926-8a36-4b4e-8e12-84f8a14a24a1",
   "metadata": {},
   "outputs": [
    {
     "data": {
      "image/png": "[encoded data removed]",
      "text/latex": [
       "$\\displaystyle \\frac{R_{1} R_{2}}{R_{1} + R_{2}}$"
      ],
      "text/plain": [
       " R₁⋅R₂ \n",
       "───────\n",
       "R₁ + R₂"
      ]
     },
     "execution_count": 89,
     "metadata": {},
     "output_type": "execute_result"
    }
   ],
   "source": [
    "parallel_comb(R1,R2)"
   ]
  },
  {
   "cell_type": "markdown",
   "id": "878ecc0f-7789-49e3-81a0-44bc330fb806",
   "metadata": {},
   "source": [
    "Expanding the expresson on slide 21\n",
    "\n",
    "$H_0=\\frac{R_2}{R_1+R_2} \\frac {R_4}{R_1 || R_2 + R_3 + R_4}$"
   ]
  },
  {
   "cell_type": "code",
   "execution_count": 90,
   "id": "32161aee-1900-464c-b0b2-66194e61655d",
   "metadata": {},
   "outputs": [
    {
     "data": {
      "image/png": "[encoded data removed]",
      "text/latex": [
       "$\\displaystyle \\frac{R_{2} R_{4}}{\\left(R_{1} + R_{2}\\right) \\left(\\frac{R_{1} R_{2}}{R_{1} + R_{2}} + R_{3} + R_{4}\\right)}$"
      ],
      "text/plain": [
       "            R₂⋅R₄            \n",
       "─────────────────────────────\n",
       "          ⎛ R₁⋅R₂           ⎞\n",
       "(R₁ + R₂)⋅⎜─────── + R₃ + R₄⎟\n",
       "          ⎝R₁ + R₂          ⎠"
      ]
     },
     "execution_count": 90,
     "metadata": {},
     "output_type": "execute_result"
    }
   ],
   "source": [
    "H0=(R2/(R1+R2))*(R4/(parallel_comb(R1,R2)+R3+R4))\n",
    "H0"
   ]
  },
  {
   "cell_type": "code",
   "execution_count": 91,
   "id": "f590a3b0-2991-4947-a5a8-034c51abb4cd",
   "metadata": {},
   "outputs": [
    {
     "data": {
      "image/png": "[encoded data removed]",
      "text/latex": [
       "$\\displaystyle \\frac{R_{2} R_{4}}{R_{1} R_{2} + \\left(R_{1} + R_{2}\\right) \\left(R_{3} + R_{4}\\right)}$"
      ],
      "text/plain": [
       "           R₂⋅R₄           \n",
       "───────────────────────────\n",
       "R₁⋅R₂ + (R₁ + R₂)⋅(R₃ + R₄)"
      ]
     },
     "execution_count": 91,
     "metadata": {},
     "output_type": "execute_result"
    }
   ],
   "source": [
    "H0.simplify()"
   ]
  },
  {
   "cell_type": "code",
   "execution_count": 92,
   "id": "686a8650-3ca8-4e73-ad8b-9bef62da6224",
   "metadata": {},
   "outputs": [],
   "source": [
    "H0_num, H0_denom = fraction(H0)"
   ]
  },
  {
   "cell_type": "code",
   "execution_count": 93,
   "id": "d4fa09d9-e41d-4bd0-97bf-f8c89d56dc84",
   "metadata": {},
   "outputs": [
    {
     "data": {
      "image/png": "[encoded data removed]",
      "text/latex": [
       "$\\displaystyle \\left(R_{1} + R_{2}\\right) \\left(\\frac{R_{1} R_{2}}{R_{1} + R_{2}} + R_{3} + R_{4}\\right)$"
      ],
      "text/plain": [
       "          ⎛ R₁⋅R₂           ⎞\n",
       "(R₁ + R₂)⋅⎜─────── + R₃ + R₄⎟\n",
       "          ⎝R₁ + R₂          ⎠"
      ]
     },
     "execution_count": 93,
     "metadata": {},
     "output_type": "execute_result"
    }
   ],
   "source": [
    "H0_denom"
   ]
  },
  {
   "cell_type": "code",
   "execution_count": 94,
   "id": "fc5b7761-0bb1-4d64-bf86-f83cce757d55",
   "metadata": {},
   "outputs": [
    {
     "data": {
      "image/png": "[encoded data removed]",
      "text/latex": [
       "$\\displaystyle R_{1} R_{2} + R_{1} R_{3} + R_{1} R_{4} + R_{2} R_{3} + R_{2} R_{4}$"
      ],
      "text/plain": [
       "R₁⋅R₂ + R₁⋅R₃ + R₁⋅R₄ + R₂⋅R₃ + R₂⋅R₄"
      ]
     },
     "execution_count": 94,
     "metadata": {},
     "output_type": "execute_result"
    }
   ],
   "source": [
    "H0_denom.expand().simplify()"
   ]
  },
  {
   "cell_type": "markdown",
   "id": "88b8a541-8a95-49f0-9e7e-b8a72dda5812",
   "metadata": {},
   "source": [
    "Same answer\n",
    "\n",
    "## Find the time constant\n",
    "replace C1 with V2 and find Z"
   ]
  },
  {
   "cell_type": "code",
   "execution_count": 95,
   "id": "b06df58c-a624-4b67-a81c-38a5c1c23640",
   "metadata": {},
   "outputs": [],
   "source": [
    "example_net_list = '''\n",
    "V1 1 0 0\n",
    "R1 3 1 1\n",
    "R2 3 0 1\n",
    "R3 3 2 1\n",
    "Rc 2 4 1\n",
    "R4 2 0 1\n",
    "*C1 4 0 1\n",
    "V2 4 0 1\n",
    "'''"
   ]
  },
  {
   "cell_type": "code",
   "execution_count": 96,
   "id": "46311288-1eff-40ab-9135-ecb3002c2d9b",
   "metadata": {},
   "outputs": [
    {
     "data": {
      "text/markdown": [
       "<p>$I_{V1} + \\frac{v_{1}}{R_{1}} - \\frac{v_{3}}{R_{1}} = 0$</p><p>$v_{2} \\cdot \\left(\\frac{1}{Rc} + \\frac{1}{R_{4}} + \\frac{1}{R_{3}}\\right) - \\frac{v_{4}}{Rc} - \\frac{v_{3}}{R_{3}} = 0$</p><p>$v_{3} \\cdot \\left(\\frac{1}{R_{3}} + \\frac{1}{R_{2}} + \\frac{1}{R_{1}}\\right) - \\frac{v_{2}}{R_{3}} - \\frac{v_{1}}{R_{1}} = 0$</p><p>$I_{V2} - \\frac{v_{2}}{Rc} + \\frac{v_{4}}{Rc} = 0$</p><p>$v_{1} = V_{1}$</p><p>$v_{4} = V_{2}$</p>"
      ],
      "text/plain": [
       "<IPython.core.display.Markdown object>"
      ]
     },
     "execution_count": 96,
     "metadata": {},
     "output_type": "execute_result"
    }
   ],
   "source": [
    "report, network_df, df2, A, X, Z = SymMNA.smna(example_net_list)\n",
    "\n",
    "# Put matrices into SymPy \n",
    "X = Matrix(X)\n",
    "Z = Matrix(Z)\n",
    "\n",
    "NE_sym = Eq(A*X,Z)\n",
    "\n",
    "# display the equations\n",
    "temp = ''\n",
    "for i in range(shape(NE_sym.lhs)[0]):\n",
    "    temp += '<p>${:s} = {:s}$</p>'.format(latex(NE_sym.lhs[i]),\n",
    "        latex(NE_sym.rhs[i]))\n",
    "\n",
    "Markdown(temp)"
   ]
  },
  {
   "cell_type": "code",
   "execution_count": 97,
   "id": "2895cd97-84fc-4ce9-9e82-e2c9d0174583",
   "metadata": {},
   "outputs": [
    {
     "data": {
      "text/markdown": [
       "<p>$v_{1} = V_{1}$</p><p>$v_{2} = \\frac{R_{1} R_{2} R_{4} V_{2} + R_{1} R_{3} R_{4} V_{2} + R_{2} R_{3} R_{4} V_{2} + R_{2} R_{4} Rc V_{1}}{R_{1} R_{2} R_{4} + R_{1} R_{2} Rc + R_{1} R_{3} R_{4} + R_{1} R_{3} Rc + R_{1} R_{4} Rc + R_{2} R_{3} R_{4} + R_{2} R_{3} Rc + R_{2} R_{4} Rc}$</p><p>$v_{3} = \\frac{R_{1} R_{2} R_{4} V_{2} + R_{2} R_{3} R_{4} V_{1} + R_{2} R_{3} Rc V_{1} + R_{2} R_{4} Rc V_{1}}{R_{1} R_{2} R_{4} + R_{1} R_{2} Rc + R_{1} R_{3} R_{4} + R_{1} R_{3} Rc + R_{1} R_{4} Rc + R_{2} R_{3} R_{4} + R_{2} R_{3} Rc + R_{2} R_{4} Rc}$</p><p>$v_{4} = V_{2}$</p><p>$I_{V1} = \\frac{- R_{2} R_{4} V_{1} + R_{2} R_{4} V_{2} - R_{2} Rc V_{1} - R_{3} R_{4} V_{1} - R_{3} Rc V_{1} - R_{4} Rc V_{1}}{R_{1} R_{2} R_{4} + R_{1} R_{2} Rc + R_{1} R_{3} R_{4} + R_{1} R_{3} Rc + R_{1} R_{4} Rc + R_{2} R_{3} R_{4} + R_{2} R_{3} Rc + R_{2} R_{4} Rc}$</p><p>$I_{V2} = \\frac{- R_{1} R_{2} V_{2} - R_{1} R_{3} V_{2} - R_{1} R_{4} V_{2} - R_{2} R_{3} V_{2} + R_{2} R_{4} V_{1} - R_{2} R_{4} V_{2}}{R_{1} R_{2} R_{4} + R_{1} R_{2} Rc + R_{1} R_{3} R_{4} + R_{1} R_{3} Rc + R_{1} R_{4} Rc + R_{2} R_{3} R_{4} + R_{2} R_{3} Rc + R_{2} R_{4} Rc}$</p>"
      ],
      "text/plain": [
       "<IPython.core.display.Markdown object>"
      ]
     },
     "execution_count": 97,
     "metadata": {},
     "output_type": "execute_result"
    }
   ],
   "source": [
    "var(str(NE_sym.free_symbols).replace('{','').replace('}',''))\n",
    "element_values = SymMNA.get_part_values(network_df)\n",
    "\n",
    "U_sym = solve(NE_sym,X)\n",
    "\n",
    "temp = ''\n",
    "for i in U_sym.keys():\n",
    "        temp += '<p>${:s} = {:s}$</p>'.format(latex(i),latex(U_sym[i]))\n",
    "\n",
    "Markdown(temp)"
   ]
  },
  {
   "cell_type": "markdown",
   "id": "d2259727-fbbb-4e56-9f5d-91b3e383911f",
   "metadata": {},
   "source": [
    "### Z2 = 1/I2"
   ]
  },
  {
   "cell_type": "code",
   "execution_count": 98,
   "id": "6fe66e08-8b13-47b8-b126-befabe61c38a",
   "metadata": {},
   "outputs": [
    {
     "data": {
      "text/markdown": [
       "$Z(s)=\\frac{R_{1} R_{2} R_{4} + R_{1} R_{2} Rc + R_{1} R_{3} R_{4} + R_{1} R_{3} Rc + R_{1} R_{4} Rc + R_{2} R_{3} R_{4} + R_{2} R_{3} Rc + R_{2} R_{4} Rc}{R_{1} R_{2} + R_{1} R_{3} + R_{1} R_{4} + R_{2} R_{3} + R_{2} R_{4}}$"
      ],
      "text/plain": [
       "<IPython.core.display.Markdown object>"
      ]
     },
     "execution_count": 98,
     "metadata": {},
     "output_type": "execute_result"
    }
   ],
   "source": [
    "Z_2_sym = (V2/-U_sym[I_V2]).subs({V1:0,V2:1}).simplify()\n",
    "Markdown('$Z(s)={:s}$'.format(latex(Z_2_sym)))"
   ]
  },
  {
   "cell_type": "markdown",
   "id": "19dd208a-ae99-4410-b131-e4d8529d85ec",
   "metadata": {},
   "source": [
    "need to define a function that will return the parallel combination of R1 and R2\n",
    "\n",
    "The equation at bottom of slide 22:\n",
    "\n",
    "$r_c + (R_1||R_2+R_3)||R_4$\n"
   ]
  },
  {
   "cell_type": "code",
   "execution_count": 99,
   "id": "f14dc7e1-c3c0-4517-a700-9868a3939741",
   "metadata": {},
   "outputs": [
    {
     "data": {
      "image/png": "[encoded data removed]",
      "text/latex": [
       "$\\displaystyle \\frac{R_{4} \\left(R_{1} R_{2} + R_{3} \\left(R_{1} + R_{2}\\right)\\right)}{R_{1} R_{2} + R_{3} \\left(R_{1} + R_{2}\\right) + R_{4} \\left(R_{1} + R_{2}\\right)} + Rc$"
      ],
      "text/plain": [
       "     R₄⋅(R₁⋅R₂ + R₃⋅(R₁ + R₂))          \n",
       "─────────────────────────────────── + Rc\n",
       "R₁⋅R₂ + R₃⋅(R₁ + R₂) + R₄⋅(R₁ + R₂)     "
      ]
     },
     "execution_count": 99,
     "metadata": {},
     "output_type": "execute_result"
    }
   ],
   "source": [
    "Z=Rc+parallel_comb((parallel_comb(R1,R2)+R3), R4)\n",
    "Z"
   ]
  },
  {
   "cell_type": "code",
   "execution_count": 100,
   "id": "e7a72b8e-4bf2-47ba-b821-7686d043b0ac",
   "metadata": {},
   "outputs": [
    {
     "data": {
      "image/png": "[encoded data removed]",
      "text/latex": [
       "$\\displaystyle \\frac{R_{1} R_{2} R_{4} + R_{1} R_{3} R_{4} + R_{2} R_{3} R_{4} + Rc \\left(R_{1} R_{2} + R_{1} R_{3} + R_{1} R_{4} + R_{2} R_{3} + R_{2} R_{4}\\right)}{R_{1} R_{2} + R_{1} R_{3} + R_{1} R_{4} + R_{2} R_{3} + R_{2} R_{4}}$"
      ],
      "text/plain": [
       "R₁⋅R₂⋅R₄ + R₁⋅R₃⋅R₄ + R₂⋅R₃⋅R₄ + Rc⋅(R₁⋅R₂ + R₁⋅R₃ + R₁⋅R₄ + R₂⋅R₃ + R₂⋅R₄)\n",
       "───────────────────────────────────────────────────────────────────────────\n",
       "                   R₁⋅R₂ + R₁⋅R₃ + R₁⋅R₄ + R₂⋅R₃ + R₂⋅R₄                   "
      ]
     },
     "execution_count": 100,
     "metadata": {},
     "output_type": "execute_result"
    }
   ],
   "source": [
    "Z.expand().simplify()"
   ]
  },
  {
   "cell_type": "code",
   "execution_count": 101,
   "id": "c53d50cd-b530-48ca-9e71-bf844ab02602",
   "metadata": {},
   "outputs": [
    {
     "data": {
      "image/png": "[encoded data removed]",
      "text/latex": [
       "$\\displaystyle \\frac{R_{1} R_{2} R_{4} + R_{1} R_{3} R_{4} + R_{2} R_{3} R_{4} + Rc \\left(R_{1} R_{2} + R_{1} R_{3} + R_{1} R_{4} + R_{2} R_{3} + R_{2} R_{4}\\right)}{R_{1} R_{2} + R_{1} R_{3} + R_{1} R_{4} + R_{2} R_{3} + R_{2} R_{4}}$"
      ],
      "text/plain": [
       "R₁⋅R₂⋅R₄ + R₁⋅R₃⋅R₄ + R₂⋅R₃⋅R₄ + Rc⋅(R₁⋅R₂ + R₁⋅R₃ + R₁⋅R₄ + R₂⋅R₃ + R₂⋅R₄)\n",
       "───────────────────────────────────────────────────────────────────────────\n",
       "                   R₁⋅R₂ + R₁⋅R₃ + R₁⋅R₄ + R₂⋅R₃ + R₂⋅R₄                   "
      ]
     },
     "execution_count": 101,
     "metadata": {},
     "output_type": "execute_result"
    }
   ],
   "source": [
    "Z_2_sym.collect(Rc)"
   ]
  },
  {
   "cell_type": "markdown",
   "id": "01b3df2d-3e4c-43c1-adad-01096d17450a",
   "metadata": {},
   "source": [
    "The results agree. but parallel connections are lost.\n",
    "\n",
    "resistors in parallel have ???\n",
    "\n",
    "resistors in series have ???\n",
    "\n",
    "## Find the time constant for the zero.\n",
    "\n",
    "Look at the resistance driving the storage element\n",
    "\n",
    "When the excitation is back but Vout = 0 V\n",
    "\n",
    "Do this by including ```V2 2 0 0``` and comment C2, using V3=1 in place of C1"
   ]
  },
  {
   "cell_type": "code",
   "execution_count": 102,
   "id": "13914987-3b79-4574-9307-a359cc1dc379",
   "metadata": {},
   "outputs": [],
   "source": [
    "example_net_list = '''\n",
    "V1 1 0 1\n",
    "R1 3 1 1\n",
    "R2 3 0 1\n",
    "R3 3 2 1\n",
    "Rc 2 4 1\n",
    "R4 2 0 1\n",
    "*C1 4 0 1\n",
    "V3 4 0 1\n",
    "V2 2 0 0\n",
    "'''"
   ]
  },
  {
   "cell_type": "code",
   "execution_count": 103,
   "id": "fa55a77e-f568-410f-aea5-b9e46fc8803a",
   "metadata": {},
   "outputs": [
    {
     "data": {
      "text/markdown": [
       "<p>$I_{V1} + \\frac{v_{1}}{R_{1}} - \\frac{v_{3}}{R_{1}} = 0$</p><p>$I_{V2} + v_{2} \\cdot \\left(\\frac{1}{Rc} + \\frac{1}{R_{4}} + \\frac{1}{R_{3}}\\right) - \\frac{v_{4}}{Rc} - \\frac{v_{3}}{R_{3}} = 0$</p><p>$v_{3} \\cdot \\left(\\frac{1}{R_{3}} + \\frac{1}{R_{2}} + \\frac{1}{R_{1}}\\right) - \\frac{v_{2}}{R_{3}} - \\frac{v_{1}}{R_{1}} = 0$</p><p>$I_{V3} - \\frac{v_{2}}{Rc} + \\frac{v_{4}}{Rc} = 0$</p><p>$v_{1} = V_{1}$</p><p>$v_{4} = V_{3}$</p><p>$v_{2} = V_{2}$</p>"
      ],
      "text/plain": [
       "<IPython.core.display.Markdown object>"
      ]
     },
     "execution_count": 103,
     "metadata": {},
     "output_type": "execute_result"
    }
   ],
   "source": [
    "report, network_df, df2, A, X, Z = SymMNA.smna(example_net_list)\n",
    "\n",
    "# Put matrices into SymPy \n",
    "X = Matrix(X)\n",
    "Z = Matrix(Z)\n",
    "\n",
    "NE_sym = Eq(A*X,Z)\n",
    "\n",
    "# display the equations\n",
    "temp = ''\n",
    "for i in range(shape(NE_sym.lhs)[0]):\n",
    "    temp += '<p>${:s} = {:s}$</p>'.format(latex(NE_sym.lhs[i]),\n",
    "        latex(NE_sym.rhs[i]))\n",
    "\n",
    "Markdown(temp)"
   ]
  },
  {
   "cell_type": "code",
   "execution_count": 104,
   "id": "4baa4e54-d1bf-4eb6-8d4b-1797a8ed06e2",
   "metadata": {},
   "outputs": [
    {
     "data": {
      "text/markdown": [
       "<p>$v_{1} = V_{1}$</p><p>$v_{2} = V_{2}$</p><p>$v_{3} = \\frac{R_{1} R_{2} V_{2} + R_{2} R_{3} V_{1}}{R_{1} R_{2} + R_{1} R_{3} + R_{2} R_{3}}$</p><p>$v_{4} = V_{3}$</p><p>$I_{V1} = \\frac{- R_{2} V_{1} + R_{2} V_{2} - R_{3} V_{1}}{R_{1} R_{2} + R_{1} R_{3} + R_{2} R_{3}}$</p><p>$I_{V3} = \\frac{V_{2} - V_{3}}{Rc}$</p><p>$I_{V2} = \\frac{- R_{1} R_{2} R_{4} V_{2} + R_{1} R_{2} R_{4} V_{3} - R_{1} R_{2} Rc V_{2} - R_{1} R_{3} R_{4} V_{2} + R_{1} R_{3} R_{4} V_{3} - R_{1} R_{3} Rc V_{2} - R_{1} R_{4} Rc V_{2} - R_{2} R_{3} R_{4} V_{2} + R_{2} R_{3} R_{4} V_{3} - R_{2} R_{3} Rc V_{2} + R_{2} R_{4} Rc V_{1} - R_{2} R_{4} Rc V_{2}}{R_{1} R_{2} R_{4} Rc + R_{1} R_{3} R_{4} Rc + R_{2} R_{3} R_{4} Rc}$</p>"
      ],
      "text/plain": [
       "<IPython.core.display.Markdown object>"
      ]
     },
     "execution_count": 104,
     "metadata": {},
     "output_type": "execute_result"
    }
   ],
   "source": [
    "var(str(NE_sym.free_symbols).replace('{','').replace('}',''))\n",
    "element_values = SymMNA.get_part_values(network_df)\n",
    "\n",
    "U_sym = solve(NE_sym,X)\n",
    "\n",
    "temp = ''\n",
    "for i in U_sym.keys():\n",
    "        temp += '<p>${:s} = {:s}$</p>'.format(latex(i),latex(U_sym[i]))\n",
    "\n",
    "Markdown(temp)"
   ]
  },
  {
   "cell_type": "markdown",
   "id": "31a00dd2-5358-4605-9eb5-4290052757f7",
   "metadata": {},
   "source": [
    "### Z2 = 1/I2\n",
    "V=IZ\n",
    "\n",
    "Z= V/I"
   ]
  },
  {
   "cell_type": "code",
   "execution_count": 105,
   "id": "f22f8c46-ac46-4b3e-b747-97eb90d0cf84",
   "metadata": {},
   "outputs": [
    {
     "data": {
      "text/markdown": [
       "$Z(s)=Rc$"
      ],
      "text/plain": [
       "<IPython.core.display.Markdown object>"
      ]
     },
     "execution_count": 105,
     "metadata": {},
     "output_type": "execute_result"
    }
   ],
   "source": [
    "Z_2_sym = (U_sym[v4]/-U_sym[I_V3]).subs({V1:1, V2:0}).simplify()\n",
    "Markdown('$Z(s)={:s}$'.format(latex(Z_2_sym)))"
   ]
  },
  {
   "cell_type": "markdown",
   "id": "a35ad534-22f5-4ebd-ad69-41a88c2f1b31",
   "metadata": {},
   "source": [
    "Final form \n",
    "\n",
    "$H(s)=h_0(s) \\frac {1+\\frac{s}{\\omega_z}}{1+\\frac{s}{\\omega_p}}$\n",
    "\n",
    "\n",
    "\n",
    "Need to comment about brute force versus series and parallel combining and writing equations by inspection"
   ]
  },
  {
   "cell_type": "code",
   "execution_count": 106,
   "id": "5b45be6c-8ed0-4147-9061-2bce1e059b38",
   "metadata": {},
   "outputs": [
    {
     "data": {
      "image/png": "[encoded data removed]",
      "text/latex": [
       "$\\displaystyle \\frac{C_{1} R_{2} R_{4} Rc s + R_{2} R_{4}}{R_{1} R_{2} + R_{1} R_{3} + R_{1} R_{4} + R_{2} R_{3} + R_{2} R_{4} + s \\left(C_{1} R_{1} R_{2} R_{4} + C_{1} R_{1} R_{2} Rc + C_{1} R_{1} R_{3} R_{4} + C_{1} R_{1} R_{3} Rc + C_{1} R_{1} R_{4} Rc + C_{1} R_{2} R_{3} R_{4} + C_{1} R_{2} R_{3} Rc + C_{1} R_{2} R_{4} Rc\\right)}$"
      ],
      "text/plain": [
       "                                                                  C₁⋅R₂⋅R₄⋅Rc⋅\n",
       "──────────────────────────────────────────────────────────────────────────────\n",
       "R₁⋅R₂ + R₁⋅R₃ + R₁⋅R₄ + R₂⋅R₃ + R₂⋅R₄ + s⋅(C₁⋅R₁⋅R₂⋅R₄ + C₁⋅R₁⋅R₂⋅Rc + C₁⋅R₁⋅R\n",
       "\n",
       "s + R₂⋅R₄                                                                  \n",
       "───────────────────────────────────────────────────────────────────────────\n",
       "₃⋅R₄ + C₁⋅R₁⋅R₃⋅Rc + C₁⋅R₁⋅R₄⋅Rc + C₁⋅R₂⋅R₃⋅R₄ + C₁⋅R₂⋅R₃⋅Rc + C₁⋅R₂⋅R₄⋅Rc)"
      ]
     },
     "execution_count": 106,
     "metadata": {},
     "output_type": "execute_result"
    }
   ],
   "source": [
    "H_sym_bf"
   ]
  },
  {
   "cell_type": "code",
   "execution_count": 108,
   "id": "df50d8ac-8108-45b8-9d29-04b563081f10",
   "metadata": {},
   "outputs": [
    {
     "data": {
      "image/png": "[encoded data removed]",
      "text/latex": [
       "$\\displaystyle \\frac{C_{1} R_{2} R_{4} Rc s + R_{2} R_{4}}{C_{1} s \\left(R_{1} R_{2} R_{4} + R_{1} R_{2} Rc + R_{1} R_{3} R_{4} + R_{1} R_{3} Rc + R_{1} R_{4} Rc + R_{2} R_{3} R_{4} + R_{2} R_{3} Rc + R_{2} R_{4} Rc\\right) + R_{1} R_{2} + R_{1} R_{3} + R_{1} R_{4} + R_{2} R_{3} + R_{2} R_{4}}$"
      ],
      "text/plain": [
       "                                                       C₁⋅R₂⋅R₄⋅Rc⋅s + R₂⋅R₄  \n",
       "──────────────────────────────────────────────────────────────────────────────\n",
       "C₁⋅s⋅(R₁⋅R₂⋅R₄ + R₁⋅R₂⋅Rc + R₁⋅R₃⋅R₄ + R₁⋅R₃⋅Rc + R₁⋅R₄⋅Rc + R₂⋅R₃⋅R₄ + R₂⋅R₃⋅\n",
       "\n",
       "                                                      \n",
       "──────────────────────────────────────────────────────\n",
       "Rc + R₂⋅R₄⋅Rc) + R₁⋅R₂ + R₁⋅R₃ + R₁⋅R₄ + R₂⋅R₃ + R₂⋅R₄"
      ]
     },
     "execution_count": 108,
     "metadata": {},
     "output_type": "execute_result"
    }
   ],
   "source": [
    "H_sym_bf.collect(C1)"
   ]
  },
  {
   "cell_type": "code",
   "execution_count": 109,
   "id": "aa59e6db-e04d-4d00-88fd-43de8fb64302",
   "metadata": {},
   "outputs": [
    {
     "data": {
      "image/png": "[encoded data removed]",
      "text/latex": [
       "$\\displaystyle \\left[ - \\frac{1}{C_{1} Rc}\\right]$"
      ],
      "text/plain": [
       "⎡ -1  ⎤\n",
       "⎢─────⎥\n",
       "⎣C₁⋅Rc⎦"
      ]
     },
     "execution_count": 109,
     "metadata": {},
     "output_type": "execute_result"
    }
   ],
   "source": [
    "z1_bf"
   ]
  },
  {
   "cell_type": "code",
   "execution_count": 110,
   "id": "1c002d75-ea46-460d-90d9-1340a84582b6",
   "metadata": {},
   "outputs": [
    {
     "data": {
      "image/png": "[encoded data removed]",
      "text/latex": [
       "$\\displaystyle \\left[ \\frac{- R_{1} R_{2} - R_{1} R_{3} - R_{1} R_{4} - R_{2} R_{3} - R_{2} R_{4}}{C_{1} \\left(R_{1} R_{2} R_{4} + R_{1} R_{2} Rc + R_{1} R_{3} R_{4} + R_{1} R_{3} Rc + R_{1} R_{4} Rc + R_{2} R_{3} R_{4} + R_{2} R_{3} Rc + R_{2} R_{4} Rc\\right)}\\right]$"
      ],
      "text/plain": [
       "⎡                          -R₁⋅R₂ - R₁⋅R₃ - R₁⋅R₄ - R₂⋅R₃ - R₂⋅R₄             \n",
       "⎢─────────────────────────────────────────────────────────────────────────────\n",
       "⎣C₁⋅(R₁⋅R₂⋅R₄ + R₁⋅R₂⋅Rc + R₁⋅R₃⋅R₄ + R₁⋅R₃⋅Rc + R₁⋅R₄⋅Rc + R₂⋅R₃⋅R₄ + R₂⋅R₃⋅R\n",
       "\n",
       "             ⎤\n",
       "─────────────⎥\n",
       "c + R₂⋅R₄⋅Rc)⎦"
      ]
     },
     "execution_count": 110,
     "metadata": {},
     "output_type": "execute_result"
    }
   ],
   "source": [
    "p1_bf"
   ]
  },
  {
   "cell_type": "code",
   "execution_count": null,
   "id": "91f447f1-d821-40fb-a486-2a26cb156fb1",
   "metadata": {},
   "outputs": [],
   "source": []
  },
  {
   "cell_type": "markdown",
   "id": "30212721-768d-4ffd-be97-401aff48c7d2",
   "metadata": {},
   "source": [
    "## Slide 90 example\n",
    "2nd order circuit, find the impedance\n",
    "\n",
    "- find $R_0$ at DC\n",
    "- find the zeros and write N(s) \n",
    "- find the time constants when elements are in their DC state, write the term $b_1$\n",
    "- find the time constants when elements are in their high frequency state, write the term $b_1$\n",
    "  - Set $L_1$ in high frequency state and look at R driving $C_2$, you get two terms $\\tau_1^2$ and $\\tau_2^1$\n",
    "  \n",
    "Slide 93 to 94 is missing some explination - don't see how the coefficients are formulated\n",
    "\n",
    "Low frequency time constants is the $b_1$ coeff of $s$ term\n",
    "\n",
    "High frequency time constants is the $b_2$ coeff of $s^2$ term\n",
    "\n",
    "\n",
    "On slide 95, Z(s) is expresed in terms of $\\omega_0$, $R_0$ and $Q$"
   ]
  },
  {
   "cell_type": "code",
   "execution_count": 111,
   "id": "85fd0e45-a502-44f0-8299-a3761e7630e9",
   "metadata": {},
   "outputs": [],
   "source": [
    "rl, L1, rc, C2, R_load, s, Rp = symbols('rl L1 rc C2 R_load s Rp')"
   ]
  },
  {
   "cell_type": "code",
   "execution_count": 112,
   "id": "6facf56e-eb31-47be-a6f0-98e735bff476",
   "metadata": {},
   "outputs": [
    {
     "data": {
      "image/png": "[encoded data removed]",
      "text/latex": [
       "$\\displaystyle \\frac{R_{load} rl}{R_{load} + rl}$"
      ],
      "text/plain": [
       " R_load⋅rl \n",
       "───────────\n",
       "R_load + rl"
      ]
     },
     "execution_count": 112,
     "metadata": {},
     "output_type": "execute_result"
    }
   ],
   "source": [
    "Ro = parallel_comb(rl,R_load) # Rl || R_load\n",
    "Ro"
   ]
  },
  {
   "cell_type": "code",
   "execution_count": 113,
   "id": "cdc7a12f-534c-4035-8a7c-fe664f8857b0",
   "metadata": {},
   "outputs": [
    {
     "data": {
      "image/png": "[encoded data removed]",
      "text/latex": [
       "$\\displaystyle \\left(C_{2} rc s + 1\\right) \\left(\\frac{L_{1} s}{rl} + 1\\right)$"
      ],
      "text/plain": [
       "              ⎛L₁⋅s    ⎞\n",
       "(C₂⋅rc⋅s + 1)⋅⎜──── + 1⎟\n",
       "              ⎝ rl     ⎠"
      ]
     },
     "execution_count": 113,
     "metadata": {},
     "output_type": "execute_result"
    }
   ],
   "source": [
    "N_s = (1+s*L1/rl)*(1+s*rc*C2)\n",
    "N_s"
   ]
  },
  {
   "cell_type": "markdown",
   "id": "543d330e-cbd8-4ec2-9b1a-0b255bc978ae",
   "metadata": {},
   "source": [
    "D_s below has a typo, R_load term should be R_load || rc"
   ]
  },
  {
   "cell_type": "code",
   "execution_count": 114,
   "id": "a741e46e-4743-4bfb-b00a-8d884b221da3",
   "metadata": {},
   "outputs": [
    {
     "data": {
      "image/png": "[encoded data removed]",
      "text/latex": [
       "$\\displaystyle \\frac{C_{2} L_{1} s^{2} \\left(R_{load} + rc\\right)}{R_{load} + rl} + s \\left(C_{2} \\left(\\frac{R_{load} rl}{R_{load} + rl} + rc\\right) + \\frac{L_{1}}{R_{load} + rl}\\right) + 1$"
      ],
      "text/plain": [
       "       2                                                            \n",
       "C₂⋅L₁⋅s ⋅(R_load + rc)     ⎛   ⎛ R_load⋅rl      ⎞        L₁    ⎞    \n",
       "────────────────────── + s⋅⎜C₂⋅⎜─────────── + rc⎟ + ───────────⎟ + 1\n",
       "     R_load + rl           ⎝   ⎝R_load + rl     ⎠   R_load + rl⎠    "
      ]
     },
     "execution_count": 114,
     "metadata": {},
     "output_type": "execute_result"
    }
   ],
   "source": [
    "D_s = 1 + s*(L1/(rl+R_load)+C2*(parallel_comb(rl,R_load)+rc)) + s**2*(L1*C2*((rc+R_load)/(rl+R_load)))\n",
    "D_s"
   ]
  },
  {
   "cell_type": "code",
   "execution_count": 115,
   "id": "202d6875-3964-4458-8940-454d33848751",
   "metadata": {},
   "outputs": [
    {
     "data": {
      "text/markdown": [
       "<p>$c_2=\\frac{C_{2} L_{1} \\left(R_{load} + rc\\right)}{R_{load} + rl}$</p><p>$c_1=C_{2} \\left(\\frac{R_{load} rl}{R_{load} + rl} + rc\\right) + \\frac{L_{1}}{R_{load} + rl}$</p>"
      ],
      "text/plain": [
       "<IPython.core.display.Markdown object>"
      ]
     },
     "execution_count": 115,
     "metadata": {},
     "output_type": "execute_result"
    }
   ],
   "source": [
    "c2 = D_s.coeff(s**2)\n",
    "c1 = D_s.coeff(s**1)\n",
    "Markdown('<p>$c_2={:s}$</p><p>$c_1={:s}$</p>'.format(latex(c2),latex(c1)))"
   ]
  },
  {
   "cell_type": "code",
   "execution_count": null,
   "id": "bc1fa08d-9178-4bf5-b564-bc3f80ab22c5",
   "metadata": {},
   "outputs": [],
   "source": []
  },
  {
   "cell_type": "markdown",
   "id": "18daac47-f3dc-4d91-b5fe-30010e154e9b",
   "metadata": {},
   "source": [
    "```\n",
    "* Slide_90_example.asc\n",
    "L1 1 2 1\n",
    "rl 2 0 1\n",
    "rc 3 0 1\n",
    "R_load 1 0 1\n",
    "C2 1 3 1\n",
    "I1 1 0 1\n",
    "```"
   ]
  },
  {
   "cell_type": "code",
   "execution_count": 116,
   "id": "4aba6d5a-89e3-40a8-9778-51c866d256ff",
   "metadata": {},
   "outputs": [],
   "source": [
    "example_net_list = '''\n",
    "* Slide_90_example.asc\n",
    "L1 1 2 1\n",
    "rl 2 0 1\n",
    "rc 3 0 1\n",
    "R_load 1 0 1\n",
    "C2 1 3 1\n",
    "I1 1 0 1\n",
    "'''"
   ]
  },
  {
   "cell_type": "markdown",
   "id": "e66f5c8c-6875-443f-af6f-5676e0319a3d",
   "metadata": {},
   "source": [
    "## Generate Network Equations "
   ]
  },
  {
   "cell_type": "code",
   "execution_count": 117,
   "id": "e63e23b1-a253-43a3-9838-292a9ed869c8",
   "metadata": {},
   "outputs": [
    {
     "data": {
      "text/markdown": [
       "<p>$- C_{2} s v_{3} + I_{L1} + v_{1} \\left(C_{2} s + \\frac{1}{R_{load}}\\right) = - I_{1}$</p><p>$- I_{L1} + \\frac{v_{2}}{Rl} = 0$</p><p>$- C_{2} s v_{1} + v_{3} \\left(C_{2} s + \\frac{1}{Rc}\\right) = 0$</p><p>$- I_{L1} L_{1} s + v_{1} - v_{2} = 0$</p>"
      ],
      "text/plain": [
       "<IPython.core.display.Markdown object>"
      ]
     },
     "execution_count": 117,
     "metadata": {},
     "output_type": "execute_result"
    }
   ],
   "source": [
    "report, network_df, df2, A, X, Z = SymMNA.smna(example_net_list)\n",
    "\n",
    "# Put matrices into SymPy \n",
    "X = Matrix(X)\n",
    "Z = Matrix(Z)\n",
    "\n",
    "NE_sym = Eq(A*X,Z)\n",
    "\n",
    "# display the equations\n",
    "temp = ''\n",
    "for i in range(shape(NE_sym.lhs)[0]):\n",
    "    temp += '<p>${:s} = {:s}$</p>'.format(latex(NE_sym.lhs[i]),\n",
    "        latex(NE_sym.rhs[i]))\n",
    "\n",
    "Markdown(temp)"
   ]
  },
  {
   "cell_type": "code",
   "execution_count": 118,
   "id": "d1239c74-53ca-46fa-9fcc-2ce1ceb45212",
   "metadata": {},
   "outputs": [
    {
     "data": {
      "text/markdown": [
       "<p>$v_{1} = \\frac{- C_{2} I_{1} L_{1} R_{load} Rc s^{2} - C_{2} I_{1} R_{load} Rc Rl s - I_{1} L_{1} R_{load} s - I_{1} R_{load} Rl}{C_{2} L_{1} R_{load} s^{2} + C_{2} L_{1} Rc s^{2} + C_{2} R_{load} Rc s + C_{2} R_{load} Rl s + C_{2} Rc Rl s + L_{1} s + R_{load} + Rl}$</p><p>$v_{2} = \\frac{- C_{2} I_{1} R_{load} Rc Rl s - I_{1} R_{load} Rl}{C_{2} L_{1} R_{load} s^{2} + C_{2} L_{1} Rc s^{2} + C_{2} R_{load} Rc s + C_{2} R_{load} Rl s + C_{2} Rc Rl s + L_{1} s + R_{load} + Rl}$</p><p>$v_{3} = \\frac{- C_{2} I_{1} L_{1} R_{load} Rc s^{2} - C_{2} I_{1} R_{load} Rc Rl s}{C_{2} L_{1} R_{load} s^{2} + C_{2} L_{1} Rc s^{2} + C_{2} R_{load} Rc s + C_{2} R_{load} Rl s + C_{2} Rc Rl s + L_{1} s + R_{load} + Rl}$</p><p>$I_{L1} = \\frac{- C_{2} I_{1} R_{load} Rc s - I_{1} R_{load}}{C_{2} L_{1} R_{load} s^{2} + C_{2} L_{1} Rc s^{2} + C_{2} R_{load} Rc s + C_{2} R_{load} Rl s + C_{2} Rc Rl s + L_{1} s + R_{load} + Rl}$</p>"
      ],
      "text/plain": [
       "<IPython.core.display.Markdown object>"
      ]
     },
     "execution_count": 118,
     "metadata": {},
     "output_type": "execute_result"
    }
   ],
   "source": [
    "var(str(NE_sym.free_symbols).replace('{','').replace('}',''))\n",
    "element_values = SymMNA.get_part_values(network_df)\n",
    "\n",
    "U_sym = solve(NE_sym,X)\n",
    "\n",
    "temp = ''\n",
    "for i in U_sym.keys():\n",
    "        temp += '<p>${:s} = {:s}$</p>'.format(latex(i),latex(U_sym[i]))\n",
    "\n",
    "Markdown(temp)"
   ]
  },
  {
   "cell_type": "markdown",
   "id": "07676efb-1f1b-450b-b04a-689bf31dddeb",
   "metadata": {},
   "source": [
    "### Output Impedance $Z(s)=\\frac {v_(s)}{I_1(s)}$"
   ]
  },
  {
   "cell_type": "code",
   "execution_count": 119,
   "id": "7e2b2d78-db9c-4351-a1b9-6b209f5cd181",
   "metadata": {},
   "outputs": [
    {
     "data": {
      "image/png": "[encoded data removed]",
      "text/latex": [
       "$\\displaystyle \\frac{- C_{2} I_{1} L_{1} R_{load} Rc s^{2} - C_{2} I_{1} R_{load} Rc Rl s - I_{1} L_{1} R_{load} s - I_{1} R_{load} Rl}{I_{1} \\left(C_{2} L_{1} R_{load} s^{2} + C_{2} L_{1} Rc s^{2} + C_{2} R_{load} Rc s + C_{2} R_{load} Rl s + C_{2} Rc Rl s + L_{1} s + R_{load} + Rl\\right)}$"
      ],
      "text/plain": [
       "                                  2                                           \n",
       "            - C₂⋅I₁⋅L₁⋅R_load⋅Rc⋅s  - C₂⋅I₁⋅R_load⋅Rc⋅Rl⋅s - I₁⋅L₁⋅R_load⋅s - \n",
       "──────────────────────────────────────────────────────────────────────────────\n",
       "   ⎛              2             2                                             \n",
       "I₁⋅⎝C₂⋅L₁⋅R_load⋅s  + C₂⋅L₁⋅Rc⋅s  + C₂⋅R_load⋅Rc⋅s + C₂⋅R_load⋅Rl⋅s + C₂⋅Rc⋅Rl\n",
       "\n",
       "                        \n",
       "I₁⋅R_load⋅Rl            \n",
       "────────────────────────\n",
       "                       ⎞\n",
       "⋅s + L₁⋅s + R_load + Rl⎠"
      ]
     },
     "execution_count": 119,
     "metadata": {},
     "output_type": "execute_result"
    }
   ],
   "source": [
    "U_sym[v1]/I1"
   ]
  },
  {
   "cell_type": "code",
   "execution_count": 120,
   "id": "010f875f-0397-4d33-a610-60ef571215de",
   "metadata": {},
   "outputs": [
    {
     "data": {
      "text/markdown": [
       "$Z(s)=\\frac{- C_{2} L_{1} R_{load} Rc s^{2} - R_{load} Rl + s \\left(- C_{2} R_{load} Rc Rl - L_{1} R_{load}\\right)}{R_{load} + Rl + s^{2} \\left(C_{2} L_{1} R_{load} + C_{2} L_{1} Rc\\right) + s \\left(C_{2} R_{load} Rc + C_{2} R_{load} Rl + C_{2} Rc Rl + L_{1}\\right)}$"
      ],
      "text/plain": [
       "<IPython.core.display.Markdown object>"
      ]
     },
     "execution_count": 120,
     "metadata": {},
     "output_type": "execute_result"
    }
   ],
   "source": [
    "Z_sym = cancel(U_sym[v1]/I1,s)\n",
    "Markdown('$Z(s)={:s}$'.format(latex(Z_sym)))"
   ]
  },
  {
   "cell_type": "code",
   "execution_count": 121,
   "id": "d9395a6e-75bf-4f35-bded-e2e6092cb7e6",
   "metadata": {
    "tags": []
   },
   "outputs": [],
   "source": [
    "H_sym_num, H_sym_denom = fraction(Z_sym,s) #returns numerator and denominator"
   ]
  },
  {
   "cell_type": "markdown",
   "id": "84f9fe45-8fd8-4744-a364-1b6ea21ebb6b",
   "metadata": {},
   "source": [
    "### Numerator Polynominal\n",
    "The numerator polynominal is:"
   ]
  },
  {
   "cell_type": "code",
   "execution_count": 122,
   "id": "646e873e-5429-46c5-b3ec-f666dbc0739a",
   "metadata": {},
   "outputs": [
    {
     "data": {
      "text/markdown": [
       "$N(s)=- C_{2} L_{1} R_{load} Rc s^{2} - R_{load} Rl + s \\left(- C_{2} R_{load} Rc Rl - L_{1} R_{load}\\right)$"
      ],
      "text/plain": [
       "<IPython.core.display.Markdown object>"
      ]
     },
     "execution_count": 122,
     "metadata": {},
     "output_type": "execute_result"
    }
   ],
   "source": [
    "Markdown('$N(s)={:s}$'.format(latex(H_sym_num)))"
   ]
  },
  {
   "cell_type": "markdown",
   "id": "3ffa94cc-3b05-449f-9d98-1c0c8fed30f5",
   "metadata": {},
   "source": [
    "The coeficients of each Laplace terms can be equated to the variables $b_2$, $b_1$ and $b_0$ in the expression: \n",
    "\n",
    "$b_2s^{2}+b_1s+b_0$\n",
    "\n",
    "where $b_2$, $b_1$ and $b_0$ are:"
   ]
  },
  {
   "cell_type": "code",
   "execution_count": 123,
   "id": "e3e4e58c-4455-4cba-a583-1d3e4138fdf4",
   "metadata": {},
   "outputs": [
    {
     "data": {
      "text/markdown": [
       "<p>$b_2=- C_{2} L_{1} R_{load} Rc$</p><p>$b_1=- C_{2} R_{load} Rc Rl - L_{1} R_{load}$</p><p>$b_0=- R_{load} Rl$</p>"
      ],
      "text/plain": [
       "<IPython.core.display.Markdown object>"
      ]
     },
     "execution_count": 123,
     "metadata": {},
     "output_type": "execute_result"
    }
   ],
   "source": [
    "b2 = H_sym_num.coeff(s**2)\n",
    "b1 = H_sym_num.coeff(s**1)\n",
    "b0 = H_sym_num - b1*s*1 - b2*s**2\n",
    "\n",
    "Markdown('<p>$b_2={:s}$</p><p>$b_1={:s}$</p><p>$b_0={:s}$</p>'.format(latex(b2),latex(b1),latex(b0)))"
   ]
  },
  {
   "cell_type": "code",
   "execution_count": 124,
   "id": "86d73934-2816-4b64-854e-ae448d0f58b0",
   "metadata": {},
   "outputs": [
    {
     "data": {
      "image/png": "[encoded data removed]",
      "text/latex": [
       "$\\displaystyle \\left[ - \\frac{1}{C_{2} Rc}, \\  - \\frac{Rl}{L_{1}}\\right]$"
      ],
      "text/plain": [
       "⎡ -1    -Rl ⎤\n",
       "⎢─────, ────⎥\n",
       "⎣C₂⋅Rc   L₁ ⎦"
      ]
     },
     "execution_count": 124,
     "metadata": {},
     "output_type": "execute_result"
    }
   ],
   "source": [
    "num_root_sym = solve(H_sym_num,s)\n",
    "num_root_sym"
   ]
  },
  {
   "cell_type": "code",
   "execution_count": 125,
   "id": "50d3ceb2-ded4-47ea-99bb-a62f73484d05",
   "metadata": {},
   "outputs": [
    {
     "data": {
      "image/png": "[encoded data removed]",
      "text/latex": [
       "$\\displaystyle \\frac{C_{2} L_{1} rc s^{2}}{rl} + C_{2} rc s + \\frac{L_{1} s}{rl} + 1$"
      ],
      "text/plain": [
       "          2                     \n",
       "C₂⋅L₁⋅rc⋅s              L₁⋅s    \n",
       "─────────── + C₂⋅rc⋅s + ──── + 1\n",
       "     rl                  rl     "
      ]
     },
     "execution_count": 125,
     "metadata": {},
     "output_type": "execute_result"
    }
   ],
   "source": [
    "N_s.expand()"
   ]
  },
  {
   "cell_type": "code",
   "execution_count": 126,
   "id": "f639b7b6-ebde-47bb-85cc-1f0ee2bd9bb3",
   "metadata": {},
   "outputs": [
    {
     "data": {
      "image/png": "[encoded data removed]",
      "text/latex": [
       "$\\displaystyle \\left[ - \\frac{1}{C_{2} rc}, \\  - \\frac{rl}{L_{1}}\\right]$"
      ],
      "text/plain": [
       "⎡ -1    -rl ⎤\n",
       "⎢─────, ────⎥\n",
       "⎣C₂⋅rc   L₁ ⎦"
      ]
     },
     "execution_count": 126,
     "metadata": {},
     "output_type": "execute_result"
    }
   ],
   "source": [
    "solve(N_s,s)"
   ]
  },
  {
   "cell_type": "code",
   "execution_count": null,
   "id": "52c4b1b3-f2ed-4a8f-8dcf-f805660ea9a1",
   "metadata": {},
   "outputs": [],
   "source": []
  },
  {
   "cell_type": "markdown",
   "id": "abe3de7c-a6d0-44a8-831b-f67eae51137f",
   "metadata": {},
   "source": [
    "### Denominator Polynominal\n"
   ]
  },
  {
   "cell_type": "code",
   "execution_count": 127,
   "id": "e50ce680-1254-4b09-8192-db4c8420f452",
   "metadata": {},
   "outputs": [
    {
     "data": {
      "text/markdown": [
       "$D(s)=R_{load} + Rl + s^{2} \\left(C_{2} L_{1} R_{load} + C_{2} L_{1} Rc\\right) + s \\left(C_{2} R_{load} Rc + C_{2} R_{load} Rl + C_{2} Rc Rl + L_{1}\\right)$"
      ],
      "text/plain": [
       "<IPython.core.display.Markdown object>"
      ]
     },
     "execution_count": 127,
     "metadata": {},
     "output_type": "execute_result"
    }
   ],
   "source": [
    "Markdown('$D(s)={:s}$'.format(latex(H_sym_denom)))"
   ]
  },
  {
   "cell_type": "code",
   "execution_count": 128,
   "id": "b20c7ee0-44c1-4764-885e-f3cd74611282",
   "metadata": {},
   "outputs": [
    {
     "data": {
      "image/png": "[encoded data removed]",
      "text/latex": [
       "$\\displaystyle R_{load} + Rl + s^{2} \\left(C_{2} L_{1} R_{load} + C_{2} L_{1} Rc\\right) + s \\left(C_{2} R_{load} Rc + C_{2} R_{load} Rl + C_{2} Rc Rl + L_{1}\\right)$"
      ],
      "text/plain": [
       "               2                                                              \n",
       "R_load + Rl + s ⋅(C₂⋅L₁⋅R_load + C₂⋅L₁⋅Rc) + s⋅(C₂⋅R_load⋅Rc + C₂⋅R_load⋅Rl + \n",
       "\n",
       "              \n",
       "C₂⋅Rc⋅Rl + L₁)"
      ]
     },
     "execution_count": 128,
     "metadata": {},
     "output_type": "execute_result"
    }
   ],
   "source": [
    "H_sym_denom.factor(s)"
   ]
  },
  {
   "cell_type": "markdown",
   "id": "8cdb9644-a017-4a61-b4c4-78f3dd257706",
   "metadata": {},
   "source": [
    "The coeficients of each Laplace terms can be equated to the variables $a_3$, $a_2$, $a_1$ and $a_0$ in the expression: \n",
    "\n",
    "$a_3s^3+a_2s^2+a_1s+a_0$\n",
    "\n",
    "where $a_3$, $a_2$, $a_1$ and $a_0$ are:"
   ]
  },
  {
   "cell_type": "code",
   "execution_count": 129,
   "id": "753be449-a30f-4a1b-a167-8ca192e816f8",
   "metadata": {},
   "outputs": [
    {
     "data": {
      "text/markdown": [
       "<p>$a_2=C_{2} L_{1} R_{load} + C_{2} L_{1} Rc$</p><p>$a_1=C_{2} R_{load} Rc + C_{2} R_{load} Rl + C_{2} Rc Rl + L_{1}$</p><p>$a_0=R_{load} + Rl$</p>"
      ],
      "text/plain": [
       "<IPython.core.display.Markdown object>"
      ]
     },
     "execution_count": 129,
     "metadata": {},
     "output_type": "execute_result"
    }
   ],
   "source": [
    "a2 = H_sym_denom.coeff(s**2)\n",
    "a1 = H_sym_denom.coeff(s**1)\n",
    "a0 = H_sym_denom - a1*s*1 - a2*s**2\n",
    "Markdown('<p>$a_2={:s}$</p><p>$a_1={:s}$</p><p>$a_0={:s}$</p>'.format(latex(a2),latex(a1),latex(a0)))"
   ]
  },
  {
   "cell_type": "code",
   "execution_count": 130,
   "id": "b66f2320-1ce2-4a4a-aa28-66dd149fd961",
   "metadata": {},
   "outputs": [
    {
     "data": {
      "image/png": "[encoded data removed]",
      "text/latex": [
       "$\\displaystyle \\frac{C_{2} L_{1} R_{load} + C_{2} L_{1} Rc}{R_{load} + Rl}$"
      ],
      "text/plain": [
       "C₂⋅L₁⋅R_load + C₂⋅L₁⋅Rc\n",
       "───────────────────────\n",
       "      R_load + Rl      "
      ]
     },
     "execution_count": 130,
     "metadata": {},
     "output_type": "execute_result"
    }
   ],
   "source": [
    "a2/a0"
   ]
  },
  {
   "cell_type": "code",
   "execution_count": 131,
   "id": "67887b09-f995-46fc-8d26-3d1368bdac17",
   "metadata": {},
   "outputs": [
    {
     "data": {
      "image/png": "[encoded data removed]",
      "text/latex": [
       "$\\displaystyle \\frac{C_{2} L_{1} \\left(R_{load} + Rc\\right)}{R_{load} + Rl}$"
      ],
      "text/plain": [
       "C₂⋅L₁⋅(R_load + Rc)\n",
       "───────────────────\n",
       "    R_load + Rl    "
      ]
     },
     "execution_count": 131,
     "metadata": {},
     "output_type": "execute_result"
    }
   ],
   "source": [
    "(a2/a0).collect(C2*L1)"
   ]
  },
  {
   "cell_type": "code",
   "execution_count": 132,
   "id": "83116ed1-98c6-4458-8f0f-668b24552e8f",
   "metadata": {},
   "outputs": [
    {
     "data": {
      "image/png": "[encoded data removed]",
      "text/latex": [
       "$\\displaystyle \\frac{C_{2} R_{load} Rc + C_{2} R_{load} Rl + C_{2} Rc Rl + L_{1}}{R_{load} + Rl}$"
      ],
      "text/plain": [
       "C₂⋅R_load⋅Rc + C₂⋅R_load⋅Rl + C₂⋅Rc⋅Rl + L₁\n",
       "───────────────────────────────────────────\n",
       "                R_load + Rl                "
      ]
     },
     "execution_count": 132,
     "metadata": {},
     "output_type": "execute_result"
    }
   ],
   "source": [
    "a1/a0"
   ]
  },
  {
   "cell_type": "code",
   "execution_count": 133,
   "id": "5a915f12-edba-4169-adb7-c65c930eac5a",
   "metadata": {},
   "outputs": [
    {
     "data": {
      "image/png": "[encoded data removed]",
      "text/latex": [
       "$\\displaystyle \\frac{C_{2} \\left(R_{load} Rc + R_{load} Rl + Rc Rl\\right) + L_{1}}{R_{load} + Rl}$"
      ],
      "text/plain": [
       "C₂⋅(R_load⋅Rc + R_load⋅Rl + Rc⋅Rl) + L₁\n",
       "───────────────────────────────────────\n",
       "              R_load + Rl              "
      ]
     },
     "execution_count": 133,
     "metadata": {},
     "output_type": "execute_result"
    }
   ],
   "source": [
    "(a1/a0).collect(C2)"
   ]
  },
  {
   "cell_type": "code",
   "execution_count": 134,
   "id": "4fb87277-3e45-42ae-9e5a-fc61aaa5dc28",
   "metadata": {},
   "outputs": [
    {
     "data": {
      "image/png": "[encoded data removed]",
      "text/latex": [
       "$\\displaystyle C_{2} \\left(\\frac{R_{load} rl}{R_{load} + rl} + rc\\right) + \\frac{L_{1}}{R_{load} + rl}$"
      ],
      "text/plain": [
       "   ⎛ R_load⋅rl      ⎞        L₁    \n",
       "C₂⋅⎜─────────── + rc⎟ + ───────────\n",
       "   ⎝R_load + rl     ⎠   R_load + rl"
      ]
     },
     "execution_count": 134,
     "metadata": {},
     "output_type": "execute_result"
    }
   ],
   "source": [
    "c1 #.expand()"
   ]
  },
  {
   "cell_type": "markdown",
   "id": "b2029888-2698-4975-838f-d8a8de946d10",
   "metadata": {},
   "source": [
    "The coefficients $a_1$ and $c_1$ do not match."
   ]
  },
  {
   "cell_type": "code",
   "execution_count": 135,
   "id": "fa5cc5ec-2e96-400d-ba2f-28b43c8bed94",
   "metadata": {},
   "outputs": [
    {
     "data": {
      "image/png": "[encoded data removed]",
      "text/latex": [
       "$\\displaystyle \\left[ \\frac{- C_{2} R_{load} Rc - C_{2} R_{load} Rl - C_{2} Rc Rl - L_{1} - \\sqrt{C_{2}^{2} R_{load}^{2} Rc^{2} + 2 C_{2}^{2} R_{load}^{2} Rc Rl + C_{2}^{2} R_{load}^{2} Rl^{2} + 2 C_{2}^{2} R_{load} Rc^{2} Rl + 2 C_{2}^{2} R_{load} Rc Rl^{2} + C_{2}^{2} Rc^{2} Rl^{2} - 4 C_{2} L_{1} R_{load}^{2} - 2 C_{2} L_{1} R_{load} Rc - 2 C_{2} L_{1} R_{load} Rl - 2 C_{2} L_{1} Rc Rl + L_{1}^{2}}}{2 C_{2} L_{1} \\left(R_{load} + Rc\\right)}, \\  \\frac{- C_{2} R_{load} Rc - C_{2} R_{load} Rl - C_{2} Rc Rl - L_{1} + \\sqrt{C_{2}^{2} R_{load}^{2} Rc^{2} + 2 C_{2}^{2} R_{load}^{2} Rc Rl + C_{2}^{2} R_{load}^{2} Rl^{2} + 2 C_{2}^{2} R_{load} Rc^{2} Rl + 2 C_{2}^{2} R_{load} Rc Rl^{2} + C_{2}^{2} Rc^{2} Rl^{2} - 4 C_{2} L_{1} R_{load}^{2} - 2 C_{2} L_{1} R_{load} Rc - 2 C_{2} L_{1} R_{load} Rl - 2 C_{2} L_{1} Rc Rl + L_{1}^{2}}}{2 C_{2} L_{1} \\left(R_{load} + Rc\\right)}\\right]$"
      ],
      "text/plain": [
       "⎡                                                  ___________________________\n",
       "⎢                                                 ╱   2       2   2       2   \n",
       "⎢-C₂⋅R_load⋅Rc - C₂⋅R_load⋅Rl - C₂⋅Rc⋅Rl - L₁ - ╲╱  C₂ ⋅R_load ⋅Rc  + 2⋅C₂ ⋅R_\n",
       "⎢─────────────────────────────────────────────────────────────────────────────\n",
       "⎣                                                                             \n",
       "\n",
       "______________________________________________________________________________\n",
       "    2           2       2   2       2          2          2             2     \n",
       "load ⋅Rc⋅Rl + C₂ ⋅R_load ⋅Rl  + 2⋅C₂ ⋅R_load⋅Rc ⋅Rl + 2⋅C₂ ⋅R_load⋅Rc⋅Rl  + C₂\n",
       "──────────────────────────────────────────────────────────────────────────────\n",
       "                                   2⋅C₂⋅L₁⋅(R_load + Rc)                      \n",
       "\n",
       "______________________________________________________________________________\n",
       "2   2   2                 2                                                   \n",
       " ⋅Rc ⋅Rl  - 4⋅C₂⋅L₁⋅R_load  - 2⋅C₂⋅L₁⋅R_load⋅Rc - 2⋅C₂⋅L₁⋅R_load⋅Rl - 2⋅C₂⋅L₁⋅\n",
       "──────────────────────────────────────────────────────────────────────────────\n",
       "                                                                              \n",
       "\n",
       "____________                                                    ______________\n",
       "          2                                                    ╱   2       2  \n",
       "Rc⋅Rl + L₁    -C₂⋅R_load⋅Rc - C₂⋅R_load⋅Rl - C₂⋅Rc⋅Rl - L₁ + ╲╱  C₂ ⋅R_load ⋅R\n",
       "────────────, ────────────────────────────────────────────────────────────────\n",
       "                                                                              \n",
       "\n",
       "______________________________________________________________________________\n",
       " 2       2       2           2       2   2       2          2          2      \n",
       "c  + 2⋅C₂ ⋅R_load ⋅Rc⋅Rl + C₂ ⋅R_load ⋅Rl  + 2⋅C₂ ⋅R_load⋅Rc ⋅Rl + 2⋅C₂ ⋅R_loa\n",
       "──────────────────────────────────────────────────────────────────────────────\n",
       "                                                2⋅C₂⋅L₁⋅(R_load + Rc)         \n",
       "\n",
       "______________________________________________________________________________\n",
       "       2     2   2   2                 2                                      \n",
       "d⋅Rc⋅Rl  + C₂ ⋅Rc ⋅Rl  - 4⋅C₂⋅L₁⋅R_load  - 2⋅C₂⋅L₁⋅R_load⋅Rc - 2⋅C₂⋅L₁⋅R_load⋅\n",
       "──────────────────────────────────────────────────────────────────────────────\n",
       "                                                                              \n",
       "\n",
       "_________________________⎤\n",
       "                       2 ⎥\n",
       "Rl - 2⋅C₂⋅L₁⋅Rc⋅Rl + L₁  ⎥\n",
       "─────────────────────────⎥\n",
       "                         ⎦"
      ]
     },
     "execution_count": 135,
     "metadata": {},
     "output_type": "execute_result"
    }
   ],
   "source": [
    "denom_root_sym = solve(H_sym_denom,s)\n",
    "denom_root_sym"
   ]
  },
  {
   "cell_type": "code",
   "execution_count": 136,
   "id": "e56fbf27-f27b-438d-97b3-9a93c878b668",
   "metadata": {},
   "outputs": [
    {
     "data": {
      "image/png": "[encoded data removed]",
      "text/latex": [
       "$\\displaystyle \\frac{C_{2} L_{1} s^{2} \\left(R_{load} + rc\\right)}{R_{load} + rl} + s \\left(C_{2} \\left(\\frac{R_{load} rl}{R_{load} + rl} + rc\\right) + \\frac{L_{1}}{R_{load} + rl}\\right) + 1$"
      ],
      "text/plain": [
       "       2                                                            \n",
       "C₂⋅L₁⋅s ⋅(R_load + rc)     ⎛   ⎛ R_load⋅rl      ⎞        L₁    ⎞    \n",
       "────────────────────── + s⋅⎜C₂⋅⎜─────────── + rc⎟ + ───────────⎟ + 1\n",
       "     R_load + rl           ⎝   ⎝R_load + rl     ⎠   R_load + rl⎠    "
      ]
     },
     "execution_count": 136,
     "metadata": {},
     "output_type": "execute_result"
    }
   ],
   "source": [
    "D_s"
   ]
  },
  {
   "cell_type": "code",
   "execution_count": null,
   "id": "1ba94ffa-0fd9-410f-838a-7d0e89f67e6c",
   "metadata": {},
   "outputs": [],
   "source": []
  },
  {
   "cell_type": "code",
   "execution_count": null,
   "id": "5a194669-8426-41f0-bc6a-b8640fc18de9",
   "metadata": {},
   "outputs": [],
   "source": []
  },
  {
   "cell_type": "code",
   "execution_count": 137,
   "id": "9aeb118f-afca-454f-926e-17ef1bfa3609",
   "metadata": {},
   "outputs": [
    {
     "data": {
      "image/png": "[encoded data removed]",
      "text/latex": [
       "$\\displaystyle \\left[ \\frac{- C_{2} R_{load} rc - C_{2} R_{load} rl - C_{2} rc rl - L_{1} - \\sqrt{C_{2}^{2} R_{load}^{2} rc^{2} + 2 C_{2}^{2} R_{load}^{2} rc rl + C_{2}^{2} R_{load}^{2} rl^{2} + 2 C_{2}^{2} R_{load} rc^{2} rl + 2 C_{2}^{2} R_{load} rc rl^{2} + C_{2}^{2} rc^{2} rl^{2} - 4 C_{2} L_{1} R_{load}^{2} - 2 C_{2} L_{1} R_{load} rc - 2 C_{2} L_{1} R_{load} rl - 2 C_{2} L_{1} rc rl + L_{1}^{2}}}{2 C_{2} L_{1} \\left(R_{load} + rc\\right)}, \\  \\frac{- C_{2} R_{load} rc - C_{2} R_{load} rl - C_{2} rc rl - L_{1} + \\sqrt{C_{2}^{2} R_{load}^{2} rc^{2} + 2 C_{2}^{2} R_{load}^{2} rc rl + C_{2}^{2} R_{load}^{2} rl^{2} + 2 C_{2}^{2} R_{load} rc^{2} rl + 2 C_{2}^{2} R_{load} rc rl^{2} + C_{2}^{2} rc^{2} rl^{2} - 4 C_{2} L_{1} R_{load}^{2} - 2 C_{2} L_{1} R_{load} rc - 2 C_{2} L_{1} R_{load} rl - 2 C_{2} L_{1} rc rl + L_{1}^{2}}}{2 C_{2} L_{1} \\left(R_{load} + rc\\right)}\\right]$"
      ],
      "text/plain": [
       "⎡                                                  ___________________________\n",
       "⎢                                                 ╱   2       2   2       2   \n",
       "⎢-C₂⋅R_load⋅rc - C₂⋅R_load⋅rl - C₂⋅rc⋅rl - L₁ - ╲╱  C₂ ⋅R_load ⋅rc  + 2⋅C₂ ⋅R_\n",
       "⎢─────────────────────────────────────────────────────────────────────────────\n",
       "⎣                                                                             \n",
       "\n",
       "______________________________________________________________________________\n",
       "    2           2       2   2       2          2          2             2     \n",
       "load ⋅rc⋅rl + C₂ ⋅R_load ⋅rl  + 2⋅C₂ ⋅R_load⋅rc ⋅rl + 2⋅C₂ ⋅R_load⋅rc⋅rl  + C₂\n",
       "──────────────────────────────────────────────────────────────────────────────\n",
       "                                   2⋅C₂⋅L₁⋅(R_load + rc)                      \n",
       "\n",
       "______________________________________________________________________________\n",
       "2   2   2                 2                                                   \n",
       " ⋅rc ⋅rl  - 4⋅C₂⋅L₁⋅R_load  - 2⋅C₂⋅L₁⋅R_load⋅rc - 2⋅C₂⋅L₁⋅R_load⋅rl - 2⋅C₂⋅L₁⋅\n",
       "──────────────────────────────────────────────────────────────────────────────\n",
       "                                                                              \n",
       "\n",
       "____________                                                    ______________\n",
       "          2                                                    ╱   2       2  \n",
       "rc⋅rl + L₁    -C₂⋅R_load⋅rc - C₂⋅R_load⋅rl - C₂⋅rc⋅rl - L₁ + ╲╱  C₂ ⋅R_load ⋅r\n",
       "────────────, ────────────────────────────────────────────────────────────────\n",
       "                                                                              \n",
       "\n",
       "______________________________________________________________________________\n",
       " 2       2       2           2       2   2       2          2          2      \n",
       "c  + 2⋅C₂ ⋅R_load ⋅rc⋅rl + C₂ ⋅R_load ⋅rl  + 2⋅C₂ ⋅R_load⋅rc ⋅rl + 2⋅C₂ ⋅R_loa\n",
       "──────────────────────────────────────────────────────────────────────────────\n",
       "                                                2⋅C₂⋅L₁⋅(R_load + rc)         \n",
       "\n",
       "______________________________________________________________________________\n",
       "       2     2   2   2                 2                                      \n",
       "d⋅rc⋅rl  + C₂ ⋅rc ⋅rl  - 4⋅C₂⋅L₁⋅R_load  - 2⋅C₂⋅L₁⋅R_load⋅rc - 2⋅C₂⋅L₁⋅R_load⋅\n",
       "──────────────────────────────────────────────────────────────────────────────\n",
       "                                                                              \n",
       "\n",
       "_________________________⎤\n",
       "                       2 ⎥\n",
       "rl - 2⋅C₂⋅L₁⋅rc⋅rl + L₁  ⎥\n",
       "─────────────────────────⎥\n",
       "                         ⎦"
      ]
     },
     "execution_count": 137,
     "metadata": {},
     "output_type": "execute_result"
    }
   ],
   "source": [
    "solve(D_s,s)"
   ]
  },
  {
   "cell_type": "code",
   "execution_count": null,
   "id": "58714f7d-ba01-4b9e-b061-251270a6228f",
   "metadata": {},
   "outputs": [],
   "source": []
  },
  {
   "cell_type": "markdown",
   "id": "86e88e52-09a3-4ce7-a76b-52b2c83a0d88",
   "metadata": {},
   "source": [
    "## Slide 119 example\n",
    "\n",
    "```\n",
    "* Slide 119 example.asc\n",
    "V1 1 0 1\n",
    "Rl 3 1 1\n",
    "Rc 4 0 1\n",
    "R_load 2 0 1\n",
    "L1 3 2 1\n",
    "C2 2 4 1\n",
    ".backanno\n",
    ".end\n",
    "```\n"
   ]
  },
  {
   "cell_type": "code",
   "execution_count": 138,
   "id": "a163a624-95b7-42f1-93a3-263d46172c23",
   "metadata": {},
   "outputs": [],
   "source": [
    "example_net_list = '''\n",
    "* Slide 119 example.asc\n",
    "V1 1 0 1\n",
    "Rl 3 1 1\n",
    "Rc 4 0 1\n",
    "R_load 2 0 1\n",
    "L1 3 2 1\n",
    "C2 2 4 1\n",
    "'''"
   ]
  },
  {
   "cell_type": "markdown",
   "id": "4b3d60a0-fe3b-4f02-bc04-46e7818e19bc",
   "metadata": {},
   "source": [
    "## Generate Network Equations "
   ]
  },
  {
   "cell_type": "code",
   "execution_count": 139,
   "id": "f88c1679-b083-4abe-97f2-2be9eecfbdba",
   "metadata": {},
   "outputs": [
    {
     "data": {
      "text/markdown": [
       "<p>$I_{V1} + \\frac{v_{1}}{Rl} - \\frac{v_{3}}{Rl} = 0$</p><p>$- C_{2} s v_{4} - I_{L1} + v_{2} \\left(C_{2} s + \\frac{1}{R_{load}}\\right) = 0$</p><p>$I_{L1} - \\frac{v_{1}}{Rl} + \\frac{v_{3}}{Rl} = 0$</p><p>$- C_{2} s v_{2} + v_{4} \\left(C_{2} s + \\frac{1}{Rc}\\right) = 0$</p><p>$v_{1} = V_{1}$</p><p>$- I_{L1} L_{1} s - v_{2} + v_{3} = 0$</p>"
      ],
      "text/plain": [
       "<IPython.core.display.Markdown object>"
      ]
     },
     "execution_count": 139,
     "metadata": {},
     "output_type": "execute_result"
    }
   ],
   "source": [
    "report, network_df, df2, A, X, Z = SymMNA.smna(example_net_list)\n",
    "\n",
    "# Put matrices into SymPy \n",
    "X = Matrix(X)\n",
    "Z = Matrix(Z)\n",
    "\n",
    "NE_sym = Eq(A*X,Z)\n",
    "\n",
    "# display the equations\n",
    "temp = ''\n",
    "for i in range(shape(NE_sym.lhs)[0]):\n",
    "    temp += '<p>${:s} = {:s}$</p>'.format(latex(NE_sym.lhs[i]),\n",
    "        latex(NE_sym.rhs[i]))\n",
    "\n",
    "Markdown(temp)"
   ]
  },
  {
   "cell_type": "code",
   "execution_count": 140,
   "id": "7e262cf2-bffb-425b-8584-d12cfc0cf205",
   "metadata": {},
   "outputs": [
    {
     "data": {
      "text/markdown": [
       "<p>$v_{1} = V_{1}$</p><p>$v_{2} = \\frac{C_{2} R_{load} Rc V_{1} s + R_{load} V_{1}}{C_{2} L_{1} R_{load} s^{2} + C_{2} L_{1} Rc s^{2} + C_{2} R_{load} Rc s + C_{2} R_{load} Rl s + C_{2} Rc Rl s + L_{1} s + R_{load} + Rl}$</p><p>$v_{3} = \\frac{C_{2} L_{1} R_{load} V_{1} s^{2} + C_{2} L_{1} Rc V_{1} s^{2} + C_{2} R_{load} Rc V_{1} s + L_{1} V_{1} s + R_{load} V_{1}}{C_{2} L_{1} R_{load} s^{2} + C_{2} L_{1} Rc s^{2} + C_{2} R_{load} Rc s + C_{2} R_{load} Rl s + C_{2} Rc Rl s + L_{1} s + R_{load} + Rl}$</p><p>$v_{4} = \\frac{C_{2} R_{load} Rc V_{1} s}{C_{2} L_{1} R_{load} s^{2} + C_{2} L_{1} Rc s^{2} + C_{2} R_{load} Rc s + C_{2} R_{load} Rl s + C_{2} Rc Rl s + L_{1} s + R_{load} + Rl}$</p><p>$I_{V1} = \\frac{- C_{2} R_{load} V_{1} s - C_{2} Rc V_{1} s - V_{1}}{C_{2} L_{1} R_{load} s^{2} + C_{2} L_{1} Rc s^{2} + C_{2} R_{load} Rc s + C_{2} R_{load} Rl s + C_{2} Rc Rl s + L_{1} s + R_{load} + Rl}$</p><p>$I_{L1} = \\frac{C_{2} R_{load} V_{1} s + C_{2} Rc V_{1} s + V_{1}}{C_{2} L_{1} R_{load} s^{2} + C_{2} L_{1} Rc s^{2} + C_{2} R_{load} Rc s + C_{2} R_{load} Rl s + C_{2} Rc Rl s + L_{1} s + R_{load} + Rl}$</p>"
      ],
      "text/plain": [
       "<IPython.core.display.Markdown object>"
      ]
     },
     "execution_count": 140,
     "metadata": {},
     "output_type": "execute_result"
    }
   ],
   "source": [
    "var(str(NE_sym.free_symbols).replace('{','').replace('}',''))\n",
    "element_values = SymMNA.get_part_values(network_df)\n",
    "\n",
    "U_sym = solve(NE_sym,X)\n",
    "\n",
    "temp = ''\n",
    "for i in U_sym.keys():\n",
    "        temp += '<p>${:s} = {:s}$</p>'.format(latex(i),latex(U_sym[i]))\n",
    "\n",
    "Markdown(temp)"
   ]
  },
  {
   "cell_type": "markdown",
   "id": "f77277e6-9413-47c8-8bf9-e53a954d46e6",
   "metadata": {},
   "source": [
    "### Transfer function $H(s)=\\frac {v_2(s)}{v_1(s)}$"
   ]
  },
  {
   "cell_type": "code",
   "execution_count": 141,
   "id": "1e12d863-2852-49fc-99ac-f02b3b40d546",
   "metadata": {},
   "outputs": [
    {
     "data": {
      "text/markdown": [
       "$H(s)=\\frac{C_{2} R_{load} Rc s + R_{load}}{C_{2} L_{1} R_{load} s^{2} + C_{2} L_{1} Rc s^{2} + C_{2} R_{load} Rc s + C_{2} R_{load} Rl s + C_{2} Rc Rl s + L_{1} s + R_{load} + Rl}$"
      ],
      "text/plain": [
       "<IPython.core.display.Markdown object>"
      ]
     },
     "execution_count": 141,
     "metadata": {},
     "output_type": "execute_result"
    }
   ],
   "source": [
    "H_sym = (U_sym[v2]/U_sym[v1]).cancel()\n",
    "Markdown('$H(s)={:s}$'.format(latex(H_sym)))"
   ]
  },
  {
   "cell_type": "code",
   "execution_count": 142,
   "id": "b09ef286-5ddc-492d-9082-55a8587ed4f3",
   "metadata": {
    "tags": []
   },
   "outputs": [],
   "source": [
    "H_sym_num, H_sym_denom = fraction(H_sym,s) #returns numerator and denominator"
   ]
  },
  {
   "cell_type": "markdown",
   "id": "dcc76e99-c568-4f57-ade9-d67e77a84aae",
   "metadata": {},
   "source": [
    "### Numerator Polynominal\n",
    "The numerator polynominal is:"
   ]
  },
  {
   "cell_type": "code",
   "execution_count": 143,
   "id": "1a805469-ce5b-4388-b2ed-66823553da7e",
   "metadata": {},
   "outputs": [],
   "source": [
    "H_sym_num = H_sym_num.collect(s)"
   ]
  },
  {
   "cell_type": "code",
   "execution_count": 144,
   "id": "cde71d85-0506-4b9a-bf8a-759967bd1218",
   "metadata": {},
   "outputs": [
    {
     "data": {
      "text/markdown": [
       "$N(s)=C_{2} R_{load} Rc s + R_{load}$"
      ],
      "text/plain": [
       "<IPython.core.display.Markdown object>"
      ]
     },
     "execution_count": 144,
     "metadata": {},
     "output_type": "execute_result"
    }
   ],
   "source": [
    "Markdown('$N(s)={:s}$'.format(latex(H_sym_num)))"
   ]
  },
  {
   "cell_type": "code",
   "execution_count": 145,
   "id": "bfda4b02-f779-4b4a-ab83-bd04869d4843",
   "metadata": {},
   "outputs": [
    {
     "data": {
      "text/markdown": [
       "<p>$b_3=0$</p><p>$b_2=0$</p><p>$b_1=C_{2} R_{load} Rc$</p><p>$b_0=R_{load}$</p>"
      ],
      "text/plain": [
       "<IPython.core.display.Markdown object>"
      ]
     },
     "execution_count": 145,
     "metadata": {},
     "output_type": "execute_result"
    }
   ],
   "source": [
    "b3 = H_sym_num.coeff(s**3)\n",
    "b2 = H_sym_num.coeff(s**2)\n",
    "b1 = H_sym_num.coeff(s**1)\n",
    "b0 = H_sym_num - b1*s*1 - b2*s**2 - b3*s**3\n",
    "Markdown('<p>$b_3={:s}$</p><p>$b_2={:s}$</p><p>$b_1={:s}$</p><p>$b_0={:s}$</p>'.format(latex(b3), latex(b2),latex(b1),latex(b0)))"
   ]
  },
  {
   "cell_type": "code",
   "execution_count": 146,
   "id": "dc6fd103-a91a-4550-ab2e-2c02958d9115",
   "metadata": {},
   "outputs": [
    {
     "data": {
      "image/png": "[encoded data removed]",
      "text/latex": [
       "$\\displaystyle \\left[ - \\frac{1}{C_{2} Rc}\\right]$"
      ],
      "text/plain": [
       "⎡ -1  ⎤\n",
       "⎢─────⎥\n",
       "⎣C₂⋅Rc⎦"
      ]
     },
     "execution_count": 146,
     "metadata": {},
     "output_type": "execute_result"
    }
   ],
   "source": [
    "num_root_sym = solve(H_sym_num,s)\n",
    "num_root_sym"
   ]
  },
  {
   "cell_type": "code",
   "execution_count": null,
   "id": "c449bfed-7a54-4b90-8eec-b4e0b5bc5987",
   "metadata": {},
   "outputs": [],
   "source": []
  },
  {
   "cell_type": "markdown",
   "id": "c07fab1c-4828-4fcf-85cf-b1636b07c573",
   "metadata": {},
   "source": [
    "### Denominator Polynominal\n"
   ]
  },
  {
   "cell_type": "code",
   "execution_count": null,
   "id": "879359fd-c740-48e6-9dd1-1f550a7cee8d",
   "metadata": {},
   "outputs": [],
   "source": []
  },
  {
   "cell_type": "code",
   "execution_count": 147,
   "id": "0caae16d-de5e-47a9-be12-fa88cc3fe042",
   "metadata": {},
   "outputs": [],
   "source": [
    "H_sym_denom = H_sym_denom.collect(s)"
   ]
  },
  {
   "cell_type": "code",
   "execution_count": 148,
   "id": "8a6c9e57-3bf5-452b-99e1-6231c589b3b7",
   "metadata": {},
   "outputs": [
    {
     "data": {
      "text/markdown": [
       "$D(s)=R_{load} + Rl + s^{2} \\left(C_{2} L_{1} R_{load} + C_{2} L_{1} Rc\\right) + s \\left(C_{2} R_{load} Rc + C_{2} R_{load} Rl + C_{2} Rc Rl + L_{1}\\right)$"
      ],
      "text/plain": [
       "<IPython.core.display.Markdown object>"
      ]
     },
     "execution_count": 148,
     "metadata": {},
     "output_type": "execute_result"
    }
   ],
   "source": [
    "Markdown('$D(s)={:s}$'.format(latex(H_sym_denom)))"
   ]
  },
  {
   "cell_type": "markdown",
   "id": "7f3cb9fc-a7fb-420a-b558-ee4d0b7d5f3f",
   "metadata": {},
   "source": [
    "The coeficients of each Laplace terms can be equated to the variables $a_3$, $a_2$, $a_1$ and $a_0$ in the expression: \n",
    "\n",
    "$a_2s^2+a_1s+a_0$\n",
    "\n",
    "where $a_2$, $a_1$ and $a_0$ are:"
   ]
  },
  {
   "cell_type": "code",
   "execution_count": 149,
   "id": "d24af0af-ad7a-4b5d-b8bd-11ff53a52923",
   "metadata": {},
   "outputs": [
    {
     "data": {
      "text/markdown": [
       "</p><p>$a_2=C_{2} L_{1} R_{load} + C_{2} L_{1} Rc$</p><p>$a_1=C_{2} R_{load} Rc + C_{2} R_{load} Rl + C_{2} Rc Rl + L_{1}$</p><p>$a_0=R_{load} + Rl$</p>"
      ],
      "text/plain": [
       "<IPython.core.display.Markdown object>"
      ]
     },
     "execution_count": 149,
     "metadata": {},
     "output_type": "execute_result"
    }
   ],
   "source": [
    "a2 = H_sym_denom.coeff(s**2) # a\n",
    "a1 = H_sym_denom.coeff(s**1) # b\n",
    "a0 = H_sym_denom - a1*s*1 - a2*s**2 - a3*s**3 # c\n",
    "Markdown('</p><p>$a_2={:s}$</p><p>$a_1={:s}$</p><p>$a_0={:s}$</p>'.format(latex(a2),latex(a1),latex(a0)))"
   ]
  },
  {
   "cell_type": "markdown",
   "id": "3841b674-26c5-48c6-846c-79734020e732",
   "metadata": {},
   "source": [
    "formulate into \n",
    "\n",
    "$s^2 + \\frac {\\omega_n}{Q}s+\\omega_n^2$\n",
    "\n"
   ]
  },
  {
   "cell_type": "code",
   "execution_count": 150,
   "id": "126b4585-923d-4066-8aaf-e493dd70761d",
   "metadata": {},
   "outputs": [
    {
     "data": {
      "image/png": "[encoded data removed]",
      "text/latex": [
       "$\\displaystyle \\frac{C_{2} L_{1} R_{load} + C_{2} L_{1} Rc}{R_{load} + Rl}$"
      ],
      "text/plain": [
       "C₂⋅L₁⋅R_load + C₂⋅L₁⋅Rc\n",
       "───────────────────────\n",
       "      R_load + Rl      "
      ]
     },
     "execution_count": 150,
     "metadata": {},
     "output_type": "execute_result"
    }
   ],
   "source": [
    "a2/a0"
   ]
  },
  {
   "cell_type": "code",
   "execution_count": 151,
   "id": "7a83214e-810f-4fe3-97e5-9b9dcf7677cd",
   "metadata": {},
   "outputs": [
    {
     "data": {
      "image/png": "[encoded data removed]",
      "text/latex": [
       "$\\displaystyle \\sqrt{\\frac{R_{load} + Rl}{C_{2} L_{1} R_{load} + C_{2} L_{1} Rc}}$"
      ],
      "text/plain": [
       "    _________________________\n",
       "   ╱       R_load + Rl       \n",
       "  ╱  ─────────────────────── \n",
       "╲╱   C₂⋅L₁⋅R_load + C₂⋅L₁⋅Rc "
      ]
     },
     "execution_count": 151,
     "metadata": {},
     "output_type": "execute_result"
    }
   ],
   "source": [
    "omega_n = sqrt(a0/a2)\n",
    "omega_n"
   ]
  },
  {
   "cell_type": "markdown",
   "id": "5202a648-68ec-4dec-a606-54a05daa37cc",
   "metadata": {},
   "source": [
    "Above agrees with slide 120"
   ]
  },
  {
   "cell_type": "code",
   "execution_count": 152,
   "id": "0ce73563-8501-4547-8895-be669332d077",
   "metadata": {},
   "outputs": [
    {
     "data": {
      "image/png": "[encoded data removed]",
      "text/latex": [
       "$\\displaystyle \\frac{\\sqrt{\\frac{R_{load} + Rl}{C_{2} L_{1} R_{load} + C_{2} L_{1} Rc}} \\left(C_{2} L_{1} R_{load} + C_{2} L_{1} Rc\\right)}{C_{2} R_{load} Rc + C_{2} R_{load} Rl + C_{2} Rc Rl + L_{1}}$"
      ],
      "text/plain": [
       "    _________________________                          \n",
       "   ╱       R_load + Rl                                 \n",
       "  ╱  ─────────────────────── ⋅(C₂⋅L₁⋅R_load + C₂⋅L₁⋅Rc)\n",
       "╲╱   C₂⋅L₁⋅R_load + C₂⋅L₁⋅Rc                           \n",
       "───────────────────────────────────────────────────────\n",
       "      C₂⋅R_load⋅Rc + C₂⋅R_load⋅Rl + C₂⋅Rc⋅Rl + L₁      "
      ]
     },
     "execution_count": 152,
     "metadata": {},
     "output_type": "execute_result"
    }
   ],
   "source": [
    "Q = a2*sqrt(a0/a2)/a1\n",
    "Q"
   ]
  },
  {
   "cell_type": "markdown",
   "id": "147bd026-13c7-44f3-a6d4-c91122a8a8ed",
   "metadata": {},
   "source": [
    "Above agrees with slide 120"
   ]
  },
  {
   "cell_type": "code",
   "execution_count": 153,
   "id": "14ead2fd-546c-49cb-bc7a-426a522adffc",
   "metadata": {},
   "outputs": [
    {
     "data": {
      "image/png": "[encoded data removed]",
      "text/latex": [
       "$\\displaystyle \\frac{C_{2} L_{1} \\sqrt{\\frac{R_{load} + Rl}{C_{2} L_{1} R_{load} + C_{2} L_{1} Rc}} \\left(R_{load} + Rc\\right)}{C_{2} R_{load} Rc + C_{2} R_{load} Rl + C_{2} Rc Rl + L_{1}}$"
      ],
      "text/plain": [
       "          _________________________              \n",
       "         ╱       R_load + Rl                     \n",
       "C₂⋅L₁⋅  ╱  ─────────────────────── ⋅(R_load + Rc)\n",
       "      ╲╱   C₂⋅L₁⋅R_load + C₂⋅L₁⋅Rc               \n",
       "─────────────────────────────────────────────────\n",
       "   C₂⋅R_load⋅Rc + C₂⋅R_load⋅Rl + C₂⋅Rc⋅Rl + L₁   "
      ]
     },
     "execution_count": 153,
     "metadata": {},
     "output_type": "execute_result"
    }
   ],
   "source": [
    "Q.factor()"
   ]
  },
  {
   "cell_type": "code",
   "execution_count": 154,
   "id": "6c9f4c9f-bec5-4e29-a7f8-99dd9b898b2d",
   "metadata": {},
   "outputs": [
    {
     "data": {
      "image/png": "[encoded data removed]",
      "text/latex": [
       "$\\displaystyle \\frac{\\sqrt{\\frac{R_{load} + Rl}{C_{2} L_{1} R_{load} + C_{2} L_{1} Rc}} \\left(C_{2} L_{1} R_{load} + C_{2} L_{1} Rc\\right)}{C_{2} R_{load} Rc + C_{2} R_{load} Rl + C_{2} Rc Rl + L_{1}}$"
      ],
      "text/plain": [
       "    _________________________                          \n",
       "   ╱       R_load + Rl                                 \n",
       "  ╱  ─────────────────────── ⋅(C₂⋅L₁⋅R_load + C₂⋅L₁⋅Rc)\n",
       "╲╱   C₂⋅L₁⋅R_load + C₂⋅L₁⋅Rc                           \n",
       "───────────────────────────────────────────────────────\n",
       "      C₂⋅R_load⋅Rc + C₂⋅R_load⋅Rl + C₂⋅Rc⋅Rl + L₁      "
      ]
     },
     "execution_count": 154,
     "metadata": {},
     "output_type": "execute_result"
    }
   ],
   "source": [
    "Q = a2*omega_n/a1\n",
    "Q"
   ]
  },
  {
   "cell_type": "code",
   "execution_count": null,
   "id": "1a3d4853-7fbc-4430-a52b-91f00a9cd966",
   "metadata": {},
   "outputs": [],
   "source": []
  },
  {
   "cell_type": "code",
   "execution_count": null,
   "id": "2bb0a8e5-4320-4199-91ef-b95492f837e0",
   "metadata": {},
   "outputs": [],
   "source": []
  },
  {
   "cell_type": "markdown",
   "id": "75e19327-27b4-47ad-bdfb-048766533f34",
   "metadata": {},
   "source": [
    "## Example 1: LR Ladder Network, pdf page 6\n",
    "\n",
    "```\n",
    "* C:\\users\\jeff64\\My Documents\\JupyterLab\\Misc ipython notebooks\\Buchla 295 10 Channel Comb Filter\\FACT circuits\\Example 1 LR Ladder Network.asc\n",
    "V1 1 0 1\n",
    "L1 1 3 1\n",
    "L2 3 4 1\n",
    "L3 4 2 1\n",
    "R1b 3 0 1\n",
    "R2b 4 0 1\n",
    "R3b 2 0 1\n",
    "R1a 3 1 1\n",
    "R2a 4 3 1\n",
    "R3a 2 4 1\n",
    ".backanno\n",
    ".end\n",
    "```"
   ]
  },
  {
   "cell_type": "code",
   "execution_count": 155,
   "id": "076e06c1-5412-4da3-91c1-f3600caeda82",
   "metadata": {},
   "outputs": [],
   "source": [
    "example_net_list = '''\n",
    "* Example 1 LR Ladder Network.asc\n",
    "V1 1 0 1\n",
    "L1 1 3 1\n",
    "L2 3 4 1\n",
    "L3 4 2 1\n",
    "R1b 3 0 1\n",
    "R2b 4 0 1\n",
    "R3b 2 0 1\n",
    "R1a 3 1 1\n",
    "R2a 4 3 1\n",
    "R3a 2 4 1\n",
    "'''"
   ]
  },
  {
   "cell_type": "markdown",
   "id": "6283b0a5-6d0b-4f72-a259-0f04b82cad31",
   "metadata": {},
   "source": [
    "## Generate Network Equations "
   ]
  },
  {
   "cell_type": "code",
   "execution_count": 156,
   "id": "95d88643-2992-420f-a81a-dbaa9d5be8d6",
   "metadata": {},
   "outputs": [
    {
     "data": {
      "text/markdown": [
       "<p>$I_{L1} + I_{V1} + \\frac{v_{1}}{R1a} - \\frac{v_{3}}{R1a} = 0$</p><p>$- I_{L3} + v_{2} \\cdot \\left(\\frac{1}{R3b} + \\frac{1}{R3a}\\right) - \\frac{v_{4}}{R3a} = 0$</p><p>$- I_{L1} + I_{L2} + v_{3} \\cdot \\left(\\frac{1}{R2a} + \\frac{1}{R1b} + \\frac{1}{R1a}\\right) - \\frac{v_{4}}{R2a} - \\frac{v_{1}}{R1a} = 0$</p><p>$- I_{L2} + I_{L3} + v_{4} \\cdot \\left(\\frac{1}{R3a} + \\frac{1}{R2b} + \\frac{1}{R2a}\\right) - \\frac{v_{2}}{R3a} - \\frac{v_{3}}{R2a} = 0$</p><p>$v_{1} = V_{1}$</p><p>$- I_{L1} L_{1} s + v_{1} - v_{3} = 0$</p><p>$- I_{L2} L_{2} s + v_{3} - v_{4} = 0$</p><p>$- I_{L3} L_{3} s - v_{2} + v_{4} = 0$</p>"
      ],
      "text/plain": [
       "<IPython.core.display.Markdown object>"
      ]
     },
     "execution_count": 156,
     "metadata": {},
     "output_type": "execute_result"
    }
   ],
   "source": [
    "report, network_df, df2, A, X, Z = SymMNA.smna(example_net_list)\n",
    "\n",
    "# Put matrices into SymPy \n",
    "X = Matrix(X)\n",
    "Z = Matrix(Z)\n",
    "\n",
    "NE_sym = Eq(A*X,Z)\n",
    "\n",
    "# display the equations\n",
    "temp = ''\n",
    "for i in range(shape(NE_sym.lhs)[0]):\n",
    "    temp += '<p>${:s} = {:s}$</p>'.format(latex(NE_sym.lhs[i]),\n",
    "        latex(NE_sym.rhs[i]))\n",
    "\n",
    "Markdown(temp)"
   ]
  },
  {
   "cell_type": "code",
   "execution_count": 157,
   "id": "331d7105-bc15-4f5c-ae25-217b7dccd15b",
   "metadata": {},
   "outputs": [
    {
     "data": {
      "text/markdown": [
       "<p>$v_{1} = V_{1}$</p><p>$v_{2} = \\frac{L_{1} L_{2} L_{3} R1b R2b R3b V_{1} s^{3} + L_{1} L_{2} R1b R2b R3a R3b V_{1} s^{2} + L_{1} L_{3} R1b R2a R2b R3b V_{1} s^{2} + L_{1} R1b R2a R2b R3a R3b V_{1} s + L_{2} L_{3} R1a R1b R2b R3b V_{1} s^{2} + L_{2} R1a R1b R2b R3a R3b V_{1} s + L_{3} R1a R1b R2a R2b R3b V_{1} s + R1a R1b R2a R2b R3a R3b V_{1}}{L_{1} L_{2} L_{3} R1a R1b R2b s^{3} + L_{1} L_{2} L_{3} R1a R1b R3a s^{3} + L_{1} L_{2} L_{3} R1a R1b R3b s^{3} + L_{1} L_{2} L_{3} R1a R2a R2b s^{3} + L_{1} L_{2} L_{3} R1a R2a R3a s^{3} + L_{1} L_{2} L_{3} R1a R2a R3b s^{3} + L_{1} L_{2} L_{3} R1a R2b R3a s^{3} + L_{1} L_{2} L_{3} R1a R2b R3b s^{3} + L_{1} L_{2} L_{3} R1b R2a R2b s^{3} + L_{1} L_{2} L_{3} R1b R2a R3a s^{3} + L_{1} L_{2} L_{3} R1b R2a R3b s^{3} + L_{1} L_{2} L_{3} R1b R2b R3a s^{3} + L_{1} L_{2} L_{3} R1b R2b R3b s^{3} + L_{1} L_{2} R1a R1b R2b R3a s^{2} + L_{1} L_{2} R1a R1b R3a R3b s^{2} + L_{1} L_{2} R1a R2a R2b R3a s^{2} + L_{1} L_{2} R1a R2a R3a R3b s^{2} + L_{1} L_{2} R1a R2b R3a R3b s^{2} + L_{1} L_{2} R1b R2a R2b R3a s^{2} + L_{1} L_{2} R1b R2a R3a R3b s^{2} + L_{1} L_{2} R1b R2b R3a R3b s^{2} + L_{1} L_{3} R1a R1b R2a R2b s^{2} + L_{1} L_{3} R1a R1b R2a R3a s^{2} + L_{1} L_{3} R1a R1b R2a R3b s^{2} + L_{1} L_{3} R1a R2a R2b R3a s^{2} + L_{1} L_{3} R1a R2a R2b R3b s^{2} + L_{1} L_{3} R1b R2a R2b R3a s^{2} + L_{1} L_{3} R1b R2a R2b R3b s^{2} + L_{1} R1a R1b R2a R2b R3a s + L_{1} R1a R1b R2a R3a R3b s + L_{1} R1a R2a R2b R3a R3b s + L_{1} R1b R2a R2b R3a R3b s + L_{2} L_{3} R1a R1b R2a R2b s^{2} + L_{2} L_{3} R1a R1b R2a R3a s^{2} + L_{2} L_{3} R1a R1b R2a R3b s^{2} + L_{2} L_{3} R1a R1b R2b R3a s^{2} + L_{2} L_{3} R1a R1b R2b R3b s^{2} + L_{2} R1a R1b R2a R2b R3a s + L_{2} R1a R1b R2a R3a R3b s + L_{2} R1a R1b R2b R3a R3b s + L_{3} R1a R1b R2a R2b R3a s + L_{3} R1a R1b R2a R2b R3b s + R1a R1b R2a R2b R3a R3b}$</p><p>$v_{3} = \\frac{L_{1} L_{2} L_{3} R1b R2a R2b V_{1} s^{3} + L_{1} L_{2} L_{3} R1b R2a R3a V_{1} s^{3} + L_{1} L_{2} L_{3} R1b R2a R3b V_{1} s^{3} + L_{1} L_{2} L_{3} R1b R2b R3a V_{1} s^{3} + L_{1} L_{2} L_{3} R1b R2b R3b V_{1} s^{3} + L_{1} L_{2} R1b R2a R2b R3a V_{1} s^{2} + L_{1} L_{2} R1b R2a R3a R3b V_{1} s^{2} + L_{1} L_{2} R1b R2b R3a R3b V_{1} s^{2} + L_{1} L_{3} R1b R2a R2b R3a V_{1} s^{2} + L_{1} L_{3} R1b R2a R2b R3b V_{1} s^{2} + L_{1} R1b R2a R2b R3a R3b V_{1} s + L_{2} L_{3} R1a R1b R2a R2b V_{1} s^{2} + L_{2} L_{3} R1a R1b R2a R3a V_{1} s^{2} + L_{2} L_{3} R1a R1b R2a R3b V_{1} s^{2} + L_{2} L_{3} R1a R1b R2b R3a V_{1} s^{2} + L_{2} L_{3} R1a R1b R2b R3b V_{1} s^{2} + L_{2} R1a R1b R2a R2b R3a V_{1} s + L_{2} R1a R1b R2a R3a R3b V_{1} s + L_{2} R1a R1b R2b R3a R3b V_{1} s + L_{3} R1a R1b R2a R2b R3a V_{1} s + L_{3} R1a R1b R2a R2b R3b V_{1} s + R1a R1b R2a R2b R3a R3b V_{1}}{L_{1} L_{2} L_{3} R1a R1b R2b s^{3} + L_{1} L_{2} L_{3} R1a R1b R3a s^{3} + L_{1} L_{2} L_{3} R1a R1b R3b s^{3} + L_{1} L_{2} L_{3} R1a R2a R2b s^{3} + L_{1} L_{2} L_{3} R1a R2a R3a s^{3} + L_{1} L_{2} L_{3} R1a R2a R3b s^{3} + L_{1} L_{2} L_{3} R1a R2b R3a s^{3} + L_{1} L_{2} L_{3} R1a R2b R3b s^{3} + L_{1} L_{2} L_{3} R1b R2a R2b s^{3} + L_{1} L_{2} L_{3} R1b R2a R3a s^{3} + L_{1} L_{2} L_{3} R1b R2a R3b s^{3} + L_{1} L_{2} L_{3} R1b R2b R3a s^{3} + L_{1} L_{2} L_{3} R1b R2b R3b s^{3} + L_{1} L_{2} R1a R1b R2b R3a s^{2} + L_{1} L_{2} R1a R1b R3a R3b s^{2} + L_{1} L_{2} R1a R2a R2b R3a s^{2} + L_{1} L_{2} R1a R2a R3a R3b s^{2} + L_{1} L_{2} R1a R2b R3a R3b s^{2} + L_{1} L_{2} R1b R2a R2b R3a s^{2} + L_{1} L_{2} R1b R2a R3a R3b s^{2} + L_{1} L_{2} R1b R2b R3a R3b s^{2} + L_{1} L_{3} R1a R1b R2a R2b s^{2} + L_{1} L_{3} R1a R1b R2a R3a s^{2} + L_{1} L_{3} R1a R1b R2a R3b s^{2} + L_{1} L_{3} R1a R2a R2b R3a s^{2} + L_{1} L_{3} R1a R2a R2b R3b s^{2} + L_{1} L_{3} R1b R2a R2b R3a s^{2} + L_{1} L_{3} R1b R2a R2b R3b s^{2} + L_{1} R1a R1b R2a R2b R3a s + L_{1} R1a R1b R2a R3a R3b s + L_{1} R1a R2a R2b R3a R3b s + L_{1} R1b R2a R2b R3a R3b s + L_{2} L_{3} R1a R1b R2a R2b s^{2} + L_{2} L_{3} R1a R1b R2a R3a s^{2} + L_{2} L_{3} R1a R1b R2a R3b s^{2} + L_{2} L_{3} R1a R1b R2b R3a s^{2} + L_{2} L_{3} R1a R1b R2b R3b s^{2} + L_{2} R1a R1b R2a R2b R3a s + L_{2} R1a R1b R2a R3a R3b s + L_{2} R1a R1b R2b R3a R3b s + L_{3} R1a R1b R2a R2b R3a s + L_{3} R1a R1b R2a R2b R3b s + R1a R1b R2a R2b R3a R3b}$</p><p>$v_{4} = \\frac{L_{1} L_{2} L_{3} R1b R2b R3a V_{1} s^{3} + L_{1} L_{2} L_{3} R1b R2b R3b V_{1} s^{3} + L_{1} L_{2} R1b R2b R3a R3b V_{1} s^{2} + L_{1} L_{3} R1b R2a R2b R3a V_{1} s^{2} + L_{1} L_{3} R1b R2a R2b R3b V_{1} s^{2} + L_{1} R1b R2a R2b R3a R3b V_{1} s + L_{2} L_{3} R1a R1b R2b R3a V_{1} s^{2} + L_{2} L_{3} R1a R1b R2b R3b V_{1} s^{2} + L_{2} R1a R1b R2b R3a R3b V_{1} s + L_{3} R1a R1b R2a R2b R3a V_{1} s + L_{3} R1a R1b R2a R2b R3b V_{1} s + R1a R1b R2a R2b R3a R3b V_{1}}{L_{1} L_{2} L_{3} R1a R1b R2b s^{3} + L_{1} L_{2} L_{3} R1a R1b R3a s^{3} + L_{1} L_{2} L_{3} R1a R1b R3b s^{3} + L_{1} L_{2} L_{3} R1a R2a R2b s^{3} + L_{1} L_{2} L_{3} R1a R2a R3a s^{3} + L_{1} L_{2} L_{3} R1a R2a R3b s^{3} + L_{1} L_{2} L_{3} R1a R2b R3a s^{3} + L_{1} L_{2} L_{3} R1a R2b R3b s^{3} + L_{1} L_{2} L_{3} R1b R2a R2b s^{3} + L_{1} L_{2} L_{3} R1b R2a R3a s^{3} + L_{1} L_{2} L_{3} R1b R2a R3b s^{3} + L_{1} L_{2} L_{3} R1b R2b R3a s^{3} + L_{1} L_{2} L_{3} R1b R2b R3b s^{3} + L_{1} L_{2} R1a R1b R2b R3a s^{2} + L_{1} L_{2} R1a R1b R3a R3b s^{2} + L_{1} L_{2} R1a R2a R2b R3a s^{2} + L_{1} L_{2} R1a R2a R3a R3b s^{2} + L_{1} L_{2} R1a R2b R3a R3b s^{2} + L_{1} L_{2} R1b R2a R2b R3a s^{2} + L_{1} L_{2} R1b R2a R3a R3b s^{2} + L_{1} L_{2} R1b R2b R3a R3b s^{2} + L_{1} L_{3} R1a R1b R2a R2b s^{2} + L_{1} L_{3} R1a R1b R2a R3a s^{2} + L_{1} L_{3} R1a R1b R2a R3b s^{2} + L_{1} L_{3} R1a R2a R2b R3a s^{2} + L_{1} L_{3} R1a R2a R2b R3b s^{2} + L_{1} L_{3} R1b R2a R2b R3a s^{2} + L_{1} L_{3} R1b R2a R2b R3b s^{2} + L_{1} R1a R1b R2a R2b R3a s + L_{1} R1a R1b R2a R3a R3b s + L_{1} R1a R2a R2b R3a R3b s + L_{1} R1b R2a R2b R3a R3b s + L_{2} L_{3} R1a R1b R2a R2b s^{2} + L_{2} L_{3} R1a R1b R2a R3a s^{2} + L_{2} L_{3} R1a R1b R2a R3b s^{2} + L_{2} L_{3} R1a R1b R2b R3a s^{2} + L_{2} L_{3} R1a R1b R2b R3b s^{2} + L_{2} R1a R1b R2a R2b R3a s + L_{2} R1a R1b R2a R3a R3b s + L_{2} R1a R1b R2b R3a R3b s + L_{3} R1a R1b R2a R2b R3a s + L_{3} R1a R1b R2a R2b R3b s + R1a R1b R2a R2b R3a R3b}$</p><p>$I_{V1} = \\frac{- L_{1} L_{2} L_{3} R1b R2b V_{1} s^{3} - L_{1} L_{2} L_{3} R1b R3a V_{1} s^{3} - L_{1} L_{2} L_{3} R1b R3b V_{1} s^{3} - L_{1} L_{2} L_{3} R2a R2b V_{1} s^{3} - L_{1} L_{2} L_{3} R2a R3a V_{1} s^{3} - L_{1} L_{2} L_{3} R2a R3b V_{1} s^{3} - L_{1} L_{2} L_{3} R2b R3a V_{1} s^{3} - L_{1} L_{2} L_{3} R2b R3b V_{1} s^{3} - L_{1} L_{2} R1b R2b R3a V_{1} s^{2} - L_{1} L_{2} R1b R3a R3b V_{1} s^{2} - L_{1} L_{2} R2a R2b R3a V_{1} s^{2} - L_{1} L_{2} R2a R3a R3b V_{1} s^{2} - L_{1} L_{2} R2b R3a R3b V_{1} s^{2} - L_{1} L_{3} R1b R2a R2b V_{1} s^{2} - L_{1} L_{3} R1b R2a R3a V_{1} s^{2} - L_{1} L_{3} R1b R2a R3b V_{1} s^{2} - L_{1} L_{3} R2a R2b R3a V_{1} s^{2} - L_{1} L_{3} R2a R2b R3b V_{1} s^{2} - L_{1} R1b R2a R2b R3a V_{1} s - L_{1} R1b R2a R3a R3b V_{1} s - L_{1} R2a R2b R3a R3b V_{1} s - L_{2} L_{3} R1a R1b R2b V_{1} s^{2} - L_{2} L_{3} R1a R1b R3a V_{1} s^{2} - L_{2} L_{3} R1a R1b R3b V_{1} s^{2} - L_{2} L_{3} R1a R2a R2b V_{1} s^{2} - L_{2} L_{3} R1a R2a R3a V_{1} s^{2} - L_{2} L_{3} R1a R2a R3b V_{1} s^{2} - L_{2} L_{3} R1a R2b R3a V_{1} s^{2} - L_{2} L_{3} R1a R2b R3b V_{1} s^{2} - L_{2} R1a R1b R2b R3a V_{1} s - L_{2} R1a R1b R3a R3b V_{1} s - L_{2} R1a R2a R2b R3a V_{1} s - L_{2} R1a R2a R3a R3b V_{1} s - L_{2} R1a R2b R3a R3b V_{1} s - L_{3} R1a R1b R2a R2b V_{1} s - L_{3} R1a R1b R2a R3a V_{1} s - L_{3} R1a R1b R2a R3b V_{1} s - L_{3} R1a R2a R2b R3a V_{1} s - L_{3} R1a R2a R2b R3b V_{1} s - R1a R1b R2a R2b R3a V_{1} - R1a R1b R2a R3a R3b V_{1} - R1a R2a R2b R3a R3b V_{1}}{L_{1} L_{2} L_{3} R1a R1b R2b s^{3} + L_{1} L_{2} L_{3} R1a R1b R3a s^{3} + L_{1} L_{2} L_{3} R1a R1b R3b s^{3} + L_{1} L_{2} L_{3} R1a R2a R2b s^{3} + L_{1} L_{2} L_{3} R1a R2a R3a s^{3} + L_{1} L_{2} L_{3} R1a R2a R3b s^{3} + L_{1} L_{2} L_{3} R1a R2b R3a s^{3} + L_{1} L_{2} L_{3} R1a R2b R3b s^{3} + L_{1} L_{2} L_{3} R1b R2a R2b s^{3} + L_{1} L_{2} L_{3} R1b R2a R3a s^{3} + L_{1} L_{2} L_{3} R1b R2a R3b s^{3} + L_{1} L_{2} L_{3} R1b R2b R3a s^{3} + L_{1} L_{2} L_{3} R1b R2b R3b s^{3} + L_{1} L_{2} R1a R1b R2b R3a s^{2} + L_{1} L_{2} R1a R1b R3a R3b s^{2} + L_{1} L_{2} R1a R2a R2b R3a s^{2} + L_{1} L_{2} R1a R2a R3a R3b s^{2} + L_{1} L_{2} R1a R2b R3a R3b s^{2} + L_{1} L_{2} R1b R2a R2b R3a s^{2} + L_{1} L_{2} R1b R2a R3a R3b s^{2} + L_{1} L_{2} R1b R2b R3a R3b s^{2} + L_{1} L_{3} R1a R1b R2a R2b s^{2} + L_{1} L_{3} R1a R1b R2a R3a s^{2} + L_{1} L_{3} R1a R1b R2a R3b s^{2} + L_{1} L_{3} R1a R2a R2b R3a s^{2} + L_{1} L_{3} R1a R2a R2b R3b s^{2} + L_{1} L_{3} R1b R2a R2b R3a s^{2} + L_{1} L_{3} R1b R2a R2b R3b s^{2} + L_{1} R1a R1b R2a R2b R3a s + L_{1} R1a R1b R2a R3a R3b s + L_{1} R1a R2a R2b R3a R3b s + L_{1} R1b R2a R2b R3a R3b s + L_{2} L_{3} R1a R1b R2a R2b s^{2} + L_{2} L_{3} R1a R1b R2a R3a s^{2} + L_{2} L_{3} R1a R1b R2a R3b s^{2} + L_{2} L_{3} R1a R1b R2b R3a s^{2} + L_{2} L_{3} R1a R1b R2b R3b s^{2} + L_{2} R1a R1b R2a R2b R3a s + L_{2} R1a R1b R2a R3a R3b s + L_{2} R1a R1b R2b R3a R3b s + L_{3} R1a R1b R2a R2b R3a s + L_{3} R1a R1b R2a R2b R3b s + R1a R1b R2a R2b R3a R3b}$</p><p>$I_{L1} = \\frac{L_{2} L_{3} R1a R1b R2b V_{1} s^{2} + L_{2} L_{3} R1a R1b R3a V_{1} s^{2} + L_{2} L_{3} R1a R1b R3b V_{1} s^{2} + L_{2} L_{3} R1a R2a R2b V_{1} s^{2} + L_{2} L_{3} R1a R2a R3a V_{1} s^{2} + L_{2} L_{3} R1a R2a R3b V_{1} s^{2} + L_{2} L_{3} R1a R2b R3a V_{1} s^{2} + L_{2} L_{3} R1a R2b R3b V_{1} s^{2} + L_{2} R1a R1b R2b R3a V_{1} s + L_{2} R1a R1b R3a R3b V_{1} s + L_{2} R1a R2a R2b R3a V_{1} s + L_{2} R1a R2a R3a R3b V_{1} s + L_{2} R1a R2b R3a R3b V_{1} s + L_{3} R1a R1b R2a R2b V_{1} s + L_{3} R1a R1b R2a R3a V_{1} s + L_{3} R1a R1b R2a R3b V_{1} s + L_{3} R1a R2a R2b R3a V_{1} s + L_{3} R1a R2a R2b R3b V_{1} s + R1a R1b R2a R2b R3a V_{1} + R1a R1b R2a R3a R3b V_{1} + R1a R2a R2b R3a R3b V_{1}}{L_{1} L_{2} L_{3} R1a R1b R2b s^{3} + L_{1} L_{2} L_{3} R1a R1b R3a s^{3} + L_{1} L_{2} L_{3} R1a R1b R3b s^{3} + L_{1} L_{2} L_{3} R1a R2a R2b s^{3} + L_{1} L_{2} L_{3} R1a R2a R3a s^{3} + L_{1} L_{2} L_{3} R1a R2a R3b s^{3} + L_{1} L_{2} L_{3} R1a R2b R3a s^{3} + L_{1} L_{2} L_{3} R1a R2b R3b s^{3} + L_{1} L_{2} L_{3} R1b R2a R2b s^{3} + L_{1} L_{2} L_{3} R1b R2a R3a s^{3} + L_{1} L_{2} L_{3} R1b R2a R3b s^{3} + L_{1} L_{2} L_{3} R1b R2b R3a s^{3} + L_{1} L_{2} L_{3} R1b R2b R3b s^{3} + L_{1} L_{2} R1a R1b R2b R3a s^{2} + L_{1} L_{2} R1a R1b R3a R3b s^{2} + L_{1} L_{2} R1a R2a R2b R3a s^{2} + L_{1} L_{2} R1a R2a R3a R3b s^{2} + L_{1} L_{2} R1a R2b R3a R3b s^{2} + L_{1} L_{2} R1b R2a R2b R3a s^{2} + L_{1} L_{2} R1b R2a R3a R3b s^{2} + L_{1} L_{2} R1b R2b R3a R3b s^{2} + L_{1} L_{3} R1a R1b R2a R2b s^{2} + L_{1} L_{3} R1a R1b R2a R3a s^{2} + L_{1} L_{3} R1a R1b R2a R3b s^{2} + L_{1} L_{3} R1a R2a R2b R3a s^{2} + L_{1} L_{3} R1a R2a R2b R3b s^{2} + L_{1} L_{3} R1b R2a R2b R3a s^{2} + L_{1} L_{3} R1b R2a R2b R3b s^{2} + L_{1} R1a R1b R2a R2b R3a s + L_{1} R1a R1b R2a R3a R3b s + L_{1} R1a R2a R2b R3a R3b s + L_{1} R1b R2a R2b R3a R3b s + L_{2} L_{3} R1a R1b R2a R2b s^{2} + L_{2} L_{3} R1a R1b R2a R3a s^{2} + L_{2} L_{3} R1a R1b R2a R3b s^{2} + L_{2} L_{3} R1a R1b R2b R3a s^{2} + L_{2} L_{3} R1a R1b R2b R3b s^{2} + L_{2} R1a R1b R2a R2b R3a s + L_{2} R1a R1b R2a R3a R3b s + L_{2} R1a R1b R2b R3a R3b s + L_{3} R1a R1b R2a R2b R3a s + L_{3} R1a R1b R2a R2b R3b s + R1a R1b R2a R2b R3a R3b}$</p><p>$I_{L2} = \\frac{L_{1} L_{3} R1b R2a R2b V_{1} s^{2} + L_{1} L_{3} R1b R2a R3a V_{1} s^{2} + L_{1} L_{3} R1b R2a R3b V_{1} s^{2} + L_{1} R1b R2a R2b R3a V_{1} s + L_{1} R1b R2a R3a R3b V_{1} s + L_{3} R1a R1b R2a R2b V_{1} s + L_{3} R1a R1b R2a R3a V_{1} s + L_{3} R1a R1b R2a R3b V_{1} s + R1a R1b R2a R2b R3a V_{1} + R1a R1b R2a R3a R3b V_{1}}{L_{1} L_{2} L_{3} R1a R1b R2b s^{3} + L_{1} L_{2} L_{3} R1a R1b R3a s^{3} + L_{1} L_{2} L_{3} R1a R1b R3b s^{3} + L_{1} L_{2} L_{3} R1a R2a R2b s^{3} + L_{1} L_{2} L_{3} R1a R2a R3a s^{3} + L_{1} L_{2} L_{3} R1a R2a R3b s^{3} + L_{1} L_{2} L_{3} R1a R2b R3a s^{3} + L_{1} L_{2} L_{3} R1a R2b R3b s^{3} + L_{1} L_{2} L_{3} R1b R2a R2b s^{3} + L_{1} L_{2} L_{3} R1b R2a R3a s^{3} + L_{1} L_{2} L_{3} R1b R2a R3b s^{3} + L_{1} L_{2} L_{3} R1b R2b R3a s^{3} + L_{1} L_{2} L_{3} R1b R2b R3b s^{3} + L_{1} L_{2} R1a R1b R2b R3a s^{2} + L_{1} L_{2} R1a R1b R3a R3b s^{2} + L_{1} L_{2} R1a R2a R2b R3a s^{2} + L_{1} L_{2} R1a R2a R3a R3b s^{2} + L_{1} L_{2} R1a R2b R3a R3b s^{2} + L_{1} L_{2} R1b R2a R2b R3a s^{2} + L_{1} L_{2} R1b R2a R3a R3b s^{2} + L_{1} L_{2} R1b R2b R3a R3b s^{2} + L_{1} L_{3} R1a R1b R2a R2b s^{2} + L_{1} L_{3} R1a R1b R2a R3a s^{2} + L_{1} L_{3} R1a R1b R2a R3b s^{2} + L_{1} L_{3} R1a R2a R2b R3a s^{2} + L_{1} L_{3} R1a R2a R2b R3b s^{2} + L_{1} L_{3} R1b R2a R2b R3a s^{2} + L_{1} L_{3} R1b R2a R2b R3b s^{2} + L_{1} R1a R1b R2a R2b R3a s + L_{1} R1a R1b R2a R3a R3b s + L_{1} R1a R2a R2b R3a R3b s + L_{1} R1b R2a R2b R3a R3b s + L_{2} L_{3} R1a R1b R2a R2b s^{2} + L_{2} L_{3} R1a R1b R2a R3a s^{2} + L_{2} L_{3} R1a R1b R2a R3b s^{2} + L_{2} L_{3} R1a R1b R2b R3a s^{2} + L_{2} L_{3} R1a R1b R2b R3b s^{2} + L_{2} R1a R1b R2a R2b R3a s + L_{2} R1a R1b R2a R3a R3b s + L_{2} R1a R1b R2b R3a R3b s + L_{3} R1a R1b R2a R2b R3a s + L_{3} R1a R1b R2a R2b R3b s + R1a R1b R2a R2b R3a R3b}$</p><p>$I_{L3} = \\frac{L_{1} L_{2} R1b R2b R3a V_{1} s^{2} + L_{1} R1b R2a R2b R3a V_{1} s + L_{2} R1a R1b R2b R3a V_{1} s + R1a R1b R2a R2b R3a V_{1}}{L_{1} L_{2} L_{3} R1a R1b R2b s^{3} + L_{1} L_{2} L_{3} R1a R1b R3a s^{3} + L_{1} L_{2} L_{3} R1a R1b R3b s^{3} + L_{1} L_{2} L_{3} R1a R2a R2b s^{3} + L_{1} L_{2} L_{3} R1a R2a R3a s^{3} + L_{1} L_{2} L_{3} R1a R2a R3b s^{3} + L_{1} L_{2} L_{3} R1a R2b R3a s^{3} + L_{1} L_{2} L_{3} R1a R2b R3b s^{3} + L_{1} L_{2} L_{3} R1b R2a R2b s^{3} + L_{1} L_{2} L_{3} R1b R2a R3a s^{3} + L_{1} L_{2} L_{3} R1b R2a R3b s^{3} + L_{1} L_{2} L_{3} R1b R2b R3a s^{3} + L_{1} L_{2} L_{3} R1b R2b R3b s^{3} + L_{1} L_{2} R1a R1b R2b R3a s^{2} + L_{1} L_{2} R1a R1b R3a R3b s^{2} + L_{1} L_{2} R1a R2a R2b R3a s^{2} + L_{1} L_{2} R1a R2a R3a R3b s^{2} + L_{1} L_{2} R1a R2b R3a R3b s^{2} + L_{1} L_{2} R1b R2a R2b R3a s^{2} + L_{1} L_{2} R1b R2a R3a R3b s^{2} + L_{1} L_{2} R1b R2b R3a R3b s^{2} + L_{1} L_{3} R1a R1b R2a R2b s^{2} + L_{1} L_{3} R1a R1b R2a R3a s^{2} + L_{1} L_{3} R1a R1b R2a R3b s^{2} + L_{1} L_{3} R1a R2a R2b R3a s^{2} + L_{1} L_{3} R1a R2a R2b R3b s^{2} + L_{1} L_{3} R1b R2a R2b R3a s^{2} + L_{1} L_{3} R1b R2a R2b R3b s^{2} + L_{1} R1a R1b R2a R2b R3a s + L_{1} R1a R1b R2a R3a R3b s + L_{1} R1a R2a R2b R3a R3b s + L_{1} R1b R2a R2b R3a R3b s + L_{2} L_{3} R1a R1b R2a R2b s^{2} + L_{2} L_{3} R1a R1b R2a R3a s^{2} + L_{2} L_{3} R1a R1b R2a R3b s^{2} + L_{2} L_{3} R1a R1b R2b R3a s^{2} + L_{2} L_{3} R1a R1b R2b R3b s^{2} + L_{2} R1a R1b R2a R2b R3a s + L_{2} R1a R1b R2a R3a R3b s + L_{2} R1a R1b R2b R3a R3b s + L_{3} R1a R1b R2a R2b R3a s + L_{3} R1a R1b R2a R2b R3b s + R1a R1b R2a R2b R3a R3b}$</p>"
      ],
      "text/plain": [
       "<IPython.core.display.Markdown object>"
      ]
     },
     "execution_count": 157,
     "metadata": {},
     "output_type": "execute_result"
    }
   ],
   "source": [
    "var(str(NE_sym.free_symbols).replace('{','').replace('}',''))\n",
    "element_values = SymMNA.get_part_values(network_df)\n",
    "\n",
    "U_sym = solve(NE_sym,X)\n",
    "\n",
    "temp = ''\n",
    "for i in U_sym.keys():\n",
    "        temp += '<p>${:s} = {:s}$</p>'.format(latex(i),latex(U_sym[i]))\n",
    "\n",
    "Markdown(temp)"
   ]
  },
  {
   "cell_type": "markdown",
   "id": "525c25ab-44e5-4072-b6d9-76d328b49129",
   "metadata": {},
   "source": [
    "### Transfer function $H(s)=\\frac {v_2(s)}{v_1(s)}$"
   ]
  },
  {
   "cell_type": "code",
   "execution_count": 158,
   "id": "8ad26873-f344-44dc-805c-a64dee1e8e01",
   "metadata": {},
   "outputs": [
    {
     "data": {
      "text/markdown": [
       "$H(s)=\\frac{L_{1} L_{2} L_{3} R1b R2b R3b s^{3} + L_{1} L_{2} R1b R2b R3a R3b s^{2} + L_{1} L_{3} R1b R2a R2b R3b s^{2} + L_{1} R1b R2a R2b R3a R3b s + L_{2} L_{3} R1a R1b R2b R3b s^{2} + L_{2} R1a R1b R2b R3a R3b s + L_{3} R1a R1b R2a R2b R3b s + R1a R1b R2a R2b R3a R3b}{L_{1} L_{2} L_{3} R1a R1b R2b s^{3} + L_{1} L_{2} L_{3} R1a R1b R3a s^{3} + L_{1} L_{2} L_{3} R1a R1b R3b s^{3} + L_{1} L_{2} L_{3} R1a R2a R2b s^{3} + L_{1} L_{2} L_{3} R1a R2a R3a s^{3} + L_{1} L_{2} L_{3} R1a R2a R3b s^{3} + L_{1} L_{2} L_{3} R1a R2b R3a s^{3} + L_{1} L_{2} L_{3} R1a R2b R3b s^{3} + L_{1} L_{2} L_{3} R1b R2a R2b s^{3} + L_{1} L_{2} L_{3} R1b R2a R3a s^{3} + L_{1} L_{2} L_{3} R1b R2a R3b s^{3} + L_{1} L_{2} L_{3} R1b R2b R3a s^{3} + L_{1} L_{2} L_{3} R1b R2b R3b s^{3} + L_{1} L_{2} R1a R1b R2b R3a s^{2} + L_{1} L_{2} R1a R1b R3a R3b s^{2} + L_{1} L_{2} R1a R2a R2b R3a s^{2} + L_{1} L_{2} R1a R2a R3a R3b s^{2} + L_{1} L_{2} R1a R2b R3a R3b s^{2} + L_{1} L_{2} R1b R2a R2b R3a s^{2} + L_{1} L_{2} R1b R2a R3a R3b s^{2} + L_{1} L_{2} R1b R2b R3a R3b s^{2} + L_{1} L_{3} R1a R1b R2a R2b s^{2} + L_{1} L_{3} R1a R1b R2a R3a s^{2} + L_{1} L_{3} R1a R1b R2a R3b s^{2} + L_{1} L_{3} R1a R2a R2b R3a s^{2} + L_{1} L_{3} R1a R2a R2b R3b s^{2} + L_{1} L_{3} R1b R2a R2b R3a s^{2} + L_{1} L_{3} R1b R2a R2b R3b s^{2} + L_{1} R1a R1b R2a R2b R3a s + L_{1} R1a R1b R2a R3a R3b s + L_{1} R1a R2a R2b R3a R3b s + L_{1} R1b R2a R2b R3a R3b s + L_{2} L_{3} R1a R1b R2a R2b s^{2} + L_{2} L_{3} R1a R1b R2a R3a s^{2} + L_{2} L_{3} R1a R1b R2a R3b s^{2} + L_{2} L_{3} R1a R1b R2b R3a s^{2} + L_{2} L_{3} R1a R1b R2b R3b s^{2} + L_{2} R1a R1b R2a R2b R3a s + L_{2} R1a R1b R2a R3a R3b s + L_{2} R1a R1b R2b R3a R3b s + L_{3} R1a R1b R2a R2b R3a s + L_{3} R1a R1b R2a R2b R3b s + R1a R1b R2a R2b R3a R3b}$"
      ],
      "text/plain": [
       "<IPython.core.display.Markdown object>"
      ]
     },
     "execution_count": 158,
     "metadata": {},
     "output_type": "execute_result"
    }
   ],
   "source": [
    "H_sym = (U_sym[v2]/U_sym[v1]).cancel()\n",
    "Markdown('$H(s)={:s}$'.format(latex(H_sym)))"
   ]
  },
  {
   "cell_type": "code",
   "execution_count": 159,
   "id": "ae7f414f-a2fa-47b2-a69e-eb8fc37b841b",
   "metadata": {
    "tags": []
   },
   "outputs": [],
   "source": [
    "H_sym_num, H_sym_denom = fraction(H_sym,s) #returns numerator and denominator"
   ]
  },
  {
   "cell_type": "markdown",
   "id": "44a1b52e-e612-4f60-83bc-f353689dfbb6",
   "metadata": {},
   "source": [
    "### Numerator Polynominal\n",
    "The numerator polynominal is:"
   ]
  },
  {
   "cell_type": "code",
   "execution_count": 160,
   "id": "d90036d0-1081-4bf6-beb5-491f44f808ad",
   "metadata": {},
   "outputs": [],
   "source": [
    "H_sym_num = H_sym_num.collect(s)"
   ]
  },
  {
   "cell_type": "code",
   "execution_count": 161,
   "id": "31b40fdc-9eb7-47f4-aeeb-bdcf47444d97",
   "metadata": {},
   "outputs": [
    {
     "data": {
      "text/markdown": [
       "$N(s)=L_{1} L_{2} L_{3} R1b R2b R3b s^{3} + R1a R1b R2a R2b R3a R3b + s^{2} \\left(L_{1} L_{2} R1b R2b R3a R3b + L_{1} L_{3} R1b R2a R2b R3b + L_{2} L_{3} R1a R1b R2b R3b\\right) + s \\left(L_{1} R1b R2a R2b R3a R3b + L_{2} R1a R1b R2b R3a R3b + L_{3} R1a R1b R2a R2b R3b\\right)$"
      ],
      "text/plain": [
       "<IPython.core.display.Markdown object>"
      ]
     },
     "execution_count": 161,
     "metadata": {},
     "output_type": "execute_result"
    }
   ],
   "source": [
    "Markdown('$N(s)={:s}$'.format(latex(H_sym_num)))"
   ]
  },
  {
   "cell_type": "code",
   "execution_count": 162,
   "id": "184add1e-42a6-4d7f-b731-e032099fe3a2",
   "metadata": {},
   "outputs": [
    {
     "data": {
      "text/markdown": [
       "<p>$b_3=L_{1} L_{2} L_{3} R1b R2b R3b$</p><p>$b_2=L_{1} L_{2} R1b R2b R3a R3b + L_{1} L_{3} R1b R2a R2b R3b + L_{2} L_{3} R1a R1b R2b R3b$</p><p>$b_1=L_{1} R1b R2a R2b R3a R3b + L_{2} R1a R1b R2b R3a R3b + L_{3} R1a R1b R2a R2b R3b$</p><p>$b_0=R1a R1b R2a R2b R3a R3b$</p>"
      ],
      "text/plain": [
       "<IPython.core.display.Markdown object>"
      ]
     },
     "execution_count": 162,
     "metadata": {},
     "output_type": "execute_result"
    }
   ],
   "source": [
    "b3 = H_sym_num.coeff(s**3)\n",
    "b2 = H_sym_num.coeff(s**2)\n",
    "b1 = H_sym_num.coeff(s**1)\n",
    "b0 = H_sym_num - b1*s*1 - b2*s**2 - b3*s**3\n",
    "Markdown('<p>$b_3={:s}$</p><p>$b_2={:s}$</p><p>$b_1={:s}$</p><p>$b_0={:s}$</p>'.format(latex(b3), latex(b2),latex(b1),latex(b0)))"
   ]
  },
  {
   "cell_type": "code",
   "execution_count": 163,
   "id": "7d9d1801-4fe8-40b0-8fdf-59c919093e0a",
   "metadata": {},
   "outputs": [
    {
     "data": {
      "image/png": "[encoded data removed]",
      "text/latex": [
       "$\\displaystyle \\left[ - \\frac{R1a}{L_{1}}, \\  - \\frac{R2a}{L_{2}}, \\  - \\frac{R3a}{L_{3}}\\right]$"
      ],
      "text/plain": [
       "⎡-R1a   -R2a   -R3a ⎤\n",
       "⎢─────, ─────, ─────⎥\n",
       "⎣  L₁     L₂     L₃ ⎦"
      ]
     },
     "execution_count": 163,
     "metadata": {},
     "output_type": "execute_result"
    }
   ],
   "source": [
    "num_root_sym = solve(H_sym_num,s)\n",
    "num_root_sym"
   ]
  },
  {
   "cell_type": "code",
   "execution_count": null,
   "id": "9fe8da3b-19eb-422d-bae7-79c712c3c087",
   "metadata": {},
   "outputs": [],
   "source": []
  },
  {
   "cell_type": "markdown",
   "id": "1da10997-1bdf-43cc-8432-4e86b7ebbd3f",
   "metadata": {},
   "source": [
    "### Denominator Polynominal\n"
   ]
  },
  {
   "cell_type": "code",
   "execution_count": null,
   "id": "26b7477d-0191-44d5-b332-affc644c446e",
   "metadata": {},
   "outputs": [],
   "source": []
  },
  {
   "cell_type": "code",
   "execution_count": 164,
   "id": "6d52861b-b79e-4e44-a8dd-1da16add0208",
   "metadata": {},
   "outputs": [],
   "source": [
    "H_sym_denom = H_sym_denom.collect(s)"
   ]
  },
  {
   "cell_type": "code",
   "execution_count": 165,
   "id": "69bd756b-d29d-41d8-9aa1-2d81f8fe9523",
   "metadata": {},
   "outputs": [
    {
     "data": {
      "text/markdown": [
       "$D(s)=R1a R1b R2a R2b R3a R3b + s^{3} \\left(L_{1} L_{2} L_{3} R1a R1b R2b + L_{1} L_{2} L_{3} R1a R1b R3a + L_{1} L_{2} L_{3} R1a R1b R3b + L_{1} L_{2} L_{3} R1a R2a R2b + L_{1} L_{2} L_{3} R1a R2a R3a + L_{1} L_{2} L_{3} R1a R2a R3b + L_{1} L_{2} L_{3} R1a R2b R3a + L_{1} L_{2} L_{3} R1a R2b R3b + L_{1} L_{2} L_{3} R1b R2a R2b + L_{1} L_{2} L_{3} R1b R2a R3a + L_{1} L_{2} L_{3} R1b R2a R3b + L_{1} L_{2} L_{3} R1b R2b R3a + L_{1} L_{2} L_{3} R1b R2b R3b\\right) + s^{2} \\left(L_{1} L_{2} R1a R1b R2b R3a + L_{1} L_{2} R1a R1b R3a R3b + L_{1} L_{2} R1a R2a R2b R3a + L_{1} L_{2} R1a R2a R3a R3b + L_{1} L_{2} R1a R2b R3a R3b + L_{1} L_{2} R1b R2a R2b R3a + L_{1} L_{2} R1b R2a R3a R3b + L_{1} L_{2} R1b R2b R3a R3b + L_{1} L_{3} R1a R1b R2a R2b + L_{1} L_{3} R1a R1b R2a R3a + L_{1} L_{3} R1a R1b R2a R3b + L_{1} L_{3} R1a R2a R2b R3a + L_{1} L_{3} R1a R2a R2b R3b + L_{1} L_{3} R1b R2a R2b R3a + L_{1} L_{3} R1b R2a R2b R3b + L_{2} L_{3} R1a R1b R2a R2b + L_{2} L_{3} R1a R1b R2a R3a + L_{2} L_{3} R1a R1b R2a R3b + L_{2} L_{3} R1a R1b R2b R3a + L_{2} L_{3} R1a R1b R2b R3b\\right) + s \\left(L_{1} R1a R1b R2a R2b R3a + L_{1} R1a R1b R2a R3a R3b + L_{1} R1a R2a R2b R3a R3b + L_{1} R1b R2a R2b R3a R3b + L_{2} R1a R1b R2a R2b R3a + L_{2} R1a R1b R2a R3a R3b + L_{2} R1a R1b R2b R3a R3b + L_{3} R1a R1b R2a R2b R3a + L_{3} R1a R1b R2a R2b R3b\\right)$"
      ],
      "text/plain": [
       "<IPython.core.display.Markdown object>"
      ]
     },
     "execution_count": 165,
     "metadata": {},
     "output_type": "execute_result"
    }
   ],
   "source": [
    "Markdown('$D(s)={:s}$'.format(latex(H_sym_denom)))"
   ]
  },
  {
   "cell_type": "markdown",
   "id": "a47692b8-6056-4add-8dcc-df203c03888c",
   "metadata": {},
   "source": [
    "The coeficients of each Laplace terms can be equated to the variables $a_3$, $a_2$, $a_1$ and $a_0$ in the expression: \n",
    "\n",
    "$a_3s^3+a_2s^2+a_1s+a_0$\n",
    "\n",
    "where $a_3$, $a_2$, $a_1$ and $a_0$ are:"
   ]
  },
  {
   "cell_type": "code",
   "execution_count": 166,
   "id": "5809ab1c-c267-4799-9a20-3b17231e1205",
   "metadata": {},
   "outputs": [
    {
     "data": {
      "text/markdown": [
       "<p>$a_3=L_{1} L_{2} L_{3} R1a R1b R2b + L_{1} L_{2} L_{3} R1a R1b R3a + L_{1} L_{2} L_{3} R1a R1b R3b + L_{1} L_{2} L_{3} R1a R2a R2b + L_{1} L_{2} L_{3} R1a R2a R3a + L_{1} L_{2} L_{3} R1a R2a R3b + L_{1} L_{2} L_{3} R1a R2b R3a + L_{1} L_{2} L_{3} R1a R2b R3b + L_{1} L_{2} L_{3} R1b R2a R2b + L_{1} L_{2} L_{3} R1b R2a R3a + L_{1} L_{2} L_{3} R1b R2a R3b + L_{1} L_{2} L_{3} R1b R2b R3a + L_{1} L_{2} L_{3} R1b R2b R3b$</p><p>$a_2=L_{1} L_{2} R1a R1b R2b R3a + L_{1} L_{2} R1a R1b R3a R3b + L_{1} L_{2} R1a R2a R2b R3a + L_{1} L_{2} R1a R2a R3a R3b + L_{1} L_{2} R1a R2b R3a R3b + L_{1} L_{2} R1b R2a R2b R3a + L_{1} L_{2} R1b R2a R3a R3b + L_{1} L_{2} R1b R2b R3a R3b + L_{1} L_{3} R1a R1b R2a R2b + L_{1} L_{3} R1a R1b R2a R3a + L_{1} L_{3} R1a R1b R2a R3b + L_{1} L_{3} R1a R2a R2b R3a + L_{1} L_{3} R1a R2a R2b R3b + L_{1} L_{3} R1b R2a R2b R3a + L_{1} L_{3} R1b R2a R2b R3b + L_{2} L_{3} R1a R1b R2a R2b + L_{2} L_{3} R1a R1b R2a R3a + L_{2} L_{3} R1a R1b R2a R3b + L_{2} L_{3} R1a R1b R2b R3a + L_{2} L_{3} R1a R1b R2b R3b$</p><p>$a_1=L_{1} R1a R1b R2a R2b R3a + L_{1} R1a R1b R2a R3a R3b + L_{1} R1a R2a R2b R3a R3b + L_{1} R1b R2a R2b R3a R3b + L_{2} R1a R1b R2a R2b R3a + L_{2} R1a R1b R2a R3a R3b + L_{2} R1a R1b R2b R3a R3b + L_{3} R1a R1b R2a R2b R3a + L_{3} R1a R1b R2a R2b R3b$</p><p>$a_0=R1a R1b R2a R2b R3a R3b$</p>"
      ],
      "text/plain": [
       "<IPython.core.display.Markdown object>"
      ]
     },
     "execution_count": 166,
     "metadata": {},
     "output_type": "execute_result"
    }
   ],
   "source": [
    "a3 = H_sym_denom.coeff(s**3)\n",
    "a2 = H_sym_denom.coeff(s**2)\n",
    "a1 = H_sym_denom.coeff(s**1)\n",
    "a0 = H_sym_denom - a1*s*1 - a2*s**2 - a3*s**3\n",
    "Markdown('<p>$a_3={:s}$</p><p>$a_2={:s}$</p><p>$a_1={:s}$</p><p>$a_0={:s}$</p>'.format(latex(a3), latex(a2),latex(a1),latex(a0)))"
   ]
  },
  {
   "cell_type": "code",
   "execution_count": 167,
   "id": "2922e44d-ee6e-4d87-99b2-84e4d7314ff9",
   "metadata": {},
   "outputs": [
    {
     "data": {
      "image/png": "[encoded data removed]",
      "text/latex": [
       "$\\displaystyle \\frac{L_{1} L_{2} L_{3} R1a R1b R2b + L_{1} L_{2} L_{3} R1a R1b R3a + L_{1} L_{2} L_{3} R1a R1b R3b + L_{1} L_{2} L_{3} R1a R2a R2b + L_{1} L_{2} L_{3} R1a R2a R3a + L_{1} L_{2} L_{3} R1a R2a R3b + L_{1} L_{2} L_{3} R1a R2b R3a + L_{1} L_{2} L_{3} R1a R2b R3b + L_{1} L_{2} L_{3} R1b R2a R2b + L_{1} L_{2} L_{3} R1b R2a R3a + L_{1} L_{2} L_{3} R1b R2a R3b + L_{1} L_{2} L_{3} R1b R2b R3a + L_{1} L_{2} L_{3} R1b R2b R3b}{R1a R1b R2a R2b R3a R3b}$"
      ],
      "text/plain": [
       "L₁⋅L₂⋅L₃⋅R1a⋅R1b⋅R2b + L₁⋅L₂⋅L₃⋅R1a⋅R1b⋅R3a + L₁⋅L₂⋅L₃⋅R1a⋅R1b⋅R3b + L₁⋅L₂⋅L₃⋅\n",
       "──────────────────────────────────────────────────────────────────────────────\n",
       "                                                                              \n",
       "\n",
       "R1a⋅R2a⋅R2b + L₁⋅L₂⋅L₃⋅R1a⋅R2a⋅R3a + L₁⋅L₂⋅L₃⋅R1a⋅R2a⋅R3b + L₁⋅L₂⋅L₃⋅R1a⋅R2b⋅R\n",
       "──────────────────────────────────────────────────────────────────────────────\n",
       "                                                          R1a⋅R1b⋅R2a⋅R2b⋅R3a⋅\n",
       "\n",
       "3a + L₁⋅L₂⋅L₃⋅R1a⋅R2b⋅R3b + L₁⋅L₂⋅L₃⋅R1b⋅R2a⋅R2b + L₁⋅L₂⋅L₃⋅R1b⋅R2a⋅R3a + L₁⋅L\n",
       "──────────────────────────────────────────────────────────────────────────────\n",
       "R3b                                                                           \n",
       "\n",
       "₂⋅L₃⋅R1b⋅R2a⋅R3b + L₁⋅L₂⋅L₃⋅R1b⋅R2b⋅R3a + L₁⋅L₂⋅L₃⋅R1b⋅R2b⋅R3b\n",
       "──────────────────────────────────────────────────────────────\n",
       "                                                              "
      ]
     },
     "execution_count": 167,
     "metadata": {},
     "output_type": "execute_result"
    }
   ],
   "source": [
    "a3/a0"
   ]
  },
  {
   "cell_type": "code",
   "execution_count": 168,
   "id": "b2931bba-8195-42c1-923f-86bfc4ac2eed",
   "metadata": {},
   "outputs": [
    {
     "data": {
      "image/png": "[encoded data removed]",
      "text/latex": [
       "$\\displaystyle \\frac{L_{1} L_{2} L_{3} \\left(R1a R1b R2b + R1a R1b R3a + R1a R1b R3b + R1a R2a R2b + R1a R2a R3a + R1a R2a R3b + R1a R2b R3a + R1a R2b R3b + R1b R2a R2b + R1b R2a R3a + R1b R2a R3b + R1b R2b R3a + R1b R2b R3b\\right)}{R1a R1b R2a R2b R3a R3b}$"
      ],
      "text/plain": [
       "L₁⋅L₂⋅L₃⋅(R1a⋅R1b⋅R2b + R1a⋅R1b⋅R3a + R1a⋅R1b⋅R3b + R1a⋅R2a⋅R2b + R1a⋅R2a⋅R3a \n",
       "──────────────────────────────────────────────────────────────────────────────\n",
       "                                                                              \n",
       "\n",
       "+ R1a⋅R2a⋅R3b + R1a⋅R2b⋅R3a + R1a⋅R2b⋅R3b + R1b⋅R2a⋅R2b + R1b⋅R2a⋅R3a + R1b⋅R2\n",
       "──────────────────────────────────────────────────────────────────────────────\n",
       "     R1a⋅R1b⋅R2a⋅R2b⋅R3a⋅R3b                                                  \n",
       "\n",
       "a⋅R3b + R1b⋅R2b⋅R3a + R1b⋅R2b⋅R3b)\n",
       "──────────────────────────────────\n",
       "                                  "
      ]
     },
     "execution_count": 168,
     "metadata": {},
     "output_type": "execute_result"
    }
   ],
   "source": [
    "(a3/a0).collect(L1*L2*L3)"
   ]
  },
  {
   "cell_type": "code",
   "execution_count": 169,
   "id": "04696d08-dd0d-44b1-91e5-8b0f833cba18",
   "metadata": {},
   "outputs": [
    {
     "data": {
      "image/png": "[encoded data removed]",
      "text/latex": [
       "$\\displaystyle \\frac{R1a R1b R2b + R1a R1b R3a + R1a R1b R3b + R1a R2a R2b + R1a R2a R3a + R1a R2a R3b + R1a R2b R3a + R1a R2b R3b + R1b R2a R2b + R1b R2a R3a + R1b R2a R3b + R1b R2b R3a + R1b R2b R3b}{R1a R1b R2a R2b R3a R3b}$"
      ],
      "text/plain": [
       "R1a⋅R1b⋅R2b + R1a⋅R1b⋅R3a + R1a⋅R1b⋅R3b + R1a⋅R2a⋅R2b + R1a⋅R2a⋅R3a + R1a⋅R2a⋅\n",
       "──────────────────────────────────────────────────────────────────────────────\n",
       "                                                                              \n",
       "\n",
       "R3b + R1a⋅R2b⋅R3a + R1a⋅R2b⋅R3b + R1b⋅R2a⋅R2b + R1b⋅R2a⋅R3a + R1b⋅R2a⋅R3b + R1\n",
       "──────────────────────────────────────────────────────────────────────────────\n",
       "R1a⋅R1b⋅R2a⋅R2b⋅R3a⋅R3b                                                       \n",
       "\n",
       "b⋅R2b⋅R3a + R1b⋅R2b⋅R3b\n",
       "───────────────────────\n",
       "                       "
      ]
     },
     "execution_count": 169,
     "metadata": {},
     "output_type": "execute_result"
    }
   ],
   "source": [
    "(a3/a0).collect(L1*L2*L3)/(L1*L2*L3)"
   ]
  },
  {
   "cell_type": "code",
   "execution_count": 170,
   "id": "4ebf71c5-236e-4e49-a319-f8997e4bddd0",
   "metadata": {},
   "outputs": [
    {
     "data": {
      "image/png": "[encoded data removed]",
      "text/latex": [
       "$\\displaystyle \\frac{1}{R2a R3a R3b} + \\frac{1}{R2a R2b R3b} + \\frac{1}{R2a R2b R3a} + \\frac{1}{R1b R3a R3b} + \\frac{1}{R1b R2b R3b} + \\frac{1}{R1b R2b R3a} + \\frac{1}{R1b R2a R3b} + \\frac{1}{R1b R2a R3a} + \\frac{1}{R1a R3a R3b} + \\frac{1}{R1a R2b R3b} + \\frac{1}{R1a R2b R3a} + \\frac{1}{R1a R2a R3b} + \\frac{1}{R1a R2a R3a}$"
      ],
      "text/plain": [
       "     1             1             1             1             1             1  \n",
       "─────────── + ─────────── + ─────────── + ─────────── + ─────────── + ────────\n",
       "R2a⋅R3a⋅R3b   R2a⋅R2b⋅R3b   R2a⋅R2b⋅R3a   R1b⋅R3a⋅R3b   R1b⋅R2b⋅R3b   R1b⋅R2b⋅\n",
       "\n",
       "           1             1             1             1             1          \n",
       "─── + ─────────── + ─────────── + ─────────── + ─────────── + ─────────── + ──\n",
       "R3a   R1b⋅R2a⋅R3b   R1b⋅R2a⋅R3a   R1a⋅R3a⋅R3b   R1a⋅R2b⋅R3b   R1a⋅R2b⋅R3a   R1\n",
       "\n",
       "   1             1     \n",
       "───────── + ───────────\n",
       "a⋅R2a⋅R3b   R1a⋅R2a⋅R3a"
      ]
     },
     "execution_count": 170,
     "metadata": {},
     "output_type": "execute_result"
    }
   ],
   "source": [
    "((a3/a0).collect(L1*L2*L3)/(L1*L2*L3)).expand()"
   ]
  },
  {
   "cell_type": "markdown",
   "id": "f11f1daf-e849-49c1-8ca7-262aa84c0317",
   "metadata": {},
   "source": [
    "Take the inverse of the collection"
   ]
  },
  {
   "cell_type": "code",
   "execution_count": 171,
   "id": "02d8767d-4694-4b8d-827a-91a956dc6ae1",
   "metadata": {},
   "outputs": [
    {
     "data": {
      "image/png": "[encoded data removed]",
      "text/latex": [
       "$\\displaystyle \\frac{R1a R1b R2a R2b R3a R3b}{R1a R1b R2b + R1a R1b R3a + R1a R1b R3b + R1a R2a R2b + R1a R2a R3a + R1a R2a R3b + R1a R2b R3a + R1a R2b R3b + R1b R2a R2b + R1b R2a R3a + R1b R2a R3b + R1b R2b R3a + R1b R2b R3b}$"
      ],
      "text/plain": [
       "                                                                              \n",
       "──────────────────────────────────────────────────────────────────────────────\n",
       "R1a⋅R1b⋅R2b + R1a⋅R1b⋅R3a + R1a⋅R1b⋅R3b + R1a⋅R2a⋅R2b + R1a⋅R2a⋅R3a + R1a⋅R2a⋅\n",
       "\n",
       "R1a⋅R1b⋅R2a⋅R2b⋅R3a⋅R3b                                                       \n",
       "──────────────────────────────────────────────────────────────────────────────\n",
       "R3b + R1a⋅R2b⋅R3a + R1a⋅R2b⋅R3b + R1b⋅R2a⋅R2b + R1b⋅R2a⋅R3a + R1b⋅R2a⋅R3b + R1\n",
       "\n",
       "                       \n",
       "───────────────────────\n",
       "b⋅R2b⋅R3a + R1b⋅R2b⋅R3b"
      ]
     },
     "execution_count": 171,
     "metadata": {},
     "output_type": "execute_result"
    }
   ],
   "source": [
    "1/((a3/a0).collect(L1*L2*L3)/(L1*L2*L3))"
   ]
  },
  {
   "cell_type": "code",
   "execution_count": 172,
   "id": "f21d7aa4-cbe8-4d5d-b714-ffabbb803564",
   "metadata": {},
   "outputs": [
    {
     "data": {
      "image/png": "[encoded data removed]",
      "text/latex": [
       "$\\displaystyle \\frac{R1a R1b R2a R2b R3a R3b}{R1a R1b R2b + R1a R1b R3a + R1a R1b R3b + R1a R2a R2b + R1a R2a R3a + R1a R2a R3b + R1a R2b R3a + R1a R2b R3b + R1b R2a R2b + R1b R2a R3a + R1b R2a R3b + R1b R2b R3a + R1b R2b R3b}$"
      ],
      "text/plain": [
       "                                                                              \n",
       "──────────────────────────────────────────────────────────────────────────────\n",
       "R1a⋅R1b⋅R2b + R1a⋅R1b⋅R3a + R1a⋅R1b⋅R3b + R1a⋅R2a⋅R2b + R1a⋅R2a⋅R3a + R1a⋅R2a⋅\n",
       "\n",
       "R1a⋅R1b⋅R2a⋅R2b⋅R3a⋅R3b                                                       \n",
       "──────────────────────────────────────────────────────────────────────────────\n",
       "R3b + R1a⋅R2b⋅R3a + R1a⋅R2b⋅R3b + R1b⋅R2a⋅R2b + R1b⋅R2a⋅R3a + R1b⋅R2a⋅R3b + R1\n",
       "\n",
       "                       \n",
       "───────────────────────\n",
       "b⋅R2b⋅R3a + R1b⋅R2b⋅R3b"
      ]
     },
     "execution_count": 172,
     "metadata": {},
     "output_type": "execute_result"
    }
   ],
   "source": [
    "(1/((a3/a0).collect(L1*L2*L3)/(L1*L2*L3))).cancel()"
   ]
  },
  {
   "cell_type": "code",
   "execution_count": null,
   "id": "164543af-41e2-4177-be80-74a170b9f45e",
   "metadata": {},
   "outputs": [],
   "source": []
  },
  {
   "cell_type": "code",
   "execution_count": null,
   "id": "ec7dc0ab-be02-4413-b4b2-197e5dbffce2",
   "metadata": {},
   "outputs": [],
   "source": []
  },
  {
   "cell_type": "code",
   "execution_count": null,
   "id": "8d055641-ca99-424f-b9e8-0f4d39dd18cd",
   "metadata": {},
   "outputs": [],
   "source": []
  },
  {
   "cell_type": "markdown",
   "id": "f48a6dff-ce26-4bdd-bc65-eeb22295585b",
   "metadata": {},
   "source": [
    "Looking at the $s^3$ term, equation 34\n",
    "\n",
    "$R_{d1} = R_{1a} || R_{1b} || R_{2b} || R_{3b}$\n",
    "\n",
    "$R_{d2}^{(1)} = R_{2a} || (R_{1a} || R_{1b}) + (R_{2b} || R_{3b}))$\n",
    "\n",
    "$R_{d3}^{(1.2)}=R_{3a} || ( (R_{1a} || R_{1b} + R_{2a}) || R_{2b} + R_{3b} )$"
   ]
  },
  {
   "cell_type": "code",
   "execution_count": 173,
   "id": "173ab904-f7a3-40ba-be67-89797147dec3",
   "metadata": {},
   "outputs": [
    {
     "data": {
      "image/png": "[encoded data removed]",
      "text/latex": [
       "$\\displaystyle \\frac{R1a R1b R2b R3b}{R1a R1b R2b + R3b \\left(R1a R1b + R2b \\left(R1a + R1b\\right)\\right)}$"
      ],
      "text/plain": [
       "               R1a⋅R1b⋅R2b⋅R3b               \n",
       "─────────────────────────────────────────────\n",
       "R1a⋅R1b⋅R2b + R3b⋅(R1a⋅R1b + R2b⋅(R1a + R1b))"
      ]
     },
     "execution_count": 173,
     "metadata": {},
     "output_type": "execute_result"
    }
   ],
   "source": [
    "Rd1 = parallel_comb(parallel_comb(parallel_comb(R1a,R1b),R2b),R3b)\n",
    "Rd1"
   ]
  },
  {
   "cell_type": "code",
   "execution_count": 174,
   "id": "bc589584-7e9c-4433-bcb1-df8b9d2979f6",
   "metadata": {},
   "outputs": [
    {
     "data": {
      "image/png": "[encoded data removed]",
      "text/latex": [
       "$\\displaystyle \\frac{R2a \\left(R1a R1b R2b + R1a R1b R3b + R1a R2b R3b + R1b R2b R3b\\right)}{R1a R1b R2b + R1a R1b R3b + R1a R2b R3b + R1b R2b R3b + R2a \\left(R1a + R1b\\right) \\left(R2b + R3b\\right)}$"
      ],
      "text/plain": [
       "            R2a⋅(R1a⋅R1b⋅R2b + R1a⋅R1b⋅R3b + R1a⋅R2b⋅R3b + R1b⋅R2b⋅R3b)       \n",
       "──────────────────────────────────────────────────────────────────────────────\n",
       "R1a⋅R1b⋅R2b + R1a⋅R1b⋅R3b + R1a⋅R2b⋅R3b + R1b⋅R2b⋅R3b + R2a⋅(R1a + R1b)⋅(R2b +\n",
       "\n",
       "     \n",
       "─────\n",
       " R3b)"
      ]
     },
     "execution_count": 174,
     "metadata": {},
     "output_type": "execute_result"
    }
   ],
   "source": [
    "Rd2_1 = parallel_comb(R2a,(\n",
    "parallel_comb(R1a,R1b) + \n",
    "parallel_comb(R2b,R3b) \n",
    ").factor())\n",
    "Rd2_1"
   ]
  },
  {
   "cell_type": "code",
   "execution_count": 175,
   "id": "62bf8591-60b6-4e32-852c-07085ae4ab17",
   "metadata": {},
   "outputs": [
    {
     "data": {
      "image/png": "[encoded data removed]",
      "text/latex": [
       "$\\displaystyle \\frac{R3a \\left(R1a R1b R2b + R1a R1b R3b + R1a R2a R2b + R1a R2a R3b + R1a R2b R3b + R1b R2a R2b + R1b R2a R3b + R1b R2b R3b\\right)}{R1a R1b R2b + R1a R1b R3b + R1a R2a R2b + R1a R2a R3b + R1a R2b R3b + R1b R2a R2b + R1b R2a R3b + R1b R2b R3b + R3a \\left(R1a R1b + R1a R2a + R1a R2b + R1b R2a + R1b R2b\\right)}$"
      ],
      "text/plain": [
       "                         R3a⋅(R1a⋅R1b⋅R2b + R1a⋅R1b⋅R3b + R1a⋅R2a⋅R2b + R1a⋅R2\n",
       "──────────────────────────────────────────────────────────────────────────────\n",
       "R1a⋅R1b⋅R2b + R1a⋅R1b⋅R3b + R1a⋅R2a⋅R2b + R1a⋅R2a⋅R3b + R1a⋅R2b⋅R3b + R1b⋅R2a⋅\n",
       "\n",
       "a⋅R3b + R1a⋅R2b⋅R3b + R1b⋅R2a⋅R2b + R1b⋅R2a⋅R3b + R1b⋅R2b⋅R3b)                \n",
       "──────────────────────────────────────────────────────────────────────────────\n",
       "R2b + R1b⋅R2a⋅R3b + R1b⋅R2b⋅R3b + R3a⋅(R1a⋅R1b + R1a⋅R2a + R1a⋅R2b + R1b⋅R2a +\n",
       "\n",
       "         \n",
       "─────────\n",
       " R1b⋅R2b)"
      ]
     },
     "execution_count": 175,
     "metadata": {},
     "output_type": "execute_result"
    }
   ],
   "source": [
    "Rd3_12 = parallel_comb(R3a,\n",
    "   (parallel_comb(\n",
    "       (parallel_comb(R1a,R1b)+R2a)\n",
    "    ,R2b)\n",
    "    +R3b).factor()\n",
    ")\n",
    "Rd3_12"
   ]
  },
  {
   "cell_type": "code",
   "execution_count": 176,
   "id": "c74b6cde-c3d5-4529-9af6-6c93c34e56f1",
   "metadata": {},
   "outputs": [
    {
     "data": {
      "image/png": "[encoded data removed]",
      "text/latex": [
       "$\\displaystyle \\frac{R1a R1b R2a R2b R3a R3b \\left(R1a R1b R2b + R1a R1b R3b + R1a R2b R3b + R1b R2b R3b\\right) \\left(R1a R1b R2b + R1a R1b R3b + R1a R2a R2b + R1a R2a R3b + R1a R2b R3b + R1b R2a R2b + R1b R2a R3b + R1b R2b R3b\\right)}{\\left(R1a R1b R2b + R3b \\left(R1a R1b + R2b \\left(R1a + R1b\\right)\\right)\\right) \\left(R1a R1b R2b + R1a R1b R3b + R1a R2b R3b + R1b R2b R3b + R2a \\left(R1a + R1b\\right) \\left(R2b + R3b\\right)\\right) \\left(R1a R1b R2b + R1a R1b R3b + R1a R2a R2b + R1a R2a R3b + R1a R2b R3b + R1b R2a R2b + R1b R2a R3b + R1b R2b R3b + R3a \\left(R1a R1b + R1a R2a + R1a R2b + R1b R2a + R1b R2b\\right)\\right)}$"
      ],
      "text/plain": [
       "                                                       R1a⋅R1b⋅R2a⋅R2b⋅R3a⋅R3b\n",
       "──────────────────────────────────────────────────────────────────────────────\n",
       "(R1a⋅R1b⋅R2b + R3b⋅(R1a⋅R1b + R2b⋅(R1a + R1b)))⋅(R1a⋅R1b⋅R2b + R1a⋅R1b⋅R3b + R\n",
       "\n",
       "⋅(R1a⋅R1b⋅R2b + R1a⋅R1b⋅R3b + R1a⋅R2b⋅R3b + R1b⋅R2b⋅R3b)⋅(R1a⋅R1b⋅R2b + R1a⋅R1\n",
       "──────────────────────────────────────────────────────────────────────────────\n",
       "1a⋅R2b⋅R3b + R1b⋅R2b⋅R3b + R2a⋅(R1a + R1b)⋅(R2b + R3b))⋅(R1a⋅R1b⋅R2b + R1a⋅R1b\n",
       "\n",
       "b⋅R3b + R1a⋅R2a⋅R2b + R1a⋅R2a⋅R3b + R1a⋅R2b⋅R3b + R1b⋅R2a⋅R2b + R1b⋅R2a⋅R3b + \n",
       "──────────────────────────────────────────────────────────────────────────────\n",
       "⋅R3b + R1a⋅R2a⋅R2b + R1a⋅R2a⋅R3b + R1a⋅R2b⋅R3b + R1b⋅R2a⋅R2b + R1b⋅R2a⋅R3b + R\n",
       "\n",
       "R1b⋅R2b⋅R3b)                                                       \n",
       "───────────────────────────────────────────────────────────────────\n",
       "1b⋅R2b⋅R3b + R3a⋅(R1a⋅R1b + R1a⋅R2a + R1a⋅R2b + R1b⋅R2a + R1b⋅R2b))"
      ]
     },
     "execution_count": 176,
     "metadata": {},
     "output_type": "execute_result"
    }
   ],
   "source": [
    "Rd1*Rd2_1*Rd3_12"
   ]
  },
  {
   "cell_type": "code",
   "execution_count": 177,
   "id": "f01a2805-b890-4e12-b4b6-bc3434799486",
   "metadata": {},
   "outputs": [
    {
     "data": {
      "image/png": "[encoded data removed]",
      "text/latex": [
       "$\\displaystyle \\frac{1}{R2a R3a R3b} + \\frac{1}{R2a R2b R3b} + \\frac{1}{R2a R2b R3a} + \\frac{1}{R1b R3a R3b} + \\frac{1}{R1b R2b R3b} + \\frac{1}{R1b R2b R3a} + \\frac{1}{R1b R2a R3b} + \\frac{1}{R1b R2a R3a} + \\frac{1}{R1a R3a R3b} + \\frac{1}{R1a R2b R3b} + \\frac{1}{R1a R2b R3a} + \\frac{1}{R1a R2a R3b} + \\frac{1}{R1a R2a R3a}$"
      ],
      "text/plain": [
       "     1             1             1             1             1             1  \n",
       "─────────── + ─────────── + ─────────── + ─────────── + ─────────── + ────────\n",
       "R2a⋅R3a⋅R3b   R2a⋅R2b⋅R3b   R2a⋅R2b⋅R3a   R1b⋅R3a⋅R3b   R1b⋅R2b⋅R3b   R1b⋅R2b⋅\n",
       "\n",
       "           1             1             1             1             1          \n",
       "─── + ─────────── + ─────────── + ─────────── + ─────────── + ─────────── + ──\n",
       "R3a   R1b⋅R2a⋅R3b   R1b⋅R2a⋅R3a   R1a⋅R3a⋅R3b   R1a⋅R2b⋅R3b   R1a⋅R2b⋅R3a   R1\n",
       "\n",
       "   1             1     \n",
       "───────── + ───────────\n",
       "a⋅R2a⋅R3b   R1a⋅R2a⋅R3a"
      ]
     },
     "execution_count": 177,
     "metadata": {},
     "output_type": "execute_result"
    }
   ],
   "source": [
    "(1/(Rd1*Rd2_1*Rd3_12)).expand()"
   ]
  },
  {
   "cell_type": "markdown",
   "id": "8d2f6e11-cbe1-4613-9ab5-75fd158be5f0",
   "metadata": {},
   "source": [
    "$s^3$ coefficient of Equation 30 seems to agree.\n",
    "\n",
    "The trade off seems to be, is that EET avoids matrix inversion, but involves learning a new procedure."
   ]
  },
  {
   "cell_type": "code",
   "execution_count": null,
   "id": "4fd27e71-9ddf-40ff-8333-07c2a875ce0e",
   "metadata": {},
   "outputs": [],
   "source": []
  },
  {
   "cell_type": "markdown",
   "id": "45fd96c1-e50a-4c88-87c3-8ae71de00561",
   "metadata": {},
   "source": [
    "## Example 2: BJT common-emitter amplifier stage, pdf page 17 of paper\n",
    "\n",
    "```\n",
    "* Example 2 BJT common-emitter amplifier.asc\n",
    "V1 1 0 1\n",
    "Rg 4 1 1\n",
    "Rz 3 2 1\n",
    "Re 0 5 1\n",
    "RL 0 2 1\n",
    "C1 4 0 1\n",
    "C2 3 4 1\n",
    "C3 2 0 1\n",
    "F1 2 5 V2 Beta\n",
    "V2 4 5 0\n",
    ".backanno\n",
    ".end\n",
    "````\n",
    "\n",
    "The current-controlled dependent sources are defined by statements of the form\n",
    "F/HXX nout+ nout- Vcontrol gain\n",
    "where F is a current-controlled current source, H is a current-controlled voltage source, and the output current source is connected between nodes nout+ and nout-, with positive current flowing through the source from node nout+ to nout-. The control current flows from the positive node of the source Vcontrol through the source and out the negative node.\n",
    "Examples:\n",
    "Fds 11 9 Vsens 1.25 defines a current source connected from node 11 to node 9 that generates a current 1.25 times the current flowing through the source Vsens.\n",
    "H1 30 20 V5 100 defines a voltage source connected from node 30 to node 20 and supplying a voltage 100 times the current through the source V5. It is frequently necessary to add a voltage source with value 0 V to the circuit to sense the control current for these sources.\n",
    "\n",
    "The direction of positive controlling current flow is from the positive node, through the source, to the negative node of VNAM. VALUE is the current gain."
   ]
  },
  {
   "cell_type": "code",
   "execution_count": 178,
   "id": "2da8f1a5-9e7f-4d34-90b2-bc4a4206747c",
   "metadata": {},
   "outputs": [],
   "source": [
    "example_net_list = '''\n",
    "* Example 2 BJT common-emitter amplifier.asc\n",
    "V1 1 0 1\n",
    "Rg 4 1 1\n",
    "Rz 3 2 1\n",
    "Re 0 5 1\n",
    "RL 0 2 1\n",
    "C1 4 0 1\n",
    "C2 3 4 1\n",
    "C3 2 0 1\n",
    "F1 2 5 V2 99\n",
    "V2 4 5 0\n",
    "'''"
   ]
  },
  {
   "cell_type": "markdown",
   "id": "aff99e1f-43eb-4fd6-b3e6-09a861a5665d",
   "metadata": {},
   "source": [
    "## Generate Network Equations \n",
    "\n",
    "\n"
   ]
  },
  {
   "cell_type": "code",
   "execution_count": 179,
   "id": "392bf395-8e10-4b6c-afcc-9e6cfe8124d4",
   "metadata": {},
   "outputs": [
    {
     "data": {
      "text/markdown": [
       "<p>$I_{V1} + \\frac{v_{1}}{Rg} - \\frac{v_{4}}{Rg} = 0$</p><p>$I_{F1} + v_{2} \\left(C_{3} s + \\frac{1}{Rz} + \\frac{1}{Rl}\\right) - \\frac{v_{3}}{Rz} = 0$</p><p>$- C_{2} s v_{4} + v_{3} \\left(C_{2} s + \\frac{1}{Rz}\\right) - \\frac{v_{2}}{Rz} = 0$</p><p>$- C_{2} s v_{3} + I_{V2} + v_{4} \\left(C_{1} s + C_{2} s + \\frac{1}{Rg}\\right) - \\frac{v_{1}}{Rg} = 0$</p><p>$- I_{F1} - I_{V2} + \\frac{v_{5}}{Re} = 0$</p><p>$v_{1} = V_{1}$</p><p>$v_{4} - v_{5} = V_{2}$</p><p>$I_{F1} - I_{V2} f_{1} = 0$</p>"
      ],
      "text/plain": [
       "<IPython.core.display.Markdown object>"
      ]
     },
     "execution_count": 179,
     "metadata": {},
     "output_type": "execute_result"
    }
   ],
   "source": [
    "report, network_df, df2, A, X, Z = SymMNA.smna(example_net_list)\n",
    "\n",
    "# Put matrices into SymPy \n",
    "X = Matrix(X)\n",
    "Z = Matrix(Z)\n",
    "\n",
    "NE_sym = Eq(A*X,Z)\n",
    "\n",
    "# display the equations\n",
    "temp = ''\n",
    "for i in range(shape(NE_sym.lhs)[0]):\n",
    "    temp += '<p>${:s} = {:s}$</p>'.format(latex(NE_sym.lhs[i]),\n",
    "        latex(NE_sym.rhs[i]))\n",
    "\n",
    "Markdown(temp)"
   ]
  },
  {
   "cell_type": "code",
   "execution_count": 180,
   "id": "eb70fdf6-73fd-4dba-9000-d0c4679a3832",
   "metadata": {},
   "outputs": [
    {
     "data": {
      "text/markdown": [
       "<p>$v_{1} = V_{1}$</p><p>$v_{2} = \\frac{C_{1} C_{2} Rg Rl Rz V_{2} f_{1} s^{2} + C_{1} Rg Rl V_{2} f_{1} s + C_{2} Re Rl V_{1} f_{1} s + C_{2} Re Rl V_{1} s + C_{2} Rg Rl V_{2} f_{1} s + C_{2} Rg Rl V_{2} s - C_{2} Rl Rz V_{1} f_{1} s + C_{2} Rl Rz V_{2} f_{1} s - Rl V_{1} f_{1} + Rl V_{2} f_{1}}{C_{1} C_{2} C_{3} Re Rg Rl Rz f_{1} s^{3} + C_{1} C_{2} C_{3} Re Rg Rl Rz s^{3} + C_{1} C_{2} Re Rg Rl f_{1} s^{2} + C_{1} C_{2} Re Rg Rl s^{2} + C_{1} C_{2} Re Rg Rz f_{1} s^{2} + C_{1} C_{2} Re Rg Rz s^{2} + C_{1} C_{3} Re Rg Rl f_{1} s^{2} + C_{1} C_{3} Re Rg Rl s^{2} + C_{1} Re Rg f_{1} s + C_{1} Re Rg s + C_{2} C_{3} Re Rg Rl f_{1} s^{2} + C_{2} C_{3} Re Rg Rl s^{2} + C_{2} C_{3} Re Rl Rz f_{1} s^{2} + C_{2} C_{3} Re Rl Rz s^{2} + C_{2} C_{3} Rg Rl Rz s^{2} + C_{2} Re Rg f_{1} s + C_{2} Re Rg s + C_{2} Re Rl f_{1} s + C_{2} Re Rl s + C_{2} Re Rz f_{1} s + C_{2} Re Rz s + C_{2} Rg Rl f_{1} s + C_{2} Rg Rl s + C_{2} Rg Rz s + C_{3} Re Rl f_{1} s + C_{3} Re Rl s + C_{3} Rg Rl s + Re f_{1} + Re + Rg}$</p><p>$v_{3} = \\frac{C_{1} Rg Rl V_{2} f_{1} s + C_{2} C_{3} Re Rl Rz V_{1} f_{1} s^{2} + C_{2} C_{3} Re Rl Rz V_{1} s^{2} + C_{2} C_{3} Rg Rl Rz V_{2} s^{2} + C_{2} Re Rl V_{1} f_{1} s + C_{2} Re Rl V_{1} s + C_{2} Re Rz V_{1} f_{1} s + C_{2} Re Rz V_{1} s + C_{2} Rg Rl V_{2} f_{1} s + C_{2} Rg Rl V_{2} s + C_{2} Rg Rz V_{2} s - Rl V_{1} f_{1} + Rl V_{2} f_{1}}{C_{1} C_{2} C_{3} Re Rg Rl Rz f_{1} s^{3} + C_{1} C_{2} C_{3} Re Rg Rl Rz s^{3} + C_{1} C_{2} Re Rg Rl f_{1} s^{2} + C_{1} C_{2} Re Rg Rl s^{2} + C_{1} C_{2} Re Rg Rz f_{1} s^{2} + C_{1} C_{2} Re Rg Rz s^{2} + C_{1} C_{3} Re Rg Rl f_{1} s^{2} + C_{1} C_{3} Re Rg Rl s^{2} + C_{1} Re Rg f_{1} s + C_{1} Re Rg s + C_{2} C_{3} Re Rg Rl f_{1} s^{2} + C_{2} C_{3} Re Rg Rl s^{2} + C_{2} C_{3} Re Rl Rz f_{1} s^{2} + C_{2} C_{3} Re Rl Rz s^{2} + C_{2} C_{3} Rg Rl Rz s^{2} + C_{2} Re Rg f_{1} s + C_{2} Re Rg s + C_{2} Re Rl f_{1} s + C_{2} Re Rl s + C_{2} Re Rz f_{1} s + C_{2} Re Rz s + C_{2} Rg Rl f_{1} s + C_{2} Rg Rl s + C_{2} Rg Rz s + C_{3} Re Rl f_{1} s + C_{3} Re Rl s + C_{3} Rg Rl s + Re f_{1} + Re + Rg}$</p><p>$v_{4} = \\frac{C_{2} C_{3} Re Rl Rz V_{1} f_{1} s^{2} + C_{2} C_{3} Re Rl Rz V_{1} s^{2} + C_{2} C_{3} Rg Rl Rz V_{2} s^{2} + C_{2} Re Rl V_{1} f_{1} s + C_{2} Re Rl V_{1} s + C_{2} Re Rz V_{1} f_{1} s + C_{2} Re Rz V_{1} s + C_{2} Rg Rl V_{2} f_{1} s + C_{2} Rg Rl V_{2} s + C_{2} Rg Rz V_{2} s + C_{3} Re Rl V_{1} f_{1} s + C_{3} Re Rl V_{1} s + C_{3} Rg Rl V_{2} s + Re V_{1} f_{1} + Re V_{1} + Rg V_{2}}{C_{1} C_{2} C_{3} Re Rg Rl Rz f_{1} s^{3} + C_{1} C_{2} C_{3} Re Rg Rl Rz s^{3} + C_{1} C_{2} Re Rg Rl f_{1} s^{2} + C_{1} C_{2} Re Rg Rl s^{2} + C_{1} C_{2} Re Rg Rz f_{1} s^{2} + C_{1} C_{2} Re Rg Rz s^{2} + C_{1} C_{3} Re Rg Rl f_{1} s^{2} + C_{1} C_{3} Re Rg Rl s^{2} + C_{1} Re Rg f_{1} s + C_{1} Re Rg s + C_{2} C_{3} Re Rg Rl f_{1} s^{2} + C_{2} C_{3} Re Rg Rl s^{2} + C_{2} C_{3} Re Rl Rz f_{1} s^{2} + C_{2} C_{3} Re Rl Rz s^{2} + C_{2} C_{3} Rg Rl Rz s^{2} + C_{2} Re Rg f_{1} s + C_{2} Re Rg s + C_{2} Re Rl f_{1} s + C_{2} Re Rl s + C_{2} Re Rz f_{1} s + C_{2} Re Rz s + C_{2} Rg Rl f_{1} s + C_{2} Rg Rl s + C_{2} Rg Rz s + C_{3} Re Rl f_{1} s + C_{3} Re Rl s + C_{3} Rg Rl s + Re f_{1} + Re + Rg}$</p><p>$v_{5} = \\frac{- C_{1} C_{2} C_{3} Re Rg Rl Rz V_{2} f_{1} s^{3} - C_{1} C_{2} C_{3} Re Rg Rl Rz V_{2} s^{3} - C_{1} C_{2} Re Rg Rl V_{2} f_{1} s^{2} - C_{1} C_{2} Re Rg Rl V_{2} s^{2} - C_{1} C_{2} Re Rg Rz V_{2} f_{1} s^{2} - C_{1} C_{2} Re Rg Rz V_{2} s^{2} - C_{1} C_{3} Re Rg Rl V_{2} f_{1} s^{2} - C_{1} C_{3} Re Rg Rl V_{2} s^{2} - C_{1} Re Rg V_{2} f_{1} s - C_{1} Re Rg V_{2} s - C_{2} C_{3} Re Rg Rl V_{2} f_{1} s^{2} - C_{2} C_{3} Re Rg Rl V_{2} s^{2} + C_{2} C_{3} Re Rl Rz V_{1} f_{1} s^{2} + C_{2} C_{3} Re Rl Rz V_{1} s^{2} - C_{2} C_{3} Re Rl Rz V_{2} f_{1} s^{2} - C_{2} C_{3} Re Rl Rz V_{2} s^{2} - C_{2} Re Rg V_{2} f_{1} s - C_{2} Re Rg V_{2} s + C_{2} Re Rl V_{1} f_{1} s + C_{2} Re Rl V_{1} s - C_{2} Re Rl V_{2} f_{1} s - C_{2} Re Rl V_{2} s + C_{2} Re Rz V_{1} f_{1} s + C_{2} Re Rz V_{1} s - C_{2} Re Rz V_{2} f_{1} s - C_{2} Re Rz V_{2} s + C_{3} Re Rl V_{1} f_{1} s + C_{3} Re Rl V_{1} s - C_{3} Re Rl V_{2} f_{1} s - C_{3} Re Rl V_{2} s + Re V_{1} f_{1} + Re V_{1} - Re V_{2} f_{1} - Re V_{2}}{C_{1} C_{2} C_{3} Re Rg Rl Rz f_{1} s^{3} + C_{1} C_{2} C_{3} Re Rg Rl Rz s^{3} + C_{1} C_{2} Re Rg Rl f_{1} s^{2} + C_{1} C_{2} Re Rg Rl s^{2} + C_{1} C_{2} Re Rg Rz f_{1} s^{2} + C_{1} C_{2} Re Rg Rz s^{2} + C_{1} C_{3} Re Rg Rl f_{1} s^{2} + C_{1} C_{3} Re Rg Rl s^{2} + C_{1} Re Rg f_{1} s + C_{1} Re Rg s + C_{2} C_{3} Re Rg Rl f_{1} s^{2} + C_{2} C_{3} Re Rg Rl s^{2} + C_{2} C_{3} Re Rl Rz f_{1} s^{2} + C_{2} C_{3} Re Rl Rz s^{2} + C_{2} C_{3} Rg Rl Rz s^{2} + C_{2} Re Rg f_{1} s + C_{2} Re Rg s + C_{2} Re Rl f_{1} s + C_{2} Re Rl s + C_{2} Re Rz f_{1} s + C_{2} Re Rz s + C_{2} Rg Rl f_{1} s + C_{2} Rg Rl s + C_{2} Rg Rz s + C_{3} Re Rl f_{1} s + C_{3} Re Rl s + C_{3} Rg Rl s + Re f_{1} + Re + Rg}$</p><p>$I_{V1} = \\frac{- C_{1} C_{2} C_{3} Re Rl Rz V_{1} f_{1} s^{3} - C_{1} C_{2} C_{3} Re Rl Rz V_{1} s^{3} - C_{1} C_{2} Re Rl V_{1} f_{1} s^{2} - C_{1} C_{2} Re Rl V_{1} s^{2} - C_{1} C_{2} Re Rz V_{1} f_{1} s^{2} - C_{1} C_{2} Re Rz V_{1} s^{2} - C_{1} C_{3} Re Rl V_{1} f_{1} s^{2} - C_{1} C_{3} Re Rl V_{1} s^{2} - C_{1} Re V_{1} f_{1} s - C_{1} Re V_{1} s - C_{2} C_{3} Re Rl V_{1} f_{1} s^{2} - C_{2} C_{3} Re Rl V_{1} s^{2} - C_{2} C_{3} Rl Rz V_{1} s^{2} + C_{2} C_{3} Rl Rz V_{2} s^{2} - C_{2} Re V_{1} f_{1} s - C_{2} Re V_{1} s - C_{2} Rl V_{1} f_{1} s - C_{2} Rl V_{1} s + C_{2} Rl V_{2} f_{1} s + C_{2} Rl V_{2} s - C_{2} Rz V_{1} s + C_{2} Rz V_{2} s - C_{3} Rl V_{1} s + C_{3} Rl V_{2} s - V_{1} + V_{2}}{C_{1} C_{2} C_{3} Re Rg Rl Rz f_{1} s^{3} + C_{1} C_{2} C_{3} Re Rg Rl Rz s^{3} + C_{1} C_{2} Re Rg Rl f_{1} s^{2} + C_{1} C_{2} Re Rg Rl s^{2} + C_{1} C_{2} Re Rg Rz f_{1} s^{2} + C_{1} C_{2} Re Rg Rz s^{2} + C_{1} C_{3} Re Rg Rl f_{1} s^{2} + C_{1} C_{3} Re Rg Rl s^{2} + C_{1} Re Rg f_{1} s + C_{1} Re Rg s + C_{2} C_{3} Re Rg Rl f_{1} s^{2} + C_{2} C_{3} Re Rg Rl s^{2} + C_{2} C_{3} Re Rl Rz f_{1} s^{2} + C_{2} C_{3} Re Rl Rz s^{2} + C_{2} C_{3} Rg Rl Rz s^{2} + C_{2} Re Rg f_{1} s + C_{2} Re Rg s + C_{2} Re Rl f_{1} s + C_{2} Re Rl s + C_{2} Re Rz f_{1} s + C_{2} Re Rz s + C_{2} Rg Rl f_{1} s + C_{2} Rg Rl s + C_{2} Rg Rz s + C_{3} Re Rl f_{1} s + C_{3} Re Rl s + C_{3} Rg Rl s + Re f_{1} + Re + Rg}$</p><p>$I_{V2} = \\frac{- C_{1} C_{2} C_{3} Rg Rl Rz V_{2} s^{3} - C_{1} C_{2} Rg Rl V_{2} s^{2} - C_{1} C_{2} Rg Rz V_{2} s^{2} - C_{1} C_{3} Rg Rl V_{2} s^{2} - C_{1} Rg V_{2} s - C_{2} C_{3} Rg Rl V_{2} s^{2} + C_{2} C_{3} Rl Rz V_{1} s^{2} - C_{2} C_{3} Rl Rz V_{2} s^{2} - C_{2} Rg V_{2} s + C_{2} Rl V_{1} s - C_{2} Rl V_{2} s + C_{2} Rz V_{1} s - C_{2} Rz V_{2} s + C_{3} Rl V_{1} s - C_{3} Rl V_{2} s + V_{1} - V_{2}}{C_{1} C_{2} C_{3} Re Rg Rl Rz f_{1} s^{3} + C_{1} C_{2} C_{3} Re Rg Rl Rz s^{3} + C_{1} C_{2} Re Rg Rl f_{1} s^{2} + C_{1} C_{2} Re Rg Rl s^{2} + C_{1} C_{2} Re Rg Rz f_{1} s^{2} + C_{1} C_{2} Re Rg Rz s^{2} + C_{1} C_{3} Re Rg Rl f_{1} s^{2} + C_{1} C_{3} Re Rg Rl s^{2} + C_{1} Re Rg f_{1} s + C_{1} Re Rg s + C_{2} C_{3} Re Rg Rl f_{1} s^{2} + C_{2} C_{3} Re Rg Rl s^{2} + C_{2} C_{3} Re Rl Rz f_{1} s^{2} + C_{2} C_{3} Re Rl Rz s^{2} + C_{2} C_{3} Rg Rl Rz s^{2} + C_{2} Re Rg f_{1} s + C_{2} Re Rg s + C_{2} Re Rl f_{1} s + C_{2} Re Rl s + C_{2} Re Rz f_{1} s + C_{2} Re Rz s + C_{2} Rg Rl f_{1} s + C_{2} Rg Rl s + C_{2} Rg Rz s + C_{3} Re Rl f_{1} s + C_{3} Re Rl s + C_{3} Rg Rl s + Re f_{1} + Re + Rg}$</p><p>$I_{F1} = \\frac{- C_{1} C_{2} C_{3} Rg Rl Rz V_{2} f_{1} s^{3} - C_{1} C_{2} Rg Rl V_{2} f_{1} s^{2} - C_{1} C_{2} Rg Rz V_{2} f_{1} s^{2} - C_{1} C_{3} Rg Rl V_{2} f_{1} s^{2} - C_{1} Rg V_{2} f_{1} s - C_{2} C_{3} Rg Rl V_{2} f_{1} s^{2} + C_{2} C_{3} Rl Rz V_{1} f_{1} s^{2} - C_{2} C_{3} Rl Rz V_{2} f_{1} s^{2} - C_{2} Rg V_{2} f_{1} s + C_{2} Rl V_{1} f_{1} s - C_{2} Rl V_{2} f_{1} s + C_{2} Rz V_{1} f_{1} s - C_{2} Rz V_{2} f_{1} s + C_{3} Rl V_{1} f_{1} s - C_{3} Rl V_{2} f_{1} s + V_{1} f_{1} - V_{2} f_{1}}{C_{1} C_{2} C_{3} Re Rg Rl Rz f_{1} s^{3} + C_{1} C_{2} C_{3} Re Rg Rl Rz s^{3} + C_{1} C_{2} Re Rg Rl f_{1} s^{2} + C_{1} C_{2} Re Rg Rl s^{2} + C_{1} C_{2} Re Rg Rz f_{1} s^{2} + C_{1} C_{2} Re Rg Rz s^{2} + C_{1} C_{3} Re Rg Rl f_{1} s^{2} + C_{1} C_{3} Re Rg Rl s^{2} + C_{1} Re Rg f_{1} s + C_{1} Re Rg s + C_{2} C_{3} Re Rg Rl f_{1} s^{2} + C_{2} C_{3} Re Rg Rl s^{2} + C_{2} C_{3} Re Rl Rz f_{1} s^{2} + C_{2} C_{3} Re Rl Rz s^{2} + C_{2} C_{3} Rg Rl Rz s^{2} + C_{2} Re Rg f_{1} s + C_{2} Re Rg s + C_{2} Re Rl f_{1} s + C_{2} Re Rl s + C_{2} Re Rz f_{1} s + C_{2} Re Rz s + C_{2} Rg Rl f_{1} s + C_{2} Rg Rl s + C_{2} Rg Rz s + C_{3} Re Rl f_{1} s + C_{3} Re Rl s + C_{3} Rg Rl s + Re f_{1} + Re + Rg}$</p>"
      ],
      "text/plain": [
       "<IPython.core.display.Markdown object>"
      ]
     },
     "execution_count": 180,
     "metadata": {},
     "output_type": "execute_result"
    }
   ],
   "source": [
    "var(str(NE_sym.free_symbols).replace('{','').replace('}',''))\n",
    "element_values = SymMNA.get_part_values(network_df)\n",
    "\n",
    "U_sym = solve(NE_sym,X)\n",
    "\n",
    "temp = ''\n",
    "for i in U_sym.keys():\n",
    "        temp += '<p>${:s} = {:s}$</p>'.format(latex(i),latex(U_sym[i]))\n",
    "\n",
    "Markdown(temp)"
   ]
  },
  {
   "cell_type": "markdown",
   "id": "5dfc18d7-a98c-4df1-befd-380627275a28",
   "metadata": {},
   "source": [
    "### Transfer function $H(s)=\\frac {v_2(s)}{v_1(s)}$"
   ]
  },
  {
   "cell_type": "code",
   "execution_count": 181,
   "id": "4ff1323a-834a-4305-9838-3e6abb8b0548",
   "metadata": {},
   "outputs": [],
   "source": [
    "B, alpha = symbols('B alhpa')"
   ]
  },
  {
   "cell_type": "code",
   "execution_count": 182,
   "id": "c2174f57-6826-43d0-b246-1c60ae9f5d9e",
   "metadata": {},
   "outputs": [
    {
     "data": {
      "text/markdown": [
       "$H(s)=\\frac{- Rl f_{1} + s \\left(C_{2} Re Rl f_{1} + C_{2} Re Rl - C_{2} Rl Rz f_{1}\\right)}{Re f_{1} + Re + Rg + s^{3} \\left(C_{1} C_{2} C_{3} Re Rg Rl Rz f_{1} + C_{1} C_{2} C_{3} Re Rg Rl Rz\\right) + s^{2} \\left(C_{1} C_{2} Re Rg Rl f_{1} + C_{1} C_{2} Re Rg Rl + C_{1} C_{2} Re Rg Rz f_{1} + C_{1} C_{2} Re Rg Rz + C_{1} C_{3} Re Rg Rl f_{1} + C_{1} C_{3} Re Rg Rl + C_{2} C_{3} Re Rg Rl f_{1} + C_{2} C_{3} Re Rg Rl + C_{2} C_{3} Re Rl Rz f_{1} + C_{2} C_{3} Re Rl Rz + C_{2} C_{3} Rg Rl Rz\\right) + s \\left(C_{1} Re Rg f_{1} + C_{1} Re Rg + C_{2} Re Rg f_{1} + C_{2} Re Rg + C_{2} Re Rl f_{1} + C_{2} Re Rl + C_{2} Re Rz f_{1} + C_{2} Re Rz + C_{2} Rg Rl f_{1} + C_{2} Rg Rl + C_{2} Rg Rz + C_{3} Re Rl f_{1} + C_{3} Re Rl + C_{3} Rg Rl\\right)}$"
      ],
      "text/plain": [
       "<IPython.core.display.Markdown object>"
      ]
     },
     "execution_count": 182,
     "metadata": {},
     "output_type": "execute_result"
    }
   ],
   "source": [
    "H_sym = (U_sym[v2]/U_sym[v1]).subs({V2:0}).cancel().collect(s)\n",
    "Markdown('$H(s)={:s}$'.format(latex(H_sym)))"
   ]
  },
  {
   "cell_type": "code",
   "execution_count": 183,
   "id": "1364f3ec-ea5f-491b-95fc-cd7ea7744a4e",
   "metadata": {
    "tags": []
   },
   "outputs": [],
   "source": [
    "H_sym_num, H_sym_denom = fraction(H_sym,s) #returns numerator and denominator"
   ]
  },
  {
   "cell_type": "markdown",
   "id": "7766cdb9-b3f2-4c3a-b3a5-5db520175b21",
   "metadata": {},
   "source": [
    "### Numerator Polynominal\n",
    "The numerator polynominal is:"
   ]
  },
  {
   "cell_type": "code",
   "execution_count": 184,
   "id": "5afa83a8-6210-4747-81d0-2ee9a8a03639",
   "metadata": {},
   "outputs": [
    {
     "data": {
      "image/png": "[encoded data removed]",
      "text/latex": [
       "$\\displaystyle C_{2} s \\left(Re + \\frac{Re}{f_{1}} - Rz\\right) - 1$"
      ],
      "text/plain": [
       "     ⎛     Re     ⎞    \n",
       "C₂⋅s⋅⎜Re + ── - Rz⎟ - 1\n",
       "     ⎝     f₁     ⎠    "
      ]
     },
     "execution_count": 184,
     "metadata": {},
     "output_type": "execute_result"
    }
   ],
   "source": [
    "H_sym_num = (H_sym_num.collect(s*f1*Rl)/(f1*Rl)).expand().collect(s*C2)\n",
    "H_sym_num"
   ]
  },
  {
   "cell_type": "code",
   "execution_count": 185,
   "id": "c316436e-5ada-4eed-9b30-7c9f0e389be1",
   "metadata": {},
   "outputs": [
    {
     "data": {
      "text/markdown": [
       "$N(s)=C_{2} s \\left(Re + \\frac{Re}{f_{1}} - Rz\\right) - 1$"
      ],
      "text/plain": [
       "<IPython.core.display.Markdown object>"
      ]
     },
     "execution_count": 185,
     "metadata": {},
     "output_type": "execute_result"
    }
   ],
   "source": [
    "Markdown('$N(s)={:s}$'.format(latex(H_sym_num)))"
   ]
  },
  {
   "cell_type": "markdown",
   "id": "001ddbb3-f875-4b29-b7a3-3b0873ba8e9d",
   "metadata": {},
   "source": [
    "The term $R_e+\\frac {R_e}{f_1}$ needs to be evaluated, since $\\alpha = \\frac {\\beta}{1+\\beta}$"
   ]
  },
  {
   "cell_type": "code",
   "execution_count": 186,
   "id": "c32c92cd-7789-4d30-9857-e155097b41d7",
   "metadata": {},
   "outputs": [
    {
     "data": {
      "text/plain": [
       "'[-alhpa/(alhpa - 1)]'"
      ]
     },
     "execution_count": 186,
     "metadata": {},
     "output_type": "execute_result"
    }
   ],
   "source": [
    "a = solve(B/(1+B)-alpha, B)\n",
    "str(a)"
   ]
  },
  {
   "cell_type": "code",
   "execution_count": 187,
   "id": "61a90d4d-c117-41ad-8062-1b91060b04f6",
   "metadata": {},
   "outputs": [
    {
     "data": {
      "image/png": "[encoded data removed]",
      "text/latex": [
       "$\\displaystyle Re - \\frac{Re \\left(alhpa - 1\\right)}{alhpa}$"
      ],
      "text/plain": [
       "     Re⋅(alhpa - 1)\n",
       "Re - ──────────────\n",
       "         alhpa     "
      ]
     },
     "execution_count": 187,
     "metadata": {},
     "output_type": "execute_result"
    }
   ],
   "source": [
    "Re+Re/(-alpha/(alpha - 1))"
   ]
  },
  {
   "cell_type": "code",
   "execution_count": 188,
   "id": "60af14e9-d868-402e-9b9d-90050bd355b3",
   "metadata": {},
   "outputs": [
    {
     "data": {
      "image/png": "[encoded data removed]",
      "text/latex": [
       "$\\displaystyle \\frac{Re}{alhpa}$"
      ],
      "text/plain": [
       "  Re \n",
       "─────\n",
       "alhpa"
      ]
     },
     "execution_count": 188,
     "metadata": {},
     "output_type": "execute_result"
    }
   ],
   "source": [
    "(Re+Re/(-alpha/(alpha - 1))).expand()"
   ]
  },
  {
   "cell_type": "markdown",
   "id": "2b42cf63-f841-48c8-89bb-181aca8a45fc",
   "metadata": {},
   "source": [
    "This agrees, but substitution is kind of pointless."
   ]
  },
  {
   "cell_type": "code",
   "execution_count": 189,
   "id": "6928385c-910b-4772-968c-e5b445b78509",
   "metadata": {},
   "outputs": [
    {
     "data": {
      "image/png": "[encoded data removed]",
      "text/latex": [
       "$\\displaystyle C_{2} s \\left(Re + \\frac{Re}{f_{1}} - Rz\\right) - 1$"
      ],
      "text/plain": [
       "     ⎛     Re     ⎞    \n",
       "C₂⋅s⋅⎜Re + ── - Rz⎟ - 1\n",
       "     ⎝     f₁     ⎠    "
      ]
     },
     "execution_count": 189,
     "metadata": {},
     "output_type": "execute_result"
    }
   ],
   "source": [
    "H_sym_num"
   ]
  },
  {
   "cell_type": "code",
   "execution_count": 190,
   "id": "1f6dccf7-6d34-42de-8b25-c6fd7060871f",
   "metadata": {},
   "outputs": [
    {
     "data": {
      "text/markdown": [
       "<p>$b_3=0$</p><p>$b_2=0$</p><p>$b_1=C_{2} \\left(Re + \\frac{Re}{f_{1}} - Rz\\right)$</p><p>$b_0=-1$</p>"
      ],
      "text/plain": [
       "<IPython.core.display.Markdown object>"
      ]
     },
     "execution_count": 190,
     "metadata": {},
     "output_type": "execute_result"
    }
   ],
   "source": [
    "b3 = H_sym_num.coeff(s**3)\n",
    "b2 = H_sym_num.coeff(s**2)\n",
    "b1 = H_sym_num.coeff(s**1)\n",
    "b0 = H_sym_num - b1*s*1 - b2*s**2 - b3*s**3\n",
    "Markdown('<p>$b_3={:s}$</p><p>$b_2={:s}$</p><p>$b_1={:s}$</p><p>$b_0={:s}$</p>'.format(latex(b3), latex(b2),latex(b1),latex(b0)))"
   ]
  },
  {
   "cell_type": "code",
   "execution_count": 191,
   "id": "8e2ce586-2600-47f5-9c02-00cab2dd1276",
   "metadata": {},
   "outputs": [
    {
     "data": {
      "image/png": "[encoded data removed]",
      "text/latex": [
       "$\\displaystyle \\left[ \\frac{f_{1}}{C_{2} \\left(Re f_{1} + Re - Rz f_{1}\\right)}\\right]$"
      ],
      "text/plain": [
       "⎡           f₁          ⎤\n",
       "⎢───────────────────────⎥\n",
       "⎣C₂⋅(Re⋅f₁ + Re - Rz⋅f₁)⎦"
      ]
     },
     "execution_count": 191,
     "metadata": {},
     "output_type": "execute_result"
    }
   ],
   "source": [
    "num_root_sym = solve(H_sym_num,s)\n",
    "num_root_sym"
   ]
  },
  {
   "cell_type": "code",
   "execution_count": null,
   "id": "05eabf71-5360-4e9f-a956-5941e2bd6426",
   "metadata": {},
   "outputs": [],
   "source": []
  },
  {
   "cell_type": "markdown",
   "id": "217b5e6b-7b49-4687-95f9-2432e092da27",
   "metadata": {},
   "source": [
    "### Denominator Polynominal\n"
   ]
  },
  {
   "cell_type": "code",
   "execution_count": null,
   "id": "0df7edbe-a7cf-4f91-894f-3aa6789e3082",
   "metadata": {},
   "outputs": [],
   "source": []
  },
  {
   "cell_type": "code",
   "execution_count": 192,
   "id": "f490cceb-68de-48d1-998d-6f63f4020ccd",
   "metadata": {},
   "outputs": [],
   "source": [
    "H_sym_denom = H_sym_denom.collect(s)"
   ]
  },
  {
   "cell_type": "code",
   "execution_count": 193,
   "id": "f6d73ce9-2274-4d1c-ace1-25178a15afae",
   "metadata": {},
   "outputs": [
    {
     "data": {
      "text/markdown": [
       "$D(s)=Re f_{1} + Re + Rg + s^{3} \\left(C_{1} C_{2} C_{3} Re Rg Rl Rz f_{1} + C_{1} C_{2} C_{3} Re Rg Rl Rz\\right) + s^{2} \\left(C_{1} C_{2} Re Rg Rl f_{1} + C_{1} C_{2} Re Rg Rl + C_{1} C_{2} Re Rg Rz f_{1} + C_{1} C_{2} Re Rg Rz + C_{1} C_{3} Re Rg Rl f_{1} + C_{1} C_{3} Re Rg Rl + C_{2} C_{3} Re Rg Rl f_{1} + C_{2} C_{3} Re Rg Rl + C_{2} C_{3} Re Rl Rz f_{1} + C_{2} C_{3} Re Rl Rz + C_{2} C_{3} Rg Rl Rz\\right) + s \\left(C_{1} Re Rg f_{1} + C_{1} Re Rg + C_{2} Re Rg f_{1} + C_{2} Re Rg + C_{2} Re Rl f_{1} + C_{2} Re Rl + C_{2} Re Rz f_{1} + C_{2} Re Rz + C_{2} Rg Rl f_{1} + C_{2} Rg Rl + C_{2} Rg Rz + C_{3} Re Rl f_{1} + C_{3} Re Rl + C_{3} Rg Rl\\right)$"
      ],
      "text/plain": [
       "<IPython.core.display.Markdown object>"
      ]
     },
     "execution_count": 193,
     "metadata": {},
     "output_type": "execute_result"
    }
   ],
   "source": [
    "Markdown('$D(s)={:s}$'.format(latex(H_sym_denom)))"
   ]
  },
  {
   "cell_type": "markdown",
   "id": "ca1580dd-05c3-41d3-9ea3-b28f9f883453",
   "metadata": {},
   "source": [
    "The coeficients of each Laplace terms can be equated to the variables $a_3$, $a_2$, $a_1$ and $a_0$ in the expression: \n",
    "\n",
    "$a_3s^3+a_2s^2+a_1s+a_0$\n",
    "\n",
    "where $a_3$, $a_2$, $a_1$ and $a_0$ are:"
   ]
  },
  {
   "cell_type": "code",
   "execution_count": 194,
   "id": "50717e66-6876-431b-b20e-c8f72f39dc57",
   "metadata": {},
   "outputs": [
    {
     "data": {
      "text/markdown": [
       "<p>$a_3=C_{1} C_{2} C_{3} Re Rg Rl Rz f_{1} + C_{1} C_{2} C_{3} Re Rg Rl Rz$</p><p>$a_2=C_{1} C_{2} Re Rg Rl f_{1} + C_{1} C_{2} Re Rg Rl + C_{1} C_{2} Re Rg Rz f_{1} + C_{1} C_{2} Re Rg Rz + C_{1} C_{3} Re Rg Rl f_{1} + C_{1} C_{3} Re Rg Rl + C_{2} C_{3} Re Rg Rl f_{1} + C_{2} C_{3} Re Rg Rl + C_{2} C_{3} Re Rl Rz f_{1} + C_{2} C_{3} Re Rl Rz + C_{2} C_{3} Rg Rl Rz$</p><p>$a_1=C_{1} Re Rg f_{1} + C_{1} Re Rg + C_{2} Re Rg f_{1} + C_{2} Re Rg + C_{2} Re Rl f_{1} + C_{2} Re Rl + C_{2} Re Rz f_{1} + C_{2} Re Rz + C_{2} Rg Rl f_{1} + C_{2} Rg Rl + C_{2} Rg Rz + C_{3} Re Rl f_{1} + C_{3} Re Rl + C_{3} Rg Rl$</p><p>$a_0=Re f_{1} + Re + Rg$</p>"
      ],
      "text/plain": [
       "<IPython.core.display.Markdown object>"
      ]
     },
     "execution_count": 194,
     "metadata": {},
     "output_type": "execute_result"
    }
   ],
   "source": [
    "a3 = H_sym_denom.coeff(s**3)\n",
    "a2 = H_sym_denom.coeff(s**2)\n",
    "a1 = H_sym_denom.coeff(s**1)\n",
    "a0 = H_sym_denom - a1*s*1 - a2*s**2 - a3*s**3\n",
    "Markdown('<p>$a_3={:s}$</p><p>$a_2={:s}$</p><p>$a_1={:s}$</p><p>$a_0={:s}$</p>'.format(latex(a3), latex(a2),latex(a1),latex(a0)))"
   ]
  },
  {
   "cell_type": "code",
   "execution_count": 195,
   "id": "d54ba000-53d4-4f4a-a66a-238bcb44d93d",
   "metadata": {},
   "outputs": [
    {
     "data": {
      "image/png": "[encoded data removed]",
      "text/latex": [
       "$\\displaystyle \\frac{C_{1} C_{2} C_{3} Re Rg Rl Rz f_{1} + C_{1} C_{2} C_{3} Re Rg Rl Rz}{Re f_{1} + Re + Rg}$"
      ],
      "text/plain": [
       "C₁⋅C₂⋅C₃⋅Re⋅Rg⋅Rl⋅Rz⋅f₁ + C₁⋅C₂⋅C₃⋅Re⋅Rg⋅Rl⋅Rz\n",
       "──────────────────────────────────────────────\n",
       "               Re⋅f₁ + Re + Rg                "
      ]
     },
     "execution_count": 195,
     "metadata": {},
     "output_type": "execute_result"
    }
   ],
   "source": [
    "a3/a0"
   ]
  },
  {
   "cell_type": "code",
   "execution_count": 196,
   "id": "86860f9c-e90f-4d4f-8e01-cc2252f78956",
   "metadata": {},
   "outputs": [
    {
     "data": {
      "image/png": "[encoded data removed]",
      "text/latex": [
       "$\\displaystyle \\frac{C_{1} C_{2} C_{3} Re Rg Rl Rz \\left(f_{1} + 1\\right)}{Re f_{1} + Re + Rg}$"
      ],
      "text/plain": [
       "C₁⋅C₂⋅C₃⋅Re⋅Rg⋅Rl⋅Rz⋅(f₁ + 1)\n",
       "─────────────────────────────\n",
       "       Re⋅f₁ + Re + Rg       "
      ]
     },
     "execution_count": 196,
     "metadata": {},
     "output_type": "execute_result"
    }
   ],
   "source": [
    "(a3/a0).factor()"
   ]
  },
  {
   "cell_type": "code",
   "execution_count": 197,
   "id": "ee92e8ab-b3b7-49f4-98dc-df67fd3fe586",
   "metadata": {},
   "outputs": [
    {
     "data": {
      "image/png": "[encoded data removed]",
      "text/latex": [
       "$\\displaystyle \\frac{C_{1} C_{2} Re Rg Rl f_{1} + C_{1} C_{2} Re Rg Rl + C_{1} C_{2} Re Rg Rz f_{1} + C_{1} C_{2} Re Rg Rz + C_{1} C_{3} Re Rg Rl f_{1} + C_{1} C_{3} Re Rg Rl + C_{2} C_{3} Re Rg Rl f_{1} + C_{2} C_{3} Re Rg Rl + C_{2} C_{3} Re Rl Rz f_{1} + C_{2} C_{3} Re Rl Rz + C_{2} C_{3} Rg Rl Rz}{Re f_{1} + Re + Rg}$"
      ],
      "text/plain": [
       "C₁⋅C₂⋅Re⋅Rg⋅Rl⋅f₁ + C₁⋅C₂⋅Re⋅Rg⋅Rl + C₁⋅C₂⋅Re⋅Rg⋅Rz⋅f₁ + C₁⋅C₂⋅Re⋅Rg⋅Rz + C₁⋅C\n",
       "──────────────────────────────────────────────────────────────────────────────\n",
       "                                                                              \n",
       "\n",
       "₃⋅Re⋅Rg⋅Rl⋅f₁ + C₁⋅C₃⋅Re⋅Rg⋅Rl + C₂⋅C₃⋅Re⋅Rg⋅Rl⋅f₁ + C₂⋅C₃⋅Re⋅Rg⋅Rl + C₂⋅C₃⋅Re\n",
       "──────────────────────────────────────────────────────────────────────────────\n",
       "              Re⋅f₁ + Re + Rg                                                 \n",
       "\n",
       "⋅Rl⋅Rz⋅f₁ + C₂⋅C₃⋅Re⋅Rl⋅Rz + C₂⋅C₃⋅Rg⋅Rl⋅Rz\n",
       "───────────────────────────────────────────\n",
       "                                           "
      ]
     },
     "execution_count": 197,
     "metadata": {},
     "output_type": "execute_result"
    }
   ],
   "source": [
    "a2/a0"
   ]
  },
  {
   "cell_type": "code",
   "execution_count": 198,
   "id": "391b2b48-1d6c-40a8-b7c4-a884f4dfd714",
   "metadata": {},
   "outputs": [
    {
     "data": {
      "image/png": "[encoded data removed]",
      "text/latex": [
       "$\\displaystyle \\frac{C_{1} Re Rg f_{1} + C_{1} Re Rg + C_{2} Re Rg f_{1} + C_{2} Re Rg + C_{2} Re Rl f_{1} + C_{2} Re Rl + C_{2} Re Rz f_{1} + C_{2} Re Rz + C_{2} Rg Rl f_{1} + C_{2} Rg Rl + C_{2} Rg Rz + C_{3} Re Rl f_{1} + C_{3} Re Rl + C_{3} Rg Rl}{Re f_{1} + Re + Rg}$"
      ],
      "text/plain": [
       "C₁⋅Re⋅Rg⋅f₁ + C₁⋅Re⋅Rg + C₂⋅Re⋅Rg⋅f₁ + C₂⋅Re⋅Rg + C₂⋅Re⋅Rl⋅f₁ + C₂⋅Re⋅Rl + C₂⋅\n",
       "──────────────────────────────────────────────────────────────────────────────\n",
       "                                                                             R\n",
       "\n",
       "Re⋅Rz⋅f₁ + C₂⋅Re⋅Rz + C₂⋅Rg⋅Rl⋅f₁ + C₂⋅Rg⋅Rl + C₂⋅Rg⋅Rz + C₃⋅Re⋅Rl⋅f₁ + C₃⋅Re⋅\n",
       "──────────────────────────────────────────────────────────────────────────────\n",
       "e⋅f₁ + Re + Rg                                                                \n",
       "\n",
       "Rl + C₃⋅Rg⋅Rl\n",
       "─────────────\n",
       "             "
      ]
     },
     "execution_count": 198,
     "metadata": {},
     "output_type": "execute_result"
    }
   ],
   "source": [
    "a1/a0"
   ]
  },
  {
   "cell_type": "markdown",
   "id": "c7e09ea5-bda4-4a19-b172-feeb4f0805c3",
   "metadata": {},
   "source": [
    "If the order of the circuit is 2 or less, then you can get the transfer function in factored form by doing some simple analysis."
   ]
  },
  {
   "cell_type": "code",
   "execution_count": null,
   "id": "a5529bf1-b3d1-441a-8ff6-3343a89c7beb",
   "metadata": {},
   "outputs": [],
   "source": []
  },
  {
   "cell_type": "markdown",
   "id": "c53f7f9e-f182-4716-90b8-b1d74cd4a9d1",
   "metadata": {},
   "source": [
    "## Example 3: LCC low-pass filter\n",
    "\n",
    "```\n",
    "* C:\\users\\jeff64\\My Documents\\JupyterLab\\Misc ipython notebooks\\Buchla 295 10 Channel Comb Filter\\FACT circuits\\Example 3 LCC low-pass filter..asc\n",
    "V1 1 0 1\n",
    "R1 2 4 1\n",
    "R2 3 1 1\n",
    "C1 4 0 1\n",
    "C3 2 1 1\n",
    "L2 3 2 1\n",
    ".backanno\n",
    ".end\n",
    "```\n",
    "\n",
    "NEET requires 7 numberator and 7 denominator equations to build the transfer function. No free lunch.\n",
    "\n"
   ]
  },
  {
   "cell_type": "code",
   "execution_count": 199,
   "id": "59cd8873-a326-4fff-bc8e-ff5f3ad348bd",
   "metadata": {},
   "outputs": [],
   "source": [
    "example_net_list = '''\n",
    "* Example 3 LCC low-pass filter.asc\n",
    "V1 1 0 1\n",
    "R1 2 4 1\n",
    "R2 3 1 1\n",
    "C1 4 0 1\n",
    "C3 2 1 1\n",
    "L2 3 2 1\n",
    "'''"
   ]
  },
  {
   "cell_type": "markdown",
   "id": "571a4f04-82c7-47b9-b139-3e47b39ed1d7",
   "metadata": {},
   "source": [
    "## Generate Network Equations \n",
    "\n",
    "\n"
   ]
  },
  {
   "cell_type": "code",
   "execution_count": 200,
   "id": "5b7fd0bf-4aaa-4445-9893-70ac7de3f8bf",
   "metadata": {},
   "outputs": [
    {
     "data": {
      "text/markdown": [
       "<p>$- C_{3} s v_{2} + I_{V1} + v_{1} \\left(C_{3} s + \\frac{1}{R_{2}}\\right) - \\frac{v_{3}}{R_{2}} = 0$</p><p>$- C_{3} s v_{1} - I_{L2} + v_{2} \\left(C_{3} s + \\frac{1}{R_{1}}\\right) - \\frac{v_{4}}{R_{1}} = 0$</p><p>$I_{L2} - \\frac{v_{1}}{R_{2}} + \\frac{v_{3}}{R_{2}} = 0$</p><p>$v_{4} \\left(C_{1} s + \\frac{1}{R_{1}}\\right) - \\frac{v_{2}}{R_{1}} = 0$</p><p>$v_{1} = V_{1}$</p><p>$- I_{L2} L_{2} s - v_{2} + v_{3} = 0$</p>"
      ],
      "text/plain": [
       "<IPython.core.display.Markdown object>"
      ]
     },
     "execution_count": 200,
     "metadata": {},
     "output_type": "execute_result"
    }
   ],
   "source": [
    "report, network_df, df2, A, X, Z = SymMNA.smna(example_net_list)\n",
    "\n",
    "# Put matrices into SymPy \n",
    "X = Matrix(X)\n",
    "Z = Matrix(Z)\n",
    "\n",
    "NE_sym = Eq(A*X,Z)\n",
    "\n",
    "# display the equations\n",
    "temp = ''\n",
    "for i in range(shape(NE_sym.lhs)[0]):\n",
    "    temp += '<p>${:s} = {:s}$</p>'.format(latex(NE_sym.lhs[i]),\n",
    "        latex(NE_sym.rhs[i]))\n",
    "\n",
    "Markdown(temp)"
   ]
  },
  {
   "cell_type": "code",
   "execution_count": 201,
   "id": "bed34b91-9c3b-4cbd-be61-1440cf5aa3c4",
   "metadata": {},
   "outputs": [
    {
     "data": {
      "text/markdown": [
       "<p>$v_{1} = V_{1}$</p><p>$v_{2} = \\frac{C_{1} C_{3} L_{2} R_{1} V_{1} s^{3} + C_{1} C_{3} R_{1} R_{2} V_{1} s^{2} + C_{1} R_{1} V_{1} s + C_{3} L_{2} V_{1} s^{2} + C_{3} R_{2} V_{1} s + V_{1}}{C_{1} C_{3} L_{2} R_{1} s^{3} + C_{1} C_{3} R_{1} R_{2} s^{2} + C_{1} L_{2} s^{2} + C_{1} R_{1} s + C_{1} R_{2} s + C_{3} L_{2} s^{2} + C_{3} R_{2} s + 1}$</p><p>$v_{3} = \\frac{C_{1} C_{3} L_{2} R_{1} V_{1} s^{3} + C_{1} C_{3} R_{1} R_{2} V_{1} s^{2} + C_{1} L_{2} V_{1} s^{2} + C_{1} R_{1} V_{1} s + C_{3} L_{2} V_{1} s^{2} + C_{3} R_{2} V_{1} s + V_{1}}{C_{1} C_{3} L_{2} R_{1} s^{3} + C_{1} C_{3} R_{1} R_{2} s^{2} + C_{1} L_{2} s^{2} + C_{1} R_{1} s + C_{1} R_{2} s + C_{3} L_{2} s^{2} + C_{3} R_{2} s + 1}$</p><p>$v_{4} = \\frac{C_{3} L_{2} V_{1} s^{2} + C_{3} R_{2} V_{1} s + V_{1}}{C_{1} C_{3} L_{2} R_{1} s^{3} + C_{1} C_{3} R_{1} R_{2} s^{2} + C_{1} L_{2} s^{2} + C_{1} R_{1} s + C_{1} R_{2} s + C_{3} L_{2} s^{2} + C_{3} R_{2} s + 1}$</p><p>$I_{V1} = \\frac{- C_{1} C_{3} L_{2} V_{1} s^{3} - C_{1} C_{3} R_{2} V_{1} s^{2} - C_{1} V_{1} s}{C_{1} C_{3} L_{2} R_{1} s^{3} + C_{1} C_{3} R_{1} R_{2} s^{2} + C_{1} L_{2} s^{2} + C_{1} R_{1} s + C_{1} R_{2} s + C_{3} L_{2} s^{2} + C_{3} R_{2} s + 1}$</p><p>$I_{L2} = \\frac{C_{1} V_{1} s}{C_{1} C_{3} L_{2} R_{1} s^{3} + C_{1} C_{3} R_{1} R_{2} s^{2} + C_{1} L_{2} s^{2} + C_{1} R_{1} s + C_{1} R_{2} s + C_{3} L_{2} s^{2} + C_{3} R_{2} s + 1}$</p>"
      ],
      "text/plain": [
       "<IPython.core.display.Markdown object>"
      ]
     },
     "execution_count": 201,
     "metadata": {},
     "output_type": "execute_result"
    }
   ],
   "source": [
    "var(str(NE_sym.free_symbols).replace('{','').replace('}',''))\n",
    "element_values = SymMNA.get_part_values(network_df)\n",
    "\n",
    "U_sym = solve(NE_sym,X)\n",
    "\n",
    "temp = ''\n",
    "for i in U_sym.keys():\n",
    "        temp += '<p>${:s} = {:s}$</p>'.format(latex(i),latex(U_sym[i]))\n",
    "\n",
    "Markdown(temp)"
   ]
  },
  {
   "cell_type": "markdown",
   "id": "f3b1171a-dd78-4b87-889f-bd2b236a0793",
   "metadata": {},
   "source": [
    "### Transfer function $H(s)=\\frac {v_2(s)}{v_1(s)}$"
   ]
  },
  {
   "cell_type": "code",
   "execution_count": 202,
   "id": "bdf2125c-56c3-45b7-b382-32713faa291c",
   "metadata": {},
   "outputs": [
    {
     "data": {
      "text/markdown": [
       "$H(s)=\\frac{C_{1} C_{3} L_{2} R_{1} s^{3} + s^{2} \\left(C_{1} C_{3} R_{1} R_{2} + C_{3} L_{2}\\right) + s \\left(C_{1} R_{1} + C_{3} R_{2}\\right) + 1}{C_{1} C_{3} L_{2} R_{1} s^{3} + s^{2} \\left(C_{1} C_{3} R_{1} R_{2} + C_{1} L_{2} + C_{3} L_{2}\\right) + s \\left(C_{1} R_{1} + C_{1} R_{2} + C_{3} R_{2}\\right) + 1}$"
      ],
      "text/plain": [
       "<IPython.core.display.Markdown object>"
      ]
     },
     "execution_count": 202,
     "metadata": {},
     "output_type": "execute_result"
    }
   ],
   "source": [
    "H_sym = (U_sym[v2]/U_sym[v1]).subs({V2:0}).cancel().collect(s)\n",
    "Markdown('$H(s)={:s}$'.format(latex(H_sym)))"
   ]
  },
  {
   "cell_type": "code",
   "execution_count": 203,
   "id": "0aae91eb-747f-4c20-961d-2236f8bc1116",
   "metadata": {
    "tags": []
   },
   "outputs": [],
   "source": [
    "H_sym_num, H_sym_denom = fraction(H_sym,s) #returns numerator and denominator"
   ]
  },
  {
   "cell_type": "markdown",
   "id": "5f4c4b03-139e-4ab5-959f-ba34df0846e9",
   "metadata": {},
   "source": [
    "### Numerator Polynominal\n",
    "The numerator polynominal is:"
   ]
  },
  {
   "cell_type": "code",
   "execution_count": 204,
   "id": "ca5f774a-22d8-4735-a06b-c9d6c43c1fc3",
   "metadata": {},
   "outputs": [
    {
     "data": {
      "image/png": "[encoded data removed]",
      "text/latex": [
       "$\\displaystyle C_{1} C_{3} L_{2} R_{1} s^{3} + s^{2} \\left(C_{1} C_{3} R_{1} R_{2} + C_{3} L_{2}\\right) + s \\left(C_{1} R_{1} + C_{3} R_{2}\\right) + 1$"
      ],
      "text/plain": [
       "             3    2                                              \n",
       "C₁⋅C₃⋅L₂⋅R₁⋅s  + s ⋅(C₁⋅C₃⋅R₁⋅R₂ + C₃⋅L₂) + s⋅(C₁⋅R₁ + C₃⋅R₂) + 1"
      ]
     },
     "execution_count": 204,
     "metadata": {},
     "output_type": "execute_result"
    }
   ],
   "source": [
    "H_sym_num = H_sym_num\n",
    "H_sym_num"
   ]
  },
  {
   "cell_type": "code",
   "execution_count": 205,
   "id": "bf3261e2-707e-4640-a492-d5b9a0ec44cc",
   "metadata": {},
   "outputs": [
    {
     "data": {
      "text/markdown": [
       "$N(s)=\\left(C_{1} R_{1} s + 1\\right) \\left(C_{3} L_{2} s^{2} + C_{3} R_{2} s + 1\\right)$"
      ],
      "text/plain": [
       "<IPython.core.display.Markdown object>"
      ]
     },
     "execution_count": 205,
     "metadata": {},
     "output_type": "execute_result"
    }
   ],
   "source": [
    "Markdown('$N(s)={:s}$'.format(latex(H_sym_num.factor())))"
   ]
  },
  {
   "cell_type": "markdown",
   "id": "2d2efaeb-9920-4ba2-8ed1-c5d9d7d44d2a",
   "metadata": {},
   "source": [
    "Above is the same as equation 71a and 71c."
   ]
  },
  {
   "cell_type": "code",
   "execution_count": 206,
   "id": "877c095c-2e04-40c8-a41a-ebbe9beafea6",
   "metadata": {},
   "outputs": [
    {
     "data": {
      "text/markdown": [
       "<p>$b_3=C_{1} C_{3} L_{2} R_{1}$</p><p>$b_2=C_{1} C_{3} R_{1} R_{2} + C_{3} L_{2}$</p><p>$b_1=C_{1} R_{1} + C_{3} R_{2}$</p><p>$b_0=1$</p>"
      ],
      "text/plain": [
       "<IPython.core.display.Markdown object>"
      ]
     },
     "execution_count": 206,
     "metadata": {},
     "output_type": "execute_result"
    }
   ],
   "source": [
    "b3 = H_sym_num.coeff(s**3)\n",
    "b2 = H_sym_num.coeff(s**2)\n",
    "b1 = H_sym_num.coeff(s**1)\n",
    "b0 = H_sym_num - b1*s*1 - b2*s**2 - b3*s**3\n",
    "Markdown('<p>$b_3={:s}$</p><p>$b_2={:s}$</p><p>$b_1={:s}$</p><p>$b_0={:s}$</p>'.format(latex(b3), latex(b2),latex(b1),latex(b0)))"
   ]
  },
  {
   "cell_type": "code",
   "execution_count": 207,
   "id": "8dac758a-024d-40a6-adf3-29019766f1c5",
   "metadata": {},
   "outputs": [
    {
     "data": {
      "image/png": "[encoded data removed]",
      "text/latex": [
       "$\\displaystyle \\left[ - \\frac{1}{C_{1} R_{1}}, \\  \\frac{- C_{3} R_{2} - \\sqrt{C_{3}^{2} R_{2}^{2} - 4 C_{3} L_{2}}}{2 C_{3} L_{2}}, \\  \\frac{- C_{3} R_{2} + \\sqrt{C_{3}^{2} R_{2}^{2} - 4 C_{3} L_{2}}}{2 C_{3} L_{2}}\\right]$"
      ],
      "text/plain": [
       "⎡                   ___________________              ___________________⎤\n",
       "⎢                  ╱   2   2                        ╱   2   2           ⎥\n",
       "⎢ -1    -C₃⋅R₂ - ╲╱  C₃ ⋅R₂  - 4⋅C₃⋅L₂   -C₃⋅R₂ + ╲╱  C₃ ⋅R₂  - 4⋅C₃⋅L₂ ⎥\n",
       "⎢─────, ───────────────────────────────, ───────────────────────────────⎥\n",
       "⎣C₁⋅R₁              2⋅C₃⋅L₂                          2⋅C₃⋅L₂            ⎦"
      ]
     },
     "execution_count": 207,
     "metadata": {},
     "output_type": "execute_result"
    }
   ],
   "source": [
    "num_root_sym = solve(H_sym_num,s)\n",
    "num_root_sym"
   ]
  },
  {
   "cell_type": "code",
   "execution_count": null,
   "id": "3d034dc5-8de4-4846-8b4d-255c8d65ec05",
   "metadata": {},
   "outputs": [],
   "source": []
  },
  {
   "cell_type": "markdown",
   "id": "b73d683f-88d2-43ef-b4f9-fb0bf1aa9e6c",
   "metadata": {},
   "source": [
    "### Denominator Polynominal\n"
   ]
  },
  {
   "cell_type": "code",
   "execution_count": 208,
   "id": "1a10b0ba-6c51-4086-840e-61d6ef74b5a7",
   "metadata": {},
   "outputs": [],
   "source": [
    "H_sym_denom = H_sym_denom.collect(s)"
   ]
  },
  {
   "cell_type": "code",
   "execution_count": 209,
   "id": "46cc6f9c-ab07-4190-9d9d-945458cdb93b",
   "metadata": {},
   "outputs": [
    {
     "data": {
      "text/markdown": [
       "$D(s)=C_{1} C_{3} L_{2} R_{1} s^{3} + s^{2} \\left(C_{1} C_{3} R_{1} R_{2} + C_{1} L_{2} + C_{3} L_{2}\\right) + s \\left(C_{1} R_{1} + C_{1} R_{2} + C_{3} R_{2}\\right) + 1$"
      ],
      "text/plain": [
       "<IPython.core.display.Markdown object>"
      ]
     },
     "execution_count": 209,
     "metadata": {},
     "output_type": "execute_result"
    }
   ],
   "source": [
    "Markdown('$D(s)={:s}$'.format(latex(H_sym_denom)))"
   ]
  },
  {
   "cell_type": "code",
   "execution_count": 210,
   "id": "fa3113d2-848b-413f-8b74-bbd6dcacd1a9",
   "metadata": {},
   "outputs": [
    {
     "data": {
      "text/markdown": [
       "<p>$a_3=C_{1} C_{3} L_{2} R_{1}$</p><p>$a_2=C_{1} C_{3} R_{1} R_{2} + C_{1} L_{2} + C_{3} L_{2}$</p><p>$a_1=C_{1} R_{1} + C_{1} R_{2} + C_{3} R_{2}$</p><p>$a_0=1$</p>"
      ],
      "text/plain": [
       "<IPython.core.display.Markdown object>"
      ]
     },
     "execution_count": 210,
     "metadata": {},
     "output_type": "execute_result"
    }
   ],
   "source": [
    "a3 = H_sym_denom.coeff(s**3)\n",
    "a2 = H_sym_denom.coeff(s**2)\n",
    "a1 = H_sym_denom.coeff(s**1)\n",
    "a0 = H_sym_denom - a1*s*1 - a2*s**2 - a3*s**3\n",
    "Markdown('<p>$a_3={:s}$</p><p>$a_2={:s}$</p><p>$a_1={:s}$</p><p>$a_0={:s}$</p>'.format(latex(a3), latex(a2),latex(a1),latex(a0)))"
   ]
  },
  {
   "cell_type": "markdown",
   "id": "432452b5-6e1e-469e-aac5-a90ab78cdc90",
   "metadata": {},
   "source": [
    "Agrees with equation 71b."
   ]
  },
  {
   "cell_type": "code",
   "execution_count": null,
   "id": "3f19cbff-b3c6-4a54-aa9f-4cec08222729",
   "metadata": {},
   "outputs": [],
   "source": []
  },
  {
   "cell_type": "code",
   "execution_count": null,
   "id": "a2902397-66e9-435e-b7ce-d712f930a64b",
   "metadata": {},
   "outputs": [],
   "source": []
  },
  {
   "cell_type": "markdown",
   "id": "4cb999dc-df6a-4d49-b6bc-05dc4d093e24",
   "metadata": {},
   "source": [
    "## Derivation of $\\omega_n$ and Q from 2nd order coefficients (a, b and c)\n",
    "\n",
    "Characteristic polynomial for a second order\n",
    "\n",
    "$s^2 + \\frac {\\omega_n}{Q}s+\\omega_n^2$\n"
   ]
  },
  {
   "cell_type": "code",
   "execution_count": null,
   "id": "0b3a70f3-1165-4cf8-8c95-0db3ccd64b73",
   "metadata": {},
   "outputs": [],
   "source": []
  },
  {
   "cell_type": "raw",
   "id": "62386de2-5f9c-42a5-8073-b587ddf46123",
   "metadata": {},
   "source": [
    "a*s**2+b*s+c"
   ]
  },
  {
   "cell_type": "code",
   "execution_count": 211,
   "id": "b62af8b1-ad07-48c1-9d04-1fe612a21b26",
   "metadata": {},
   "outputs": [],
   "source": [
    "omega_n, Q, damping_ratio, atten_param = symbols('omega_n Q damping_ratio atten_param')\n",
    "a, b, c, s = symbols('a b c s')"
   ]
  },
  {
   "cell_type": "code",
   "execution_count": 212,
   "id": "373d44dc-756c-4140-b72f-876701760ef4",
   "metadata": {},
   "outputs": [
    {
     "data": {
      "image/png": "[encoded data removed]",
      "text/latex": [
       "$\\displaystyle \\sqrt{\\frac{c}{a}}$"
      ],
      "text/plain": [
       "    ___\n",
       "   ╱ c \n",
       "  ╱  ─ \n",
       "╲╱   a "
      ]
     },
     "execution_count": 212,
     "metadata": {},
     "output_type": "execute_result"
    }
   ],
   "source": [
    "omega_n = solve(c/a-omega_n**2, omega_n)[1]\n",
    "omega_n"
   ]
  },
  {
   "cell_type": "code",
   "execution_count": 213,
   "id": "754d97b4-d49d-476e-bdcc-bc1b1d9fb3f4",
   "metadata": {},
   "outputs": [
    {
     "data": {
      "image/png": "[encoded data removed]",
      "text/latex": [
       "$\\displaystyle \\frac{a \\sqrt{\\frac{c}{a}}}{b}$"
      ],
      "text/plain": [
       "      ___\n",
       "     ╱ c \n",
       "a⋅  ╱  ─ \n",
       "  ╲╱   a \n",
       "─────────\n",
       "    b    "
      ]
     },
     "execution_count": 213,
     "metadata": {},
     "output_type": "execute_result"
    }
   ],
   "source": [
    "Q = solve(b/a-omega_n/Q, Q)[0].simplify()\n",
    "Q"
   ]
  },
  {
   "cell_type": "code",
   "execution_count": null,
   "id": "4fb84af4-43fd-4598-851e-3aaa8a1e78f9",
   "metadata": {},
   "outputs": [],
   "source": []
  }
 ],
 "metadata": {
  "kernelspec": {
   "display_name": "Python 3 (ipykernel)",
   "language": "python",
   "name": "python3"
  },
  "language_info": {
   "codemirror_mode": {
    "name": "ipython",
    "version": 3
   },
   "file_extension": ".py",
   "mimetype": "text/x-python",
   "name": "python",
   "nbconvert_exporter": "python",
   "pygments_lexer": "ipython3",
   "version": "3.10.9"
  }
 },
 "nbformat": 4,
 "nbformat_minor": 5
}
