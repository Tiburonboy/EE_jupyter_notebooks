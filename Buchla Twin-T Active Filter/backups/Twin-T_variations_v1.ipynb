{
 "cells": [
  {
   "cell_type": "markdown",
   "id": "7a229e46-2167-4b2d-b4c8-4c38a781dc4e",
   "metadata": {
    "tags": []
   },
   "source": [
    "# Twin-T Variations v1\n",
    "Last update: 1 April 2025  \n",
    "> $\\large{\\color {red} {\\text{Note}}}$  \n",
    "> This notebook is an early draft and is posted as a placeholder  \n",
    "> The narrative and calculations are very preliminary  \n",
    "> Spelling and grammar checks have not been completed  \n",
    "\n",
    "# Introduction\n",
    "Variations on the Twin-T filter topology\n",
    "\n",
    "ToDo  \n",
    "\n",
    "1 April 2025: Saving v0, saving as version to v1, removing some variations, addin6 code from Twin-T_network_experiment.ipynb\n",
    "\n",
    "- 28 Mar: LP and HP variations not working. \n",
    "- Look at HP and LP transfer function polys, what is their form?\n",
    "- trim number of variations, file taking a long time to load\n",
    "- write narrative\n",
    "- swap a and b for num and denominator coef to make same as SciPy filter \n",
    "- moved investigation of LP and HP to Twin-T_network_experiment.ipynb\n",
    "- LP and HP Twin-T variations are really the same filter with different C4 and R4 values. Make new section called Twin-T variation #1, then design LP and HP from that structure. \n",
    "- remove BP since this is covered in the main paper\n",
    "- Fix up all pass variations\n",
    "\n",
    "| Variation | Description |\n",
    "|---|---|\n",
    "| LP | input connection is at R1, C1 is gnd, remove |\n",
    "| HP | input connection is at C1, R1 is gnd, remove |\n",
    "| BR | |\n",
    "| All Pass | used two Op Amps |\n",
    "| 1 | orginal BPF |\n",
    "| 2 | works as an integrator |\n",
    "| 3 | kind of a low pass |\n",
    "| 5 | Variation 5 moved to 3 port analysis |\n",
    "| 6 | Using R4 produces a High pass filter<br>replace with a capacitor - produces a Low Pass |\n",
    "| 7 | HP, R4 replaced by C produces a low pass, looks better than the other variations |  \n",
    "| 8 | Op Amp config as non-inv, symbolic solution took too long |\n",
    "| 9 | symbolic solution took too long |\n",
    "| 10 | Trying to make a one Op Amp all pass, constant gain with a peak<br>With R4 = resistor - High pass<br>with R4 = capacitor - Low Pass<br>with R1= Cap & C1=Res - low pass with constant high freq gain<br>same but with R4=R - high pass with constant low freq gain<br>R4=ind - high pass |\n",
    "| 10a | Twin-T network appled to non-inverting, works somewhat like an all pass with a dip in the response |\n",
    "| 10b | all pass version |\n",
    "\n",
    "# References"
   ]
  },
  {
   "cell_type": "markdown",
   "id": "33318e30-118a-4042-b0dd-7aeffb67a09c",
   "metadata": {
    "tags": []
   },
   "source": [
    "Organize into LP, HP, BP, BR, AP, integrator, differentiator"
   ]
  },
  {
   "cell_type": "code",
   "execution_count": 1,
   "id": "fcf65627-6a96-4983-867c-27a245691b10",
   "metadata": {
    "collapsed": false,
    "jupyter": {
     "outputs_hidden": false
    }
   },
   "outputs": [],
   "source": [
    "import random\n",
    "from sympy import *\n",
    "import numpy as np\n",
    "from tabulate import tabulate\n",
    "from scipy import signal\n",
    "import matplotlib.pyplot as plt\n",
    "import SymMNA\n",
    "from IPython.display import display, Markdown, Math, Latex\n",
    "from tabulate import tabulate\n",
    "init_printing()"
   ]
  },
  {
   "cell_type": "code",
   "execution_count": 2,
   "id": "d39a3167-9b04-45ab-8004-a25f6315e204",
   "metadata": {},
   "outputs": [],
   "source": [
    "#import numpy as np\n",
    "#from scipy import signal\n",
    "#from sympy import *\n",
    "#import matplotlib.pyplot as plt\n",
    "#init_printing()"
   ]
  },
  {
   "cell_type": "code",
   "execution_count": 3,
   "id": "dc7ab70b-f533-4219-b9f4-b80073d4b6a5",
   "metadata": {},
   "outputs": [],
   "source": [
    "C, R = symbols('C R')"
   ]
  },
  {
   "cell_type": "markdown",
   "id": "0d41a5b6-9719-4d4e-addb-49763f174513",
   "metadata": {
    "tags": []
   },
   "source": [
    "## Low Pass Filter Variations\n",
    "\n",
    "generally more poles than zeros,\n",
    "\n",
    "Poles are to the left of the zeros, no zero at origin, but complex zeros are can be on the imaginary axis\n",
    "\n",
    "\n",
    "Circuit configuration should support DC path from inout to output"
   ]
  },
  {
   "cell_type": "code",
   "execution_count": null,
   "id": "9d56c6a6-5f4a-4906-b74b-e80b88d0a429",
   "metadata": {},
   "outputs": [],
   "source": []
  },
  {
   "cell_type": "markdown",
   "id": "ee8b835a-47c2-45f2-b21c-31e4ed25cd69",
   "metadata": {},
   "source": [
    "An elliptic filter, also known as a Cauer filter, is a type of signal processing filter that's known for its steep transition between the passband (the frequencies it allows to pass) and the stopband (the frequencies it blocks). Here's a breakdown of its key characteristics:\n",
    "\n",
    "* **Equiripple Behavior:**\n",
    "    * A defining feature of elliptic filters is that they exhibit \"equiripple\" behavior in both the passband and the stopband. This means that the amount of variation (ripple) in the signal's amplitude is evenly distributed within those bands.\n",
    "* **Sharp Cutoff:**\n",
    "    * Elliptic filters provide the sharpest transition from the passband to the stopband compared to other common filter types (like Butterworth or Chebyshev filters) of the same order. This makes them highly efficient when a very precise frequency selection is required.\n",
    "* **Trade-offs:**\n",
    "    * While they offer superior sharpness, elliptic filters come with the trade-off of having ripple in both the passband and the stopband. Other filter types may prioritize a flat passband or a monotonic stopband.\n",
    "* **Applications:**\n",
    "    * Elliptic filters are used in applications where a very selective frequency response is crucial, such as:\n",
    "        * Telecommunications\n",
    "        * Audio signal processing\n",
    "        * Digital signal processing\n",
    "        * Where very sharp frequency selection is needed.\n",
    "\n",
    "In essence, an elliptic filter is a powerful tool for achieving a very precise frequency cutoff, at the cost of some ripple in the signal's amplitude.\n",
    "\n",
    "Do the polynominals form elliptic functions?\n",
    "\n",
    "positive feed back to the twin-t network.\n",
    "\n",
    "Other types, such as the DABP. biquad permit adjustment of Q\n",
    "\n",
    "some times bandpass and band reject are needed simultainioulsy to for applicications that involve seperation of signals. \n",
    "\n",
    "See figure 1.30 in ??, R2=2R1 and C2=2C1, then $fc= \\frac {1}{2\\pi RC}$\n",
    "\n",
    "Polynomial filters with equiripples in the pass band (or reject band) and in which all the poles of attentation lie at infinity \n",
    "\n",
    "Roots of the characteristic function are situated in the complex plane on an ellipse. "
   ]
  },
  {
   "cell_type": "code",
   "execution_count": null,
   "id": "269a54be-ac0b-4b67-80cd-a96b0ad5bca5",
   "metadata": {},
   "outputs": [],
   "source": []
  },
  {
   "cell_type": "code",
   "execution_count": null,
   "id": "a762e4a4-ef0f-4d89-8f9f-8263159403e5",
   "metadata": {},
   "outputs": [],
   "source": []
  },
  {
   "cell_type": "markdown",
   "id": "c796c4fb-d09f-46e0-9993-f34d48e55d70",
   "metadata": {
    "tags": []
   },
   "source": [
    "## Elliptic Filter\n",
    "The circuit shown below is a section of the circuit from []. Characterized by ripple in the pass band, stop band or both. \n",
    "\n",
    "Ripple in the stop band\n",
    "\n",
    "The filter contains zeros just outside the pass band and force nulls in the response.\n",
    "\n",
    "Pair of imaginary zeros located at $\\pm \\omega$\n",
    "\n",
    "\n",
    "The RC secyopm introduces a real pole at ??\n",
    "\n",
    "\n",
    "\n",
    "Elliptic filters have the roots of the charasteristic polynomial that lay along an ellips in the complex frequency plane. Generally these types of filters have \n",
    "\n",
    "[Elliptic filter](https://en.wikipedia.org/wiki/Elliptic_filter)\n",
    "\n",
    "\n",
    "An elliptic filter (also known as a Cauer filter, named after Wilhelm Cauer, or as a Zolotarev filter, after Yegor Zolotarev) is a signal processing filter with equalized ripple (equiripple) behavior in both the passband and the stopband. The amount of ripple in each band is independently adjustable, and no other filter of equal order can have a faster transition in gain between the passband and the stopband, for the given values of ripple (whether the ripple is equalized or not).[citation needed] Alternatively, one may give up the ability to adjust independently the passband and stopband ripple, and instead design a filter which is maximally insensitive to component variations.\n",
    "\n",
    "As the ripple in the stopband approaches zero, the filter becomes a type I Chebyshev filter. As the ripple in the passband approaches zero, the filter becomes a type II Chebyshev filter and finally, as both ripple values approach zero, the filter becomes a Butterworth filter. \n",
    "\n",
    "\n",
    "\n",
    "\n",
    "[Elliptic function](https://en.wikipedia.org/wiki/Elliptic_function)\n",
    "\n",
    "In the mathematical field of complex analysis, elliptic functions are special kinds of meromorphic functions, that satisfy two periodicity conditions. They are named elliptic functions because they come from elliptic integrals. Those integrals are in turn named elliptic because they first were encountered for the calculation of the arc length of an ellipse.\n",
    "\n",
    "Important elliptic functions are Jacobi elliptic functions and the Weierstrass ℘ {\\displaystyle \\wp }-function.\n",
    "\n",
    "Further development of this theory led to hyperelliptic functions and modular forms. \n",
    "\n",
    "\n",
    "\n",
    "Rename this section to: Elliptic function\n",
    "\n",
    "#### Circuit Description\n"
   ]
  },
  {
   "cell_type": "markdown",
   "id": "d36a1055-ca17-483a-b7b6-17fd6c420cd3",
   "metadata": {},
   "source": [
    "![Elliptic function circuit](LP4-Twin-T-Active-Filter.png)"
   ]
  },
  {
   "cell_type": "code",
   "execution_count": 4,
   "id": "69644004-ddab-4216-9b98-97ef887b3eb9",
   "metadata": {},
   "outputs": [],
   "source": [
    "example_net_list = '''\n",
    "* LP4-Twin-T-Active-Filter.asc\n",
    "R1 3 1 1\n",
    "R2 5 0 1\n",
    "*R2 5 2 1\n",
    "R3 4 3 1\n",
    "C1 5 1 1\n",
    "C2 4 5 1\n",
    "C3 2 3 1\n",
    "O1 2 4 2\n",
    "V1 1 0 1\n",
    "R4 4 0 1\n",
    "C4 4 0 1\n",
    "'''"
   ]
  },
  {
   "cell_type": "markdown",
   "id": "d8dc462f-82ea-41dd-9a30-a0aeb9436f23",
   "metadata": {},
   "source": [
    "### Generate Network Equations and Symbolic Solution"
   ]
  },
  {
   "cell_type": "code",
   "execution_count": 5,
   "id": "062643f9-e714-4766-b1d7-88510c797b7b",
   "metadata": {},
   "outputs": [
    {
     "data": {
      "text/markdown": [
       "<p>$- C_{1} s v_{5} + I_{V1} + v_{1} \\left(C_{1} s + \\frac{1}{R_{1}}\\right) - \\frac{v_{3}}{R_{1}} = 0$</p><p>$C_{3} s v_{2} - C_{3} s v_{3} + I_{O1} = 0$</p><p>$- C_{3} s v_{2} + v_{3} \\left(C_{3} s + \\frac{1}{R_{3}} + \\frac{1}{R_{1}}\\right) - \\frac{v_{4}}{R_{3}} - \\frac{v_{1}}{R_{1}} = 0$</p><p>$- C_{2} s v_{5} + v_{4} \\left(C_{2} s + C_{4} s + \\frac{1}{R_{4}} + \\frac{1}{R_{3}}\\right) - \\frac{v_{3}}{R_{3}} = 0$</p><p>$- C_{1} s v_{1} - C_{2} s v_{4} + v_{5} \\left(C_{1} s + C_{2} s + \\frac{1}{R_{2}}\\right) = 0$</p><p>$v_{1} = V_{1}$</p><p>$v_{2} - v_{4} = 0$</p>"
      ],
      "text/plain": [
       "<IPython.core.display.Markdown object>"
      ]
     },
     "execution_count": 5,
     "metadata": {},
     "output_type": "execute_result"
    }
   ],
   "source": [
    "report, network_df, df2, A, X, Z = SymMNA.smna(example_net_list)\n",
    "\n",
    "# Put matrices into SymPy \n",
    "X = Matrix(X)\n",
    "Z = Matrix(Z)\n",
    "\n",
    "# generate network equations\n",
    "NE_sym = Eq(A*X,Z)\n",
    "\n",
    "# display the equations\n",
    "temp = ''\n",
    "for i in range(shape(NE_sym.lhs)[0]):\n",
    "    temp += '<p>${:s} = {:s}$</p>'.format(latex(NE_sym.lhs[i]),\n",
    "        latex(NE_sym.rhs[i]))\n",
    "\n",
    "Markdown(temp)"
   ]
  },
  {
   "cell_type": "markdown",
   "id": "8d51a9f9-c25b-4362-af8c-93ae48de9b1f",
   "metadata": {},
   "source": [
    "### Solve the Network Equations"
   ]
  },
  {
   "cell_type": "code",
   "execution_count": 6,
   "id": "380ef246-56b6-4e28-8d9a-323e64e9e393",
   "metadata": {},
   "outputs": [
    {
     "data": {
      "text/markdown": [
       "<p>$v_{1} = V_{1}$</p><p>$v_{2} = \\frac{C_{1} C_{2} C_{3} R_{1} R_{2} R_{3} R_{4} V_{1} s^{3} + C_{1} C_{2} R_{1} R_{2} R_{4} V_{1} s^{2} + C_{1} C_{2} R_{2} R_{3} R_{4} V_{1} s^{2} + C_{1} R_{2} R_{4} V_{1} s + C_{2} R_{2} R_{4} V_{1} s + R_{4} V_{1}}{C_{1} C_{2} C_{3} R_{1} R_{2} R_{3} R_{4} s^{3} + C_{1} C_{2} R_{1} R_{2} R_{4} s^{2} + C_{1} C_{2} R_{2} R_{3} R_{4} s^{2} + C_{1} C_{3} C_{4} R_{1} R_{2} R_{3} R_{4} s^{3} + C_{1} C_{3} R_{1} R_{2} R_{3} s^{2} + C_{1} C_{4} R_{1} R_{2} R_{4} s^{2} + C_{1} C_{4} R_{2} R_{3} R_{4} s^{2} + C_{1} R_{1} R_{2} s + C_{1} R_{2} R_{3} s + C_{1} R_{2} R_{4} s + C_{2} C_{3} C_{4} R_{1} R_{2} R_{3} R_{4} s^{3} + C_{2} C_{3} R_{1} R_{2} R_{3} s^{2} + C_{2} C_{3} R_{1} R_{3} R_{4} s^{2} + C_{2} C_{4} R_{1} R_{2} R_{4} s^{2} + C_{2} C_{4} R_{2} R_{3} R_{4} s^{2} + C_{2} R_{1} R_{2} s + C_{2} R_{1} R_{4} s + C_{2} R_{2} R_{3} s + C_{2} R_{2} R_{4} s + C_{2} R_{3} R_{4} s + C_{3} C_{4} R_{1} R_{3} R_{4} s^{2} + C_{3} R_{1} R_{3} s + C_{4} R_{1} R_{4} s + C_{4} R_{3} R_{4} s + R_{1} + R_{3} + R_{4}}$</p><p>$v_{3} = \\frac{C_{1} C_{2} C_{3} R_{1} R_{2} R_{3} R_{4} V_{1} s^{3} + C_{1} C_{2} R_{1} R_{2} R_{4} V_{1} s^{2} + C_{1} C_{2} R_{2} R_{3} R_{4} V_{1} s^{2} + C_{1} C_{4} R_{2} R_{3} R_{4} V_{1} s^{2} + C_{1} R_{2} R_{3} V_{1} s + C_{1} R_{2} R_{4} V_{1} s + C_{2} C_{4} R_{2} R_{3} R_{4} V_{1} s^{2} + C_{2} R_{2} R_{3} V_{1} s + C_{2} R_{2} R_{4} V_{1} s + C_{2} R_{3} R_{4} V_{1} s + C_{4} R_{3} R_{4} V_{1} s + R_{3} V_{1} + R_{4} V_{1}}{C_{1} C_{2} C_{3} R_{1} R_{2} R_{3} R_{4} s^{3} + C_{1} C_{2} R_{1} R_{2} R_{4} s^{2} + C_{1} C_{2} R_{2} R_{3} R_{4} s^{2} + C_{1} C_{3} C_{4} R_{1} R_{2} R_{3} R_{4} s^{3} + C_{1} C_{3} R_{1} R_{2} R_{3} s^{2} + C_{1} C_{4} R_{1} R_{2} R_{4} s^{2} + C_{1} C_{4} R_{2} R_{3} R_{4} s^{2} + C_{1} R_{1} R_{2} s + C_{1} R_{2} R_{3} s + C_{1} R_{2} R_{4} s + C_{2} C_{3} C_{4} R_{1} R_{2} R_{3} R_{4} s^{3} + C_{2} C_{3} R_{1} R_{2} R_{3} s^{2} + C_{2} C_{3} R_{1} R_{3} R_{4} s^{2} + C_{2} C_{4} R_{1} R_{2} R_{4} s^{2} + C_{2} C_{4} R_{2} R_{3} R_{4} s^{2} + C_{2} R_{1} R_{2} s + C_{2} R_{1} R_{4} s + C_{2} R_{2} R_{3} s + C_{2} R_{2} R_{4} s + C_{2} R_{3} R_{4} s + C_{3} C_{4} R_{1} R_{3} R_{4} s^{2} + C_{3} R_{1} R_{3} s + C_{4} R_{1} R_{4} s + C_{4} R_{3} R_{4} s + R_{1} + R_{3} + R_{4}}$</p><p>$v_{4} = \\frac{C_{1} C_{2} C_{3} R_{1} R_{2} R_{3} R_{4} V_{1} s^{3} + C_{1} C_{2} R_{1} R_{2} R_{4} V_{1} s^{2} + C_{1} C_{2} R_{2} R_{3} R_{4} V_{1} s^{2} + C_{1} R_{2} R_{4} V_{1} s + C_{2} R_{2} R_{4} V_{1} s + R_{4} V_{1}}{C_{1} C_{2} C_{3} R_{1} R_{2} R_{3} R_{4} s^{3} + C_{1} C_{2} R_{1} R_{2} R_{4} s^{2} + C_{1} C_{2} R_{2} R_{3} R_{4} s^{2} + C_{1} C_{3} C_{4} R_{1} R_{2} R_{3} R_{4} s^{3} + C_{1} C_{3} R_{1} R_{2} R_{3} s^{2} + C_{1} C_{4} R_{1} R_{2} R_{4} s^{2} + C_{1} C_{4} R_{2} R_{3} R_{4} s^{2} + C_{1} R_{1} R_{2} s + C_{1} R_{2} R_{3} s + C_{1} R_{2} R_{4} s + C_{2} C_{3} C_{4} R_{1} R_{2} R_{3} R_{4} s^{3} + C_{2} C_{3} R_{1} R_{2} R_{3} s^{2} + C_{2} C_{3} R_{1} R_{3} R_{4} s^{2} + C_{2} C_{4} R_{1} R_{2} R_{4} s^{2} + C_{2} C_{4} R_{2} R_{3} R_{4} s^{2} + C_{2} R_{1} R_{2} s + C_{2} R_{1} R_{4} s + C_{2} R_{2} R_{3} s + C_{2} R_{2} R_{4} s + C_{2} R_{3} R_{4} s + C_{3} C_{4} R_{1} R_{3} R_{4} s^{2} + C_{3} R_{1} R_{3} s + C_{4} R_{1} R_{4} s + C_{4} R_{3} R_{4} s + R_{1} + R_{3} + R_{4}}$</p><p>$v_{5} = \\frac{C_{1} C_{2} C_{3} R_{1} R_{2} R_{3} R_{4} V_{1} s^{3} + C_{1} C_{2} R_{1} R_{2} R_{4} V_{1} s^{2} + C_{1} C_{2} R_{2} R_{3} R_{4} V_{1} s^{2} + C_{1} C_{3} C_{4} R_{1} R_{2} R_{3} R_{4} V_{1} s^{3} + C_{1} C_{3} R_{1} R_{2} R_{3} V_{1} s^{2} + C_{1} C_{4} R_{1} R_{2} R_{4} V_{1} s^{2} + C_{1} C_{4} R_{2} R_{3} R_{4} V_{1} s^{2} + C_{1} R_{1} R_{2} V_{1} s + C_{1} R_{2} R_{3} V_{1} s + C_{1} R_{2} R_{4} V_{1} s + C_{2} R_{2} R_{4} V_{1} s}{C_{1} C_{2} C_{3} R_{1} R_{2} R_{3} R_{4} s^{3} + C_{1} C_{2} R_{1} R_{2} R_{4} s^{2} + C_{1} C_{2} R_{2} R_{3} R_{4} s^{2} + C_{1} C_{3} C_{4} R_{1} R_{2} R_{3} R_{4} s^{3} + C_{1} C_{3} R_{1} R_{2} R_{3} s^{2} + C_{1} C_{4} R_{1} R_{2} R_{4} s^{2} + C_{1} C_{4} R_{2} R_{3} R_{4} s^{2} + C_{1} R_{1} R_{2} s + C_{1} R_{2} R_{3} s + C_{1} R_{2} R_{4} s + C_{2} C_{3} C_{4} R_{1} R_{2} R_{3} R_{4} s^{3} + C_{2} C_{3} R_{1} R_{2} R_{3} s^{2} + C_{2} C_{3} R_{1} R_{3} R_{4} s^{2} + C_{2} C_{4} R_{1} R_{2} R_{4} s^{2} + C_{2} C_{4} R_{2} R_{3} R_{4} s^{2} + C_{2} R_{1} R_{2} s + C_{2} R_{1} R_{4} s + C_{2} R_{2} R_{3} s + C_{2} R_{2} R_{4} s + C_{2} R_{3} R_{4} s + C_{3} C_{4} R_{1} R_{3} R_{4} s^{2} + C_{3} R_{1} R_{3} s + C_{4} R_{1} R_{4} s + C_{4} R_{3} R_{4} s + R_{1} + R_{3} + R_{4}}$</p><p>$I_{V1} = \\frac{- C_{1} C_{2} C_{3} C_{4} R_{1} R_{2} R_{3} R_{4} V_{1} s^{4} - C_{1} C_{2} C_{3} R_{1} R_{2} R_{3} V_{1} s^{3} - C_{1} C_{2} C_{3} R_{1} R_{3} R_{4} V_{1} s^{3} - C_{1} C_{2} C_{4} R_{1} R_{2} R_{4} V_{1} s^{3} - C_{1} C_{2} C_{4} R_{2} R_{3} R_{4} V_{1} s^{3} - C_{1} C_{2} R_{1} R_{2} V_{1} s^{2} - C_{1} C_{2} R_{1} R_{4} V_{1} s^{2} - C_{1} C_{2} R_{2} R_{3} V_{1} s^{2} - C_{1} C_{2} R_{3} R_{4} V_{1} s^{2} - C_{1} C_{3} C_{4} R_{1} R_{3} R_{4} V_{1} s^{3} - C_{1} C_{3} C_{4} R_{2} R_{3} R_{4} V_{1} s^{3} - C_{1} C_{3} R_{1} R_{3} V_{1} s^{2} - C_{1} C_{3} R_{2} R_{3} V_{1} s^{2} - C_{1} C_{4} R_{1} R_{4} V_{1} s^{2} - C_{1} C_{4} R_{2} R_{4} V_{1} s^{2} - C_{1} C_{4} R_{3} R_{4} V_{1} s^{2} - C_{1} R_{1} V_{1} s - C_{1} R_{2} V_{1} s - C_{1} R_{3} V_{1} s - C_{1} R_{4} V_{1} s - C_{2} C_{3} C_{4} R_{2} R_{3} R_{4} V_{1} s^{3} - C_{2} C_{3} R_{2} R_{3} V_{1} s^{2} - C_{2} C_{3} R_{3} R_{4} V_{1} s^{2} - C_{2} C_{4} R_{2} R_{4} V_{1} s^{2} - C_{2} R_{2} V_{1} s - C_{2} R_{4} V_{1} s - C_{3} C_{4} R_{3} R_{4} V_{1} s^{2} - C_{3} R_{3} V_{1} s - C_{4} R_{4} V_{1} s - V_{1}}{C_{1} C_{2} C_{3} R_{1} R_{2} R_{3} R_{4} s^{3} + C_{1} C_{2} R_{1} R_{2} R_{4} s^{2} + C_{1} C_{2} R_{2} R_{3} R_{4} s^{2} + C_{1} C_{3} C_{4} R_{1} R_{2} R_{3} R_{4} s^{3} + C_{1} C_{3} R_{1} R_{2} R_{3} s^{2} + C_{1} C_{4} R_{1} R_{2} R_{4} s^{2} + C_{1} C_{4} R_{2} R_{3} R_{4} s^{2} + C_{1} R_{1} R_{2} s + C_{1} R_{2} R_{3} s + C_{1} R_{2} R_{4} s + C_{2} C_{3} C_{4} R_{1} R_{2} R_{3} R_{4} s^{3} + C_{2} C_{3} R_{1} R_{2} R_{3} s^{2} + C_{2} C_{3} R_{1} R_{3} R_{4} s^{2} + C_{2} C_{4} R_{1} R_{2} R_{4} s^{2} + C_{2} C_{4} R_{2} R_{3} R_{4} s^{2} + C_{2} R_{1} R_{2} s + C_{2} R_{1} R_{4} s + C_{2} R_{2} R_{3} s + C_{2} R_{2} R_{4} s + C_{2} R_{3} R_{4} s + C_{3} C_{4} R_{1} R_{3} R_{4} s^{2} + C_{3} R_{1} R_{3} s + C_{4} R_{1} R_{4} s + C_{4} R_{3} R_{4} s + R_{1} + R_{3} + R_{4}}$</p><p>$I_{O1} = \\frac{C_{1} C_{3} C_{4} R_{2} R_{3} R_{4} V_{1} s^{3} + C_{1} C_{3} R_{2} R_{3} V_{1} s^{2} + C_{2} C_{3} C_{4} R_{2} R_{3} R_{4} V_{1} s^{3} + C_{2} C_{3} R_{2} R_{3} V_{1} s^{2} + C_{2} C_{3} R_{3} R_{4} V_{1} s^{2} + C_{3} C_{4} R_{3} R_{4} V_{1} s^{2} + C_{3} R_{3} V_{1} s}{C_{1} C_{2} C_{3} R_{1} R_{2} R_{3} R_{4} s^{3} + C_{1} C_{2} R_{1} R_{2} R_{4} s^{2} + C_{1} C_{2} R_{2} R_{3} R_{4} s^{2} + C_{1} C_{3} C_{4} R_{1} R_{2} R_{3} R_{4} s^{3} + C_{1} C_{3} R_{1} R_{2} R_{3} s^{2} + C_{1} C_{4} R_{1} R_{2} R_{4} s^{2} + C_{1} C_{4} R_{2} R_{3} R_{4} s^{2} + C_{1} R_{1} R_{2} s + C_{1} R_{2} R_{3} s + C_{1} R_{2} R_{4} s + C_{2} C_{3} C_{4} R_{1} R_{2} R_{3} R_{4} s^{3} + C_{2} C_{3} R_{1} R_{2} R_{3} s^{2} + C_{2} C_{3} R_{1} R_{3} R_{4} s^{2} + C_{2} C_{4} R_{1} R_{2} R_{4} s^{2} + C_{2} C_{4} R_{2} R_{3} R_{4} s^{2} + C_{2} R_{1} R_{2} s + C_{2} R_{1} R_{4} s + C_{2} R_{2} R_{3} s + C_{2} R_{2} R_{4} s + C_{2} R_{3} R_{4} s + C_{3} C_{4} R_{1} R_{3} R_{4} s^{2} + C_{3} R_{1} R_{3} s + C_{4} R_{1} R_{4} s + C_{4} R_{3} R_{4} s + R_{1} + R_{3} + R_{4}}$</p>"
      ],
      "text/plain": [
       "<IPython.core.display.Markdown object>"
      ]
     },
     "execution_count": 6,
     "metadata": {},
     "output_type": "execute_result"
    }
   ],
   "source": [
    "# creat the variable list and load component values into the dictionary\n",
    "var(str(NE_sym.free_symbols).replace('{','').replace('}',''))\n",
    "nominal_component_value = SymMNA.get_part_values(network_df)\n",
    "\n",
    "# solve the equations\n",
    "U_sym = solve(NE_sym,X)\n",
    "\n",
    "# display the solution\n",
    "temp = ''\n",
    "for i in U_sym.keys():\n",
    "        temp += '<p>${:s} = {:s}$</p>'.format(latex(i),latex(U_sym[i]))\n",
    "\n",
    "Markdown(temp)"
   ]
  },
  {
   "cell_type": "markdown",
   "id": "d6d9472b-1dd7-47f3-b434-f6efad636631",
   "metadata": {},
   "source": [
    "### Voltage Transfer Function "
   ]
  },
  {
   "cell_type": "code",
   "execution_count": 7,
   "id": "cde207ca-f7c9-480d-942c-0832254bd44d",
   "metadata": {},
   "outputs": [
    {
     "data": {
      "text/markdown": [
       "$H(s)=\\frac{C_{1} C_{2} C_{3} R_{1} R_{2} R_{3} R_{4} s^{3} + R_{4} + s^{2} \\left(C_{1} C_{2} R_{1} R_{2} R_{4} + C_{1} C_{2} R_{2} R_{3} R_{4}\\right) + s \\left(C_{1} R_{2} R_{4} + C_{2} R_{2} R_{4}\\right)}{R_{1} + R_{3} + R_{4} + s^{3} \\left(C_{1} C_{2} C_{3} R_{1} R_{2} R_{3} R_{4} + C_{1} C_{3} C_{4} R_{1} R_{2} R_{3} R_{4} + C_{2} C_{3} C_{4} R_{1} R_{2} R_{3} R_{4}\\right) + s^{2} \\left(C_{1} C_{2} R_{1} R_{2} R_{4} + C_{1} C_{2} R_{2} R_{3} R_{4} + C_{1} C_{3} R_{1} R_{2} R_{3} + C_{1} C_{4} R_{1} R_{2} R_{4} + C_{1} C_{4} R_{2} R_{3} R_{4} + C_{2} C_{3} R_{1} R_{2} R_{3} + C_{2} C_{3} R_{1} R_{3} R_{4} + C_{2} C_{4} R_{1} R_{2} R_{4} + C_{2} C_{4} R_{2} R_{3} R_{4} + C_{3} C_{4} R_{1} R_{3} R_{4}\\right) + s \\left(C_{1} R_{1} R_{2} + C_{1} R_{2} R_{3} + C_{1} R_{2} R_{4} + C_{2} R_{1} R_{2} + C_{2} R_{1} R_{4} + C_{2} R_{2} R_{3} + C_{2} R_{2} R_{4} + C_{2} R_{3} R_{4} + C_{3} R_{1} R_{3} + C_{4} R_{1} R_{4} + C_{4} R_{3} R_{4}\\right)}$"
      ],
      "text/plain": [
       "<IPython.core.display.Markdown object>"
      ]
     },
     "execution_count": 7,
     "metadata": {},
     "output_type": "execute_result"
    }
   ],
   "source": [
    "H_sym = cancel(U_sym[v2]/U_sym[v1],s)\n",
    "Markdown('$H(s)={:s}$'.format(latex(H_sym)))"
   ]
  },
  {
   "cell_type": "code",
   "execution_count": 8,
   "id": "7c0597d8-07bd-4be4-a850-db906ee2ab7f",
   "metadata": {
    "tags": []
   },
   "outputs": [],
   "source": [
    "H_sym_num, H_sym_denom = fraction(H_sym,s) #returns numerator and denominator"
   ]
  },
  {
   "cell_type": "markdown",
   "id": "abb93b77-7733-41be-a662-c9c8852a2f69",
   "metadata": {},
   "source": [
    "### Numerator Polynominal\n",
    "\n",
    "rename coef of numerator as a's and denominator as b's\n",
    "\n",
    " where are elements of the numerator num, are elements of the denominator den, \n",
    "\n",
    "\n",
    "where b's are elements of the numerator\n",
    "\n",
    "a's are elements of the demonator\n",
    "\n",
    "\n",
    "The numerator polynominal is:"
   ]
  },
  {
   "cell_type": "code",
   "execution_count": 9,
   "id": "2cd58712-46dd-4410-a6be-e6a0e1f55601",
   "metadata": {},
   "outputs": [
    {
     "data": {
      "text/markdown": [
       "$N(s)=C_{1} C_{2} C_{3} R_{1} R_{2} R_{3} R_{4} s^{3} + R_{4} + s^{2} \\left(C_{1} C_{2} R_{1} R_{2} R_{4} + C_{1} C_{2} R_{2} R_{3} R_{4}\\right) + s \\left(C_{1} R_{2} R_{4} + C_{2} R_{2} R_{4}\\right)$"
      ],
      "text/plain": [
       "<IPython.core.display.Markdown object>"
      ]
     },
     "execution_count": 9,
     "metadata": {},
     "output_type": "execute_result"
    }
   ],
   "source": [
    "Markdown('$N(s)={:s}$'.format(latex(H_sym_num)))"
   ]
  },
  {
   "cell_type": "markdown",
   "id": "58cd415d-be57-4181-99ac-5e936b1f4d8f",
   "metadata": {},
   "source": [
    "The coeficients of each Laplace terms can be equated to the variables $b_2$, $b_1$ and $b_0$ in the expression: \n",
    "\n",
    "$b_3s^{3}+b_2s^{2}+b_1s+b_0$\n",
    "\n",
    "where $b_3$, $b_2$, $b_1$ and $b_0$ are:"
   ]
  },
  {
   "cell_type": "code",
   "execution_count": 10,
   "id": "19f2d7cd-6466-4bd8-a6a5-2950a8dc6a70",
   "metadata": {},
   "outputs": [
    {
     "data": {
      "text/markdown": [
       "<p>$b_3=C_{1} C_{2} C_{3} R_{1} R_{2} R_{3} R_{4}$</p><p>$b_2=C_{1} C_{2} R_{1} R_{2} R_{4} + C_{1} C_{2} R_{2} R_{3} R_{4}$</p><p>$b_1=C_{1} R_{2} R_{4} + C_{2} R_{2} R_{4}$</p><p>$b_0=R_{4}$</p>"
      ],
      "text/plain": [
       "<IPython.core.display.Markdown object>"
      ]
     },
     "execution_count": 10,
     "metadata": {},
     "output_type": "execute_result"
    }
   ],
   "source": [
    "b3 = H_sym_num.coeff(s**3)\n",
    "b2 = H_sym_num.coeff(s**2)\n",
    "b1 = H_sym_num.coeff(s**1)\n",
    "b0 = H_sym_num - b1*s*1 - b2*s**2 - b3*s**3\n",
    "\n",
    "Markdown('<p>$b_3={:s}$</p><p>$b_2={:s}$</p><p>$b_1={:s}$</p><p>$b_0={:s}$</p>'.format(latex(b3),latex(b2),latex(b1),latex(b0)))"
   ]
  },
  {
   "cell_type": "markdown",
   "id": "8e4a7777-0bc6-4fd8-9a4a-bea88b292057",
   "metadata": {},
   "source": [
    "### Denominator Polynominal"
   ]
  },
  {
   "cell_type": "code",
   "execution_count": 11,
   "id": "f5870747-dd89-49f0-9d6f-656cc94bb19c",
   "metadata": {},
   "outputs": [
    {
     "data": {
      "text/markdown": [
       "$D(s)=R_{1} + R_{3} + R_{4} + s^{3} \\left(C_{1} C_{2} C_{3} R_{1} R_{2} R_{3} R_{4} + C_{1} C_{3} C_{4} R_{1} R_{2} R_{3} R_{4} + C_{2} C_{3} C_{4} R_{1} R_{2} R_{3} R_{4}\\right) + s^{2} \\left(C_{1} C_{2} R_{1} R_{2} R_{4} + C_{1} C_{2} R_{2} R_{3} R_{4} + C_{1} C_{3} R_{1} R_{2} R_{3} + C_{1} C_{4} R_{1} R_{2} R_{4} + C_{1} C_{4} R_{2} R_{3} R_{4} + C_{2} C_{3} R_{1} R_{2} R_{3} + C_{2} C_{3} R_{1} R_{3} R_{4} + C_{2} C_{4} R_{1} R_{2} R_{4} + C_{2} C_{4} R_{2} R_{3} R_{4} + C_{3} C_{4} R_{1} R_{3} R_{4}\\right) + s \\left(C_{1} R_{1} R_{2} + C_{1} R_{2} R_{3} + C_{1} R_{2} R_{4} + C_{2} R_{1} R_{2} + C_{2} R_{1} R_{4} + C_{2} R_{2} R_{3} + C_{2} R_{2} R_{4} + C_{2} R_{3} R_{4} + C_{3} R_{1} R_{3} + C_{4} R_{1} R_{4} + C_{4} R_{3} R_{4}\\right)$"
      ],
      "text/plain": [
       "<IPython.core.display.Markdown object>"
      ]
     },
     "execution_count": 11,
     "metadata": {},
     "output_type": "execute_result"
    }
   ],
   "source": [
    "Markdown('$D(s)={:s}$'.format(latex(H_sym_denom)))"
   ]
  },
  {
   "cell_type": "markdown",
   "id": "6f3039ec-9278-427a-ab91-d4e2dba3b8a0",
   "metadata": {},
   "source": [
    "The coeficients of each Laplace terms can be equated to the variables $a_3$, $a_2$, $a_1$ and $a_0$ in the expression: \n",
    "\n",
    "$a_3s^3+a_2s^2+a_1s+a_0$\n",
    "\n",
    "where $a_3$, $a_2$, $a_1$ and $a_0$ are:"
   ]
  },
  {
   "cell_type": "code",
   "execution_count": 12,
   "id": "0361c909-edec-4578-8962-b0b0dfe9ec38",
   "metadata": {},
   "outputs": [
    {
     "data": {
      "text/markdown": [
       "<p>$a_3=C_{1} C_{2} C_{3} R_{1} R_{2} R_{3} R_{4} + C_{1} C_{3} C_{4} R_{1} R_{2} R_{3} R_{4} + C_{2} C_{3} C_{4} R_{1} R_{2} R_{3} R_{4}$</p><p>$a_2=C_{1} C_{2} R_{1} R_{2} R_{4} + C_{1} C_{2} R_{2} R_{3} R_{4} + C_{1} C_{3} R_{1} R_{2} R_{3} + C_{1} C_{4} R_{1} R_{2} R_{4} + C_{1} C_{4} R_{2} R_{3} R_{4} + C_{2} C_{3} R_{1} R_{2} R_{3} + C_{2} C_{3} R_{1} R_{3} R_{4} + C_{2} C_{4} R_{1} R_{2} R_{4} + C_{2} C_{4} R_{2} R_{3} R_{4} + C_{3} C_{4} R_{1} R_{3} R_{4}$</p><p>$a_1=C_{1} R_{1} R_{2} + C_{1} R_{2} R_{3} + C_{1} R_{2} R_{4} + C_{2} R_{1} R_{2} + C_{2} R_{1} R_{4} + C_{2} R_{2} R_{3} + C_{2} R_{2} R_{4} + C_{2} R_{3} R_{4} + C_{3} R_{1} R_{3} + C_{4} R_{1} R_{4} + C_{4} R_{3} R_{4}$</p><p>$a_0=R_{1} + R_{3} + R_{4}$</p>"
      ],
      "text/plain": [
       "<IPython.core.display.Markdown object>"
      ]
     },
     "execution_count": 12,
     "metadata": {},
     "output_type": "execute_result"
    }
   ],
   "source": [
    "a3 = H_sym_denom.coeff(s**3)\n",
    "a2 = H_sym_denom.coeff(s**2)\n",
    "a1 = H_sym_denom.coeff(s**1)\n",
    "a0 = H_sym_denom - a1*s*1 - a2*s**2 - a3*s**3\n",
    "Markdown('<p>$a_3={:s}$</p><p>$a_2={:s}$</p><p>$a_1={:s}$</p><p>$a_0={:s}$</p>'.format(latex(a3),latex(a2),latex(a1),latex(a0)))"
   ]
  },
  {
   "cell_type": "code",
   "execution_count": null,
   "id": "32025465-3785-4850-8141-9830947db9cf",
   "metadata": {},
   "outputs": [],
   "source": []
  },
  {
   "cell_type": "markdown",
   "id": "0327099c-3338-412d-9be4-84b7a59681d0",
   "metadata": {},
   "source": [
    "### Simplification\n",
    "{R1:1, R2:1/2, R3:1, R4:10, C1:1, C2:1, C3:2, C4:16}\n",
    "\n",
    "This came from noticing that Twin-T implementation usually had this arrangemet. "
   ]
  },
  {
   "cell_type": "code",
   "execution_count": 13,
   "id": "372f501f-bd94-498f-9cbb-5d485d679bcc",
   "metadata": {},
   "outputs": [
    {
     "data": {
      "image/png": "[encoded data removed]",
      "text/latex": [
       "$\\displaystyle \\frac{C^{3} R^{3} R_{4} s^{3} + C^{2} R^{2} R_{4} s^{2} + C R R_{4} s + R_{4}}{2 R + R_{4} + s^{3} \\left(C^{3} R^{3} R_{4} + 2 C^{2} C_{4} R^{3} R_{4}\\right) + s^{2} \\cdot \\left(2 C^{2} R^{3} + 3 C^{2} R^{2} R_{4} + 4 C C_{4} R^{2} R_{4}\\right) + s \\left(4 C R^{2} + 3 C R R_{4} + 2 C_{4} R R_{4}\\right)}$"
      ],
      "text/plain": [
       "                                        3  3     3    2  2     2              \n",
       "                                       C ⋅R ⋅R₄⋅s  + C ⋅R ⋅R₄⋅s  + C⋅R⋅R₄⋅s + \n",
       "──────────────────────────────────────────────────────────────────────────────\n",
       "            3 ⎛ 3  3         2     3   ⎞    2 ⎛   2  3      2  2              \n",
       "2⋅R + R₄ + s ⋅⎝C ⋅R ⋅R₄ + 2⋅C ⋅C₄⋅R ⋅R₄⎠ + s ⋅⎝2⋅C ⋅R  + 3⋅C ⋅R ⋅R₄ + 4⋅C⋅C₄⋅R\n",
       "\n",
       "                                         \n",
       "R₄                                       \n",
       "─────────────────────────────────────────\n",
       "2   ⎞     ⎛     2                       ⎞\n",
       " ⋅R₄⎠ + s⋅⎝4⋅C⋅R  + 3⋅C⋅R⋅R₄ + 2⋅C₄⋅R⋅R₄⎠"
      ]
     },
     "execution_count": 13,
     "metadata": {},
     "output_type": "execute_result"
    }
   ],
   "source": [
    "# various simplification options\n",
    "sub_values = {R1:R, R2:R/2, R3:R, C1:C, C2:C, C3:C*2} # seems to generate the simplest expressions for poles and zeros\n",
    "#sub_values = {R1:2*R, R2:R, R3:2*R, C1:C, C2:C, C3:C*2} # this works but puts /2 in the expression\n",
    "#sub_values = {R1:R, R2:R, R3:R, C1:C, C2:C, C3:C} # complicated demoninator roots\n",
    "#sub_values = {R1:R, R2:R/4, R3:R, C1:C, C2:C, C3:C*4} # produces complicated denomiator\n",
    "#sub_values = {R1:R, R2:R, R3:R, C1:C, C2:C, C3:C*2}\n",
    "\n",
    "H_sym_simplified = H_sym.subs(sub_values)\n",
    "H_sym_simplified"
   ]
  },
  {
   "cell_type": "code",
   "execution_count": 14,
   "id": "e5c657e4-f342-4af6-aa8a-9f6a6b14be7c",
   "metadata": {
    "tags": []
   },
   "outputs": [],
   "source": [
    "H_sym_num, H_sym_denom = fraction(H_sym_simplified,s) #returns numerator and denominator"
   ]
  },
  {
   "cell_type": "code",
   "execution_count": 15,
   "id": "7e058249-78ac-45a7-9ef2-d85a74447c50",
   "metadata": {},
   "outputs": [
    {
     "data": {
      "text/markdown": [
       "$N(s)=C^{3} R^{3} R_{4} s^{3} + C^{2} R^{2} R_{4} s^{2} + C R R_{4} s + R_{4}$"
      ],
      "text/plain": [
       "<IPython.core.display.Markdown object>"
      ]
     },
     "execution_count": 15,
     "metadata": {},
     "output_type": "execute_result"
    }
   ],
   "source": [
    "Markdown('$N(s)={:s}$'.format(latex(H_sym_num)))"
   ]
  },
  {
   "cell_type": "markdown",
   "id": "044d8168-ebc5-4d22-bdf7-1a3d9b035502",
   "metadata": {},
   "source": [
    "The coeficients of each Laplace terms can be equated to the variables $b_2$, $b_1$ and $b_0$ in the expression: \n",
    "\n",
    "$b_3s^{3}+b_2s^{2}+b_1s+b_0$\n",
    "\n",
    "where $b_3$, $b_2$, $b_1$ and $b_0$ are:"
   ]
  },
  {
   "cell_type": "code",
   "execution_count": 16,
   "id": "4827fa9f-2aca-4a4a-a0d9-c9cb983c3064",
   "metadata": {},
   "outputs": [
    {
     "data": {
      "text/markdown": [
       "<p>$b_3=C^{3} R^{3} R_{4}$</p><p>$b_2=C^{2} R^{2} R_{4}$</p><p>$b_1=C R R_{4}$</p><p>$b_0=R_{4}$</p>"
      ],
      "text/plain": [
       "<IPython.core.display.Markdown object>"
      ]
     },
     "execution_count": 16,
     "metadata": {},
     "output_type": "execute_result"
    }
   ],
   "source": [
    "b3 = H_sym_num.coeff(s**3)\n",
    "b2 = H_sym_num.coeff(s**2)\n",
    "b1 = H_sym_num.coeff(s**1)\n",
    "b0 = H_sym_num - b1*s*1 - b2*s**2 - b3*s**3\n",
    "\n",
    "Markdown('<p>$b_3={:s}$</p><p>$b_2={:s}$</p><p>$b_1={:s}$</p><p>$b_0={:s}$</p>'.format(latex(b3),latex(b2),latex(b1),latex(b0)))"
   ]
  },
  {
   "cell_type": "code",
   "execution_count": 17,
   "id": "58e41908-b4e3-4ddb-bd77-01364b267d8b",
   "metadata": {
    "tags": []
   },
   "outputs": [
    {
     "data": {
      "image/png": "[encoded data removed]",
      "text/latex": [
       "$\\displaystyle \\left[ - \\frac{1}{C R}, \\  - \\frac{i}{C R}, \\  \\frac{i}{C R}\\right]$"
      ],
      "text/plain": [
       "⎡-1   -ⅈ    ⅈ ⎤\n",
       "⎢───, ───, ───⎥\n",
       "⎣C⋅R  C⋅R  C⋅R⎦"
      ]
     },
     "execution_count": 17,
     "metadata": {},
     "output_type": "execute_result"
    }
   ],
   "source": [
    "solve(H_sym_num,s)"
   ]
  },
  {
   "cell_type": "code",
   "execution_count": 18,
   "id": "93cd31ca-8a70-4f19-88a0-97af601e20ab",
   "metadata": {},
   "outputs": [
    {
     "data": {
      "image/png": "[encoded data removed]",
      "text/latex": [
       "$\\displaystyle R_{4} \\left(C R s + 1\\right) \\left(C^{2} R^{2} s^{2} + 1\\right)$"
      ],
      "text/plain": [
       "               ⎛ 2  2  2    ⎞\n",
       "R₄⋅(C⋅R⋅s + 1)⋅⎝C ⋅R ⋅s  + 1⎠"
      ]
     },
     "execution_count": 18,
     "metadata": {},
     "output_type": "execute_result"
    }
   ],
   "source": [
    "H_sym_num.factor(s)"
   ]
  },
  {
   "cell_type": "markdown",
   "id": "2647d8f9-e984-4c57-8a36-cf7935a65de1",
   "metadata": {},
   "source": [
    "### Denominator Polynominal"
   ]
  },
  {
   "cell_type": "code",
   "execution_count": 19,
   "id": "baebf51d-82c1-46d3-9ac3-1e99227b6e46",
   "metadata": {},
   "outputs": [
    {
     "data": {
      "text/markdown": [
       "$D(s)=2 R + R_{4} + s^{3} \\left(C^{3} R^{3} R_{4} + 2 C^{2} C_{4} R^{3} R_{4}\\right) + s^{2} \\cdot \\left(2 C^{2} R^{3} + 3 C^{2} R^{2} R_{4} + 4 C C_{4} R^{2} R_{4}\\right) + s \\left(4 C R^{2} + 3 C R R_{4} + 2 C_{4} R R_{4}\\right)$"
      ],
      "text/plain": [
       "<IPython.core.display.Markdown object>"
      ]
     },
     "execution_count": 19,
     "metadata": {},
     "output_type": "execute_result"
    }
   ],
   "source": [
    "Markdown('$D(s)={:s}$'.format(latex(H_sym_denom)))"
   ]
  },
  {
   "cell_type": "code",
   "execution_count": 20,
   "id": "03b44fe4-cd08-4d99-85ee-24760af8b5e5",
   "metadata": {},
   "outputs": [
    {
     "data": {
      "text/markdown": [
       "<p>$a_3=C^{3} R^{3} R_{4} + 2 C^{2} C_{4} R^{3} R_{4}$</p><p>$a_2=2 C^{2} R^{3} + 3 C^{2} R^{2} R_{4} + 4 C C_{4} R^{2} R_{4}$</p><p>$a_1=4 C R^{2} + 3 C R R_{4} + 2 C_{4} R R_{4}$</p><p>$a_0=2 R + R_{4}$</p>"
      ],
      "text/plain": [
       "<IPython.core.display.Markdown object>"
      ]
     },
     "execution_count": 20,
     "metadata": {},
     "output_type": "execute_result"
    }
   ],
   "source": [
    "a3 = H_sym_denom.coeff(s**3)\n",
    "a2 = H_sym_denom.coeff(s**2)\n",
    "a1 = H_sym_denom.coeff(s**1)\n",
    "a0 = H_sym_denom - a1*s*1 - a2*s**2 - a3*s**3\n",
    "Markdown('<p>$a_3={:s}$</p><p>$a_2={:s}$</p><p>$a_1={:s}$</p><p>$a_0={:s}$</p>'.format(latex(a3),latex(a2),latex(a1),latex(a0)))"
   ]
  },
  {
   "cell_type": "code",
   "execution_count": 21,
   "id": "d96e9ca2-50ff-490c-9924-1dad2a49395b",
   "metadata": {},
   "outputs": [
    {
     "data": {
      "image/png": "[encoded data removed]",
      "text/latex": [
       "$\\displaystyle \\left[ - \\frac{1}{C R}, \\  \\frac{- 2 R - R_{4}}{R R_{4} \\left(C + 2 C_{4}\\right)}\\right]$"
      ],
      "text/plain": [
       "⎡-1      -2⋅R - R₄   ⎤\n",
       "⎢───, ───────────────⎥\n",
       "⎣C⋅R  R⋅R₄⋅(C + 2⋅C₄)⎦"
      ]
     },
     "execution_count": 21,
     "metadata": {},
     "output_type": "execute_result"
    }
   ],
   "source": [
    "poles = solve(H_sym_denom,s)\n",
    "poles"
   ]
  },
  {
   "cell_type": "code",
   "execution_count": 22,
   "id": "c531d418-013a-4970-a7d0-c7da7861c9f9",
   "metadata": {},
   "outputs": [
    {
     "data": {
      "image/png": "[encoded data removed]",
      "text/latex": [
       "$\\displaystyle \\left(C R s + 1\\right)^{2} \\cdot \\left(2 R + R_{4} + s \\left(C R R_{4} + 2 C_{4} R R_{4}\\right)\\right)$"
      ],
      "text/plain": [
       "           2                                    \n",
       "(C⋅R⋅s + 1) ⋅(2⋅R + R₄ + s⋅(C⋅R⋅R₄ + 2⋅C₄⋅R⋅R₄))"
      ]
     },
     "execution_count": 22,
     "metadata": {},
     "output_type": "execute_result"
    }
   ],
   "source": [
    "H_sym_denom.factor(s)"
   ]
  },
  {
   "cell_type": "code",
   "execution_count": 23,
   "id": "59da8238-ffa7-437a-a8dd-f58e2d2037a8",
   "metadata": {},
   "outputs": [
    {
     "data": {
      "text/plain": [
       "'(-2*R - R4)/(R*R4*(C + 2*C4))'"
      ]
     },
     "execution_count": 23,
     "metadata": {},
     "output_type": "execute_result"
    }
   ],
   "source": [
    "str(poles[1])"
   ]
  },
  {
   "cell_type": "code",
   "execution_count": null,
   "id": "2264427d-2ce3-4505-8baf-031d5ae8c3b3",
   "metadata": {},
   "outputs": [],
   "source": []
  },
  {
   "cell_type": "markdown",
   "id": "f5d64091-b815-4ab2-b19d-744e4d1864c9",
   "metadata": {},
   "source": [
    "### Low Pass Design Example\n",
    "Design for cut off of null at 1000 Hz\n",
    "\n",
    "R4 and C4 need to be larger than R and C\n",
    "\n",
    "From numerator roots above the zeros are complex and located at $\\frac{1}{RC}$"
   ]
  },
  {
   "cell_type": "code",
   "execution_count": 24,
   "id": "0868eb86-dc35-460a-8065-761a07ffc961",
   "metadata": {},
   "outputs": [],
   "source": [
    "C, R, R4 = symbols('C R R4')"
   ]
  },
  {
   "cell_type": "code",
   "execution_count": 25,
   "id": "a4a28bb2-f68d-4a61-b126-bfb7196394dd",
   "metadata": {},
   "outputs": [],
   "source": [
    "null_freq = 1e3\n",
    "C_value = 10e-9\n",
    "R_value = solve(1/(R*C_value)-null_freq*2*np.pi, R)[0]"
   ]
  },
  {
   "cell_type": "code",
   "execution_count": 26,
   "id": "0ad89b45-e3a9-4ec1-9bb5-0005cb32dc71",
   "metadata": {},
   "outputs": [
    {
     "data": {
      "image/png": "[encoded data removed]",
      "text/latex": [
       "$\\displaystyle 15915.4943091895$"
      ],
      "text/plain": [
       "15915.4943091895"
      ]
     },
     "execution_count": 26,
     "metadata": {},
     "output_type": "execute_result"
    }
   ],
   "source": [
    "R_value"
   ]
  },
  {
   "cell_type": "code",
   "execution_count": 27,
   "id": "c727ea3c-ce09-432a-85e6-8dbe3fb0b3b1",
   "metadata": {},
   "outputs": [],
   "source": [
    "pole_freq = 0 #.0001\n",
    "C4_value = 1e-6\n",
    "R4_value = solve((2*R_value-R4)/(R_value*R4*(C_value + 2*C4_value)) - pole_freq*2*np.pi, R4)[0]"
   ]
  },
  {
   "cell_type": "raw",
   "id": "ea79f35f-b500-491c-9d39-73dd727bcc00",
   "metadata": {},
   "source": [
    "R4_value = solve((C_value*R_value - C4_value*R4 - sqrt(C_value**2*R_value**2 - 2*C_value**2*R_value*R4 - C_value**2*R4**2 - 2*C_value*C4_value*R_value*R4 - 2*C_value*C4_value*R4**2 + C4_value**2*R4**2))/(C_value**2*R_value*R4 + 2*C_value*C4_value*R_value*R4), R4)[0]"
   ]
  },
  {
   "cell_type": "code",
   "execution_count": 28,
   "id": "027c16b1-a925-4543-9a15-8da1a4e18959",
   "metadata": {},
   "outputs": [
    {
     "data": {
      "image/png": "[encoded data removed]",
      "text/latex": [
       "$\\displaystyle 31830.988618379$"
      ],
      "text/plain": [
       "31830.9886183790"
      ]
     },
     "execution_count": 28,
     "metadata": {},
     "output_type": "execute_result"
    }
   ],
   "source": [
    "R4_value"
   ]
  },
  {
   "cell_type": "code",
   "execution_count": 29,
   "id": "398245ee-c630-45bc-a220-cc4470206295",
   "metadata": {},
   "outputs": [
    {
     "data": {
      "image/png": "[encoded data removed]",
      "text/latex": [
       "$\\displaystyle \\frac{C_{1} C_{2} C_{3} R_{1} R_{2} R_{3} R_{4} s^{3} + R_{4} + s^{2} \\left(C_{1} C_{2} R_{1} R_{2} R_{4} + C_{1} C_{2} R_{2} R_{3} R_{4}\\right) + s \\left(C_{1} R_{2} R_{4} + C_{2} R_{2} R_{4}\\right)}{R_{1} + R_{3} + R_{4} + s^{3} \\left(C_{1} C_{2} C_{3} R_{1} R_{2} R_{3} R_{4} + C_{1} C_{3} C_{4} R_{1} R_{2} R_{3} R_{4} + C_{2} C_{3} C_{4} R_{1} R_{2} R_{3} R_{4}\\right) + s^{2} \\left(C_{1} C_{2} R_{1} R_{2} R_{4} + C_{1} C_{2} R_{2} R_{3} R_{4} + C_{1} C_{3} R_{1} R_{2} R_{3} + C_{1} C_{4} R_{1} R_{2} R_{4} + C_{1} C_{4} R_{2} R_{3} R_{4} + C_{2} C_{3} R_{1} R_{2} R_{3} + C_{2} C_{3} R_{1} R_{3} R_{4} + C_{2} C_{4} R_{1} R_{2} R_{4} + C_{2} C_{4} R_{2} R_{3} R_{4} + C_{3} C_{4} R_{1} R_{3} R_{4}\\right) + s \\left(C_{1} R_{1} R_{2} + C_{1} R_{2} R_{3} + C_{1} R_{2} R_{4} + C_{2} R_{1} R_{2} + C_{2} R_{1} R_{4} + C_{2} R_{2} R_{3} + C_{2} R_{2} R_{4} + C_{2} R_{3} R_{4} + C_{3} R_{1} R_{3} + C_{4} R_{1} R_{4} + C_{4} R_{3} R_{4}\\right)}$"
      ],
      "text/plain": [
       "                                                                              \n",
       "                                                                              \n",
       "──────────────────────────────────────────────────────────────────────────────\n",
       "                3                                                             \n",
       "R₁ + R₃ + R₄ + s ⋅(C₁⋅C₂⋅C₃⋅R₁⋅R₂⋅R₃⋅R₄ + C₁⋅C₃⋅C₄⋅R₁⋅R₂⋅R₃⋅R₄ + C₂⋅C₃⋅C₄⋅R₁⋅R\n",
       "\n",
       "                                                                              \n",
       "                                                                    C₁⋅C₂⋅C₃⋅R\n",
       "──────────────────────────────────────────────────────────────────────────────\n",
       "            2                                                                 \n",
       "₂⋅R₃⋅R₄) + s ⋅(C₁⋅C₂⋅R₁⋅R₂⋅R₄ + C₁⋅C₂⋅R₂⋅R₃⋅R₄ + C₁⋅C₃⋅R₁⋅R₂⋅R₃ + C₁⋅C₄⋅R₁⋅R₂⋅\n",
       "\n",
       "            3         2                                                       \n",
       "₁⋅R₂⋅R₃⋅R₄⋅s  + R₄ + s ⋅(C₁⋅C₂⋅R₁⋅R₂⋅R₄ + C₁⋅C₂⋅R₂⋅R₃⋅R₄) + s⋅(C₁⋅R₂⋅R₄ + C₂⋅R\n",
       "──────────────────────────────────────────────────────────────────────────────\n",
       "                                                                              \n",
       "R₄ + C₁⋅C₄⋅R₂⋅R₃⋅R₄ + C₂⋅C₃⋅R₁⋅R₂⋅R₃ + C₂⋅C₃⋅R₁⋅R₃⋅R₄ + C₂⋅C₄⋅R₁⋅R₂⋅R₄ + C₂⋅C₄\n",
       "\n",
       "                                                                              \n",
       "₂⋅R₄)                                                                         \n",
       "──────────────────────────────────────────────────────────────────────────────\n",
       "                                                                              \n",
       "⋅R₂⋅R₃⋅R₄ + C₃⋅C₄⋅R₁⋅R₃⋅R₄) + s⋅(C₁⋅R₁⋅R₂ + C₁⋅R₂⋅R₃ + C₁⋅R₂⋅R₄ + C₂⋅R₁⋅R₂ + C\n",
       "\n",
       "                                                                          \n",
       "                                                                          \n",
       "──────────────────────────────────────────────────────────────────────────\n",
       "                                                                          \n",
       "₂⋅R₁⋅R₄ + C₂⋅R₂⋅R₃ + C₂⋅R₂⋅R₄ + C₂⋅R₃⋅R₄ + C₃⋅R₁⋅R₃ + C₄⋅R₁⋅R₄ + C₄⋅R₃⋅R₄)"
      ]
     },
     "execution_count": 29,
     "metadata": {},
     "output_type": "execute_result"
    }
   ],
   "source": [
    "H_sym"
   ]
  },
  {
   "cell_type": "code",
   "execution_count": 30,
   "id": "7ab8a6f9-e9ce-477f-8273-42c7fca0206a",
   "metadata": {
    "collapsed": false,
    "jupyter": {
     "outputs_hidden": false
    }
   },
   "outputs": [],
   "source": [
    "sub_values = {R1:R_value, R2:R_value/2, R3:R_value, R4:R4_value, C1:C_value, C2:C_value, C3:C_value*2, C4:C4_value}\n",
    "H = H_sym.subs(sub_values)\n",
    "\n",
    "H_num, H_denom = fraction(H) #returns numerator and denominator\n",
    "\n",
    "# convert symbolic to numpy polynomial\n",
    "an = np.array(Poly(H_num, s).all_coeffs(), dtype=float)\n",
    "bn = np.array(Poly(H_denom, s).all_coeffs(), dtype=float)\n",
    "sys_tf = signal.TransferFunction(an,bn)"
   ]
  },
  {
   "cell_type": "markdown",
   "id": "e9442383-0980-4323-9d63-0122d3599fbc",
   "metadata": {},
   "source": [
    "The poles and zeros of the transfer function are plotted below:"
   ]
  },
  {
   "cell_type": "code",
   "execution_count": 31,
   "id": "84de94eb-56cd-4e65-aba4-9fc0917fad7f",
   "metadata": {},
   "outputs": [
    {
     "data": {
      "image/png": "[encoded data removed]",
      "text/plain": [
       "<Figure size 640x480 with 1 Axes>"
      ]
     },
     "metadata": {},
     "output_type": "display_data"
    }
   ],
   "source": [
    "sys_zeros = np.roots(sys_tf.num)\n",
    "sys_poles = np.roots(sys_tf.den)\n",
    "\n",
    "plt.plot(np.real(sys_zeros), np.imag(sys_zeros), 'ob', markerfacecolor='none')\n",
    "plt.plot(np.real(sys_poles), np.imag(sys_poles), 'xr')\n",
    "plt.legend(['Zeros', 'Poles'], loc=0)\n",
    "plt.title('Pole / Zero Plot')\n",
    "plt.xlabel('real part, \\u03B1')\n",
    "plt.ylabel('imaginary part, j\\u03C9')\n",
    "plt.grid()\n",
    "plt.show()"
   ]
  },
  {
   "cell_type": "markdown",
   "id": "0600300c-fc04-4723-80cb-cc6326f2fd61",
   "metadata": {},
   "source": [
    "The units of the poles and zeros are in radian frequency and are tabulated below."
   ]
  },
  {
   "cell_type": "code",
   "execution_count": 32,
   "id": "29d0fb65-cdf2-470e-9ff8-fa1ea8f8064f",
   "metadata": {},
   "outputs": [
    {
     "name": "stdout",
     "output_type": "stream",
     "text": [
      "Zeros, rad/s        Poles, rad/s\n",
      "------------------  ------------------\n",
      "-6283.1853+0.0000j  -6283.1853+0.0002j\n",
      "0.0000+6283.1853j   -6283.1853-0.0002j\n",
      "0.0000-6283.1853j   -62.5193+0.0000j\n"
     ]
    }
   ],
   "source": [
    "table_header = ['Zeros, rad/s', 'Poles, rad/s']\n",
    "num_table_rows = max(len(sys_zeros),len(sys_poles))\n",
    "table_row = []\n",
    "\n",
    "for i in range(num_table_rows):\n",
    "    if i < len(sys_zeros):\n",
    "        z = '{:.4f}'.format(sys_zeros[i])\n",
    "    else:\n",
    "        z = ''\n",
    "    if i < len(sys_poles):\n",
    "        p = '{:.4f}'.format(sys_poles[i])\n",
    "    else:\n",
    "        p = ''\n",
    "    table_row.append([z,p])\n",
    "\n",
    "print(tabulate(table_row, headers=table_header,colalign = ('left','left'),tablefmt=\"simple\"))"
   ]
  },
  {
   "cell_type": "markdown",
   "id": "f966ea0f-d68e-432a-9e06-958c48c7d762",
   "metadata": {},
   "source": [
    "The magnitude and phase of the filter's transfer function is plotted below."
   ]
  },
  {
   "cell_type": "code",
   "execution_count": 33,
   "id": "2efc62da-bd75-4b26-ae13-a7b59f841861",
   "metadata": {},
   "outputs": [
    {
     "data": {
      "image/png": "[encoded data removed]",
      "text/plain": [
       "<Figure size 640x480 with 2 Axes>"
      ]
     },
     "metadata": {},
     "output_type": "display_data"
    }
   ],
   "source": [
    "x = np.logspace(-2, 7, 500, endpoint=True)*2*np.pi\n",
    "w, mag, phase = signal.bode(sys_tf, w=x) # returns: rad/s, mag in dB, phase in deg\n",
    "\n",
    "fig, ax1 = plt.subplots()\n",
    "ax1.set_ylabel('magnitude, dB')\n",
    "ax1.set_xlabel('frequency, Hz')\n",
    "\n",
    "plt.semilogx(w/(2*np.pi), mag,'-b')    # magnitude plot\n",
    "#ax1.set_ylim(-1,1)\n",
    "ax1.tick_params(axis='y')\n",
    "plt.grid()\n",
    "\n",
    "# instantiate a second y-axes that shares the same x-axis\n",
    "ax2 = ax1.twinx()\n",
    "color = 'tab:red'\n",
    "\n",
    "plt.semilogx(w/(2*np.pi), phase,':',color='tab:red')  # phase plot\n",
    "\n",
    "ax2.set_ylabel('phase, deg',color=color)\n",
    "ax2.tick_params(axis='y', labelcolor=color)\n",
    "\n",
    "plt.title('Magnitude and phase plot')\n",
    "plt.show()"
   ]
  },
  {
   "cell_type": "code",
   "execution_count": null,
   "id": "47c0eb0d-6d13-45a0-b1bf-ea77278030ec",
   "metadata": {},
   "outputs": [],
   "source": []
  },
  {
   "cell_type": "markdown",
   "id": "a84527de-4bf7-453f-8a4e-7fab1b606444",
   "metadata": {},
   "source": [
    "### High Pass Design Example\n",
    "Design for cut off of null at 1000 Hz\n",
    "\n",
    "From numerator roots above the zeros are complex and located at $\\frac{1}{RC}$\n",
    "\n",
    "R4 and C4 needs to be smaller than R and C\n"
   ]
  },
  {
   "cell_type": "code",
   "execution_count": 34,
   "id": "6a4b90c9-e64d-4689-9988-6bd4c948f32a",
   "metadata": {},
   "outputs": [],
   "source": [
    "C, R, R4 = symbols('C R R4')"
   ]
  },
  {
   "cell_type": "code",
   "execution_count": 35,
   "id": "0329cb53-6693-4c2f-a87b-d41ebf6db264",
   "metadata": {},
   "outputs": [],
   "source": [
    "null_freq = 1e3\n",
    "C_value = 1e-6 #1e-9\n",
    "R_value = solve(1/(R*C_value)-null_freq*2*np.pi, R)[0]"
   ]
  },
  {
   "cell_type": "code",
   "execution_count": 36,
   "id": "6da1d867-140e-4f4a-a6a0-9997eea3a0b6",
   "metadata": {},
   "outputs": [
    {
     "data": {
      "image/png": "[encoded data removed]",
      "text/latex": [
       "$\\displaystyle 159.154943091895$"
      ],
      "text/plain": [
       "159.154943091895"
      ]
     },
     "execution_count": 36,
     "metadata": {},
     "output_type": "execute_result"
    }
   ],
   "source": [
    "R_value"
   ]
  },
  {
   "cell_type": "code",
   "execution_count": 37,
   "id": "65c1beb4-607e-4f8c-b2b4-e534decc8ba0",
   "metadata": {},
   "outputs": [],
   "source": [
    "pole_freq = 20e3 #20e3\n",
    "C4_value = 10e-9 #1e-12\n",
    "R4_value = solve((2*R_value-R4)/(R_value*R4*(C_value + 2*C4_value)) - pole_freq*2*np.pi, R4)[0]"
   ]
  },
  {
   "cell_type": "code",
   "execution_count": 38,
   "id": "215239c1-c592-4519-a108-343e37dacb04",
   "metadata": {},
   "outputs": [
    {
     "data": {
      "image/png": "[encoded data removed]",
      "text/latex": [
       "$\\displaystyle 14.8742937469061$"
      ],
      "text/plain": [
       "14.8742937469061"
      ]
     },
     "execution_count": 38,
     "metadata": {},
     "output_type": "execute_result"
    }
   ],
   "source": [
    "R4_value"
   ]
  },
  {
   "cell_type": "code",
   "execution_count": 39,
   "id": "1a82c125-6d7c-4b9e-813f-e858f7f364cd",
   "metadata": {},
   "outputs": [
    {
     "data": {
      "image/png": "[encoded data removed]",
      "text/latex": [
       "$\\displaystyle \\frac{C_{1} C_{2} C_{3} R_{1} R_{2} R_{3} R_{4} s^{3} + R_{4} + s^{2} \\left(C_{1} C_{2} R_{1} R_{2} R_{4} + C_{1} C_{2} R_{2} R_{3} R_{4}\\right) + s \\left(C_{1} R_{2} R_{4} + C_{2} R_{2} R_{4}\\right)}{R_{1} + R_{3} + R_{4} + s^{3} \\left(C_{1} C_{2} C_{3} R_{1} R_{2} R_{3} R_{4} + C_{1} C_{3} C_{4} R_{1} R_{2} R_{3} R_{4} + C_{2} C_{3} C_{4} R_{1} R_{2} R_{3} R_{4}\\right) + s^{2} \\left(C_{1} C_{2} R_{1} R_{2} R_{4} + C_{1} C_{2} R_{2} R_{3} R_{4} + C_{1} C_{3} R_{1} R_{2} R_{3} + C_{1} C_{4} R_{1} R_{2} R_{4} + C_{1} C_{4} R_{2} R_{3} R_{4} + C_{2} C_{3} R_{1} R_{2} R_{3} + C_{2} C_{3} R_{1} R_{3} R_{4} + C_{2} C_{4} R_{1} R_{2} R_{4} + C_{2} C_{4} R_{2} R_{3} R_{4} + C_{3} C_{4} R_{1} R_{3} R_{4}\\right) + s \\left(C_{1} R_{1} R_{2} + C_{1} R_{2} R_{3} + C_{1} R_{2} R_{4} + C_{2} R_{1} R_{2} + C_{2} R_{1} R_{4} + C_{2} R_{2} R_{3} + C_{2} R_{2} R_{4} + C_{2} R_{3} R_{4} + C_{3} R_{1} R_{3} + C_{4} R_{1} R_{4} + C_{4} R_{3} R_{4}\\right)}$"
      ],
      "text/plain": [
       "                                                                              \n",
       "                                                                              \n",
       "──────────────────────────────────────────────────────────────────────────────\n",
       "                3                                                             \n",
       "R₁ + R₃ + R₄ + s ⋅(C₁⋅C₂⋅C₃⋅R₁⋅R₂⋅R₃⋅R₄ + C₁⋅C₃⋅C₄⋅R₁⋅R₂⋅R₃⋅R₄ + C₂⋅C₃⋅C₄⋅R₁⋅R\n",
       "\n",
       "                                                                              \n",
       "                                                                    C₁⋅C₂⋅C₃⋅R\n",
       "──────────────────────────────────────────────────────────────────────────────\n",
       "            2                                                                 \n",
       "₂⋅R₃⋅R₄) + s ⋅(C₁⋅C₂⋅R₁⋅R₂⋅R₄ + C₁⋅C₂⋅R₂⋅R₃⋅R₄ + C₁⋅C₃⋅R₁⋅R₂⋅R₃ + C₁⋅C₄⋅R₁⋅R₂⋅\n",
       "\n",
       "            3         2                                                       \n",
       "₁⋅R₂⋅R₃⋅R₄⋅s  + R₄ + s ⋅(C₁⋅C₂⋅R₁⋅R₂⋅R₄ + C₁⋅C₂⋅R₂⋅R₃⋅R₄) + s⋅(C₁⋅R₂⋅R₄ + C₂⋅R\n",
       "──────────────────────────────────────────────────────────────────────────────\n",
       "                                                                              \n",
       "R₄ + C₁⋅C₄⋅R₂⋅R₃⋅R₄ + C₂⋅C₃⋅R₁⋅R₂⋅R₃ + C₂⋅C₃⋅R₁⋅R₃⋅R₄ + C₂⋅C₄⋅R₁⋅R₂⋅R₄ + C₂⋅C₄\n",
       "\n",
       "                                                                              \n",
       "₂⋅R₄)                                                                         \n",
       "──────────────────────────────────────────────────────────────────────────────\n",
       "                                                                              \n",
       "⋅R₂⋅R₃⋅R₄ + C₃⋅C₄⋅R₁⋅R₃⋅R₄) + s⋅(C₁⋅R₁⋅R₂ + C₁⋅R₂⋅R₃ + C₁⋅R₂⋅R₄ + C₂⋅R₁⋅R₂ + C\n",
       "\n",
       "                                                                          \n",
       "                                                                          \n",
       "──────────────────────────────────────────────────────────────────────────\n",
       "                                                                          \n",
       "₂⋅R₁⋅R₄ + C₂⋅R₂⋅R₃ + C₂⋅R₂⋅R₄ + C₂⋅R₃⋅R₄ + C₃⋅R₁⋅R₃ + C₄⋅R₁⋅R₄ + C₄⋅R₃⋅R₄)"
      ]
     },
     "execution_count": 39,
     "metadata": {},
     "output_type": "execute_result"
    }
   ],
   "source": [
    "H_sym"
   ]
  },
  {
   "cell_type": "code",
   "execution_count": 40,
   "id": "5186e975-8f07-4418-9c7c-ac3641c40018",
   "metadata": {
    "collapsed": false,
    "jupyter": {
     "outputs_hidden": false
    }
   },
   "outputs": [],
   "source": [
    "sub_values = {R1:R_value, R2:R_value/2, R3:R_value, R4:R4_value, C1:C_value, C2:C_value, C3:C_value*2, C4:C4_value}\n",
    "H = H_sym.subs(sub_values)\n",
    "\n",
    "H_num, H_denom = fraction(H) #returns numerator and denominator\n",
    "\n",
    "# convert symbolic to numpy polynomial\n",
    "an = np.array(Poly(H_num, s).all_coeffs(), dtype=float)\n",
    "bn = np.array(Poly(H_denom, s).all_coeffs(), dtype=float)\n",
    "sys_tf = signal.TransferFunction(an,bn)"
   ]
  },
  {
   "cell_type": "markdown",
   "id": "1308c571-a49a-4176-84b2-1d1d45ff0125",
   "metadata": {},
   "source": [
    "The poles and zeros of the transfer function are plotted below:"
   ]
  },
  {
   "cell_type": "code",
   "execution_count": 41,
   "id": "a9f8f0a8-e585-40a4-a917-7fe130799356",
   "metadata": {},
   "outputs": [
    {
     "data": {
      "image/png": "[encoded data removed]",
      "text/plain": [
       "<Figure size 640x480 with 1 Axes>"
      ]
     },
     "metadata": {},
     "output_type": "display_data"
    }
   ],
   "source": [
    "sys_zeros = np.roots(sys_tf.num)\n",
    "sys_poles = np.roots(sys_tf.den)\n",
    "\n",
    "plt.plot(np.real(sys_zeros), np.imag(sys_zeros), 'ob', markerfacecolor='none')\n",
    "plt.plot(np.real(sys_poles), np.imag(sys_poles), 'xr')\n",
    "plt.legend(['Zeros', 'Poles'], loc=0)\n",
    "plt.title('Pole / Zero Plot')\n",
    "plt.xlabel('real part, \\u03B1')\n",
    "plt.ylabel('imaginary part, j\\u03C9')\n",
    "plt.grid()\n",
    "plt.show()"
   ]
  },
  {
   "cell_type": "markdown",
   "id": "44ea2acd-d8cd-4ea2-959a-24988407de81",
   "metadata": {},
   "source": [
    "The units of the poles and zeros are in radian frequency and are tabulated below."
   ]
  },
  {
   "cell_type": "code",
   "execution_count": 42,
   "id": "3cd3e2c2-5e16-4e30-9271-564a9d31bacf",
   "metadata": {},
   "outputs": [
    {
     "name": "stdout",
     "output_type": "stream",
     "text": [
      "Zeros, rad/s        Poles, rad/s\n",
      "------------------  --------------\n",
      "-6283.1853+0.0000j  -137984\n",
      "-0.0000+6283.1853j  -6283.19\n",
      "-0.0000-6283.1853j  -6283.19\n"
     ]
    }
   ],
   "source": [
    "table_header = ['Zeros, rad/s', 'Poles, rad/s']\n",
    "num_table_rows = max(len(sys_zeros),len(sys_poles))\n",
    "table_row = []\n",
    "\n",
    "for i in range(num_table_rows):\n",
    "    if i < len(sys_zeros):\n",
    "        z = '{:.4f}'.format(sys_zeros[i])\n",
    "    else:\n",
    "        z = ''\n",
    "    if i < len(sys_poles):\n",
    "        p = '{:.4f}'.format(sys_poles[i])\n",
    "    else:\n",
    "        p = ''\n",
    "    table_row.append([z,p])\n",
    "\n",
    "print(tabulate(table_row, headers=table_header,colalign = ('left','left'),tablefmt=\"simple\"))"
   ]
  },
  {
   "cell_type": "markdown",
   "id": "f9845065-258f-4cec-b9c5-817282b79f6a",
   "metadata": {},
   "source": [
    "The magnitude and phase of the filter's transfer function is plotted below."
   ]
  },
  {
   "cell_type": "code",
   "execution_count": 43,
   "id": "d3c91d66-9389-48a8-aa8e-32f092a75663",
   "metadata": {},
   "outputs": [
    {
     "data": {
      "image/png": "[encoded data removed]",
      "text/plain": [
       "<Figure size 640x480 with 2 Axes>"
      ]
     },
     "metadata": {},
     "output_type": "display_data"
    }
   ],
   "source": [
    "x = np.logspace(0, 7, 500, endpoint=True)*2*np.pi\n",
    "w, mag, phase = signal.bode(sys_tf, w=x) # returns: rad/s, mag in dB, phase in deg\n",
    "\n",
    "fig, ax1 = plt.subplots()\n",
    "ax1.set_ylabel('magnitude, dB')\n",
    "ax1.set_xlabel('frequency, Hz')\n",
    "\n",
    "plt.semilogx(w/(2*np.pi), mag,'-b')    # magnitude plot\n",
    "#ax1.set_ylim(-1,1)\n",
    "ax1.tick_params(axis='y')\n",
    "plt.grid()\n",
    "\n",
    "# instantiate a second y-axes that shares the same x-axis\n",
    "ax2 = ax1.twinx()\n",
    "color = 'tab:red'\n",
    "\n",
    "plt.semilogx(w/(2*np.pi), phase,':',color='tab:red')  # phase plot\n",
    "\n",
    "ax2.set_ylabel('phase, deg',color=color)\n",
    "ax2.tick_params(axis='y', labelcolor=color)\n",
    "\n",
    "plt.title('Magnitude and phase plot')\n",
    "plt.show()"
   ]
  },
  {
   "cell_type": "code",
   "execution_count": null,
   "id": "fd6b51f1-494e-439f-96ab-f4b3df9a6ad9",
   "metadata": {},
   "outputs": [],
   "source": []
  },
  {
   "cell_type": "code",
   "execution_count": null,
   "id": "38f2b19e-0df0-4d47-aee6-b5838f0ffd5a",
   "metadata": {},
   "outputs": [],
   "source": []
  },
  {
   "cell_type": "markdown",
   "id": "d49d4929-ef7d-4c72-bda1-91c3c6acacaf",
   "metadata": {
    "tags": []
   },
   "source": [
    "## Band Pass Filter Variations\n",
    "Omit this section since it's the same circuit as in the main paper.  Or put the three port analysis here. \n",
    "\n",
    "### BP variation 1\n",
    "\n"
   ]
  },
  {
   "cell_type": "markdown",
   "id": "d056694e-57a1-4dc6-91c0-ed4b3de890d0",
   "metadata": {
    "tags": []
   },
   "source": [
    "![](Bandpass_Twin-T_Active_Filter.png)"
   ]
  },
  {
   "cell_type": "markdown",
   "id": "baeb5e4b-3820-40ca-bd68-2b19bc45a3d3",
   "metadata": {
    "tags": []
   },
   "source": [
    "Negative feed back to the twin-t network\n",
    "\n",
    "\n",
    "```\n",
    "* C:\\users\\jeff64\\My Documents\\JupyterLab\\Misc ipython notebooks\\Buchla 295 10 Channel Comb Filter\\LTSpice\\Bandpass-Twin-T-Active-Filter.asc\n",
    "R1 3 1 15k\n",
    "R2 4 5 186k\n",
    "R3 2 5 15k\n",
    "C1 5 1 10n\n",
    "C2 4 3 910p\n",
    "C3 2 3 10n\n",
    "XU1 4 0 2 opamp Aol=100K GBW=10Meg\n",
    "V1 1 0 PULSE(-1 1 1e-99 1e-99 1e-99 20m 40m) AC 1\n",
    "* A Bandpass Twin-T Active Filter Used in the Buchla 200 Electric Music Box Synthesizer\n",
    "* 1000 Hz band\n",
    ".lib opamp.sub\n",
    ".ac dec 1000 100 10k\n",
    "* R3 for each filter is a 20 kΩ potentiometer wired as a variable resistor.\n",
    "* R2 for each filter consists of a fixed resistor in series with a 100 kΩ potentiometer wired as a variable resistor.\n",
    "* The transfer function simplifies conveniently under the special case of R1 = R3 and C1 = C3\n",
    "* .step param Rtone list 1k 2k 5k 10k\n",
    "* ;.tran 0 60m 0\n",
    ".backanno\n",
    ".end\n",
    "```"
   ]
  },
  {
   "cell_type": "markdown",
   "id": "55210ca5-0712-4f42-aea0-1fe2733215a7",
   "metadata": {},
   "source": [
    "### Generate Network Equations and Symbolic Solution"
   ]
  },
  {
   "cell_type": "code",
   "execution_count": 44,
   "id": "facbe6a1-fdc6-4629-9be4-4c0491ca141f",
   "metadata": {},
   "outputs": [],
   "source": [
    "example_net_list = '''\n",
    "* Bandpass-Twin-T-Active-Filter.asc\n",
    "R1 3 1 1\n",
    "R2 4 5 1\n",
    "R3 2 5 1\n",
    "C1 5 1 1\n",
    "C2 4 3 1\n",
    "C3 2 3 1\n",
    "O1 4 0 2\n",
    "V1 1 0 1\n",
    "'''"
   ]
  },
  {
   "cell_type": "code",
   "execution_count": 45,
   "id": "f25317e1-376f-49ea-9559-5690efc8070a",
   "metadata": {},
   "outputs": [
    {
     "data": {
      "text/markdown": [
       "<p>$- C_{1} s v_{5} + I_{V1} + v_{1} \\left(C_{1} s + \\frac{1}{R_{1}}\\right) - \\frac{v_{3}}{R_{1}} = 0$</p><p>$- C_{3} s v_{3} + I_{O1} + v_{2} \\left(C_{3} s + \\frac{1}{R_{3}}\\right) - \\frac{v_{5}}{R_{3}} = 0$</p><p>$- C_{2} s v_{4} - C_{3} s v_{2} + v_{3} \\left(C_{2} s + C_{3} s + \\frac{1}{R_{1}}\\right) - \\frac{v_{1}}{R_{1}} = 0$</p><p>$- C_{2} s v_{3} + v_{4} \\left(C_{2} s + \\frac{1}{R_{2}}\\right) - \\frac{v_{5}}{R_{2}} = 0$</p><p>$- C_{1} s v_{1} + v_{5} \\left(C_{1} s + \\frac{1}{R_{3}} + \\frac{1}{R_{2}}\\right) - \\frac{v_{2}}{R_{3}} - \\frac{v_{4}}{R_{2}} = 0$</p><p>$v_{1} = V_{1}$</p><p>$v_{4} = 0$</p>"
      ],
      "text/plain": [
       "<IPython.core.display.Markdown object>"
      ]
     },
     "execution_count": 45,
     "metadata": {},
     "output_type": "execute_result"
    }
   ],
   "source": [
    "report, network_df, df2, A, X, Z = SymMNA.smna(example_net_list)\n",
    "\n",
    "# Put matrices into SymPy \n",
    "X = Matrix(X)\n",
    "Z = Matrix(Z)\n",
    "\n",
    "# generate network equations\n",
    "NE_sym = Eq(A*X,Z)\n",
    "\n",
    "# display the equations\n",
    "temp = ''\n",
    "for i in range(shape(NE_sym.lhs)[0]):\n",
    "    temp += '<p>${:s} = {:s}$</p>'.format(latex(NE_sym.lhs[i]),\n",
    "        latex(NE_sym.rhs[i]))\n",
    "\n",
    "Markdown(temp)"
   ]
  },
  {
   "cell_type": "markdown",
   "id": "a653fa29-6bce-41c3-a2b3-3cda265510e2",
   "metadata": {},
   "source": [
    "### Solve the Network Equations"
   ]
  },
  {
   "cell_type": "code",
   "execution_count": 46,
   "id": "cb02b181-703b-4ebc-beb6-1fea5e6aee08",
   "metadata": {},
   "outputs": [
    {
     "data": {
      "text/markdown": [
       "<p>$v_{1} = V_{1}$</p><p>$v_{2} = \\frac{- C_{1} C_{2} R_{1} R_{3} V_{1} s^{2} - C_{1} C_{2} R_{2} R_{3} V_{1} s^{2} - C_{1} C_{3} R_{1} R_{3} V_{1} s^{2} - C_{1} R_{3} V_{1} s - C_{2} R_{2} V_{1} s - C_{2} R_{3} V_{1} s}{C_{1} C_{2} C_{3} R_{1} R_{2} R_{3} s^{3} + C_{2} C_{3} R_{1} R_{2} s^{2} + C_{2} C_{3} R_{1} R_{3} s^{2} + C_{2} R_{1} s + C_{3} R_{1} s + 1}$</p><p>$v_{3} = \\frac{- C_{1} C_{3} R_{1} R_{3} V_{1} s^{2} + V_{1}}{C_{1} C_{2} C_{3} R_{1} R_{2} R_{3} s^{3} + C_{2} C_{3} R_{1} R_{2} s^{2} + C_{2} C_{3} R_{1} R_{3} s^{2} + C_{2} R_{1} s + C_{3} R_{1} s + 1}$</p><p>$v_{4} = 0$</p><p>$v_{5} = \\frac{C_{1} C_{2} C_{3} R_{1} R_{2} R_{3} V_{1} s^{3} - C_{2} R_{2} V_{1} s}{C_{1} C_{2} C_{3} R_{1} R_{2} R_{3} s^{3} + C_{2} C_{3} R_{1} R_{2} s^{2} + C_{2} C_{3} R_{1} R_{3} s^{2} + C_{2} R_{1} s + C_{3} R_{1} s + 1}$</p><p>$I_{V1} = \\frac{- C_{1} C_{2} C_{3} R_{1} R_{2} V_{1} s^{3} - C_{1} C_{2} C_{3} R_{1} R_{3} V_{1} s^{3} - C_{1} C_{2} C_{3} R_{2} R_{3} V_{1} s^{3} - C_{1} C_{2} R_{1} V_{1} s^{2} - C_{1} C_{2} R_{2} V_{1} s^{2} - C_{1} C_{3} R_{1} V_{1} s^{2} - C_{1} C_{3} R_{3} V_{1} s^{2} - C_{1} V_{1} s - C_{2} C_{3} R_{2} V_{1} s^{2} - C_{2} C_{3} R_{3} V_{1} s^{2} - C_{2} V_{1} s - C_{3} V_{1} s}{C_{1} C_{2} C_{3} R_{1} R_{2} R_{3} s^{3} + C_{2} C_{3} R_{1} R_{2} s^{2} + C_{2} C_{3} R_{1} R_{3} s^{2} + C_{2} R_{1} s + C_{3} R_{1} s + 1}$</p><p>$I_{O1} = \\frac{C_{1} C_{2} C_{3} R_{1} R_{2} V_{1} s^{3} + C_{1} C_{2} C_{3} R_{1} R_{3} V_{1} s^{3} + C_{1} C_{2} C_{3} R_{2} R_{3} V_{1} s^{3} + C_{1} C_{2} R_{1} V_{1} s^{2} + C_{1} C_{2} R_{2} V_{1} s^{2} + C_{1} C_{3} R_{1} V_{1} s^{2} + C_{1} C_{3} R_{3} V_{1} s^{2} + C_{1} V_{1} s + C_{2} C_{3} R_{2} V_{1} s^{2} + C_{2} C_{3} R_{3} V_{1} s^{2} + C_{2} V_{1} s + C_{3} V_{1} s}{C_{1} C_{2} C_{3} R_{1} R_{2} R_{3} s^{3} + C_{2} C_{3} R_{1} R_{2} s^{2} + C_{2} C_{3} R_{1} R_{3} s^{2} + C_{2} R_{1} s + C_{3} R_{1} s + 1}$</p>"
      ],
      "text/plain": [
       "<IPython.core.display.Markdown object>"
      ]
     },
     "execution_count": 46,
     "metadata": {},
     "output_type": "execute_result"
    }
   ],
   "source": [
    "# creat the variable list and load component values into the dictionary\n",
    "var(str(NE_sym.free_symbols).replace('{','').replace('}',''))\n",
    "nominal_component_value = SymMNA.get_part_values(network_df)\n",
    "\n",
    "# solve the equations\n",
    "U_sym = solve(NE_sym,X)\n",
    "\n",
    "# display the solution\n",
    "temp = ''\n",
    "for i in U_sym.keys():\n",
    "        temp += '<p>${:s} = {:s}$</p>'.format(latex(i),latex(U_sym[i]))\n",
    "\n",
    "Markdown(temp)"
   ]
  },
  {
   "cell_type": "markdown",
   "id": "01449706-ba8b-49ad-a536-f27d6dad5265",
   "metadata": {},
   "source": [
    "### Voltage Transfer Function "
   ]
  },
  {
   "cell_type": "code",
   "execution_count": 47,
   "id": "580cfaf6-8bd8-4e7e-bc09-f2bae9144c7c",
   "metadata": {},
   "outputs": [
    {
     "data": {
      "text/markdown": [
       "$H(s)=\\frac{s^{2} \\left(- C_{1} C_{2} R_{1} R_{3} - C_{1} C_{2} R_{2} R_{3} - C_{1} C_{3} R_{1} R_{3}\\right) + s \\left(- C_{1} R_{3} - C_{2} R_{2} - C_{2} R_{3}\\right)}{C_{1} C_{2} C_{3} R_{1} R_{2} R_{3} s^{3} + s^{2} \\left(C_{2} C_{3} R_{1} R_{2} + C_{2} C_{3} R_{1} R_{3}\\right) + s \\left(C_{2} R_{1} + C_{3} R_{1}\\right) + 1}$"
      ],
      "text/plain": [
       "<IPython.core.display.Markdown object>"
      ]
     },
     "execution_count": 47,
     "metadata": {},
     "output_type": "execute_result"
    }
   ],
   "source": [
    "H_sym = cancel(U_sym[v2]/U_sym[v1],s)\n",
    "Markdown('$H(s)={:s}$'.format(latex(H_sym)))"
   ]
  },
  {
   "cell_type": "code",
   "execution_count": 48,
   "id": "0b38063e-b514-4868-bd14-69d16bfedf9b",
   "metadata": {
    "tags": []
   },
   "outputs": [],
   "source": [
    "H_sym_num, H_sym_denom = fraction(H_sym,s) #returns numerator and denominator"
   ]
  },
  {
   "cell_type": "markdown",
   "id": "93a89a75-2dc7-4eeb-b198-5f45d6df47e1",
   "metadata": {},
   "source": [
    "### Numerator Polynominal\n",
    "The numerator polynominal is:"
   ]
  },
  {
   "cell_type": "code",
   "execution_count": 49,
   "id": "108454cb-cfe3-4417-812b-ae5d03afc32f",
   "metadata": {},
   "outputs": [
    {
     "data": {
      "text/markdown": [
       "$N(s)=s^{2} \\left(- C_{1} C_{2} R_{1} R_{3} - C_{1} C_{2} R_{2} R_{3} - C_{1} C_{3} R_{1} R_{3}\\right) + s \\left(- C_{1} R_{3} - C_{2} R_{2} - C_{2} R_{3}\\right)$"
      ],
      "text/plain": [
       "<IPython.core.display.Markdown object>"
      ]
     },
     "execution_count": 49,
     "metadata": {},
     "output_type": "execute_result"
    }
   ],
   "source": [
    "Markdown('$N(s)={:s}$'.format(latex(H_sym_num)))"
   ]
  },
  {
   "cell_type": "markdown",
   "id": "52b9a777-e904-488d-84c6-b0a459a446dc",
   "metadata": {},
   "source": [
    "The coeficients of each Laplace terms can be equated to the variables $b_2$, $b_1$ and $b_0$ in the expression: \n",
    "\n",
    "$b_2s^{2}+b_1s+b_0$\n",
    "\n",
    "where $b_2$, $b_1$ and $b_0$ are:"
   ]
  },
  {
   "cell_type": "code",
   "execution_count": 50,
   "id": "eff0de8f-962d-4646-aa8c-0b3b8c7bcc47",
   "metadata": {},
   "outputs": [
    {
     "data": {
      "text/markdown": [
       "<p>$b_2=- C_{1} C_{2} R_{1} R_{3} - C_{1} C_{2} R_{2} R_{3} - C_{1} C_{3} R_{1} R_{3}$</p><p>$b_1=- C_{1} R_{3} - C_{2} R_{2} - C_{2} R_{3}$</p><p>$b_0=0$</p>"
      ],
      "text/plain": [
       "<IPython.core.display.Markdown object>"
      ]
     },
     "execution_count": 50,
     "metadata": {},
     "output_type": "execute_result"
    }
   ],
   "source": [
    "b2 = H_sym_num.coeff(s**2)\n",
    "b1 = H_sym_num.coeff(s**1)\n",
    "b0 = H_sym_num - b1*s*1 - b2*s**2\n",
    "\n",
    "Markdown('<p>$b_2={:s}$</p><p>$b_1={:s}$</p><p>$b_0={:s}$</p>'.format(latex(b2),latex(b1),latex(b0)))"
   ]
  },
  {
   "cell_type": "markdown",
   "id": "389c03dd-d485-4f0c-9c76-6f24e1a67e61",
   "metadata": {},
   "source": [
    "### Denominator Polynominal"
   ]
  },
  {
   "cell_type": "code",
   "execution_count": 51,
   "id": "d540ecbf-690b-4d67-93cd-1101e0e5c9b1",
   "metadata": {},
   "outputs": [
    {
     "data": {
      "text/markdown": [
       "$D(s)=C_{1} C_{2} C_{3} R_{1} R_{2} R_{3} s^{3} + s^{2} \\left(C_{2} C_{3} R_{1} R_{2} + C_{2} C_{3} R_{1} R_{3}\\right) + s \\left(C_{2} R_{1} + C_{3} R_{1}\\right) + 1$"
      ],
      "text/plain": [
       "<IPython.core.display.Markdown object>"
      ]
     },
     "execution_count": 51,
     "metadata": {},
     "output_type": "execute_result"
    }
   ],
   "source": [
    "Markdown('$D(s)={:s}$'.format(latex(H_sym_denom)))"
   ]
  },
  {
   "cell_type": "markdown",
   "id": "d6c341e2-ab0c-4e39-9499-b2b38b43a155",
   "metadata": {},
   "source": [
    "The coeficients of each Laplace terms can be equated to the variables $a_3$, $a_2$, $a_1$ and $a_0$ in the expression: \n",
    "\n",
    "$a_3s^3+a_2s^2+a_1s+a_0$\n",
    "\n",
    "where $a_3$, $a_2$, $a_1$ and $a_0$ are:"
   ]
  },
  {
   "cell_type": "code",
   "execution_count": 52,
   "id": "9a5482a0-6a4a-4ca8-a9dd-434b1de40a95",
   "metadata": {},
   "outputs": [
    {
     "data": {
      "text/markdown": [
       "<p>$a_3=C_{1} C_{2} C_{3} R_{1} R_{2} R_{3}$</p><p>$a_2=C_{2} C_{3} R_{1} R_{2} + C_{2} C_{3} R_{1} R_{3}$</p><p>$a_1=C_{2} R_{1} + C_{3} R_{1}$</p><p>$a_0=1$</p>"
      ],
      "text/plain": [
       "<IPython.core.display.Markdown object>"
      ]
     },
     "execution_count": 52,
     "metadata": {},
     "output_type": "execute_result"
    }
   ],
   "source": [
    "a3 = H_sym_denom.coeff(s**3)\n",
    "a2 = H_sym_denom.coeff(s**2)\n",
    "a1 = H_sym_denom.coeff(s**1)\n",
    "a0 = H_sym_denom - a1*s*1 - a2*s**2 - a3*s**3\n",
    "Markdown('<p>$a_3={:s}$</p><p>$a_2={:s}$</p><p>$a_1={:s}$</p><p>$a_0={:s}$</p>'.format(latex(a3), latex(a2),latex(a1),latex(a0)))"
   ]
  },
  {
   "cell_type": "markdown",
   "id": "c8403abf-2e67-4044-ae88-5e25407f7667",
   "metadata": {},
   "source": [
    "### Reduced complexity"
   ]
  },
  {
   "cell_type": "code",
   "execution_count": 53,
   "id": "672dfc8f-0ab0-431f-a8d1-797077c41ca2",
   "metadata": {},
   "outputs": [
    {
     "data": {
      "image/png": "[encoded data removed]",
      "text/latex": [
       "$\\displaystyle \\frac{s \\left(- C R - C_{2} R - C_{2} R_{2}\\right)}{C C_{2} R R_{2} s^{2} + C_{2} R s + 1}$"
      ],
      "text/plain": [
       " s⋅(-C⋅R - C₂⋅R - C₂⋅R₂) \n",
       "─────────────────────────\n",
       "           2             \n",
       "C⋅C₂⋅R⋅R₂⋅s  + C₂⋅R⋅s + 1"
      ]
     },
     "execution_count": 53,
     "metadata": {},
     "output_type": "execute_result"
    }
   ],
   "source": [
    "sub_values = {R1:R, R3:R, C1:C, C3:C}\n",
    "H_sym_rc = H_sym.subs(sub_values).simplify()\n",
    "H_sym_rc"
   ]
  },
  {
   "cell_type": "markdown",
   "id": "fa666994-9bc7-46ff-8787-dd5ebe7021b6",
   "metadata": {},
   "source": [
    "Characteristic polynomial is 2nd order"
   ]
  },
  {
   "cell_type": "code",
   "execution_count": 54,
   "id": "a4050032-3e7a-433e-8d97-95b81a904a60",
   "metadata": {
    "tags": []
   },
   "outputs": [],
   "source": [
    "H_sym_num, H_sym_denom = fraction(H_sym_rc) #returns numerator and denominator"
   ]
  },
  {
   "cell_type": "code",
   "execution_count": 55,
   "id": "8e0155f1-ad59-4fd9-a594-2432877f7651",
   "metadata": {},
   "outputs": [
    {
     "data": {
      "text/markdown": [
       "<p>$a=C C_{2} R R_{2}$</p><p>    $b=C_{2} R$</p><p>$c=1$</p>"
      ],
      "text/plain": [
       "<IPython.core.display.Markdown object>"
      ]
     },
     "execution_count": 55,
     "metadata": {},
     "output_type": "execute_result"
    }
   ],
   "source": [
    "a = H_sym_denom.coeff(s**2)\n",
    "b = H_sym_denom.coeff(s**1)\n",
    "c = H_sym_denom - b*s*1 - a*s**2\n",
    "Markdown('<p>$a={:s}$</p><p>\\\n",
    "    $b={:s}$</p><p>$c={:s}$</p>'.format(latex(a),latex(b),latex(c)))"
   ]
  },
  {
   "cell_type": "code",
   "execution_count": 56,
   "id": "5d47d2cd-64bd-4d87-bdc1-413df2b2027f",
   "metadata": {},
   "outputs": [],
   "source": [
    "omega_n, Q_factor = symbols('omega_n Q_factor')"
   ]
  },
  {
   "cell_type": "code",
   "execution_count": 57,
   "id": "4210722f-8d37-45a9-9c44-8b2e061bf7bc",
   "metadata": {},
   "outputs": [
    {
     "data": {
      "text/markdown": [
       "$\\omega_n = \\sqrt{\\frac{1}{C C_{2} R R_{2}}}$"
      ],
      "text/plain": [
       "<IPython.core.display.Markdown object>"
      ]
     },
     "execution_count": 57,
     "metadata": {},
     "output_type": "execute_result"
    }
   ],
   "source": [
    "omega_n = solve(omega_n**2 - c/a, omega_n)[1]\n",
    "Markdown('$\\omega_n = {:s}$'.format(latex(omega_n)))"
   ]
  },
  {
   "cell_type": "code",
   "execution_count": 58,
   "id": "1a1b320c-662c-4e99-84ec-f933daa94c2a",
   "metadata": {},
   "outputs": [
    {
     "data": {
      "text/markdown": [
       "$Q = C R_{2} \\sqrt{\\frac{1}{C C_{2} R R_{2}}}$"
      ],
      "text/plain": [
       "<IPython.core.display.Markdown object>"
      ]
     },
     "execution_count": 58,
     "metadata": {},
     "output_type": "execute_result"
    }
   ],
   "source": [
    "Q_factor = solve(omega_n/Q_factor - b/a, Q_factor)[0]\n",
    "Markdown('$Q = {:s}$'.format(latex(Q_factor)))"
   ]
  },
  {
   "cell_type": "markdown",
   "id": "1b93d0ab-58ef-4f52-a438-c08c9d274b3d",
   "metadata": {},
   "source": [
    "### Design example\n",
    "Design for $\\omega_n=1000$"
   ]
  },
  {
   "cell_type": "code",
   "execution_count": 59,
   "id": "fb26d902-5b6a-410a-93c9-b5db618059fb",
   "metadata": {},
   "outputs": [],
   "source": [
    "freq = 1e3 # Hz\n",
    "C_value = 10e-9\n",
    "R_value = 100e3\n",
    "C2_value = 0.47e-9"
   ]
  },
  {
   "cell_type": "code",
   "execution_count": 60,
   "id": "e712f0c4-2283-4120-bdb0-56fd31c81891",
   "metadata": {},
   "outputs": [],
   "source": [
    "R2_value = solve(omega_n.subs({R:R_value, C:C_value, C2:C2_value})-freq*2*np.pi, R2)[0]"
   ]
  },
  {
   "cell_type": "code",
   "execution_count": 61,
   "id": "64420c7f-aba5-4439-aab4-b913b098bda0",
   "metadata": {},
   "outputs": [
    {
     "data": {
      "image/png": "[encoded data removed]",
      "text/latex": [
       "$\\displaystyle \\frac{- 1.07233029591058 \\cdot 10^{-6} s^{2} - 0.00107233029591058 s}{2.53302959105846 \\cdot 10^{-11} s^{3} + 7.23302959105846 \\cdot 10^{-8} s^{2} + 0.001047 s + 1}$"
      ],
      "text/plain": [
       "                                2                                \n",
       "         - 1.07233029591058e-6⋅s  - 0.00107233029591058⋅s        \n",
       "─────────────────────────────────────────────────────────────────\n",
       "                      3                        2                 \n",
       "2.53302959105846e-11⋅s  + 7.23302959105846e-8⋅s  + 0.001047⋅s + 1"
      ]
     },
     "execution_count": 61,
     "metadata": {},
     "output_type": "execute_result"
    }
   ],
   "source": [
    "sub_values = {R1:R_value, R2:R2_value, R3:R_value, C1:C_value, C2:C2_value, C3:C_value}\n",
    "H_sym.subs(sub_values)"
   ]
  },
  {
   "cell_type": "code",
   "execution_count": 62,
   "id": "f4c6adc2-aeea-4155-9218-be1e5610bcd4",
   "metadata": {
    "collapsed": false,
    "jupyter": {
     "outputs_hidden": false
    }
   },
   "outputs": [],
   "source": [
    "H_num, H_denom = fraction(H_sym.subs(sub_values)) #returns numerator and denominator\n",
    "\n",
    "# convert symbolic to numpy polynomial\n",
    "a = np.array(Poly(H_num, s).all_coeffs(), dtype=float)\n",
    "b = np.array(Poly(H_denom, s).all_coeffs(), dtype=float)\n",
    "sys_tf = signal.TransferFunction(a,b)"
   ]
  },
  {
   "cell_type": "markdown",
   "id": "c68a0ef5-c021-479a-a3da-5c1080d6586a",
   "metadata": {},
   "source": [
    "The poles and zeros of the transfer function are plotted below:"
   ]
  },
  {
   "cell_type": "code",
   "execution_count": 63,
   "id": "e0161be6-0a96-47c7-ad28-fee44beb8e5d",
   "metadata": {},
   "outputs": [
    {
     "data": {
      "image/png": "[encoded data removed]",
      "text/plain": [
       "<Figure size 640x480 with 1 Axes>"
      ]
     },
     "metadata": {},
     "output_type": "display_data"
    }
   ],
   "source": [
    "sys_zeros = np.roots(sys_tf.num)\n",
    "sys_poles = np.roots(sys_tf.den)\n",
    "\n",
    "plt.plot(np.real(sys_zeros), np.imag(sys_zeros), 'ob', markerfacecolor='none')\n",
    "plt.plot(np.real(sys_poles), np.imag(sys_poles), 'xr')\n",
    "plt.legend(['Zeros', 'Poles'], loc=0)\n",
    "plt.title('Pole / Zero Plot')\n",
    "plt.xlabel('real part, \\u03B1')\n",
    "plt.ylabel('imaginary part, j\\u03C9')\n",
    "plt.grid()\n",
    "plt.show()"
   ]
  },
  {
   "cell_type": "markdown",
   "id": "357b69cd-a0fc-4f72-adc1-dabf06ec9328",
   "metadata": {},
   "source": [
    "The units of the poles and zeros are in radian frequency and are tabulated below."
   ]
  },
  {
   "cell_type": "code",
   "execution_count": 64,
   "id": "bc1f5484-e779-4965-a0a5-3282e5952c03",
   "metadata": {},
   "outputs": [
    {
     "name": "stdout",
     "output_type": "stream",
     "text": [
      "Zeros, rad/s    Poles, rad/s\n",
      "--------------  ----------------\n",
      "-1000.00        -927.74+6214.31j\n",
      "0.00            -927.74-6214.31j\n",
      "                -1000.00+0.00j\n"
     ]
    }
   ],
   "source": [
    "table_header = ['Zeros, rad/s', 'Poles, rad/s']\n",
    "num_table_rows = max(len(sys_zeros),len(sys_poles))\n",
    "table_row = []\n",
    "\n",
    "for i in range(num_table_rows):\n",
    "    if i < len(sys_zeros):\n",
    "        z = '{:.2f}'.format(sys_zeros[i])\n",
    "    else:\n",
    "        z = ''\n",
    "    if i < len(sys_poles):\n",
    "        p = '{:.2f}'.format(sys_poles[i])\n",
    "    else:\n",
    "        p = ''\n",
    "    table_row.append([z,p])\n",
    "\n",
    "print(tabulate(table_row, headers=table_header,colalign = ('left','left'),tablefmt=\"simple\"))"
   ]
  },
  {
   "cell_type": "markdown",
   "id": "62c24a43-2578-4fe4-9697-370cfa87f76a",
   "metadata": {},
   "source": [
    "The magnitude and phase of the filter's transfer function is plotted below."
   ]
  },
  {
   "cell_type": "code",
   "execution_count": 65,
   "id": "405fc001-68df-4711-88e5-e0170110b794",
   "metadata": {},
   "outputs": [
    {
     "data": {
      "image/png": "[encoded data removed]",
      "text/plain": [
       "<Figure size 640x480 with 2 Axes>"
      ]
     },
     "metadata": {},
     "output_type": "display_data"
    }
   ],
   "source": [
    "x = np.logspace(1, 5, 500, endpoint=True)*2*np.pi\n",
    "w, mag, phase = signal.bode(sys_tf, w=x) # returns: rad/s, mag in dB, phase in deg\n",
    "\n",
    "fig, ax1 = plt.subplots()\n",
    "ax1.set_ylabel('magnitude, dB')\n",
    "ax1.set_xlabel('frequency, Hz')\n",
    "\n",
    "plt.semilogx(w/(2*np.pi), mag,'-b')    # magnitude plot\n",
    "#ax1.set_ylim(-1,1)\n",
    "ax1.tick_params(axis='y')\n",
    "plt.grid()\n",
    "\n",
    "# instantiate a second y-axes that shares the same x-axis\n",
    "ax2 = ax1.twinx()\n",
    "color = 'tab:red'\n",
    "\n",
    "plt.semilogx(w/(2*np.pi), phase,':',color='tab:red')  # phase plot\n",
    "\n",
    "ax2.set_ylabel('phase, deg',color=color)\n",
    "ax2.tick_params(axis='y', labelcolor=color)\n",
    "\n",
    "plt.title('Magnitude and phase plot')\n",
    "plt.show()"
   ]
  },
  {
   "cell_type": "markdown",
   "id": "971f08fc-88e4-4c6e-a4c7-6eac4edb9fd9",
   "metadata": {},
   "source": [
    "The step response is plotted below."
   ]
  },
  {
   "cell_type": "code",
   "execution_count": 66,
   "id": "e03816b8-6a14-4a52-b1f1-bd226fc6cb68",
   "metadata": {},
   "outputs": [
    {
     "data": {
      "image/png": "[encoded data removed]",
      "text/plain": [
       "<Figure size 640x480 with 1 Axes>"
      ]
     },
     "metadata": {},
     "output_type": "display_data"
    }
   ],
   "source": [
    "# define the time interval and create a square wave step waveform.\n",
    "t = np.linspace(0, 0.05, 500, endpoint=False)\n",
    "sqr_signal = signal.square(2*np.pi*40*t, duty=0.5)\n",
    "\n",
    "# call lsim to generate the response signal\n",
    "t_step, y_step, x_step = signal.lsim(sys_tf, U=sqr_signal, T=t)\n",
    "\n",
    "plt.plot(t_step, sqr_signal, 'r', alpha = 1.0, linewidth=1, label='input')\n",
    "plt.plot(t_step, y_step,'b', linewidth = 1.0, label='output')\n",
    "plt.title('Step response')\n",
    "plt.ylabel('volts')\n",
    "plt.xlabel('time, sec')\n",
    "plt.grid()\n",
    "plt.legend(loc='best')\n",
    "# show plot\n",
    "plt.show()"
   ]
  },
  {
   "cell_type": "code",
   "execution_count": null,
   "id": "96f20657-6168-4d9d-86a4-4a2f84dc9d31",
   "metadata": {},
   "outputs": [],
   "source": []
  },
  {
   "cell_type": "markdown",
   "id": "4382bda0-7d03-4185-8126-522cd8cc773f",
   "metadata": {
    "tags": []
   },
   "source": [
    "## Band Reject Filter Variations\n",
    "\n",
    "### Circuit description\n",
    "\n",
    "\n",
    "### BR variation 1\n",
    "\n"
   ]
  },
  {
   "cell_type": "markdown",
   "id": "ddaf7a53-d94d-4abe-9a42-3b7c3f987ef2",
   "metadata": {},
   "source": [
    "## BR\n",
    "This Twin-T needs some work, ing gain at Dc and inf. Netlist changed to ground C3\n",
    "\n",
    "![](BR3-Twin-T-Active-Filter.png)"
   ]
  },
  {
   "cell_type": "code",
   "execution_count": 67,
   "id": "5e5037b4-8039-4036-a7db-62d869e3c347",
   "metadata": {},
   "outputs": [],
   "source": [
    "example_net_list = '''\n",
    "* BR3-Twin-T-Active-Filter.asc\n",
    "R1 3 1 1\n",
    "R2 4 3 1\n",
    "R3 2 5 1\n",
    "C1 5 1 1\n",
    "C2 4 5 1\n",
    "C3 0 3 1\n",
    "O1 2 4 2\n",
    "V1 1 0 1\n",
    "'''"
   ]
  },
  {
   "cell_type": "code",
   "execution_count": 68,
   "id": "c93abc2f-5cec-4435-8292-fd364200f603",
   "metadata": {},
   "outputs": [
    {
     "data": {
      "text/markdown": [
       "<p>$- C_{1} s v_{5} + I_{V1} + v_{1} \\left(C_{1} s + \\frac{1}{R_{1}}\\right) - \\frac{v_{3}}{R_{1}} = 0$</p><p>$I_{O1} + \\frac{v_{2}}{R_{3}} - \\frac{v_{5}}{R_{3}} = 0$</p><p>$v_{3} \\left(C_{3} s + \\frac{1}{R_{2}} + \\frac{1}{R_{1}}\\right) - \\frac{v_{4}}{R_{2}} - \\frac{v_{1}}{R_{1}} = 0$</p><p>$- C_{2} s v_{5} + v_{4} \\left(C_{2} s + \\frac{1}{R_{2}}\\right) - \\frac{v_{3}}{R_{2}} = 0$</p><p>$- C_{1} s v_{1} - C_{2} s v_{4} + v_{5} \\left(C_{1} s + C_{2} s + \\frac{1}{R_{3}}\\right) - \\frac{v_{2}}{R_{3}} = 0$</p><p>$v_{1} = V_{1}$</p><p>$v_{2} - v_{4} = 0$</p>"
      ],
      "text/plain": [
       "<IPython.core.display.Markdown object>"
      ]
     },
     "execution_count": 68,
     "metadata": {},
     "output_type": "execute_result"
    }
   ],
   "source": [
    "report, network_df, df2, A, X, Z = SymMNA.smna(example_net_list)\n",
    "\n",
    "# Put matrices into SymPy \n",
    "X = Matrix(X)\n",
    "Z = Matrix(Z)\n",
    "\n",
    "# generate network equations\n",
    "NE_sym = Eq(A*X,Z)\n",
    "\n",
    "# display the equations\n",
    "temp = ''\n",
    "for i in range(shape(NE_sym.lhs)[0]):\n",
    "    temp += '<p>${:s} = {:s}$</p>'.format(latex(NE_sym.lhs[i]),\n",
    "        latex(NE_sym.rhs[i]))\n",
    "\n",
    "Markdown(temp)"
   ]
  },
  {
   "cell_type": "markdown",
   "id": "757e78b1-bd59-4b8a-ba18-0d8677a1ffac",
   "metadata": {},
   "source": [
    "### Solve the Network Equations"
   ]
  },
  {
   "cell_type": "code",
   "execution_count": 69,
   "id": "bc25ff74-32ef-4db2-b1b0-4bdaf83ddac3",
   "metadata": {},
   "outputs": [
    {
     "data": {
      "text/markdown": [
       "<p>$v_{1} = V_{1}$</p><p>$v_{2} = \\frac{C_{1} C_{2} C_{3} R_{1} R_{2} R_{3} V_{1} s^{3} + C_{1} C_{2} R_{1} R_{3} V_{1} s^{2} + C_{1} C_{2} R_{2} R_{3} V_{1} s^{2} + C_{1} R_{3} V_{1} s + C_{2} R_{3} V_{1} s + V_{1}}{C_{1} C_{2} C_{3} R_{1} R_{2} R_{3} s^{3} + C_{1} C_{2} R_{1} R_{3} s^{2} + C_{1} C_{2} R_{2} R_{3} s^{2} + C_{1} C_{3} R_{1} R_{3} s^{2} + C_{1} R_{3} s + C_{2} C_{3} R_{1} R_{3} s^{2} + C_{2} R_{3} s + C_{3} R_{1} s + 1}$</p><p>$v_{3} = \\frac{C_{1} C_{2} R_{1} R_{3} V_{1} s^{2} + C_{1} C_{2} R_{2} R_{3} V_{1} s^{2} + C_{1} R_{3} V_{1} s + C_{2} R_{3} V_{1} s + V_{1}}{C_{1} C_{2} C_{3} R_{1} R_{2} R_{3} s^{3} + C_{1} C_{2} R_{1} R_{3} s^{2} + C_{1} C_{2} R_{2} R_{3} s^{2} + C_{1} C_{3} R_{1} R_{3} s^{2} + C_{1} R_{3} s + C_{2} C_{3} R_{1} R_{3} s^{2} + C_{2} R_{3} s + C_{3} R_{1} s + 1}$</p><p>$v_{4} = \\frac{C_{1} C_{2} C_{3} R_{1} R_{2} R_{3} V_{1} s^{3} + C_{1} C_{2} R_{1} R_{3} V_{1} s^{2} + C_{1} C_{2} R_{2} R_{3} V_{1} s^{2} + C_{1} R_{3} V_{1} s + C_{2} R_{3} V_{1} s + V_{1}}{C_{1} C_{2} C_{3} R_{1} R_{2} R_{3} s^{3} + C_{1} C_{2} R_{1} R_{3} s^{2} + C_{1} C_{2} R_{2} R_{3} s^{2} + C_{1} C_{3} R_{1} R_{3} s^{2} + C_{1} R_{3} s + C_{2} C_{3} R_{1} R_{3} s^{2} + C_{2} R_{3} s + C_{3} R_{1} s + 1}$</p><p>$v_{5} = \\frac{C_{1} C_{2} C_{3} R_{1} R_{2} R_{3} V_{1} s^{3} + C_{1} C_{2} R_{1} R_{3} V_{1} s^{2} + C_{1} C_{2} R_{2} R_{3} V_{1} s^{2} + C_{1} C_{3} R_{1} R_{3} V_{1} s^{2} + C_{1} R_{3} V_{1} s + C_{2} R_{3} V_{1} s + V_{1}}{C_{1} C_{2} C_{3} R_{1} R_{2} R_{3} s^{3} + C_{1} C_{2} R_{1} R_{3} s^{2} + C_{1} C_{2} R_{2} R_{3} s^{2} + C_{1} C_{3} R_{1} R_{3} s^{2} + C_{1} R_{3} s + C_{2} C_{3} R_{1} R_{3} s^{2} + C_{2} R_{3} s + C_{3} R_{1} s + 1}$</p><p>$I_{V1} = \\frac{- C_{1} C_{2} C_{3} R_{1} R_{3} V_{1} s^{3} - C_{1} C_{2} C_{3} R_{2} R_{3} V_{1} s^{3} - C_{1} C_{3} R_{1} V_{1} s^{2} - C_{1} C_{3} R_{3} V_{1} s^{2} - C_{2} C_{3} R_{3} V_{1} s^{2} - C_{3} V_{1} s}{C_{1} C_{2} C_{3} R_{1} R_{2} R_{3} s^{3} + C_{1} C_{2} R_{1} R_{3} s^{2} + C_{1} C_{2} R_{2} R_{3} s^{2} + C_{1} C_{3} R_{1} R_{3} s^{2} + C_{1} R_{3} s + C_{2} C_{3} R_{1} R_{3} s^{2} + C_{2} R_{3} s + C_{3} R_{1} s + 1}$</p><p>$I_{O1} = \\frac{C_{1} C_{3} R_{1} V_{1} s^{2}}{C_{1} C_{2} C_{3} R_{1} R_{2} R_{3} s^{3} + C_{1} C_{2} R_{1} R_{3} s^{2} + C_{1} C_{2} R_{2} R_{3} s^{2} + C_{1} C_{3} R_{1} R_{3} s^{2} + C_{1} R_{3} s + C_{2} C_{3} R_{1} R_{3} s^{2} + C_{2} R_{3} s + C_{3} R_{1} s + 1}$</p>"
      ],
      "text/plain": [
       "<IPython.core.display.Markdown object>"
      ]
     },
     "execution_count": 69,
     "metadata": {},
     "output_type": "execute_result"
    }
   ],
   "source": [
    "# creat the variable list and load component values into the dictionary\n",
    "var(str(NE_sym.free_symbols).replace('{','').replace('}',''))\n",
    "nominal_component_value = SymMNA.get_part_values(network_df)\n",
    "\n",
    "# solve the equations\n",
    "U_sym = solve(NE_sym,X)\n",
    "\n",
    "# display the solution\n",
    "temp = ''\n",
    "for i in U_sym.keys():\n",
    "        temp += '<p>${:s} = {:s}$</p>'.format(latex(i),latex(U_sym[i]))\n",
    "\n",
    "Markdown(temp)"
   ]
  },
  {
   "cell_type": "markdown",
   "id": "0a967eef-6830-41d1-aae4-ea21b505e417",
   "metadata": {},
   "source": [
    "### Voltage Transfer Function "
   ]
  },
  {
   "cell_type": "code",
   "execution_count": 70,
   "id": "5a059b96-b388-41d7-8725-845dd3233f3b",
   "metadata": {},
   "outputs": [
    {
     "data": {
      "text/markdown": [
       "$H(s)=\\frac{C_{1} C_{2} C_{3} R_{1} R_{2} R_{3} s^{3} + s^{2} \\left(C_{1} C_{2} R_{1} R_{3} + C_{1} C_{2} R_{2} R_{3}\\right) + s \\left(C_{1} R_{3} + C_{2} R_{3}\\right) + 1}{C_{1} C_{2} C_{3} R_{1} R_{2} R_{3} s^{3} + s^{2} \\left(C_{1} C_{2} R_{1} R_{3} + C_{1} C_{2} R_{2} R_{3} + C_{1} C_{3} R_{1} R_{3} + C_{2} C_{3} R_{1} R_{3}\\right) + s \\left(C_{1} R_{3} + C_{2} R_{3} + C_{3} R_{1}\\right) + 1}$"
      ],
      "text/plain": [
       "<IPython.core.display.Markdown object>"
      ]
     },
     "execution_count": 70,
     "metadata": {},
     "output_type": "execute_result"
    }
   ],
   "source": [
    "H_sym = cancel(U_sym[v2]/U_sym[v1],s)\n",
    "Markdown('$H(s)={:s}$'.format(latex(H_sym)))"
   ]
  },
  {
   "cell_type": "code",
   "execution_count": 71,
   "id": "05a6177d-3f70-4117-9165-cc4918c372dd",
   "metadata": {
    "tags": []
   },
   "outputs": [],
   "source": [
    "H_sym_num, H_sym_denom = fraction(H_sym,s) #returns numerator and denominator"
   ]
  },
  {
   "cell_type": "markdown",
   "id": "83b67b12-53e9-42a2-afd0-d979fccaf0a9",
   "metadata": {},
   "source": [
    "### Numerator Polynominal\n",
    "The numerator polynominal is:"
   ]
  },
  {
   "cell_type": "code",
   "execution_count": 72,
   "id": "c5a8ae81-c499-4c8b-9096-10fb6c74194c",
   "metadata": {},
   "outputs": [
    {
     "data": {
      "text/markdown": [
       "$N(s)=C_{1} C_{2} C_{3} R_{1} R_{2} R_{3} s^{3} + s^{2} \\left(C_{1} C_{2} R_{1} R_{3} + C_{1} C_{2} R_{2} R_{3}\\right) + s \\left(C_{1} R_{3} + C_{2} R_{3}\\right) + 1$"
      ],
      "text/plain": [
       "<IPython.core.display.Markdown object>"
      ]
     },
     "execution_count": 72,
     "metadata": {},
     "output_type": "execute_result"
    }
   ],
   "source": [
    "Markdown('$N(s)={:s}$'.format(latex(H_sym_num)))"
   ]
  },
  {
   "cell_type": "markdown",
   "id": "65df2faa-0055-4fc1-bbee-15be776aa383",
   "metadata": {},
   "source": [
    "The coeficients of each Laplace terms can be equated to the variables $b_2$, $b_1$ and $b_0$ in the expression: \n",
    "\n",
    "$b_2s^{2}+b_1s+b_0$\n",
    "\n",
    "where $b_2$, $b_1$ and $b_0$ are:"
   ]
  },
  {
   "cell_type": "code",
   "execution_count": 73,
   "id": "3d3dacbb-efda-4933-8ce6-d1faaa253854",
   "metadata": {},
   "outputs": [
    {
     "data": {
      "text/markdown": [
       "<p>$b_3=C_{1} C_{2} C_{3} R_{1} R_{2} R_{3}$</p><p>$b_2=C_{1} C_{2} R_{1} R_{3} + C_{1} C_{2} R_{2} R_{3}$</p><p>$b_1=C_{1} R_{3} + C_{2} R_{3}$</p><p>$b_0=1$</p>"
      ],
      "text/plain": [
       "<IPython.core.display.Markdown object>"
      ]
     },
     "execution_count": 73,
     "metadata": {},
     "output_type": "execute_result"
    }
   ],
   "source": [
    "b3 = H_sym_num.coeff(s**3)\n",
    "b2 = H_sym_num.coeff(s**2)\n",
    "b1 = H_sym_num.coeff(s**1)\n",
    "b0 = H_sym_num - b1*s*1 - b2*s**2 - b3*s**3\n",
    "\n",
    "Markdown('<p>$b_3={:s}$</p><p>$b_2={:s}$</p><p>$b_1={:s}$</p><p>$b_0={:s}$</p>'.format(latex(b3),latex(b2),latex(b1),latex(b0)))"
   ]
  },
  {
   "cell_type": "markdown",
   "id": "5b20244e-15a8-48b7-ad7d-da3302590372",
   "metadata": {},
   "source": [
    "### Denominator Polynominal"
   ]
  },
  {
   "cell_type": "code",
   "execution_count": 74,
   "id": "2b998c9f-6dde-49ad-b8bc-82981215147c",
   "metadata": {},
   "outputs": [
    {
     "data": {
      "text/markdown": [
       "$D(s)=C_{1} C_{2} C_{3} R_{1} R_{2} R_{3} s^{3} + s^{2} \\left(C_{1} C_{2} R_{1} R_{3} + C_{1} C_{2} R_{2} R_{3} + C_{1} C_{3} R_{1} R_{3} + C_{2} C_{3} R_{1} R_{3}\\right) + s \\left(C_{1} R_{3} + C_{2} R_{3} + C_{3} R_{1}\\right) + 1$"
      ],
      "text/plain": [
       "<IPython.core.display.Markdown object>"
      ]
     },
     "execution_count": 74,
     "metadata": {},
     "output_type": "execute_result"
    }
   ],
   "source": [
    "Markdown('$D(s)={:s}$'.format(latex(H_sym_denom)))"
   ]
  },
  {
   "cell_type": "markdown",
   "id": "63b6a466-30c2-4c37-b949-e2bb91f51911",
   "metadata": {},
   "source": [
    "The coeficients of each Laplace terms can be equated to the variables $a_3$, $a_2$, $a_1$ and $a_0$ in the expression: \n",
    "\n",
    "$a_3s^3+a_2s^2+a_1s+a_0$\n",
    "\n",
    "where $a_3$, $a_2$, $a_1$ and $a_0$ are:"
   ]
  },
  {
   "cell_type": "code",
   "execution_count": 75,
   "id": "953e976f-b47e-4bfd-acaa-107fdac6a687",
   "metadata": {},
   "outputs": [
    {
     "data": {
      "text/markdown": [
       "<p>$a_3=C_{1} C_{2} C_{3} R_{1} R_{2} R_{3}$</p><p>$a_2=C_{1} C_{2} R_{1} R_{3} + C_{1} C_{2} R_{2} R_{3} + C_{1} C_{3} R_{1} R_{3} + C_{2} C_{3} R_{1} R_{3}$</p><p>$a_1=C_{1} R_{3} + C_{2} R_{3} + C_{3} R_{1}$</p><p>$a_0=1$</p>"
      ],
      "text/plain": [
       "<IPython.core.display.Markdown object>"
      ]
     },
     "execution_count": 75,
     "metadata": {},
     "output_type": "execute_result"
    }
   ],
   "source": [
    "a3 = H_sym_denom.coeff(s**3)\n",
    "a2 = H_sym_denom.coeff(s**2)\n",
    "a1 = H_sym_denom.coeff(s**1)\n",
    "a0 = H_sym_denom - a1*s*1 - a2*s**2 - a3*s**3\n",
    "Markdown('<p>$a_3={:s}$</p><p>$a_2={:s}$</p><p>$a_1={:s}$</p><p>$a_0={:s}$</p>'.format(latex(a3), latex(a2),latex(a1),latex(a0)))"
   ]
  },
  {
   "cell_type": "markdown",
   "id": "ece53c43-0941-4660-8242-83541b60e47c",
   "metadata": {},
   "source": [
    "### Design example\n",
    "Design for $\\omega_n=1000$"
   ]
  },
  {
   "cell_type": "code",
   "execution_count": 76,
   "id": "61b7c2dc-8899-4f0c-a944-22ecef774bda",
   "metadata": {},
   "outputs": [],
   "source": [
    "freq = 1e3 # Hz\n",
    "C_value = 10e-9\n",
    "R_value = 100e3\n",
    "C2_value = 0.47e-9"
   ]
  },
  {
   "cell_type": "code",
   "execution_count": 77,
   "id": "e69364a4-4cb2-44fb-805f-6ad7ab136f1a",
   "metadata": {},
   "outputs": [
    {
     "data": {
      "image/png": "[encoded data removed]",
      "text/latex": [
       "$\\displaystyle 53894.246618265$"
      ],
      "text/plain": [
       "53894.2466182650"
      ]
     },
     "execution_count": 77,
     "metadata": {},
     "output_type": "execute_result"
    }
   ],
   "source": [
    "R2_value"
   ]
  },
  {
   "cell_type": "raw",
   "id": "f08a185b-34a8-488a-9700-99de1dfeaacd",
   "metadata": {},
   "source": [
    "freq = 1e3 # Hz\n",
    "C_value = 10e-9\n",
    "R_value = 100e3\n",
    "C2_value = 0.47e-9"
   ]
  },
  {
   "cell_type": "raw",
   "id": "bd374ec8-f090-46ae-bdb6-2400c754698a",
   "metadata": {},
   "source": [
    "R2_value = solve(omega_n.subs({R:R_value, C:C_value, C2:C2_value})-freq*2*np.pi, R2)[0]"
   ]
  },
  {
   "cell_type": "code",
   "execution_count": 78,
   "id": "302dd681-3d24-4fff-a304-f67c711f6edb",
   "metadata": {},
   "outputs": [
    {
     "data": {
      "image/png": "[encoded data removed]",
      "text/latex": [
       "$\\displaystyle \\frac{2.53302959105846 \\cdot 10^{-11} s^{3} + 7.23302959105846 \\cdot 10^{-8} s^{2} + 0.001047 s + 1}{2.53302959105846 \\cdot 10^{-11} s^{3} + 1.11933029591058 \\cdot 10^{-6} s^{2} + 0.002047 s + 1}$"
      ],
      "text/plain": [
       "                      3                        2                 \n",
       "2.53302959105846e-11⋅s  + 7.23302959105846e-8⋅s  + 0.001047⋅s + 1\n",
       "─────────────────────────────────────────────────────────────────\n",
       "                      3                        2                 \n",
       "2.53302959105846e-11⋅s  + 1.11933029591058e-6⋅s  + 0.002047⋅s + 1"
      ]
     },
     "execution_count": 78,
     "metadata": {},
     "output_type": "execute_result"
    }
   ],
   "source": [
    "sub_values = {R1:R_value, R2:R2_value, R3:R_value, C1:C_value, C2:C2_value, C3:C_value}\n",
    "H_sym.subs(sub_values)"
   ]
  },
  {
   "cell_type": "code",
   "execution_count": 79,
   "id": "7ae28306-d375-408b-ab21-483a0cea8f5c",
   "metadata": {
    "collapsed": false,
    "jupyter": {
     "outputs_hidden": false
    }
   },
   "outputs": [],
   "source": [
    "H_num, H_denom = fraction(H_sym.subs(sub_values)) #returns numerator and denominator\n",
    "\n",
    "# convert symbolic to numpy polynomial\n",
    "a = np.array(Poly(H_num, s).all_coeffs(), dtype=float)\n",
    "b = np.array(Poly(H_denom, s).all_coeffs(), dtype=float)\n",
    "sys_tf = signal.TransferFunction(a,b)"
   ]
  },
  {
   "cell_type": "markdown",
   "id": "83a6d2d9-a15c-402a-804b-c7798135fb96",
   "metadata": {},
   "source": [
    "The poles and zeros of the transfer function are plotted below:"
   ]
  },
  {
   "cell_type": "code",
   "execution_count": 80,
   "id": "3bfffbeb-5cb2-4546-bdd6-fa67132a6b4a",
   "metadata": {},
   "outputs": [
    {
     "data": {
      "image/png": "[encoded data removed]",
      "text/plain": [
       "<Figure size 640x480 with 1 Axes>"
      ]
     },
     "metadata": {},
     "output_type": "display_data"
    }
   ],
   "source": [
    "sys_zeros = np.roots(sys_tf.num)\n",
    "sys_poles = np.roots(sys_tf.den)\n",
    "\n",
    "plt.plot(np.real(sys_zeros), np.imag(sys_zeros), 'ob', markerfacecolor='none')\n",
    "plt.plot(np.real(sys_poles), np.imag(sys_poles), 'xr')\n",
    "plt.legend(['Zeros', 'Poles'], loc=0)\n",
    "plt.title('Pole / Zero Plot')\n",
    "plt.xlabel('real part, \\u03B1')\n",
    "plt.ylabel('imaginary part, j\\u03C9')\n",
    "plt.grid()\n",
    "plt.show()"
   ]
  },
  {
   "cell_type": "markdown",
   "id": "10e78200-4ba6-437c-9331-6008156afca5",
   "metadata": {},
   "source": [
    "The units of the poles and zeros are in radian frequency and are tabulated below."
   ]
  },
  {
   "cell_type": "code",
   "execution_count": 81,
   "id": "721d31a0-0e3e-4b14-900d-2d490a76b179",
   "metadata": {},
   "outputs": [
    {
     "name": "stdout",
     "output_type": "stream",
     "text": [
      "Zeros, rad/s      Poles, rad/s\n",
      "----------------  ---------------\n",
      "-927.74+6214.31j  -42301.04+0.00j\n",
      "-927.74-6214.31j  -944.17+204.47j\n",
      "-1000.00+0.00j    -944.17-204.47j\n"
     ]
    }
   ],
   "source": [
    "table_header = ['Zeros, rad/s', 'Poles, rad/s']\n",
    "num_table_rows = max(len(sys_zeros),len(sys_poles))\n",
    "table_row = []\n",
    "\n",
    "for i in range(num_table_rows):\n",
    "    if i < len(sys_zeros):\n",
    "        z = '{:.2f}'.format(sys_zeros[i])\n",
    "    else:\n",
    "        z = ''\n",
    "    if i < len(sys_poles):\n",
    "        p = '{:.2f}'.format(sys_poles[i])\n",
    "    else:\n",
    "        p = ''\n",
    "    table_row.append([z,p])\n",
    "\n",
    "print(tabulate(table_row, headers=table_header,colalign = ('left','left'),tablefmt=\"simple\"))"
   ]
  },
  {
   "cell_type": "markdown",
   "id": "589b45ce-89f4-4c62-b6ae-915bc38b5b34",
   "metadata": {},
   "source": [
    "The magnitude and phase of the filter's transfer function is plotted below."
   ]
  },
  {
   "cell_type": "code",
   "execution_count": 82,
   "id": "11c3ca44-5267-49cf-9db1-9e2243fdf2f0",
   "metadata": {},
   "outputs": [
    {
     "data": {
      "image/png": "[encoded data removed]",
      "text/plain": [
       "<Figure size 640x480 with 2 Axes>"
      ]
     },
     "metadata": {},
     "output_type": "display_data"
    }
   ],
   "source": [
    "x = np.logspace(1, 5, 500, endpoint=True)*2*np.pi\n",
    "w, mag, phase = signal.bode(sys_tf, w=x) # returns: rad/s, mag in dB, phase in deg\n",
    "\n",
    "fig, ax1 = plt.subplots()\n",
    "ax1.set_ylabel('magnitude, dB')\n",
    "ax1.set_xlabel('frequency, Hz')\n",
    "\n",
    "plt.semilogx(w/(2*np.pi), mag,'-b')    # magnitude plot\n",
    "#ax1.set_ylim(-1,1)\n",
    "ax1.tick_params(axis='y')\n",
    "plt.grid()\n",
    "\n",
    "# instantiate a second y-axes that shares the same x-axis\n",
    "ax2 = ax1.twinx()\n",
    "color = 'tab:red'\n",
    "\n",
    "plt.semilogx(w/(2*np.pi), phase,':',color='tab:red')  # phase plot\n",
    "\n",
    "ax2.set_ylabel('phase, deg',color=color)\n",
    "ax2.tick_params(axis='y', labelcolor=color)\n",
    "\n",
    "plt.title('Magnitude and phase plot')\n",
    "plt.show()"
   ]
  },
  {
   "cell_type": "markdown",
   "id": "629975a3-6747-4c2a-941d-72673a30a1ad",
   "metadata": {},
   "source": [
    "The step response is plotted below."
   ]
  },
  {
   "cell_type": "code",
   "execution_count": 83,
   "id": "dab224c4-a800-4d38-9d8b-36516ef257ef",
   "metadata": {},
   "outputs": [
    {
     "data": {
      "image/png": "[encoded data removed]",
      "text/plain": [
       "<Figure size 640x480 with 1 Axes>"
      ]
     },
     "metadata": {},
     "output_type": "display_data"
    }
   ],
   "source": [
    "# define the time interval and create a square wave step waveform.\n",
    "t = np.linspace(0, 0.05, 500, endpoint=False)\n",
    "sqr_signal = signal.square(2*np.pi*40*t, duty=0.5)\n",
    "\n",
    "# call lsim to generate the response signal\n",
    "t_step, y_step, x_step = signal.lsim(sys_tf, U=sqr_signal, T=t)\n",
    "\n",
    "plt.plot(t_step, sqr_signal, 'r', alpha = 1.0, linewidth=1, label='input')\n",
    "plt.plot(t_step, y_step,'b', linewidth = 1.0, label='output')\n",
    "plt.title('Step response')\n",
    "plt.ylabel('volts')\n",
    "plt.xlabel('time, sec')\n",
    "plt.grid()\n",
    "plt.legend(loc='best')\n",
    "# show plot\n",
    "plt.show()"
   ]
  },
  {
   "cell_type": "code",
   "execution_count": null,
   "id": "925c6e78-3e2b-4bef-8201-1623df01220a",
   "metadata": {},
   "outputs": [],
   "source": []
  },
  {
   "cell_type": "code",
   "execution_count": null,
   "id": "c4cd8eae-791f-49bd-9134-e110f54605e8",
   "metadata": {},
   "outputs": [],
   "source": []
  },
  {
   "cell_type": "code",
   "execution_count": null,
   "id": "2a4cb96d-74b5-4400-a791-657a2c72ac8d",
   "metadata": {},
   "outputs": [],
   "source": []
  },
  {
   "cell_type": "markdown",
   "id": "60145e9e-76c1-46e2-844e-a3b518ceda61",
   "metadata": {},
   "source": [
    "## All Pass Filter Variations\n",
    "\n"
   ]
  },
  {
   "cell_type": "markdown",
   "id": "983d25db-2e62-4db5-9bc7-b99606b0a8e5",
   "metadata": {},
   "source": [
    "### Example 4, $R_1=2R$, $R_2=R_3=R$, $C_1=C/2$ and $C_2=C_3=C$\n",
    "\n",
    "#### Circuit Description\n",
    "\n",
    "\n",
    "Move this example to variations notebook.\n",
    "\n",
    "A special case of this passive filter, with 2R1 = R2 = R3 and C1/2 = C2 = C3 , appears as Figure 8.34(a) on p. 467 of [8], with pin 3 of that figure acting as the input and pin 2 acting as the output, where it is named “Bandpass Twin-T.” \n",
    "\n",
    "Terry Watson stumbled across the same special case in his master’s thesis work when he accidentally swapped connections to a standard Twin-T network (Figure 16 on p. 35 of [9], with Ē2 of that figure acting as the input and Ē1 acting as the output). He suggests it “might be used as a lead-lag compensating network,” but does not explore it futher.\n",
    "\n",
    "[8] A. Sedra and P. Brackett, Filter Theory and Design: Active and Passive. Matrix Publications, 1978.  \n",
    "[9] T. Watson, “Active band-pass filters using twin-tee networks,” Master’s thesis, University of Missouri at Rolla,, Rolla, MO, 1965.  \n",
    "\n",
    "A lead-lag compensating network is a crucial component in control systems engineering, designed to enhance the performance and stability of a system. Here's a breakdown of what it is:\n",
    "\n",
    "**Core Concept:**\n",
    "\n",
    "* A lead-lag compensator combines the characteristics of both lead and lag compensators. This allows it to address both transient and steady-state response issues within a control system.\n",
    "* Essentially, it's an electrical network that introduces both phase lead and phase lag at different frequency ranges.\n",
    "\n",
    "**Purpose:**\n",
    "\n",
    "* **Improving Stability:**\n",
    "    * It helps increase stability margins, making the system more robust against disturbances.\n",
    "* **Enhancing Transient Response:**\n",
    "    * The phase lead component contributes to a faster response, reducing settling times and overshoot.\n",
    "* **Improving Steady-State Accuracy:**\n",
    "    * The phase lag component enhances low-frequency gain, minimizing steady-state errors.\n",
    "\n",
    "**Key Components and Functionality:**\n",
    "\n",
    "* **Lead Compensator:**\n",
    "    * Provides phase lead at higher frequencies, improving transient response and stability.\n",
    "* **Lag Compensator:**\n",
    "    * Introduces phase lag at lower frequencies, enhancing steady-state accuracy.\n",
    "* **Combined Effect:**\n",
    "    * By combining these, a lead-lag compensator offers a balanced approach to optimizing system performance.\n",
    "\n",
    "**In essence:**\n",
    "\n",
    "Lead-lag compensators are versatile tools in control systems, allowing engineers to fine-tune system behavior for optimal performance across a wide range of operating conditions.\n"
   ]
  },
  {
   "cell_type": "markdown",
   "id": "c64e9b8d-4adc-47ad-90d1-956d20661b27",
   "metadata": {},
   "source": [
    "### AP variation 1"
   ]
  },
  {
   "cell_type": "markdown",
   "id": "a8cb9ad1-8544-4c44-8a6a-6bca52f0ce78",
   "metadata": {},
   "source": [
    "![](Twin-T-variation4.png)"
   ]
  },
  {
   "cell_type": "code",
   "execution_count": 84,
   "id": "d5726db2-428d-4f3e-b301-3e98a93aaf3f",
   "metadata": {},
   "outputs": [],
   "source": [
    "example_net_list = '''\n",
    "* Twin-T-variation4.asc\n",
    "R1 3 1 1\n",
    "R2 4 5 1\n",
    "R3 6 5 1\n",
    "C1 5 1 1\n",
    "C2 4 3 1\n",
    "C3 6 3 1\n",
    "V1 1 0 1\n",
    "O1 4 0 6\n",
    "O2 7 0 2\n",
    "R4 7 6 1\n",
    "R5 7 1 1\n",
    "R6 2 7 1\n",
    "'''"
   ]
  },
  {
   "cell_type": "code",
   "execution_count": 85,
   "id": "97644305-32bc-4e7b-ad55-7d4977abe9cc",
   "metadata": {},
   "outputs": [],
   "source": [
    "report, network_df, df2, A, X, Z = SymMNA.smna(example_net_list)\n",
    "\n",
    "X = Matrix(X)\n",
    "Z = Matrix(Z)\n",
    "\n",
    "NE_sym = Eq(A*X,Z)\n",
    "\n",
    "var(str(NE_sym.free_symbols).replace('{','').replace('}',''))\n",
    "nominal_component_value = SymMNA.get_part_values(network_df)\n",
    "\n",
    "U_sym = solve(NE_sym,X)\n",
    "H_sym = cancel(U_sym[v2]/U_sym[v1],s)"
   ]
  },
  {
   "cell_type": "code",
   "execution_count": 86,
   "id": "92e682b0-7394-4c78-815f-ab6a2132637e",
   "metadata": {},
   "outputs": [
    {
     "data": {
      "text/markdown": [
       "$H(s)=\\frac{- C_{1} C_{2} C_{3} R_{1} R_{2} R_{3} R_{4} R_{6} s^{3} - R_{4} R_{6} + s^{2} \\left(C_{1} C_{2} R_{1} R_{3} R_{5} R_{6} + C_{1} C_{2} R_{2} R_{3} R_{5} R_{6} + C_{1} C_{3} R_{1} R_{3} R_{5} R_{6} - C_{2} C_{3} R_{1} R_{2} R_{4} R_{6} - C_{2} C_{3} R_{1} R_{3} R_{4} R_{6}\\right) + s \\left(C_{1} R_{3} R_{5} R_{6} - C_{2} R_{1} R_{4} R_{6} + C_{2} R_{2} R_{5} R_{6} + C_{2} R_{3} R_{5} R_{6} - C_{3} R_{1} R_{4} R_{6}\\right)}{C_{1} C_{2} C_{3} R_{1} R_{2} R_{3} R_{4} R_{5} s^{3} + R_{4} R_{5} + s^{2} \\left(C_{2} C_{3} R_{1} R_{2} R_{4} R_{5} + C_{2} C_{3} R_{1} R_{3} R_{4} R_{5}\\right) + s \\left(C_{2} R_{1} R_{4} R_{5} + C_{3} R_{1} R_{4} R_{5}\\right)}$"
      ],
      "text/plain": [
       "<IPython.core.display.Markdown object>"
      ]
     },
     "execution_count": 86,
     "metadata": {},
     "output_type": "execute_result"
    }
   ],
   "source": [
    "Markdown('$H(s)={:s}$'.format(latex(H_sym)))"
   ]
  },
  {
   "cell_type": "code",
   "execution_count": 87,
   "id": "e65316fb-4cc3-462f-bb1c-0890f7c4f583",
   "metadata": {
    "tags": []
   },
   "outputs": [],
   "source": [
    "H_sym_num, H_sym_denom = fraction(H_sym,s) #returns numerator and denominator"
   ]
  },
  {
   "cell_type": "markdown",
   "id": "6d6dc9a5-aac5-486f-9c1c-23cdbfcc8284",
   "metadata": {},
   "source": [
    "### Numerator Polynominal\n",
    "The numerator polynominal is:"
   ]
  },
  {
   "cell_type": "code",
   "execution_count": 88,
   "id": "b2668128-431c-4b83-acbc-aea39a12ad4b",
   "metadata": {},
   "outputs": [
    {
     "data": {
      "text/markdown": [
       "$N(s)=- C_{1} C_{2} C_{3} R_{1} R_{2} R_{3} R_{4} R_{6} s^{3} - R_{4} R_{6} + s^{2} \\left(C_{1} C_{2} R_{1} R_{3} R_{5} R_{6} + C_{1} C_{2} R_{2} R_{3} R_{5} R_{6} + C_{1} C_{3} R_{1} R_{3} R_{5} R_{6} - C_{2} C_{3} R_{1} R_{2} R_{4} R_{6} - C_{2} C_{3} R_{1} R_{3} R_{4} R_{6}\\right) + s \\left(C_{1} R_{3} R_{5} R_{6} - C_{2} R_{1} R_{4} R_{6} + C_{2} R_{2} R_{5} R_{6} + C_{2} R_{3} R_{5} R_{6} - C_{3} R_{1} R_{4} R_{6}\\right)$"
      ],
      "text/plain": [
       "<IPython.core.display.Markdown object>"
      ]
     },
     "execution_count": 88,
     "metadata": {},
     "output_type": "execute_result"
    }
   ],
   "source": [
    "Markdown('$N(s)={:s}$'.format(latex(H_sym_num)))"
   ]
  },
  {
   "cell_type": "markdown",
   "id": "1e312b0e-d9b2-4af3-800d-f729bc95b0cd",
   "metadata": {},
   "source": [
    "The coeficients of each Laplace terms can be equated to the variables $b_2$, $b_1$ and $b_0$ in the expression: \n",
    "\n",
    "$b_3s^{3}+b_2s^{2}+b_1s+b_0$\n",
    "\n",
    "where $b_3$, $b_2$, $b_1$ and $b_0$ are:"
   ]
  },
  {
   "cell_type": "code",
   "execution_count": 89,
   "id": "fc3df68b-3f3d-4006-b91a-d0a1448e17d6",
   "metadata": {},
   "outputs": [
    {
     "data": {
      "text/markdown": [
       "<p>$b_3=- C_{1} C_{2} C_{3} R_{1} R_{2} R_{3} R_{4} R_{6}$</p><p>$b_2=C_{1} C_{2} R_{1} R_{3} R_{5} R_{6} + C_{1} C_{2} R_{2} R_{3} R_{5} R_{6} + C_{1} C_{3} R_{1} R_{3} R_{5} R_{6} - C_{2} C_{3} R_{1} R_{2} R_{4} R_{6} - C_{2} C_{3} R_{1} R_{3} R_{4} R_{6}$</p><p>$b_1=C_{1} R_{3} R_{5} R_{6} - C_{2} R_{1} R_{4} R_{6} + C_{2} R_{2} R_{5} R_{6} + C_{2} R_{3} R_{5} R_{6} - C_{3} R_{1} R_{4} R_{6}$</p><p>$b_0=- R_{4} R_{6}$</p>"
      ],
      "text/plain": [
       "<IPython.core.display.Markdown object>"
      ]
     },
     "execution_count": 89,
     "metadata": {},
     "output_type": "execute_result"
    }
   ],
   "source": [
    "b3 = H_sym_num.coeff(s**3)\n",
    "b2 = H_sym_num.coeff(s**2)\n",
    "b1 = H_sym_num.coeff(s**1)\n",
    "b0 = H_sym_num - b1*s*1 - b2*s**2 - b3*s**3\n",
    "\n",
    "Markdown('<p>$b_3={:s}$</p><p>$b_2={:s}$</p><p>$b_1={:s}$</p><p>$b_0={:s}$</p>'.format(latex(b3),latex(b2),latex(b1),latex(b0)))"
   ]
  },
  {
   "cell_type": "markdown",
   "id": "e94e735d-b797-4d02-aa8e-ae74135d5a42",
   "metadata": {},
   "source": [
    "### Denominator Polynominal"
   ]
  },
  {
   "cell_type": "code",
   "execution_count": 90,
   "id": "56dd5459-b655-465a-a9d7-fb8130065643",
   "metadata": {},
   "outputs": [
    {
     "data": {
      "text/markdown": [
       "$D(s)=C_{1} C_{2} C_{3} R_{1} R_{2} R_{3} R_{4} R_{5} s^{3} + R_{4} R_{5} + s^{2} \\left(C_{2} C_{3} R_{1} R_{2} R_{4} R_{5} + C_{2} C_{3} R_{1} R_{3} R_{4} R_{5}\\right) + s \\left(C_{2} R_{1} R_{4} R_{5} + C_{3} R_{1} R_{4} R_{5}\\right)$"
      ],
      "text/plain": [
       "<IPython.core.display.Markdown object>"
      ]
     },
     "execution_count": 90,
     "metadata": {},
     "output_type": "execute_result"
    }
   ],
   "source": [
    "Markdown('$D(s)={:s}$'.format(latex(H_sym_denom)))"
   ]
  },
  {
   "cell_type": "markdown",
   "id": "6e4095ae-3f0c-466e-b5e9-0f98bd3345fa",
   "metadata": {},
   "source": [
    "The coeficients of each Laplace terms can be equated to the variables $a_3$, $a_2$, $a_1$ and $a_0$ in the expression: \n",
    "\n",
    "$a_3s^3+a_2s^2+a_1s+a_0$\n",
    "\n",
    "where $a_3$, $a_2$, $a_1$ and $a_0$ are:"
   ]
  },
  {
   "cell_type": "code",
   "execution_count": 91,
   "id": "af10a0f7-0fa7-467e-a8bf-60614c68335e",
   "metadata": {},
   "outputs": [
    {
     "data": {
      "text/markdown": [
       "<p>$a_3=C_{1} C_{2} C_{3} R_{1} R_{2} R_{3} R_{4} R_{5}$</p><p>$a_2=C_{2} C_{3} R_{1} R_{2} R_{4} R_{5} + C_{2} C_{3} R_{1} R_{3} R_{4} R_{5}$</p><p>$a_1=C_{2} R_{1} R_{4} R_{5} + C_{3} R_{1} R_{4} R_{5}$</p><p>$a_0=R_{4} R_{5}$</p>"
      ],
      "text/plain": [
       "<IPython.core.display.Markdown object>"
      ]
     },
     "execution_count": 91,
     "metadata": {},
     "output_type": "execute_result"
    }
   ],
   "source": [
    "a3 = H_sym_denom.coeff(s**3)\n",
    "a2 = H_sym_denom.coeff(s**2)\n",
    "a1 = H_sym_denom.coeff(s**1)\n",
    "a0 = H_sym_denom - a1*s*1 - a2*s**2 - a3*s**3\n",
    "Markdown('<p>$a_3={:s}$</p><p>$a_2={:s}$</p><p>$a_1={:s}$</p><p>$a_0={:s}$</p>'.format(latex(a3), latex(a2),latex(a1),latex(a0)))"
   ]
  },
  {
   "cell_type": "code",
   "execution_count": 92,
   "id": "29ef3146-455d-4ee8-88a6-0f2ea6de900c",
   "metadata": {},
   "outputs": [],
   "source": [
    "sub_values = {R1:1, R2:2, R3:1, C1:1, C2: 1/2, C3:1}"
   ]
  },
  {
   "cell_type": "markdown",
   "id": "f330f672-fe28-4d46-a1b3-0dd576622192",
   "metadata": {},
   "source": [
    "Solving to get equal coefficients:  \n",
    "\n",
    "set s^3 and s^0 terms of num and denom equal and solve for R5 and R6.  \n",
    "The solution below says that R5=R6 and "
   ]
  },
  {
   "cell_type": "code",
   "execution_count": 93,
   "id": "2bf9ac6e-bc3b-4f3a-a54f-d727e03cebdf",
   "metadata": {},
   "outputs": [
    {
     "data": {
      "image/png": "[encoded data removed]",
      "text/latex": [
       "$\\displaystyle \\left\\{ R_{5} : R_{6}\\right\\}$"
      ],
      "text/plain": [
       "{R₅: R₆}"
      ]
     },
     "execution_count": 93,
     "metadata": {},
     "output_type": "execute_result"
    }
   ],
   "source": [
    "solve(((a3+b3).subs(sub_values),(a0+b0).subs(sub_values)),(R5,R6))"
   ]
  },
  {
   "cell_type": "code",
   "execution_count": 94,
   "id": "98d9cbca-50d0-42b9-9464-f6ae989ccfee",
   "metadata": {},
   "outputs": [
    {
     "data": {
      "image/png": "[encoded data removed]",
      "text/latex": [
       "$\\displaystyle 0.833333333333333$"
      ],
      "text/plain": [
       "0.833333333333333"
      ]
     },
     "execution_count": 94,
     "metadata": {},
     "output_type": "execute_result"
    }
   ],
   "source": [
    "solve((a2-b2).subs(sub_values),(R4))[0].subs({R5:1,R6:1})"
   ]
  },
  {
   "cell_type": "markdown",
   "id": "bf1bf308-a381-4e53-a4e2-992002d9f30d",
   "metadata": {},
   "source": [
    "The solution above says that R4= 0.8333"
   ]
  },
  {
   "cell_type": "code",
   "execution_count": 95,
   "id": "2be97a7a-46f9-4038-9904-584acd236629",
   "metadata": {},
   "outputs": [
    {
     "data": {
      "image/png": "[encoded data removed]",
      "text/latex": [
       "$\\displaystyle \\frac{- C_{1} C_{2} C_{3} R_{1} R_{2} R_{3} R_{4} R_{6} s^{3} - R_{4} R_{6} + s^{2} \\left(C_{1} C_{2} R_{1} R_{3} R_{5} R_{6} + C_{1} C_{2} R_{2} R_{3} R_{5} R_{6} + C_{1} C_{3} R_{1} R_{3} R_{5} R_{6} - C_{2} C_{3} R_{1} R_{2} R_{4} R_{6} - C_{2} C_{3} R_{1} R_{3} R_{4} R_{6}\\right) + s \\left(C_{1} R_{3} R_{5} R_{6} - C_{2} R_{1} R_{4} R_{6} + C_{2} R_{2} R_{5} R_{6} + C_{2} R_{3} R_{5} R_{6} - C_{3} R_{1} R_{4} R_{6}\\right)}{C_{1} C_{2} C_{3} R_{1} R_{2} R_{3} R_{4} R_{5} s^{3} + R_{4} R_{5} + s^{2} \\left(C_{2} C_{3} R_{1} R_{2} R_{4} R_{5} + C_{2} C_{3} R_{1} R_{3} R_{4} R_{5}\\right) + s \\left(C_{2} R_{1} R_{4} R_{5} + C_{3} R_{1} R_{4} R_{5}\\right)}$"
      ],
      "text/plain": [
       "                           3            2                                     \n",
       "- C₁⋅C₂⋅C₃⋅R₁⋅R₂⋅R₃⋅R₄⋅R₆⋅s  - R₄⋅R₆ + s ⋅(C₁⋅C₂⋅R₁⋅R₃⋅R₅⋅R₆ + C₁⋅C₂⋅R₂⋅R₃⋅R₅⋅\n",
       "──────────────────────────────────────────────────────────────────────────────\n",
       "                                                                             3\n",
       "                                                    C₁⋅C₂⋅C₃⋅R₁⋅R₂⋅R₃⋅R₄⋅R₅⋅s \n",
       "\n",
       "                                                                              \n",
       "R₆ + C₁⋅C₃⋅R₁⋅R₃⋅R₅⋅R₆ - C₂⋅C₃⋅R₁⋅R₂⋅R₄⋅R₆ - C₂⋅C₃⋅R₁⋅R₃⋅R₄⋅R₆) + s⋅(C₁⋅R₃⋅R₅⋅\n",
       "──────────────────────────────────────────────────────────────────────────────\n",
       "            2                                                                 \n",
       " + R₄⋅R₅ + s ⋅(C₂⋅C₃⋅R₁⋅R₂⋅R₄⋅R₅ + C₂⋅C₃⋅R₁⋅R₃⋅R₄⋅R₅) + s⋅(C₂⋅R₁⋅R₄⋅R₅ + C₃⋅R₁\n",
       "\n",
       "                                                           \n",
       "R₆ - C₂⋅R₁⋅R₄⋅R₆ + C₂⋅R₂⋅R₅⋅R₆ + C₂⋅R₃⋅R₅⋅R₆ - C₃⋅R₁⋅R₄⋅R₆)\n",
       "───────────────────────────────────────────────────────────\n",
       "                                                           \n",
       "⋅R₄⋅R₅)                                                    "
      ]
     },
     "execution_count": 95,
     "metadata": {},
     "output_type": "execute_result"
    }
   ],
   "source": [
    "H_sym"
   ]
  },
  {
   "cell_type": "code",
   "execution_count": 96,
   "id": "f3b0ec8f-6d7a-485d-848e-f726e3bb1748",
   "metadata": {},
   "outputs": [
    {
     "data": {
      "image/png": "[encoded data removed]",
      "text/latex": [
       "$\\displaystyle \\frac{- 0.000833333333333335 s^{3} + 1.25 s^{2} + 1250.0 s - 833333.333333335}{0.000833333333333335 s^{3} + 1.25 s^{2} + 1250.0 s + 833333.333333335}$"
      ],
      "text/plain": [
       "                        3         2                              \n",
       "- 0.000833333333333335⋅s  + 1.25⋅s  + 1250.0⋅s - 833333.333333335\n",
       "─────────────────────────────────────────────────────────────────\n",
       "                       3         2                               \n",
       " 0.000833333333333335⋅s  + 1.25⋅s  + 1250.0⋅s + 833333.333333335 "
      ]
     },
     "execution_count": 96,
     "metadata": {},
     "output_type": "execute_result"
    }
   ],
   "source": [
    "#sub_values = {R1:R_value, R2:R_value*2, R3:R_value, R4:5e3, R5:2e3, R6:2e3, C1:C_value, C2:C_value/2, C3:C_value}\n",
    "sub_values = {R1:R_value, R2:R_value*2, R3:R_value, R4:0.833333333333335e3, R5:1e3, R6:1e3, C1:C_value, C2:C_value/2, C3:C_value}\n",
    "H_sym.subs(sub_values)"
   ]
  },
  {
   "cell_type": "markdown",
   "id": "b21681eb-c942-490f-a164-7fcabc3c7f03",
   "metadata": {},
   "source": [
    "But this is not what we want, we want equal roots, not coefficients\n",
    "\n",
    "Making the substitutions: $R_1=R_3=R$, $R_2=2R$, $C_1=C_3=C$ and $C_2=C/2$, we get:"
   ]
  },
  {
   "cell_type": "code",
   "execution_count": 97,
   "id": "965e7daf-3b2a-4900-87f0-d7e741a11646",
   "metadata": {},
   "outputs": [
    {
     "data": {
      "image/png": "[encoded data removed]",
      "text/latex": [
       "$\\displaystyle \\frac{R_{6} \\left(- 2 C^{2} R^{2} R_{4} s^{2} - C R R_{4} s + 5 C R R_{5} s - 2 R_{4}\\right)}{R_{4} R_{5} \\cdot \\left(2 C^{2} R^{2} s^{2} + C R s + 2\\right)}$"
      ],
      "text/plain": [
       "   ⎛     2  2     2                               ⎞\n",
       "R₆⋅⎝- 2⋅C ⋅R ⋅R₄⋅s  - C⋅R⋅R₄⋅s + 5⋅C⋅R⋅R₅⋅s - 2⋅R₄⎠\n",
       "───────────────────────────────────────────────────\n",
       "                 ⎛   2  2  2            ⎞          \n",
       "           R₄⋅R₅⋅⎝2⋅C ⋅R ⋅s  + C⋅R⋅s + 2⎠          "
      ]
     },
     "execution_count": 97,
     "metadata": {},
     "output_type": "execute_result"
    }
   ],
   "source": [
    "H_sym.subs({R1:R, R2:R*2, R3:R, C1:C, C2:C/2, C3:C}).simplify()"
   ]
  },
  {
   "cell_type": "code",
   "execution_count": null,
   "id": "6af37e35-9965-40cc-849d-83c9adc72bb1",
   "metadata": {},
   "outputs": [],
   "source": []
  },
  {
   "cell_type": "code",
   "execution_count": 98,
   "id": "1b078472-ea46-469b-8224-a13add2d1a78",
   "metadata": {},
   "outputs": [
    {
     "data": {
      "text/markdown": [
       "$H(s)=\\frac{R_{6} \\left(- 2 C^{2} R^{2} R_{4} s^{2} - C R R_{4} s + 5 C R R_{5} s - 2 R_{4}\\right)}{R_{4} R_{5} \\cdot \\left(2 C^{2} R^{2} s^{2} + C R s + 2\\right)}$"
      ],
      "text/plain": [
       "<IPython.core.display.Markdown object>"
      ]
     },
     "execution_count": 98,
     "metadata": {},
     "output_type": "execute_result"
    }
   ],
   "source": [
    "H_sym = H_sym.subs({R1:R, R2:R*2, R3:R, C1:C, C2:C/2, C3:C}).simplify()\n",
    "Markdown('$H(s)={:s}$'.format(latex(H_sym)))"
   ]
  },
  {
   "cell_type": "code",
   "execution_count": null,
   "id": "622749dc-17e8-4471-8082-12b7a5a81200",
   "metadata": {},
   "outputs": [],
   "source": []
  },
  {
   "cell_type": "code",
   "execution_count": 99,
   "id": "75ffee2a-a423-4b51-9d53-169946098c38",
   "metadata": {
    "tags": []
   },
   "outputs": [],
   "source": [
    "H_sym_num, H_sym_denom = fraction(H_sym,s) #returns numerator and denominator"
   ]
  },
  {
   "cell_type": "markdown",
   "id": "f92607c1-3a16-4c7b-a93f-7917751cd978",
   "metadata": {},
   "source": [
    "The numerator polynominal is:"
   ]
  },
  {
   "cell_type": "code",
   "execution_count": 100,
   "id": "a8ab028c-5801-456d-ab57-23512b23b35d",
   "metadata": {},
   "outputs": [
    {
     "data": {
      "text/markdown": [
       "$N(s)=R_{6} \\left(- 2 C^{2} R^{2} R_{4} s^{2} - C R R_{4} s + 5 C R R_{5} s - 2 R_{4}\\right)$"
      ],
      "text/plain": [
       "<IPython.core.display.Markdown object>"
      ]
     },
     "execution_count": 100,
     "metadata": {},
     "output_type": "execute_result"
    }
   ],
   "source": [
    "Markdown('$N(s)={:s}$'.format(latex(H_sym_num)))"
   ]
  },
  {
   "cell_type": "code",
   "execution_count": 101,
   "id": "f937a7b5-9c9b-4c84-846d-9648d58b9e4a",
   "metadata": {},
   "outputs": [
    {
     "data": {
      "text/markdown": [
       "$\\left[ \\frac{- \\frac{R_{4}}{4} + \\frac{5 R_{5}}{4} - \\frac{\\sqrt{- 15 R_{4}^{2} - 10 R_{4} R_{5} + 25 R_{5}^{2}}}{4}}{C R R_{4}}, \\  \\frac{- \\frac{R_{4}}{4} + \\frac{5 R_{5}}{4} + \\frac{\\sqrt{- 15 R_{4}^{2} - 10 R_{4} R_{5} + 25 R_{5}^{2}}}{4}}{C R R_{4}}\\right]$"
      ],
      "text/plain": [
       "<IPython.core.display.Markdown object>"
      ]
     },
     "execution_count": 101,
     "metadata": {},
     "output_type": "execute_result"
    }
   ],
   "source": [
    "num_root_sym = solve(H_sym_num.expand(),s)\n",
    "Markdown('${:s}$'.format(latex(num_root_sym)))"
   ]
  },
  {
   "cell_type": "markdown",
   "id": "7d2d750d-9ea0-4c5c-a86c-8b161defb057",
   "metadata": {},
   "source": [
    "The denominator polynominal is:"
   ]
  },
  {
   "cell_type": "code",
   "execution_count": 102,
   "id": "d2d15737-f3a6-4524-8e1b-5f1092188a09",
   "metadata": {},
   "outputs": [
    {
     "data": {
      "text/markdown": [
       "$D(s)=2 C^{2} R^{2} R_{4} R_{5} s^{2} + C R R_{4} R_{5} s + 2 R_{4} R_{5}$"
      ],
      "text/plain": [
       "<IPython.core.display.Markdown object>"
      ]
     },
     "execution_count": 102,
     "metadata": {},
     "output_type": "execute_result"
    }
   ],
   "source": [
    "Markdown('$D(s)={:s}$'.format(latex(H_sym_denom.expand())))"
   ]
  },
  {
   "cell_type": "markdown",
   "id": "03f20c98-2b17-4dc0-8250-f0441ad330ad",
   "metadata": {},
   "source": [
    "The roots of the denominator polynominal can found with SymPy."
   ]
  },
  {
   "cell_type": "code",
   "execution_count": 103,
   "id": "63f4663b-7a36-4461-b63b-d820d62e4f71",
   "metadata": {},
   "outputs": [
    {
     "data": {
      "text/markdown": [
       "$\\left[ \\frac{-1 - \\sqrt{15} i}{4 C R}, \\  \\frac{-1 + \\sqrt{15} i}{4 C R}\\right]$"
      ],
      "text/plain": [
       "<IPython.core.display.Markdown object>"
      ]
     },
     "execution_count": 103,
     "metadata": {},
     "output_type": "execute_result"
    }
   ],
   "source": [
    "denom_root_sym = solve(H_sym_denom.expand(),s)\n",
    "Markdown('${:s}$'.format(latex(denom_root_sym)))"
   ]
  },
  {
   "cell_type": "markdown",
   "id": "922c420f-800d-4552-8d8a-e2ed6ffa2479",
   "metadata": {},
   "source": [
    "Rebuild equations."
   ]
  },
  {
   "cell_type": "code",
   "execution_count": 104,
   "id": "eecfbb90-2538-4c89-a61c-e9302a2936ee",
   "metadata": {},
   "outputs": [],
   "source": [
    "H_sym = H_sym.subs({R1:R, R2:R*2, R3:R, C1:C, C2:C/2, C3:C, R4:5, R5:2, R6:2}).simplify()"
   ]
  },
  {
   "cell_type": "code",
   "execution_count": 105,
   "id": "c1fe6856-9a87-4dd3-8b32-be2ed4aa0a27",
   "metadata": {
    "tags": []
   },
   "outputs": [],
   "source": [
    "H_sym_num, H_sym_denom = fraction(H_sym,s) #returns numerator and denominator"
   ]
  },
  {
   "cell_type": "code",
   "execution_count": 106,
   "id": "7b32dd18-f037-4cb4-89f7-701e64448a5d",
   "metadata": {},
   "outputs": [
    {
     "data": {
      "image/png": "[encoded data removed]",
      "text/latex": [
       "$\\displaystyle 2 C^{2} R^{2} s^{2} + C R s + 2$"
      ],
      "text/plain": [
       "   2  2  2            \n",
       "2⋅C ⋅R ⋅s  + C⋅R⋅s + 2"
      ]
     },
     "execution_count": 106,
     "metadata": {},
     "output_type": "execute_result"
    }
   ],
   "source": [
    "H_sym_denom"
   ]
  },
  {
   "cell_type": "code",
   "execution_count": 107,
   "id": "fac3e935-6517-4cb7-9090-39875bb2659a",
   "metadata": {},
   "outputs": [
    {
     "data": {
      "text/markdown": [
       "<p>$a=2 C^{2} R^{2}$</p><p>    $b=C R$</p><p>$c=2$</p>"
      ],
      "text/plain": [
       "<IPython.core.display.Markdown object>"
      ]
     },
     "execution_count": 107,
     "metadata": {},
     "output_type": "execute_result"
    }
   ],
   "source": [
    "a = H_sym_denom.coeff(s**2)\n",
    "b = H_sym_denom.coeff(s**1)\n",
    "c = H_sym_denom - b*s*1 - a*s**2\n",
    "Markdown('<p>$a={:s}$</p><p>\\\n",
    "    $b={:s}$</p><p>$c={:s}$</p>'.format(latex(a),latex(b),latex(c)))"
   ]
  },
  {
   "cell_type": "code",
   "execution_count": 108,
   "id": "14742379-ea18-4bf6-be32-792eb2857a23",
   "metadata": {},
   "outputs": [],
   "source": [
    "omega_n, Q_factor = symbols('omega_n Q_factor')"
   ]
  },
  {
   "cell_type": "code",
   "execution_count": 109,
   "id": "05dc5380-6b78-4cab-b08b-3dafbd15c648",
   "metadata": {},
   "outputs": [
    {
     "data": {
      "text/markdown": [
       "$\\omega_n = \\frac{1}{C R}$"
      ],
      "text/plain": [
       "<IPython.core.display.Markdown object>"
      ]
     },
     "execution_count": 109,
     "metadata": {},
     "output_type": "execute_result"
    }
   ],
   "source": [
    "omega_n = solve(omega_n**2 - c/a, omega_n)[1]\n",
    "Markdown('$\\omega_n = {:s}$'.format(latex(omega_n)))"
   ]
  },
  {
   "cell_type": "code",
   "execution_count": 110,
   "id": "eb31d419-f5ca-422b-a6f4-e73d8884eaa0",
   "metadata": {},
   "outputs": [
    {
     "data": {
      "text/markdown": [
       "$Q = 2$"
      ],
      "text/plain": [
       "<IPython.core.display.Markdown object>"
      ]
     },
     "execution_count": 110,
     "metadata": {},
     "output_type": "execute_result"
    }
   ],
   "source": [
    "Q_factor = solve(omega_n/Q_factor - b/a, Q_factor)[0]\n",
    "Markdown('$Q = {:s}$'.format(latex(Q_factor)))"
   ]
  },
  {
   "cell_type": "markdown",
   "id": "f2692fab-38e7-4a83-a61d-192cf1e5c51f",
   "metadata": {},
   "source": [
    "### Design example\n",
    "Design for $\\omega_n=1000$"
   ]
  },
  {
   "cell_type": "code",
   "execution_count": 111,
   "id": "530eb704-69dc-46d6-be9a-1c676c13016f",
   "metadata": {},
   "outputs": [],
   "source": [
    "freq = 1e3 # Hz\n",
    "C_value = 10e-9"
   ]
  },
  {
   "cell_type": "code",
   "execution_count": 112,
   "id": "2cceaab4-5756-40b2-b21a-478cc26a4469",
   "metadata": {},
   "outputs": [],
   "source": [
    "R_value = solve(omega_n.subs({C:C_value})-freq*2*np.pi, R)[0]"
   ]
  },
  {
   "cell_type": "code",
   "execution_count": 113,
   "id": "87999562-3f37-423b-9f4a-bbc15659661c",
   "metadata": {},
   "outputs": [
    {
     "data": {
      "image/png": "[encoded data removed]",
      "text/latex": [
       "$\\displaystyle 15915.4943091895$"
      ],
      "text/plain": [
       "15915.4943091895"
      ]
     },
     "execution_count": 113,
     "metadata": {},
     "output_type": "execute_result"
    }
   ],
   "source": [
    "R_value"
   ]
  },
  {
   "cell_type": "markdown",
   "id": "d6b4cdf0-2758-4fd5-a16d-98d8bd1f56f5",
   "metadata": {},
   "source": [
    "rebuild H(s)"
   ]
  },
  {
   "cell_type": "code",
   "execution_count": 114,
   "id": "d3042518-6cda-4344-ba58-6e9ebb514fa4",
   "metadata": {},
   "outputs": [],
   "source": [
    "H_sym = cancel(U_sym[v2]/U_sym[v1],s)"
   ]
  },
  {
   "cell_type": "code",
   "execution_count": 115,
   "id": "fa93143b-ede4-4793-a677-2d993c161d79",
   "metadata": {},
   "outputs": [
    {
     "data": {
      "image/png": "[encoded data removed]",
      "text/latex": [
       "$\\displaystyle \\frac{- C_{1} C_{2} C_{3} R_{1} R_{2} R_{3} R_{4} R_{6} s^{3} - R_{4} R_{6} + s^{2} \\left(C_{1} C_{2} R_{1} R_{3} R_{5} R_{6} + C_{1} C_{2} R_{2} R_{3} R_{5} R_{6} + C_{1} C_{3} R_{1} R_{3} R_{5} R_{6} - C_{2} C_{3} R_{1} R_{2} R_{4} R_{6} - C_{2} C_{3} R_{1} R_{3} R_{4} R_{6}\\right) + s \\left(C_{1} R_{3} R_{5} R_{6} - C_{2} R_{1} R_{4} R_{6} + C_{2} R_{2} R_{5} R_{6} + C_{2} R_{3} R_{5} R_{6} - C_{3} R_{1} R_{4} R_{6}\\right)}{C_{1} C_{2} C_{3} R_{1} R_{2} R_{3} R_{4} R_{5} s^{3} + R_{4} R_{5} + s^{2} \\left(C_{2} C_{3} R_{1} R_{2} R_{4} R_{5} + C_{2} C_{3} R_{1} R_{3} R_{4} R_{5}\\right) + s \\left(C_{2} R_{1} R_{4} R_{5} + C_{3} R_{1} R_{4} R_{5}\\right)}$"
      ],
      "text/plain": [
       "                           3            2                                     \n",
       "- C₁⋅C₂⋅C₃⋅R₁⋅R₂⋅R₃⋅R₄⋅R₆⋅s  - R₄⋅R₆ + s ⋅(C₁⋅C₂⋅R₁⋅R₃⋅R₅⋅R₆ + C₁⋅C₂⋅R₂⋅R₃⋅R₅⋅\n",
       "──────────────────────────────────────────────────────────────────────────────\n",
       "                                                                             3\n",
       "                                                    C₁⋅C₂⋅C₃⋅R₁⋅R₂⋅R₃⋅R₄⋅R₅⋅s \n",
       "\n",
       "                                                                              \n",
       "R₆ + C₁⋅C₃⋅R₁⋅R₃⋅R₅⋅R₆ - C₂⋅C₃⋅R₁⋅R₂⋅R₄⋅R₆ - C₂⋅C₃⋅R₁⋅R₃⋅R₄⋅R₆) + s⋅(C₁⋅R₃⋅R₅⋅\n",
       "──────────────────────────────────────────────────────────────────────────────\n",
       "            2                                                                 \n",
       " + R₄⋅R₅ + s ⋅(C₂⋅C₃⋅R₁⋅R₂⋅R₄⋅R₅ + C₂⋅C₃⋅R₁⋅R₃⋅R₄⋅R₅) + s⋅(C₂⋅R₁⋅R₄⋅R₅ + C₃⋅R₁\n",
       "\n",
       "                                                           \n",
       "R₆ - C₂⋅R₁⋅R₄⋅R₆ + C₂⋅R₂⋅R₅⋅R₆ + C₂⋅R₃⋅R₅⋅R₆ - C₃⋅R₁⋅R₄⋅R₆)\n",
       "───────────────────────────────────────────────────────────\n",
       "                                                           \n",
       "⋅R₄⋅R₅)                                                    "
      ]
     },
     "execution_count": 115,
     "metadata": {},
     "output_type": "execute_result"
    }
   ],
   "source": [
    "H_sym"
   ]
  },
  {
   "cell_type": "code",
   "execution_count": 116,
   "id": "c17e22e8-a2ac-4b10-be48-4f706872ea31",
   "metadata": {},
   "outputs": [
    {
     "data": {
      "image/png": "[encoded data removed]",
      "text/latex": [
       "$\\displaystyle \\frac{- 4.03144180414993 \\cdot 10^{-5} s^{3} - 0.126651479552922 s^{2} - 795.774715459477 s - 10000000.0}{4.03144180414993 \\cdot 10^{-5} s^{3} + 0.379954438658766 s^{2} + 2387.32414637843 s + 10000000.0}$"
      ],
      "text/plain": [
       "                       3                      2                               \n",
       "- 4.03144180414993e-5⋅s  - 0.126651479552922⋅s  - 795.774715459477⋅s - 1000000\n",
       "──────────────────────────────────────────────────────────────────────────────\n",
       "                      3                      2                                \n",
       " 4.03144180414993e-5⋅s  + 0.379954438658766⋅s  + 2387.32414637843⋅s + 10000000\n",
       "\n",
       "   \n",
       "0.0\n",
       "───\n",
       "   \n",
       ".0 "
      ]
     },
     "execution_count": 116,
     "metadata": {},
     "output_type": "execute_result"
    }
   ],
   "source": [
    "sub_values = {R1:R_value, R2:R_value*2, R3:R_value, R4:5e3, R5:2e3, R6:2e3, C1:C_value, C2:C_value/2, C3:C_value}\n",
    "#sub_values = {R1:R_value, R2:R_value*2, R3:R_value, R4:0.833333333333335e3, R5:1e3, R6:1e3, C1:C_value, C2:C_value/2, C3:C_value}\n",
    "H_sym.subs(sub_values)"
   ]
  },
  {
   "cell_type": "code",
   "execution_count": 117,
   "id": "60e2a17d-bdae-4ead-aacc-77b77d5b048d",
   "metadata": {
    "collapsed": false,
    "jupyter": {
     "outputs_hidden": false
    }
   },
   "outputs": [],
   "source": [
    "H_num, H_denom = fraction(H_sym.subs(sub_values)) #returns numerator and denominator\n",
    "\n",
    "# convert symbolic to numpy polynomial\n",
    "a = np.array(Poly(H_num, s).all_coeffs(), dtype=float)\n",
    "b = np.array(Poly(H_denom, s).all_coeffs(), dtype=float)\n",
    "sys_tf = signal.TransferFunction(a,b)"
   ]
  },
  {
   "cell_type": "markdown",
   "id": "1e82c3af-2ae1-4543-a558-74d3b4fb2e07",
   "metadata": {},
   "source": [
    "The poles and zeros of the transfer function are plotted below:"
   ]
  },
  {
   "cell_type": "code",
   "execution_count": 118,
   "id": "eff92839-8bed-46ab-892d-fd419cee8b93",
   "metadata": {},
   "outputs": [
    {
     "data": {
      "image/png": "[encoded data removed]",
      "text/plain": [
       "<Figure size 640x480 with 1 Axes>"
      ]
     },
     "metadata": {},
     "output_type": "display_data"
    }
   ],
   "source": [
    "sys_zeros = np.roots(sys_tf.num)\n",
    "sys_poles = np.roots(sys_tf.den)\n",
    "\n",
    "plt.plot(np.real(sys_zeros), np.imag(sys_zeros), 'ob', markerfacecolor='none')\n",
    "plt.plot(np.real(sys_poles), np.imag(sys_poles), 'xr')\n",
    "plt.legend(['Zeros', 'Poles'], loc=0)\n",
    "plt.title('Pole / Zero Plot')\n",
    "plt.xlabel('real part, \\u03B1')\n",
    "plt.ylabel('imaginary part, j\\u03C9')\n",
    "plt.grid()\n",
    "plt.show()"
   ]
  },
  {
   "cell_type": "markdown",
   "id": "fa5b54c4-5889-4da9-83a3-24117213fe01",
   "metadata": {},
   "source": [
    "The units of the poles and zeros are in radian frequency and are tabulated below."
   ]
  },
  {
   "cell_type": "code",
   "execution_count": 119,
   "id": "a97c0b4b-743b-4f2a-9983-1745a6a2e8ce",
   "metadata": {},
   "outputs": [
    {
     "name": "stdout",
     "output_type": "stream",
     "text": [
      "Zeros, rad/s      Poles, rad/s\n",
      "----------------  -----------------\n",
      "1570.80+6083.67j  -6283.19+0.00j\n",
      "1570.80-6083.67j  -1570.80+6083.67j\n",
      "-6283.19+0.00j    -1570.80-6083.67j\n"
     ]
    }
   ],
   "source": [
    "table_header = ['Zeros, rad/s', 'Poles, rad/s']\n",
    "num_table_rows = max(len(sys_zeros),len(sys_poles))\n",
    "table_row = []\n",
    "\n",
    "for i in range(num_table_rows):\n",
    "    if i < len(sys_zeros):\n",
    "        z = '{:.2f}'.format(sys_zeros[i])\n",
    "    else:\n",
    "        z = ''\n",
    "    if i < len(sys_poles):\n",
    "        p = '{:.2f}'.format(sys_poles[i])\n",
    "    else:\n",
    "        p = ''\n",
    "    table_row.append([z,p])\n",
    "\n",
    "print(tabulate(table_row, headers=table_header,colalign = ('left','left'),tablefmt=\"simple\"))"
   ]
  },
  {
   "cell_type": "markdown",
   "id": "036bf739-5797-42b1-b85d-988f12138e61",
   "metadata": {},
   "source": [
    "The magnitude and phase of the filter's transfer function is plotted below."
   ]
  },
  {
   "cell_type": "code",
   "execution_count": 120,
   "id": "7c199b07-e646-438c-b3ed-6c07c61d3a2d",
   "metadata": {},
   "outputs": [
    {
     "data": {
      "image/png": "[encoded data removed]",
      "text/plain": [
       "<Figure size 640x480 with 2 Axes>"
      ]
     },
     "metadata": {},
     "output_type": "display_data"
    }
   ],
   "source": [
    "x = np.logspace(2, 4, 100, endpoint=True)*2*np.pi\n",
    "w, mag, phase = signal.bode(sys_tf, w=x) # returns: rad/s, mag in dB, phase in deg\n",
    "\n",
    "fig, ax1 = plt.subplots()\n",
    "ax1.set_ylabel('magnitude, dB')\n",
    "ax1.set_xlabel('frequency, Hz')\n",
    "\n",
    "plt.semilogx(w/(2*np.pi), mag,'-b')    # magnitude plot\n",
    "ax1.set_ylim(-1,1)\n",
    "ax1.tick_params(axis='y')\n",
    "plt.grid()\n",
    "\n",
    "# instantiate a second y-axes that shares the same x-axis\n",
    "ax2 = ax1.twinx()\n",
    "color = 'tab:red'\n",
    "\n",
    "plt.semilogx(w/(2*np.pi), phase,':',color='tab:red')  # phase plot\n",
    "\n",
    "ax2.set_ylabel('phase, deg',color=color)\n",
    "ax2.tick_params(axis='y', labelcolor=color)\n",
    "\n",
    "plt.title('Magnitude and phase plot')\n",
    "plt.show()"
   ]
  },
  {
   "cell_type": "markdown",
   "id": "522b6c15-5651-4170-9999-dab854ee87d9",
   "metadata": {},
   "source": [
    "The step response is plotted below."
   ]
  },
  {
   "cell_type": "code",
   "execution_count": 121,
   "id": "33af320d-6709-4207-a6b0-09895346e944",
   "metadata": {},
   "outputs": [
    {
     "data": {
      "image/png": "[encoded data removed]",
      "text/plain": [
       "<Figure size 640x480 with 1 Axes>"
      ]
     },
     "metadata": {},
     "output_type": "display_data"
    }
   ],
   "source": [
    "# define the time interval and create a square wave step waveform.\n",
    "t = np.linspace(0, 0.1, 500, endpoint=False)\n",
    "sqr_signal = signal.square(2*np.pi*25*t, duty=0.5)\n",
    "\n",
    "# call lsim to generate the response signal\n",
    "t_step, y_step, x_step = signal.lsim(sys_tf, U=sqr_signal, T=t)\n",
    "\n",
    "plt.plot(t_step, sqr_signal, 'r', alpha = 1.0, linewidth=1, label='input')\n",
    "plt.plot(t_step, y_step,'b', linewidth = 1.0, label='output')\n",
    "plt.title('Step response')\n",
    "plt.ylabel('volts')\n",
    "plt.xlabel('time, sec')\n",
    "plt.grid()\n",
    "plt.legend(loc='best')\n",
    "# show plot\n",
    "plt.show()"
   ]
  },
  {
   "cell_type": "code",
   "execution_count": null,
   "id": "e07806d3-5587-400e-a2a1-15db95e240e4",
   "metadata": {},
   "outputs": [],
   "source": []
  },
  {
   "cell_type": "markdown",
   "id": "5bb15fef-cb53-4425-ae45-8bb9a33bdce0",
   "metadata": {},
   "source": [
    "# Twin-T-variation 10b\n",
    "\n",
    "### Circuit Description"
   ]
  },
  {
   "cell_type": "markdown",
   "id": "7ecd35aa-974c-459b-99e8-bda7720bc3ed",
   "metadata": {},
   "source": [
    "![](Twin-T-variation10b.png)"
   ]
  },
  {
   "cell_type": "code",
   "execution_count": 122,
   "id": "5fe119e3-6496-4c62-bd1e-70a2aabac918",
   "metadata": {},
   "outputs": [],
   "source": [
    "example_net_list = '''\n",
    "* Twin-T-variation10b.asc\n",
    "R1 3 1 1\n",
    "R2 4 5 1\n",
    "R3 5 0 1\n",
    "C1 5 1 1\n",
    "C2 4 3 1\n",
    "C3 3 0 1\n",
    "V1 1 0 1\n",
    "O1 6 4 2\n",
    "R5 6 1 1\n",
    "R6 2 6 1\n",
    "'''"
   ]
  },
  {
   "cell_type": "code",
   "execution_count": 123,
   "id": "ba80a421-2bfd-4940-8f95-3c8f31fd49c1",
   "metadata": {},
   "outputs": [
    {
     "data": {
      "text/markdown": [
       "$H(s)=\\frac{- C_{1} C_{2} C_{3} R_{1} R_{2} R_{3} R_{6} s^{3} - R_{6} + s^{2} \\left(C_{1} C_{2} R_{1} R_{3} R_{5} + C_{1} C_{2} R_{2} R_{3} R_{5} + C_{1} C_{3} R_{1} R_{3} R_{5} - C_{2} C_{3} R_{1} R_{2} R_{6} - C_{2} C_{3} R_{1} R_{3} R_{6}\\right) + s \\left(C_{1} R_{3} R_{5} - C_{2} R_{1} R_{6} + C_{2} R_{2} R_{5} + C_{2} R_{3} R_{5} - C_{3} R_{1} R_{6}\\right)}{C_{1} C_{2} C_{3} R_{1} R_{2} R_{3} R_{5} s^{3} + R_{5} + s^{2} \\left(C_{1} C_{2} R_{1} R_{3} R_{5} + C_{1} C_{2} R_{2} R_{3} R_{5} + C_{1} C_{3} R_{1} R_{3} R_{5} + C_{2} C_{3} R_{1} R_{2} R_{5} + C_{2} C_{3} R_{1} R_{3} R_{5}\\right) + s \\left(C_{1} R_{3} R_{5} + C_{2} R_{1} R_{5} + C_{2} R_{2} R_{5} + C_{2} R_{3} R_{5} + C_{3} R_{1} R_{5}\\right)}$"
      ],
      "text/plain": [
       "<IPython.core.display.Markdown object>"
      ]
     },
     "execution_count": 123,
     "metadata": {},
     "output_type": "execute_result"
    }
   ],
   "source": [
    "#| echo: true\n",
    "report, network_df, df2, A, X, Z = SymMNA.smna(example_net_list)\n",
    "\n",
    "X = Matrix(X)\n",
    "Z = Matrix(Z)\n",
    "\n",
    "NE_sym = Eq(A*X,Z)\n",
    "\n",
    "var(str(NE_sym.free_symbols).replace('{','').replace('}',''))\n",
    "nominal_component_value = SymMNA.get_part_values(network_df)\n",
    "\n",
    "# N is the variation number\n",
    "U_sym = solve(NE_sym,X)\n",
    "H_sym = cancel(U_sym[v2]/U_sym[v1],s)\n",
    "\n",
    "#| echo: false\n",
    "Markdown('$H(s)={:s}$'.format(latex(H_sym)))"
   ]
  },
  {
   "cell_type": "markdown",
   "id": "b45f859e-85ba-41dc-b068-53e588a792b4",
   "metadata": {},
   "source": [
    "Making the substitutions:\n",
    "\n",
    "{R1:R,R3:R,R5:R,R6:R, C1:C, C3:C}\n"
   ]
  },
  {
   "cell_type": "code",
   "execution_count": 124,
   "id": "70747599-f246-4b49-ae64-cefc8faafdec",
   "metadata": {},
   "outputs": [
    {
     "data": {
      "image/png": "[encoded data removed]",
      "text/latex": [
       "$\\displaystyle \\frac{- C^{3} R^{3} s^{3} + 5 C^{2} R^{2} s^{2} + 5 C R s - 1}{2 C^{3} R^{3} s^{3} + 14 C^{2} R^{2} s^{2} + 14 C R s + 2}$"
      ],
      "text/plain": [
       "    3  3  3      2  2  2               \n",
       " - C ⋅R ⋅s  + 5⋅C ⋅R ⋅s  + 5⋅C⋅R⋅s - 1 \n",
       "───────────────────────────────────────\n",
       "   3  3  3       2  2  2               \n",
       "2⋅C ⋅R ⋅s  + 14⋅C ⋅R ⋅s  + 14⋅C⋅R⋅s + 2"
      ]
     },
     "execution_count": 124,
     "metadata": {},
     "output_type": "execute_result"
    }
   ],
   "source": [
    "H_sym_reduced = H_sym.subs({R1:R, R2:R/2, R3:R, C1:C, C2:2*C, C3:C, R5:2, R6:1})\n",
    "H_sym_reduced"
   ]
  },
  {
   "cell_type": "code",
   "execution_count": 125,
   "id": "e6eb7a65-24e7-47a6-afd9-bb1b92fce854",
   "metadata": {},
   "outputs": [
    {
     "data": {
      "image/png": "[encoded data removed]",
      "text/latex": [
       "$\\displaystyle \\frac{- C^{2} R^{2} s^{2} + 6 C R s - 1}{2 \\left(C^{2} R^{2} s^{2} + 6 C R s + 1\\right)}$"
      ],
      "text/plain": [
       "    2  2  2               \n",
       " - C ⋅R ⋅s  + 6⋅C⋅R⋅s - 1 \n",
       "──────────────────────────\n",
       "  ⎛ 2  2  2              ⎞\n",
       "2⋅⎝C ⋅R ⋅s  + 6⋅C⋅R⋅s + 1⎠"
      ]
     },
     "execution_count": 125,
     "metadata": {},
     "output_type": "execute_result"
    }
   ],
   "source": [
    "H_sym_reduced.simplify().collect(s)"
   ]
  },
  {
   "cell_type": "code",
   "execution_count": 126,
   "id": "4a9f1a7c-a66c-4537-9037-cd4641e2c924",
   "metadata": {},
   "outputs": [],
   "source": [
    "H_sym_num, H_sym_denom = fraction(H_sym_reduced,s) #returns numerator and denominator"
   ]
  },
  {
   "cell_type": "code",
   "execution_count": 127,
   "id": "733b8bca-921b-47e9-a214-34b9add4f9a3",
   "metadata": {},
   "outputs": [
    {
     "data": {
      "image/png": "[encoded data removed]",
      "text/latex": [
       "$\\displaystyle - C^{3} R^{3} s^{3} + 5 C^{2} R^{2} s^{2} + 5 C R s - 1$"
      ],
      "text/plain": [
       "   3  3  3      2  2  2              \n",
       "- C ⋅R ⋅s  + 5⋅C ⋅R ⋅s  + 5⋅C⋅R⋅s - 1"
      ]
     },
     "execution_count": 127,
     "metadata": {},
     "output_type": "execute_result"
    }
   ],
   "source": [
    "H_sym_num"
   ]
  },
  {
   "cell_type": "code",
   "execution_count": 128,
   "id": "d57e9f60-9e1e-423e-b9b3-1594f4845510",
   "metadata": {},
   "outputs": [
    {
     "data": {
      "image/png": "[encoded data removed]",
      "text/latex": [
       "$\\displaystyle - \\left(C R s + 1\\right) \\left(C^{2} R^{2} s^{2} - 6 C R s + 1\\right)$"
      ],
      "text/plain": [
       "             ⎛ 2  2  2              ⎞\n",
       "-(C⋅R⋅s + 1)⋅⎝C ⋅R ⋅s  - 6⋅C⋅R⋅s + 1⎠"
      ]
     },
     "execution_count": 128,
     "metadata": {},
     "output_type": "execute_result"
    }
   ],
   "source": [
    "H_sym_num.factor(s)"
   ]
  },
  {
   "cell_type": "code",
   "execution_count": 129,
   "id": "d97d0311-a484-436a-83a9-7e931c519a8e",
   "metadata": {},
   "outputs": [
    {
     "data": {
      "image/png": "[encoded data removed]",
      "text/latex": [
       "$\\displaystyle 2 C^{3} R^{3} s^{3} + 14 C^{2} R^{2} s^{2} + 14 C R s + 2$"
      ],
      "text/plain": [
       "   3  3  3       2  2  2               \n",
       "2⋅C ⋅R ⋅s  + 14⋅C ⋅R ⋅s  + 14⋅C⋅R⋅s + 2"
      ]
     },
     "execution_count": 129,
     "metadata": {},
     "output_type": "execute_result"
    }
   ],
   "source": [
    "H_sym_denom"
   ]
  },
  {
   "cell_type": "code",
   "execution_count": 130,
   "id": "55fd8547-b3d6-4cfe-9c21-e92896b0f918",
   "metadata": {},
   "outputs": [
    {
     "data": {
      "image/png": "[encoded data removed]",
      "text/latex": [
       "$\\displaystyle 2 \\left(C R s + 1\\right) \\left(C^{2} R^{2} s^{2} + 6 C R s + 1\\right)$"
      ],
      "text/plain": [
       "              ⎛ 2  2  2              ⎞\n",
       "2⋅(C⋅R⋅s + 1)⋅⎝C ⋅R ⋅s  + 6⋅C⋅R⋅s + 1⎠"
      ]
     },
     "execution_count": 130,
     "metadata": {},
     "output_type": "execute_result"
    }
   ],
   "source": [
    "H_sym_denom.factor(s)"
   ]
  },
  {
   "cell_type": "code",
   "execution_count": 131,
   "id": "32025d28-5173-429a-a33a-e4e75e5f0a1d",
   "metadata": {},
   "outputs": [],
   "source": [
    "H_sym_num, H_sym_denom = fraction(H_sym_reduced.simplify().collect(s),s) #returns numerator and denominator"
   ]
  },
  {
   "cell_type": "code",
   "execution_count": 132,
   "id": "e6b9d215-b31f-4a02-baf5-dee3dc4ddf6b",
   "metadata": {},
   "outputs": [
    {
     "data": {
      "image/png": "[encoded data removed]",
      "text/latex": [
       "$\\displaystyle \\left[ \\frac{3 - 2 \\sqrt{2}}{C R}, \\  \\frac{2 \\sqrt{2} + 3}{C R}\\right]$"
      ],
      "text/plain": [
       "⎡3 - 2⋅√2  2⋅√2 + 3⎤\n",
       "⎢────────, ────────⎥\n",
       "⎣  C⋅R       C⋅R   ⎦"
      ]
     },
     "execution_count": 132,
     "metadata": {},
     "output_type": "execute_result"
    }
   ],
   "source": [
    "solve(H_sym_num, s)"
   ]
  },
  {
   "cell_type": "code",
   "execution_count": 133,
   "id": "fd092d07-ca19-45ec-a91d-e92276a8849f",
   "metadata": {},
   "outputs": [
    {
     "data": {
      "image/png": "[encoded data removed]",
      "text/latex": [
       "$\\displaystyle \\left[ \\frac{-3 - 2 \\sqrt{2}}{C R}, \\  \\frac{-3 + 2 \\sqrt{2}}{C R}\\right]$"
      ],
      "text/plain": [
       "⎡-3 - 2⋅√2  -3 + 2⋅√2⎤\n",
       "⎢─────────, ─────────⎥\n",
       "⎣   C⋅R        C⋅R   ⎦"
      ]
     },
     "execution_count": 133,
     "metadata": {},
     "output_type": "execute_result"
    }
   ],
   "source": [
    "solve(H_sym_denom, s)"
   ]
  },
  {
   "cell_type": "code",
   "execution_count": 134,
   "id": "083718db-58b1-45c9-879d-b2f40696421a",
   "metadata": {
    "collapsed": false,
    "jupyter": {
     "outputs_hidden": false
    }
   },
   "outputs": [],
   "source": [
    "H_num, H_denom = fraction(H_sym_reduced.subs({R:1e3,C:1e-6}))\n",
    "\n",
    "# convert symbolic to numpy polynomial\n",
    "a = np.array(Poly(H_num, s).all_coeffs(), dtype=float)\n",
    "b = np.array(Poly(H_denom, s).all_coeffs(), dtype=float)\n",
    "sys_tf = signal.TransferFunction(a,b)"
   ]
  },
  {
   "cell_type": "markdown",
   "id": "4b76d5ad-e34a-4433-b7fe-1ea5531988ed",
   "metadata": {},
   "source": [
    "The poles and zeros of the transfer function are plotted below:"
   ]
  },
  {
   "cell_type": "code",
   "execution_count": 135,
   "id": "af79faf9-0553-48ad-ae1c-3f59ed2e99e4",
   "metadata": {},
   "outputs": [
    {
     "data": {
      "image/png": "[encoded data removed]",
      "text/plain": [
       "<Figure size 640x480 with 1 Axes>"
      ]
     },
     "metadata": {},
     "output_type": "display_data"
    }
   ],
   "source": [
    "sys_zeros = np.roots(sys_tf.num)\n",
    "sys_poles = np.roots(sys_tf.den)\n",
    "\n",
    "plt.plot(np.real(sys_zeros), np.imag(sys_zeros), 'ob', markerfacecolor='none')\n",
    "plt.plot(np.real(sys_poles), np.imag(sys_poles), 'xr')\n",
    "plt.legend(['Zeros', 'Poles'], loc=0)\n",
    "plt.title('Pole / Zero Plot')\n",
    "plt.xlabel('real part, \\u03B1')\n",
    "plt.ylabel('imaginary part, j\\u03C9')\n",
    "plt.grid()\n",
    "plt.show()"
   ]
  },
  {
   "cell_type": "markdown",
   "id": "362361da-a642-4c74-aa04-cec950e213d2",
   "metadata": {},
   "source": [
    "The units of the poles and zeros are in radian frequency and are tabulated below."
   ]
  },
  {
   "cell_type": "code",
   "execution_count": 136,
   "id": "d5ed6839-a716-4da5-8cf1-abc1670e8b87",
   "metadata": {},
   "outputs": [
    {
     "name": "stdout",
     "output_type": "stream",
     "text": [
      "Zeros, rad/s    Poles, rad/s\n",
      "--------------  --------------\n",
      "5828.43         -5828.43\n",
      "-1000           -1000\n",
      "171.57          -171.57\n"
     ]
    }
   ],
   "source": [
    "#| echo: false\n",
    "#| tbl-cap: table of poles and zeros\n",
    "\n",
    "table_header = ['Zeros, rad/s', 'Poles, rad/s']\n",
    "num_table_rows = max(len(sys_zeros),len(sys_poles))\n",
    "table_row = []\n",
    "\n",
    "for i in range(num_table_rows):\n",
    "    if i < len(sys_zeros):\n",
    "        z = '{:.2f}'.format(sys_zeros[i])\n",
    "    else:\n",
    "        z = ''\n",
    "    if i < len(sys_poles):\n",
    "        p = '{:.2f}'.format(sys_poles[i])\n",
    "    else:\n",
    "        p = ''\n",
    "    table_row.append([z,p])\n",
    "\n",
    "print(tabulate(table_row, headers=table_header,colalign = ('left','left'),tablefmt=\"simple\"))"
   ]
  },
  {
   "cell_type": "markdown",
   "id": "8a69a14c-d06e-4d56-8536-c1899656936e",
   "metadata": {},
   "source": [
    "The values of the poles network are the same a chosen above, thus validating the solution.\n",
    "\n",
    "The magnitude and phase of the filter's transfer function is plotted below."
   ]
  },
  {
   "cell_type": "code",
   "execution_count": 137,
   "id": "199152c5-0d41-4884-8479-67aa2e2bc57b",
   "metadata": {},
   "outputs": [
    {
     "data": {
      "image/png": "[encoded data removed]",
      "text/plain": [
       "<Figure size 640x480 with 2 Axes>"
      ]
     },
     "metadata": {},
     "output_type": "display_data"
    }
   ],
   "source": [
    "x = np.logspace(-3, 6, 100, endpoint=True)*2*np.pi\n",
    "w, mag, phase = signal.bode(sys_tf, w=x) # returns: rad/s, mag in dB, phase in deg\n",
    "\n",
    "fig, ax1 = plt.subplots()\n",
    "ax1.set_ylabel('magnitude, dB')\n",
    "ax1.set_xlabel('frequency, Hz')\n",
    "\n",
    "plt.semilogx(w/(2*np.pi), mag,'-b')    # magnitude plot\n",
    "#ax1.set_ylim(-1,1)\n",
    "ax1.tick_params(axis='y')\n",
    "plt.grid()\n",
    "\n",
    "# instantiate a second y-axes that shares the same x-axis\n",
    "ax2 = ax1.twinx()\n",
    "color = 'tab:red'\n",
    "\n",
    "plt.semilogx(w/(2*np.pi), phase,':',color='tab:red')  # phase plot\n",
    "\n",
    "ax2.set_ylabel('phase, deg',color=color)\n",
    "ax2.tick_params(axis='y', labelcolor=color)\n",
    "\n",
    "plt.title('Magnitude and phase plot')\n",
    "plt.show()"
   ]
  },
  {
   "cell_type": "markdown",
   "id": "b1af8701-65ff-4f63-a63a-3dce35cceece",
   "metadata": {},
   "source": [
    "The step response is plotted below."
   ]
  },
  {
   "cell_type": "code",
   "execution_count": 138,
   "id": "898094e3-4238-4dbb-a9cb-42d70ac7242e",
   "metadata": {},
   "outputs": [
    {
     "data": {
      "image/png": "[encoded data removed]",
      "text/plain": [
       "<Figure size 640x480 with 1 Axes>"
      ]
     },
     "metadata": {},
     "output_type": "display_data"
    }
   ],
   "source": [
    "# define the time interval and create a square wave step waveform.\n",
    "t = np.linspace(0, 50, 500, endpoint=False)\n",
    "sqr_signal = signal.square(2*np.pi*0.025*t, duty=0.5)\n",
    "\n",
    "# call lsim to generate the response signal\n",
    "t_step, y_step, x_step = signal.lsim(sys_tf, U=sqr_signal, T=t)\n",
    "\n",
    "plt.plot(t_step, sqr_signal, 'r', alpha = 1.0, linewidth=1, label='input')\n",
    "plt.plot(t_step, y_step,'b', linewidth = 1.0, label='output')\n",
    "plt.title('Step response')\n",
    "plt.ylabel('volts')\n",
    "plt.xlabel('time, sec')\n",
    "plt.grid()\n",
    "plt.legend(loc='best')\n",
    "# show plot\n",
    "plt.show()"
   ]
  },
  {
   "cell_type": "code",
   "execution_count": null,
   "id": "3a12ff2c-4fa8-49f7-99ce-ebcee86f1d01",
   "metadata": {},
   "outputs": [],
   "source": []
  },
  {
   "cell_type": "code",
   "execution_count": null,
   "id": "1dd13b8d-be97-4beb-8902-ac767b64415c",
   "metadata": {},
   "outputs": [],
   "source": []
  }
 ],
 "metadata": {
  "kernelspec": {
   "display_name": "Python 3 (ipykernel)",
   "language": "python",
   "name": "python3"
  },
  "language_info": {
   "codemirror_mode": {
    "name": "ipython",
    "version": 3
   },
   "file_extension": ".py",
   "mimetype": "text/x-python",
   "name": "python",
   "nbconvert_exporter": "python",
   "pygments_lexer": "ipython3",
   "version": "3.10.9"
  }
 },
 "nbformat": 4,
 "nbformat_minor": 5
}
