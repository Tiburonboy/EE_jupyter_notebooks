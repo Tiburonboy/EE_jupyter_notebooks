{
 "cells": [
  {
   "cell_type": "markdown",
   "id": "e41b8685-dfb9-4164-85fc-931d4d250ae5",
   "metadata": {},
   "source": [
    "# Design Oriented Analysis v0\n",
    "\n",
    "Last update: 18 Mar 2025  \n",
    "> $\\large{\\color {red} {\\text{Note}}}$  \n",
    "> This notebook is an early draft and is posted as a placeholder  \n",
    "> The narrative and calculations are very preliminary  \n",
    "> Spelling and grammar checks have not been completed  \n",
    "\n",
    "\n",
    "# FACTS (Fast Analytical Circuits Techniques)\n",
    "\n",
    "The FACTS (Fast Analytical Circuits Techniques) method refers to a circuit analysis technique that enables engineers to obtain the transfer functions and input and output impedances of a circuit by inspection without resorting to too much algebra. The circuits offered as illustrations of the technique are small with one or two reactive elements. Middlebrook [x] seems to have been the first proponent of the method and describes what he calls design oriented analysis. He talks about low entropy equations, in which the terms and elements are ordered or grouped in such a way that their physical origin, where they come from in the circuit, and what part of the circuit contributes to this part of the final expression becomes obvious. The method is also described in [x].\n",
    "\n",
    "The origin of the FACTS circuit analysis method, as stated above, is from [x] and [x] @Middlebrook1991. [IEEE](https://www.ieee.org/) technical papers and books by [x] @basso2016 and [x] @Vorpérian2002 have been written on the subject, however these are not free or available to download for free. FACTS is a circuit analysis method where the transfer function is determined by applying the Extra Element Theorem. Christophe Basso, Vatché Vorpérian and others have open source content available:\n",
    "\n",
    "- [Introduction to Fast Analytical Techniques: Application to Small-Signal Modeling](https://www.powersimtof.com/Downloads/PPTs/Chris%20Basso%20APEC%20seminar%202016.pdf)\n",
    "- A series of 22 YouTube videos starting with: [Fast Analytical Techniques for Electrical and Electronic Circuits](https://www.youtube.com/watch?v=uir9Js1l_r8)\n",
    "- [Extra Element Theorem: An Introduction (with Examples)](https://www.edn.com/middlebrooks-extra-element-theorem/)\n",
    "\n",
    "According to the open source FACTS literature:\n",
    "\n",
    ">The well-known and widely used methods of nodal or loop analysis, while effective for obtaining numerical solutions, are largely ineffective for deriving analytical solutions in symbolic form, except for simple circuits. Attempting to invert a matrix with symbolic entries, even for low-order matrices, results in tedious algebra and complex, high-entropy expressions that provide little meaningful insight.\n",
    "\n",
    "The FACTS procedure, as illustrated in the open source literature, employs example circuits that are usually of order 1 or 2. The procedure results in equations that keep circuit elements grouped together and thus the equations are more intuitive. For 3rd order and higher circuits, the procedure becomes rather involved and I didn't see any circuit analysis examples beyond a 2nd order circuit.\n",
    "\n",
    "Traditional circuit analysis techniques usually don't produce analytical answers, i.e. equations in terms of symbols. Both the FACTS procedure and the MNA Python code in this book yield analytical answers, with the FACTS results possibly being more intuitive and the MNA Python code providing an automated solution, which would then have to be algebraically manipulated to be put into a FACTS type solution.\n",
    "\n",
    "\n",
    "IN the video series start with video 8\n",
    "\n",
    "#### Versions\n",
    "\n",
    "- 6-Mar-2025: Added v0 to filename.\n"
   ]
  },
  {
   "cell_type": "markdown",
   "id": "2d03d5aa-5b8e-42b5-b419-31ee0ddfb446",
   "metadata": {},
   "source": [
    "Prototype FACTS equations in seperate notebook. \n",
    "\n",
    "Twin-T_BPF_FACTS.ipynb\n",
    "\n",
    "references\n",
    "```\n",
    "@INPROCEEDINGS{Middlebrook1992,\n",
    "  author={Middlebrook, R.D.},\n",
    "  booktitle={Proceedings. Twenty-Second Annual conference Frontiers in Education}, \n",
    "  title={Methods of Design-Oriented Analysis: The Quadratic Equation Revisited}, \n",
    "  year={1992},\n",
    "  pages={95-102},\n",
    "  doi={10.1109/FIE.1992.683365}\n",
    "}\n",
    "\n",
    "@INPROCEEDINGS{Middlebrook1991,\n",
    "  author={Middlebrook, R.D.},\n",
    "  booktitle={Proceedings Frontiers in Education Twenty-First Annual Conference. Engineering Education in a New World Order}, \n",
    "  title={Low-entropy expressions: the key to design-oriented analysis}, \n",
    "  year={1991},\n",
    "  pages={399-403},\n",
    "  doi={10.1109/FIE.1991.187513}\n",
    "}\n",
    "\n",
    "@online{basso2016,\n",
    "    author = {Basso, Christophe},\n",
    "    title = {Introduction to Fast Analytical Techniques: Application to Small-Signal Modeling},\n",
    "    url  = {https://www.powersimtof.com/Downloads/PPTs/Chris%20Basso%20APEC%20seminar%202016.pdf},\n",
    "    year={2016},\n",
    "    addendum = {accessed 12 Feb 2024}\n",
    "}\n",
    "\n",
    "@book{Vorpérian2002,\n",
    "  title={Fast Analytical Techniques for Electrical and Electronic Circuits},\n",
    "  author={Vatché Vorpérian},\n",
    "  isbn={9780521624718},\n",
    "  year={2002},\n",
    "  url={https://www.cambridge.org/core/books/fast-analytical-techniques-for-electrical-and-electronic-circuits/17845BA88A05A1645A8409D6739A475A#fndtn-information},\n",
    "  publisher={Cambridge University Press},\n",
    "  addendum = {accessed 1 July 2024}\n",
    "}\n",
    "```"
   ]
  },
  {
   "cell_type": "markdown",
   "id": "6dfbdd5c-f5ce-4d28-9afb-c408f000993f",
   "metadata": {},
   "source": [
    "The analytic expressions for the transfer functions and roots of the numerator and denominator polynominals are rather long and not very intuitive. There is an alternate approach to circuits aanalysis called Design Orientated Anlysis proposed by R.D.Middlebrook and also called Fast Analytical Circuits Techniques, proposed by Vatché Vorpérian, which attempts to reduce algebraic complexity and provide physical insight into the circuit's behavior[x][x]. See the link (here)[https://github.com/Tiburonboy/EE_jupyter_notebooks/blob/main/Buchla%20Twin-T%20Active%20Filter/Twin-T_BPF_FACTS.ipynb] for a JupyterLab notebook exploring these ideas.\n",
    "\n",
    "\n",
    "[x] R. D. Middlebrook, Low-entropy expressions: the key to design-oriented analysis, Proceedings Frontiers in Education Twenty-First Annual Conference. Engineering Education in a New World Order, 1991\n",
    "[x] Vatché Vorpérian, Fast Analytical Techniques for Electrical and Electronic Circuits, Cambridge University Press, 2002\n",
    "\n",
    "\n",
    "\n",
    "\n",
    "\n",
    "\n",
    "\n",
    "Fast analytical techniques offer a streamlined approach to transfer function analysis in electrical circuits by reducing algebraic complexity and providing physical insight into circuit behavior. These methods, often based on theorems like the Extra Element Theorem (EET) and Null Double Injection (NDI), help in deriving low-entropy expressions.\n",
    "\n",
    "The FACTS (Fast Analytical Circuits Techniques) method refers to a circuit analysis technique that enables engineers to obtain the transfer functions and input and output impedances of a circuit by inspection without resorting to too much algebra. The circuits offered as illustrations of the technique are small with one or two reactive elements. Middlebrook [x] seems to have been the first proponent of the method and describes what he calls design oriented analysis. He talks about low entropy equations, in which the terms and elements are ordered or grouped in such a way that their physical origin, where they come from in the circuit, and what part of the circuit contributes to this part of the final expression becomes obvious. The method is also described in [x].\n",
    "\n",
    "The origin of the FACTS circuit analysis method, as stated above, is from [x] and [x] @Middlebrook1991. [IEEE](https://www.ieee.org/) technical papers and books by [x] @basso2016 and [x] @Vorpérian2002 have been written on the subject, however these are not free or available to download for free. FACTS is a circuit analysis method where the transfer function is determined by applying the Extra Element Theorem. Christophe Basso, Vatché Vorpérian and others have open source content available:\n",
    "\n",
    "- [Introduction to Fast Analytical Techniques: Application to Small-Signal Modeling](https://www.powersimtof.com/Downloads/PPTs/Chris%20Basso%20APEC%20seminar%202016.pdf)\n",
    "- A series of 22 YouTube videos starting with: [Fast Analytical Techniques for Electrical and Electronic Circuits](https://www.youtube.com/watch?v=uir9Js1l_r8)\n",
    "- [Extra Element Theorem: An Introduction (with Examples)](https://www.edn.com/middlebrooks-extra-element-theorem/)\n",
    "\n",
    "According to the open source FACTS literature:\n",
    "\n",
    ">The well-known and widely used methods of nodal or loop analysis, while effective for obtaining numerical solutions, are largely ineffective for deriving analytical solutions in symbolic form, except for simple circuits. Attempting to invert a matrix with symbolic entries, even for low-order matrices, results in tedious algebra and complex, high-entropy expressions that provide little meaningful insight.\n",
    "\n",
    "The FACTS procedure, as illustrated in the open source literature, employs example circuits that are usually of order 1 or 2. The procedure results in equations that keep circuit elements grouped together and thus the equations are more intuitive. For 3rd order and higher circuits, the procedure becomes rather involved and I didn't see any circuit analysis examples beyond a 2nd order circuit.\n",
    "\n",
    "Traditional circuit analysis techniques usually don't produce analytical answers, i.e. equations in terms of symbols. Both the FACTS procedure and the MNA Python code in this book yield analytical answers, with the FACTS results possibly being more intuitive and the MNA Python code providing an automated solution, which would then have to be algebraically manipulated to be put into a FACTS type solution.\n",
    "\n",
    "\n",
    "IN the video series start with video 8\n",
    "\n",
    "Add link to jupyterlab notebook in github."
   ]
  },
  {
   "cell_type": "code",
   "execution_count": null,
   "id": "978a38be-cf0e-4004-a137-eb901bdd4a6a",
   "metadata": {},
   "outputs": [],
   "source": []
  },
  {
   "cell_type": "markdown",
   "id": "8b8de26e-ce22-4010-b03c-c047c160cae7",
   "metadata": {},
   "source": [
    "Fast analytical techniques offer a streamlined approach to transfer function analysis in electrical circuits by reducing algebraic complexity and providing physical insight into circuit behavior. These methods, often based on theorems like the Extra Element Theorem (EET) and Null Double Injection (NDI), help in deriving low-entropy expressions.\n",
    "\n",
    "Key benefits and techniques:\n",
    "*   **Low Entropy Expressions:** These techniques aim to express transfer functions in a way that exposes the relationships between circuit elements, such as series/parallel combinations and time constants, rather than as complex sums of products. A low-entropy expression clarifies how element values affect the result and helps avoid algebraic mistakes.\n",
    "*   **Simplification of Complex Circuits:** Fast analytical techniques simplify complicated circuits with reactive elements and dependent sources. They reduce these circuits to simpler, purely resistive circuits that can be analyzed by inspection.\n",
    "*   ** использовании теорем:** Theorems like the EET allow engineers to analyze circuits by considering one reactance at a time, which simplifies the overall analysis. The EET involves steps such as finding the gain with an extra element removed, determining driving-point and null impedances, and then solving for the modified gain.\n",
    "*   **Time Constant Analysis:** These techniques involve determining time constants by looking at the resistance driving a storage element (capacitor or inductor) under different conditions (e.g., when the excitation is turned off).\n",
    "*   **Zero and Pole Identification:** Fast analytical techniques help identify zeros and poles of transfer functions by inspection. Zeros are found by determining when the response disappears, often by considering transformed open or short circuits in the network.\n",
    "*   **Design-Oriented Analysis:** These methods facilitate design by ensuring that the analysis is structured to reveal how circuit parameters influence performance. This approach helps engineers understand the causes of circuit behavior and make informed design choices.\n",
    "*   **PWM Switch Model:** In power electronics, fast analytical techniques can be applied using the PWM switch model, which simplifies the analysis of PWM converters by replacing the switching cell with an equivalent circuit.\n",
    "*   **Modular Analysis:** Methods like EET can lead to modular answers, so that errors remain confined and can be replaced without affecting the entire answer.\n",
    "*   **Reduced Algebra:** These techniques minimize the amount of algebra needed, with much of the analysis done directly on the circuit diagram.\n",
    "*   **Physical Interpretation:** Results obtained through fast analytical techniques offer direct physical interpretations, because the algebra is done on the circuit diagram itself, allowing the analytical result to be written by inspection.\n",
    "\n",
    "While traditional methods like nodal or loop analysis are suitable for numerical solutions, fast analytical techniques excel at providing analytical solutions that offer insight into circuit behavior and are valuable for design purposes.\n",
    "\n",
    "\n",
    "**Low-entropy expressions** are a way of presenting the results of circuit analysis so that additional insight is obtained into the relative importance of the various contributions to the result. They are defined as expressions in which the terms are ordered or grouped. The term \"entropy\" is borrowed from physics.\n",
    "\n",
    "Here's why low-entropy expressions are useful:\n",
    "*   **Provide Insight:** They give insight into how element relative values affect the result. A low-entropy expression exposes the relationships between circuit elements, such as series/parallel combinations, ratios, and time constants.\n",
    "*   **Aid Design:** Low Entropy Expressions clarify relationships as to how element values affect the result. Design-oriented analysis, which produces low-entropy expressions, is valuable because analysis is only useful if it can be \"inverted\" for design.\n",
    "*   **Simplify Complex Circuits:** They simplify complicated circuits with reactive elements and dependent sources, reducing them to simpler, purely resistive circuits that can be analyzed by inspection.\n",
    "*   **Reduce Errors:** They eliminate algebra, reducing the chance of algebraic mistakes.\n",
    "*   **Enable Approximations:** Low-entropy expressions can be easily approximated into simpler expressions useful for design purposes. Series-parallel combinations of resistances can be simplified by ignoring the smaller of two resistances in a series combination and the larger of two resistances in a parallel combination.\n",
    "*   **Offer Physical Interpretation:** They allow direct physical interpretation of the result. Direct physical interpretation of the results follows from the fact that the algebra is done on the circuit diagram, leaving the analytical result to be written by inspection.\n",
    "*   **Highlight Dominant Factors:** Resistances appear in series/parallel combinations, so it is clear which ones are dominant.\n",
    "*   **Reveal Sensitivities:** The relative values of terms in the expression expose the sensitivity of the gain to variations of parameters.\n",
    "\n",
    "In contrast, a **high-entropy expression** is obtained by blind application of algebraic manipulations, usually leading to sums of products of circuit elements, and gives no insight into how the relative values affect the result. High-entropy expressions offer no insight on what drives poles and zeros.\n",
    "\n",
    "A Low-Entropy Expression is defined as one in which\n",
    "terms are ordered, or grouped, so that additional inskht is\n",
    "obtained into the relative importanceof the various\n",
    "contributionsto the result. This is the source of the\n",
    "additional information needed for design, and substitutes\n",
    "for the missing equations that would be needed to solve\n",
    "formally for the number of unknowns.\n",
    "\n",
    "Design-Oriented Analysis (D-OA) is a method that creates low-entropy expressions by guiding and controlling the algebra to provide additional insight into the relative importance of the various contributions to the result. This approach ensures that the analysis is structured to reveal how circuit parameters influence performance, facilitating design and understanding.\n",
    "\n",
    "Key aspects of how D-OA creates low-entropy expressions:\n",
    "\n",
    "*   **Focus on the Desired Result:** The desired final form of the answer shapes the initial setup of the problem.\n",
    "*   **Strategic Simplification:** D-OA involves putting only enough into the model to get the answer needed. A simple model can always be augmented, but simplifying a complex model may not be so easy. Make approximations as soon as justified.\n",
    "*   **Structured Approach:** A design analysis must be managed or structured to guide the analysis efficiently towards the desired result. Subdivide a complex analysis into multiple simpler pieces and then assemble the results of the pieces into the final result.\n",
    "*   **Emphasis on Insight**: A properly organized equation can yield valuable information on circuit behavior without numerical calculation.\n",
    "*   **Algebra on the Circuit Diagram:** D-OA emphasizes doing the algebra on the circuit diagram itself. This means using circuit theorems (like Thevenin's and Norton's) and network transformations to simplify the circuit before writing equations. This often allows the analytical result to be written by inspection.\n",
    "*   **Efficient Methodology:** By applying strategic mental energy before doing any math, the answer comes out in low-entropy form.\n",
    "*   **Avoid Blind Algebra:** D-OA avoids \"blind application of algebraic manipulations\" that lead to high-entropy expressions.\n",
    "*   **Low-Entropy Groupings:** D-OA uses methods in which low-entropy groupings arise naturally and automatically.\n",
    "*   **Exploiting Theorems:** D-OA utilizes theorems and methods as tools to steer the analysis in a direction that gives a result in a Low-Entropy format of choice. For example, the Extra Element Theorem (EET) simplifies the extraction from circuits of the parameters of interest for design.\n",
    "*    **Time Constants:** D-OA helps determine time constants by looking at the resistance driving a storage element.\n",
    "*   **PWM Switch Model:** D-OA can be applied to pulse width modulation (PWM) converters using a PWM switch model.\n",
    "\n",
    "The goal is to obtain results in forms such as series/parallel combinations of elements, ratios of resistances or time constants, and polynomials with clear physical significance. These low-entropy expressions expose the dominant relationships and enable designers to make informed decisions.\n",
    "\n",
    "\n",
    "Design reverses conventional analysis by starting with the desired outcome and working backward to determine the necessary components and configurations. This contrasts with traditional analysis, which begins with a known circuit and calculates its behavior. Design-Oriented Analysis (D-OA) facilitates this reverse process by emphasizing low-entropy expressions.\n",
    "\n",
    "Key differences highlighting the reversal:\n",
    "\n",
    "*   **Starting Point:** **Analysis begins with a circuit configuration and element values to find the output or behavior, while design starts with the desired specifications (the answer to the analysis) and determines the circuit configuration and element values needed to meet those specifications**.\n",
    "*   **Objective:** The aim of analysis is to understand or predict the behavior of a given circuit. The purpose of design is to create a circuit that meets a specific set of performance criteria.\n",
    "*   **Equations:** **Analysis solves for unknowns using a sufficient number of equations, whereas design often deals with an insufficient number of equations, requiring approximations and trade-offs**.\n",
    "*   **Process:** Analysis typically involves applying theorems and methods to derive expressions for circuit behavior. Design involves \"inverting\" the analysis to select element values and configurations that satisfy the desired specifications.\n",
    "*   **Emphasis:** Analysis emphasizes accuracy and detailed calculations. Design balances accuracy with simplicity, often prioritizing insight and practicality.\n",
    "*   **Mentality:** Design replaces the negative attitude of \"I don’t have enough equations to solve for the number of unknowns\" with the positive attitude of \"I need to make the few equations I have work harder, and I need to substitute the missing equations with inequalities, tradeoffs, and approximations\".\n",
    "\n",
    "D-OA is crucial in making analysis results usable \"backwards\" for design. It uses low-entropy expressions to provide insight into how circuit parameters influence performance, enabling engineers to make informed design choices. By presenting results in a structured way, D-OA helps designers understand the trade-offs and approximations necessary to achieve their design goals.\n",
    "\n",
    "\n",
    "Engineers obtain meaningful analytical solutions by using fast analytical techniques that reduce algebraic complexity and offer insight into circuit behavior. These techniques emphasize **design-oriented analysis** and **low-entropy expressions**, enabling engineers to work backward from desired specifications to determine appropriate circuit configurations and element values.\n",
    "\n",
    "Key strategies include:\n",
    "\n",
    "*   **Low-Entropy Expressions:** Engineers aim to express transfer functions so the relative importance of various contributions to the result is clear. Low-entropy expressions expose relationships between circuit elements (series/parallel combinations, ratios, time constants) rather than complex sums of products. These expressions clarify how element values affect the result, aid design, simplify complex circuits, reduce errors, enable approximations and offer physical interpretations.\n",
    "*   **Design-Oriented Analysis (D-OA):** D-OA guides and controls the algebra to provide additional insight into the relative importance of the various contributions to the result. This approach ensures the analysis reveals how circuit parameters influence performance, facilitating design and understanding. D-OA uses strategic simplification, structured approaches, and emphasizes insight, efficient methodology and exploitation of theorems.\n",
    "*   **Theorems and Techniques:** Engineers use theorems like the Extra Element Theorem (EET) to simplify complex circuits. For example, the EET simplifies the extraction from circuits of the parameters of interest for design. Also, D-OA emphasizes doing algebra on the circuit diagram itself using circuit theorems and network transformations to simplify the circuit before writing equations.\n",
    "*   **Time Constant Analysis:** Fast analytical techniques determine time constants by looking at the resistance driving a storage element (capacitor or inductor) under different conditions.\n",
    "*   **Zero and Pole Identification:** Engineers identify zeros and poles of transfer functions by inspection, determining when the response disappears.\n",
    "*   **PWM Switch Model:** In power electronics, engineers apply fast analytical techniques using the PWM switch model, simplifying the analysis of PWM converters by replacing the switching cell with an equivalent circuit.\n",
    "*   **Reverse of Analysis:** Design reverses conventional analysis by starting with the desired specifications and determining the circuit configuration and element values.\n",
    "*   **Emphasis on Approximations and Trade-offs:** Because design often deals with an insufficient number of equations, engineers make approximations and trade-offs.\n",
    "\n",
    "By using these techniques, engineers can derive analytical solutions that offer physical insight into circuit operation, which is crucial for effective design.\n",
    "\n",
    "\n",
    "Low-entropy expressions aid design by providing **insight into the relationships between circuit parameters and performance**, which is essential for engineers to work backward from desired specifications to determine appropriate circuit configurations and element values. They facilitate the \"reverse of analysis\" required in design.\n",
    "\n",
    "Here's how low-entropy expressions specifically support the design process:\n",
    "\n",
    "*   **Highlight Element Relationships**: They expose how circuit elements relate to each other through series/parallel combinations, ratios, and time constants.\n",
    "*   **Enable Informed Trade-offs:** They clarify how element values affect the result.\n",
    "*   **Facilitate Approximations**: Low-entropy expressions can be easily approximated into simpler forms. For instance, a series-parallel combination of resistances can be simplified by ignoring the smaller of two resistances in a series combination, and the larger of two resistances in a parallel combination.\n",
    "*   **Provide a Clear Starting Point:** They begin with the Answer (the Specification), and work back to the beginning (circuit configuration and element values).\n",
    "*   **Offer Direct Physical Interpretation:** They allow direct physical interpretation of the result because the algebra is performed on the circuit diagram.\n",
    "*   **Expose Sensitivities**: They reveal the sensitivity of circuit performance to variations in component values.\n",
    "*   **Simplify Complex Analysis:** They simplify complex circuits, making it easier to understand and optimize performance.\n",
    "*   **Reduce Design Iterations:** They enable designers to meet specifications efficiently, reducing the need for multiple design iterations.\n",
    "*   **Enable \"Inversion\" for Design**: They make analysis results usable \"backwards\" for design, which allows for the selection of element values to achieve the desired roots.\n",
    "*   **Non-Algebraic Information**: They yield valuable information on circuit behavior without any numerical calculation.\n",
    "\n",
    "By presenting results in a structured, insightful way, low-entropy expressions enable designers to understand trade-offs and make informed decisions to meet design goals. They help in substituting missing exact equations with inequalities in the form of approximations and tradeoffs. They also help to substitute for the missing equations that would be needed to solve formally for the number of unknowns. They are easy to use for design: given A (the Specification), it becomes straightforward to choose element values.\n",
    "\n",
    "\n",
    "\n"
   ]
  },
  {
   "cell_type": "markdown",
   "id": "da37aa10-bfe5-4ef7-8da0-07cebb32e90b",
   "metadata": {},
   "source": [
    "Yes, you can approximate the poles of a transfer function by calculating the AC resistance and capacitance at each node, especially in circuits dominated by resistors and capacitors (RC circuits). This method is closely related to the **asymptotic waveform evaluation (AWE)** and **dominant pole approximation** techniques.\n",
    "\n",
    "Here's a breakdown of how it works and its limitations:\n",
    "\n",
    "**Conceptual Basis:**\n",
    "\n",
    "1.  **Node Analysis:**\n",
    "    * You analyze the circuit node by node.\n",
    "    * At each node, you determine the equivalent resistance (R) looking \"out\" from that node and the equivalent capacitance (C) connected to that node.\n",
    "\n",
    "2.  **Time Constants:**\n",
    "    * The product of R and C (RC) gives you a time constant (τ) at that node.\n",
    "    * This time constant corresponds to a pole in the transfer function, approximately located at s = -1/RC.\n",
    "\n",
    "3.  **Dominant Pole Approximation:**\n",
    "    * In many practical circuits, one or a few poles have a significantly larger time constant (smaller magnitude on the s-plane) than the others. These are the \"dominant poles.\"\n",
    "    * The dominant poles have the most significant impact on the circuit's transient response and low-frequency behavior.\n",
    "    * By identifying the nodes with the largest RC time constants, you can approximate the dominant poles of the transfer function.\n",
    "\n",
    "**Practical Implementation:**\n",
    "\n",
    "1.  **AC Resistance Calculation:**\n",
    "    * To find the AC resistance at a node, you deactivate all independent voltage and current sources (voltage sources become shorts, current sources become opens).\n",
    "    * Then, you calculate the equivalent resistance seen from that node. This might involve series and parallel combinations of resistors.\n",
    "\n",
    "2.  **Capacitance Calculation:**\n",
    "    * The capacitance at a node is simply the sum of all capacitances connected to that node.\n",
    "\n",
    "3.  **Pole Approximation:**\n",
    "    * Calculate the time constant (τ = RC) for each node.\n",
    "    * The approximate poles are then s = -1/τ.\n",
    "\n",
    "**Advantages:**\n",
    "\n",
    "* **Simplicity:** It's relatively easy to understand and implement, especially for simple RC circuits.\n",
    "* **Intuitive:** It provides an intuitive understanding of how the circuit's components affect its poles.\n",
    "* **Quick Estimation:** it can give a quick estimation of dominant poles without solving complex circuit equations.\n",
    "\n",
    "**Limitations:**\n",
    "\n",
    "* **Accuracy:**\n",
    "    * This method provides approximations, not exact pole locations.\n",
    "    * It's most accurate for circuits where the poles are well-separated (dominant poles are significantly different from other poles).\n",
    "    * It becomes less accurate when there are many poles close together, or when there are inductors in the circuit.\n",
    "* **Interactions:**\n",
    "    * It assumes that the nodes are relatively independent, which may not always be the case.\n",
    "    * It doesn't fully account for interactions between different parts of the circuit.\n",
    "* **Inductors:**\n",
    "    * This method is primarily designed for RC circuits. When inductors are present, you need to consider the inductive effects and use more advanced techniques.\n",
    "* **Complex Circuits:**\n",
    "    * For very complex circuits, finding the equivalent resistance at each node can become cumbersome.\n",
    "* **Zeros:**\n",
    "    * This method only approximates the poles, not the zeros of the transfer function.\n",
    "\n",
    "**In summary:**\n",
    "\n",
    "Calculating AC resistance and capacitance at each node is a useful technique for approximating the poles of a transfer function, particularly in RC circuits. However, it's essential to understand its limitations and use it appropriately. For more accurate results and complex circuits, more sophisticated methods like circuit simulation or symbolic analysis may be required.\n",
    "\n",
    "\n",
    "The **dominant pole approximation** is a simplification technique used in systems analysis, particularly in control systems and circuit analysis. It aims to reduce the complexity of a system's transfer function by focusing on the poles that have the most significant impact on its behavior. Here's a breakdown:\n",
    "\n",
    "**Core Concept:**\n",
    "\n",
    "* **Poles and System Response:**\n",
    "    * In a system's transfer function, poles are the roots of the denominator. They determine the system's stability and how it responds to inputs.\n",
    "    * Poles closer to the imaginary axis (in the s-plane) have a greater influence on the system's transient response (how it changes over time).\n",
    "* **Dominant Poles:**\n",
    "    * Dominant poles are those poles that are closest to the imaginary axis. They have the slowest decay rate and therefore \"dominate\" the system's response.\n",
    "    * The idea is that the effects of poles farther away from the imaginary axis decay quickly, so they can often be ignored.\n",
    "* **Approximation:**\n",
    "    * The dominant pole approximation simplifies the transfer function by discarding the poles that are far from the imaginary axis.\n",
    "    * This results in a lower-order approximation of the system, making it easier to analyze.\n",
    "\n",
    "**Why it's Useful:**\n",
    "\n",
    "* **Simplification:**\n",
    "    * It reduces the complexity of system analysis, making it easier to understand and predict system behavior.\n",
    "* **Intuition:**\n",
    "    * It provides a clear understanding of which parts of the system have the most significant impact on its response.\n",
    "* **Design:**\n",
    "    * It can be used to simplify the design of control systems and filters.\n",
    "\n",
    "**When it's Valid:**\n",
    "\n",
    "* The approximation is most accurate when there is a clear separation between the dominant poles and the other poles.\n",
    "* If the poles are clustered together, the approximation may not be accurate.\n",
    "\n",
    "**In essence:**\n",
    "\n",
    "The dominant pole approximation is a tool that allows engineers to focus on the most important aspects of a system's behavior, simplifying analysis and design.\n",
    "\n",
    "\n",
    "**asymptotic waveform evaluation (AWE)**  \n",
    "Asymptotic Waveform Evaluation (AWE) is a model order reduction technique used in electronic circuit simulation. It's designed to efficiently approximate the transient response of linear(ized) circuits, particularly large and complex ones, by estimating the moments of the transfer function and then matching those moments to a reduced-order model.\n",
    "\n",
    "Here's a breakdown of AWE:\n",
    "\n",
    "**Core Concepts:**\n",
    "\n",
    "1.  **Moments of the Transfer Function:**\n",
    "    * The transfer function of a linear circuit can be represented as a Taylor series expansion in the frequency domain (s-domain).\n",
    "    * The coefficients of this series are called the moments of the transfer function. They contain information about the circuit's time-domain behavior.\n",
    "    * AWE calculates these moments efficiently.\n",
    "\n",
    "2.  **Moment Matching:**\n",
    "    * Once the moments are calculated, AWE constructs a reduced-order model (a simpler transfer function) whose moments match the calculated moments.\n",
    "    * This matching ensures that the reduced-order model approximates the original circuit's behavior, particularly its early-time response.\n",
    "\n",
    "3.  **Pole-Residue Approximation:**\n",
    "    * The reduced-order model is typically expressed in a pole-residue form, which allows for efficient time-domain simulation.\n",
    "    * The poles and residues of the reduced-order model are determined by matching the moments.\n",
    "\n",
    "**Why AWE is Useful:**\n",
    "\n",
    "* **Speed:**\n",
    "    * It significantly speeds up the simulation of large and complex circuits compared to traditional time-domain or frequency-domain simulations.\n",
    "* **Efficiency:**\n",
    "    * It avoids the need for repeatedly solving large systems of differential equations.\n",
    "* **Linear(ized) Circuits:**\n",
    "    * It's particularly effective for linear circuits or linearized nonlinear circuits.\n",
    "* **Interconnect Analysis:**\n",
    "    * AWE is widely used in interconnect analysis, where it helps to model the delay and waveform distortion caused by long interconnect lines in integrated circuits.\n",
    "\n",
    "**Key Features:**\n",
    "\n",
    "* **Moment Calculation:**\n",
    "    * AWE uses efficient algorithms to calculate the moments of the transfer function, avoiding the need for symbolic analysis or repeated circuit simulations.\n",
    "* **Padé Approximation:**\n",
    "    * The moment matching process is often based on Padé approximation, which provides a rational function approximation of the transfer function.\n",
    "* **Reduced-Order Model:**\n",
    "    * AWE produces a reduced-order model that captures the dominant behavior of the original circuit.\n",
    "\n",
    "**Limitations:**\n",
    "\n",
    "* **Accuracy:**\n",
    "    * The accuracy of AWE depends on the number of moments used and the complexity of the circuit.\n",
    "    * It may not be accurate for circuits with highly nonlinear behavior or widely separated poles.\n",
    "* **Stability:**\n",
    "    * The reduced-order model may not always be stable, even if the original circuit is stable.\n",
    "* **Complex circuits:**\n",
    "    * While much faster than full simulations, very complex circuits will still require significant computation time.\n",
    "\n",
    "**In essence:**\n",
    "\n",
    "AWE is a powerful technique for efficiently approximating the transient response of linear(ized) electronic circuits. By calculating and matching the moments of the transfer function, it creates a reduced-order model that provides accurate results with significantly less computational effort.\n"
   ]
  },
  {
   "cell_type": "code",
   "execution_count": 1,
   "id": "7b1da6f9-b197-49b9-af0c-236064e2cb42",
   "metadata": {
    "collapsed": false,
    "jupyter": {
     "outputs_hidden": false
    }
   },
   "outputs": [],
   "source": [
    "from sympy import *\n",
    "import numpy as np\n",
    "from tabulate import tabulate\n",
    "from scipy import signal\n",
    "import matplotlib.pyplot as plt\n",
    "import SymMNA\n",
    "from IPython.display import display, Markdown, Math, Latex\n",
    "from tabulate import tabulate\n",
    "init_printing()"
   ]
  },
  {
   "cell_type": "markdown",
   "id": "fdd2c7f3-4227-49e9-82fc-c362895c1043",
   "metadata": {
    "tags": []
   },
   "source": [
    "## Circuit Netlist\n",
    "The netlist generated by LTSpice from the schematic is shown below. Some edits were made to fix up the formating of the component values and the Op Amp declaration. The nodes were labeled in the schematic, otherwise LTSpice will use default labels such as N001, N002 etc. and the smna function wants integer values for the node numbers and these need to be consecutively ordered with no gaps in the numbering.\n",
    "\n",
    "```\n",
    "    * Bandpass-Twin-T-Active-Filter.asc\n",
    "    R1 3 1 15k\n",
    "    R2 4 5 186k\n",
    "    R3 2 5 15k\n",
    "    C1 5 1 10n\n",
    "    C2 4 3 910p\n",
    "    C3 2 3 10n\n",
    "    XU1 4 0 2 opamp Aol=100K GBW=10Meg\n",
    "    V1 1 0 1 AC 1\n",
    "    .lib opamp.sub\n",
    "    .ac dec 1000 100 10k\n",
    "    .backanno\n",
    "    .end\n",
    "```\n",
    "\n",
    "Generation of the netlist from a schematic caputure program is comvinent and less error propne than generating the netwlist by hand. A visiual inspection of the schematic insurs that the circuit to be analyzed is correct and it follows that the netlist is alos correct. This is espically true or larger more complicated schamitics. \n",
    "\n",
    "The cleaned up netlist was copied to the cell below. The tripple quotes allow text strings to span multiple lines since the line breaks are preserved."
   ]
  },
  {
   "cell_type": "code",
   "execution_count": null,
   "id": "850a8307-97b3-4137-bb50-52575c897bb8",
   "metadata": {},
   "outputs": [],
   "source": [
    "example_net_list = '''\n",
    "* Bandpass-Twin-T-Active-Filter.asc\n",
    "R1 3 1 15e3\n",
    "R2 4 5 186e3\n",
    "R3 2 5 15e3\n",
    "C1 5 1 10e-9\n",
    "C2 4 3 910e-12\n",
    "C3 2 3 10e-9\n",
    "O1 4 0 2\n",
    "V1 1 0 1\n",
    "'''"
   ]
  },
  {
   "cell_type": "markdown",
   "id": "859018a5-1309-4f00-8249-8d8b91a6303d",
   "metadata": {},
   "source": [
    "## Generate Network Equations "
   ]
  },
  {
   "cell_type": "code",
   "execution_count": null,
   "id": "f9c60f02-9772-40a8-93ba-45cfccdaa5b5",
   "metadata": {},
   "outputs": [],
   "source": [
    "report, network_df, df2, A, X, Z = SymMNA.smna(example_net_list)\n",
    "\n",
    "# Put matrices into SymPy \n",
    "X = Matrix(X)\n",
    "Z = Matrix(Z)\n",
    "\n",
    "NE_sym = Eq(A*X,Z)\n",
    "\n",
    "# display the equations\n",
    "temp = ''\n",
    "for i in range(shape(NE_sym.lhs)[0]):\n",
    "    temp += '<p>${:s} = {:s}$</p>'.format(latex(NE_sym.lhs[i]),\n",
    "        latex(NE_sym.rhs[i]))\n",
    "\n",
    "Markdown(temp)"
   ]
  },
  {
   "cell_type": "markdown",
   "id": "839b7d29-5351-42d5-a226-0ded5905437d",
   "metadata": {},
   "source": [
    "The two lines of Python code below turn the free symbols from the ```NE_sym``` equations into SymPy variables and the element values contained in the netlist are put into a Python dictionary data structure to be used in the numerical solutions later in this report."
   ]
  },
  {
   "cell_type": "code",
   "execution_count": null,
   "id": "9ee756b4-2cef-4c4c-b466-3e5ece1cc83f",
   "metadata": {},
   "outputs": [],
   "source": [
    "var(str(NE_sym.free_symbols).replace('{','').replace('}',''))\n",
    "element_values = SymMNA.get_part_values(network_df)"
   ]
  },
  {
   "cell_type": "markdown",
   "id": "84cbe1d8-21db-4c84-8205-4bb5a697c11f",
   "metadata": {},
   "source": [
    "## Solve the Network Equations\n",
    "The SymPy function ```solve``` is used to obtain the node voltages and independent voltage source currents."
   ]
  },
  {
   "cell_type": "code",
   "execution_count": null,
   "id": "b79db29a-2b9e-4a35-a6ae-ccfbb76d9584",
   "metadata": {},
   "outputs": [],
   "source": [
    "U_sym = solve(NE_sym,X)"
   ]
  },
  {
   "cell_type": "markdown",
   "id": "8883bca4-a247-4525-8f45-871ff34ec647",
   "metadata": {},
   "source": [
    "The solution to the network equations are the node voltages expressed in terms of the Laplace variable $s$ are displayed below."
   ]
  },
  {
   "cell_type": "code",
   "execution_count": null,
   "id": "1dc75a7c-9de2-4059-93c6-486141692935",
   "metadata": {},
   "outputs": [],
   "source": [
    "temp = ''\n",
    "for i in U_sym.keys():\n",
    "    if str(i)[0] == 'v': # only display the node voltages\n",
    "        temp += '<p>${:s} = {:s}$</p>'.format(latex(i),latex(U_sym[i]))\n",
    "\n",
    "Markdown(temp)"
   ]
  },
  {
   "cell_type": "markdown",
   "id": "41ae0da1-79e7-456b-bb7e-7ddfdfb6d703",
   "metadata": {},
   "source": [
    "### Voltage Transfer Function $H(s)=\\frac {v_2(s)}{v_1(s)}$\n",
    "The voltage transfer function, $H(s)$, for the filter  is generated and displayed by the following code:"
   ]
  },
  {
   "cell_type": "code",
   "execution_count": null,
   "id": "4d9b3b50-8fdc-4e9b-8c36-a268c3d6eeff",
   "metadata": {},
   "outputs": [],
   "source": [
    "H_sym = cancel(U_sym[v2]/U_sym[v1],s)\n",
    "Markdown('$H(s)={:s}$'.format(latex(H_sym)))"
   ]
  },
  {
   "cell_type": "code",
   "execution_count": null,
   "id": "1bef2c59-b857-4d5f-b335-1908fc002407",
   "metadata": {
    "tags": []
   },
   "outputs": [],
   "source": [
    "H_sym_num, H_sym_denom = fraction(H_sym,s) #returns numerator and denominator"
   ]
  },
  {
   "cell_type": "markdown",
   "id": "dbd2879c-38c4-4314-b9fb-456fd65f54f2",
   "metadata": {},
   "source": [
    "### Numerator Polynominal\n",
    "The numerator polynominal is:"
   ]
  },
  {
   "cell_type": "code",
   "execution_count": null,
   "id": "f266011e-9b92-4eab-9d07-53938a75a060",
   "metadata": {},
   "outputs": [],
   "source": [
    "Markdown('$N(s)={:s}$'.format(latex(H_sym_num)))"
   ]
  },
  {
   "cell_type": "markdown",
   "id": "dbf581e1-7182-4d80-b12c-db7649d69547",
   "metadata": {},
   "source": [
    "The coeficients of each Laplace terms can be equated to the variables $b_2$, $b_1$ and $b_0$ in the expression: \n",
    "\n",
    "$b_2s^{2}+b_1s+b_0$\n",
    "\n",
    "where $b_2$, $b_1$ and $b_0$ are:"
   ]
  },
  {
   "cell_type": "code",
   "execution_count": null,
   "id": "946acbda-f74f-4e5b-af76-60ec31233d64",
   "metadata": {},
   "outputs": [],
   "source": [
    "b2 = H_sym_num.coeff(s**2)\n",
    "b1 = H_sym_num.coeff(s**1)\n",
    "b0 = H_sym_num - b1*s*1 - b2*s**2\n",
    "\n",
    "Markdown('<p>$b_2={:s}$</p><p>$b_1={:s}$</p><p>$b_0={:s}$</p>'.format(latex(b2),latex(b1),latex(b0)))"
   ]
  },
  {
   "cell_type": "markdown",
   "id": "7aeb0948-0380-4201-a578-0c35e8fce3f3",
   "metadata": {},
   "source": [
    "Notice that ther terms $b_2$ and $b_1$ are negative. This follows from the Op Amp being configured as an inverting amplifier. R2 and R3 provide a DC path from the Op Amp's output to the inverting terminal.\n",
    "\n",
    "The roots of the numerator polynominal can easily be found with SymPy. \n",
    "\n",
    "This filter has two transmission zeros"
   ]
  },
  {
   "cell_type": "code",
   "execution_count": null,
   "id": "3f735940-e563-4555-b7b1-e502cfdcbfa2",
   "metadata": {},
   "outputs": [],
   "source": [
    "num_root_sym = solve(H_sym_num,s)"
   ]
  },
  {
   "cell_type": "markdown",
   "id": "7ac12e8f-6901-458f-94ad-6bf8489b4cd4",
   "metadata": {},
   "source": [
    "There are two solutions, $z_1=0$ and another root at: "
   ]
  },
  {
   "cell_type": "code",
   "execution_count": null,
   "id": "9beeda86-58d7-4786-a2a6-93eb75e4815b",
   "metadata": {},
   "outputs": [],
   "source": [
    "Markdown('$z_2={:s}$'.format(latex(num_root_sym[1])))"
   ]
  },
  {
   "cell_type": "markdown",
   "id": "dd41dfad-f83c-48fe-adb7-f38d13c2680c",
   "metadata": {},
   "source": [
    "### Denominator Polynominal\n"
   ]
  },
  {
   "cell_type": "code",
   "execution_count": null,
   "id": "78a781c8-1de0-4d15-aae5-f9b34e84607e",
   "metadata": {},
   "outputs": [],
   "source": [
    "Markdown('$D(s)={:s}$'.format(latex(H_sym_denom)))"
   ]
  },
  {
   "cell_type": "markdown",
   "id": "76727e37-1f38-4316-8d7c-bb631c1e96c9",
   "metadata": {},
   "source": [
    "The coeficients of each Laplace terms can be equated to the variables $a_3$, $a_2$, $a_1$ and $a_0$ in the expression: \n",
    "\n",
    "$a_3s^3+a_2s^2+a_1s+a_0$\n",
    "\n",
    "where $a_3$, $a_2$, $a_1$ and $a_0$ are:"
   ]
  },
  {
   "cell_type": "code",
   "execution_count": null,
   "id": "bbddce2c-fb72-4589-b65a-9048340baaa8",
   "metadata": {},
   "outputs": [],
   "source": [
    "a3 = H_sym_denom.coeff(s**3)\n",
    "a2 = H_sym_denom.coeff(s**2)\n",
    "a1 = H_sym_denom.coeff(s**1)\n",
    "a0 = H_sym_denom - a1*s*1 - a2*s**2 - a3*s**3\n",
    "Markdown('<p>$a_3={:s}$</p><p>$a_2={:s}$</p><p>$a_1={:s}$</p><p>$a_0={:s}$</p>'.format(latex(a3), latex(a2),latex(a1),latex(a0)))"
   ]
  },
  {
   "cell_type": "markdown",
   "id": "f399d3f9-b92d-4333-a586-330592898f47",
   "metadata": {},
   "source": [
    "The roots of the denominator polynominal can found with SymPy. The filter circuit being analyzed in this report has a denominator polynominal that SymPy can quickly solve. This is not always the case. The expressions are long and do not render well when the JupyterLab notebook is converted to PDF, so the expressions were converted to LaTex strings and then to PNG images with [latex2png](https://latex2png.com/) for this report."
   ]
  },
  {
   "cell_type": "code",
   "execution_count": null,
   "id": "53afdb6e-8a4d-4efc-9902-8a2e94638f93",
   "metadata": {},
   "outputs": [],
   "source": [
    "denom_root_sym = solve(H_sym_denom,s)"
   ]
  },
  {
   "cell_type": "code",
   "execution_count": null,
   "id": "faad18c7-406b-4674-b4b8-532e87172131",
   "metadata": {},
   "outputs": [],
   "source": [
    "C, R = symbols('C R')\n",
    "Markdown('$N_r(s)={:s}$'.format(latex(H_sym_num.subs({R1:R, R3:R, C1:C, C3:C}).collect(s).factor())))"
   ]
  },
  {
   "cell_type": "markdown",
   "id": "b8cad665-1bc3-4c51-b9aa-897c8190bef6",
   "metadata": {},
   "source": [
    "In a simular fashon, the denominator polynominal is:"
   ]
  },
  {
   "cell_type": "code",
   "execution_count": null,
   "id": "d8c23335-3cc3-4717-b304-743a729260dd",
   "metadata": {
    "tags": []
   },
   "outputs": [],
   "source": [
    "Markdown('$D_r(s)={:s}$'.format(latex(H_sym_denom.subs({R1:R, R3:R, C1:C, C3:C}).collect(s).factor())))"
   ]
  },
  {
   "cell_type": "markdown",
   "id": "48ed9303-88ee-42d9-a8dd-24fa1985919a",
   "metadata": {},
   "source": [
    "You can see the $\\left(CRs+1\\right)$ terms will cancel in the numerator and denominator.\n",
    "\n",
    "$\\frac {N_r(s)}{D_r(s)}=\\frac {- s \\left(C R s + 1\\right) \\left(C R + C_{2} R + C_{2} R_{2}\\right)}{\\left(C R s + 1\\right) \\left(C C_{2} R R_{2} s^{2} + C_{2} R s + 1\\right)}=\\frac {- s \\left(C R + C_{2} R + C_{2} R_{2}\\right)}{ \\left(C C_{2} R R_{2} s^{2} + C_{2} R s + 1\\right)}$\n"
   ]
  },
  {
   "cell_type": "markdown",
   "id": "33ba8888-2293-40d0-94c5-f04e2c1a7330",
   "metadata": {},
   "source": [
    "## The Quadratic Equation Revisited\n",
    "Methods of Design Oriented Analysis: The Quadratic Equation Revisited\n",
    "\n",
    "[x] R. D. Middlebrook, \"Methods of Design-Oriented Analysis: The Quadratic Equation Revisited,\" Proceedings. Twenty-Second Annual conference Frontiers in Education, Nashville, TN, USA, 1992, pp. 95-102, doi: 10.1109/FIE.1992.683365. keywords: {Design methodology;Equations},\n"
   ]
  },
  {
   "cell_type": "markdown",
   "id": "b424071d-e403-47b8-9e8f-82aa29fdb0a7",
   "metadata": {},
   "source": [
    "The coefficients of the Laplace variable, s, can be represented by $a$, $b$, and $c$ in the [quadratic equation](https://en.wikipedia.org/wiki/Quadratic_equation):\n",
    "\n",
    "$as^{2}+bs+c=0$\n",
    "\n",
    "where:"
   ]
  },
  {
   "cell_type": "code",
   "execution_count": null,
   "id": "b65983e6-ba0f-4be4-9c41-02d45c22ee11",
   "metadata": {},
   "outputs": [],
   "source": [
    "omega_n, Q_factor, damping_ratio, atten_param = symbols('omega_n Q_factor damping_ratio atten_param')"
   ]
  },
  {
   "cell_type": "code",
   "execution_count": null,
   "id": "57bef51a-64a4-48da-b89a-81dd571b525d",
   "metadata": {},
   "outputs": [],
   "source": [
    "a, b, c, s, z = symbols('a b c s z')"
   ]
  },
  {
   "cell_type": "code",
   "execution_count": null,
   "id": "d6273e04-60c0-4aca-8f12-523783ae62fb",
   "metadata": {},
   "outputs": [],
   "source": [
    "a*s**2+b*s+c"
   ]
  },
  {
   "cell_type": "code",
   "execution_count": null,
   "id": "86c221cb-c02f-4ad3-b158-87fb3e539739",
   "metadata": {},
   "outputs": [],
   "source": [
    "x1, x2 = solve(a*s**2+b*s+c,s)"
   ]
  },
  {
   "cell_type": "code",
   "execution_count": null,
   "id": "0239f98a-5f25-4508-8bef-1de6dc250ff5",
   "metadata": {},
   "outputs": [],
   "source": [
    "x1"
   ]
  },
  {
   "cell_type": "code",
   "execution_count": null,
   "id": "baf960d9-b8fb-4927-81ca-61486fb19020",
   "metadata": {},
   "outputs": [],
   "source": [
    "x1.expand() #apart()"
   ]
  },
  {
   "cell_type": "markdown",
   "id": "4ea6a46a-59e6-4912-acc5-58e05e3a7022",
   "metadata": {},
   "source": [
    "almost equation (3)\n",
    "\n",
    "Looking at equation (6)"
   ]
  },
  {
   "cell_type": "code",
   "execution_count": null,
   "id": "c13963b6-1d4b-40bc-825c-e0aad1d62837",
   "metadata": {},
   "outputs": [],
   "source": [
    "(a*z**2 + b*z + c).subs({a:1, b:45e3, c:1})"
   ]
  },
  {
   "cell_type": "code",
   "execution_count": null,
   "id": "2bb3a3e3-f60d-4710-b18d-06aa5efc2838",
   "metadata": {},
   "outputs": [],
   "source": [
    "z1, z2 = solve((a*z**2 + b*z + c).subs({a:1, b:45000, c:1}), z)"
   ]
  },
  {
   "cell_type": "code",
   "execution_count": null,
   "id": "9a55b185-76c9-49c0-9471-6b44096466cf",
   "metadata": {},
   "outputs": [],
   "source": [
    "z1"
   ]
  },
  {
   "cell_type": "code",
   "execution_count": null,
   "id": "252b10f3-b698-4a63-ae27-062c6774cdb6",
   "metadata": {},
   "outputs": [],
   "source": [
    "N(z1)"
   ]
  },
  {
   "cell_type": "code",
   "execution_count": null,
   "id": "1a2d652a-85ef-4a00-a56a-0547153ca144",
   "metadata": {},
   "outputs": [],
   "source": [
    "z2"
   ]
  },
  {
   "cell_type": "code",
   "execution_count": null,
   "id": "23d8f278-c8c0-41ba-85a0-f6f58bb18328",
   "metadata": {},
   "outputs": [],
   "source": [
    "N(z2)"
   ]
  },
  {
   "cell_type": "code",
   "execution_count": null,
   "id": "83afb4a2-eb79-4f26-b612-f9744b62084d",
   "metadata": {},
   "outputs": [],
   "source": []
  },
  {
   "cell_type": "code",
   "execution_count": null,
   "id": "95145b47-45e9-48f2-b255-35d0f3e7f19c",
   "metadata": {},
   "outputs": [],
   "source": []
  },
  {
   "cell_type": "markdown",
   "id": "827387ef-32b6-48bc-ba30-8aae30dd3ee2",
   "metadata": {},
   "source": [
    "Figure 2\n",
    "\n",
    "```\n",
    "* C:\\users\\jeff64\\My Documents\\JupyterLab\\Misc ipython notebooks\\Buchla 295 10 Channel Comb Filter\\FACT circuits\\Fig_2_example.asc\n",
    "R1 2 1 47e3\n",
    "R2 3 0 1e3\n",
    "R3 2 0 100e3\n",
    "C1 2 3 0.1e-6\n",
    "C2 2 0 0.002e-6\n",
    "V1 1 0 1\n",
    ".backanno\n",
    ".end\n",
    "```\n"
   ]
  },
  {
   "cell_type": "code",
   "execution_count": null,
   "id": "83d03c60-2030-480f-aae0-5985d29802c3",
   "metadata": {},
   "outputs": [],
   "source": [
    "example_net_list = '''\n",
    "* Fig_2_example.asc\n",
    "R1 2 1 47e3\n",
    "R2 3 0 1e3\n",
    "R3 2 0 100e3\n",
    "C1 2 3 0.1e-6\n",
    "C2 2 0 0.002e-6\n",
    "V1 1 0 1\n",
    "'''"
   ]
  },
  {
   "cell_type": "markdown",
   "id": "34fc1d49-4db9-463f-833d-09d2cf12b520",
   "metadata": {},
   "source": [
    "## Generate Network Equations "
   ]
  },
  {
   "cell_type": "code",
   "execution_count": null,
   "id": "6fb3d070-de2b-43c2-aa9a-2e9ac5ffc97c",
   "metadata": {},
   "outputs": [],
   "source": [
    "report, network_df, df2, A, X, Z = SymMNA.smna(example_net_list)\n",
    "\n",
    "# Put matrices into SymPy \n",
    "X = Matrix(X)\n",
    "Z = Matrix(Z)\n",
    "\n",
    "NE_sym = Eq(A*X,Z)\n",
    "\n",
    "# display the equations\n",
    "temp = ''\n",
    "for i in range(shape(NE_sym.lhs)[0]):\n",
    "    temp += '<p>${:s} = {:s}$</p>'.format(latex(NE_sym.lhs[i]),\n",
    "        latex(NE_sym.rhs[i]))\n",
    "\n",
    "Markdown(temp)"
   ]
  },
  {
   "cell_type": "code",
   "execution_count": null,
   "id": "80184a14-3d12-4873-8127-0df9b8539599",
   "metadata": {},
   "outputs": [],
   "source": [
    "var(str(NE_sym.free_symbols).replace('{','').replace('}',''))\n",
    "element_values = SymMNA.get_part_values(network_df)"
   ]
  },
  {
   "cell_type": "code",
   "execution_count": null,
   "id": "43fd891b-1a27-4045-93ea-9e61ab4aee88",
   "metadata": {},
   "outputs": [],
   "source": [
    "U_sym = solve(NE_sym,X)"
   ]
  },
  {
   "cell_type": "code",
   "execution_count": null,
   "id": "253a5feb-b169-47be-8bce-d3015fc5531f",
   "metadata": {},
   "outputs": [],
   "source": [
    "temp = ''\n",
    "for i in U_sym.keys():\n",
    "    if str(i)[0] == 'v': # only display the node voltages\n",
    "        temp += '<p>${:s} = {:s}$</p>'.format(latex(i),latex(U_sym[i]))\n",
    "\n",
    "Markdown(temp)"
   ]
  },
  {
   "cell_type": "markdown",
   "id": "a16a326a-be87-467e-81bb-5f9041b31bae",
   "metadata": {},
   "source": [
    "### Voltage Transfer Function $H(s)=\\frac {v_2(s)}{v_1(s)}$"
   ]
  },
  {
   "cell_type": "code",
   "execution_count": null,
   "id": "faa9fbd2-0ac2-41bf-a307-97badd27b277",
   "metadata": {},
   "outputs": [],
   "source": [
    "H_sym = cancel(U_sym[v2]/U_sym[v1],s)\n",
    "Markdown('$H(s)={:s}$'.format(latex(H_sym)))"
   ]
  },
  {
   "cell_type": "code",
   "execution_count": null,
   "id": "9417a51d-fad0-4097-8169-a19ef32b3aff",
   "metadata": {
    "tags": []
   },
   "outputs": [],
   "source": [
    "H_sym_num, H_sym_denom = fraction(H_sym,s) #returns numerator and denominator"
   ]
  },
  {
   "cell_type": "markdown",
   "id": "8a09d864-b713-4576-a783-ad4d1bc4d636",
   "metadata": {},
   "source": [
    "### Numerator Polynominal"
   ]
  },
  {
   "cell_type": "code",
   "execution_count": null,
   "id": "998b4398-875b-407e-a2cf-ea3d6352e350",
   "metadata": {},
   "outputs": [],
   "source": [
    "Markdown('$N(s)={:s}$'.format(latex(H_sym_num)))"
   ]
  },
  {
   "cell_type": "markdown",
   "id": "acde3bc1-82b8-402a-ba00-0c36f7842a43",
   "metadata": {},
   "source": [
    "The coeficients of each Laplace terms can be equated to the variables $b_2$, $b_1$ and $b_0$ in the expression: \n",
    "\n",
    "$b_2s^{2}+b_1s+b_0$\n",
    "\n",
    "where $b_2$, $b_1$ and $b_0$ are:"
   ]
  },
  {
   "cell_type": "code",
   "execution_count": null,
   "id": "6b7d78bf-9e52-4e1a-b057-ccc6ac107989",
   "metadata": {},
   "outputs": [],
   "source": [
    "b2 = H_sym_num.coeff(s**2)\n",
    "b1 = H_sym_num.coeff(s**1)\n",
    "b0 = H_sym_num - b1*s*1 - b2*s**2\n",
    "\n",
    "Markdown('<p>$b_2={:s}$</p><p>$b_1={:s}$</p><p>$b_0={:s}$</p>'.format(latex(b2),latex(b1),latex(b0)))"
   ]
  },
  {
   "cell_type": "markdown",
   "id": "b4689ec0-e4e1-4715-937e-872edf9baded",
   "metadata": {},
   "source": [
    "Notice that ther terms $b_2$ and $b_1$ are negative. This follows from the Op Amp being configured as an inverting amplifier. R2 and R3 provide a DC path from the Op Amp's output to the inverting terminal.\n",
    "\n",
    "The roots of the numerator polynominal can easily be found with SymPy. \n",
    "\n",
    "This filter has two transmission zeros"
   ]
  },
  {
   "cell_type": "code",
   "execution_count": null,
   "id": "bbf36668-5f03-4fe5-bd6e-c727b68828c1",
   "metadata": {},
   "outputs": [],
   "source": [
    "num_root_sym = solve(H_sym_num,s)"
   ]
  },
  {
   "cell_type": "code",
   "execution_count": null,
   "id": "91ed965a-0e29-43c2-a420-4ced6ea9ccb8",
   "metadata": {},
   "outputs": [],
   "source": [
    "num_root_sym"
   ]
  },
  {
   "cell_type": "markdown",
   "id": "242db405-20bc-407c-81a2-9da6a29f7c55",
   "metadata": {},
   "source": [
    "### Denominator Polynominal"
   ]
  },
  {
   "cell_type": "code",
   "execution_count": null,
   "id": "c63ef161-219e-4cdd-86bd-f9ebbddab917",
   "metadata": {},
   "outputs": [],
   "source": [
    "Markdown('$D(s)={:s}$'.format(latex(H_sym_denom)))"
   ]
  },
  {
   "cell_type": "markdown",
   "id": "3d0482c7-3d34-47ee-b2c1-3c32cb1dadf4",
   "metadata": {},
   "source": [
    "The coeficients of each Laplace terms can be equated to the variables $a_3$, $a_2$, $a_1$ and $a_0$ in the expression: \n",
    "\n",
    "$a_3s^3+a_2s^2+a_1s+a_0$\n",
    "\n",
    "where $a_3$, $a_2$, $a_1$ and $a_0$ are:"
   ]
  },
  {
   "cell_type": "code",
   "execution_count": null,
   "id": "6b8eb6a3-e9b8-481a-b794-8b77f1622f78",
   "metadata": {},
   "outputs": [],
   "source": [
    "a3 = H_sym_denom.coeff(s**3)\n",
    "a2 = H_sym_denom.coeff(s**2)\n",
    "a1 = H_sym_denom.coeff(s**1)\n",
    "a0 = H_sym_denom - a1*s*1 - a2*s**2 - a3*s**3\n",
    "Markdown('<p>$a_3={:s}$</p><p>$a_2={:s}$</p><p>$a_1={:s}$</p><p>$a_0={:s}$</p>'.format(latex(a3), latex(a2),latex(a1),latex(a0)))"
   ]
  },
  {
   "cell_type": "code",
   "execution_count": null,
   "id": "377009c2-c30f-4b15-9e40-8e9211c55db5",
   "metadata": {},
   "outputs": [],
   "source": [
    "r1, r2 = denom_root_sym = solve(H_sym_denom,s)"
   ]
  },
  {
   "cell_type": "code",
   "execution_count": null,
   "id": "c84679bf-3586-4dfa-a0cd-3c3ff59c343b",
   "metadata": {},
   "outputs": [],
   "source": [
    "r1"
   ]
  },
  {
   "cell_type": "code",
   "execution_count": null,
   "id": "1117c7ed-a457-4d36-96ba-d79b10808bd3",
   "metadata": {},
   "outputs": [],
   "source": [
    "(1/r1).expand()"
   ]
  },
  {
   "cell_type": "code",
   "execution_count": null,
   "id": "0223202e-e64a-48c4-8141-86caa9bfc702",
   "metadata": {},
   "outputs": [],
   "source": []
  },
  {
   "cell_type": "code",
   "execution_count": null,
   "id": "19361275-d8ee-4eea-8d8a-ad0165ad4763",
   "metadata": {},
   "outputs": [],
   "source": []
  },
  {
   "cell_type": "markdown",
   "id": "de3b74dd-2e1d-43a4-836e-bf5a27e3c9cf",
   "metadata": {},
   "source": [
    "## Working through examples in *Introduction to Fast Analytical Techniques*\n",
    "\n",
    "- make folder for schematics and LTSpice circuits\n",
    "\n",
    "[x] Christophe Basso, Introduction to Fast Analytical Techniques: Application to Small-Signal Modeling, https://www.powersimtof.com/Downloads/PPTs/Chris%20Basso%20APEC%20seminar%202016.pdf, last accessed March 6, 2025\n",
    "\n",
    "\n",
    "### Circuit on slide #9\n",
    "```\n",
    "* C:\\users\\jeff64\\My Documents\\JupyterLab\\Misc ipython notebooks\\Buchla 295 10 Channel Comb Filter\\FACT circuits\\Slide_9_circuit.asc\n",
    "V1 1 0 1\n",
    "RL 3 1 1\n",
    "RC 2 4 1\n",
    "R1 2 0 1\n",
    "C2 4 0 1\n",
    "L1 3 2 1\n",
    ".backanno\n",
    ".end\n",
    "```"
   ]
  },
  {
   "cell_type": "code",
   "execution_count": null,
   "id": "0f9da093-832f-493c-8c3c-b2750aabf6d0",
   "metadata": {},
   "outputs": [],
   "source": [
    "example_net_list = '''\n",
    "V1 1 0 1\n",
    "RL 3 1 1\n",
    "RC 2 4 1\n",
    "R1 2 0 1\n",
    "C2 4 0 1\n",
    "L1 3 2 1\n",
    "'''"
   ]
  },
  {
   "cell_type": "markdown",
   "id": "b02b70d8-e4ea-4cab-930c-ef0832d50479",
   "metadata": {},
   "source": [
    "## Generate Network Equations "
   ]
  },
  {
   "cell_type": "code",
   "execution_count": null,
   "id": "f1b2df0b-fe75-4f4b-a435-9752e6932944",
   "metadata": {},
   "outputs": [],
   "source": [
    "report, network_df, df2, A, X, Z = SymMNA.smna(example_net_list)"
   ]
  },
  {
   "cell_type": "code",
   "execution_count": null,
   "id": "45f6f889-4d73-487b-afcc-7ec19d3c019e",
   "metadata": {},
   "outputs": [],
   "source": [
    "# Put matrices into SymPy \n",
    "X = Matrix(X)\n",
    "Z = Matrix(Z)\n",
    "\n",
    "NE_sym = Eq(A*X,Z)\n",
    "\n",
    "# display the equations\n",
    "temp = ''\n",
    "for i in range(shape(NE_sym.lhs)[0]):\n",
    "    temp += '<p>${:s} = {:s}$</p>'.format(latex(NE_sym.lhs[i]),\n",
    "        latex(NE_sym.rhs[i]))\n",
    "\n",
    "Markdown(temp)"
   ]
  },
  {
   "cell_type": "code",
   "execution_count": null,
   "id": "a785bce5-57ca-4e74-bfd3-3fcc02a4dde7",
   "metadata": {},
   "outputs": [],
   "source": [
    "var(str(NE_sym.free_symbols).replace('{','').replace('}',''))\n",
    "element_values = SymMNA.get_part_values(network_df)"
   ]
  },
  {
   "cell_type": "code",
   "execution_count": null,
   "id": "a343f779-5c9b-42a4-a704-6badc7ff6b79",
   "metadata": {},
   "outputs": [],
   "source": [
    "U_sym = solve(NE_sym,X)"
   ]
  },
  {
   "cell_type": "code",
   "execution_count": null,
   "id": "39605fcb-deee-45a7-baae-ee31333adace",
   "metadata": {},
   "outputs": [],
   "source": [
    "temp = ''\n",
    "for i in U_sym.keys():\n",
    "    if str(i)[0] == 'v': # only display the node voltages\n",
    "        temp += '<p>${:s} = {:s}$</p>'.format(latex(i),latex(U_sym[i]))\n",
    "\n",
    "Markdown(temp)"
   ]
  },
  {
   "cell_type": "markdown",
   "id": "89759c8b-66ea-4564-af88-d622a24cf3e3",
   "metadata": {},
   "source": [
    "### Voltage Transfer Function $H(s)=\\frac {v_2(s)}{v_1(s)}$"
   ]
  },
  {
   "cell_type": "code",
   "execution_count": null,
   "id": "571a46f5-7778-4384-b137-3e20b3192273",
   "metadata": {},
   "outputs": [],
   "source": [
    "H_sym = cancel(U_sym[v2]/U_sym[v1],s)\n",
    "Markdown('$H(s)={:s}$'.format(latex(H_sym)))"
   ]
  },
  {
   "cell_type": "code",
   "execution_count": null,
   "id": "933bdaee-71b4-4310-81f5-0932323f9db6",
   "metadata": {
    "tags": []
   },
   "outputs": [],
   "source": [
    "H_sym_num, H_sym_denom = fraction(H_sym,s) #returns numerator and denominator"
   ]
  },
  {
   "cell_type": "markdown",
   "id": "3c6551af-65d6-406a-ac55-e28d1f76c204",
   "metadata": {},
   "source": [
    "### Numerator Polynominal"
   ]
  },
  {
   "cell_type": "code",
   "execution_count": null,
   "id": "206e2b80-5703-4c06-ae6b-fd3e1392fddc",
   "metadata": {},
   "outputs": [],
   "source": [
    "Markdown('$N(s)={:s}$'.format(latex(H_sym_num)))"
   ]
  },
  {
   "cell_type": "markdown",
   "id": "50a17637-7acb-4f7d-98b8-db0d4738b304",
   "metadata": {},
   "source": [
    "The coeficients of each Laplace terms can be equated to the variables $b_2$, $b_1$ and $b_0$ in the expression: \n",
    "\n",
    "$b_2s^{2}+b_1s+b_0$\n",
    "\n",
    "where $b_2$, $b_1$ and $b_0$ are:"
   ]
  },
  {
   "cell_type": "code",
   "execution_count": null,
   "id": "a6f82761-fccf-49d7-91d0-757c4b70f13b",
   "metadata": {},
   "outputs": [],
   "source": [
    "b2 = H_sym_num.coeff(s**2)\n",
    "b1 = H_sym_num.coeff(s**1)\n",
    "b0 = H_sym_num - b1*s*1 - b2*s**2\n",
    "\n",
    "Markdown('<p>$b_2={:s}$</p><p>$b_1={:s}$</p><p>$b_0={:s}$</p>'.format(latex(b2),latex(b1),latex(b0)))"
   ]
  },
  {
   "cell_type": "code",
   "execution_count": null,
   "id": "11d69f0d-917d-4d16-b36a-78bb05ef8224",
   "metadata": {},
   "outputs": [],
   "source": [
    "num_root_sym = solve(H_sym_num,s)"
   ]
  },
  {
   "cell_type": "code",
   "execution_count": null,
   "id": "1138922a-f3c9-4819-b5f1-689c8ab6c1bb",
   "metadata": {},
   "outputs": [],
   "source": [
    "num_root_sym"
   ]
  },
  {
   "cell_type": "markdown",
   "id": "7d3c312f-5302-488f-bd29-e78ff137fc67",
   "metadata": {},
   "source": [
    "The zero looks correct.\n",
    "\n",
    "### Denominator Polynominal"
   ]
  },
  {
   "cell_type": "code",
   "execution_count": null,
   "id": "a78de8e5-5e87-4261-a7c8-e0f026597087",
   "metadata": {},
   "outputs": [],
   "source": [
    "Markdown('$D(s)={:s}$'.format(latex(H_sym_denom)))"
   ]
  },
  {
   "cell_type": "markdown",
   "id": "5cb9b192-7c2e-44b8-bd88-5f1df36ae320",
   "metadata": {},
   "source": [
    "The coeficients of each Laplace terms can be equated to the variables $a_3$, $a_2$, $a_1$ and $a_0$ in the expression: \n",
    "\n",
    "$a_3s^3+a_2s^2+a_1s+a_0$\n",
    "\n",
    "where $a_3$, $a_2$, $a_1$ and $a_0$ are:"
   ]
  },
  {
   "cell_type": "code",
   "execution_count": null,
   "id": "6a4b27f6-618b-4adb-a1b9-f441c4c1495a",
   "metadata": {},
   "outputs": [],
   "source": [
    "a3 = H_sym_denom.coeff(s**3)\n",
    "a2 = H_sym_denom.coeff(s**2)\n",
    "a1 = H_sym_denom.coeff(s**1)\n",
    "a0 = H_sym_denom - a1*s*1 - a2*s**2 - a3*s**3\n",
    "Markdown('<p>$a_3={:s}$</p><p>$a_2={:s}$</p><p>$a_1={:s}$</p><p>$a_0={:s}$</p>'.format(latex(a3), latex(a2),latex(a1),latex(a0)))"
   ]
  },
  {
   "cell_type": "code",
   "execution_count": null,
   "id": "88e4f50c-f79f-41b0-b159-152a9bfb753c",
   "metadata": {},
   "outputs": [],
   "source": [
    "r1, r2 = denom_root_sym = solve(H_sym_denom,s)"
   ]
  },
  {
   "cell_type": "code",
   "execution_count": null,
   "id": "eee827c5-5d40-4035-b5f8-6944f4741eef",
   "metadata": {},
   "outputs": [],
   "source": [
    "r1"
   ]
  },
  {
   "cell_type": "code",
   "execution_count": null,
   "id": "86f22b98-97bf-436b-a555-193062878a6d",
   "metadata": {},
   "outputs": [],
   "source": [
    "(1/r1).expand()"
   ]
  },
  {
   "cell_type": "code",
   "execution_count": null,
   "id": "065e69ad-d1b4-4685-aaa7-1ae92deb3df7",
   "metadata": {},
   "outputs": [],
   "source": [
    "a1/a2"
   ]
  },
  {
   "cell_type": "code",
   "execution_count": null,
   "id": "20456596-1211-408b-a66c-da0f70f6af60",
   "metadata": {},
   "outputs": [],
   "source": [
    "a0/a2"
   ]
  },
  {
   "cell_type": "markdown",
   "id": "105cb4c4-dc1a-4a5d-99af-e3e3faaac852",
   "metadata": {},
   "source": [
    "Characteristic polynomial for a second order\n",
    "\n",
    "$s^2 + \\frac {\\omega_n}{Q}s+\\omega_n^2$\n"
   ]
  },
  {
   "cell_type": "code",
   "execution_count": null,
   "id": "67a80818-9f5c-4377-879d-23208d665b2b",
   "metadata": {},
   "outputs": [],
   "source": [
    "omega_n, Q = symbols('omega_n Q')"
   ]
  },
  {
   "cell_type": "code",
   "execution_count": null,
   "id": "ecdc11cc-e8e4-4df9-bd7e-6d77f91f30ed",
   "metadata": {},
   "outputs": [],
   "source": [
    "Q = solve(a1/a2-omega_n/Q,Q)[0]\n",
    "Q"
   ]
  },
  {
   "cell_type": "markdown",
   "id": "ed504a41-eedd-4f03-aa0d-1c3ef03b1fd0",
   "metadata": {},
   "source": [
    "The numerator of Q does not match."
   ]
  },
  {
   "cell_type": "code",
   "execution_count": null,
   "id": "1736a058-f12a-4a81-bed6-624b3789bdb9",
   "metadata": {},
   "outputs": [],
   "source": [
    "Q_num, Q_denom = fraction(Q)"
   ]
  },
  {
   "cell_type": "code",
   "execution_count": null,
   "id": "d4b4a872-9811-4f6f-8af2-fb261c94fcae",
   "metadata": {},
   "outputs": [],
   "source": [
    "str(Q_denom)"
   ]
  },
  {
   "cell_type": "code",
   "execution_count": null,
   "id": "f76aed75-3772-4ade-9917-82711b2b5460",
   "metadata": {},
   "outputs": [],
   "source": [
    "(C2*R1*Rc + C2*R1*Rl + C2*Rc*Rl).factor()"
   ]
  },
  {
   "cell_type": "markdown",
   "id": "b243b6bd-e976-497a-ad90-670031b6d61b",
   "metadata": {},
   "source": [
    "Q_denom looks correct, but Q_num is different.\n",
    "\n",
    "$\\omega_n$ is not in the denominator, otherwise looks the same. \n",
    "\n",
    "$\\omega_n$ below matches."
   ]
  },
  {
   "cell_type": "code",
   "execution_count": null,
   "id": "70357589-6081-462c-bd0f-7641054ddac6",
   "metadata": {},
   "outputs": [],
   "source": [
    "omega_n = solve(a0/a2-omega_n**2, omega_n)[1]\n",
    "omega_n"
   ]
  },
  {
   "cell_type": "markdown",
   "id": "dd08b17e-588f-491a-9182-25c29551fbf5",
   "metadata": {},
   "source": [
    "2nd order systems can be expressed in terms of Q and $\\omega_n$ and don't need the FACTS method."
   ]
  },
  {
   "cell_type": "code",
   "execution_count": null,
   "id": "a2ce2562-ce80-4499-a7a8-2c099e884b28",
   "metadata": {},
   "outputs": [],
   "source": []
  },
  {
   "cell_type": "markdown",
   "id": "6165d9b0-0fa9-4c30-b08c-6ef9f4fa7d73",
   "metadata": {},
   "source": [
    "## Slide 21 example\n",
    "Using some simple techniques to find the time constants of poles and zeros, then writing the transfer function. Use the R1||R2 notation to preserve components in  paralle combinations. \n",
    "\n",
    "\n",
    "```\n",
    "* Slide_21_circuit.asc\n",
    "V1 1 0 1\n",
    "R1 3 1 1\n",
    "R2 3 0 1\n",
    "R3 3 2 1\n",
    "Rc 2 4 1\n",
    "R4 2 0 1\n",
    "C1 4 0 1\n",
    ".backanno\n",
    ".end\n",
    "```\n",
    "\n",
    "First the brute force solution."
   ]
  },
  {
   "cell_type": "markdown",
   "id": "63a665ee-a906-4370-8e12-6b71a1292c0f",
   "metadata": {},
   "source": [
    "## Brute force"
   ]
  },
  {
   "cell_type": "code",
   "execution_count": 166,
   "id": "74a70812-56ee-49f1-9406-8faa39ef9027",
   "metadata": {},
   "outputs": [],
   "source": [
    "example_net_list = '''\n",
    "V1 1 0 1\n",
    "R1 3 1 1\n",
    "R2 3 0 1\n",
    "R3 3 2 1\n",
    "Rc 2 4 1\n",
    "R4 2 0 1\n",
    "C1 4 0 1\n",
    "'''"
   ]
  },
  {
   "cell_type": "markdown",
   "id": "37407703-7603-4ea0-9375-624dc7b4c5bd",
   "metadata": {},
   "source": [
    "## Generate Network Equations "
   ]
  },
  {
   "cell_type": "code",
   "execution_count": 167,
   "id": "8d70674c-71b5-4c48-a085-791c36a0351d",
   "metadata": {},
   "outputs": [
    {
     "data": {
      "text/markdown": [
       "<p>$I_{V1} + \\frac{v_{1}}{R_{1}} - \\frac{v_{3}}{R_{1}} = 0$</p><p>$v_{2} \\cdot \\left(\\frac{1}{Rc} + \\frac{1}{R_{4}} + \\frac{1}{R_{3}}\\right) - \\frac{v_{4}}{Rc} - \\frac{v_{3}}{R_{3}} = 0$</p><p>$v_{3} \\cdot \\left(\\frac{1}{R_{3}} + \\frac{1}{R_{2}} + \\frac{1}{R_{1}}\\right) - \\frac{v_{2}}{R_{3}} - \\frac{v_{1}}{R_{1}} = 0$</p><p>$v_{4} \\left(C_{1} s + \\frac{1}{Rc}\\right) - \\frac{v_{2}}{Rc} = 0$</p><p>$v_{1} = V_{1}$</p>"
      ],
      "text/plain": [
       "<IPython.core.display.Markdown object>"
      ]
     },
     "execution_count": 167,
     "metadata": {},
     "output_type": "execute_result"
    }
   ],
   "source": [
    "report, network_df, df2, A, X, Z = SymMNA.smna(example_net_list)\n",
    "\n",
    "# Put matrices into SymPy \n",
    "X = Matrix(X)\n",
    "Z = Matrix(Z)\n",
    "\n",
    "NE_sym = Eq(A*X,Z)\n",
    "\n",
    "# display the equations\n",
    "temp = ''\n",
    "for i in range(shape(NE_sym.lhs)[0]):\n",
    "    temp += '<p>${:s} = {:s}$</p>'.format(latex(NE_sym.lhs[i]),\n",
    "        latex(NE_sym.rhs[i]))\n",
    "\n",
    "Markdown(temp)"
   ]
  },
  {
   "cell_type": "code",
   "execution_count": 168,
   "id": "954094f6-def3-4989-a5cb-32859ce0526e",
   "metadata": {},
   "outputs": [
    {
     "data": {
      "text/markdown": [
       "<p>$v_{1} = V_{1}$</p><p>$v_{2} = \\frac{C_{1} R_{2} R_{4} Rc V_{1} s + R_{2} R_{4} V_{1}}{C_{1} R_{1} R_{2} R_{4} s + C_{1} R_{1} R_{2} Rc s + C_{1} R_{1} R_{3} R_{4} s + C_{1} R_{1} R_{3} Rc s + C_{1} R_{1} R_{4} Rc s + C_{1} R_{2} R_{3} R_{4} s + C_{1} R_{2} R_{3} Rc s + C_{1} R_{2} R_{4} Rc s + R_{1} R_{2} + R_{1} R_{3} + R_{1} R_{4} + R_{2} R_{3} + R_{2} R_{4}}$</p><p>$v_{3} = \\frac{C_{1} R_{2} R_{3} R_{4} V_{1} s + C_{1} R_{2} R_{3} Rc V_{1} s + C_{1} R_{2} R_{4} Rc V_{1} s + R_{2} R_{3} V_{1} + R_{2} R_{4} V_{1}}{C_{1} R_{1} R_{2} R_{4} s + C_{1} R_{1} R_{2} Rc s + C_{1} R_{1} R_{3} R_{4} s + C_{1} R_{1} R_{3} Rc s + C_{1} R_{1} R_{4} Rc s + C_{1} R_{2} R_{3} R_{4} s + C_{1} R_{2} R_{3} Rc s + C_{1} R_{2} R_{4} Rc s + R_{1} R_{2} + R_{1} R_{3} + R_{1} R_{4} + R_{2} R_{3} + R_{2} R_{4}}$</p><p>$v_{4} = \\frac{R_{2} R_{4} V_{1}}{C_{1} R_{1} R_{2} R_{4} s + C_{1} R_{1} R_{2} Rc s + C_{1} R_{1} R_{3} R_{4} s + C_{1} R_{1} R_{3} Rc s + C_{1} R_{1} R_{4} Rc s + C_{1} R_{2} R_{3} R_{4} s + C_{1} R_{2} R_{3} Rc s + C_{1} R_{2} R_{4} Rc s + R_{1} R_{2} + R_{1} R_{3} + R_{1} R_{4} + R_{2} R_{3} + R_{2} R_{4}}$</p><p>$I_{V1} = \\frac{- C_{1} R_{2} R_{4} V_{1} s - C_{1} R_{2} Rc V_{1} s - C_{1} R_{3} R_{4} V_{1} s - C_{1} R_{3} Rc V_{1} s - C_{1} R_{4} Rc V_{1} s - R_{2} V_{1} - R_{3} V_{1} - R_{4} V_{1}}{C_{1} R_{1} R_{2} R_{4} s + C_{1} R_{1} R_{2} Rc s + C_{1} R_{1} R_{3} R_{4} s + C_{1} R_{1} R_{3} Rc s + C_{1} R_{1} R_{4} Rc s + C_{1} R_{2} R_{3} R_{4} s + C_{1} R_{2} R_{3} Rc s + C_{1} R_{2} R_{4} Rc s + R_{1} R_{2} + R_{1} R_{3} + R_{1} R_{4} + R_{2} R_{3} + R_{2} R_{4}}$</p>"
      ],
      "text/plain": [
       "<IPython.core.display.Markdown object>"
      ]
     },
     "execution_count": 168,
     "metadata": {},
     "output_type": "execute_result"
    }
   ],
   "source": [
    "var(str(NE_sym.free_symbols).replace('{','').replace('}',''))\n",
    "element_values = SymMNA.get_part_values(network_df)\n",
    "\n",
    "U_sym = solve(NE_sym,X)\n",
    "\n",
    "temp = ''\n",
    "for i in U_sym.keys():\n",
    "        temp += '<p>${:s} = {:s}$</p>'.format(latex(i),latex(U_sym[i]))\n",
    "\n",
    "Markdown(temp)"
   ]
  },
  {
   "cell_type": "markdown",
   "id": "daf0b5f2-e66d-49c4-bfed-4ae3a94a84a3",
   "metadata": {},
   "source": [
    "### Voltage Transfer Function $H(s)=\\frac {v_2(s)}{v_1(s)}$"
   ]
  },
  {
   "cell_type": "code",
   "execution_count": 169,
   "id": "899343e2-4cb1-4440-91b6-665401e718f2",
   "metadata": {},
   "outputs": [
    {
     "data": {
      "text/markdown": [
       "$H(s)=\\frac{C_{1} R_{2} R_{4} Rc s + R_{2} R_{4}}{R_{1} R_{2} + R_{1} R_{3} + R_{1} R_{4} + R_{2} R_{3} + R_{2} R_{4} + s \\left(C_{1} R_{1} R_{2} R_{4} + C_{1} R_{1} R_{2} Rc + C_{1} R_{1} R_{3} R_{4} + C_{1} R_{1} R_{3} Rc + C_{1} R_{1} R_{4} Rc + C_{1} R_{2} R_{3} R_{4} + C_{1} R_{2} R_{3} Rc + C_{1} R_{2} R_{4} Rc\\right)}$"
      ],
      "text/plain": [
       "<IPython.core.display.Markdown object>"
      ]
     },
     "execution_count": 169,
     "metadata": {},
     "output_type": "execute_result"
    }
   ],
   "source": [
    "H_sym_bf = cancel(U_sym[v2]/U_sym[v1],s)\n",
    "Markdown('$H(s)={:s}$'.format(latex(H_sym_bf)))"
   ]
  },
  {
   "cell_type": "code",
   "execution_count": 170,
   "id": "31074fe0-a498-4066-b40b-75f2cf5d7ceb",
   "metadata": {
    "tags": []
   },
   "outputs": [],
   "source": [
    "H_sym_num, H_sym_denom = fraction(H_sym_bf,s) #returns numerator and denominator"
   ]
  },
  {
   "cell_type": "markdown",
   "id": "ef06cc85-c7c1-4a42-a29d-f4ced967089d",
   "metadata": {},
   "source": [
    "### Numerator Polynominal"
   ]
  },
  {
   "cell_type": "code",
   "execution_count": 171,
   "id": "88c8eacd-2500-47f5-a64d-ce1ad439c3c7",
   "metadata": {},
   "outputs": [
    {
     "data": {
      "text/markdown": [
       "$N(s)=C_{1} R_{2} R_{4} Rc s + R_{2} R_{4}$"
      ],
      "text/plain": [
       "<IPython.core.display.Markdown object>"
      ]
     },
     "execution_count": 171,
     "metadata": {},
     "output_type": "execute_result"
    }
   ],
   "source": [
    "Markdown('$N(s)={:s}$'.format(latex(H_sym_num)))"
   ]
  },
  {
   "cell_type": "markdown",
   "id": "cd82ac05-67dd-4a00-bbdc-ba6ade8d34b7",
   "metadata": {},
   "source": [
    "The coeficients of each Laplace terms can be equated to the variables $b_2$, $b_1$ and $b_0$ in the expression: \n",
    "\n",
    "$b_2s^{2}+b_1s+b_0$\n",
    "\n",
    "where $b_2$, $b_1$ and $b_0$ are:"
   ]
  },
  {
   "cell_type": "code",
   "execution_count": 172,
   "id": "9e8ef75a-402e-4b11-90e1-9fcaf35cfdf1",
   "metadata": {},
   "outputs": [
    {
     "data": {
      "text/markdown": [
       "<p>$b_2=0$</p><p>$b_1=C_{1} R_{2} R_{4} Rc$</p><p>$b_0=R_{2} R_{4}$</p>"
      ],
      "text/plain": [
       "<IPython.core.display.Markdown object>"
      ]
     },
     "execution_count": 172,
     "metadata": {},
     "output_type": "execute_result"
    }
   ],
   "source": [
    "b2 = H_sym_num.coeff(s**2)\n",
    "b1 = H_sym_num.coeff(s**1)\n",
    "b0 = H_sym_num - b1*s*1 - b2*s**2\n",
    "\n",
    "Markdown('<p>$b_2={:s}$</p><p>$b_1={:s}$</p><p>$b_0={:s}$</p>'.format(latex(b2),latex(b1),latex(b0)))"
   ]
  },
  {
   "cell_type": "code",
   "execution_count": 173,
   "id": "21925c19-2c4f-4ab3-9077-a92f074228f5",
   "metadata": {},
   "outputs": [],
   "source": [
    "z1_bf = solve(H_sym_num,s)"
   ]
  },
  {
   "cell_type": "code",
   "execution_count": 174,
   "id": "fdc8fb6f-9502-4fed-aa9c-56f3111fc10c",
   "metadata": {},
   "outputs": [
    {
     "data": {
      "image/png": "[encoded data removed]",
      "text/latex": [
       "$\\displaystyle \\left[ - \\frac{1}{C_{1} Rc}\\right]$"
      ],
      "text/plain": [
       "⎡ -1  ⎤\n",
       "⎢─────⎥\n",
       "⎣C₁⋅Rc⎦"
      ]
     },
     "execution_count": 174,
     "metadata": {},
     "output_type": "execute_result"
    }
   ],
   "source": [
    "z1_bf"
   ]
  },
  {
   "cell_type": "markdown",
   "id": "9f2b844b-4e82-45b8-b74e-63a3630d0af0",
   "metadata": {},
   "source": [
    "### Denominator Polynominal"
   ]
  },
  {
   "cell_type": "code",
   "execution_count": 175,
   "id": "30ea6367-0008-4c09-93b8-a28db8571f4a",
   "metadata": {},
   "outputs": [
    {
     "data": {
      "text/markdown": [
       "$D(s)=R_{1} R_{2} + R_{1} R_{3} + R_{1} R_{4} + R_{2} R_{3} + R_{2} R_{4} + s \\left(C_{1} R_{1} R_{2} R_{4} + C_{1} R_{1} R_{2} Rc + C_{1} R_{1} R_{3} R_{4} + C_{1} R_{1} R_{3} Rc + C_{1} R_{1} R_{4} Rc + C_{1} R_{2} R_{3} R_{4} + C_{1} R_{2} R_{3} Rc + C_{1} R_{2} R_{4} Rc\\right)$"
      ],
      "text/plain": [
       "<IPython.core.display.Markdown object>"
      ]
     },
     "execution_count": 175,
     "metadata": {},
     "output_type": "execute_result"
    }
   ],
   "source": [
    "Markdown('$D(s)={:s}$'.format(latex(H_sym_denom)))"
   ]
  },
  {
   "cell_type": "markdown",
   "id": "efdf1f8d-2413-47fa-8d54-0b4a3d359964",
   "metadata": {},
   "source": [
    "The coeficients of each Laplace terms can be equated to the variables $a_3$, $a_2$, $a_1$ and $a_0$ in the expression: \n",
    "\n",
    "$a_3s^3+a_2s^2+a_1s+a_0$\n",
    "\n",
    "where $a_3$, $a_2$, $a_1$ and $a_0$ are:"
   ]
  },
  {
   "cell_type": "code",
   "execution_count": 176,
   "id": "120c715f-bcff-41df-b86a-adf83749a4a1",
   "metadata": {},
   "outputs": [
    {
     "data": {
      "text/markdown": [
       "<p>$a_3=0$</p><p>$a_2=0$</p><p>$a_1=C_{1} R_{1} R_{2} R_{4} + C_{1} R_{1} R_{2} Rc + C_{1} R_{1} R_{3} R_{4} + C_{1} R_{1} R_{3} Rc + C_{1} R_{1} R_{4} Rc + C_{1} R_{2} R_{3} R_{4} + C_{1} R_{2} R_{3} Rc + C_{1} R_{2} R_{4} Rc$</p><p>$a_0=R_{1} R_{2} + R_{1} R_{3} + R_{1} R_{4} + R_{2} R_{3} + R_{2} R_{4}$</p>"
      ],
      "text/plain": [
       "<IPython.core.display.Markdown object>"
      ]
     },
     "execution_count": 176,
     "metadata": {},
     "output_type": "execute_result"
    }
   ],
   "source": [
    "a3 = H_sym_denom.coeff(s**3)\n",
    "a2 = H_sym_denom.coeff(s**2)\n",
    "a1 = H_sym_denom.coeff(s**1)\n",
    "a0 = H_sym_denom - a1*s*1 - a2*s**2 - a3*s**3\n",
    "Markdown('<p>$a_3={:s}$</p><p>$a_2={:s}$</p><p>$a_1={:s}$</p><p>$a_0={:s}$</p>'.format(latex(a3), latex(a2),latex(a1),latex(a0)))"
   ]
  },
  {
   "cell_type": "code",
   "execution_count": 177,
   "id": "d655531c-e249-4812-b707-e7f315a417fb",
   "metadata": {},
   "outputs": [],
   "source": [
    "p1_bf = solve(H_sym_denom,s)"
   ]
  },
  {
   "cell_type": "code",
   "execution_count": 178,
   "id": "fde95c24-1338-486b-bcf7-878acbcc3b0c",
   "metadata": {},
   "outputs": [
    {
     "data": {
      "image/png": "[encoded data removed]",
      "text/latex": [
       "$\\displaystyle \\left[ \\frac{- R_{1} R_{2} - R_{1} R_{3} - R_{1} R_{4} - R_{2} R_{3} - R_{2} R_{4}}{C_{1} \\left(R_{1} R_{2} R_{4} + R_{1} R_{2} Rc + R_{1} R_{3} R_{4} + R_{1} R_{3} Rc + R_{1} R_{4} Rc + R_{2} R_{3} R_{4} + R_{2} R_{3} Rc + R_{2} R_{4} Rc\\right)}\\right]$"
      ],
      "text/plain": [
       "⎡                          -R₁⋅R₂ - R₁⋅R₃ - R₁⋅R₄ - R₂⋅R₃ - R₂⋅R₄             \n",
       "⎢─────────────────────────────────────────────────────────────────────────────\n",
       "⎣C₁⋅(R₁⋅R₂⋅R₄ + R₁⋅R₂⋅Rc + R₁⋅R₃⋅R₄ + R₁⋅R₃⋅Rc + R₁⋅R₄⋅Rc + R₂⋅R₃⋅R₄ + R₂⋅R₃⋅R\n",
       "\n",
       "             ⎤\n",
       "─────────────⎥\n",
       "c + R₂⋅R₄⋅Rc)⎦"
      ]
     },
     "execution_count": 178,
     "metadata": {},
     "output_type": "execute_result"
    }
   ],
   "source": [
    "p1_bf"
   ]
  },
  {
   "cell_type": "markdown",
   "id": "62a3ba38-cda1-44e2-abd9-5b1f8294209c",
   "metadata": {},
   "source": [
    "## FACTS method\n",
    "\n",
    "What is the gain when Vin is a dc voltage?\n",
    "\n",
    "The capacitor is open circuited, circuited read the schematic!\n",
    "\n",
    "comment the capacitor line"
   ]
  },
  {
   "cell_type": "code",
   "execution_count": 179,
   "id": "c65f3d01-a767-4f1e-92d8-a42ac4fb10af",
   "metadata": {},
   "outputs": [],
   "source": [
    "example_net_list = '''\n",
    "V1 1 0 1\n",
    "R1 3 1 1\n",
    "R2 3 0 1\n",
    "R3 3 2 1\n",
    "Rc 2 4 1\n",
    "R4 2 0 1\n",
    "*C1 4 0 1\n",
    "'''"
   ]
  },
  {
   "cell_type": "code",
   "execution_count": 50,
   "id": "48983469-2bfc-41de-8ca5-45f12975ca46",
   "metadata": {},
   "outputs": [
    {
     "data": {
      "text/markdown": [
       "<p>$I_{V1} + \\frac{v_{1}}{R_{1}} - \\frac{v_{3}}{R_{1}} = 0$</p><p>$v_{2} \\cdot \\left(\\frac{1}{Rc} + \\frac{1}{R_{4}} + \\frac{1}{R_{3}}\\right) - \\frac{v_{4}}{Rc} - \\frac{v_{3}}{R_{3}} = 0$</p><p>$v_{3} \\cdot \\left(\\frac{1}{R_{3}} + \\frac{1}{R_{2}} + \\frac{1}{R_{1}}\\right) - \\frac{v_{2}}{R_{3}} - \\frac{v_{1}}{R_{1}} = 0$</p><p>$- \\frac{v_{2}}{Rc} + \\frac{v_{4}}{Rc} = 0$</p><p>$v_{1} = V_{1}$</p>"
      ],
      "text/plain": [
       "<IPython.core.display.Markdown object>"
      ]
     },
     "execution_count": 50,
     "metadata": {},
     "output_type": "execute_result"
    }
   ],
   "source": [
    "report, network_df, df2, A, X, Z = SymMNA.smna(example_net_list)\n",
    "\n",
    "# Put matrices into SymPy \n",
    "X = Matrix(X)\n",
    "Z = Matrix(Z)\n",
    "\n",
    "NE_sym = Eq(A*X,Z)\n",
    "\n",
    "# display the equations\n",
    "temp = ''\n",
    "for i in range(shape(NE_sym.lhs)[0]):\n",
    "    temp += '<p>${:s} = {:s}$</p>'.format(latex(NE_sym.lhs[i]),\n",
    "        latex(NE_sym.rhs[i]))\n",
    "\n",
    "Markdown(temp)"
   ]
  },
  {
   "cell_type": "code",
   "execution_count": 52,
   "id": "b6fc9750-6384-4d51-8bfb-09da5f9fc4e8",
   "metadata": {},
   "outputs": [
    {
     "data": {
      "text/markdown": [
       "<p>$v_{1} = V_{1}$</p><p>$v_{2} = \\frac{R_{2} R_{4} V_{1}}{R_{1} R_{2} + R_{1} R_{3} + R_{1} R_{4} + R_{2} R_{3} + R_{2} R_{4}}$</p><p>$v_{3} = \\frac{R_{2} R_{3} V_{1} + R_{2} R_{4} V_{1}}{R_{1} R_{2} + R_{1} R_{3} + R_{1} R_{4} + R_{2} R_{3} + R_{2} R_{4}}$</p><p>$v_{4} = \\frac{R_{2} R_{4} V_{1}}{R_{1} R_{2} + R_{1} R_{3} + R_{1} R_{4} + R_{2} R_{3} + R_{2} R_{4}}$</p><p>$I_{V1} = \\frac{- R_{2} V_{1} - R_{3} V_{1} - R_{4} V_{1}}{R_{1} R_{2} + R_{1} R_{3} + R_{1} R_{4} + R_{2} R_{3} + R_{2} R_{4}}$</p>"
      ],
      "text/plain": [
       "<IPython.core.display.Markdown object>"
      ]
     },
     "execution_count": 52,
     "metadata": {},
     "output_type": "execute_result"
    }
   ],
   "source": [
    "var(str(NE_sym.free_symbols).replace('{','').replace('}',''))\n",
    "element_values = SymMNA.get_part_values(network_df)\n",
    "\n",
    "U_sym = solve(NE_sym,X)\n",
    "\n",
    "temp = ''\n",
    "for i in U_sym.keys():\n",
    "        temp += '<p>${:s} = {:s}$</p>'.format(latex(i),latex(U_sym[i]))\n",
    "\n",
    "Markdown(temp)"
   ]
  },
  {
   "cell_type": "markdown",
   "id": "63889021-9470-46a6-a72c-58d9234cf3fd",
   "metadata": {},
   "source": [
    "### Voltage Transfer Function $H(s)=\\frac {v_2(s)}{v_1(s)}$"
   ]
  },
  {
   "cell_type": "code",
   "execution_count": 53,
   "id": "5fb32b2b-c309-42cb-b51c-ce8c73c81d70",
   "metadata": {},
   "outputs": [
    {
     "data": {
      "text/markdown": [
       "$H(s)=\\frac{R_{2} R_{4}}{R_{1} R_{2} + R_{1} R_{3} + R_{1} R_{4} + R_{2} R_{3} + R_{2} R_{4}}$"
      ],
      "text/plain": [
       "<IPython.core.display.Markdown object>"
      ]
     },
     "execution_count": 53,
     "metadata": {},
     "output_type": "execute_result"
    }
   ],
   "source": [
    "H_sym = cancel(U_sym[v2]/U_sym[v1],s)\n",
    "Markdown('$H(s)={:s}$'.format(latex(H_sym)))"
   ]
  },
  {
   "cell_type": "markdown",
   "id": "97f04a22-886d-43bf-abed-04f7d30e5531",
   "metadata": {},
   "source": [
    "numerator is the same, slide has R1||R2 term in denominator.\n",
    "\n",
    "Need to do some math to see if they are the same.\n",
    "\n",
    "Slide 22, fine the time constant. Set V1 to zero and find R as seen by the capacitor. Replace C1 with V2 and find "
   ]
  },
  {
   "cell_type": "markdown",
   "id": "885a6535-6231-4f7f-9415-d60c8c244e93",
   "metadata": {},
   "source": [
    "comments\n",
    "\n",
    "Could just make a new component call Rp12 for the parallel of R1 and R2"
   ]
  },
  {
   "cell_type": "code",
   "execution_count": 97,
   "id": "cb046677-3910-487c-b166-ac9dd3d7eb41",
   "metadata": {},
   "outputs": [],
   "source": [
    "def parallel_comb(Ra,Rb):\n",
    "    return (1/(1/Ra + 1/Rb)).simplify()"
   ]
  },
  {
   "cell_type": "code",
   "execution_count": 99,
   "id": "4d8fe926-8a36-4b4e-8e12-84f8a14a24a1",
   "metadata": {},
   "outputs": [
    {
     "data": {
      "image/png": "[encoded data removed]",
      "text/latex": [
       "$\\displaystyle \\frac{R_{1} R_{2}}{R_{1} + R_{2}}$"
      ],
      "text/plain": [
       " R₁⋅R₂ \n",
       "───────\n",
       "R₁ + R₂"
      ]
     },
     "execution_count": 99,
     "metadata": {},
     "output_type": "execute_result"
    }
   ],
   "source": [
    "parallel_comb(R1,R2)"
   ]
  },
  {
   "cell_type": "markdown",
   "id": "878ecc0f-7789-49e3-81a0-44bc330fb806",
   "metadata": {},
   "source": [
    "Expanding the expresson on slide 21\n",
    "\n",
    "$H_0=\\frac{R_2}{R_1+R_2} \\frac {R_4}{R_1 || R_2 + R_3 + R_4}$"
   ]
  },
  {
   "cell_type": "code",
   "execution_count": 100,
   "id": "32161aee-1900-464c-b0b2-66194e61655d",
   "metadata": {},
   "outputs": [
    {
     "data": {
      "image/png": "[encoded data removed]",
      "text/latex": [
       "$\\displaystyle \\frac{R_{2} R_{4}}{\\left(R_{1} + R_{2}\\right) \\left(\\frac{R_{1} R_{2}}{R_{1} + R_{2}} + R_{3} + R_{4}\\right)}$"
      ],
      "text/plain": [
       "            R₂⋅R₄            \n",
       "─────────────────────────────\n",
       "          ⎛ R₁⋅R₂           ⎞\n",
       "(R₁ + R₂)⋅⎜─────── + R₃ + R₄⎟\n",
       "          ⎝R₁ + R₂          ⎠"
      ]
     },
     "execution_count": 100,
     "metadata": {},
     "output_type": "execute_result"
    }
   ],
   "source": [
    "H0=(R2/(R1+R2))*(R4/(parallel_comb(R1,R2)+R3+R4))\n",
    "H0"
   ]
  },
  {
   "cell_type": "code",
   "execution_count": 101,
   "id": "f590a3b0-2991-4947-a5a8-034c51abb4cd",
   "metadata": {},
   "outputs": [
    {
     "data": {
      "image/png": "[encoded data removed]",
      "text/latex": [
       "$\\displaystyle \\frac{R_{2} R_{4}}{R_{1} R_{2} + \\left(R_{1} + R_{2}\\right) \\left(R_{3} + R_{4}\\right)}$"
      ],
      "text/plain": [
       "           R₂⋅R₄           \n",
       "───────────────────────────\n",
       "R₁⋅R₂ + (R₁ + R₂)⋅(R₃ + R₄)"
      ]
     },
     "execution_count": 101,
     "metadata": {},
     "output_type": "execute_result"
    }
   ],
   "source": [
    "H0.simplify()"
   ]
  },
  {
   "cell_type": "code",
   "execution_count": 102,
   "id": "686a8650-3ca8-4e73-ad8b-9bef62da6224",
   "metadata": {},
   "outputs": [],
   "source": [
    "H0_num, H0_denom = fraction(H0)"
   ]
  },
  {
   "cell_type": "code",
   "execution_count": 103,
   "id": "d4fa09d9-e41d-4bd0-97bf-f8c89d56dc84",
   "metadata": {},
   "outputs": [
    {
     "data": {
      "image/png": "[encoded data removed]",
      "text/latex": [
       "$\\displaystyle \\left(R_{1} + R_{2}\\right) \\left(\\frac{R_{1} R_{2}}{R_{1} + R_{2}} + R_{3} + R_{4}\\right)$"
      ],
      "text/plain": [
       "          ⎛ R₁⋅R₂           ⎞\n",
       "(R₁ + R₂)⋅⎜─────── + R₃ + R₄⎟\n",
       "          ⎝R₁ + R₂          ⎠"
      ]
     },
     "execution_count": 103,
     "metadata": {},
     "output_type": "execute_result"
    }
   ],
   "source": [
    "H0_denom"
   ]
  },
  {
   "cell_type": "code",
   "execution_count": 104,
   "id": "fc5b7761-0bb1-4d64-bf86-f83cce757d55",
   "metadata": {},
   "outputs": [
    {
     "data": {
      "image/png": "[encoded data removed]",
      "text/latex": [
       "$\\displaystyle R_{1} R_{2} + R_{1} R_{3} + R_{1} R_{4} + R_{2} R_{3} + R_{2} R_{4}$"
      ],
      "text/plain": [
       "R₁⋅R₂ + R₁⋅R₃ + R₁⋅R₄ + R₂⋅R₃ + R₂⋅R₄"
      ]
     },
     "execution_count": 104,
     "metadata": {},
     "output_type": "execute_result"
    }
   ],
   "source": [
    "H0_denom.expand().simplify()"
   ]
  },
  {
   "cell_type": "markdown",
   "id": "88b8a541-8a95-49f0-9e7e-b8a72dda5812",
   "metadata": {},
   "source": [
    "Same answer\n",
    "\n",
    "## Find the time constant\n",
    "replace C1 with V2 and find Z"
   ]
  },
  {
   "cell_type": "code",
   "execution_count": 105,
   "id": "b06df58c-a624-4b67-a81c-38a5c1c23640",
   "metadata": {},
   "outputs": [],
   "source": [
    "example_net_list = '''\n",
    "V1 1 0 0\n",
    "R1 3 1 1\n",
    "R2 3 0 1\n",
    "R3 3 2 1\n",
    "Rc 2 4 1\n",
    "R4 2 0 1\n",
    "*C1 4 0 1\n",
    "V2 4 0 1\n",
    "'''"
   ]
  },
  {
   "cell_type": "code",
   "execution_count": 106,
   "id": "46311288-1eff-40ab-9135-ecb3002c2d9b",
   "metadata": {},
   "outputs": [
    {
     "data": {
      "text/markdown": [
       "<p>$I_{V1} + \\frac{v_{1}}{R_{1}} - \\frac{v_{3}}{R_{1}} = 0$</p><p>$v_{2} \\cdot \\left(\\frac{1}{Rc} + \\frac{1}{R_{4}} + \\frac{1}{R_{3}}\\right) - \\frac{v_{4}}{Rc} - \\frac{v_{3}}{R_{3}} = 0$</p><p>$v_{3} \\cdot \\left(\\frac{1}{R_{3}} + \\frac{1}{R_{2}} + \\frac{1}{R_{1}}\\right) - \\frac{v_{2}}{R_{3}} - \\frac{v_{1}}{R_{1}} = 0$</p><p>$I_{V2} - \\frac{v_{2}}{Rc} + \\frac{v_{4}}{Rc} = 0$</p><p>$v_{1} = V_{1}$</p><p>$v_{4} = V_{2}$</p>"
      ],
      "text/plain": [
       "<IPython.core.display.Markdown object>"
      ]
     },
     "execution_count": 106,
     "metadata": {},
     "output_type": "execute_result"
    }
   ],
   "source": [
    "report, network_df, df2, A, X, Z = SymMNA.smna(example_net_list)\n",
    "\n",
    "# Put matrices into SymPy \n",
    "X = Matrix(X)\n",
    "Z = Matrix(Z)\n",
    "\n",
    "NE_sym = Eq(A*X,Z)\n",
    "\n",
    "# display the equations\n",
    "temp = ''\n",
    "for i in range(shape(NE_sym.lhs)[0]):\n",
    "    temp += '<p>${:s} = {:s}$</p>'.format(latex(NE_sym.lhs[i]),\n",
    "        latex(NE_sym.rhs[i]))\n",
    "\n",
    "Markdown(temp)"
   ]
  },
  {
   "cell_type": "code",
   "execution_count": 107,
   "id": "2895cd97-84fc-4ce9-9e82-e2c9d0174583",
   "metadata": {},
   "outputs": [
    {
     "data": {
      "text/markdown": [
       "<p>$v_{1} = V_{1}$</p><p>$v_{2} = \\frac{R_{1} R_{2} R_{4} V_{2} + R_{1} R_{3} R_{4} V_{2} + R_{2} R_{3} R_{4} V_{2} + R_{2} R_{4} Rc V_{1}}{R_{1} R_{2} R_{4} + R_{1} R_{2} Rc + R_{1} R_{3} R_{4} + R_{1} R_{3} Rc + R_{1} R_{4} Rc + R_{2} R_{3} R_{4} + R_{2} R_{3} Rc + R_{2} R_{4} Rc}$</p><p>$v_{3} = \\frac{R_{1} R_{2} R_{4} V_{2} + R_{2} R_{3} R_{4} V_{1} + R_{2} R_{3} Rc V_{1} + R_{2} R_{4} Rc V_{1}}{R_{1} R_{2} R_{4} + R_{1} R_{2} Rc + R_{1} R_{3} R_{4} + R_{1} R_{3} Rc + R_{1} R_{4} Rc + R_{2} R_{3} R_{4} + R_{2} R_{3} Rc + R_{2} R_{4} Rc}$</p><p>$v_{4} = V_{2}$</p><p>$I_{V1} = \\frac{- R_{2} R_{4} V_{1} + R_{2} R_{4} V_{2} - R_{2} Rc V_{1} - R_{3} R_{4} V_{1} - R_{3} Rc V_{1} - R_{4} Rc V_{1}}{R_{1} R_{2} R_{4} + R_{1} R_{2} Rc + R_{1} R_{3} R_{4} + R_{1} R_{3} Rc + R_{1} R_{4} Rc + R_{2} R_{3} R_{4} + R_{2} R_{3} Rc + R_{2} R_{4} Rc}$</p><p>$I_{V2} = \\frac{- R_{1} R_{2} V_{2} - R_{1} R_{3} V_{2} - R_{1} R_{4} V_{2} - R_{2} R_{3} V_{2} + R_{2} R_{4} V_{1} - R_{2} R_{4} V_{2}}{R_{1} R_{2} R_{4} + R_{1} R_{2} Rc + R_{1} R_{3} R_{4} + R_{1} R_{3} Rc + R_{1} R_{4} Rc + R_{2} R_{3} R_{4} + R_{2} R_{3} Rc + R_{2} R_{4} Rc}$</p>"
      ],
      "text/plain": [
       "<IPython.core.display.Markdown object>"
      ]
     },
     "execution_count": 107,
     "metadata": {},
     "output_type": "execute_result"
    }
   ],
   "source": [
    "var(str(NE_sym.free_symbols).replace('{','').replace('}',''))\n",
    "element_values = SymMNA.get_part_values(network_df)\n",
    "\n",
    "U_sym = solve(NE_sym,X)\n",
    "\n",
    "temp = ''\n",
    "for i in U_sym.keys():\n",
    "        temp += '<p>${:s} = {:s}$</p>'.format(latex(i),latex(U_sym[i]))\n",
    "\n",
    "Markdown(temp)"
   ]
  },
  {
   "cell_type": "markdown",
   "id": "d2259727-fbbb-4e56-9f5d-91b3e383911f",
   "metadata": {},
   "source": [
    "### Z2 = 1/I2"
   ]
  },
  {
   "cell_type": "code",
   "execution_count": 121,
   "id": "6fe66e08-8b13-47b8-b126-befabe61c38a",
   "metadata": {},
   "outputs": [
    {
     "data": {
      "text/markdown": [
       "$Z(s)=\\frac{R_{1} R_{2} R_{4} + R_{1} R_{2} Rc + R_{1} R_{3} R_{4} + R_{1} R_{3} Rc + R_{1} R_{4} Rc + R_{2} R_{3} R_{4} + R_{2} R_{3} Rc + R_{2} R_{4} Rc}{R_{1} R_{2} + R_{1} R_{3} + R_{1} R_{4} + R_{2} R_{3} + R_{2} R_{4}}$"
      ],
      "text/plain": [
       "<IPython.core.display.Markdown object>"
      ]
     },
     "execution_count": 121,
     "metadata": {},
     "output_type": "execute_result"
    }
   ],
   "source": [
    "Z_2_sym = (V2/-U_sym[I_V2]).subs({V1:0,V2:1}).simplify()\n",
    "Markdown('$Z(s)={:s}$'.format(latex(Z_2_sym)))"
   ]
  },
  {
   "cell_type": "markdown",
   "id": "19dd208a-ae99-4410-b131-e4d8529d85ec",
   "metadata": {},
   "source": [
    "need to define a function that will return the parallel combination of R1 and R2\n",
    "\n",
    "The equation at bottom of slide 22:\n",
    "\n",
    "$r_c + (R_1||R_2+R_3)||R_4$\n"
   ]
  },
  {
   "cell_type": "code",
   "execution_count": 109,
   "id": "f14dc7e1-c3c0-4517-a700-9868a3939741",
   "metadata": {},
   "outputs": [
    {
     "data": {
      "image/png": "[encoded data removed]",
      "text/latex": [
       "$\\displaystyle \\frac{R_{4} \\left(R_{1} R_{2} + R_{3} \\left(R_{1} + R_{2}\\right)\\right)}{R_{1} R_{2} + R_{3} \\left(R_{1} + R_{2}\\right) + R_{4} \\left(R_{1} + R_{2}\\right)} + Rc$"
      ],
      "text/plain": [
       "     R₄⋅(R₁⋅R₂ + R₃⋅(R₁ + R₂))          \n",
       "─────────────────────────────────── + Rc\n",
       "R₁⋅R₂ + R₃⋅(R₁ + R₂) + R₄⋅(R₁ + R₂)     "
      ]
     },
     "execution_count": 109,
     "metadata": {},
     "output_type": "execute_result"
    }
   ],
   "source": [
    "Z=Rc+parallel_comb((parallel_comb(R1,R2)+R3), R4)\n",
    "Z"
   ]
  },
  {
   "cell_type": "code",
   "execution_count": 110,
   "id": "e7a72b8e-4bf2-47ba-b821-7686d043b0ac",
   "metadata": {},
   "outputs": [
    {
     "data": {
      "image/png": "[encoded data removed]",
      "text/latex": [
       "$\\displaystyle \\frac{R_{1} R_{2} R_{4} + R_{1} R_{3} R_{4} + R_{2} R_{3} R_{4} + Rc \\left(R_{1} R_{2} + R_{1} R_{3} + R_{1} R_{4} + R_{2} R_{3} + R_{2} R_{4}\\right)}{R_{1} R_{2} + R_{1} R_{3} + R_{1} R_{4} + R_{2} R_{3} + R_{2} R_{4}}$"
      ],
      "text/plain": [
       "R₁⋅R₂⋅R₄ + R₁⋅R₃⋅R₄ + R₂⋅R₃⋅R₄ + Rc⋅(R₁⋅R₂ + R₁⋅R₃ + R₁⋅R₄ + R₂⋅R₃ + R₂⋅R₄)\n",
       "───────────────────────────────────────────────────────────────────────────\n",
       "                   R₁⋅R₂ + R₁⋅R₃ + R₁⋅R₄ + R₂⋅R₃ + R₂⋅R₄                   "
      ]
     },
     "execution_count": 110,
     "metadata": {},
     "output_type": "execute_result"
    }
   ],
   "source": [
    "Z.expand().simplify()"
   ]
  },
  {
   "cell_type": "code",
   "execution_count": 123,
   "id": "c53d50cd-b530-48ca-9e71-bf844ab02602",
   "metadata": {},
   "outputs": [
    {
     "data": {
      "image/png": "[encoded data removed]",
      "text/latex": [
       "$\\displaystyle \\frac{R_{1} R_{2} R_{4} + R_{1} R_{3} R_{4} + R_{2} R_{3} R_{4} + Rc \\left(R_{1} R_{2} + R_{1} R_{3} + R_{1} R_{4} + R_{2} R_{3} + R_{2} R_{4}\\right)}{R_{1} R_{2} + R_{1} R_{3} + R_{1} R_{4} + R_{2} R_{3} + R_{2} R_{4}}$"
      ],
      "text/plain": [
       "R₁⋅R₂⋅R₄ + R₁⋅R₃⋅R₄ + R₂⋅R₃⋅R₄ + Rc⋅(R₁⋅R₂ + R₁⋅R₃ + R₁⋅R₄ + R₂⋅R₃ + R₂⋅R₄)\n",
       "───────────────────────────────────────────────────────────────────────────\n",
       "                   R₁⋅R₂ + R₁⋅R₃ + R₁⋅R₄ + R₂⋅R₃ + R₂⋅R₄                   "
      ]
     },
     "execution_count": 123,
     "metadata": {},
     "output_type": "execute_result"
    }
   ],
   "source": [
    "Z_2_sym.collect(Rc)"
   ]
  },
  {
   "cell_type": "markdown",
   "id": "01b3df2d-3e4c-43c1-adad-01096d17450a",
   "metadata": {},
   "source": [
    "The results agree. but parallel connections are lost.\n",
    "\n",
    "resistors in parallel have ???\n",
    "\n",
    "resistors in series have ???\n",
    "\n",
    "## Find the time constant for the zero.\n",
    "\n",
    "Look at the resistance driving the storage element\n",
    "\n",
    "When the excitation is back but Vout = 0 V\n",
    "\n",
    "Do this by including ```V2 2 0 0``` and comment C2, using V3=1 in place of C1"
   ]
  },
  {
   "cell_type": "code",
   "execution_count": 134,
   "id": "13914987-3b79-4574-9307-a359cc1dc379",
   "metadata": {},
   "outputs": [],
   "source": [
    "example_net_list = '''\n",
    "V1 1 0 1\n",
    "R1 3 1 1\n",
    "R2 3 0 1\n",
    "R3 3 2 1\n",
    "Rc 2 4 1\n",
    "R4 2 0 1\n",
    "*C1 4 0 1\n",
    "V3 4 0 1\n",
    "V2 2 0 0\n",
    "'''"
   ]
  },
  {
   "cell_type": "code",
   "execution_count": 135,
   "id": "fa55a77e-f568-410f-aea5-b9e46fc8803a",
   "metadata": {},
   "outputs": [
    {
     "data": {
      "text/markdown": [
       "<p>$I_{V1} + \\frac{v_{1}}{R_{1}} - \\frac{v_{3}}{R_{1}} = 0$</p><p>$I_{V2} + v_{2} \\cdot \\left(\\frac{1}{Rc} + \\frac{1}{R_{4}} + \\frac{1}{R_{3}}\\right) - \\frac{v_{4}}{Rc} - \\frac{v_{3}}{R_{3}} = 0$</p><p>$v_{3} \\cdot \\left(\\frac{1}{R_{3}} + \\frac{1}{R_{2}} + \\frac{1}{R_{1}}\\right) - \\frac{v_{2}}{R_{3}} - \\frac{v_{1}}{R_{1}} = 0$</p><p>$I_{V3} - \\frac{v_{2}}{Rc} + \\frac{v_{4}}{Rc} = 0$</p><p>$v_{1} = V_{1}$</p><p>$v_{4} = V_{3}$</p><p>$v_{2} = V_{2}$</p>"
      ],
      "text/plain": [
       "<IPython.core.display.Markdown object>"
      ]
     },
     "execution_count": 135,
     "metadata": {},
     "output_type": "execute_result"
    }
   ],
   "source": [
    "report, network_df, df2, A, X, Z = SymMNA.smna(example_net_list)\n",
    "\n",
    "# Put matrices into SymPy \n",
    "X = Matrix(X)\n",
    "Z = Matrix(Z)\n",
    "\n",
    "NE_sym = Eq(A*X,Z)\n",
    "\n",
    "# display the equations\n",
    "temp = ''\n",
    "for i in range(shape(NE_sym.lhs)[0]):\n",
    "    temp += '<p>${:s} = {:s}$</p>'.format(latex(NE_sym.lhs[i]),\n",
    "        latex(NE_sym.rhs[i]))\n",
    "\n",
    "Markdown(temp)"
   ]
  },
  {
   "cell_type": "code",
   "execution_count": 136,
   "id": "4baa4e54-d1bf-4eb6-8d4b-1797a8ed06e2",
   "metadata": {},
   "outputs": [
    {
     "data": {
      "text/markdown": [
       "<p>$v_{1} = V_{1}$</p><p>$v_{2} = V_{2}$</p><p>$v_{3} = \\frac{R_{1} R_{2} V_{2} + R_{2} R_{3} V_{1}}{R_{1} R_{2} + R_{1} R_{3} + R_{2} R_{3}}$</p><p>$v_{4} = V_{3}$</p><p>$I_{V1} = \\frac{- R_{2} V_{1} + R_{2} V_{2} - R_{3} V_{1}}{R_{1} R_{2} + R_{1} R_{3} + R_{2} R_{3}}$</p><p>$I_{V3} = \\frac{V_{2} - V_{3}}{Rc}$</p><p>$I_{V2} = \\frac{- R_{1} R_{2} R_{4} V_{2} + R_{1} R_{2} R_{4} V_{3} - R_{1} R_{2} Rc V_{2} - R_{1} R_{3} R_{4} V_{2} + R_{1} R_{3} R_{4} V_{3} - R_{1} R_{3} Rc V_{2} - R_{1} R_{4} Rc V_{2} - R_{2} R_{3} R_{4} V_{2} + R_{2} R_{3} R_{4} V_{3} - R_{2} R_{3} Rc V_{2} + R_{2} R_{4} Rc V_{1} - R_{2} R_{4} Rc V_{2}}{R_{1} R_{2} R_{4} Rc + R_{1} R_{3} R_{4} Rc + R_{2} R_{3} R_{4} Rc}$</p>"
      ],
      "text/plain": [
       "<IPython.core.display.Markdown object>"
      ]
     },
     "execution_count": 136,
     "metadata": {},
     "output_type": "execute_result"
    }
   ],
   "source": [
    "var(str(NE_sym.free_symbols).replace('{','').replace('}',''))\n",
    "element_values = SymMNA.get_part_values(network_df)\n",
    "\n",
    "U_sym = solve(NE_sym,X)\n",
    "\n",
    "temp = ''\n",
    "for i in U_sym.keys():\n",
    "        temp += '<p>${:s} = {:s}$</p>'.format(latex(i),latex(U_sym[i]))\n",
    "\n",
    "Markdown(temp)"
   ]
  },
  {
   "cell_type": "markdown",
   "id": "31a00dd2-5358-4605-9eb5-4290052757f7",
   "metadata": {},
   "source": [
    "### Z2 = 1/I2\n",
    "V=IZ\n",
    "\n",
    "Z= V/I"
   ]
  },
  {
   "cell_type": "code",
   "execution_count": 139,
   "id": "f22f8c46-ac46-4b3e-b747-97eb90d0cf84",
   "metadata": {},
   "outputs": [
    {
     "data": {
      "text/markdown": [
       "$Z(s)=Rc$"
      ],
      "text/plain": [
       "<IPython.core.display.Markdown object>"
      ]
     },
     "execution_count": 139,
     "metadata": {},
     "output_type": "execute_result"
    }
   ],
   "source": [
    "Z_2_sym = (U_sym[v4]/-U_sym[I_V3]).subs({V1:1, V2:0}).simplify()\n",
    "Markdown('$Z(s)={:s}$'.format(latex(Z_2_sym)))"
   ]
  },
  {
   "cell_type": "markdown",
   "id": "a35ad534-22f5-4ebd-ad69-41a88c2f1b31",
   "metadata": {},
   "source": [
    "Final form \n",
    "\n",
    "$H(s)=h_0(s) \\frac {1+\\frac{s}{\\omega_z}}{1+\\frac{s}{\\omega_p}}$\n",
    "\n",
    "\n",
    "\n",
    "Need to comment about brute force versus series and parallel combining and writing equations by inspection"
   ]
  },
  {
   "cell_type": "code",
   "execution_count": 157,
   "id": "5b45be6c-8ed0-4147-9061-2bce1e059b38",
   "metadata": {},
   "outputs": [
    {
     "data": {
      "image/png": "[encoded data removed]",
      "text/latex": [
       "$\\displaystyle \\frac{C_{1} R_{2} R_{4} Rc s + R_{2} R_{4}}{R_{1} R_{2} + R_{1} R_{3} + R_{1} R_{4} + R_{2} R_{3} + R_{2} R_{4} + s \\left(C_{1} R_{1} R_{2} R_{4} + C_{1} R_{1} R_{2} Rc + C_{1} R_{1} R_{3} R_{4} + C_{1} R_{1} R_{3} Rc + C_{1} R_{1} R_{4} Rc + C_{1} R_{2} R_{3} R_{4} + C_{1} R_{2} R_{3} Rc + C_{1} R_{2} R_{4} Rc\\right)}$"
      ],
      "text/plain": [
       "                                                                  C₁⋅R₂⋅R₄⋅Rc⋅\n",
       "──────────────────────────────────────────────────────────────────────────────\n",
       "R₁⋅R₂ + R₁⋅R₃ + R₁⋅R₄ + R₂⋅R₃ + R₂⋅R₄ + s⋅(C₁⋅R₁⋅R₂⋅R₄ + C₁⋅R₁⋅R₂⋅Rc + C₁⋅R₁⋅R\n",
       "\n",
       "s + R₂⋅R₄                                                                  \n",
       "───────────────────────────────────────────────────────────────────────────\n",
       "₃⋅R₄ + C₁⋅R₁⋅R₃⋅Rc + C₁⋅R₁⋅R₄⋅Rc + C₁⋅R₂⋅R₃⋅R₄ + C₁⋅R₂⋅R₃⋅Rc + C₁⋅R₂⋅R₄⋅Rc)"
      ]
     },
     "execution_count": 157,
     "metadata": {},
     "output_type": "execute_result"
    }
   ],
   "source": [
    "H_sym_bf"
   ]
  },
  {
   "cell_type": "code",
   "execution_count": 182,
   "id": "df50d8ac-8108-45b8-9d29-04b563081f10",
   "metadata": {},
   "outputs": [
    {
     "data": {
      "image/png": "[encoded data removed]",
      "text/latex": [
       "$\\displaystyle \\frac{C_{1} R_{2} R_{4} Rc s + R_{2} R_{4}}{C_{1} s \\left(R_{1} R_{2} R_{4} + R_{1} R_{2} Rc + R_{1} R_{3} R_{4} + R_{1} R_{3} Rc + R_{1} R_{4} Rc + R_{2} R_{3} R_{4} + R_{2} R_{3} Rc + R_{2} R_{4} Rc\\right) + R_{1} R_{2} + R_{1} R_{3} + R_{1} R_{4} + R_{2} R_{3} + R_{2} R_{4}}$"
      ],
      "text/plain": [
       "                                                       C₁⋅R₂⋅R₄⋅Rc⋅s + R₂⋅R₄  \n",
       "──────────────────────────────────────────────────────────────────────────────\n",
       "C₁⋅s⋅(R₁⋅R₂⋅R₄ + R₁⋅R₂⋅Rc + R₁⋅R₃⋅R₄ + R₁⋅R₃⋅Rc + R₁⋅R₄⋅Rc + R₂⋅R₃⋅R₄ + R₂⋅R₃⋅\n",
       "\n",
       "                                                      \n",
       "──────────────────────────────────────────────────────\n",
       "Rc + R₂⋅R₄⋅Rc) + R₁⋅R₂ + R₁⋅R₃ + R₁⋅R₄ + R₂⋅R₃ + R₂⋅R₄"
      ]
     },
     "execution_count": 182,
     "metadata": {},
     "output_type": "execute_result"
    }
   ],
   "source": [
    "H_sym_bf.collect(C1Generate)"
   ]
  },
  {
   "cell_type": "code",
   "execution_count": 180,
   "id": "aa59e6db-e04d-4d00-88fd-43de8fb64302",
   "metadata": {},
   "outputs": [
    {
     "data": {
      "image/png": "[encoded data removed]",
      "text/latex": [
       "$\\displaystyle \\left[ - \\frac{1}{C_{1} Rc}\\right]$"
      ],
      "text/plain": [
       "⎡ -1  ⎤\n",
       "⎢─────⎥\n",
       "⎣C₁⋅Rc⎦"
      ]
     },
     "execution_count": 180,
     "metadata": {},
     "output_type": "execute_result"
    }
   ],
   "source": [
    "z1_bf"
   ]
  },
  {
   "cell_type": "code",
   "execution_count": 181,
   "id": "1c002d75-ea46-460d-90d9-1340a84582b6",
   "metadata": {},
   "outputs": [
    {
     "data": {
      "image/png": "[encoded data removed]",
      "text/latex": [
       "$\\displaystyle \\left[ \\frac{- R_{1} R_{2} - R_{1} R_{3} - R_{1} R_{4} - R_{2} R_{3} - R_{2} R_{4}}{C_{1} \\left(R_{1} R_{2} R_{4} + R_{1} R_{2} Rc + R_{1} R_{3} R_{4} + R_{1} R_{3} Rc + R_{1} R_{4} Rc + R_{2} R_{3} R_{4} + R_{2} R_{3} Rc + R_{2} R_{4} Rc\\right)}\\right]$"
      ],
      "text/plain": [
       "⎡                          -R₁⋅R₂ - R₁⋅R₃ - R₁⋅R₄ - R₂⋅R₃ - R₂⋅R₄             \n",
       "⎢─────────────────────────────────────────────────────────────────────────────\n",
       "⎣C₁⋅(R₁⋅R₂⋅R₄ + R₁⋅R₂⋅Rc + R₁⋅R₃⋅R₄ + R₁⋅R₃⋅Rc + R₁⋅R₄⋅Rc + R₂⋅R₃⋅R₄ + R₂⋅R₃⋅R\n",
       "\n",
       "             ⎤\n",
       "─────────────⎥\n",
       "c + R₂⋅R₄⋅Rc)⎦"
      ]
     },
     "execution_count": 181,
     "metadata": {},
     "output_type": "execute_result"
    }
   ],
   "source": [
    "p1_bf"
   ]
  },
  {
   "cell_type": "code",
   "execution_count": null,
   "id": "91f447f1-d821-40fb-a486-2a26cb156fb1",
   "metadata": {},
   "outputs": [],
   "source": []
  },
  {
   "cell_type": "markdown",
   "id": "8fe0bd99-aae1-439b-98dd-5183a89c6da4",
   "metadata": {},
   "source": [
    "## Slide 90 example\n",
    "\n"
   ]
  },
  {
   "cell_type": "code",
   "execution_count": null,
   "id": "2bb0a8e5-4320-4199-91ef-b95492f837e0",
   "metadata": {},
   "outputs": [],
   "source": []
  },
  {
   "cell_type": "markdown",
   "id": "4cb999dc-df6a-4d49-b6bc-05dc4d093e24",
   "metadata": {},
   "source": [
    "## Derivation of $\\omega_n$ and Q from 2nd order coefficients (a, b and c)\n",
    "\n",
    "Characteristic polynomial for a second order\n",
    "\n",
    "$s^2 + \\frac {\\omega_n}{Q}s+\\omega_n^2$\n"
   ]
  },
  {
   "cell_type": "code",
   "execution_count": null,
   "id": "0b3a70f3-1165-4cf8-8c95-0db3ccd64b73",
   "metadata": {},
   "outputs": [],
   "source": []
  },
  {
   "cell_type": "raw",
   "id": "62386de2-5f9c-42a5-8073-b587ddf46123",
   "metadata": {},
   "source": [
    "a*s**2+b*s+c"
   ]
  },
  {
   "cell_type": "code",
   "execution_count": 48,
   "id": "b62af8b1-ad07-48c1-9d04-1fe612a21b26",
   "metadata": {},
   "outputs": [],
   "source": [
    "omega_n, Q, damping_ratio, atten_param = symbols('omega_n Q damping_ratio atten_param')\n",
    "a, b, c, s = symbols('a b c s')"
   ]
  },
  {
   "cell_type": "code",
   "execution_count": 49,
   "id": "373d44dc-756c-4140-b72f-876701760ef4",
   "metadata": {},
   "outputs": [
    {
     "data": {
      "image/png": "[encoded data removed]",
      "text/latex": [
       "$\\displaystyle \\sqrt{\\frac{c}{a}}$"
      ],
      "text/plain": [
       "    ___\n",
       "   ╱ c \n",
       "  ╱  ─ \n",
       "╲╱   a "
      ]
     },
     "execution_count": 49,
     "metadata": {},
     "output_type": "execute_result"
    }
   ],
   "source": [
    "omega_n = solve(c/a-omega_n**2, omega_n)[1]\n",
    "omega_n"
   ]
  },
  {
   "cell_type": "code",
   "execution_count": 50,
   "id": "754d97b4-d49d-476e-bdcc-bc1b1d9fb3f4",
   "metadata": {},
   "outputs": [
    {
     "data": {
      "image/png": "[encoded data removed]",
      "text/latex": [
       "$\\displaystyle \\frac{a \\sqrt{\\frac{c}{a}}}{b}$"
      ],
      "text/plain": [
       "      ___\n",
       "     ╱ c \n",
       "a⋅  ╱  ─ \n",
       "  ╲╱   a \n",
       "─────────\n",
       "    b    "
      ]
     },
     "execution_count": 50,
     "metadata": {},
     "output_type": "execute_result"
    }
   ],
   "source": [
    "Q = solve(b/a-omega_n/Q, Q)[0].simplify()\n",
    "Q"
   ]
  },
  {
   "cell_type": "code",
   "execution_count": null,
   "id": "4fb84af4-43fd-4598-851e-3aaa8a1e78f9",
   "metadata": {},
   "outputs": [],
   "source": []
  }
 ],
 "metadata": {
  "kernelspec": {
   "display_name": "Python 3 (ipykernel)",
   "language": "python",
   "name": "python3"
  },
  "language_info": {
   "codemirror_mode": {
    "name": "ipython",
    "version": 3
   },
   "file_extension": ".py",
   "mimetype": "text/x-python",
   "name": "python",
   "nbconvert_exporter": "python",
   "pygments_lexer": "ipython3",
   "version": "3.10.9"
  }
 },
 "nbformat": 4,
 "nbformat_minor": 5
}
