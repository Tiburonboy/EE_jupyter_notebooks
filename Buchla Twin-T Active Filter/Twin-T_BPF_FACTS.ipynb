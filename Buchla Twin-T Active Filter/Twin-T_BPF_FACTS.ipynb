{
 "cells": [
  {
   "cell_type": "markdown",
   "id": "7edef83a-b126-416a-974e-6169f79a130d",
   "metadata": {},
   "source": [
    "# Twin-T_BPF_FACTS\n",
    "Last update: 4 Mar 2025\n",
    "\n",
    "$\\large{\\color {red} {\\text{This notbook is posted as a place holder}}}$  \n"
   ]
  },
  {
   "cell_type": "markdown",
   "id": "926eaef1-3b4b-4d42-8d84-726ec65493ec",
   "metadata": {},
   "source": [
    "# FACTS (Fast Analytical Circuits Techniques)"
   ]
  },
  {
   "cell_type": "markdown",
   "id": "46a52f12-6d75-46db-be99-10b644ee7581",
   "metadata": {},
   "source": [
    "The FACTS (Fast Analytical Circuits Techniques) method refers to a circuit analysis technique that enables engineers to obtain the transfer functions and input and output impedances of a circuit by inspection without resorting to too much algebra. The circuits offered as illustrations of the technique are small with one or two reactive elements. Middlebrook [x] seems to have been the first proponent of the method and describes what he calls design oriented analysis. He talks about low entropy equations, in which the terms and elements are ordered or grouped in such a way that their physical origin, where they come from in the circuit, and what part of the circuit contributes to this part of the final expression becomes obvious. The method is also described in [x].\n",
    "\n",
    "The origin of the FACTS circuit analysis method, as stated above, is from [x] and [x] @Middlebrook1991. [IEEE](https://www.ieee.org/) technical papers and books by [x] @basso2016 and [x] @Vorpérian2002 have been written on the subject, however these are not free or available to download for free. FACTS is a circuit analysis method where the transfer function is determined by applying the Extra Element Theorem. Christophe Basso, Vatché Vorpérian and others have open source content available:\n",
    "\n",
    "- [Introduction to Fast Analytical Techniques: Application to Small-Signal Modeling](https://www.powersimtof.com/Downloads/PPTs/Chris%20Basso%20APEC%20seminar%202016.pdf)\n",
    "- A series of 22 YouTube videos starting with: [Fast Analytical Techniques for Electrical and Electronic Circuits](https://www.youtube.com/watch?v=uir9Js1l_r8)\n",
    "- [Extra Element Theorem: An Introduction (with Examples)](https://www.edn.com/middlebrooks-extra-element-theorem/)\n",
    "\n",
    "According to the open source FACTS literature:\n",
    "\n",
    ">The well-known and widely used methods of nodal or loop analysis, while effective for obtaining numerical solutions, are largely ineffective for deriving analytical solutions in symbolic form, except for simple circuits. Attempting to invert a matrix with symbolic entries, even for low-order matrices, results in tedious algebra and complex, high-entropy expressions that provide little meaningful insight.\n",
    "\n",
    "The FACTS procedure, as illustrated in the open source literature, employs example circuits that are usually of order 1 or 2. The procedure results in equations that keep circuit elements grouped together and thus the equations are more intuitive. For 3rd order and higher circuits, the procedure becomes rather involved and I didn't see any circuit analysis examples beyond a 2nd order circuit.\n",
    "\n",
    "Traditional circuit analysis techniques usually don't produce analytical answers, i.e. equations in terms of symbols. Both the FACTS procedure and the MNA Python code in this book yield analytical answers, with the FACTS results possibly being more intuitive and the MNA Python code providing an automated solution, which would then have to be algebraically manipulated to be put into a FACTS type solution.\n",
    "\n",
    "\n",
    "IN the video series start with video 8"
   ]
  },
  {
   "cell_type": "markdown",
   "id": "2d03d5aa-5b8e-42b5-b419-31ee0ddfb446",
   "metadata": {},
   "source": [
    "Prototype FACTS equations in seperate notebook. \n",
    "\n",
    "Twin-T_BPF_FACTS.ipynb\n",
    "\n",
    "references\n",
    "```\n",
    "@INPROCEEDINGS{Middlebrook1992,\n",
    "  author={Middlebrook, R.D.},\n",
    "  booktitle={Proceedings. Twenty-Second Annual conference Frontiers in Education}, \n",
    "  title={Methods of Design-Oriented Analysis: The Quadratic Equation Revisited}, \n",
    "  year={1992},\n",
    "  pages={95-102},\n",
    "  doi={10.1109/FIE.1992.683365}\n",
    "}\n",
    "\n",
    "@INPROCEEDINGS{Middlebrook1991,\n",
    "  author={Middlebrook, R.D.},\n",
    "  booktitle={Proceedings Frontiers in Education Twenty-First Annual Conference. Engineering Education in a New World Order}, \n",
    "  title={Low-entropy expressions: the key to design-oriented analysis}, \n",
    "  year={1991},\n",
    "  pages={399-403},\n",
    "  doi={10.1109/FIE.1991.187513}\n",
    "}\n",
    "\n",
    "@online{basso2016,\n",
    "    author = {Basso, Christophe},\n",
    "    title = {Introduction to Fast Analytical Techniques: Application to Small-Signal Modeling},\n",
    "    url  = {https://www.powersimtof.com/Downloads/PPTs/Chris%20Basso%20APEC%20seminar%202016.pdf},\n",
    "    year={2016},\n",
    "    addendum = {accessed 12 Feb 2024}\n",
    "}\n",
    "\n",
    "@book{Vorpérian2002,\n",
    "  title={Fast Analytical Techniques for Electrical and Electronic Circuits},\n",
    "  author={Vatché Vorpérian},\n",
    "  isbn={9780521624718},\n",
    "  year={2002},\n",
    "  url={https://www.cambridge.org/core/books/fast-analytical-techniques-for-electrical-and-electronic-circuits/17845BA88A05A1645A8409D6739A475A#fndtn-information},\n",
    "  publisher={Cambridge University Press},\n",
    "  addendum = {accessed 1 July 2024}\n",
    "}\n",
    "```"
   ]
  },
  {
   "cell_type": "code",
   "execution_count": null,
   "id": "6e13ed67-bf3d-4d54-abbf-f176bc4842a9",
   "metadata": {},
   "outputs": [],
   "source": []
  },
  {
   "cell_type": "code",
   "execution_count": null,
   "id": "6f35217a-dba5-47e7-b9ce-1936c1dded71",
   "metadata": {},
   "outputs": [],
   "source": []
  }
 ],
 "metadata": {
  "kernelspec": {
   "display_name": "Python 3 (ipykernel)",
   "language": "python",
   "name": "python3"
  },
  "language_info": {
   "codemirror_mode": {
    "name": "ipython",
    "version": 3
   },
   "file_extension": ".py",
   "mimetype": "text/x-python",
   "name": "python",
   "nbconvert_exporter": "python",
   "pygments_lexer": "ipython3",
   "version": "3.10.9"
  }
 },
 "nbformat": 4,
 "nbformat_minor": 5
}
