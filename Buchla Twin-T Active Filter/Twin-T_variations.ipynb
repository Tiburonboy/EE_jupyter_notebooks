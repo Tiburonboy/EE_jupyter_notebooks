{
 "cells": [
  {
   "cell_type": "markdown",
   "id": "7a229e46-2167-4b2d-b4c8-4c38a781dc4e",
   "metadata": {},
   "source": [
    "# Twin-T_variations\n",
    "\n",
    "- LPF\n",
    "- HPF\n",
    "- BRF\n",
    "- BPF\n",
    "\n",
    "could explore all combinations\n",
    "\n",
    "\n",
    "https://en.wikipedia.org/wiki/Q_factor\n",
    "\n"
   ]
  },
  {
   "cell_type": "code",
   "execution_count": 1,
   "id": "fcf65627-6a96-4983-867c-27a245691b10",
   "metadata": {
    "collapsed": false,
    "jupyter": {
     "outputs_hidden": false
    }
   },
   "outputs": [],
   "source": [
    "import random\n",
    "from sympy import *\n",
    "import numpy as np\n",
    "from tabulate import tabulate\n",
    "from scipy import signal\n",
    "import matplotlib.pyplot as plt\n",
    "import SymMNA\n",
    "from IPython.display import display, Markdown, Math, Latex\n",
    "from tabulate import tabulate\n",
    "init_printing()"
   ]
  },
  {
   "cell_type": "markdown",
   "id": "784de200-50ca-478a-838f-3f3930be4d85",
   "metadata": {
    "tags": []
   },
   "source": [
    "# SYMBOLIC ANALYSIS"
   ]
  },
  {
   "cell_type": "code",
   "execution_count": null,
   "id": "ad457042-0bd7-4050-ab27-c4da30fa2cd4",
   "metadata": {},
   "outputs": [],
   "source": []
  },
  {
   "cell_type": "code",
   "execution_count": null,
   "id": "530f7406-3d03-4375-8ef8-6ea482fff1c9",
   "metadata": {},
   "outputs": [],
   "source": []
  },
  {
   "cell_type": "markdown",
   "id": "066ebfcf-db69-44fb-b9f6-b3c847976002",
   "metadata": {},
   "source": [
    "## LFP\n",
    "```\n",
    "* C:\\users\\jeff64\\My Documents\\JupyterLab\\Misc ipython notebooks\\Buchla 295 10 Channel Comb Filter\\LTSpice\\LP-Twin-T-Active-Filter.asc\n",
    "R1 3 1 15k\n",
    "R2 2 5 186k\n",
    "R3 4 3 15k\n",
    "C1 5 0 10n\n",
    "C2 4 5 10n\n",
    "C3 2 3 910p\n",
    "XU1 4 0 2 opamp Aol=100K GBW=10Meg\n",
    "V1 1 0 1 AC 1\n",
    "* A Bandpass Twin-T Active Filter Used in the Buchla 200 Electric Music Box Synthesizer\n",
    "* 1000 Hz band\n",
    ".lib opamp.sub\n",
    ".ac dec 1000 100 1000k\n",
    "* R3 for each filter is a 20 kΩ potentiometer wired as a variable resistor.\n",
    "* R2 for each filter consists of a fixed resistor in series with a 100 kΩ potentiometer wired as a variable resistor.\n",
    "* The transfer function simplifies conveniently under the special case of R1 = R3 and C1 = C3\n",
    "* .step param Rtone list 1k 2k 5k 10k\n",
    ".backanno\n",
    ".end\n",
    "```"
   ]
  },
  {
   "cell_type": "code",
   "execution_count": 23,
   "id": "ad8cf947-3ac5-4f93-9c50-1feacac9c245",
   "metadata": {},
   "outputs": [],
   "source": [
    "LPF_net_list = '''\n",
    "R1 3 1 1\n",
    "R2 2 5 1\n",
    "R3 4 3 1\n",
    "C1 5 0 1\n",
    "C2 4 5 1\n",
    "C3 2 3 1\n",
    "O1 4 0 2\n",
    "V1 1 0 1\n",
    "'''"
   ]
  },
  {
   "cell_type": "markdown",
   "id": "e7c26e33-0939-470d-ba7b-421a1bb820fa",
   "metadata": {},
   "source": [
    "### Generate Network Equations "
   ]
  },
  {
   "cell_type": "code",
   "execution_count": 24,
   "id": "b805e0ca-b3f1-4ebe-ab9f-fa0de13fb745",
   "metadata": {},
   "outputs": [],
   "source": [
    "#| echo: true\n",
    "report, network_df, df2, A, X, Z = SymMNA.smna(LPF_net_list)"
   ]
  },
  {
   "cell_type": "markdown",
   "id": "61ec42a5-d028-48e2-81ee-65ea8d37fc31",
   "metadata": {},
   "source": [
    "Convert the lists of unknown node voltages and currents as well as the list of independednt voltage and current sources into SymPy matrices. "
   ]
  },
  {
   "cell_type": "code",
   "execution_count": 25,
   "id": "b3625341-44a5-4b93-b23f-c8abd82a6bd3",
   "metadata": {},
   "outputs": [],
   "source": [
    "X = Matrix(X)\n",
    "Z = Matrix(Z)"
   ]
  },
  {
   "cell_type": "markdown",
   "id": "6056c969-07f3-468b-87ff-3f541cfff959",
   "metadata": {},
   "source": [
    "Use the SymPy function ```Eq``` to formulate the network equations."
   ]
  },
  {
   "cell_type": "code",
   "execution_count": 26,
   "id": "db54b381-01bc-461f-8ebf-5814bcbe22e1",
   "metadata": {},
   "outputs": [],
   "source": [
    "NE_sym = Eq(A*X,Z)"
   ]
  },
  {
   "cell_type": "markdown",
   "id": "c33ccfa6-feb6-419b-b39b-513bf96f7dc4",
   "metadata": {},
   "source": [
    "The equations, ```NE_sym```, define the mathematical relationship between voltages and currents in the filter circuit in terms of node voltages, $v_1$, $v_2$ etc., components $R_1$, $C_1$ etc., the Laplace variable $s$ and the indepenedent voltage source $V_1$. The equations are shown below:"
   ]
  },
  {
   "cell_type": "code",
   "execution_count": 27,
   "id": "833f7dc6-e6c0-4d6a-8dba-8ae103c59e67",
   "metadata": {},
   "outputs": [
    {
     "data": {
      "text/markdown": [
       "<p>$I_{V1} + \\frac{v_{1}}{R_{1}} - \\frac{v_{3}}{R_{1}} = 0$</p><p>$- C_{3} s v_{3} + I_{O1} + v_{2} \\left(C_{3} s + \\frac{1}{R_{2}}\\right) - \\frac{v_{5}}{R_{2}} = 0$</p><p>$- C_{3} s v_{2} + v_{3} \\left(C_{3} s + \\frac{1}{R_{3}} + \\frac{1}{R_{1}}\\right) - \\frac{v_{4}}{R_{3}} - \\frac{v_{1}}{R_{1}} = 0$</p><p>$- C_{2} s v_{5} + v_{4} \\left(C_{2} s + \\frac{1}{R_{3}}\\right) - \\frac{v_{3}}{R_{3}} = 0$</p><p>$- C_{2} s v_{4} + v_{5} \\left(C_{1} s + C_{2} s + \\frac{1}{R_{2}}\\right) - \\frac{v_{2}}{R_{2}} = 0$</p><p>$v_{1} = V_{1}$</p><p>$v_{4} = 0$</p>"
      ],
      "text/plain": [
       "<IPython.core.display.Markdown object>"
      ]
     },
     "execution_count": 27,
     "metadata": {},
     "output_type": "execute_result"
    }
   ],
   "source": [
    "# Put matrices into SymPy \n",
    "X = Matrix(X)\n",
    "Z = Matrix(Z)\n",
    "\n",
    "NE_sym = Eq(A*X,Z)\n",
    "\n",
    "# display the equations\n",
    "temp = ''\n",
    "for i in range(shape(NE_sym.lhs)[0]):\n",
    "    temp += '<p>${:s} = {:s}$</p>'.format(latex(NE_sym.lhs[i]),\n",
    "        latex(NE_sym.rhs[i]))\n",
    "\n",
    "Markdown(temp)"
   ]
  },
  {
   "cell_type": "markdown",
   "id": "1318ad1b-d0f6-4ff4-be20-f831e2e2555c",
   "metadata": {},
   "source": [
    "The two lines of Python code below turn the free symbols from the ```NE_sym``` equations into SymPy variables and the element values contained in the netlist are put into a Python dictionary data structure to be used in the numerical solutions later in this report."
   ]
  },
  {
   "cell_type": "code",
   "execution_count": 28,
   "id": "f0cfc948-afce-4fac-898a-0b41c70b64b8",
   "metadata": {},
   "outputs": [],
   "source": [
    "var(str(NE_sym.free_symbols).replace('{','').replace('}',''))\n",
    "nominal_component_value = SymMNA.get_part_values(network_df)"
   ]
  },
  {
   "cell_type": "markdown",
   "id": "10278e8b-9b63-44d6-a5d9-cd122c0d19a7",
   "metadata": {},
   "source": [
    "### Solve the Network Equations\n",
    "The SymPy function ```solve``` is used to obtain the node voltages and independent voltage source currents."
   ]
  },
  {
   "cell_type": "code",
   "execution_count": 29,
   "id": "23a83630-f73f-45af-8121-7cca925b1069",
   "metadata": {},
   "outputs": [],
   "source": [
    "U_sym = solve(NE_sym,X)"
   ]
  },
  {
   "cell_type": "markdown",
   "id": "1da43f68-9e1b-4ec7-9688-51db7a2b90e4",
   "metadata": {},
   "source": [
    "The solution to the network equations are the node voltages expressed in terms of the Laplace variable $s$ are displayed below."
   ]
  },
  {
   "cell_type": "code",
   "execution_count": 30,
   "id": "6f9e030c-9e69-466f-8b1e-bab96ae33b96",
   "metadata": {},
   "outputs": [
    {
     "data": {
      "text/markdown": [
       "<p>$v_{1} = V_{1}$</p><p>$v_{2} = \\frac{- C_{1} R_{2} V_{1} s - C_{2} R_{2} V_{1} s - V_{1}}{C_{1} C_{3} R_{1} R_{2} s^{2} + C_{2} C_{3} R_{1} R_{2} s^{2} + C_{2} C_{3} R_{1} R_{3} s^{2} + C_{2} R_{1} s + C_{2} R_{3} s + C_{3} R_{1} s}$</p><p>$v_{3} = \\frac{C_{2} R_{3} V_{1}}{C_{1} C_{3} R_{1} R_{2} s + C_{2} C_{3} R_{1} R_{2} s + C_{2} C_{3} R_{1} R_{3} s + C_{2} R_{1} + C_{2} R_{3} + C_{3} R_{1}}$</p><p>$v_{4} = 0$</p><p>$v_{5} = - \\frac{V_{1}}{C_{1} C_{3} R_{1} R_{2} s^{2} + C_{2} C_{3} R_{1} R_{2} s^{2} + C_{2} C_{3} R_{1} R_{3} s^{2} + C_{2} R_{1} s + C_{2} R_{3} s + C_{3} R_{1} s}$</p>"
      ],
      "text/plain": [
       "<IPython.core.display.Markdown object>"
      ]
     },
     "execution_count": 30,
     "metadata": {},
     "output_type": "execute_result"
    }
   ],
   "source": [
    "temp = ''\n",
    "for i in U_sym.keys():\n",
    "    if str(i)[0] == 'v': # only display the node voltages\n",
    "        temp += '<p>${:s} = {:s}$</p>'.format(latex(i),latex(U_sym[i]))\n",
    "\n",
    "Markdown(temp)"
   ]
  },
  {
   "cell_type": "markdown",
   "id": "aff6742a-a869-4ae3-b4f6-b92ada445a90",
   "metadata": {},
   "source": [
    "### Voltage Transfer Function $H(s)=\\frac {v_2(s)}{v_1(s)}$\n",
    "The voltage transfer function, $H(s)$, for the filter  is generated and displayed by the following code:"
   ]
  },
  {
   "cell_type": "code",
   "execution_count": 31,
   "id": "081ebe4d-7411-4692-b087-db6da9cb076d",
   "metadata": {},
   "outputs": [
    {
     "data": {
      "text/markdown": [
       "$H(s)=\\frac{s \\left(- C_{1} R_{2} - C_{2} R_{2}\\right) - 1}{s^{2} \\left(C_{1} C_{3} R_{1} R_{2} + C_{2} C_{3} R_{1} R_{2} + C_{2} C_{3} R_{1} R_{3}\\right) + s \\left(C_{2} R_{1} + C_{2} R_{3} + C_{3} R_{1}\\right)}$"
      ],
      "text/plain": [
       "<IPython.core.display.Markdown object>"
      ]
     },
     "execution_count": 31,
     "metadata": {},
     "output_type": "execute_result"
    }
   ],
   "source": [
    "H_sym = cancel(U_sym[v2]/U_sym[v1],s)\n",
    "Markdown('$H(s)={:s}$'.format(latex(H_sym)))"
   ]
  },
  {
   "cell_type": "code",
   "execution_count": 32,
   "id": "223b9750-5cf7-4b7b-91e0-07c2b4f398f5",
   "metadata": {
    "tags": []
   },
   "outputs": [],
   "source": [
    "H_sym_num, H_sym_denom = fraction(H_sym,s) #returns numerator and denominator"
   ]
  },
  {
   "cell_type": "markdown",
   "id": "59ded09c-8ef3-48ba-820c-43b8370a7164",
   "metadata": {},
   "source": [
    "### Numerator Polynominal\n",
    "The numerator polynominal is:"
   ]
  },
  {
   "cell_type": "code",
   "execution_count": 33,
   "id": "7bece0db-e2b8-41ff-808a-4e3c69ba0ddf",
   "metadata": {},
   "outputs": [
    {
     "data": {
      "text/markdown": [
       "$N(s)=s \\left(- C_{1} R_{2} - C_{2} R_{2}\\right) - 1$"
      ],
      "text/plain": [
       "<IPython.core.display.Markdown object>"
      ]
     },
     "execution_count": 33,
     "metadata": {},
     "output_type": "execute_result"
    }
   ],
   "source": [
    "Markdown('$N(s)={:s}$'.format(latex(H_sym_num)))"
   ]
  },
  {
   "cell_type": "markdown",
   "id": "8a85edfa-28a6-4b2f-ad8b-191bf65fd007",
   "metadata": {},
   "source": [
    "The coeficients of each Laplace terms can be equated to the variables $b_2$, $b_1$ and $b_0$ in the expression: \n",
    "\n",
    "$b_2s^{2}+b_1s+b_0$\n",
    "\n",
    "where $b_2$, $b_1$ and $b_0$ are:"
   ]
  },
  {
   "cell_type": "code",
   "execution_count": 34,
   "id": "8a06965e-0c42-406b-bcb3-72d26055b6ad",
   "metadata": {},
   "outputs": [
    {
     "data": {
      "text/markdown": [
       "<p>$b_2=0$</p><p>$b_1=- C_{1} R_{2} - C_{2} R_{2}$</p><p>$b_0=-1$</p>"
      ],
      "text/plain": [
       "<IPython.core.display.Markdown object>"
      ]
     },
     "execution_count": 34,
     "metadata": {},
     "output_type": "execute_result"
    }
   ],
   "source": [
    "b2 = H_sym_num.coeff(s**2)\n",
    "b1 = H_sym_num.coeff(s**1)\n",
    "b0 = H_sym_num - b1*s*1 - b2*s**2\n",
    "\n",
    "Markdown('<p>$b_2={:s}$</p><p>$b_1={:s}$</p><p>$b_0={:s}$</p>'.format(latex(b2),latex(b1),latex(b0)))"
   ]
  },
  {
   "cell_type": "markdown",
   "id": "a9113132-c7d2-42cd-8344-ada294e0abe3",
   "metadata": {},
   "source": [
    "Notice that ther terms $b_2$ and $b_1$ are negative. This follows from the Op Amp being configured as an inverting amplifier. R2 and R3 provide a DC path from the Op Amp's output to the inverting terminal.\n",
    "\n",
    "The roots of the numerator polynominal can easily be found with SymPy. \n",
    "\n",
    "This filter has two transmission zeros"
   ]
  },
  {
   "cell_type": "code",
   "execution_count": 35,
   "id": "5d69d640-1cc6-40b9-9952-071ba98d5370",
   "metadata": {},
   "outputs": [],
   "source": [
    "num_root_sym = solve(H_sym_num,s)"
   ]
  },
  {
   "cell_type": "markdown",
   "id": "7cac96a2-b3cf-4a40-846d-e90d945f0cd8",
   "metadata": {},
   "source": [
    "There are two solutions, $z_1=0$ and another root at: "
   ]
  },
  {
   "cell_type": "code",
   "execution_count": 38,
   "id": "cf8107ce-bfa8-422c-b910-f05318c6796e",
   "metadata": {},
   "outputs": [
    {
     "data": {
      "image/png": "[encoded data removed]",
      "text/latex": [
       "$\\displaystyle \\left[ - \\frac{1}{R_{2} \\left(C_{1} + C_{2}\\right)}\\right]$"
      ],
      "text/plain": [
       "⎡    -1      ⎤\n",
       "⎢────────────⎥\n",
       "⎣R₂⋅(C₁ + C₂)⎦"
      ]
     },
     "execution_count": 38,
     "metadata": {},
     "output_type": "execute_result"
    }
   ],
   "source": [
    "num_root_sym"
   ]
  },
  {
   "cell_type": "markdown",
   "id": "fedfe4b7-4187-4399-b254-dad7bd3c8ecd",
   "metadata": {},
   "source": [
    "### Denominator Polynominal\n",
    "The demoninator polynominal of the transfer function is called the characteristic polynominal. The roots of the denominator, also called poles of the system,  determine the system's stability. If any of these roots have a positive real part, the system is unstable, meaning its output will grow unbounded. The roots also influence how the system responds to changes in input (the transient response). They affect things like how quickly the system settles to a new state, whether it oscillates, and the damping of those oscillations. Each root of the characteristic polynominal corresponds to a natural mode of the system.\n",
    "\n",
    "The denominator polynominal is:"
   ]
  },
  {
   "cell_type": "code",
   "execution_count": 39,
   "id": "fc6eb315-1fc1-41bf-8d52-3cd9618bd1cd",
   "metadata": {},
   "outputs": [
    {
     "data": {
      "text/markdown": [
       "$D(s)=s^{2} \\left(C_{1} C_{3} R_{1} R_{2} + C_{2} C_{3} R_{1} R_{2} + C_{2} C_{3} R_{1} R_{3}\\right) + s \\left(C_{2} R_{1} + C_{2} R_{3} + C_{3} R_{1}\\right)$"
      ],
      "text/plain": [
       "<IPython.core.display.Markdown object>"
      ]
     },
     "execution_count": 39,
     "metadata": {},
     "output_type": "execute_result"
    }
   ],
   "source": [
    "Markdown('$D(s)={:s}$'.format(latex(H_sym_denom)))"
   ]
  },
  {
   "cell_type": "markdown",
   "id": "e6adc1a0-090a-4f7e-b7b6-5e01efb86d03",
   "metadata": {},
   "source": [
    "The coeficients of each Laplace terms can be equated to the variables $a_3$, $a_2$, $a_1$ and $a_0$ in the expression: \n",
    "\n",
    "$a_3s^3+a_2s^2+a_1s+a_0$\n",
    "\n",
    "where $a_3$, $a_2$, $a_1$ and $a_0$ are:"
   ]
  },
  {
   "cell_type": "code",
   "execution_count": 40,
   "id": "020b3eb9-eb4b-43d7-a0ec-8a828ff3ba96",
   "metadata": {},
   "outputs": [
    {
     "data": {
      "text/markdown": [
       "<p>$a_3=0$</p><p>$a_2=C_{1} C_{3} R_{1} R_{2} + C_{2} C_{3} R_{1} R_{2} + C_{2} C_{3} R_{1} R_{3}$</p><p>$a_1=C_{2} R_{1} + C_{2} R_{3} + C_{3} R_{1}$</p><p>$a_0=0$</p>"
      ],
      "text/plain": [
       "<IPython.core.display.Markdown object>"
      ]
     },
     "execution_count": 40,
     "metadata": {},
     "output_type": "execute_result"
    }
   ],
   "source": [
    "a3 = H_sym_denom.coeff(s**3)\n",
    "a2 = H_sym_denom.coeff(s**2)\n",
    "a1 = H_sym_denom.coeff(s**1)\n",
    "a0 = H_sym_denom - a1*s*1 - a2*s**2 - a3*s**3\n",
    "Markdown('<p>$a_3={:s}$</p><p>$a_2={:s}$</p><p>$a_1={:s}$</p><p>$a_0={:s}$</p>'.format(latex(a3), latex(a2),latex(a1),latex(a0)))"
   ]
  },
  {
   "cell_type": "markdown",
   "id": "67213026-d51b-435f-bbf5-58ebafd64034",
   "metadata": {},
   "source": [
    "The roots of the denominator polynominal can found with SymPy. The filter circuit being analyzed in this report has a denominator polynominal that SymPy can quickly solve. This is not always the case. The expressions are long and do not render well when the JupyterLab notebook is converted to PDF, so the expressions were converted to LaTex strings and then to PNG images with [latex2png](https://latex2png.com/) for this report."
   ]
  },
  {
   "cell_type": "code",
   "execution_count": 41,
   "id": "7f55b45d-15f0-4188-98c4-efcca235605c",
   "metadata": {},
   "outputs": [],
   "source": [
    "denom_root_sym = solve(H_sym_denom,s)"
   ]
  },
  {
   "cell_type": "code",
   "execution_count": 44,
   "id": "b371ea06-d5a2-4ce4-b461-8098e8bc4aff",
   "metadata": {},
   "outputs": [
    {
     "data": {
      "image/png": "[encoded data removed]",
      "text/latex": [
       "$\\displaystyle \\left[ 0, \\  \\frac{- C_{2} R_{1} - C_{2} R_{3} - C_{3} R_{1}}{C_{3} R_{1} \\left(C_{1} R_{2} + C_{2} R_{2} + C_{2} R_{3}\\right)}\\right]$"
      ],
      "text/plain": [
       "⎡       -C₂⋅R₁ - C₂⋅R₃ - C₃⋅R₁   ⎤\n",
       "⎢0, ─────────────────────────────⎥\n",
       "⎣   C₃⋅R₁⋅(C₁⋅R₂ + C₂⋅R₂ + C₂⋅R₃)⎦"
      ]
     },
     "execution_count": 44,
     "metadata": {},
     "output_type": "execute_result"
    }
   ],
   "source": [
    "denom_root_sym"
   ]
  },
  {
   "cell_type": "code",
   "execution_count": 42,
   "id": "7ebf1486-8050-40ea-afc0-f98c8d54ab0f",
   "metadata": {},
   "outputs": [
    {
     "data": {
      "text/markdown": [
       "$N_r(s)=- C R_{2} s - C_{2} R_{2} s - 1$"
      ],
      "text/plain": [
       "<IPython.core.display.Markdown object>"
      ]
     },
     "execution_count": 42,
     "metadata": {},
     "output_type": "execute_result"
    }
   ],
   "source": [
    "C, R = symbols('C R')\n",
    "Markdown('$N_r(s)={:s}$'.format(latex(H_sym_num.subs({R1:R, R3:R, C1:C, C3:C}).collect(s).factor())))"
   ]
  },
  {
   "cell_type": "markdown",
   "id": "c5739e8c-f415-455d-a2d9-33f96e8d6cff",
   "metadata": {},
   "source": [
    "In a simular fashon, the denominator polynominal is:"
   ]
  },
  {
   "cell_type": "code",
   "execution_count": 43,
   "id": "7236abf8-3e55-4aee-b65e-44fe1207c1a1",
   "metadata": {
    "tags": []
   },
   "outputs": [
    {
     "data": {
      "text/markdown": [
       "$D_r(s)=R s \\left(C^{2} R_{2} s + C C_{2} R s + C C_{2} R_{2} s + C + 2 C_{2}\\right)$"
      ],
      "text/plain": [
       "<IPython.core.display.Markdown object>"
      ]
     },
     "execution_count": 43,
     "metadata": {},
     "output_type": "execute_result"
    }
   ],
   "source": [
    "Markdown('$D_r(s)={:s}$'.format(latex(H_sym_denom.subs({R1:R, R3:R, C1:C, C3:C}).collect(s).factor())))"
   ]
  },
  {
   "cell_type": "markdown",
   "id": "cb57560e-10a4-48a3-beec-1dac46920bc4",
   "metadata": {},
   "source": [
    "You can see the $\\left(CRs+1\\right)$ terms will cancel in the numerator and denominator.\n",
    "\n",
    "$\\frac {N_r(s)}{D_r(s)}=\\frac {- s \\left(C R s + 1\\right) \\left(C R + C_{2} R + C_{2} R_{2}\\right)}{\\left(C R s + 1\\right) \\left(C C_{2} R R_{2} s^{2} + C_{2} R s + 1\\right)}=\\frac {- s \\left(C R + C_{2} R + C_{2} R_{2}\\right)}{ \\left(C C_{2} R R_{2} s^{2} + C_{2} R s + 1\\right)}$\n"
   ]
  },
  {
   "cell_type": "code",
   "execution_count": null,
   "id": "0b614f21-c2f5-4fe2-8978-fbe0c0409473",
   "metadata": {},
   "outputs": [],
   "source": []
  },
  {
   "cell_type": "code",
   "execution_count": null,
   "id": "3154e04f-09cd-48d4-ada0-7d5affb273c9",
   "metadata": {},
   "outputs": [],
   "source": []
  },
  {
   "cell_type": "markdown",
   "id": "02387c46-fb26-451e-9544-5e6c3b326d44",
   "metadata": {},
   "source": [
    "## HFP\n",
    "```\n",
    "* C:\\users\\jeff64\\My Documents\\JupyterLab\\Misc ipython notebooks\\Buchla 295 10 Channel Comb Filter\\LTSpice\\HP-Twin-T-Active-Filter.asc\n",
    "R1 3 0 44.2k\n",
    "R2 2 5 22.1k\n",
    "R3 4 3 44.2k\n",
    "C1 5 1 3600p\n",
    "C2 4 5 3600p\n",
    "C3 2 3 1800p\n",
    "XU1 4 0 2 opamp Aol=100K GBW=10Meg\n",
    "V1 1 0 1 AC 1\n",
    "* A Bandpass Twin-T Active Filter Used in the Buchla 200 Electric Music Box Synthesizer\n",
    "* 1000 Hz band\n",
    ".lib opamp.sub\n",
    ".ac dec 1000 100 1000k\n",
    "* R3 for each filter is a 20 kΩ potentiometer wired as a variable resistor.\n",
    "* R2 for each filter consists of a fixed resistor in series with a 100 kΩ potentiometer wired as a variable resistor.\n",
    "* The transfer function simplifies conveniently under the special case of R1 = R3 and C1 = C3\n",
    "* .step param Rtone list 1k 2k 5k 10k\n",
    ".backanno\n",
    ".end\n",
    "```"
   ]
  },
  {
   "cell_type": "code",
   "execution_count": 45,
   "id": "63f42960-3b62-47e8-8323-32a20a5aa8d4",
   "metadata": {},
   "outputs": [],
   "source": [
    "example_net_list = '''\n",
    "R1 3 0 1\n",
    "R2 2 5 1\n",
    "R3 4 3 1\n",
    "C1 5 1 1\n",
    "C2 4 5 1\n",
    "C3 2 3 1\n",
    "O1 4 0 2\n",
    "V1 1 0 1\n",
    "'''"
   ]
  },
  {
   "cell_type": "markdown",
   "id": "f1adec4d-9a51-41ba-b382-f97563f71ed0",
   "metadata": {},
   "source": [
    "### Generate Network Equations "
   ]
  },
  {
   "cell_type": "code",
   "execution_count": 46,
   "id": "de75c54e-c532-46ad-857a-7259d0b56ebd",
   "metadata": {},
   "outputs": [],
   "source": [
    "#| echo: true\n",
    "report, network_df, df2, A, X, Z = SymMNA.smna(example_net_list)"
   ]
  },
  {
   "cell_type": "markdown",
   "id": "ea4242ae-6668-4330-8dce-e4a97b7d14f8",
   "metadata": {},
   "source": [
    "Convert the lists of unknown node voltages and currents as well as the list of independednt voltage and current sources into SymPy matrices. "
   ]
  },
  {
   "cell_type": "code",
   "execution_count": 47,
   "id": "46ec5a4d-9608-4443-be37-8629070aa248",
   "metadata": {},
   "outputs": [],
   "source": [
    "X = Matrix(X)\n",
    "Z = Matrix(Z)"
   ]
  },
  {
   "cell_type": "markdown",
   "id": "c8312bdc-db0c-4ac8-a0db-612fda319e62",
   "metadata": {},
   "source": [
    "Use the SymPy function ```Eq``` to formulate the network equations."
   ]
  },
  {
   "cell_type": "code",
   "execution_count": 48,
   "id": "77b08028-b789-4ef6-91da-22265baf3b2b",
   "metadata": {},
   "outputs": [],
   "source": [
    "NE_sym = Eq(A*X,Z)"
   ]
  },
  {
   "cell_type": "markdown",
   "id": "f0edccab-4fc0-47de-8743-9dcc7bd51ccd",
   "metadata": {},
   "source": [
    "The equations, ```NE_sym```, define the mathematical relationship between voltages and currents in the filter circuit in terms of node voltages, $v_1$, $v_2$ etc., components $R_1$, $C_1$ etc., the Laplace variable $s$ and the indepenedent voltage source $V_1$. The equations are shown below:"
   ]
  },
  {
   "cell_type": "code",
   "execution_count": 49,
   "id": "130121d9-9b9e-4011-a5f9-388146b23250",
   "metadata": {},
   "outputs": [
    {
     "data": {
      "text/markdown": [
       "<p>$C_{1} s v_{1} - C_{1} s v_{5} + I_{V1} = 0$</p><p>$- C_{3} s v_{3} + I_{O1} + v_{2} \\left(C_{3} s + \\frac{1}{R_{2}}\\right) - \\frac{v_{5}}{R_{2}} = 0$</p><p>$- C_{3} s v_{2} + v_{3} \\left(C_{3} s + \\frac{1}{R_{3}} + \\frac{1}{R_{1}}\\right) - \\frac{v_{4}}{R_{3}} = 0$</p><p>$- C_{2} s v_{5} + v_{4} \\left(C_{2} s + \\frac{1}{R_{3}}\\right) - \\frac{v_{3}}{R_{3}} = 0$</p><p>$- C_{1} s v_{1} - C_{2} s v_{4} + v_{5} \\left(C_{1} s + C_{2} s + \\frac{1}{R_{2}}\\right) - \\frac{v_{2}}{R_{2}} = 0$</p><p>$v_{1} = V_{1}$</p><p>$v_{4} = 0$</p>"
      ],
      "text/plain": [
       "<IPython.core.display.Markdown object>"
      ]
     },
     "execution_count": 49,
     "metadata": {},
     "output_type": "execute_result"
    }
   ],
   "source": [
    "# Put matrices into SymPy \n",
    "X = Matrix(X)\n",
    "Z = Matrix(Z)\n",
    "\n",
    "NE_sym = Eq(A*X,Z)\n",
    "\n",
    "# display the equations\n",
    "temp = ''\n",
    "for i in range(shape(NE_sym.lhs)[0]):\n",
    "    temp += '<p>${:s} = {:s}$</p>'.format(latex(NE_sym.lhs[i]),\n",
    "        latex(NE_sym.rhs[i]))\n",
    "\n",
    "Markdown(temp)"
   ]
  },
  {
   "cell_type": "markdown",
   "id": "35654ae8-a7a0-4a00-b0cf-76f36b62a93b",
   "metadata": {},
   "source": [
    "The two lines of Python code below turn the free symbols from the ```NE_sym``` equations into SymPy variables and the element values contained in the netlist are put into a Python dictionary data structure to be used in the numerical solutions later in this report."
   ]
  },
  {
   "cell_type": "code",
   "execution_count": 50,
   "id": "29e0daad-3743-4e22-8022-e63a8950fd05",
   "metadata": {},
   "outputs": [],
   "source": [
    "var(str(NE_sym.free_symbols).replace('{','').replace('}',''))\n",
    "nominal_component_value = SymMNA.get_part_values(network_df)"
   ]
  },
  {
   "cell_type": "markdown",
   "id": "5fd200f4-4ad3-4a90-a981-f363339e95cb",
   "metadata": {},
   "source": [
    "### Solve the Network Equations\n",
    "The SymPy function ```solve``` is used to obtain the node voltages and independent voltage source currents."
   ]
  },
  {
   "cell_type": "code",
   "execution_count": 51,
   "id": "44427e97-8c17-4b02-863c-dedafe40466f",
   "metadata": {},
   "outputs": [],
   "source": [
    "U_sym = solve(NE_sym,X)"
   ]
  },
  {
   "cell_type": "markdown",
   "id": "c14f509e-cae9-4add-b00d-40d50383acd7",
   "metadata": {},
   "source": [
    "The solution to the network equations are the node voltages expressed in terms of the Laplace variable $s$ are displayed below."
   ]
  },
  {
   "cell_type": "code",
   "execution_count": 52,
   "id": "887e7d65-4c2b-46e2-a167-931ec33882f0",
   "metadata": {},
   "outputs": [
    {
     "data": {
      "text/markdown": [
       "<p>$v_{1} = V_{1}$</p><p>$v_{2} = \\frac{- C_{1} C_{2} C_{3} R_{1} R_{2} R_{3} V_{1} s^{2} - C_{1} C_{2} R_{1} R_{2} V_{1} s - C_{1} C_{2} R_{2} R_{3} V_{1} s}{C_{1} C_{3} R_{1} R_{2} s + C_{2} C_{3} R_{1} R_{2} s + C_{2} C_{3} R_{1} R_{3} s + C_{2} R_{1} + C_{2} R_{3} + C_{3} R_{1}}$</p><p>$v_{3} = - \\frac{C_{1} C_{2} C_{3} R_{1} R_{2} R_{3} V_{1} s^{2}}{C_{1} C_{3} R_{1} R_{2} s + C_{2} C_{3} R_{1} R_{2} s + C_{2} C_{3} R_{1} R_{3} s + C_{2} R_{1} + C_{2} R_{3} + C_{3} R_{1}}$</p><p>$v_{4} = 0$</p><p>$v_{5} = \\frac{C_{1} C_{3} R_{1} R_{2} V_{1} s}{C_{1} C_{3} R_{1} R_{2} s + C_{2} C_{3} R_{1} R_{2} s + C_{2} C_{3} R_{1} R_{3} s + C_{2} R_{1} + C_{2} R_{3} + C_{3} R_{1}}$</p>"
      ],
      "text/plain": [
       "<IPython.core.display.Markdown object>"
      ]
     },
     "execution_count": 52,
     "metadata": {},
     "output_type": "execute_result"
    }
   ],
   "source": [
    "temp = ''\n",
    "for i in U_sym.keys():\n",
    "    if str(i)[0] == 'v': # only display the node voltages\n",
    "        temp += '<p>${:s} = {:s}$</p>'.format(latex(i),latex(U_sym[i]))\n",
    "\n",
    "Markdown(temp)"
   ]
  },
  {
   "cell_type": "markdown",
   "id": "13b5e231-c378-44bd-9155-5eba88345872",
   "metadata": {},
   "source": [
    "### Voltage Transfer Function $H(s)=\\frac {v_2(s)}{v_1(s)}$\n",
    "The voltage transfer function, $H(s)$, for the filter  is generated and displayed by the following code:"
   ]
  },
  {
   "cell_type": "code",
   "execution_count": 53,
   "id": "d371ddb3-a0f0-4859-a281-27373a91ecfc",
   "metadata": {},
   "outputs": [
    {
     "data": {
      "text/markdown": [
       "$H(s)=\\frac{- C_{1} C_{2} C_{3} R_{1} R_{2} R_{3} s^{2} + s \\left(- C_{1} C_{2} R_{1} R_{2} - C_{1} C_{2} R_{2} R_{3}\\right)}{C_{2} R_{1} + C_{2} R_{3} + C_{3} R_{1} + s \\left(C_{1} C_{3} R_{1} R_{2} + C_{2} C_{3} R_{1} R_{2} + C_{2} C_{3} R_{1} R_{3}\\right)}$"
      ],
      "text/plain": [
       "<IPython.core.display.Markdown object>"
      ]
     },
     "execution_count": 53,
     "metadata": {},
     "output_type": "execute_result"
    }
   ],
   "source": [
    "H_sym = cancel(U_sym[v2]/U_sym[v1],s)\n",
    "Markdown('$H(s)={:s}$'.format(latex(H_sym)))"
   ]
  },
  {
   "cell_type": "code",
   "execution_count": 54,
   "id": "d5b1c899-e6b5-41d1-b810-2949aeb3b793",
   "metadata": {
    "tags": []
   },
   "outputs": [],
   "source": [
    "H_sym_num, H_sym_denom = fraction(H_sym,s) #returns numerator and denominator"
   ]
  },
  {
   "cell_type": "markdown",
   "id": "b1519af3-0b11-42ca-bcad-9a8de4ea65ca",
   "metadata": {},
   "source": [
    "### Numerator Polynominal\n",
    "The numerator polynominal is:"
   ]
  },
  {
   "cell_type": "code",
   "execution_count": 55,
   "id": "1364e9ed-8cae-4cd8-bda6-43e397758a05",
   "metadata": {},
   "outputs": [
    {
     "data": {
      "text/markdown": [
       "$N(s)=- C_{1} C_{2} C_{3} R_{1} R_{2} R_{3} s^{2} + s \\left(- C_{1} C_{2} R_{1} R_{2} - C_{1} C_{2} R_{2} R_{3}\\right)$"
      ],
      "text/plain": [
       "<IPython.core.display.Markdown object>"
      ]
     },
     "execution_count": 55,
     "metadata": {},
     "output_type": "execute_result"
    }
   ],
   "source": [
    "Markdown('$N(s)={:s}$'.format(latex(H_sym_num)))"
   ]
  },
  {
   "cell_type": "markdown",
   "id": "d7c4130a-894e-4d4a-b75c-e75863f7eceb",
   "metadata": {},
   "source": [
    "The coeficients of each Laplace terms can be equated to the variables $b_2$, $b_1$ and $b_0$ in the expression: \n",
    "\n",
    "$b_2s^{2}+b_1s+b_0$\n",
    "\n",
    "where $b_2$, $b_1$ and $b_0$ are:"
   ]
  },
  {
   "cell_type": "code",
   "execution_count": 56,
   "id": "d1f4a7fe-1d42-436a-a1a1-6d43fc3b48fd",
   "metadata": {},
   "outputs": [
    {
     "data": {
      "text/markdown": [
       "<p>$b_2=- C_{1} C_{2} C_{3} R_{1} R_{2} R_{3}$</p><p>$b_1=- C_{1} C_{2} R_{1} R_{2} - C_{1} C_{2} R_{2} R_{3}$</p><p>$b_0=0$</p>"
      ],
      "text/plain": [
       "<IPython.core.display.Markdown object>"
      ]
     },
     "execution_count": 56,
     "metadata": {},
     "output_type": "execute_result"
    }
   ],
   "source": [
    "b2 = H_sym_num.coeff(s**2)\n",
    "b1 = H_sym_num.coeff(s**1)\n",
    "b0 = H_sym_num - b1*s*1 - b2*s**2\n",
    "\n",
    "Markdown('<p>$b_2={:s}$</p><p>$b_1={:s}$</p><p>$b_0={:s}$</p>'.format(latex(b2),latex(b1),latex(b0)))"
   ]
  },
  {
   "cell_type": "markdown",
   "id": "346247db-a43a-4d12-b1a7-7a9f41fb4214",
   "metadata": {},
   "source": [
    "Notice that ther terms $b_2$ and $b_1$ are negative. This follows from the Op Amp being configured as an inverting amplifier. R2 and R3 provide a DC path from the Op Amp's output to the inverting terminal.\n",
    "\n",
    "The roots of the numerator polynominal can easily be found with SymPy. \n",
    "\n",
    "This filter has two transmission zeros"
   ]
  },
  {
   "cell_type": "code",
   "execution_count": 57,
   "id": "3689d40b-1a8e-4f76-a7e2-6806b688e9c7",
   "metadata": {},
   "outputs": [],
   "source": [
    "num_root_sym = solve(H_sym_num,s)"
   ]
  },
  {
   "cell_type": "code",
   "execution_count": 59,
   "id": "715ed7c0-de39-443a-8171-1ff626727dd1",
   "metadata": {},
   "outputs": [
    {
     "data": {
      "image/png": "[encoded data removed]",
      "text/latex": [
       "$\\displaystyle \\left[ 0, \\  \\frac{- R_{1} - R_{3}}{C_{3} R_{1} R_{3}}\\right]$"
      ],
      "text/plain": [
       "⎡   -R₁ - R₃⎤\n",
       "⎢0, ────────⎥\n",
       "⎣   C₃⋅R₁⋅R₃⎦"
      ]
     },
     "execution_count": 59,
     "metadata": {},
     "output_type": "execute_result"
    }
   ],
   "source": [
    "num_root_sym"
   ]
  },
  {
   "cell_type": "markdown",
   "id": "81e14fb2-0453-48c8-abd4-2d4445cbabd3",
   "metadata": {},
   "source": [
    "There are two solutions, $z_1=0$ and another root at: "
   ]
  },
  {
   "cell_type": "code",
   "execution_count": 58,
   "id": "2a84a5b3-8800-4d33-8f9e-0ee3e5287d0a",
   "metadata": {},
   "outputs": [
    {
     "data": {
      "text/markdown": [
       "$z_2=\\frac{- R_{1} - R_{3}}{C_{3} R_{1} R_{3}}$"
      ],
      "text/plain": [
       "<IPython.core.display.Markdown object>"
      ]
     },
     "execution_count": 58,
     "metadata": {},
     "output_type": "execute_result"
    }
   ],
   "source": [
    "Markdown('$z_2={:s}$'.format(latex(num_root_sym[1])))"
   ]
  },
  {
   "cell_type": "markdown",
   "id": "9a21ae43-d872-4bd3-97b5-fda5f9a18b62",
   "metadata": {},
   "source": [
    "### Denominator Polynominal\n",
    "The demoninator polynominal of the transfer function is called the characteristic polynominal. The roots of the denominator, also called poles of the system,  determine the system's stability. If any of these roots have a positive real part, the system is unstable, meaning its output will grow unbounded. The roots also influence how the system responds to changes in input (the transient response). They affect things like how quickly the system settles to a new state, whether it oscillates, and the damping of those oscillations. Each root of the characteristic polynominal corresponds to a natural mode of the system.\n",
    "\n",
    "The denominator polynominal is:"
   ]
  },
  {
   "cell_type": "code",
   "execution_count": 60,
   "id": "5c4d0499-a911-4f6a-b3aa-16ddf35cee5f",
   "metadata": {},
   "outputs": [
    {
     "data": {
      "text/markdown": [
       "$D(s)=C_{2} R_{1} + C_{2} R_{3} + C_{3} R_{1} + s \\left(C_{1} C_{3} R_{1} R_{2} + C_{2} C_{3} R_{1} R_{2} + C_{2} C_{3} R_{1} R_{3}\\right)$"
      ],
      "text/plain": [
       "<IPython.core.display.Markdown object>"
      ]
     },
     "execution_count": 60,
     "metadata": {},
     "output_type": "execute_result"
    }
   ],
   "source": [
    "Markdown('$D(s)={:s}$'.format(latex(H_sym_denom)))"
   ]
  },
  {
   "cell_type": "markdown",
   "id": "24d7db77-5b68-481d-af7e-b49685b84107",
   "metadata": {},
   "source": [
    "The coeficients of each Laplace terms can be equated to the variables $a_3$, $a_2$, $a_1$ and $a_0$ in the expression: \n",
    "\n",
    "$a_3s^3+a_2s^2+a_1s+a_0$\n",
    "\n",
    "where $a_3$, $a_2$, $a_1$ and $a_0$ are:"
   ]
  },
  {
   "cell_type": "code",
   "execution_count": 61,
   "id": "c97b0662-61b2-47f9-a90b-5170810aaa26",
   "metadata": {},
   "outputs": [
    {
     "data": {
      "text/markdown": [
       "<p>$a_3=0$</p><p>$a_2=0$</p><p>$a_1=C_{1} C_{3} R_{1} R_{2} + C_{2} C_{3} R_{1} R_{2} + C_{2} C_{3} R_{1} R_{3}$</p><p>$a_0=C_{2} R_{1} + C_{2} R_{3} + C_{3} R_{1}$</p>"
      ],
      "text/plain": [
       "<IPython.core.display.Markdown object>"
      ]
     },
     "execution_count": 61,
     "metadata": {},
     "output_type": "execute_result"
    }
   ],
   "source": [
    "a3 = H_sym_denom.coeff(s**3)\n",
    "a2 = H_sym_denom.coeff(s**2)\n",
    "a1 = H_sym_denom.coeff(s**1)\n",
    "a0 = H_sym_denom - a1*s*1 - a2*s**2 - a3*s**3\n",
    "Markdown('<p>$a_3={:s}$</p><p>$a_2={:s}$</p><p>$a_1={:s}$</p><p>$a_0={:s}$</p>'.format(latex(a3), latex(a2),latex(a1),latex(a0)))"
   ]
  },
  {
   "cell_type": "markdown",
   "id": "f19c8d1f-189b-474d-8a33-0f6e09c4af65",
   "metadata": {},
   "source": [
    "The roots of the denominator polynominal can found with SymPy. The filter circuit being analyzed in this report has a denominator polynominal that SymPy can quickly solve. This is not always the case. The expressions are long and do not render well when the JupyterLab notebook is converted to PDF, so the expressions were converted to LaTex strings and then to PNG images with [latex2png](https://latex2png.com/) for this report."
   ]
  },
  {
   "cell_type": "code",
   "execution_count": 62,
   "id": "3cfeaabd-b21b-4edd-a700-648859dc0629",
   "metadata": {},
   "outputs": [],
   "source": [
    "denom_root_sym = solve(H_sym_denom,s)"
   ]
  },
  {
   "cell_type": "code",
   "execution_count": 65,
   "id": "a514d957-b726-41f9-bc08-7bf862a55fa8",
   "metadata": {},
   "outputs": [
    {
     "data": {
      "image/png": "[encoded data removed]",
      "text/latex": [
       "$\\displaystyle \\left[ \\frac{- C_{2} R_{1} - C_{2} R_{3} - C_{3} R_{1}}{C_{3} R_{1} \\left(C_{1} R_{2} + C_{2} R_{2} + C_{2} R_{3}\\right)}\\right]$"
      ],
      "text/plain": [
       "⎡    -C₂⋅R₁ - C₂⋅R₃ - C₃⋅R₁   ⎤\n",
       "⎢─────────────────────────────⎥\n",
       "⎣C₃⋅R₁⋅(C₁⋅R₂ + C₂⋅R₂ + C₂⋅R₃)⎦"
      ]
     },
     "execution_count": 65,
     "metadata": {},
     "output_type": "execute_result"
    }
   ],
   "source": [
    "denom_root_sym"
   ]
  },
  {
   "cell_type": "code",
   "execution_count": 63,
   "id": "0d461691-a88e-433f-a9ec-69412c56771b",
   "metadata": {},
   "outputs": [
    {
     "data": {
      "text/markdown": [
       "$N_r(s)=- C C_{2} R R_{2} s \\left(C R s + 2\\right)$"
      ],
      "text/plain": [
       "<IPython.core.display.Markdown object>"
      ]
     },
     "execution_count": 63,
     "metadata": {},
     "output_type": "execute_result"
    }
   ],
   "source": [
    "C, R = symbols('C R')\n",
    "Markdown('$N_r(s)={:s}$'.format(latex(H_sym_num.subs({R1:R, R3:R, C1:C, C3:C}).collect(s).factor())))"
   ]
  },
  {
   "cell_type": "markdown",
   "id": "863f82fc-8fce-4587-aa3d-dd14ce0cc8b1",
   "metadata": {},
   "source": [
    "In a simular fashon, the denominator polynominal is:"
   ]
  },
  {
   "cell_type": "code",
   "execution_count": 64,
   "id": "4a7e261d-bb1b-4948-96fd-9768f2f60f57",
   "metadata": {
    "tags": []
   },
   "outputs": [
    {
     "data": {
      "text/markdown": [
       "$D_r(s)=R \\left(C^{2} R_{2} s + C C_{2} R s + C C_{2} R_{2} s + C + 2 C_{2}\\right)$"
      ],
      "text/plain": [
       "<IPython.core.display.Markdown object>"
      ]
     },
     "execution_count": 64,
     "metadata": {},
     "output_type": "execute_result"
    }
   ],
   "source": [
    "Markdown('$D_r(s)={:s}$'.format(latex(H_sym_denom.subs({R1:R, R3:R, C1:C, C3:C}).collect(s).factor())))"
   ]
  },
  {
   "cell_type": "markdown",
   "id": "02af3319-c2c0-4b31-b46c-66d0b31d9ade",
   "metadata": {},
   "source": [
    "You can see the $\\left(CRs+1\\right)$ terms will cancel in the numerator and denominator.\n",
    "\n",
    "$\\frac {N_r(s)}{D_r(s)}=\\frac {- s \\left(C R s + 1\\right) \\left(C R + C_{2} R + C_{2} R_{2}\\right)}{\\left(C R s + 1\\right) \\left(C C_{2} R R_{2} s^{2} + C_{2} R s + 1\\right)}=\\frac {- s \\left(C R + C_{2} R + C_{2} R_{2}\\right)}{ \\left(C C_{2} R R_{2} s^{2} + C_{2} R s + 1\\right)}$\n"
   ]
  },
  {
   "cell_type": "code",
   "execution_count": null,
   "id": "89d90e10-5784-473d-9381-ca2038b6ce2e",
   "metadata": {},
   "outputs": [],
   "source": []
  },
  {
   "cell_type": "code",
   "execution_count": null,
   "id": "422932ed-2988-4941-ac3d-4fea15eab1cf",
   "metadata": {},
   "outputs": [],
   "source": []
  },
  {
   "cell_type": "markdown",
   "id": "79d1556e-b34f-465c-949c-c5a3e3002e45",
   "metadata": {},
   "source": [
    "## BR\n",
    "```\n",
    "* C:\\users\\jeff64\\My Documents\\JupyterLab\\Misc ipython notebooks\\Buchla 295 10 Channel Comb Filter\\LTSpice\\BR-Twin-T-Active-Filter.asc\n",
    "R1 3 1 15k\n",
    "R2 4 3 186k\n",
    "R3 2 5 15k\n",
    "C1 5 1 10n\n",
    "C2 4 5 910p\n",
    "C3 2 3 10n\n",
    "XU1 4 0 2 opamp Aol=100K GBW=10Meg\n",
    "V1 1 0 1 AC 1\n",
    "* A Bandpass Twin-T Active Filter Used in the Buchla 200 Electric Music Box Synthesizer\n",
    "* 1000 Hz band\n",
    ".lib opamp.sub\n",
    ".ac dec 1000 100 10k\n",
    "* R3 for each filter is a 20 kΩ potentiometer wired as a variable resistor.\n",
    "* R2 for each filter consists of a fixed resistor in series with a 100 kΩ potentiometer wired as a variable resistor.\n",
    "* The transfer function simplifies conveniently under the special case of R1 = R3 and C1 = C3\n",
    "* .step param Rtone list 1k 2k 5k 10k\n",
    ".backanno\n",
    ".end\n",
    "```"
   ]
  },
  {
   "cell_type": "code",
   "execution_count": 66,
   "id": "fec518b9-b86a-49f8-a569-ecfc2b3d3d5d",
   "metadata": {},
   "outputs": [],
   "source": [
    "example_net_list = '''\n",
    "R1 3 1 1\n",
    "R2 4 3 1\n",
    "R3 2 5 1\n",
    "C1 5 1 1\n",
    "C2 4 5 1\n",
    "C3 2 3 1\n",
    "O1 4 0 2\n",
    "V1 1 0 1\n",
    "'''"
   ]
  },
  {
   "cell_type": "markdown",
   "id": "37528c80-f3e4-42cb-9144-31d311fd9d24",
   "metadata": {},
   "source": [
    "### Generate Network Equations "
   ]
  },
  {
   "cell_type": "code",
   "execution_count": 67,
   "id": "f4103384-1527-43ff-808f-9726ef9f9201",
   "metadata": {},
   "outputs": [],
   "source": [
    "#| echo: true\n",
    "report, network_df, df2, A, X, Z = SymMNA.smna(example_net_list)"
   ]
  },
  {
   "cell_type": "markdown",
   "id": "0473fcaf-8bb9-4de4-8188-0fe988965a9a",
   "metadata": {},
   "source": [
    "Convert the lists of unknown node voltages and currents as well as the list of independednt voltage and current sources into SymPy matrices. "
   ]
  },
  {
   "cell_type": "code",
   "execution_count": 68,
   "id": "463e314d-271f-4e1c-8c83-87fdb7c8034f",
   "metadata": {},
   "outputs": [],
   "source": [
    "X = Matrix(X)\n",
    "Z = Matrix(Z)"
   ]
  },
  {
   "cell_type": "markdown",
   "id": "3e6f7362-dd8d-49af-8cc0-c54996cecf80",
   "metadata": {},
   "source": [
    "Use the SymPy function ```Eq``` to formulate the network equations."
   ]
  },
  {
   "cell_type": "code",
   "execution_count": 69,
   "id": "6f8d9a6b-d363-4975-9e18-3638bcc2a065",
   "metadata": {},
   "outputs": [],
   "source": [
    "NE_sym = Eq(A*X,Z)"
   ]
  },
  {
   "cell_type": "markdown",
   "id": "eb41819c-3790-4b94-96a9-bd69c478d7f8",
   "metadata": {},
   "source": [
    "The equations, ```NE_sym```, define the mathematical relationship between voltages and currents in the filter circuit in terms of node voltages, $v_1$, $v_2$ etc., components $R_1$, $C_1$ etc., the Laplace variable $s$ and the indepenedent voltage source $V_1$. The equations are shown below:"
   ]
  },
  {
   "cell_type": "code",
   "execution_count": 70,
   "id": "f5fac15a-e35f-4a0b-a2ff-48ad58b03209",
   "metadata": {},
   "outputs": [
    {
     "data": {
      "text/markdown": [
       "<p>$- C_{1} s v_{5} + I_{V1} + v_{1} \\left(C_{1} s + \\frac{1}{R_{1}}\\right) - \\frac{v_{3}}{R_{1}} = 0$</p><p>$- C_{3} s v_{3} + I_{O1} + v_{2} \\left(C_{3} s + \\frac{1}{R_{3}}\\right) - \\frac{v_{5}}{R_{3}} = 0$</p><p>$- C_{3} s v_{2} + v_{3} \\left(C_{3} s + \\frac{1}{R_{2}} + \\frac{1}{R_{1}}\\right) - \\frac{v_{4}}{R_{2}} - \\frac{v_{1}}{R_{1}} = 0$</p><p>$- C_{2} s v_{5} + v_{4} \\left(C_{2} s + \\frac{1}{R_{2}}\\right) - \\frac{v_{3}}{R_{2}} = 0$</p><p>$- C_{1} s v_{1} - C_{2} s v_{4} + v_{5} \\left(C_{1} s + C_{2} s + \\frac{1}{R_{3}}\\right) - \\frac{v_{2}}{R_{3}} = 0$</p><p>$v_{1} = V_{1}$</p><p>$v_{4} = 0$</p>"
      ],
      "text/plain": [
       "<IPython.core.display.Markdown object>"
      ]
     },
     "execution_count": 70,
     "metadata": {},
     "output_type": "execute_result"
    }
   ],
   "source": [
    "# Put matrices into SymPy \n",
    "X = Matrix(X)\n",
    "Z = Matrix(Z)\n",
    "\n",
    "NE_sym = Eq(A*X,Z)\n",
    "\n",
    "# display the equations\n",
    "temp = ''\n",
    "for i in range(shape(NE_sym.lhs)[0]):\n",
    "    temp += '<p>${:s} = {:s}$</p>'.format(latex(NE_sym.lhs[i]),\n",
    "        latex(NE_sym.rhs[i]))\n",
    "\n",
    "Markdown(temp)"
   ]
  },
  {
   "cell_type": "markdown",
   "id": "738fe976-90ab-4c4d-b245-586ef612b948",
   "metadata": {},
   "source": [
    "The two lines of Python code below turn the free symbols from the ```NE_sym``` equations into SymPy variables and the element values contained in the netlist are put into a Python dictionary data structure to be used in the numerical solutions later in this report."
   ]
  },
  {
   "cell_type": "code",
   "execution_count": 71,
   "id": "ca007b49-3371-44dd-b8c8-9f2f759ebd22",
   "metadata": {},
   "outputs": [],
   "source": [
    "var(str(NE_sym.free_symbols).replace('{','').replace('}',''))\n",
    "nominal_component_value = SymMNA.get_part_values(network_df)"
   ]
  },
  {
   "cell_type": "markdown",
   "id": "9e5f5e2b-3f0d-42dc-a66f-ad69e341c214",
   "metadata": {},
   "source": [
    "### Solve the Network Equations\n",
    "The SymPy function ```solve``` is used to obtain the node voltages and independent voltage source currents."
   ]
  },
  {
   "cell_type": "code",
   "execution_count": 72,
   "id": "57ef71e4-4a5c-4549-b65b-5895f1078d24",
   "metadata": {},
   "outputs": [],
   "source": [
    "U_sym = solve(NE_sym,X)"
   ]
  },
  {
   "cell_type": "markdown",
   "id": "490bc46b-8303-472b-92db-63c6d071347c",
   "metadata": {},
   "source": [
    "The solution to the network equations are the node voltages expressed in terms of the Laplace variable $s$ are displayed below."
   ]
  },
  {
   "cell_type": "code",
   "execution_count": 73,
   "id": "21dce1bd-b452-49c6-8ecc-56570a3d6255",
   "metadata": {},
   "outputs": [
    {
     "data": {
      "text/markdown": [
       "<p>$v_{1} = V_{1}$</p><p>$v_{2} = \\frac{- C_{1} C_{2} C_{3} R_{1} R_{2} R_{3} V_{1} s^{3} - C_{1} C_{2} R_{1} R_{3} V_{1} s^{2} - C_{1} C_{2} R_{2} R_{3} V_{1} s^{2} - C_{1} R_{3} V_{1} s - C_{2} R_{3} V_{1} s - V_{1}}{C_{1} C_{3} R_{1} R_{3} s^{2} + C_{2} C_{3} R_{1} R_{2} s^{2} + C_{2} C_{3} R_{1} R_{3} s^{2} + C_{2} R_{1} s + C_{2} R_{2} s + C_{3} R_{1} s}$</p><p>$v_{3} = \\frac{- C_{1} C_{2} C_{3} R_{1} R_{2} R_{3} V_{1} s^{2} + C_{2} R_{2} V_{1}}{C_{1} C_{3} R_{1} R_{3} s + C_{2} C_{3} R_{1} R_{2} s + C_{2} C_{3} R_{1} R_{3} s + C_{2} R_{1} + C_{2} R_{2} + C_{3} R_{1}}$</p><p>$v_{4} = 0$</p><p>$v_{5} = \\frac{C_{1} C_{3} R_{1} R_{3} V_{1} s^{2} - V_{1}}{C_{1} C_{3} R_{1} R_{3} s^{2} + C_{2} C_{3} R_{1} R_{2} s^{2} + C_{2} C_{3} R_{1} R_{3} s^{2} + C_{2} R_{1} s + C_{2} R_{2} s + C_{3} R_{1} s}$</p>"
      ],
      "text/plain": [
       "<IPython.core.display.Markdown object>"
      ]
     },
     "execution_count": 73,
     "metadata": {},
     "output_type": "execute_result"
    }
   ],
   "source": [
    "temp = ''\n",
    "for i in U_sym.keys():\n",
    "    if str(i)[0] == 'v': # only display the node voltages\n",
    "        temp += '<p>${:s} = {:s}$</p>'.format(latex(i),latex(U_sym[i]))\n",
    "\n",
    "Markdown(temp)"
   ]
  },
  {
   "cell_type": "markdown",
   "id": "481a4a49-feb2-496c-896e-b97d67e7d52d",
   "metadata": {},
   "source": [
    "### Voltage Transfer Function $H(s)=\\frac {v_2(s)}{v_1(s)}$\n",
    "The voltage transfer function, $H(s)$, for the filter  is generated and displayed by the following code:"
   ]
  },
  {
   "cell_type": "code",
   "execution_count": 74,
   "id": "7675018c-0525-4e65-8b1a-7ec6f38dff9a",
   "metadata": {},
   "outputs": [
    {
     "data": {
      "text/markdown": [
       "$H(s)=\\frac{- C_{1} C_{2} C_{3} R_{1} R_{2} R_{3} s^{3} + s^{2} \\left(- C_{1} C_{2} R_{1} R_{3} - C_{1} C_{2} R_{2} R_{3}\\right) + s \\left(- C_{1} R_{3} - C_{2} R_{3}\\right) - 1}{s^{2} \\left(C_{1} C_{3} R_{1} R_{3} + C_{2} C_{3} R_{1} R_{2} + C_{2} C_{3} R_{1} R_{3}\\right) + s \\left(C_{2} R_{1} + C_{2} R_{2} + C_{3} R_{1}\\right)}$"
      ],
      "text/plain": [
       "<IPython.core.display.Markdown object>"
      ]
     },
     "execution_count": 74,
     "metadata": {},
     "output_type": "execute_result"
    }
   ],
   "source": [
    "H_sym = cancel(U_sym[v2]/U_sym[v1],s)\n",
    "Markdown('$H(s)={:s}$'.format(latex(H_sym)))"
   ]
  },
  {
   "cell_type": "code",
   "execution_count": 75,
   "id": "6f7156de-7650-459b-82e9-4d89144c1861",
   "metadata": {
    "tags": []
   },
   "outputs": [],
   "source": [
    "H_sym_num, H_sym_denom = fraction(H_sym,s) #returns numerator and denominator"
   ]
  },
  {
   "cell_type": "markdown",
   "id": "9890190a-f5a0-4da7-9839-283ea72c103e",
   "metadata": {},
   "source": [
    "### Numerator Polynominal\n",
    "The numerator polynominal is:"
   ]
  },
  {
   "cell_type": "code",
   "execution_count": 76,
   "id": "d19d4ee4-2ee3-463c-bef6-018fcfaf64e4",
   "metadata": {},
   "outputs": [
    {
     "data": {
      "text/markdown": [
       "$N(s)=- C_{1} C_{2} C_{3} R_{1} R_{2} R_{3} s^{3} + s^{2} \\left(- C_{1} C_{2} R_{1} R_{3} - C_{1} C_{2} R_{2} R_{3}\\right) + s \\left(- C_{1} R_{3} - C_{2} R_{3}\\right) - 1$"
      ],
      "text/plain": [
       "<IPython.core.display.Markdown object>"
      ]
     },
     "execution_count": 76,
     "metadata": {},
     "output_type": "execute_result"
    }
   ],
   "source": [
    "Markdown('$N(s)={:s}$'.format(latex(H_sym_num)))"
   ]
  },
  {
   "cell_type": "markdown",
   "id": "ce2c2e9d-802d-4c28-b1db-7b36ec516dd2",
   "metadata": {},
   "source": [
    "The coeficients of each Laplace terms can be equated to the variables $b_2$, $b_1$ and $b_0$ in the expression: \n",
    "\n",
    "$b_2s^{2}+b_1s+b_0$\n",
    "\n",
    "where $b_2$, $b_1$ and $b_0$ are:"
   ]
  },
  {
   "cell_type": "code",
   "execution_count": 77,
   "id": "d05b4d6a-da15-4136-b78f-d8e019cb19c3",
   "metadata": {},
   "outputs": [
    {
     "data": {
      "text/markdown": [
       "<p>$b_2=- C_{1} C_{2} R_{1} R_{3} - C_{1} C_{2} R_{2} R_{3}$</p><p>$b_1=- C_{1} R_{3} - C_{2} R_{3}$</p><p>$b_0=- C_{1} C_{2} C_{3} R_{1} R_{2} R_{3} s^{3} - 1$</p>"
      ],
      "text/plain": [
       "<IPython.core.display.Markdown object>"
      ]
     },
     "execution_count": 77,
     "metadata": {},
     "output_type": "execute_result"
    }
   ],
   "source": [
    "b2 = H_sym_num.coeff(s**2)\n",
    "b1 = H_sym_num.coeff(s**1)\n",
    "b0 = H_sym_num - b1*s*1 - b2*s**2\n",
    "\n",
    "Markdown('<p>$b_2={:s}$</p><p>$b_1={:s}$</p><p>$b_0={:s}$</p>'.format(latex(b2),latex(b1),latex(b0)))"
   ]
  },
  {
   "cell_type": "markdown",
   "id": "eb20364d-c3d1-45c8-a5f7-5ef3a2c22236",
   "metadata": {},
   "source": [
    "Notice that ther terms $b_2$ and $b_1$ are negative. This follows from the Op Amp being configured as an inverting amplifier. R2 and R3 provide a DC path from the Op Amp's output to the inverting terminal.\n",
    "\n",
    "The roots of the numerator polynominal can easily be found with SymPy. \n",
    "\n",
    "This filter has two transmission zeros"
   ]
  },
  {
   "cell_type": "code",
   "execution_count": 78,
   "id": "326a0f56-f61a-4c29-8cde-b9caa5757002",
   "metadata": {},
   "outputs": [],
   "source": [
    "num_root_sym = solve(H_sym_num,s)"
   ]
  },
  {
   "cell_type": "code",
   "execution_count": 79,
   "id": "f38219a6-60ad-441d-9edf-95a47e0882a7",
   "metadata": {},
   "outputs": [
    {
     "data": {
      "image/png": "[encoded data removed]",
      "text/latex": [
       "$\\displaystyle \\left[ - \\frac{\\frac{\\left(R_{1} + R_{2}\\right)^{2}}{C_{3}^{2} R_{1}^{2} R_{2}^{2}} - \\frac{3 \\left(C_{1} + C_{2}\\right)}{C_{1} C_{2} C_{3} R_{1} R_{2}}}{3 \\sqrt[3]{\\frac{\\sqrt{- 4 \\left(\\frac{\\left(R_{1} + R_{2}\\right)^{2}}{C_{3}^{2} R_{1}^{2} R_{2}^{2}} - \\frac{3 \\left(C_{1} + C_{2}\\right)}{C_{1} C_{2} C_{3} R_{1} R_{2}}\\right)^{3} + \\left(\\frac{2 \\left(R_{1} + R_{2}\\right)^{3}}{C_{3}^{3} R_{1}^{3} R_{2}^{3}} + \\frac{27}{C_{1} C_{2} C_{3} R_{1} R_{2} R_{3}} - \\frac{9 \\left(C_{1} + C_{2}\\right) \\left(R_{1} + R_{2}\\right)}{C_{1} C_{2} C_{3}^{2} R_{1}^{2} R_{2}^{2}}\\right)^{2}}}{2} + \\frac{\\left(R_{1} + R_{2}\\right)^{3}}{C_{3}^{3} R_{1}^{3} R_{2}^{3}} + \\frac{27}{2 C_{1} C_{2} C_{3} R_{1} R_{2} R_{3}} - \\frac{9 \\left(C_{1} + C_{2}\\right) \\left(R_{1} + R_{2}\\right)}{2 C_{1} C_{2} C_{3}^{2} R_{1}^{2} R_{2}^{2}}}} - \\frac{\\sqrt[3]{\\frac{\\sqrt{- 4 \\left(\\frac{\\left(R_{1} + R_{2}\\right)^{2}}{C_{3}^{2} R_{1}^{2} R_{2}^{2}} - \\frac{3 \\left(C_{1} + C_{2}\\right)}{C_{1} C_{2} C_{3} R_{1} R_{2}}\\right)^{3} + \\left(\\frac{2 \\left(R_{1} + R_{2}\\right)^{3}}{C_{3}^{3} R_{1}^{3} R_{2}^{3}} + \\frac{27}{C_{1} C_{2} C_{3} R_{1} R_{2} R_{3}} - \\frac{9 \\left(C_{1} + C_{2}\\right) \\left(R_{1} + R_{2}\\right)}{C_{1} C_{2} C_{3}^{2} R_{1}^{2} R_{2}^{2}}\\right)^{2}}}{2} + \\frac{\\left(R_{1} + R_{2}\\right)^{3}}{C_{3}^{3} R_{1}^{3} R_{2}^{3}} + \\frac{27}{2 C_{1} C_{2} C_{3} R_{1} R_{2} R_{3}} - \\frac{9 \\left(C_{1} + C_{2}\\right) \\left(R_{1} + R_{2}\\right)}{2 C_{1} C_{2} C_{3}^{2} R_{1}^{2} R_{2}^{2}}}}{3} - \\frac{R_{1} + R_{2}}{3 C_{3} R_{1} R_{2}}, \\  - \\frac{\\frac{\\left(R_{1} + R_{2}\\right)^{2}}{C_{3}^{2} R_{1}^{2} R_{2}^{2}} - \\frac{3 \\left(C_{1} + C_{2}\\right)}{C_{1} C_{2} C_{3} R_{1} R_{2}}}{3 \\left(- \\frac{1}{2} - \\frac{\\sqrt{3} i}{2}\\right) \\sqrt[3]{\\frac{\\sqrt{- 4 \\left(\\frac{\\left(R_{1} + R_{2}\\right)^{2}}{C_{3}^{2} R_{1}^{2} R_{2}^{2}} - \\frac{3 \\left(C_{1} + C_{2}\\right)}{C_{1} C_{2} C_{3} R_{1} R_{2}}\\right)^{3} + \\left(\\frac{2 \\left(R_{1} + R_{2}\\right)^{3}}{C_{3}^{3} R_{1}^{3} R_{2}^{3}} + \\frac{27}{C_{1} C_{2} C_{3} R_{1} R_{2} R_{3}} - \\frac{9 \\left(C_{1} + C_{2}\\right) \\left(R_{1} + R_{2}\\right)}{C_{1} C_{2} C_{3}^{2} R_{1}^{2} R_{2}^{2}}\\right)^{2}}}{2} + \\frac{\\left(R_{1} + R_{2}\\right)^{3}}{C_{3}^{3} R_{1}^{3} R_{2}^{3}} + \\frac{27}{2 C_{1} C_{2} C_{3} R_{1} R_{2} R_{3}} - \\frac{9 \\left(C_{1} + C_{2}\\right) \\left(R_{1} + R_{2}\\right)}{2 C_{1} C_{2} C_{3}^{2} R_{1}^{2} R_{2}^{2}}}} - \\frac{\\left(- \\frac{1}{2} - \\frac{\\sqrt{3} i}{2}\\right) \\sqrt[3]{\\frac{\\sqrt{- 4 \\left(\\frac{\\left(R_{1} + R_{2}\\right)^{2}}{C_{3}^{2} R_{1}^{2} R_{2}^{2}} - \\frac{3 \\left(C_{1} + C_{2}\\right)}{C_{1} C_{2} C_{3} R_{1} R_{2}}\\right)^{3} + \\left(\\frac{2 \\left(R_{1} + R_{2}\\right)^{3}}{C_{3}^{3} R_{1}^{3} R_{2}^{3}} + \\frac{27}{C_{1} C_{2} C_{3} R_{1} R_{2} R_{3}} - \\frac{9 \\left(C_{1} + C_{2}\\right) \\left(R_{1} + R_{2}\\right)}{C_{1} C_{2} C_{3}^{2} R_{1}^{2} R_{2}^{2}}\\right)^{2}}}{2} + \\frac{\\left(R_{1} + R_{2}\\right)^{3}}{C_{3}^{3} R_{1}^{3} R_{2}^{3}} + \\frac{27}{2 C_{1} C_{2} C_{3} R_{1} R_{2} R_{3}} - \\frac{9 \\left(C_{1} + C_{2}\\right) \\left(R_{1} + R_{2}\\right)}{2 C_{1} C_{2} C_{3}^{2} R_{1}^{2} R_{2}^{2}}}}{3} - \\frac{R_{1} + R_{2}}{3 C_{3} R_{1} R_{2}}, \\  - \\frac{\\frac{\\left(R_{1} + R_{2}\\right)^{2}}{C_{3}^{2} R_{1}^{2} R_{2}^{2}} - \\frac{3 \\left(C_{1} + C_{2}\\right)}{C_{1} C_{2} C_{3} R_{1} R_{2}}}{3 \\left(- \\frac{1}{2} + \\frac{\\sqrt{3} i}{2}\\right) \\sqrt[3]{\\frac{\\sqrt{- 4 \\left(\\frac{\\left(R_{1} + R_{2}\\right)^{2}}{C_{3}^{2} R_{1}^{2} R_{2}^{2}} - \\frac{3 \\left(C_{1} + C_{2}\\right)}{C_{1} C_{2} C_{3} R_{1} R_{2}}\\right)^{3} + \\left(\\frac{2 \\left(R_{1} + R_{2}\\right)^{3}}{C_{3}^{3} R_{1}^{3} R_{2}^{3}} + \\frac{27}{C_{1} C_{2} C_{3} R_{1} R_{2} R_{3}} - \\frac{9 \\left(C_{1} + C_{2}\\right) \\left(R_{1} + R_{2}\\right)}{C_{1} C_{2} C_{3}^{2} R_{1}^{2} R_{2}^{2}}\\right)^{2}}}{2} + \\frac{\\left(R_{1} + R_{2}\\right)^{3}}{C_{3}^{3} R_{1}^{3} R_{2}^{3}} + \\frac{27}{2 C_{1} C_{2} C_{3} R_{1} R_{2} R_{3}} - \\frac{9 \\left(C_{1} + C_{2}\\right) \\left(R_{1} + R_{2}\\right)}{2 C_{1} C_{2} C_{3}^{2} R_{1}^{2} R_{2}^{2}}}} - \\frac{\\left(- \\frac{1}{2} + \\frac{\\sqrt{3} i}{2}\\right) \\sqrt[3]{\\frac{\\sqrt{- 4 \\left(\\frac{\\left(R_{1} + R_{2}\\right)^{2}}{C_{3}^{2} R_{1}^{2} R_{2}^{2}} - \\frac{3 \\left(C_{1} + C_{2}\\right)}{C_{1} C_{2} C_{3} R_{1} R_{2}}\\right)^{3} + \\left(\\frac{2 \\left(R_{1} + R_{2}\\right)^{3}}{C_{3}^{3} R_{1}^{3} R_{2}^{3}} + \\frac{27}{C_{1} C_{2} C_{3} R_{1} R_{2} R_{3}} - \\frac{9 \\left(C_{1} + C_{2}\\right) \\left(R_{1} + R_{2}\\right)}{C_{1} C_{2} C_{3}^{2} R_{1}^{2} R_{2}^{2}}\\right)^{2}}}{2} + \\frac{\\left(R_{1} + R_{2}\\right)^{3}}{C_{3}^{3} R_{1}^{3} R_{2}^{3}} + \\frac{27}{2 C_{1} C_{2} C_{3} R_{1} R_{2} R_{3}} - \\frac{9 \\left(C_{1} + C_{2}\\right) \\left(R_{1} + R_{2}\\right)}{2 C_{1} C_{2} C_{3}^{2} R_{1}^{2} R_{2}^{2}}}}{3} - \\frac{R_{1} + R_{2}}{3 C_{3} R_{1} R_{2}}\\right]$"
      ],
      "text/plain": [
       "⎡                                                                             \n",
       "⎢                                                                             \n",
       "⎢                                                                             \n",
       "⎢                                                                             \n",
       "⎢                                                                             \n",
       "⎢                                                                             \n",
       "⎢                                                                             \n",
       "⎢                                                                             \n",
       "⎢                                                                             \n",
       "⎢                                                                             \n",
       "⎢                                                                             \n",
       "⎢- ───────────────────────────────────────────────────────────────────────────\n",
       "⎢               ______________________________________________________________\n",
       "⎢              ╱        ______________________________________________________\n",
       "⎢             ╱        ╱                                   3                  \n",
       "⎢            ╱        ╱      ⎛          2                 ⎞    ⎛           3  \n",
       "⎢           ╱        ╱       ⎜ (R₁ + R₂)     3⋅(C₁ + C₂)  ⎟    ⎜2⋅(R₁ + R₂)   \n",
       "⎢          ╱        ╱    - 4⋅⎜─────────── - ──────────────⎟  + ⎜──────────── +\n",
       "⎢         ╱        ╱         ⎜  2   2   2   C₁⋅C₂⋅C₃⋅R₁⋅R₂⎟    ⎜  3   3   3   \n",
       "⎢        ╱       ╲╱          ⎝C₃ ⋅R₁ ⋅R₂                  ⎠    ⎝C₃ ⋅R₁ ⋅R₂    \n",
       "⎢  3⋅   ╱        ─────────────────────────────────────────────────────────────\n",
       "⎢    3 ╱                                                             2        \n",
       "⎣    ╲╱                                                                       \n",
       "\n",
       "                                                                              \n",
       "                                                                              \n",
       "                                                                              \n",
       "                                                                              \n",
       "                                                                              \n",
       "                                                                              \n",
       "            2                                                                 \n",
       "   (R₁ + R₂)     3⋅(C₁ + C₂)                                                  \n",
       "  ─────────── - ──────────────                                                \n",
       "    2   2   2   C₁⋅C₂⋅C₃⋅R₁⋅R₂                                                \n",
       "  C₃ ⋅R₁ ⋅R₂                                                                  \n",
       "──────────────────────────────────────────────────────────────────────────────\n",
       "______________________________________________________________________________\n",
       "_____________________________________________                                 \n",
       "                                           2                                  \n",
       "                                          ⎞                                   \n",
       "         27          9⋅(C₁ + C₂)⋅(R₁ + R₂)⎟                                   \n",
       " ───────────────── - ─────────────────────⎟                                   \n",
       " C₁⋅C₂⋅C₃⋅R₁⋅R₂⋅R₃             2   2   2  ⎟               3                   \n",
       "                       C₁⋅C₂⋅C₃ ⋅R₁ ⋅R₂   ⎠      (R₁ + R₂)             27     \n",
       "───────────────────────────────────────────── + ─────────── + ────────────────\n",
       "                                                  3   3   3   2⋅C₁⋅C₂⋅C₃⋅R₁⋅R₂\n",
       "                                                C₃ ⋅R₁ ⋅R₂                    \n",
       "\n",
       "                                          ____________________________________\n",
       "                                         ╱        ____________________________\n",
       "                                        ╱        ╱                            \n",
       "                                       ╱        ╱      ⎛          2           \n",
       "                                      ╱        ╱       ⎜ (R₁ + R₂)     3⋅(C₁ +\n",
       "                                     ╱        ╱    - 4⋅⎜─────────── - ────────\n",
       "                                    ╱        ╱         ⎜  2   2   2   C₁⋅C₂⋅C₃\n",
       "                                   ╱       ╲╱          ⎝C₃ ⋅R₁ ⋅R₂            \n",
       "                                  ╱        ───────────────────────────────────\n",
       "                               3 ╱                                            \n",
       "                               ╲╱                                             \n",
       "──────────────────────────── - ───────────────────────────────────────────────\n",
       "____________________________                                                  \n",
       "                                                                              \n",
       "                                                                              \n",
       "                                                                              \n",
       "                                                                              \n",
       "                                                                              \n",
       "                                                                              \n",
       "      9⋅(C₁ + C₂)⋅(R₁ + R₂)                                                   \n",
       "─── - ─────────────────────                                                   \n",
       "⋅R₃              2   2   2                                                    \n",
       "       2⋅C₁⋅C₂⋅C₃ ⋅R₁ ⋅R₂                                                     \n",
       "\n",
       "______________________________________________________________________________\n",
       "_______________________________________________________________________       \n",
       "       3                                                             2        \n",
       "      ⎞    ⎛           3                                            ⎞         \n",
       " C₂)  ⎟    ⎜2⋅(R₁ + R₂)            27          9⋅(C₁ + C₂)⋅(R₁ + R₂)⎟         \n",
       "──────⎟  + ⎜──────────── + ───────────────── - ─────────────────────⎟         \n",
       "⋅R₁⋅R₂⎟    ⎜  3   3   3    C₁⋅C₂⋅C₃⋅R₁⋅R₂⋅R₃             2   2   2  ⎟         \n",
       "      ⎠    ⎝C₃ ⋅R₁ ⋅R₂                           C₁⋅C₂⋅C₃ ⋅R₁ ⋅R₂   ⎠      (R₁\n",
       "─────────────────────────────────────────────────────────────────────── + ────\n",
       "                 2                                                          3 \n",
       "                                                                          C₃ ⋅\n",
       "──────────────────────────────────────────────────────────────────────────────\n",
       "                                          3                                   \n",
       "                                                                              \n",
       "                                                                              \n",
       "                                                                              \n",
       "                                                                              \n",
       "                                                                              \n",
       "                                                                              \n",
       "                                                                              \n",
       "                                                                              \n",
       "                                                                              \n",
       "                                                                              \n",
       "\n",
       "______________________________________________________                        \n",
       "                                                                              \n",
       "                                                                              \n",
       "                                                                              \n",
       "                                                                              \n",
       "                                                                              \n",
       "      3                                                                       \n",
       " + R₂)             27           9⋅(C₁ + C₂)⋅(R₁ + R₂)                         \n",
       "─────── + ─────────────────── - ─────────────────────                         \n",
       "  3   3   2⋅C₁⋅C₂⋅C₃⋅R₁⋅R₂⋅R₃              2   2   2                          \n",
       "R₁ ⋅R₂                           2⋅C₁⋅C₂⋅C₃ ⋅R₁ ⋅R₂       R₁ + R₂             \n",
       "────────────────────────────────────────────────────── - ──────────, - ───────\n",
       "                                                         3⋅C₃⋅R₁⋅R₂           \n",
       "                                                                              \n",
       "                                                                              \n",
       "                                                                              \n",
       "                                                                              \n",
       "                                                                              \n",
       "                                                                              \n",
       "                                                                         ⎛  1 \n",
       "                                                                       3⋅⎜- ─ \n",
       "                                                                         ⎝  2 \n",
       "                                                                              \n",
       "\n",
       "                                                                              \n",
       "                                                                              \n",
       "                                                                              \n",
       "                                                                              \n",
       "                                                                              \n",
       "                                                                              \n",
       "                                                                              \n",
       "                                                                             (\n",
       "                                                                            ──\n",
       "                                                                              \n",
       "                                                                            C₃\n",
       "──────────────────────────────────────────────────────────────────────────────\n",
       "                   ___________________________________________________________\n",
       "                  ╱        ___________________________________________________\n",
       "                 ╱        ╱                                   3               \n",
       "                ╱        ╱      ⎛          2                 ⎞    ⎛           \n",
       "               ╱        ╱       ⎜ (R₁ + R₂)     3⋅(C₁ + C₂)  ⎟    ⎜2⋅(R₁ + R₂)\n",
       "              ╱        ╱    - 4⋅⎜─────────── - ──────────────⎟  + ⎜───────────\n",
       "             ╱        ╱         ⎜  2   2   2   C₁⋅C₂⋅C₃⋅R₁⋅R₂⎟    ⎜  3   3   3\n",
       "  √3⋅ⅈ⎞     ╱       ╲╱          ⎝C₃ ⋅R₁ ⋅R₂                  ⎠    ⎝C₃ ⋅R₁ ⋅R₂ \n",
       "- ────⎟⋅   ╱        ──────────────────────────────────────────────────────────\n",
       "   2  ⎠ 3 ╱                                                             2     \n",
       "        ╲╱                                                                    \n",
       "\n",
       "                                                                              \n",
       "                                                                              \n",
       "                                                                              \n",
       "                                                                              \n",
       "                                                                              \n",
       "                                                                              \n",
       "        2                                                                     \n",
       "R₁ + R₂)     3⋅(C₁ + C₂)                                                      \n",
       "───────── - ──────────────                                                    \n",
       "2   2   2   C₁⋅C₂⋅C₃⋅R₁⋅R₂                                                    \n",
       " ⋅R₁ ⋅R₂                                                                      \n",
       "──────────────────────────────────────────────────────────────────────────────\n",
       "______________________________________________________________________________\n",
       "________________________________________________                              \n",
       "                                              2                               \n",
       "3                                            ⎞                                \n",
       "            27          9⋅(C₁ + C₂)⋅(R₁ + R₂)⎟                                \n",
       "─ + ───────────────── - ─────────────────────⎟                                \n",
       "    C₁⋅C₂⋅C₃⋅R₁⋅R₂⋅R₃             2   2   2  ⎟               3                \n",
       "                          C₁⋅C₂⋅C₃ ⋅R₁ ⋅R₂   ⎠      (R₁ + R₂)             27  \n",
       "──────────────────────────────────────────────── + ─────────── + ─────────────\n",
       "                                                     3   3   3   2⋅C₁⋅C₂⋅C₃⋅R₁\n",
       "                                                   C₃ ⋅R₁ ⋅R₂                 \n",
       "\n",
       "                                                          ____________________\n",
       "                                                         ╱        ____________\n",
       "                                                        ╱        ╱            \n",
       "                                                       ╱        ╱      ⎛      \n",
       "                                                      ╱        ╱       ⎜ (R₁ +\n",
       "                                                     ╱        ╱    - 4⋅⎜──────\n",
       "                                                    ╱        ╱         ⎜  2   \n",
       "                                  ⎛  1   √3⋅ⅈ⎞     ╱       ╲╱          ⎝C₃ ⋅R₁\n",
       "                                  ⎜- ─ - ────⎟⋅   ╱        ───────────────────\n",
       "                                  ⎝  2    2  ⎠ 3 ╱                            \n",
       "                                               ╲╱                             \n",
       "─────────────────────────────── - ────────────────────────────────────────────\n",
       "_______________________________                                               \n",
       "                                                                              \n",
       "                                                                              \n",
       "                                                                              \n",
       "                                                                              \n",
       "                                                                              \n",
       "                                                                              \n",
       "         9⋅(C₁ + C₂)⋅(R₁ + R₂)                                                \n",
       "────── - ─────────────────────                                                \n",
       "⋅R₂⋅R₃              2   2   2                                                 \n",
       "          2⋅C₁⋅C₂⋅C₃ ⋅R₁ ⋅R₂                                                  \n",
       "\n",
       "______________________________________________________________________________\n",
       "______________________________________________________________________________\n",
       "                       3                                                      \n",
       "    2                 ⎞    ⎛           3                                      \n",
       " R₂)     3⋅(C₁ + C₂)  ⎟    ⎜2⋅(R₁ + R₂)            27          9⋅(C₁ + C₂)⋅(R₁\n",
       "───── - ──────────────⎟  + ⎜──────────── + ───────────────── - ───────────────\n",
       "2   2   C₁⋅C₂⋅C₃⋅R₁⋅R₂⎟    ⎜  3   3   3    C₁⋅C₂⋅C₃⋅R₁⋅R₂⋅R₃             2   2\n",
       " ⋅R₂                  ⎠    ⎝C₃ ⋅R₁ ⋅R₂                           C₁⋅C₂⋅C₃ ⋅R₁ \n",
       "──────────────────────────────────────────────────────────────────────────────\n",
       "                                 2                                            \n",
       "                                                                              \n",
       "──────────────────────────────────────────────────────────────────────────────\n",
       "                                                   3                          \n",
       "                                                                              \n",
       "                                                                              \n",
       "                                                                              \n",
       "                                                                              \n",
       "                                                                              \n",
       "                                                                              \n",
       "                                                                              \n",
       "                                                                              \n",
       "                                                                              \n",
       "                                                                              \n",
       "\n",
       "______________________________________________________________________        \n",
       "_________                                                                     \n",
       "       2                                                                      \n",
       "      ⎞                                                                       \n",
       " + R₂)⎟                                                                       \n",
       "──────⎟                                                                       \n",
       "   2  ⎟               3                                                       \n",
       "⋅R₂   ⎠      (R₁ + R₂)             27           9⋅(C₁ + C₂)⋅(R₁ + R₂)         \n",
       "───────── + ─────────── + ─────────────────── - ─────────────────────         \n",
       "              3   3   3   2⋅C₁⋅C₂⋅C₃⋅R₁⋅R₂⋅R₃              2   2   2          \n",
       "            C₃ ⋅R₁ ⋅R₂                           2⋅C₁⋅C₂⋅C₃ ⋅R₁ ⋅R₂       R₁ +\n",
       "────────────────────────────────────────────────────────────────────── - ─────\n",
       "                                                                         3⋅C₃⋅\n",
       "                                                                              \n",
       "                                                                              \n",
       "                                                                              \n",
       "                                                                              \n",
       "                                                                              \n",
       "                                                                              \n",
       "                                                                              \n",
       "                                                                              \n",
       "                                                                              \n",
       "                                                                              \n",
       "\n",
       "                                                                              \n",
       "                                                                              \n",
       "                                                                              \n",
       "                                                                              \n",
       "                                                                              \n",
       "                                                                              \n",
       "                                                                              \n",
       "                                                                              \n",
       "                                                                              \n",
       "                                                                              \n",
       " R₂                                                                           \n",
       "─────, - ─────────────────────────────────────────────────────────────────────\n",
       "R₁⋅R₂                              ___________________________________________\n",
       "                                  ╱        ___________________________________\n",
       "                                 ╱        ╱                                   \n",
       "                                ╱        ╱      ⎛          2                 ⎞\n",
       "                               ╱        ╱       ⎜ (R₁ + R₂)     3⋅(C₁ + C₂)  ⎟\n",
       "                              ╱        ╱    - 4⋅⎜─────────── - ──────────────⎟\n",
       "                             ╱        ╱         ⎜  2   2   2   C₁⋅C₂⋅C₃⋅R₁⋅R₂⎟\n",
       "           ⎛  1   √3⋅ⅈ⎞     ╱       ╲╱          ⎝C₃ ⋅R₁ ⋅R₂                  ⎠\n",
       "         3⋅⎜- ─ + ────⎟⋅   ╱        ──────────────────────────────────────────\n",
       "           ⎝  2    2  ⎠ 3 ╱                                                   \n",
       "                        ╲╱                                                    \n",
       "\n",
       "                                                                              \n",
       "                                                                              \n",
       "                                                                              \n",
       "                                                                              \n",
       "                                                                              \n",
       "                                                                              \n",
       "                        2                                                     \n",
       "               (R₁ + R₂)     3⋅(C₁ + C₂)                                      \n",
       "              ─────────── - ──────────────                                    \n",
       "                2   2   2   C₁⋅C₂⋅C₃⋅R₁⋅R₂                                    \n",
       "              C₃ ⋅R₁ ⋅R₂                                                      \n",
       "──────────────────────────────────────────────────────────────────────────────\n",
       "______________________________________________________________________________\n",
       "________________________________________________________________              \n",
       "3                                                             2               \n",
       "    ⎛           3                                            ⎞                \n",
       "    ⎜2⋅(R₁ + R₂)            27          9⋅(C₁ + C₂)⋅(R₁ + R₂)⎟                \n",
       "  + ⎜──────────── + ───────────────── - ─────────────────────⎟                \n",
       "    ⎜  3   3   3    C₁⋅C₂⋅C₃⋅R₁⋅R₂⋅R₃             2   2   2  ⎟               3\n",
       "    ⎝C₃ ⋅R₁ ⋅R₂                           C₁⋅C₂⋅C₃ ⋅R₁ ⋅R₂   ⎠      (R₁ + R₂) \n",
       "──────────────────────────────────────────────────────────────── + ───────────\n",
       "          2                                                          3   3   3\n",
       "                                                                   C₃ ⋅R₁ ⋅R₂ \n",
       "\n",
       "                                                                          ____\n",
       "                                                                         ╱    \n",
       "                                                                        ╱     \n",
       "                                                                       ╱      \n",
       "                                                                      ╱       \n",
       "                                                                     ╱        \n",
       "                                                                    ╱        ╱\n",
       "                                                  ⎛  1   √3⋅ⅈ⎞     ╱       ╲╱ \n",
       "                                                  ⎜- ─ + ────⎟⋅   ╱        ───\n",
       "                                                  ⎝  2    2  ⎠ 3 ╱            \n",
       "                                                               ╲╱             \n",
       "─────────────────────────────────────────────── - ────────────────────────────\n",
       "_______________________________________________                               \n",
       "                                                                              \n",
       "                                                                              \n",
       "                                                                              \n",
       "                                                                              \n",
       "                                                                              \n",
       "                                                                              \n",
       "            27           9⋅(C₁ + C₂)⋅(R₁ + R₂)                                \n",
       " + ─────────────────── - ─────────────────────                                \n",
       "   2⋅C₁⋅C₂⋅C₃⋅R₁⋅R₂⋅R₃              2   2   2                                 \n",
       "                          2⋅C₁⋅C₂⋅C₃ ⋅R₁ ⋅R₂                                  \n",
       "\n",
       "______________________________________________________________________________\n",
       "    __________________________________________________________________________\n",
       "   ╱                                   3                                      \n",
       "  ╱      ⎛          2                 ⎞    ⎛           3                      \n",
       " ╱       ⎜ (R₁ + R₂)     3⋅(C₁ + C₂)  ⎟    ⎜2⋅(R₁ + R₂)            27         \n",
       "╱    - 4⋅⎜─────────── - ──────────────⎟  + ⎜──────────── + ───────────────── -\n",
       "         ⎜  2   2   2   C₁⋅C₂⋅C₃⋅R₁⋅R₂⎟    ⎜  3   3   3    C₁⋅C₂⋅C₃⋅R₁⋅R₂⋅R₃  \n",
       "         ⎝C₃ ⋅R₁ ⋅R₂                  ⎠    ⎝C₃ ⋅R₁ ⋅R₂                        \n",
       "──────────────────────────────────────────────────────────────────────────────\n",
       "                                                 2                            \n",
       "                                                                              \n",
       "──────────────────────────────────────────────────────────────────────────────\n",
       "                                                                   3          \n",
       "                                                                              \n",
       "                                                                              \n",
       "                                                                              \n",
       "                                                                              \n",
       "                                                                              \n",
       "                                                                              \n",
       "                                                                              \n",
       "                                                                              \n",
       "                                                                              \n",
       "                                                                              \n",
       "\n",
       "______________________________________________________________________________\n",
       "_________________________                                                     \n",
       "                       2                                                      \n",
       "                      ⎞                                                       \n",
       " 9⋅(C₁ + C₂)⋅(R₁ + R₂)⎟                                                       \n",
       " ─────────────────────⎟                                                       \n",
       "           2   2   2  ⎟               3                                       \n",
       "   C₁⋅C₂⋅C₃ ⋅R₁ ⋅R₂   ⎠      (R₁ + R₂)             27           9⋅(C₁ + C₂)⋅(R\n",
       "───────────────────────── + ─────────── + ─────────────────── - ──────────────\n",
       "                              3   3   3   2⋅C₁⋅C₂⋅C₃⋅R₁⋅R₂⋅R₃              2  \n",
       "                            C₃ ⋅R₁ ⋅R₂                           2⋅C₁⋅C₂⋅C₃ ⋅R\n",
       "──────────────────────────────────────────────────────────────────────────────\n",
       "                                                                              \n",
       "                                                                              \n",
       "                                                                              \n",
       "                                                                              \n",
       "                                                                              \n",
       "                                                                              \n",
       "                                                                              \n",
       "                                                                              \n",
       "                                                                              \n",
       "                                                                              \n",
       "                                                                              \n",
       "\n",
       "________             ⎤\n",
       "                     ⎥\n",
       "                     ⎥\n",
       "                     ⎥\n",
       "                     ⎥\n",
       "                     ⎥\n",
       "                     ⎥\n",
       "₁ + R₂)              ⎥\n",
       "───────              ⎥\n",
       " 2   2               ⎥\n",
       "₁ ⋅R₂       R₁ + R₂  ⎥\n",
       "──────── - ──────────⎥\n",
       "           3⋅C₃⋅R₁⋅R₂⎥\n",
       "                     ⎥\n",
       "                     ⎥\n",
       "                     ⎥\n",
       "                     ⎥\n",
       "                     ⎥\n",
       "                     ⎥\n",
       "                     ⎥\n",
       "                     ⎥\n",
       "                     ⎥\n",
       "                     ⎦"
      ]
     },
     "execution_count": 79,
     "metadata": {},
     "output_type": "execute_result"
    }
   ],
   "source": [
    "num_root_sym"
   ]
  },
  {
   "cell_type": "markdown",
   "id": "26cf62b8-e222-4a75-becd-161b71b604fc",
   "metadata": {},
   "source": [
    "### Denominator Polynominal\n",
    "The demoninator polynominal of the transfer function is called the characteristic polynominal. The roots of the denominator, also called poles of the system,  determine the system's stability. If any of these roots have a positive real part, the system is unstable, meaning its output will grow unbounded. The roots also influence how the system responds to changes in input (the transient response). They affect things like how quickly the system settles to a new state, whether it oscillates, and the damping of those oscillations. Each root of the characteristic polynominal corresponds to a natural mode of the system.\n",
    "\n",
    "The denominator polynominal is:"
   ]
  },
  {
   "cell_type": "code",
   "execution_count": 80,
   "id": "412502f8-5f7a-4f19-a03f-4b5e21491804",
   "metadata": {},
   "outputs": [
    {
     "data": {
      "text/markdown": [
       "$D(s)=s^{2} \\left(C_{1} C_{3} R_{1} R_{3} + C_{2} C_{3} R_{1} R_{2} + C_{2} C_{3} R_{1} R_{3}\\right) + s \\left(C_{2} R_{1} + C_{2} R_{2} + C_{3} R_{1}\\right)$"
      ],
      "text/plain": [
       "<IPython.core.display.Markdown object>"
      ]
     },
     "execution_count": 80,
     "metadata": {},
     "output_type": "execute_result"
    }
   ],
   "source": [
    "Markdown('$D(s)={:s}$'.format(latex(H_sym_denom)))"
   ]
  },
  {
   "cell_type": "markdown",
   "id": "031c361c-a674-463f-be0d-a20ce60ca12f",
   "metadata": {},
   "source": [
    "The coeficients of each Laplace terms can be equated to the variables $a_3$, $a_2$, $a_1$ and $a_0$ in the expression: \n",
    "\n",
    "$a_3s^3+a_2s^2+a_1s+a_0$\n",
    "\n",
    "where $a_3$, $a_2$, $a_1$ and $a_0$ are:"
   ]
  },
  {
   "cell_type": "code",
   "execution_count": 81,
   "id": "9cf0bb39-680f-442b-b155-8dbca38a1328",
   "metadata": {},
   "outputs": [
    {
     "data": {
      "text/markdown": [
       "<p>$a_3=0$</p><p>$a_2=C_{1} C_{3} R_{1} R_{3} + C_{2} C_{3} R_{1} R_{2} + C_{2} C_{3} R_{1} R_{3}$</p><p>$a_1=C_{2} R_{1} + C_{2} R_{2} + C_{3} R_{1}$</p><p>$a_0=0$</p>"
      ],
      "text/plain": [
       "<IPython.core.display.Markdown object>"
      ]
     },
     "execution_count": 81,
     "metadata": {},
     "output_type": "execute_result"
    }
   ],
   "source": [
    "a3 = H_sym_denom.coeff(s**3)\n",
    "a2 = H_sym_denom.coeff(s**2)\n",
    "a1 = H_sym_denom.coeff(s**1)\n",
    "a0 = H_sym_denom - a1*s*1 - a2*s**2 - a3*s**3\n",
    "Markdown('<p>$a_3={:s}$</p><p>$a_2={:s}$</p><p>$a_1={:s}$</p><p>$a_0={:s}$</p>'.format(latex(a3), latex(a2),latex(a1),latex(a0)))"
   ]
  },
  {
   "cell_type": "markdown",
   "id": "ef45bf86-f0bf-4227-ba67-630ff3dce02f",
   "metadata": {},
   "source": [
    "The roots of the denominator polynominal can found with SymPy. The filter circuit being analyzed in this report has a denominator polynominal that SymPy can quickly solve. This is not always the case. The expressions are long and do not render well when the JupyterLab notebook is converted to PDF, so the expressions were converted to LaTex strings and then to PNG images with [latex2png](https://latex2png.com/) for this report."
   ]
  },
  {
   "cell_type": "code",
   "execution_count": 82,
   "id": "3e2cc1d6-f5d9-4cb3-a5aa-cefc7cc5ac25",
   "metadata": {},
   "outputs": [],
   "source": [
    "denom_root_sym = solve(H_sym_denom,s)"
   ]
  },
  {
   "cell_type": "code",
   "execution_count": 83,
   "id": "c95d1b76-0ef4-478d-892b-5a82d3ff6fda",
   "metadata": {},
   "outputs": [
    {
     "data": {
      "image/png": "[encoded data removed]",
      "text/latex": [
       "$\\displaystyle \\left[ 0, \\  \\frac{- C_{2} R_{1} - C_{2} R_{2} - C_{3} R_{1}}{C_{3} R_{1} \\left(C_{1} R_{3} + C_{2} R_{2} + C_{2} R_{3}\\right)}\\right]$"
      ],
      "text/plain": [
       "⎡       -C₂⋅R₁ - C₂⋅R₂ - C₃⋅R₁   ⎤\n",
       "⎢0, ─────────────────────────────⎥\n",
       "⎣   C₃⋅R₁⋅(C₁⋅R₃ + C₂⋅R₂ + C₂⋅R₃)⎦"
      ]
     },
     "execution_count": 83,
     "metadata": {},
     "output_type": "execute_result"
    }
   ],
   "source": [
    "denom_root_sym"
   ]
  },
  {
   "cell_type": "code",
   "execution_count": 84,
   "id": "9a1aad4e-6d44-4452-944b-f072e6f01529",
   "metadata": {},
   "outputs": [
    {
     "data": {
      "text/markdown": [
       "$N_r(s)=- \\left(C R s + 1\\right) \\left(C C_{2} R R_{2} s^{2} + C_{2} R s + 1\\right)$"
      ],
      "text/plain": [
       "<IPython.core.display.Markdown object>"
      ]
     },
     "execution_count": 84,
     "metadata": {},
     "output_type": "execute_result"
    }
   ],
   "source": [
    "C, R = symbols('C R')\n",
    "Markdown('$N_r(s)={:s}$'.format(latex(H_sym_num.subs({R1:R, R3:R, C1:C, C3:C}).collect(s).factor())))"
   ]
  },
  {
   "cell_type": "markdown",
   "id": "efe8fc96-5dae-4488-8e28-a62c980f8cd8",
   "metadata": {},
   "source": [
    "In a simular fashon, the denominator polynominal is:"
   ]
  },
  {
   "cell_type": "code",
   "execution_count": 85,
   "id": "4002b784-9cf1-486d-a050-25fae5edf270",
   "metadata": {
    "tags": []
   },
   "outputs": [
    {
     "data": {
      "text/markdown": [
       "$D_r(s)=s \\left(C R s + 1\\right) \\left(C R + C_{2} R + C_{2} R_{2}\\right)$"
      ],
      "text/plain": [
       "<IPython.core.display.Markdown object>"
      ]
     },
     "execution_count": 85,
     "metadata": {},
     "output_type": "execute_result"
    }
   ],
   "source": [
    "Markdown('$D_r(s)={:s}$'.format(latex(H_sym_denom.subs({R1:R, R3:R, C1:C, C3:C}).collect(s).factor())))"
   ]
  },
  {
   "cell_type": "markdown",
   "id": "324e3b57-e666-4055-979f-1a435f052a0d",
   "metadata": {},
   "source": [
    "You can see the $\\left(CRs+1\\right)$ terms will cancel in the numerator and denominator.\n",
    "\n",
    "$\\frac {N_r(s)}{D_r(s)}=\\frac {- s \\left(C R s + 1\\right) \\left(C R + C_{2} R + C_{2} R_{2}\\right)}{\\left(C R s + 1\\right) \\left(C C_{2} R R_{2} s^{2} + C_{2} R s + 1\\right)}=\\frac {- s \\left(C R + C_{2} R + C_{2} R_{2}\\right)}{ \\left(C C_{2} R R_{2} s^{2} + C_{2} R s + 1\\right)}$\n"
   ]
  },
  {
   "cell_type": "code",
   "execution_count": null,
   "id": "7358be2d-5aa3-4131-a3be-12fd475510dd",
   "metadata": {},
   "outputs": [],
   "source": []
  },
  {
   "cell_type": "code",
   "execution_count": null,
   "id": "faac034a-6baa-44c6-90f3-85f80550e532",
   "metadata": {},
   "outputs": [],
   "source": []
  },
  {
   "cell_type": "code",
   "execution_count": null,
   "id": "1f04ed2d-d803-412a-bafa-2b164d07e501",
   "metadata": {},
   "outputs": [],
   "source": []
  },
  {
   "cell_type": "code",
   "execution_count": null,
   "id": "318649aa-f544-4e45-9a2f-f891f2c8e734",
   "metadata": {},
   "outputs": [],
   "source": []
  },
  {
   "cell_type": "markdown",
   "id": "0507f382-0eab-4aa4-ad97-3c92901b687c",
   "metadata": {},
   "source": [
    "# BPF"
   ]
  },
  {
   "cell_type": "code",
   "execution_count": 2,
   "id": "20b1c635-11f5-47a7-8c14-6b43763e7c4f",
   "metadata": {},
   "outputs": [],
   "source": [
    "example_net_list = '''\n",
    "* Bandpass-Twin-T-Active-Filter.asc\n",
    "R1 3 1 15e3\n",
    "R2 4 5 186e3\n",
    "R3 2 5 15e3\n",
    "C1 5 1 10e-9\n",
    "C2 4 3 910e-12\n",
    "C3 2 3 10e-9\n",
    "O1 4 0 2\n",
    "V1 1 0 1\n",
    "'''"
   ]
  },
  {
   "cell_type": "markdown",
   "id": "5643b32e-52d1-49f8-9753-901bae286410",
   "metadata": {},
   "source": [
    "### Generate Network Equations "
   ]
  },
  {
   "cell_type": "code",
   "execution_count": 3,
   "id": "3388497d-92eb-4066-8e70-5a751fa83618",
   "metadata": {},
   "outputs": [],
   "source": [
    "#| echo: true\n",
    "report, network_df, df2, A, X, Z = SymMNA.smna(example_net_list)"
   ]
  },
  {
   "cell_type": "markdown",
   "id": "dd0d10d0-1e8d-458b-aaab-70776a33ec8d",
   "metadata": {},
   "source": [
    "Convert the lists of unknown node voltages and currents as well as the list of independednt voltage and current sources into SymPy matrices. "
   ]
  },
  {
   "cell_type": "code",
   "execution_count": 4,
   "id": "33230287-4bf9-4eeb-b467-6db3acef1f82",
   "metadata": {},
   "outputs": [],
   "source": [
    "X = Matrix(X)\n",
    "Z = Matrix(Z)"
   ]
  },
  {
   "cell_type": "markdown",
   "id": "928fe5ed-f150-4a6f-a218-e07e0ce76bd0",
   "metadata": {},
   "source": [
    "Use the SymPy function ```Eq``` to formulate the network equations."
   ]
  },
  {
   "cell_type": "code",
   "execution_count": 5,
   "id": "ca484bbb-0abb-4cc0-8e8c-b39afe2d4e8f",
   "metadata": {},
   "outputs": [],
   "source": [
    "NE_sym = Eq(A*X,Z)"
   ]
  },
  {
   "cell_type": "markdown",
   "id": "1499baa1-32e6-4643-aa91-a18cdb3d5f42",
   "metadata": {},
   "source": [
    "The equations, ```NE_sym```, define the mathematical relationship between voltages and currents in the filter circuit in terms of node voltages, $v_1$, $v_2$ etc., components $R_1$, $C_1$ etc., the Laplace variable $s$ and the indepenedent voltage source $V_1$. The equations are shown below:"
   ]
  },
  {
   "cell_type": "code",
   "execution_count": 6,
   "id": "3bc29c88-ffc9-499f-868c-e389e9e51024",
   "metadata": {},
   "outputs": [
    {
     "data": {
      "text/markdown": [
       "<p>$- C_{1} s v_{5} + I_{V1} + v_{1} \\left(C_{1} s + \\frac{1}{R_{1}}\\right) - \\frac{v_{3}}{R_{1}} = 0$</p><p>$- C_{3} s v_{3} + I_{O1} + v_{2} \\left(C_{3} s + \\frac{1}{R_{3}}\\right) - \\frac{v_{5}}{R_{3}} = 0$</p><p>$- C_{2} s v_{4} - C_{3} s v_{2} + v_{3} \\left(C_{2} s + C_{3} s + \\frac{1}{R_{1}}\\right) - \\frac{v_{1}}{R_{1}} = 0$</p><p>$- C_{2} s v_{3} + v_{4} \\left(C_{2} s + \\frac{1}{R_{2}}\\right) - \\frac{v_{5}}{R_{2}} = 0$</p><p>$- C_{1} s v_{1} + v_{5} \\left(C_{1} s + \\frac{1}{R_{3}} + \\frac{1}{R_{2}}\\right) - \\frac{v_{2}}{R_{3}} - \\frac{v_{4}}{R_{2}} = 0$</p><p>$v_{1} = V_{1}$</p><p>$v_{4} = 0$</p>"
      ],
      "text/plain": [
       "<IPython.core.display.Markdown object>"
      ]
     },
     "execution_count": 6,
     "metadata": {},
     "output_type": "execute_result"
    }
   ],
   "source": [
    "# Put matrices into SymPy \n",
    "X = Matrix(X)\n",
    "Z = Matrix(Z)\n",
    "\n",
    "NE_sym = Eq(A*X,Z)\n",
    "\n",
    "# display the equations\n",
    "temp = ''\n",
    "for i in range(shape(NE_sym.lhs)[0]):\n",
    "    temp += '<p>${:s} = {:s}$</p>'.format(latex(NE_sym.lhs[i]),\n",
    "        latex(NE_sym.rhs[i]))\n",
    "\n",
    "Markdown(temp)"
   ]
  },
  {
   "cell_type": "markdown",
   "id": "649b6e11-6ab3-4872-8558-2186beafd551",
   "metadata": {},
   "source": [
    "The two lines of Python code below turn the free symbols from the ```NE_sym``` equations into SymPy variables and the element values contained in the netlist are put into a Python dictionary data structure to be used in the numerical solutions later in this report."
   ]
  },
  {
   "cell_type": "code",
   "execution_count": 7,
   "id": "de498d10-4703-42e7-99c0-da2e50993c36",
   "metadata": {},
   "outputs": [],
   "source": [
    "var(str(NE_sym.free_symbols).replace('{','').replace('}',''))\n",
    "nominal_component_value = SymMNA.get_part_values(network_df)"
   ]
  },
  {
   "cell_type": "markdown",
   "id": "bd74796c-60d2-4483-b53c-95d0acb82dde",
   "metadata": {},
   "source": [
    "### Solve the Network Equations\n",
    "The SymPy function ```solve``` is used to obtain the node voltages and independent voltage source currents."
   ]
  },
  {
   "cell_type": "code",
   "execution_count": 8,
   "id": "68ee4820-5787-4074-882b-17c18cb8b13d",
   "metadata": {},
   "outputs": [],
   "source": [
    "U_sym = solve(NE_sym,X)"
   ]
  },
  {
   "cell_type": "markdown",
   "id": "49738baa-36a4-4d56-9d6c-8850e1069717",
   "metadata": {},
   "source": [
    "The solution to the network equations are the node voltages expressed in terms of the Laplace variable $s$ are displayed below."
   ]
  },
  {
   "cell_type": "code",
   "execution_count": 9,
   "id": "9fde7bc4-d05a-4af4-86c8-e544dfd4c7e1",
   "metadata": {},
   "outputs": [
    {
     "data": {
      "text/markdown": [
       "<p>$v_{1} = V_{1}$</p><p>$v_{2} = \\frac{- C_{1} C_{2} R_{1} R_{3} V_{1} s^{2} - C_{1} C_{2} R_{2} R_{3} V_{1} s^{2} - C_{1} C_{3} R_{1} R_{3} V_{1} s^{2} - C_{1} R_{3} V_{1} s - C_{2} R_{2} V_{1} s - C_{2} R_{3} V_{1} s}{C_{1} C_{2} C_{3} R_{1} R_{2} R_{3} s^{3} + C_{2} C_{3} R_{1} R_{2} s^{2} + C_{2} C_{3} R_{1} R_{3} s^{2} + C_{2} R_{1} s + C_{3} R_{1} s + 1}$</p><p>$v_{3} = \\frac{- C_{1} C_{3} R_{1} R_{3} V_{1} s^{2} + V_{1}}{C_{1} C_{2} C_{3} R_{1} R_{2} R_{3} s^{3} + C_{2} C_{3} R_{1} R_{2} s^{2} + C_{2} C_{3} R_{1} R_{3} s^{2} + C_{2} R_{1} s + C_{3} R_{1} s + 1}$</p><p>$v_{4} = 0$</p><p>$v_{5} = \\frac{C_{1} C_{2} C_{3} R_{1} R_{2} R_{3} V_{1} s^{3} - C_{2} R_{2} V_{1} s}{C_{1} C_{2} C_{3} R_{1} R_{2} R_{3} s^{3} + C_{2} C_{3} R_{1} R_{2} s^{2} + C_{2} C_{3} R_{1} R_{3} s^{2} + C_{2} R_{1} s + C_{3} R_{1} s + 1}$</p>"
      ],
      "text/plain": [
       "<IPython.core.display.Markdown object>"
      ]
     },
     "execution_count": 9,
     "metadata": {},
     "output_type": "execute_result"
    }
   ],
   "source": [
    "temp = ''\n",
    "for i in U_sym.keys():\n",
    "    if str(i)[0] == 'v': # only display the node voltages\n",
    "        temp += '<p>${:s} = {:s}$</p>'.format(latex(i),latex(U_sym[i]))\n",
    "\n",
    "Markdown(temp)"
   ]
  },
  {
   "cell_type": "markdown",
   "id": "5ef83f7f-58c4-418b-b311-fbfb45259303",
   "metadata": {},
   "source": [
    "### Voltage Transfer Function $H(s)=\\frac {v_2(s)}{v_1(s)}$\n",
    "The voltage transfer function, $H(s)$, for the filter  is generated and displayed by the following code:"
   ]
  },
  {
   "cell_type": "code",
   "execution_count": 10,
   "id": "1cdb2a6d-9ca6-4fe2-93ad-23cbe1492b2c",
   "metadata": {},
   "outputs": [
    {
     "data": {
      "text/markdown": [
       "$H(s)=\\frac{s^{2} \\left(- C_{1} C_{2} R_{1} R_{3} - C_{1} C_{2} R_{2} R_{3} - C_{1} C_{3} R_{1} R_{3}\\right) + s \\left(- C_{1} R_{3} - C_{2} R_{2} - C_{2} R_{3}\\right)}{C_{1} C_{2} C_{3} R_{1} R_{2} R_{3} s^{3} + s^{2} \\left(C_{2} C_{3} R_{1} R_{2} + C_{2} C_{3} R_{1} R_{3}\\right) + s \\left(C_{2} R_{1} + C_{3} R_{1}\\right) + 1}$"
      ],
      "text/plain": [
       "<IPython.core.display.Markdown object>"
      ]
     },
     "execution_count": 10,
     "metadata": {},
     "output_type": "execute_result"
    }
   ],
   "source": [
    "H_sym = cancel(U_sym[v2]/U_sym[v1],s)\n",
    "Markdown('$H(s)={:s}$'.format(latex(H_sym)))"
   ]
  },
  {
   "cell_type": "code",
   "execution_count": 13,
   "id": "276d6849-e8f0-43c6-949a-87e0f15eb7df",
   "metadata": {
    "tags": []
   },
   "outputs": [],
   "source": [
    "H_sym_num, H_sym_denom = fraction(H_sym,s) #returns numerator and denominator"
   ]
  },
  {
   "cell_type": "markdown",
   "id": "5222901a-ae28-49bd-8169-736d27c55053",
   "metadata": {},
   "source": [
    "### Numerator Polynominal\n",
    "The numerator polynominal is:"
   ]
  },
  {
   "cell_type": "code",
   "execution_count": 14,
   "id": "625fae12-2ad0-4876-980d-b76ffa0c3315",
   "metadata": {},
   "outputs": [
    {
     "data": {
      "text/markdown": [
       "$N(s)=s^{2} \\left(- C_{1} C_{2} R_{1} R_{3} - C_{1} C_{2} R_{2} R_{3} - C_{1} C_{3} R_{1} R_{3}\\right) + s \\left(- C_{1} R_{3} - C_{2} R_{2} - C_{2} R_{3}\\right)$"
      ],
      "text/plain": [
       "<IPython.core.display.Markdown object>"
      ]
     },
     "execution_count": 14,
     "metadata": {},
     "output_type": "execute_result"
    }
   ],
   "source": [
    "Markdown('$N(s)={:s}$'.format(latex(H_sym_num)))"
   ]
  },
  {
   "cell_type": "markdown",
   "id": "a2d76a28-1ee5-46ff-9c7d-684d028c853f",
   "metadata": {},
   "source": [
    "The coeficients of each Laplace terms can be equated to the variables $b_2$, $b_1$ and $b_0$ in the expression: \n",
    "\n",
    "$b_2s^{2}+b_1s+b_0$\n",
    "\n",
    "where $b_2$, $b_1$ and $b_0$ are:"
   ]
  },
  {
   "cell_type": "code",
   "execution_count": 15,
   "id": "c45f8160-4c5a-47de-9a47-889cb6f49a72",
   "metadata": {},
   "outputs": [
    {
     "data": {
      "text/markdown": [
       "<p>$b_2=- C_{1} C_{2} R_{1} R_{3} - C_{1} C_{2} R_{2} R_{3} - C_{1} C_{3} R_{1} R_{3}$</p><p>$b_1=- C_{1} R_{3} - C_{2} R_{2} - C_{2} R_{3}$</p><p>$b_0=0$</p>"
      ],
      "text/plain": [
       "<IPython.core.display.Markdown object>"
      ]
     },
     "execution_count": 15,
     "metadata": {},
     "output_type": "execute_result"
    }
   ],
   "source": [
    "b2 = H_sym_num.coeff(s**2)\n",
    "b1 = H_sym_num.coeff(s**1)\n",
    "b0 = H_sym_num - b1*s*1 - b2*s**2\n",
    "\n",
    "Markdown('<p>$b_2={:s}$</p><p>$b_1={:s}$</p><p>$b_0={:s}$</p>'.format(latex(b2),latex(b1),latex(b0)))"
   ]
  },
  {
   "cell_type": "markdown",
   "id": "da038b9a-dd00-46e2-a50e-f46c9af34dfe",
   "metadata": {},
   "source": [
    "Notice that ther terms $b_2$ and $b_1$ are negative. This follows from the Op Amp being configured as an inverting amplifier. R2 and R3 provide a DC path from the Op Amp's output to the inverting terminal.\n",
    "\n",
    "The roots of the numerator polynominal can easily be found with SymPy. \n",
    "\n",
    "This filter has two transmission zeros"
   ]
  },
  {
   "cell_type": "code",
   "execution_count": 16,
   "id": "ddc5d7ad-6622-4731-be00-a775baefce5f",
   "metadata": {},
   "outputs": [],
   "source": [
    "num_root_sym = solve(H_sym_num,s)"
   ]
  },
  {
   "cell_type": "markdown",
   "id": "c3d60a0e-cdd9-4505-8513-d59032eb7a8b",
   "metadata": {},
   "source": [
    "There are two solutions, $z_1=0$ and another root at: "
   ]
  },
  {
   "cell_type": "code",
   "execution_count": 17,
   "id": "3a897357-ceeb-4c22-be2d-3b1283a39e6f",
   "metadata": {},
   "outputs": [
    {
     "data": {
      "text/markdown": [
       "$z_2=\\frac{- C_{1} R_{3} - C_{2} R_{2} - C_{2} R_{3}}{C_{1} R_{3} \\left(C_{2} R_{1} + C_{2} R_{2} + C_{3} R_{1}\\right)}$"
      ],
      "text/plain": [
       "<IPython.core.display.Markdown object>"
      ]
     },
     "execution_count": 17,
     "metadata": {},
     "output_type": "execute_result"
    }
   ],
   "source": [
    "Markdown('$z_2={:s}$'.format(latex(num_root_sym[1])))"
   ]
  },
  {
   "cell_type": "markdown",
   "id": "dcf6b650-bd02-4263-a38d-89def9c0a159",
   "metadata": {},
   "source": [
    "### Denominator Polynominal\n",
    "The demoninator polynominal of the transfer function is called the characteristic polynominal. The roots of the denominator, also called poles of the system,  determine the system's stability. If any of these roots have a positive real part, the system is unstable, meaning its output will grow unbounded. The roots also influence how the system responds to changes in input (the transient response). They affect things like how quickly the system settles to a new state, whether it oscillates, and the damping of those oscillations. Each root of the characteristic polynominal corresponds to a natural mode of the system.\n",
    "\n",
    "The denominator polynominal is:"
   ]
  },
  {
   "cell_type": "code",
   "execution_count": 18,
   "id": "99bac1ee-2ee0-4e12-acb7-24caf0d97fed",
   "metadata": {},
   "outputs": [
    {
     "data": {
      "text/markdown": [
       "$D(s)=C_{1} C_{2} C_{3} R_{1} R_{2} R_{3} s^{3} + s^{2} \\left(C_{2} C_{3} R_{1} R_{2} + C_{2} C_{3} R_{1} R_{3}\\right) + s \\left(C_{2} R_{1} + C_{3} R_{1}\\right) + 1$"
      ],
      "text/plain": [
       "<IPython.core.display.Markdown object>"
      ]
     },
     "execution_count": 18,
     "metadata": {},
     "output_type": "execute_result"
    }
   ],
   "source": [
    "Markdown('$D(s)={:s}$'.format(latex(H_sym_denom)))"
   ]
  },
  {
   "cell_type": "markdown",
   "id": "acfefd47-8dce-41e0-a828-af5eff6d3d7a",
   "metadata": {},
   "source": [
    "The coeficients of each Laplace terms can be equated to the variables $a_3$, $a_2$, $a_1$ and $a_0$ in the expression: \n",
    "\n",
    "$a_3s^3+a_2s^2+a_1s+a_0$\n",
    "\n",
    "where $a_3$, $a_2$, $a_1$ and $a_0$ are:"
   ]
  },
  {
   "cell_type": "code",
   "execution_count": 19,
   "id": "ca5e10c1-0291-4919-8768-f9fd86ae1091",
   "metadata": {},
   "outputs": [
    {
     "data": {
      "text/markdown": [
       "<p>$a_3=C_{1} C_{2} C_{3} R_{1} R_{2} R_{3}$</p><p>$a_2=C_{2} C_{3} R_{1} R_{2} + C_{2} C_{3} R_{1} R_{3}$</p><p>$a_1=C_{2} R_{1} + C_{3} R_{1}$</p><p>$a_0=1$</p>"
      ],
      "text/plain": [
       "<IPython.core.display.Markdown object>"
      ]
     },
     "execution_count": 19,
     "metadata": {},
     "output_type": "execute_result"
    }
   ],
   "source": [
    "a3 = H_sym_denom.coeff(s**3)\n",
    "a2 = H_sym_denom.coeff(s**2)\n",
    "a1 = H_sym_denom.coeff(s**1)\n",
    "a0 = H_sym_denom - a1*s*1 - a2*s**2 - a3*s**3\n",
    "Markdown('<p>$a_3={:s}$</p><p>$a_2={:s}$</p><p>$a_1={:s}$</p><p>$a_0={:s}$</p>'.format(latex(a3), latex(a2),latex(a1),latex(a0)))"
   ]
  },
  {
   "cell_type": "markdown",
   "id": "315b6ce5-ab05-4315-bd81-a8973c325942",
   "metadata": {},
   "source": [
    "The roots of the denominator polynominal can found with SymPy. The filter circuit being analyzed in this report has a denominator polynominal that SymPy can quickly solve. This is not always the case. The expressions are long and do not render well when the JupyterLab notebook is converted to PDF, so the expressions were converted to LaTex strings and then to PNG images with [latex2png](https://latex2png.com/) for this report."
   ]
  },
  {
   "cell_type": "code",
   "execution_count": 20,
   "id": "33ed6992-cfb7-4467-a23c-dbc52a9cf4cd",
   "metadata": {},
   "outputs": [],
   "source": [
    "denom_root_sym = solve(H_sym_denom,s)"
   ]
  },
  {
   "cell_type": "code",
   "execution_count": 21,
   "id": "2c76e298-f82c-4170-a42a-70b7c2fd5831",
   "metadata": {},
   "outputs": [
    {
     "data": {
      "text/markdown": [
       "$N_r(s)=- s \\left(C R s + 1\\right) \\left(C R + C_{2} R + C_{2} R_{2}\\right)$"
      ],
      "text/plain": [
       "<IPython.core.display.Markdown object>"
      ]
     },
     "execution_count": 21,
     "metadata": {},
     "output_type": "execute_result"
    }
   ],
   "source": [
    "C, R = symbols('C R')\n",
    "Markdown('$N_r(s)={:s}$'.format(latex(H_sym_num.subs({R1:R, R3:R, C1:C, C3:C}).collect(s).factor())))"
   ]
  },
  {
   "cell_type": "markdown",
   "id": "8db4135e-cc4b-41c3-95f1-a9a929fe7e1d",
   "metadata": {},
   "source": [
    "In a simular fashon, the denominator polynominal is:"
   ]
  },
  {
   "cell_type": "code",
   "execution_count": 22,
   "id": "b1e42981-ab63-4d5b-bde2-80b3f8890b9d",
   "metadata": {
    "tags": []
   },
   "outputs": [
    {
     "data": {
      "text/markdown": [
       "$D_r(s)=\\left(C R s + 1\\right) \\left(C C_{2} R R_{2} s^{2} + C_{2} R s + 1\\right)$"
      ],
      "text/plain": [
       "<IPython.core.display.Markdown object>"
      ]
     },
     "execution_count": 22,
     "metadata": {},
     "output_type": "execute_result"
    }
   ],
   "source": [
    "Markdown('$D_r(s)={:s}$'.format(latex(H_sym_denom.subs({R1:R, R3:R, C1:C, C3:C}).collect(s).factor())))"
   ]
  },
  {
   "cell_type": "markdown",
   "id": "629d77cc-3f1a-4903-a8e3-93ac977cbfdd",
   "metadata": {},
   "source": [
    "You can see the $\\left(CRs+1\\right)$ terms will cancel in the numerator and denominator.\n",
    "\n",
    "$\\frac {N_r(s)}{D_r(s)}=\\frac {- s \\left(C R s + 1\\right) \\left(C R + C_{2} R + C_{2} R_{2}\\right)}{\\left(C R s + 1\\right) \\left(C C_{2} R R_{2} s^{2} + C_{2} R s + 1\\right)}=\\frac {- s \\left(C R + C_{2} R + C_{2} R_{2}\\right)}{ \\left(C C_{2} R R_{2} s^{2} + C_{2} R s + 1\\right)}$\n"
   ]
  },
  {
   "cell_type": "code",
   "execution_count": null,
   "id": "6617fbbb-e527-484b-a72c-d2459e1294f3",
   "metadata": {},
   "outputs": [],
   "source": []
  },
  {
   "cell_type": "code",
   "execution_count": null,
   "id": "d8955ff7-81f6-4653-b666-f0b4bfdbf346",
   "metadata": {},
   "outputs": [],
   "source": []
  },
  {
   "cell_type": "code",
   "execution_count": null,
   "id": "acdcf7a3-0ab6-4ca4-9afe-294123c78826",
   "metadata": {},
   "outputs": [],
   "source": []
  }
 ],
 "metadata": {
  "kernelspec": {
   "display_name": "Python 3 (ipykernel)",
   "language": "python",
   "name": "python3"
  },
  "language_info": {
   "codemirror_mode": {
    "name": "ipython",
    "version": 3
   },
   "file_extension": ".py",
   "mimetype": "text/x-python",
   "name": "python",
   "nbconvert_exporter": "python",
   "pygments_lexer": "ipython3",
   "version": "3.10.9"
  }
 },
 "nbformat": 4,
 "nbformat_minor": 5
}
