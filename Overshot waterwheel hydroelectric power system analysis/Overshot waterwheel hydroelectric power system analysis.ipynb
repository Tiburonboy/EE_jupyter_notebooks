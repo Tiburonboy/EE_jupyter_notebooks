{
 "cells": [
  {
   "cell_type": "markdown",
   "metadata": {},
   "source": [
    "# Overshot waterwheel hydroelectric power system analysis\n",
    "Last update: 10 July 2022\n",
    "\n",
    "## Introduction\n",
    "This notebook examines the construction of a small hydroelectric system built by Michael Loftis [1], a YouTuber, real estate and insurance broker, who had a hydro system built for his off-grid cabin. The cabin and hydro system are unique and look really interesting. The cabin is available for rent as an AirBnB [1] and is located in Thornfield, Missouri. The cabin is now advetrised as having some solar pannels with a gas powered generator to suppliment the solar.\n",
    "\n",
    "Micheal's hydroelectric project looked really interestring and I was courious about the technical details. So in videos [6,7], which I watched first, where he discusses the status of the system, I was disapointed to hear that his system wasn't working, because at first glance it looked very impressive. I descided to learn a little about small hydroelectric systems and document in this notebook what I've learned.\n",
    "\n",
    "## Scope\n",
    "- numbers taken from the videos are estimates.\n",
    "- talk about assumptions    \n",
    "- The analysis presented in this notebook is  ......  \n",
    "- limitations  \n",
    "- what will not be covered, what is included.  \n",
    "- approximations.  \n",
    "\n",
    "## Description\n",
    "The small dam, [waterwheel](https://en.wikipedia.org/wiki/Water_wheel) and generator didn’t charge Michael's house battery system. He posted a series of seven videos describing the effort [2, 3, 4, 5, 6, 7, 8]. The videos cover the time frame from July 2020 to April 2021. His waterwheel was constructed using wheels from an old hay rake, which belonged to his grandmother. The dam captured water from a spring on his property and he tried to generate enough electrical power to keep his five 50Ah, 24 volt [Lithium batteries](https://battlebornbatteries.com/product/cyber-monday-50ah-24v-battery/) charged. In video [7] he described his gas powered generator, a [PREDATOR 3500](https://go.harborfreight.com/sku/56720/), which he runs in the morning and evening to keep his batteries charged, since the hydro is not working.\n",
    "\n",
    "<img src=\"dam_and_wheel_side_view_scaled.png\" width=\"750\">  \n",
    "The photo above was captured from [8] and shows a side view of the dam and waterwheel. The waterwheel is operated in an overshot configuration where the wheel is rotated by water entering buckets just past the top of the wheel. Yuo can also see the flume, which brings water from the pond to the top of the waterwheel. In this photo, the gate to the flume is closed and the hydro system is not being operated.\n",
    "\n",
    "<img src=\"water_wheel_scaled.png\" width=\"750\">  \n",
    "The photo above from [7] shows the end of the flume and the waterwheel with a large amount of splash over. Also you can see the pully system which when connected, steps up the rotations per minute to the generator. As described in video [6], the hydro system is not working as he had hoped. \n",
    "\n",
    "Michael said the flow rate from the spring during the rainy season was 500 to 1000 gpm and 300 gpm at other times [2]. In one of his videos [3] he filled a five gallon bucket in what he said was in one second, but by my estimation was closer to two seconds. This would put the flow rate at 150 gpm, but there was some spillage and the total flow wasn't captured since he was doing this with one hand while videoing. Over the course of his videos, it appears that the flow rate is seasonal. The dam is about 4 feet tall [8] and the waterwheel has a diameter of what looks like 7 feet [5]. His generator is a 2kW perminate magnet generator, from [Missouri Wind and Solar](https://windandsolar.com/freedom-ii-hydro-pmg-permanent-magnet-generator/) and produces 24V at 500 rpm. In [5] he said the gear ratio was 8:1, but this was increased since two belts were shown to have been installed in subsequent videos. During a time of heavy water flow from the spring, he showed [6] the display on the [Midnite Classic 200](https://www.midnitesolar.com/productPhoto.php?product_ID=257&productCatName=Wind%20and%20Hydro&productCat_ID=25&sortOrder=1&act=p) which indicated 40V at the house and 33 W of power from the hydro system. The power cable run to the house is 220 ft from the waterwheel. \n",
    "\n",
    "My main criticisms of his hydro system are that the dam was not built to any standards and a feasibility study was not done. Most of the work and design was performed by Jerry, his builder, a very skilled craftsman. However, I don't think Jerry has sufficient technical training to design a small concrete dam. A basic waterwheel is conceptionaly simple and a workable wheel can be constructed by almost anyone who has basic tools and capentry skills. The design of the waterwheel was constrained by the size of the antique wheels that Jerry suggested could be used as a frame for the waterwheel [5]. Micheal consulted with various vendors about the generator and battery system but didn't realize that just buying recommended items from a shopping list is not a good way to engineer a hydroelectric project. A basic feasibility study would have shown (see calculations below) that about 1 kWhr per day of energy could be generated by the waterwheel, an inadaquated amount for his needs. Given the construction costs of the dam and waterwheel, his effort ended up being an expesive experiment. He now has a system that is capable of powering a few low wattage LED lights.\n",
    "\n",
    "Michael responded to many comments posted on YouTube concerning his project. He deflected all concerns about the design and construction of the dam, saying that he has complete confidence and faith in Jerry. By this point in the video series, the dam was built and holding water, so there was not a lot that could be done to address the comments about the dam, even if he was concerned, which he didn't seem to be. He was genually interested in seeking suggestions about what could be done with the electrical system, but major changes to the waterwheel itself or outright replacement were off the table. The old wheels have sentimentatal value to him and he likes the asetics of the dam and waterwheel as they are now.\n",
    "\n",
    "---\n",
    "## Abstract\n",
    "the above followed by:  \n",
    "\n",
    "## Analysis\n",
    "A Jupyter notebook with the python code was used to document the analysis. To view the notebook, click here to open the notebook nbviewer (nbviewer does not execute notebooks, it only renders the inputs and outputs). The notebook source is located on github, click here to follow the link to the repository.\n",
    "\n",
    "## Summary\n",
    "\n",
    "## Recomendations\n",
    "\n",
    "## Conclusion\n",
    "\n",
    "## References\n",
    "\n",
    "---\n",
    "\n",
    "wheel construction 8 inch bucket depth. outside with is 12 inches, inside width is 10 inches, looks like 3 bucks per quadrant for 12 total. bucket slats are at 45 degrees?? \n",
    "flume wall are 2x6 and look like 10 inches inside diameter.\n",
    "\n",
    "\n",
    "Not going to change from a overshot to any other type because of the acetics of the waterwheel. And the wine of turbine would beed to be considered.\n",
    "\n",
    "Run design equations for current dam and waterwheel and calculate performance of the hydro system. Propose an energy harvesting system for the waterwheel.  \n",
    "\n",
    "What could be done to salvage the system?\n",
    "\n",
    "\n",
    "DIY axial flux alternator?\n",
    "https://www.fieldlines.com/index.php?topic=145079.0\n",
    "\n",
    "\n",
    "## Summary\n",
    "running the system during the winter\n",
    "add blurb for each section of the analysis\n",
    "- Household energy requirments\n",
    "- Water source\n",
    "- Flow rate\n",
    "- The dam\n",
    "- Water head height\n",
    "- Gravitational power of water\n",
    "- Estimated power production vs flow and height\n",
    "- Flume analysis\n",
    "- Flume to waterwheel interface \n",
    "- Water chamber\n",
    "- Waterwheel performance calculations\n",
    "- Generator\n",
    "- Electrical cable\n",
    "\n",
    "## Recomendations\n",
    "- get dam evaluated, it is worth putting any additional effort in to the hydro system when the dam has issues?\n",
    " - seepage, foundation uplifting, \n",
    "- get a better estimate of seasonal flow from the spring\n",
    "- In 2021 he installed solar and could the hydro system be made to complement the solar.\n",
    "- look at alternate bucket designs and implement\n",
    "- re build flume to be sized correctly and inline with waterwheel, design flume interface to waterwheel\n",
    "- consider and evaluate generator options, gear box or pullies options\n",
    "- keep setup low maintenance\n",
    "\n",
    "## Conclusion\n",
    "- \n",
    "\n",
    "\n",
    "## References\n",
    "1. Loftis Party of Six: [YouTube](https://www.youtube.com/c/LoftisPartyofSix/about), [Webpage](https://loftispartyofsix.com/), [Facebook](https://www.facebook.com/loftispartyofsix), [AirBnB](https://www.airbnb.com/rooms/44119328?adults=1&s=42&unique_share_id=0B0FAD8B-6DF0-4D42-81D6-677A9DE5316F&_branch_match_id=1074357483853462187&_branch_referrer=H4sIAAAAAAAAA8soKSkottLXT0zKS9LLTdXPys6sDMst9clKTAIASS1R2hsAAAA%3D&source_impression_id=p3_1657385014_CalpTY3fBlUosZ2k)\n",
    "2. [Building A Dam for Hydroelectric Power - Part 1 - Off Grid Cabin - EP #22](https://www.youtube.com/watch?v=sLGcF5zfB4Y), Jul 12, 2020 \n",
    "3. [Finishing the Dam @ the Off Grid Cabin - Part 2 / EP #23](https://www.youtube.com/watch?v=SbzblsRyBT4), Jul 16, 2020\n",
    "4. [The Dam is Holding Water!!! & The Off Grid Cabin gets WeBoost / EP #24](https://www.youtube.com/watch?v=9oMQu2lTEOo), Jul 19, 2020\n",
    "5. [Installing the Water Wheel for HYDRO POWER @ the Off Grid Cabin!! EP #25](https://www.youtube.com/watch?v=dtdMLG0KdDM), Jul 26, 2020 \n",
    "6. [Did we MAKE HYDRO POWER Using Our Waterwheel for Self Reliant Off Grid Living?](https://www.youtube.com/watch?v=VFQQI96CMK8), Jan 17, 2021\n",
    "7. [Possible Hydro Power Solutions for our Off Grid Cabin? A BIG THANKS TO YOU!!](https://www.youtube.com/watch?v=iMqMIJGlrdc), Jan 24, 2021 \n",
    "8. [Is Our DAM SAFE??? What Happened After a BIG RAIN 🌧!!!](https://www.youtube.com/watch?v=Qbi5kjuaN30), Apr 11, 2021\n",
    "9. [*Fixed* Waterwheel Suggestions for Loftis Party of Six - weROAM](https://www.youtube.com/watch?v=5Ot-gU-c4BI), Jan 26, 2021, \n",
    "10. [Making old Wagon Wheels into a Water Wheel - Slideshow](https://www.youtube.com/watch?v=GaLTve2FjRQ)\n"
   ]
  },
  {
   "cell_type": "code",
   "execution_count": 41,
   "metadata": {
    "collapsed": false
   },
   "outputs": [],
   "source": [
    "import pint\n",
    "ureg = pint.UnitRegistry()\n",
    "import numpy as np\n",
    "import matplotlib.pyplot as plt"
   ]
  },
  {
   "cell_type": "markdown",
   "metadata": {},
   "source": [
    "## Units\n",
    "In the calculations that follow, I'm using the Python package, [Pint](https://pint.readthedocs.io/en/0.19/index.html), which allows mathematical operations with units and conversions to and from different units. Keeping track of the units will provide some error checking when performing the calculations. United States customary units are used to describe the hydro system in the discussion. All calculations are done using the International System of units.\n",
    "\n",
    "A list of units and conversions used by Pint is [here](https://github.com/hgrecco/pint/blob/master/pint/default_en.txt).\n",
    "\n",
    "### Variables and constants\n",
    "There are a couple of variables and constants that will be used throughout the calculations.\n",
    "- Q is used for flow rate  \n",
    "- tau is used for torque \n",
    "- omega is used for angular velocity \n",
    "- g is used for The acceleration g varies by about 1/2 of 1 percent with position on Earth's surface, from about 9.78 metres per second per second at the Equator to approximately 9.83 metres per second per second at the poles.\n",
    "- rho is used for\n",
    "\n",
    "Gravity of Earth\n",
    "https://en.wikipedia.org/wiki/Gravity_of_Earth\n",
    "The gravity of Earth, denoted by g, is the net acceleration that is imparted to objects due to the combined effect of gravitation (from mass distribution within Earth) and the centrifugal force (from the Earth's rotation).[2][3] It is a vector (physics) quantity, whose direction coincides with a plumb bob and strength or magnitude is given by the norm {\\displaystyle g=\\|{\\mathit {\\mathbf {g} }}\\|}{\\displaystyle g=\\|{\\mathit {\\mathbf {g} }}\\|}.\n",
    "\n",
    "The precise strength of Earth's gravity varies depending on location. The nominal \"average\" value at Earth's surface, known as standard gravity is, by definition, 9.80665 m/s2 (32.1740 ft/s2).[4] This quantity is denoted variously as gn, ge (though this sometimes means the normal equatorial value on Earth, 9.78033 m/s2 (32.0877 ft/s2)), g0, gee, or simply g (which is also used for the variable local value).\n",
    "\n",
    "The weight of an object on Earth's surface is the downwards force on that object, given by Newton's second law of motion, or F = m(a) (force = mass × acceleration). Gravitational acceleration contributes to the total gravity acceleration, but other factors, such as the rotation of Earth, also contribute, and, therefore, affect the weight of the object. Gravity does not normally include the gravitational pull of the Moon and Sun, which are accounted for in terms of tidal effects.\n",
    "\n",
    "Properties of water\n",
    "https://en.wikipedia.org/wiki/Properties_of_water#Density_of_water_and_ice\n",
    "\n",
    "50°F/10°C\t0.99975\n",
    "https://www.turito.com/blog/one-on-one-online-tutoring/what-is-the-density-of-water\n"
   ]
  },
  {
   "cell_type": "code",
   "execution_count": 42,
   "metadata": {},
   "outputs": [],
   "source": [
    "g = 9.80665*ureg.meter/(ureg.sec**2) # \n",
    "rho = 999.75*ureg.kg/(ureg.meter**3) # density of water at 50F or 10C, kg/m3"
   ]
  },
  {
   "cell_type": "markdown",
   "metadata": {},
   "source": [
    "## Household energy requirments\n",
    "The enery requirements of the off grid cabin should be the first topic to consider. Michael's power requirements can be estimated from the battery and gas generator system he current has installed ~~if we assume that it is sufficient for his needs and the needs of his AirBnB guests~~. The average house hold in Missioui uses 1,086 kWh Per Month according to this [report](https://www.eia.gov/consumption/residential/reports/2009/state_briefs/pdf/MO.pdf) and this web [page](https://www.electricchoice.com/blog/electricity-on-average-do-homes/)."
   ]
  },
  {
   "cell_type": "code",
   "execution_count": 43,
   "metadata": {},
   "outputs": [
    {
     "name": "stdout",
     "output_type": "stream",
     "text": [
      "battery voltage: 24.0 V\n",
      "house battery capacity: 250.0 A·hr\n"
     ]
    }
   ],
   "source": [
    "battery_voltage = 24*ureg.volts\n",
    "print('battery voltage: {:s}'.format(f\"{battery_voltage:.1f~P}\"))\n",
    "\n",
    "number_of_batteries = 5\n",
    "battery_rating = 50*ureg.amps*ureg.hours\n",
    "house_battery_capacity = number_of_batteries*battery_rating\n",
    "print('house battery capacity: {:s}'.format(f\"{house_battery_capacity:.1f~P}\"))"
   ]
  },
  {
   "cell_type": "markdown",
   "metadata": {},
   "source": [
    "The batteries supply energy to the house during times when the generator is not running. ~~and the length of time the generator needs to run is determined by the how quickly the batteries are discharged.~~ \n",
    "\n",
    "The available battery energy for the house, in volt amp hours, is the product of the nomibnal battery voltage and the rated capacity. For resistive loads, Volt Amps hours can be considered equivalent to Watt hours.\n",
    "\n",
    "Since hydro is not working, a gas powered generator, the [Predator 3500](https://go.harborfreight.com/sku/56720/), is used during the day to charge the batteries. The Predator 3500 has a maximum running watts of 3,000. Assuming that Micheal runs the generator about 10 hours per day, the energy generated by the Predator 3500 is calculated below."
   ]
  },
  {
   "cell_type": "raw",
   "metadata": {},
   "source": [
    "mid morning for a few hours then in the evening and he shuts off the generater at 10pm  \n",
    "fuel is 10 gal per week  \n",
    "\n",
    "Run Time\t11 hours @ 25%"
   ]
  },
  {
   "cell_type": "code",
   "execution_count": 44,
   "metadata": {},
   "outputs": [
    {
     "name": "stdout",
     "output_type": "stream",
     "text": [
      "generator energy: 30,000.0 W·hr per day\n"
     ]
    }
   ],
   "source": [
    "# generator is running 10 hours per day and rated to produce 3000 watts continiously\n",
    "generator_run_time = 10*ureg.hour\n",
    "generator_rating = 3000*ureg.watts\n",
    "generator_energy = generator_run_time*generator_rating\n",
    "print('generator energy: {:s} per day'.format(f\"{generator_energy:,.1f~P}\"))"
   ]
  },
  {
   "cell_type": "raw",
   "metadata": {},
   "source": [
    "# total energy available per day\n",
    "house_energy_available = avaliable_house_battery_energy + generator_energy\n",
    "print('house energy available: {:s}'.format(f\"{house_energy_available:,.1f~P}\"))"
   ]
  },
  {
   "cell_type": "markdown",
   "metadata": {},
   "source": [
    "The generator produces 30,000 Whr and the fully charged batteries contain 6,000 VAhr. The amount of energy produced by the generator is the amount the hydo system needs to produce. We can assum that the hydro system will run continiously whereas the gas powered generator is run for ten hours each day.  "
   ]
  },
  {
   "cell_type": "code",
   "execution_count": 45,
   "metadata": {},
   "outputs": [
    {
     "name": "stdout",
     "output_type": "stream",
     "text": [
      "average power required from hydro system: 1,250.0 W\n"
     ]
    }
   ],
   "source": [
    "avg_power_req = generator_energy/(24*ureg.hour)\n",
    "print('average power required from hydro system: {:s}'.format(f\"{avg_power_req:,.1f~P}\"))"
   ]
  },
  {
   "cell_type": "markdown",
   "metadata": {},
   "source": [
    "His hydro system needs to deliver 1250 watts to the house, continious, throughout the year. As described later he hopes to get 24 volts from his generator, which corresponds to about 1000 watts, his hydro system is under sized by at least 20%. So he would need to run the gas generator about every 20 days to charge his batteries, assuming he can get his hydro system working as he hopes."
   ]
  },
  {
   "cell_type": "raw",
   "metadata": {},
   "source": [
    "# typical household energy usage for Missouri is 1080 kWh per month\n",
    "typical_usage = (1086e3*ureg.watts*ureg.hour)/30\n",
    "print('typical household energy usage: {:s} per day'.format(f\"{typical_usage:,.1f~P}\"))\n",
    "\n",
    "This matches https://www.electricchoice.com/blog/electricity-on-average-do-homes/ and \n",
    "/home/jim/Downloads/Water wheel design/MO.pdf\n",
    "\n",
    "What does the hydo system need to produce??  Need to take Wh per day and divide by 24. Ideally, the hydro system should produce 1500 watts continiously, every day throuout the year.  \n",
    "\n",
    "Using the reported typical daily usage, since his guest will probably not be as conservation minded as him, the average power required from the hyro system is calculated below.\n",
    "\n",
    "avg_power_req = typical_usage/(24*ureg.hour)\n",
    "print('average power required: {:s}'.format(f\"{avg_power_req:,.1f~P}\"))"
   ]
  },
  {
   "cell_type": "markdown",
   "metadata": {},
   "source": [
    "## Site plan\n",
    "In Michael's videos about the hydro project, I got the impression that he did not have any measured eleviation data for his property. From start to finish, his planning consistend entirelly of wishful thinking. I'm not sure why Missouri Wind and Solar thought the equipment they sold him would work. He said he bought an all in one kit from them, so in discussions with the sales team, I assume some basic description of the hydo set up was talked about. I can only conculd that there was a fundemental missunder standing of Michale's plans because he was sold a collection of equipment that was inaproperate and would not work. Or Missouri Wind and Solar knows almost nothing about hydro systems and assumed that hydro and wind are more or less the same.\n",
    "\n",
    "## Water source\n",
    "The water source for the dam comes from a spring located a short distance away from the cabin. The spring also provides water to the cabin's holding tank for household use. While watching Michael's videos, I did not hear that he has any historical data for the water flow rate from the spring. Historical data is critical for determining the economic viablity of the hydro project. Michael indicated that from Feburary to June, there is lots of water flowing from the spring. He did not have a comprensive study of the spring before starting the hydro project. Over the source of the video series, he commented how the spring wan't running like it was while they were building the dam. Since the flow rate seems to be seasonal, the analysis that follows will consider a range of flow rates and not just use one number to draw conclusions from.\n",
    "\n",
    "One thing to note is that in [8], the water out of the spring was muddy, which could mean that a lot of surface water flow down the hill during periods of heavy rain is mixing with the spring water. Surface water mixing in with the spring water could compromize the safety of the spring for potable water."
   ]
  },
  {
   "cell_type": "markdown",
   "metadata": {},
   "source": [
    "## Spring flow rate\n",
    "~~From the various coments that Michael made about the flow rate availabe from the spring, it did not seem like he had made a comprensive study of the of the spring before starting the hydro project. Over the source of the video series, he commented how the spring wan't running like it was while they were building the dam. Since the flow rate seems to be seasonal, the analysis that follows will consider a range of flow rates and not just use one number to draw conclusions from.~~"
   ]
  },
  {
   "cell_type": "raw",
   "metadata": {},
   "source": [
    "est_spring_flow_rate = 150*ureg.gal/(1*ureg.min)\n",
    "print('estimated flow rate: {:s}'.format(f\"{est_spring_flow_rate:.1f~P}\"))"
   ]
  },
  {
   "cell_type": "raw",
   "metadata": {},
   "source": [
    "Change flow flow rate units to $m^3/s$ and save as a new variable, Q, for flow rate used in the calculations."
   ]
  },
  {
   "cell_type": "raw",
   "metadata": {},
   "source": [
    "Q_spring = est_spring_flow_rate.to_base_units()\n",
    "print('estimated flow rate: {:s}'.format(f\"{Q_spring:.4f~P}\"))"
   ]
  },
  {
   "cell_type": "raw",
   "metadata": {},
   "source": [
    "Q\n",
    "\n",
    "f\"{est_flow:~P}\"\n",
    "\n",
    "f\"{est_flow:.2f~P}\"\n",
    "\n",
    "print('print with units: {:s}'.format(f\"{est_flow:.3f~P}\"))\n",
    "\n",
    "print('print with units: {:f}'.format(est_flow))\n",
    "\n",
    "est_flow.to_base_units()\n",
    "\n",
    "est_flow\n",
    "\n",
    "est_flow.ito_base_units() # changes units \n",
    "\n",
    "est_flow.ito_reduced_units()\n",
    "\n",
    "est_flow.to('gal/sec')\n",
    "\n",
    "\n",
    "\n",
    "est_flow_rate = 150*ureg.gal/(1*ureg.min) # estimated flow rate in gallons per minute\n",
    "est_flow_rate\n",
    "\n",
    "Q_m3pm = est_flow_rate * 0.003785 # flow rate in m^3 per min\n",
    "\n",
    "est_flow_rate_gpm = 150 # estimated flow rate in gallons per minute\n",
    "print('flow rate in gpm: {:.3f}'.format(est_flow_rate_gpm))\n",
    "Q_m3pm = est_flow_rate_gpm * 0.003785 # flow rate in m^3 per min\n",
    "print('flow rate in m^3 per min: {:.3f}'.format(Q_m3pm))\n",
    "Q = Q_m3pm / 60 # convert to cubic meters per second\n",
    "print('flow rate in m^3 per sec: {:.5f}'.format(Q))"
   ]
  },
  {
   "cell_type": "markdown",
   "metadata": {},
   "source": [
    "## The dam\n",
    "The purpose of the dam is to capture water from the spring and allow for the flume to sit at the correct height relative to the waterwheel. The dam's resovour is an attractive feature for the cabin and should be a source of enjoytment year around. He said the water was cold, so in the warm summer months it sould be refreshing. The dam structure is a concrete retaining wall, with a water depth of about 4.5 feet at the wall. This type of dam can be classified as a concrete gravity dam where the weight of the dam itself keeps it in place against the weight of the water. Videos [2,3] show some of the dam construction and the following observations and comments are provided:  \n",
    "- The dams foundation did not appear to be adequatly prepaired. Concrete gravity dams are suitable for sites where there is a reasonably sound rock foundation, although a low dam can be built on other soil types. Michael said in the video that Jerry dug down to rock, but this was not apparent. Setting and cracking of the foundation and wall is a concern as well as water seapage around the foundation. Expansion from freezing water was not addressed in the video. \n",
    "- The reservoir evacuation method of using a plug in the pipe could have been better thought out. An important consideration is the ability to evacuate (lower or drain) the reservoir in a timely manner.\n",
    "- Interrupting the pour between the footing and the wall created a cold joint, a possible source of leaks.\n",
    "- There is a a conspicuous lack of rebar in the structure. \n",
    "- The spillway is insufficient.\n",
    "- Headrace and flume did not line up with the waterwheel.\n",
    "\n",
    "A small spillway was incorperated into the dam in the center section. The spillway is a hydraulic structure that passes normal (operational) and/or flood flows in a manner that protects the structural integrity of the dam. The spillway appears to be sized incorrectly as evidenced by the dam being over topped in [8].\n",
    "\n",
    "The spillway width is estimated to be 4 feet wide and the depth of the spillway looks like about 3 inches. "
   ]
  },
  {
   "cell_type": "code",
   "execution_count": 46,
   "metadata": {},
   "outputs": [],
   "source": [
    "spillway_width = 4*ureg.feet # 4 ft\n",
    "spillway_water_head = 3*ureg.inch # 3 inches"
   ]
  },
  {
   "cell_type": "markdown",
   "metadata": {},
   "source": [
    "The rectangular weir formula is used to calculate the flow through the spillway.\n",
    "\n",
    "$Q= \\frac {2}{3} \\times C_d \\times (2g)^{1/2} \\times L \\times H^{3/2}$  \n",
    "\n",
    "Where:  \n",
    "Q = the total discharge  \n",
    "$C_d$ = discharge coefficient    \n",
    "g = acceleration due to gravity,  9.80665 $m/s^2$  \n",
    "L = the effected crest length  \n",
    "H = the total hydraulic head above the spillway  \n",
    "\n",
    "https://www.engineeringtoolbox.com/weirs-flow-rate-d_592.html\n",
    "https://www.kleinschmidtgroup.com/ras-post/weir-equations-in-hec-ras/\n",
    "https://www.usbr.gov/tsc/techreferences/mands/wmm/"
   ]
  },
  {
   "cell_type": "code",
   "execution_count": 47,
   "metadata": {},
   "outputs": [
    {
     "name": "stdout",
     "output_type": "stream",
     "text": [
      "spill way flow rate: 848.6 gal/min\n"
     ]
    }
   ],
   "source": [
    "L = spillway_width.to('meter')\n",
    "H = spillway_water_head.to('meter')\n",
    "Cd = 0.5 # discharge coefficient, a nominal value was chosen, typical values range from 0.4 to 0.6 and depends on a lot of factors.\n",
    "\n",
    "# need to remove units for calculation, then set units to m^3/sec\n",
    "Q_spillway = ((2/3)*Cd*L.magnitude*2*(g.magnitude)**(1/2)*(H.magnitude)**(3/2))*ureg.meter**3/ureg.sec\n",
    "print('spill way flow rate: {:s}'.format(f\"{Q_spillway.to('gal/min'):.1f~P}\"))"
   ]
  },
  {
   "cell_type": "markdown",
   "metadata": {},
   "source": [
    "The current spillway can accomidate about 850 gpm, but it should be increaded by several inches in head heigth to accomidate 2000 gpm or more depending on what Michael thinks would be the maximum storm run off into his resevior.\n",
    "\n",
    "There were questions in the comment section about the permit for the dam construction. Michael said be didn't need a permit. I did a little bit of search on the internet and he seems to be correct. If the water impounded has a surface area of less than fifteen acres, or the height of the dam is less than 35 feet, and is not on a navigatiable waterway, a permit is not required."
   ]
  },
  {
   "cell_type": "code",
   "execution_count": null,
   "metadata": {},
   "outputs": [],
   "source": []
  },
  {
   "cell_type": "markdown",
   "metadata": {},
   "source": [
    "## Water head height\n",
    "where is the head height measured from?\n",
    "\n",
    "Water head height for overshot wheel\n",
    "\n",
    "Water head height for penstock to a turbine."
   ]
  },
  {
   "cell_type": "code",
   "execution_count": null,
   "metadata": {},
   "outputs": [],
   "source": []
  },
  {
   "cell_type": "markdown",
   "metadata": {},
   "source": [
    "## Gravitational power of water\n",
    "The gravitation power of water can be calculated by the formula below and running his numbers through this calculation should have been the first thing Michael should have done. \n",
    "\n",
    "What is the gravitation power of water  \n",
    "- head height\n",
    "- flow rate\n",
    "- power formula\n",
    "- calculations\n",
    "- graph of power vs head for various flow rates\n",
    "\n",
    "The harvesting the gravitational energy of water is a proven source of energy. This source of energy is clean, renewable and is available in abundance from the spring on his property.\n",
    "\n",
    "Since the waterwheel is going to used to extract power from the water, the head height is approximately the diameter of the waterwheel. Water enters at the top of the wheel and the weight of the water causes the wheel to rotate until a point near the bottom of the wheel. So let's use the diameter of the waterwheel for now in the calculation. For the flow rate, we can using a value of 300 gpm since this is what Michael said was the flow rate in []. \n",
    "\n",
    "The gravitational power of water is given by:  \n",
    "\n",
    "$P = \\rho \\times g \\times Q \\times H$\n",
    "\n",
    "$P = \\rho g Q H$\n",
    "\n",
    "where:   \n",
    "P = gravitational power of water, Watts  \n",
    "H = height of fall, meters  \n",
    "Q = flow rate, cubic meters per second  \n",
    "g = acceleration due to gravity,  9.80665 $m/s^2$   \n",
    "$\\rho$ = density of water, at 50°F or 10°C is 999.75 kg/m3  "
   ]
  },
  {
   "cell_type": "code",
   "execution_count": 48,
   "metadata": {},
   "outputs": [
    {
     "name": "stdout",
     "output_type": "stream",
     "text": [
      "head height: 7.0 ft\n",
      "head height: 2.1336 m\n"
     ]
    }
   ],
   "source": [
    "head_height = 7*ureg.feet # the estimated diameter of the waterwheel\n",
    "print('head height: {:s}'.format(f\"{head_height:.1f~P}\"))\n",
    "\n",
    "# convert to meters and save value in variable H for use in calculations\n",
    "H = head_height.to_base_units()\n",
    "print('head height: {:s}'.format(f\"{H:.4f~P}\"))"
   ]
  },
  {
   "cell_type": "code",
   "execution_count": 49,
   "metadata": {},
   "outputs": [
    {
     "name": "stdout",
     "output_type": "stream",
     "text": [
      "flow rate: 300.0 gal/min\n",
      "flow rate: 0.0189 m³/s\n"
     ]
    }
   ],
   "source": [
    "flow_rate = 300*ureg.gal/(1*ureg.min)\n",
    "print('flow rate: {:s}'.format(f\"{flow_rate:.1f~P}\"))\n",
    "\n",
    "Q = flow_rate.to_base_units()\n",
    "print('flow rate: {:s}'.format(f\"{Q:.4f~P}\"))"
   ]
  },
  {
   "cell_type": "raw",
   "metadata": {},
   "source": [
    "The watt (symbol: W) is a unit of power or radiant flux. In the International System of Units (SI), it is defined as a derived unit of (in SI base units)[1][2] 1 kg⋅m2⋅s−3 or, equivalently,[3] 1 joule per second. It is used to quantify the rate of energy transfer. The watt is named after James Watt (1736–1819), an 18th-century Scottish inventor, mechanical engineer, and chemist who improved the Newcomen engine with his own steam engine in 1776. Watt invention was fundamental for the Industrial Revolution.\n",
    "https://en.wikipedia.org/wiki/Watt"
   ]
  },
  {
   "cell_type": "code",
   "execution_count": 50,
   "metadata": {},
   "outputs": [
    {
     "name": "stdout",
     "output_type": "stream",
     "text": [
      "gravitational power of water: 395.92 W\n"
     ]
    }
   ],
   "source": [
    "# Gravitational power of water\n",
    "grav_pwr_of_water = (rho*g*Q*H) #.to_base_units().to('watt')\n",
    "print('gravitational power of water: {:s}'.format(f\"{grav_pwr_of_water.to('watt'):.2f~P}\"))"
   ]
  },
  {
   "cell_type": "markdown",
   "metadata": {},
   "source": [
    "The efficiency of small scale water wheels is estimated to be 50% and the efficiency of the generator and battery system is estimated to be 60%. These assumptions where obtained from the internet and are sufficient to give a rough estimate of the potential power output."
   ]
  },
  {
   "cell_type": "code",
   "execution_count": 51,
   "metadata": {},
   "outputs": [
    {
     "name": "stdout",
     "output_type": "stream",
     "text": [
      "electrical power with efficiency factors: 118.8 W\n"
     ]
    }
   ],
   "source": [
    "eff_m = 0.5 # mechanical efficiency\n",
    "eff_e = 0.6 # electrical efficiency\n",
    "est_actual_pwr = grav_pwr_of_water * eff_m * eff_e\n",
    "print('electrical power with efficiency factors: {:s}'.format(f\"{est_actual_pwr.to('watt'):.1f~P}\") )"
   ]
  },
  {
   "cell_type": "markdown",
   "metadata": {},
   "source": [
    "The calculations above provide an indication of the power the hydro system is capable of producing. About 120 Watts is what Michael can expect, and given this number is so low compared to the expense of the dam and other parts, does not make economic sense. So what can be done with 120 Watts of power? Maybe run low power LED lighting for the yard or patio? "
   ]
  },
  {
   "cell_type": "markdown",
   "metadata": {},
   "source": [
    "## Estimated power production vs flow and height\n",
    "The plot below shows the estimated production of electrical power for a range of flow rates and water head heights. Mechanical and electrical efficiencies discussed above are included."
   ]
  },
  {
   "cell_type": "code",
   "execution_count": 52,
   "metadata": {},
   "outputs": [
    {
     "data": {
      "image/png": "[encoded data removed]",
      "text/plain": [
       "<Figure size 432x288 with 1 Axes>"
      ]
     },
     "metadata": {
      "needs_background": "light"
     },
     "output_type": "display_data"
    }
   ],
   "source": [
    "flow_rate = np.linspace(100,1000,10)*ureg.gal/ureg.min # flow rate range in gallons per minute\n",
    "head_height = np.array([5,7,10,20,30])*ureg.feet # head height, range in feet\n",
    "# convert to metric\n",
    "Q = flow_rate.to_base_units()\n",
    "H = head_height.to_base_units()\n",
    "\n",
    "for i in range(len(head_height)):\n",
    "    plt.plot(flow_rate.to('gal/min'),(rho*g*Q*H[i]*eff_m*eff_e).to_base_units().to('watt'),\n",
    "        label = 'water head: {:s}'.format(f\"{H[i].to('feet'):.0f~P}\"))\n",
    "\n",
    "plt.legend(bbox_to_anchor=(1.1, 1))\n",
    "plt.grid()\n",
    "\n",
    "plt.ylim((0,1800))\n",
    "plt.xlim((100,1000))                                          \n",
    "plt.ylabel('electrical power, W')\n",
    "plt.xlabel('water flow rate, gpm')\n",
    "\n",
    "plt.title('Estimated production of hydro power')\n",
    "plt.show()"
   ]
  },
  {
   "cell_type": "markdown",
   "metadata": {},
   "source": [
    "Families that converve their use of electrical power need about 10 KWhr per day (or less, but definately a lot more if air conditioning is used). The chart above clarifies that for small flow rates of less than 200 gpm and small heights of fall of less than 20 feet, the possible power output is not sufficient to supply the household. Small hydroelectric systems generating 500 watts or more could suppment solar with adaquate battery storage."
   ]
  },
  {
   "cell_type": "code",
   "execution_count": null,
   "metadata": {},
   "outputs": [],
   "source": []
  },
  {
   "cell_type": "markdown",
   "metadata": {},
   "source": [
    "## The flume\n",
    "The flume carries water from the dam to the top of the waterwheel. By examining the videos, I made some estimates for the flume diementions. The width of the flume was about the same width of the waterwheel, which makes sense, since you want a nice flow of water into the chambers. The side walls of the flume looked like 2 by 6 boards. Looking at [7] when Micheal opens the gate, the depth of the water in the channel looks like 1.5 to 2 inches of flow. \n",
    "\n",
    "I can use the Manning equation for open channel flow to calculate the flow rate in the flume. [Mannings equation](https://en.wikipedia.org/wiki/Manning_formula) is an empirical equation that applies to uniform flow in open channels and is a function of the channel velocity, flow area and channel slope.\n",
    "\n",
    "$V = \\frac {s^{1/2} \\times R^{2/3}} {n}$\n",
    "\n",
    "where:\n",
    "\n",
    "V - water velocity  \n",
    "n - Manning's roughness coefficient; unplaned wood = 0.013, wood sides and smooth sheet metal bottom   \n",
    "R - The channel's hydraulic radius, calculated by dividing the water flow's cross-sectional area A by its wetted perimeter P  \n",
    "s - Slope of the channel's bottom surface  \n",
    "\n",
    "Examining Manning's equation, we can see that the area and slope are directly proportional to the water flow rate, which means an increase in area and slope would increase the water flow rate. On the other hand, the roughness coefficient and the wetted perimeter are inversely proportional to the water flow rate, meaning that increasing their values would decrease the water flow rate.\n",
    "\n",
    "The slope of the flume was not apparent in any of the videos, so I'm usinga value of 0.01."
   ]
  },
  {
   "cell_type": "raw",
   "metadata": {},
   "source": [
    "- what is the flume and purpose\n",
    "- descrition of the flume\n",
    "- open channel flow calculations\n",
    "\n",
    "\n",
    "\n",
    "mill race\n",
    "the channel carrying the swift current of water that drives a mill wheel.\n",
    "\n",
    "flume\n",
    "\n",
    "a deep narrow channel or ravine with a stream running through it.\n",
    "an artificial channel conveying water, typically used for transporting logs or timber.\n",
    "a water-chute ride at an amusement park.\n",
    "\n",
    "Rectangular Open Channel Design Calculation\n",
    "\n",
    "https://www.lmnoeng.com/water.php\n",
    "\n",
    "Need velocity of water in flume since unloaded wheel rpm is related.\n",
    "\n",
    "Manning equation open channel flow\n",
    "https://www.omnicalculator.com/physics/open-channel-flow#:~:text=Manning%20equation%20open%20channel%20flow,-With%20these%20concepts&text=R%20%2D%20The%20channel's%20hydraulic%20radius,of%20the%20channel's%20bottom%20surface.\n",
    "\n",
    "Looking at [7] when Micheal opens the gate, the depth of the water in the channel looks like 1.5 to 2 inches of flow. "
   ]
  },
  {
   "cell_type": "code",
   "execution_count": 53,
   "metadata": {},
   "outputs": [
    {
     "name": "stdout",
     "output_type": "stream",
     "text": [
      "water_cross_section_area = 0.0129 m²\n",
      "wetted_perimeter = 0.3556 m\n",
      "hydraulic_radius = 0.0363 m\n",
      "water_flume_velocity = 0.3466 m/s\n",
      "volumetric_flow_rate = 0.004472 m³/s\n",
      "volumetric_flow_rate = 70.89 gal/min\n"
     ]
    }
   ],
   "source": [
    "flume_width = 10*ureg.inch  # 10 inches\n",
    "water_depth = 2*ureg.inch # 2 inches\n",
    "# convert to metric\n",
    "flume_width.ito('meter')\n",
    "water_depth.ito('meter')\n",
    "water_cross_section_area = water_depth*flume_width\n",
    "print('water_cross_section_area = {:s}'.format(f\"{water_cross_section_area:.4f~P}\"))\n",
    "wetted_perimeter = 2*water_depth+flume_width\n",
    "print('wetted_perimeter = {:s}'.format(f\"{wetted_perimeter:.4f~P}\"))\n",
    "hydraulic_radius = water_cross_section_area/wetted_perimeter\n",
    "print('hydraulic_radius = {:s}'.format(f\"{hydraulic_radius:.4f~P}\"))\n",
    "roughness_coefficient = 0.01 # wood sides and smooth sheet metal bottom\n",
    "slope = 0.1/100 # estimated from video\n",
    "# need to use magnitude of quantity when using fractional exponents\n",
    "water_flume_velocity = (((hydraulic_radius.magnitude)**(2/3)*slope**(1/2))/roughness_coefficient)*ureg.meter/ureg.sec\n",
    "print('water_flume_velocity = {:s}'.format(f\"{water_flume_velocity:.4f~P}\"))\n",
    "volumetric_flow_rate = water_flume_velocity*water_cross_section_area\n",
    "print('volumetric_flow_rate = {:s}'.format(f\"{volumetric_flow_rate:.6f~P}\"))\n",
    "print('volumetric_flow_rate = {:s}'.format(f\"{volumetric_flow_rate.to('gal/min'):.2f~P}\"))"
   ]
  },
  {
   "cell_type": "markdown",
   "metadata": {},
   "source": [
    "Manning's equation tells us that about 70 gpm are delivered by the flume to the waterwheel. The calculation tells us that the flume is not sized correctly. Several more inches of flow depth and/or slop are needed.\n",
    "\n",
    "Plot flume flow rate over range of slopes and depths."
   ]
  },
  {
   "cell_type": "code",
   "execution_count": 54,
   "metadata": {},
   "outputs": [
    {
     "data": {
      "image/png": "[encoded data removed]",
      "text/plain": [
       "<Figure size 432x288 with 1 Axes>"
      ]
     },
     "metadata": {
      "needs_background": "light"
     },
     "output_type": "display_data"
    }
   ],
   "source": [
    "water_depth = np.linspace(0.1,6,10)*0.0254 # water depth in flume, in inches, then converted to metersJ\n",
    "\n",
    "flume_length = 12*12 # feet converted to inches\n",
    "flume_drop = np.array([0.5,2,4,6,8,12,18]) # total drop at far end of flume in inches\n",
    "slope = (flume_drop/flume_length)/100 # flume slope, percent\n",
    "\n",
    "for i in range(len(slope)):\n",
    "    plt.plot(water_depth/0.0254,(((water_depth*flume_width)/(2*water_depth+flume_width))**(2/3)*slope[i]**(1/2))/roughness_coefficient*(water_depth*flume_width)*60/0.003785,\n",
    "        label = 'slope: {:.2f}%'.format(slope[i]*100))\n",
    "\n",
    "plt.legend(bbox_to_anchor=(1.1, 1))\n",
    "plt.grid()\n",
    "\n",
    "#plt.ylim((0,1))\n",
    "plt.ylabel('Q, gpm')\n",
    "plt.xlabel('flume water depth, inches')\n",
    "\n",
    "plt.title('range of flume flows vs. depth and slope')\n",
    "plt.show()"
   ]
  },
  {
   "cell_type": "markdown",
   "metadata": {},
   "source": [
    "come comments ..."
   ]
  },
  {
   "cell_type": "raw",
   "metadata": {},
   "source": [
    "for i in range(len(slope)):\n",
    "    plt.plot(water_depth/0.0254,(((water_depth*flume_width)/(2*water_depth+flume_width))**(2/3)*slope[i]**(1/2))/roughness_coefficient,\n",
    "        label = 'slope: {:.2f}%'.format(slope[i]*100))\n",
    "\n",
    "plt.legend(bbox_to_anchor=(1.1, 1))\n",
    "plt.grid()\n",
    "\n",
    "#plt.ylim((0,1))\n",
    "plt.ylabel('water velocity, m/s')\n",
    "plt.xlabel('flume water depth, inches')\n",
    "\n",
    "plt.title('range of water velocity vs. depth and slope')\n",
    "plt.show()"
   ]
  },
  {
   "cell_type": "raw",
   "metadata": {},
   "source": [
    "probably don't need flume water velocity"
   ]
  },
  {
   "cell_type": "markdown",
   "metadata": {},
   "source": [
    "## Flume to waterwheel interface \n",
    "The level of the flume at the water exit point should be very near the top center of the waterwheel. Depending on the velocity of the water there is some amount of horizontal throw and the exact position and the corresponding angle of the entry to wheel probably is best optimized by trial and error."
   ]
  },
  {
   "cell_type": "raw",
   "metadata": {},
   "source": [
    "of the impact paddle relative to the horizontal line is required to adapt them\n",
    "to the values of the water flow in the optimizing process.\n",
    "\n",
    "ing the flume should \n",
    "\n",
    "\n",
    "Besides the diameter of the water wheel, the optimizing criteria are the optimal entry point of\n",
    "the water flow into the water wheel and perfect total width of the water wheel. To optimize\n",
    "them, the behaviour of the water flow is required. Thus, the stream line and the thickness of\n",
    "the water flow are calculated in this paragraph.\n",
    "\n",
    "Water flow as horizontal throw\n",
    "\n",
    "Position and entry angle of the water wheel\n",
    "For all possible entry points of the water wheel, the exact position and the corresponding angle\n",
    "of the entry section of the impact paddle relative to the horizontal line is required to adapt them\n",
    "to the values of the water flow in the optimizing process."
   ]
  },
  {
   "cell_type": "code",
   "execution_count": null,
   "metadata": {},
   "outputs": [],
   "source": []
  },
  {
   "cell_type": "markdown",
   "metadata": {},
   "source": [
    "## The waterwheel\n",
    "\n",
    "need a new outline for this section.\n",
    "\n",
    "- description of the wheel\n",
    "\n",
    "Michael's water wheel was built by Jerry and Michael posted a slide show of the construction in [10]. From an Aesthetic point of view, the waterwheel is a work of art and the dam with the waterwheel has kind of poetry about it. \n",
    "\n",
    "- some historical notes about usage, size, power and water flow\n",
    "\n",
    "Waterwheels have a long history and they were a driving force behind the earliest stages of industrialization in Britain. [John Smeaton's](https://en.wikipedia.org/wiki/John_Smeaton) scientific investigation of the water wheel led to significant increases in efficiency supplying much needed power for the Industrial Revolution.\n",
    "\n",
    "- dimensions of the wheel\n",
    "\n",
    "The dimensions of the waterwheel were estimated from the videos and comparing relative sizes of Jerry and Michael's Dad when they were off loading the wheel. The geometry of the water chamber was not shown in any detail. In the photo below, it looks like the paddles of the water chamber have a small radial section that connects to a longer board at an angle. \n",
    "\n",
    "<img src=\"waterwheel_buckets.png\" width=\"750\">  \n",
    "\n",
    "The outer radius looks to be about 3.5 feet. The inner radius is about 3 feet. The chamber width looks to be approximatly 10 inches wide. \n",
    "The number of chambers looks like 12. The angles appear such that most of the water will exit the wheel at about 135 degrees measured from top center. The water fills the chambers from the top. The chambers on the downward side of the wheel over balance the empty chambers on the opposite side and keep the wheel moving. Overshot waterwheels are relatively efficient mechanically and are easily maintained. The overshot waterwheel is a slow speed device and usually designed to operate between 5 and 30 RPM. This limits it usefulness as a power source for the generation of electricity because gearbox or pulleys are needed to step up the rotational speed. \n",
    "\n",
    "The diagram below shows the components of the overshot waterwheel. The weight of the water on the down stream chambers cause a torque on the wheel, which causes the wheet to rotate. With no load on the wheel, I'm assuming the rotational speed is almost equal to the velocity of water in the headrace. \n",
    "\n",
    "<img src=\"Overshot_waterwheel_simple.svg\" width=\"350\">  \n",
    "Diagram of an overshot [waterwheel](https://en.wikipedia.org/wiki/Water_wheel) by [Malcolm Boura](https://commons.wikimedia.org/w/index.php?curid=58333837) obtained from Wikipedia. \n",
    "\n",
    "- Vertical wheel with horizontal axle\n",
    "- The water hits near the top of the wheel and in front of the axle so that it turns away from the head race\n",
    "- Driving surfaces – buckets\n",
    "- Water – low volume, large head\n",
    "- Efficiency – 80 to 90%\n",
    "\n",
    "The chamber volume is calculated in the following:"
   ]
  },
  {
   "cell_type": "code",
   "execution_count": 56,
   "metadata": {},
   "outputs": [],
   "source": [
    "# as built\n",
    "num_chambers = 12\n",
    "chamber_width = 10*ureg.inch\n",
    "outer_radius = 3.5*ureg.feet\n",
    "inner_radius = 3*ureg.feet"
   ]
  },
  {
   "cell_type": "raw",
   "metadata": {},
   "source": [
    "num_chambers = 32\n",
    "#chamber_width = 2*ureg.feet\n",
    "outer_radius = 5*ureg.feet\n",
    "inner_radius = 4.8*ureg.feet\n",
    "chamber_width = outer_radius/4"
   ]
  },
  {
   "cell_type": "code",
   "execution_count": 57,
   "metadata": {},
   "outputs": [
    {
     "name": "stdout",
     "output_type": "stream",
     "text": [
      "chamber volume: 5.30 gal\n",
      "chamber arc: 30.0 deg\n"
     ]
    }
   ],
   "source": [
    "# convert dimensions to meters\n",
    "chamber_width.ito('meter')\n",
    "outer_radius.ito('meter')\n",
    "inner_radius.ito('meter')\n",
    "\n",
    "chamber_vol = (np.pi*outer_radius**2 - np.pi*inner_radius**2)*chamber_width/num_chambers\n",
    "print('chamber volume: {:s}'.format(f\"{chamber_vol.to('gallons'):.2f~P}\") )\n",
    "                                    \n",
    "# calculate chamber arc, \n",
    "chamber_arc = (360/num_chambers)*ureg.degree\n",
    "chamber_arc.ito('radian')                                    \n",
    "print('chamber arc: {:s}'.format(f\"{chamber_arc.to('degree'):.1f~P}\") )"
   ]
  },
  {
   "cell_type": "raw",
   "metadata": {},
   "source": [
    "chamber_arc"
   ]
  },
  {
   "cell_type": "markdown",
   "metadata": {},
   "source": [
    "- chamber volume\n",
    "\n",
    "To calculate the volume of water in chamber based on angle, I'm going to make a simplification and say the volume of water in the chamber is a staight line approximation from 100% full at an angle of 0 degrees to empty at the water exit angle of 135 degrees. Within this angle, assume that 5 chambers have some amount water in them.\n",
    "\n",
    "moment arm of water\n",
    "\n",
    "### the above simplication need to be improved\n",
    "have the chambers hold on to their water untill like 80 degress and then dump linearly to final release angle. "
   ]
  },
  {
   "cell_type": "code",
   "execution_count": 58,
   "metadata": {},
   "outputs": [
    {
     "data": {
      "text/plain": [
       "6"
      ]
     },
     "execution_count": 58,
     "metadata": {},
     "output_type": "execute_result"
    }
   ],
   "source": [
    "num_chambers_in_play = int(num_chambers/2)\n",
    "num_chambers_in_play"
   ]
  },
  {
   "cell_type": "markdown",
   "metadata": {},
   "source": [
    "Calculate the mass of the water in each chamber."
   ]
  },
  {
   "cell_type": "code",
   "execution_count": 59,
   "metadata": {},
   "outputs": [
    {
     "data": {
      "text/html": [
       "\\[\\begin{pmatrix}20.072757707471293 & 16.058206165977037 & 12.043654624482775 & 8.029103082988515 & 4.014551541494257 & 0.0\\end{pmatrix} kilogram\\]"
      ],
      "text/latex": [
       "$\\begin{pmatrix}20.072757707471293 & 16.058206165977037 & 12.043654624482775 & 8.029103082988515 & 4.014551541494257 & 0.0\\end{pmatrix}\\ \\mathrm{kilogram}$"
      ],
      "text/plain": [
       "array([20.07275771, 16.05820617, 12.04365462,  8.02910308,  4.01455154,\n",
       "        0.        ]) <Unit('kilogram')>"
      ]
     },
     "execution_count": 59,
     "metadata": {},
     "output_type": "execute_result"
    }
   ],
   "source": [
    "mass_per_chamber = rho*chamber_vol*np.linspace(1,0,num_chambers_in_play)\n",
    "mass_per_chamber"
   ]
  },
  {
   "cell_type": "markdown",
   "metadata": {},
   "source": [
    "Calculate the torque applied about the waterwheel axle by the weight of water."
   ]
  },
  {
   "cell_type": "raw",
   "metadata": {},
   "source": [
    "tau"
   ]
  },
  {
   "cell_type": "code",
   "execution_count": 61,
   "metadata": {},
   "outputs": [
    {
     "data": {
      "text/html": [
       "9.80665 meter/second<sup>2</sup>"
      ],
      "text/latex": [
       "$9.80665\\ \\frac{\\mathrm{meter}}{\\mathrm{second}^{2}}$"
      ],
      "text/plain": [
       "9.80665 <Unit('meter / second ** 2')>"
      ]
     },
     "execution_count": 61,
     "metadata": {},
     "output_type": "execute_result"
    }
   ],
   "source": [
    "g"
   ]
  },
  {
   "cell_type": "raw",
   "metadata": {},
   "source": [
    "avg_water_radius"
   ]
  },
  {
   "cell_type": "code",
   "execution_count": 63,
   "metadata": {},
   "outputs": [
    {
     "data": {
      "text/html": [
       "\\[\\begin{pmatrix}20.072757707471293 & 16.058206165977037 & 12.043654624482775 & 8.029103082988515 & 4.014551541494257 & 0.0\\end{pmatrix} kilogram\\]"
      ],
      "text/latex": [
       "$\\begin{pmatrix}20.072757707471293 & 16.058206165977037 & 12.043654624482775 & 8.029103082988515 & 4.014551541494257 & 0.0\\end{pmatrix}\\ \\mathrm{kilogram}$"
      ],
      "text/plain": [
       "array([20.07275771, 16.05820617, 12.04365462,  8.02910308,  4.01455154,\n",
       "        0.        ]) <Unit('kilogram')>"
      ]
     },
     "execution_count": 63,
     "metadata": {},
     "output_type": "execute_result"
    }
   ],
   "source": [
    "mass_per_chamber"
   ]
  },
  {
   "cell_type": "code",
   "execution_count": 64,
   "metadata": {},
   "outputs": [
    {
     "name": "stdout",
     "output_type": "stream",
     "text": [
      "stall torque on water wheel axel: 555.970 kg·m²/s²\n"
     ]
    }
   ],
   "source": [
    "avg_water_radius = (outer_radius + np.pi*inner_radius)/2\n",
    "theta = np.linspace(0,135,num_chambers_in_play)*np.pi/180 # angular location of the chamber, degrees converted to radians\n",
    "tau = (mass_per_chamber*g*avg_water_radius*np.sin(theta)).sum() # sum of torques from each chamber\n",
    "#print('stall torque on water wheel axel: {:s}'.format(f\"{tau.to('foot pound'):.3f~P}\") )\n",
    "print('stall torque on water wheel axel: {:s}'.format(f\"{tau:.3f~P}\") )"
   ]
  },
  {
   "cell_type": "markdown",
   "metadata": {},
   "source": [
    "## check the dimension on torque above\n",
    "The above is the stall torque.\n",
    "talk about assumtptions and justifications for. chamber not optomized, \n",
    "\n",
    "\n",
    "- what is the operating rpm of a waterwheel?\n",
    "- chambers or buckets (what are they called in the lititure)\n",
    "- wheel operation for chamber level and torque vs rpm for various flow rates\n",
    "- equation 8, of /home/jim/Downloads/Water wheel design/1700797.pdf, omega vs tau for various Qs\n",
    "- velocity head\n"
   ]
  },
  {
   "cell_type": "code",
   "execution_count": 65,
   "metadata": {},
   "outputs": [
    {
     "data": {
      "text/html": [
       "555.9700290015217 kilogram meter<sup>2</sup>/second<sup>2</sup>"
      ],
      "text/latex": [
       "$555.9700290015217\\ \\frac{\\mathrm{kilogram} \\cdot \\mathrm{meter}^{2}}{\\mathrm{second}^{2}}$"
      ],
      "text/plain": [
       "555.9700290015217 <Unit('kilogram * meter ** 2 / second ** 2')>"
      ]
     },
     "execution_count": 65,
     "metadata": {},
     "output_type": "execute_result"
    }
   ],
   "source": [
    "tau"
   ]
  },
  {
   "cell_type": "code",
   "execution_count": 66,
   "metadata": {},
   "outputs": [
    {
     "data": {
      "text/plain": [
       "array([0.        , 0.4712389 , 0.9424778 , 1.41371669, 1.88495559,\n",
       "       2.35619449])"
      ]
     },
     "execution_count": 66,
     "metadata": {},
     "output_type": "execute_result"
    }
   ],
   "source": [
    "theta"
   ]
  },
  {
   "cell_type": "code",
   "execution_count": 67,
   "metadata": {},
   "outputs": [
    {
     "data": {
      "text/html": [
       "0.2617993877991494 radian"
      ],
      "text/latex": [
       "$0.2617993877991494\\ \\mathrm{radian}$"
      ],
      "text/plain": [
       "0.2617993877991494 <Unit('radian')>"
      ]
     },
     "execution_count": 67,
     "metadata": {},
     "output_type": "execute_result"
    }
   ],
   "source": [
    "chamber_arc = (np.pi/num_chambers)*ureg.radian\n",
    "chamber_arc"
   ]
  },
  {
   "cell_type": "code",
   "execution_count": 68,
   "metadata": {},
   "outputs": [
    {
     "data": {
      "text/html": [
       "0.02007777715175923 meter<sup>3</sup>"
      ],
      "text/latex": [
       "$0.02007777715175923\\ \\mathrm{meter}^{3}$"
      ],
      "text/plain": [
       "0.02007777715175923 <Unit('meter ** 3')>"
      ]
     },
     "execution_count": 68,
     "metadata": {},
     "output_type": "execute_result"
    }
   ],
   "source": [
    "chamber_vol"
   ]
  },
  {
   "cell_type": "markdown",
   "metadata": {},
   "source": [
    "## Calculate chamber fill level vs RPM for various flow rates\n",
    "\n",
    "# move these cals to waterwheel performance section"
   ]
  },
  {
   "cell_type": "code",
   "execution_count": 69,
   "metadata": {},
   "outputs": [
    {
     "data": {
      "image/png": "[encoded data removed]",
      "text/plain": [
       "<Figure size 432x288 with 1 Axes>"
      ]
     },
     "metadata": {
      "needs_background": "light"
     },
     "output_type": "display_data"
    }
   ],
   "source": [
    "flow_rate = np.array([10,50,100,150,200,300])*ureg.gal/ureg.min # flow rate range in gallons per minute\n",
    "# convert to metric\n",
    "Q = flow_rate.to_base_units()\n",
    "\n",
    "wheel_revs_per_sec = np.linspace(2,10,100)*ureg.rpm\n",
    "omega = wheel_revs_per_sec.to_base_units()\n",
    "\n",
    "chamber_arc = (np.pi/num_chambers)*ureg.radian\n",
    "\n",
    "for i in range(len(Q)):\n",
    "    plt.plot(omega.to('rpm'),((Q[i]*(chamber_arc/omega))/chamber_vol).magnitude*100,label = 'Q={:s}'.format(f\"{Q[i].to('gal/min'):.0f~P}\"))\n",
    "\n",
    "plt.legend(bbox_to_anchor=(1.5, 1))\n",
    "plt.grid()\n",
    "\n",
    "#plt.ylim((0,10))\n",
    "plt.ylabel('chamber % full')\n",
    "plt.xlabel('waterwheel rpm')\n",
    "\n",
    "plt.title('title')\n",
    "plt.show()"
   ]
  },
  {
   "cell_type": "markdown",
   "metadata": {},
   "source": [
    "The chamber is not filling to a level needed to drvelop the torque required to \n",
    "\n",
    "The above doesn't seem to change with number of chambers, seems like it should"
   ]
  },
  {
   "cell_type": "code",
   "execution_count": 70,
   "metadata": {},
   "outputs": [
    {
     "data": {
      "text/html": [
       "0.20943951023931953 radian/second"
      ],
      "text/latex": [
       "$0.20943951023931953\\ \\frac{\\mathrm{radian}}{\\mathrm{second}}$"
      ],
      "text/plain": [
       "0.20943951023931953 <Unit('radian / second')>"
      ]
     },
     "execution_count": 70,
     "metadata": {},
     "output_type": "execute_result"
    }
   ],
   "source": [
    "omega[0]"
   ]
  },
  {
   "cell_type": "markdown",
   "metadata": {},
   "source": [
    "## Calculate torque vs rpm for various Q"
   ]
  },
  {
   "cell_type": "code",
   "execution_count": 71,
   "metadata": {},
   "outputs": [
    {
     "data": {
      "image/png": "[encoded data removed]",
      "text/plain": [
       "<Figure size 432x288 with 1 Axes>"
      ]
     },
     "metadata": {
      "needs_background": "light"
     },
     "output_type": "display_data"
    }
   ],
   "source": [
    "for i in range(len(Q)):\n",
    "    top_chamber_mass = rho*(Q[i]*(chamber_arc/omega))\n",
    "\n",
    "    tau = np.empty(0)\n",
    "    for j in range(len(omega)):\n",
    "        # based on mass in top chamber, proportion masses in other chambers\n",
    "        mass_per_chamber = top_chamber_mass[j]*np.linspace(1,0,num_chambers_in_play) \n",
    "        tau = np.append(tau,(mass_per_chamber*g*avg_water_radius*np.sin(theta)).sum())\n",
    "\n",
    "    tau_with_units = tau*ureg.kg*ureg.meter # putting units back in\n",
    "    plt.plot(omega.to('rpm'),tau_with_units.to('pound feet'),label='Q={:s}'.format(f\"{Q[i].to('gal/min'):.0f~P}\"))\n",
    "    #plt.plot(omega.to('rpm'),tau_with_units.to('foot * force_pound'),label='Q={:s}'.format(f\"{Q[i].to('gal/min'):.0f~P}\"))\n",
    "\n",
    "plt.legend(bbox_to_anchor=(1.5, 1))\n",
    "plt.grid()\n",
    "\n",
    "#plt.ylim((0,1))\n",
    "plt.ylabel('tau, ft·lb')\n",
    "plt.xlabel('waterwheel rpm')\n",
    "\n",
    "plt.title('title')\n",
    "plt.show()"
   ]
  },
  {
   "cell_type": "markdown",
   "metadata": {},
   "source": [
    "# these results need to be checked\n"
   ]
  },
  {
   "cell_type": "raw",
   "metadata": {},
   "source": [
    "gen_tau_max_pwr.to('foot * force_pound')"
   ]
  },
  {
   "cell_type": "markdown",
   "metadata": {},
   "source": [
    "## what is the centrifical force on the water\n",
    "Is the water just going to flung out of the chamber?\n",
    "\n",
    "The magnitude of centrifugal force F on an object of mass m at the distance r from the origin of a frame of reference rotating with angular velocity ω is:\n",
    "\n",
    "$F=m\\omega ^{2}/r$\n",
    "\n",
    "weight of water \n",
    "\n",
    "rho = 999.75*ureg.kg/(ureg.meter**3) # density of water at 50F or 10C, kg/m3\n",
    "\n",
    "https://www.omnicalculator.com/physics/centrifugal-force\n",
    "\n",
    "Follow these simple steps:\n",
    "\n",
    "Find the mass of the object - for example, 10 kg.\n",
    "Determine the radius of rotation. Let's assume it's 2 m.\n",
    "Determine the velocity of the object. It can be equal to 5 m/s. If you know the angular velocity only, you can use the formula v = ω ⋅ 2 ⋅ π ⋅ r to calculate the velocity.\n",
    "Use the centrifugal force equation: F = m v² / r. In our example, it will be equal to (10 kg) * (5 m/s)² / (2 m) = 125 kg⋅m/s² = 125 N.\n",
    "Or you can just input the data into our calculator instead :)\n",
    "\n"
   ]
  },
  {
   "cell_type": "code",
   "execution_count": 72,
   "metadata": {},
   "outputs": [
    {
     "data": {
      "text/html": [
       "8.377580409572781 radian/second"
      ],
      "text/latex": [
       "$8.377580409572781\\ \\frac{\\mathrm{radian}}{\\mathrm{second}}$"
      ],
      "text/plain": [
       "8.377580409572781 <Unit('radian / second')>"
      ]
     },
     "execution_count": 72,
     "metadata": {},
     "output_type": "execute_result"
    }
   ],
   "source": [
    "wheel_revs_per_sec = 80*ureg.rpm\n",
    "omega = wheel_revs_per_sec.to_base_units()\n",
    "omega"
   ]
  },
  {
   "cell_type": "code",
   "execution_count": 73,
   "metadata": {},
   "outputs": [],
   "source": [
    "w = 3 #8.3775804"
   ]
  },
  {
   "cell_type": "code",
   "execution_count": 74,
   "metadata": {},
   "outputs": [],
   "source": [
    "r = 1"
   ]
  },
  {
   "cell_type": "code",
   "execution_count": 75,
   "metadata": {},
   "outputs": [],
   "source": [
    "m = 1"
   ]
  },
  {
   "cell_type": "code",
   "execution_count": 76,
   "metadata": {},
   "outputs": [
    {
     "data": {
      "text/plain": [
       "9"
      ]
     },
     "execution_count": 76,
     "metadata": {},
     "output_type": "execute_result"
    }
   ],
   "source": [
    "m*r*w**2"
   ]
  },
  {
   "cell_type": "markdown",
   "metadata": {},
   "source": [
    "answer is in newtons, don't use radian and powers with unit calculations\n",
    "\n",
    "F = ma \n",
    "\n"
   ]
  },
  {
   "cell_type": "code",
   "execution_count": 77,
   "metadata": {},
   "outputs": [
    {
     "data": {
      "text/html": [
       "9.80665 meter/second<sup>2</sup>"
      ],
      "text/latex": [
       "$9.80665\\ \\frac{\\mathrm{meter}}{\\mathrm{second}^{2}}$"
      ],
      "text/plain": [
       "9.80665 <Unit('meter / second ** 2')>"
      ]
     },
     "execution_count": 77,
     "metadata": {},
     "output_type": "execute_result"
    }
   ],
   "source": [
    "g"
   ]
  },
  {
   "cell_type": "markdown",
   "metadata": {},
   "source": [
    "70 is greater than g, so water will be flung out"
   ]
  },
  {
   "cell_type": "code",
   "execution_count": 78,
   "metadata": {},
   "outputs": [
    {
     "data": {
      "text/html": [
       "28.64788975654116 revolutions_per_minute"
      ],
      "text/latex": [
       "$28.64788975654116\\ \\mathrm{revolutions_per_minute}$"
      ],
      "text/plain": [
       "28.64788975654116 <Unit('revolutions_per_minute')>"
      ]
     },
     "execution_count": 78,
     "metadata": {},
     "output_type": "execute_result"
    }
   ],
   "source": [
    "(3*ureg.radian/ureg.sec).to('rpm')"
   ]
  },
  {
   "cell_type": "code",
   "execution_count": null,
   "metadata": {},
   "outputs": [],
   "source": []
  },
  {
   "cell_type": "code",
   "execution_count": null,
   "metadata": {},
   "outputs": [],
   "source": []
  },
  {
   "cell_type": "raw",
   "metadata": {},
   "source": [
    "(m*v**2/r).to('newton')"
   ]
  },
  {
   "cell_type": "code",
   "execution_count": null,
   "metadata": {},
   "outputs": [],
   "source": []
  },
  {
   "cell_type": "code",
   "execution_count": 80,
   "metadata": {},
   "outputs": [
    {
     "data": {
      "text/html": [
       "4.9999703718943 meter/second"
      ],
      "text/latex": [
       "$4.9999703718943\\ \\frac{\\mathrm{meter}}{\\mathrm{second}}$"
      ],
      "text/plain": [
       "4.9999703718943 <Unit('meter / second')>"
      ]
     },
     "execution_count": 80,
     "metadata": {},
     "output_type": "execute_result"
    }
   ],
   "source": [
    "v = (0.79577*2*np.pi)*ureg.meter/ureg.sec\n",
    "v"
   ]
  },
  {
   "cell_type": "code",
   "execution_count": 81,
   "metadata": {},
   "outputs": [
    {
     "data": {
      "text/html": [
       "2 meter"
      ],
      "text/latex": [
       "$2\\ \\mathrm{meter}$"
      ],
      "text/plain": [
       "2 <Unit('meter')>"
      ]
     },
     "execution_count": 81,
     "metadata": {},
     "output_type": "execute_result"
    }
   ],
   "source": [
    "r = 2*ureg.meter\n",
    "r"
   ]
  },
  {
   "cell_type": "code",
   "execution_count": 82,
   "metadata": {},
   "outputs": [
    {
     "data": {
      "text/html": [
       "10 kilogram"
      ],
      "text/latex": [
       "$10\\ \\mathrm{kilogram}$"
      ],
      "text/plain": [
       "10 <Unit('kilogram')>"
      ]
     },
     "execution_count": 82,
     "metadata": {},
     "output_type": "execute_result"
    }
   ],
   "source": [
    "m = 10*ureg.kg\n",
    "m"
   ]
  },
  {
   "cell_type": "code",
   "execution_count": 83,
   "metadata": {},
   "outputs": [
    {
     "data": {
      "text/html": [
       "124.9985185991041 kilogram meter/second<sup>2</sup>"
      ],
      "text/latex": [
       "$124.9985185991041\\ \\frac{\\mathrm{kilogram} \\cdot \\mathrm{meter}}{\\mathrm{second}^{2}}$"
      ],
      "text/plain": [
       "124.9985185991041 <Unit('kilogram * meter / second ** 2')>"
      ]
     },
     "execution_count": 83,
     "metadata": {},
     "output_type": "execute_result"
    }
   ],
   "source": [
    "m*v**2/r"
   ]
  },
  {
   "cell_type": "code",
   "execution_count": 84,
   "metadata": {},
   "outputs": [
    {
     "data": {
      "text/html": [
       "124.9985185991041 kilogram meter/second<sup>2</sup>"
      ],
      "text/latex": [
       "$124.9985185991041\\ \\frac{\\mathrm{kilogram} \\cdot \\mathrm{meter}}{\\mathrm{second}^{2}}$"
      ],
      "text/plain": [
       "124.9985185991041 <Unit('kilogram * meter / second ** 2')>"
      ]
     },
     "execution_count": 84,
     "metadata": {},
     "output_type": "execute_result"
    }
   ],
   "source": [
    "(m*v**2/r).to_base_units()"
   ]
  },
  {
   "cell_type": "code",
   "execution_count": 85,
   "metadata": {},
   "outputs": [
    {
     "data": {
      "text/html": [
       "124.9985185991041 newton"
      ],
      "text/latex": [
       "$124.9985185991041\\ \\mathrm{newton}$"
      ],
      "text/plain": [
       "124.9985185991041 <Unit('newton')>"
      ]
     },
     "execution_count": 85,
     "metadata": {},
     "output_type": "execute_result"
    }
   ],
   "source": [
    "(m*v**2/r).to('newton')"
   ]
  },
  {
   "cell_type": "code",
   "execution_count": null,
   "metadata": {},
   "outputs": [],
   "source": []
  },
  {
   "cell_type": "markdown",
   "metadata": {},
   "source": [
    "## Waterwheel performance calculations\n",
    "\n",
    "need a new outline for this section \n",
    "\n",
    "not doing a bucket design\n",
    "\n",
    "water wheel dimentions\n",
    "\n",
    "\n",
    "stalled torque: \n",
    "unloaded speed: function of Q, friction, bucket design, \n",
    "loaded speed: function of power extracted from wheel\n",
    "\n",
    "Power is the work per unit time, given by\n",
    "\n",
    "$P=\\tau \\cdot \\omega$\n",
    "\n",
    "\n",
    "where P is power, τ is torque, ω is the angular velocity, represents the scalar product.\n",
    "\n",
    "gravational torque vs rpm and Q\n",
    "\n",
    "impulsive torque vs rpm and Q\n",
    "\n",
    "total torque vs rpm and Q\n",
    "\n",
    "power vs rpm  and Q\n",
    "\n",
    "\n",
    "The overshot waterwheel derives its name from the\n",
    "manner in which it is activated by the water. From a\n",
    "flume mounted above the wheel, water pours into\n",
    "operates by gravity. The water filled buckets on the\n",
    "downward side of the wheel over balance the empty\n",
    "buckets on the opposite side and keep the wheel\n",
    "moving slowly. Overshot waterwheels are relatively\n",
    "efficient mechanically and are easily maintained.\n",
    "Their slow speed and high torque make them a good\n",
    "choice to operate for other purposes [5].\n",
    "\n",
    "\n",
    "CALCULATION OF VELOCITY HEAD  \n",
    "The velocity head is a basic concept of fluid engineering that represents the bulk motion, i.e. the kinetic energy, of the fluid. It can also be converted into the pressure that the fluid would gain were it to be stopped without any energy loss. This pressure can be calculated following the method in this article: Converting Between Head and Pressure\n",
    "\n",
    "The velocity head forms the basis of other fluid engineering methods, such as the K-value method of describing pressure loss through fittings.\n",
    "\n",
    "The velocity head of the flowing system is calculated using the relationship below.\n",
    "\n",
    "$h = \\frac{V^2}{2g}$\n",
    "\n",
    "https://neutrium.net/fluid-flow/velocity-head/\n",
    "\n",
    "ref\n",
    "1. may be some useful info in this paper: Design of a low-tech water wheel for the electrical power supply in Nepal\n",
    "/home/jim/Downloads/Water wheel design/1521044.pdf\n",
    "\n",
    "2. Older scanned paper: some useful info /home/jim/Downloads/Water wheel design/232.6-75DE.pdf\n",
    "\n",
    "3. see the design equations in this paper. Bucket Design of Water Wheel for Electricity Generation, /home/jim/Downloads/Water wheel design/1700797.pdf"
   ]
  },
  {
   "cell_type": "markdown",
   "metadata": {},
   "source": [
    "The torque is applied solely from the gravitational\n",
    "potential energy of the water. There will be\n",
    "assumption that these buckets at angle θ, where 0 < θ\n",
    "≤ θ1 , are filled with water and that all the others are\n",
    "empty. There are n buckets each occupying an angle\n",
    "δθ around the rim. So equation become"
   ]
  },
  {
   "cell_type": "code",
   "execution_count": null,
   "metadata": {},
   "outputs": [],
   "source": []
  },
  {
   "cell_type": "markdown",
   "metadata": {},
   "source": [
    "CALCULATION OF VELOCITY HEAD  \n",
    "The velocity head is a basic concept of fluid engineering that represents the bulk motion, i.e. the kinetic energy, of the fluid. It can also be converted into the pressure that the fluid would gain were it to be stopped without any energy loss. This pressure can be calculated following the method in this article: Converting Between Head and Pressure\n",
    "\n",
    "The velocity head forms the basis of other fluid engineering methods, such as the K-value method of describing pressure loss through fittings.\n",
    "\n",
    "The velocity head of the flowing system is calculated using the relationship below.\n",
    "\n",
    "$h = \\frac{V^2}{2g}$\n",
    "\n",
    "https://neutrium.net/fluid-flow/velocity-head/\n"
   ]
  },
  {
   "cell_type": "code",
   "execution_count": null,
   "metadata": {},
   "outputs": [],
   "source": []
  },
  {
   "cell_type": "markdown",
   "metadata": {},
   "source": [
    "### Need to look at flow rate vs rotation speed vs chamber fill level. "
   ]
  },
  {
   "cell_type": "code",
   "execution_count": 86,
   "metadata": {},
   "outputs": [
    {
     "data": {
      "text/html": [
       "0.02007777715175923 meter<sup>3</sup>"
      ],
      "text/latex": [
       "$0.02007777715175923\\ \\mathrm{meter}^{3}$"
      ],
      "text/plain": [
       "0.02007777715175923 <Unit('meter ** 3')>"
      ]
     },
     "execution_count": 86,
     "metadata": {},
     "output_type": "execute_result"
    }
   ],
   "source": [
    "chamber_vol"
   ]
  },
  {
   "cell_type": "code",
   "execution_count": 87,
   "metadata": {},
   "outputs": [
    {
     "data": {
      "text/html": [
       "5.303987596969778 gallon"
      ],
      "text/latex": [
       "$5.303987596969778\\ \\mathrm{gallon}$"
      ],
      "text/plain": [
       "5.303987596969778 <Unit('gallon')>"
      ]
     },
     "execution_count": 87,
     "metadata": {},
     "output_type": "execute_result"
    }
   ],
   "source": [
    "chamber_vol.to('gal')"
   ]
  },
  {
   "cell_type": "code",
   "execution_count": 88,
   "metadata": {},
   "outputs": [
    {
     "data": {
      "text/html": [
       "\\[\\begin{pmatrix}0.000630901964 & 0.0031545098199999995 & 0.006309019639999999 & 0.009463529459999998 & 0.012618039279999998 & 0.018927058919999996\\end{pmatrix} meter<sup>3</sup>/second\\]"
      ],
      "text/latex": [
       "$\\begin{pmatrix}0.000630901964 & 0.0031545098199999995 & 0.006309019639999999 & 0.009463529459999998 & 0.012618039279999998 & 0.018927058919999996\\end{pmatrix}\\ \\frac{\\mathrm{meter}^{3}}{\\mathrm{second}}$"
      ],
      "text/plain": [
       "array([0.0006309 , 0.00315451, 0.00630902, 0.00946353, 0.01261804,\n",
       "       0.01892706]) <Unit('meter ** 3 / second')>"
      ]
     },
     "execution_count": 88,
     "metadata": {},
     "output_type": "execute_result"
    }
   ],
   "source": [
    "Q"
   ]
  },
  {
   "cell_type": "code",
   "execution_count": 89,
   "metadata": {},
   "outputs": [
    {
     "data": {
      "text/html": [
       "\\[\\begin{pmatrix}31.823925581818656 & 6.3647851163637315 & 3.1823925581818657 & 2.121595038787911 & 1.5911962790909329 & 1.0607975193939554\\end{pmatrix} second\\]"
      ],
      "text/latex": [
       "$\\begin{pmatrix}31.823925581818656 & 6.3647851163637315 & 3.1823925581818657 & 2.121595038787911 & 1.5911962790909329 & 1.0607975193939554\\end{pmatrix}\\ \\mathrm{second}$"
      ],
      "text/plain": [
       "array([31.82392558,  6.36478512,  3.18239256,  2.12159504,  1.59119628,\n",
       "        1.06079752]) <Unit('second')>"
      ]
     },
     "execution_count": 89,
     "metadata": {},
     "output_type": "execute_result"
    }
   ],
   "source": [
    "chamber_vol/Q # time to fill the chamber"
   ]
  },
  {
   "cell_type": "code",
   "execution_count": 90,
   "metadata": {},
   "outputs": [
    {
     "data": {
      "text/plain": [
       "12"
      ]
     },
     "execution_count": 90,
     "metadata": {},
     "output_type": "execute_result"
    }
   ],
   "source": [
    "num_chambers"
   ]
  },
  {
   "cell_type": "code",
   "execution_count": 91,
   "metadata": {},
   "outputs": [
    {
     "data": {
      "text/html": [
       "\\[\\begin{pmatrix}10.000000000000004 & 50.00000000000001 & 100.00000000000001 & 150.00000000000003 & 200.00000000000003 & 300.00000000000006\\end{pmatrix} gallon/minute\\]"
      ],
      "text/latex": [
       "$\\begin{pmatrix}10.000000000000004 & 50.00000000000001 & 100.00000000000001 & 150.00000000000003 & 200.00000000000003 & 300.00000000000006\\end{pmatrix}\\ \\frac{\\mathrm{gallon}}{\\mathrm{minute}}$"
      ],
      "text/plain": [
       "array([ 10.,  50., 100., 150., 200., 300.]) <Unit('gallon / minute')>"
      ]
     },
     "execution_count": 91,
     "metadata": {},
     "output_type": "execute_result"
    }
   ],
   "source": [
    "Q.to('gal/min')"
   ]
  },
  {
   "cell_type": "code",
   "execution_count": 92,
   "metadata": {},
   "outputs": [
    {
     "data": {
      "text/html": [
       "\\[\\begin{pmatrix}0.1666666666666667 & 0.8333333333333335 & 1.666666666666667 & 2.5000000000000004 & 3.333333333333334 & 5.000000000000001\\end{pmatrix} gallon/second\\]"
      ],
      "text/latex": [
       "$\\begin{pmatrix}0.1666666666666667 & 0.8333333333333335 & 1.666666666666667 & 2.5000000000000004 & 3.333333333333334 & 5.000000000000001\\end{pmatrix}\\ \\frac{\\mathrm{gallon}}{\\mathrm{second}}$"
      ],
      "text/plain": [
       "array([0.16666667, 0.83333333, 1.66666667, 2.5       , 3.33333333,\n",
       "       5.        ]) <Unit('gallon / second')>"
      ]
     },
     "execution_count": 92,
     "metadata": {},
     "output_type": "execute_result"
    }
   ],
   "source": [
    "Q.to('gal/sec')"
   ]
  },
  {
   "cell_type": "markdown",
   "metadata": {},
   "source": [
    "### given an rpm, find time to rotate one chamber position\n",
    "\n",
    "radian, revolution,  \n",
    "revolutions_per_minute = revolution / minute = rpm  \n",
    "revolutions_per_second = revolution / second = rps  "
   ]
  },
  {
   "cell_type": "code",
   "execution_count": 93,
   "metadata": {},
   "outputs": [],
   "source": [
    "wheel_revs_per_sec = 10*ureg.rpm\n",
    "omega = wheel_revs_per_sec.to_base_units()"
   ]
  },
  {
   "cell_type": "code",
   "execution_count": 94,
   "metadata": {},
   "outputs": [
    {
     "data": {
      "text/html": [
       "0.2617993877991494 radian"
      ],
      "text/latex": [
       "$0.2617993877991494\\ \\mathrm{radian}$"
      ],
      "text/plain": [
       "0.2617993877991494 <Unit('radian')>"
      ]
     },
     "execution_count": 94,
     "metadata": {},
     "output_type": "execute_result"
    }
   ],
   "source": [
    "chamber_arc = (np.pi/num_chambers)*ureg.radian\n",
    "chamber_arc"
   ]
  },
  {
   "cell_type": "code",
   "execution_count": 95,
   "metadata": {},
   "outputs": [
    {
     "data": {
      "text/html": [
       "0.25 second"
      ],
      "text/latex": [
       "$0.25\\ \\mathrm{second}$"
      ],
      "text/plain": [
       "0.25 <Unit('second')>"
      ]
     },
     "execution_count": 95,
     "metadata": {},
     "output_type": "execute_result"
    }
   ],
   "source": [
    "chamber_arc/omega"
   ]
  },
  {
   "cell_type": "code",
   "execution_count": 96,
   "metadata": {},
   "outputs": [
    {
     "data": {
      "text/html": [
       "\\[\\begin{pmatrix}0.000630901964 & 0.0031545098199999995 & 0.006309019639999999 & 0.009463529459999998 & 0.012618039279999998 & 0.018927058919999996\\end{pmatrix} meter<sup>3</sup>/second\\]"
      ],
      "text/latex": [
       "$\\begin{pmatrix}0.000630901964 & 0.0031545098199999995 & 0.006309019639999999 & 0.009463529459999998 & 0.012618039279999998 & 0.018927058919999996\\end{pmatrix}\\ \\frac{\\mathrm{meter}^{3}}{\\mathrm{second}}$"
      ],
      "text/plain": [
       "array([0.0006309 , 0.00315451, 0.00630902, 0.00946353, 0.01261804,\n",
       "       0.01892706]) <Unit('meter ** 3 / second')>"
      ]
     },
     "execution_count": 96,
     "metadata": {},
     "output_type": "execute_result"
    }
   ],
   "source": [
    "Q"
   ]
  },
  {
   "cell_type": "code",
   "execution_count": 97,
   "metadata": {},
   "outputs": [
    {
     "data": {
      "text/html": [
       "\\[\\begin{pmatrix}0.000157725491 & 0.0007886274549999999 & 0.0015772549099999998 & 0.0023658823649999996 & 0.0031545098199999995 & 0.004731764729999999\\end{pmatrix} meter<sup>3</sup>\\]"
      ],
      "text/latex": [
       "$\\begin{pmatrix}0.000157725491 & 0.0007886274549999999 & 0.0015772549099999998 & 0.0023658823649999996 & 0.0031545098199999995 & 0.004731764729999999\\end{pmatrix}\\ \\mathrm{meter}^{3}$"
      ],
      "text/plain": [
       "array([0.00015773, 0.00078863, 0.00157725, 0.00236588, 0.00315451,\n",
       "       0.00473176]) <Unit('meter ** 3')>"
      ]
     },
     "execution_count": 97,
     "metadata": {},
     "output_type": "execute_result"
    }
   ],
   "source": [
    "Q*(chamber_arc/omega)"
   ]
  },
  {
   "cell_type": "code",
   "execution_count": 98,
   "metadata": {},
   "outputs": [
    {
     "data": {
      "text/html": [
       "\\[\\begin{pmatrix}0.7855724755176893 & 3.927862377588446 & 7.855724755176892 & 11.783587132765337 & 15.711449510353784 & 23.567174265530674\\end{pmatrix} dimensionless\\]"
      ],
      "text/latex": [
       "$\\begin{pmatrix}0.7855724755176893 & 3.927862377588446 & 7.855724755176892 & 11.783587132765337 & 15.711449510353784 & 23.567174265530674\\end{pmatrix}\\ dimensionless$"
      ],
      "text/plain": [
       "array([ 0.78557248,  3.92786238,  7.85572476, 11.78358713, 15.71144951,\n",
       "       23.56717427]) <Unit('dimensionless')>"
      ]
     },
     "execution_count": 98,
     "metadata": {},
     "output_type": "execute_result"
    }
   ],
   "source": [
    "# percent chamber fill level\n",
    "(Q*(chamber_arc/omega))/chamber_vol*100"
   ]
  },
  {
   "cell_type": "code",
   "execution_count": 99,
   "metadata": {},
   "outputs": [
    {
     "data": {
      "text/html": [
       "\\[\\begin{pmatrix}0.04166666666666668 & 0.20833333333333337 & 0.41666666666666674 & 0.6250000000000001 & 0.8333333333333335 & 1.2500000000000002\\end{pmatrix} gallon\\]"
      ],
      "text/latex": [
       "$\\begin{pmatrix}0.04166666666666668 & 0.20833333333333337 & 0.41666666666666674 & 0.6250000000000001 & 0.8333333333333335 & 1.2500000000000002\\end{pmatrix}\\ \\mathrm{gallon}$"
      ],
      "text/plain": [
       "array([0.04166667, 0.20833333, 0.41666667, 0.625     , 0.83333333,\n",
       "       1.25      ]) <Unit('gallon')>"
      ]
     },
     "execution_count": 99,
     "metadata": {},
     "output_type": "execute_result"
    }
   ],
   "source": [
    "(Q*(chamber_arc/omega)).to('gal')"
   ]
  },
  {
   "cell_type": "code",
   "execution_count": null,
   "metadata": {},
   "outputs": [],
   "source": []
  },
  {
   "cell_type": "code",
   "execution_count": null,
   "metadata": {},
   "outputs": [],
   "source": []
  },
  {
   "cell_type": "code",
   "execution_count": 100,
   "metadata": {},
   "outputs": [
    {
     "data": {
      "image/png": "[encoded data removed]",
      "text/plain": [
       "<Figure size 432x288 with 1 Axes>"
      ]
     },
     "metadata": {
      "needs_background": "light"
     },
     "output_type": "display_data"
    }
   ],
   "source": [
    "flow_rate = np.array([10,50,100,150,200,300])*ureg.gal/ureg.min # flow rate range in gallons per minute\n",
    "# convert to metric\n",
    "Q = flow_rate.to_base_units()\n",
    "\n",
    "wheel_revs_per_sec = np.linspace(5,100,100)*ureg.rpm\n",
    "omega = wheel_revs_per_sec.to_base_units()\n",
    "\n",
    "chamber_arc = (np.pi/num_chambers)*ureg.radian\n",
    "\n",
    "for i in range(len(Q)):\n",
    "    plt.plot(omega.to('rpm').magnitude,((Q[i]*(chamber_arc/omega))/chamber_vol).magnitude*100,label = 'Q={:s}'.format(f\"{Q[i].to('gal/min'):.3f~P}\"))\n",
    "\n",
    "plt.legend(bbox_to_anchor=(1.3, 1))\n",
    "plt.grid()\n",
    "\n",
    "#plt.ylim((0,1))\n",
    "plt.ylabel('chamber % full')\n",
    "plt.xlabel('rpm')\n",
    "\n",
    "plt.title('title')\n",
    "plt.show()"
   ]
  },
  {
   "cell_type": "code",
   "execution_count": null,
   "metadata": {},
   "outputs": [],
   "source": []
  },
  {
   "cell_type": "markdown",
   "metadata": {},
   "source": [
    "### use flume velocity, plot rpm and power\n",
    "\n",
    "\n",
    "plot Q, rpm to have constant chamber fill level\n",
    "maybe 50% chamber fill level is optimum??"
   ]
  },
  {
   "cell_type": "code",
   "execution_count": 101,
   "metadata": {},
   "outputs": [],
   "source": [
    "flow_rate = 150*ureg.gal/ureg.min\n",
    "Q = flow_rate.to_base_units()"
   ]
  },
  {
   "cell_type": "code",
   "execution_count": 102,
   "metadata": {},
   "outputs": [],
   "source": [
    "#wheel_revs_per_sec = np.linspace(1.2,10,20)*ureg.rpm\n",
    "wheel_revs_per_sec = 10*ureg.rpm\n",
    "omega = wheel_revs_per_sec.to_base_units()"
   ]
  },
  {
   "cell_type": "code",
   "execution_count": 103,
   "metadata": {},
   "outputs": [
    {
     "data": {
      "text/html": [
       "11.783587132765337 dimensionless"
      ],
      "text/latex": [
       "$11.783587132765337\\ dimensionless$"
      ],
      "text/plain": [
       "11.783587132765337 <Unit('dimensionless')>"
      ]
     },
     "execution_count": 103,
     "metadata": {},
     "output_type": "execute_result"
    }
   ],
   "source": [
    "# percent chamber fill level\n",
    "(Q*(chamber_arc/omega))/chamber_vol*100"
   ]
  },
  {
   "cell_type": "code",
   "execution_count": 104,
   "metadata": {},
   "outputs": [],
   "source": [
    "# solve omega for Q and 50%\n",
    "#(Q*(chamber_arc/omega))/chamber_vol*100 = 50"
   ]
  },
  {
   "cell_type": "code",
   "execution_count": 105,
   "metadata": {},
   "outputs": [
    {
     "data": {
      "text/html": [
       "0.24679487179487192 radian/second"
      ],
      "text/latex": [
       "$0.24679487179487192\\ \\frac{\\mathrm{radian}}{\\mathrm{second}}$"
      ],
      "text/plain": [
       "0.24679487179487192 <Unit('radian / second')>"
      ]
     },
     "execution_count": 105,
     "metadata": {},
     "output_type": "execute_result"
    }
   ],
   "source": [
    "1/(0.50*chamber_vol/Q/chamber_arc)"
   ]
  },
  {
   "cell_type": "code",
   "execution_count": null,
   "metadata": {},
   "outputs": [],
   "source": []
  },
  {
   "cell_type": "code",
   "execution_count": null,
   "metadata": {},
   "outputs": [],
   "source": []
  },
  {
   "cell_type": "code",
   "execution_count": null,
   "metadata": {},
   "outputs": [],
   "source": []
  },
  {
   "cell_type": "markdown",
   "metadata": {},
   "source": [
    "### power given Torque and RPM at a given Q\n",
    "\n",
    "the rpm will determin water level in bucket and torque"
   ]
  },
  {
   "cell_type": "code",
   "execution_count": 106,
   "metadata": {},
   "outputs": [
    {
     "data": {
      "text/html": [
       "0.009463529459999998 meter<sup>3</sup>/second"
      ],
      "text/latex": [
       "$0.009463529459999998\\ \\frac{\\mathrm{meter}^{3}}{\\mathrm{second}}$"
      ],
      "text/plain": [
       "0.009463529459999998 <Unit('meter ** 3 / second')>"
      ]
     },
     "execution_count": 106,
     "metadata": {},
     "output_type": "execute_result"
    }
   ],
   "source": [
    "flow_rate = 150*ureg.gal/ureg.min\n",
    "Q = flow_rate.to_base_units()\n",
    "Q"
   ]
  },
  {
   "cell_type": "code",
   "execution_count": 107,
   "metadata": {},
   "outputs": [
    {
     "data": {
      "image/png": "[encoded data removed]",
      "text/plain": [
       "<Figure size 432x288 with 1 Axes>"
      ]
     },
     "metadata": {
      "needs_background": "light"
     },
     "output_type": "display_data"
    }
   ],
   "source": [
    "wheel_revs_per_sec = np.linspace(1.2,10,20)*ureg.rpm\n",
    "omega = wheel_revs_per_sec.to_base_units()\n",
    "\n",
    "tau = np.zeros(len(omega))\n",
    "P = np.zeros(len(omega))\n",
    "chamber_level = np.zeros(len(omega))\n",
    "\n",
    "for i in range(len(omega)):\n",
    "\n",
    "    mass_per_top_chamber = rho*(Q*(chamber_arc/omega[i]))\n",
    "    mass_per_chamber = mass_per_top_chamber*np.linspace(1,0,num_chambers_in_play) # only do first value in series\n",
    "    tau[i] = (mass_per_chamber*g*avg_water_radius*np.sin(theta)).sum().magnitude # sum of torques from each chamber\n",
    "    P[i] = (tau[i]*omega[i]).magnitude\n",
    "    chamber_level[i] = ((Q*(chamber_arc/omega[i]))/chamber_vol).magnitude*100 # percent chamber fill level\n",
    "\n",
    "plt.plot(omega.to('rpm').magnitude,tau,label = 'tau')\n",
    "#plt.plot(omega.magnitude,tau,label = 'tau')\n",
    "plt.plot(omega.to('rpm').magnitude,P,label = 'P')\n",
    "plt.plot(omega.to('rpm').magnitude,chamber_level,label = 'level')\n",
    "\n",
    "plt.legend(bbox_to_anchor=(1.3, 1))\n",
    "plt.grid()\n",
    "\n",
    "#plt.ylim((0,1))\n",
    "plt.ylabel('various')\n",
    "plt.xlabel('rpm or omega')\n",
    "\n",
    "plt.title('title')\n",
    "plt.show()"
   ]
  },
  {
   "cell_type": "code",
   "execution_count": null,
   "metadata": {},
   "outputs": [],
   "source": []
  },
  {
   "cell_type": "code",
   "execution_count": 108,
   "metadata": {},
   "outputs": [
    {
     "data": {
      "text/plain": [
       "array([545.94344   , 393.90855797, 308.10669386, 252.99817951,\n",
       "       214.61224883, 186.33997653, 164.64960889, 147.48235109,\n",
       "       133.55697888, 122.034416  , 112.34215191, 104.07617418,\n",
       "        96.94322766,  90.72529469,  85.25692077,  80.41027411,\n",
       "        76.08502709,  72.20133661,  68.69486993,  65.5132128 ])"
      ]
     },
     "execution_count": 108,
     "metadata": {},
     "output_type": "execute_result"
    }
   ],
   "source": [
    "tau"
   ]
  },
  {
   "cell_type": "code",
   "execution_count": 109,
   "metadata": {},
   "outputs": [
    {
     "data": {
      "text/plain": [
       "array([0.12566371, 0.17416549, 0.22266727, 0.27116905, 0.31967083,\n",
       "       0.36817261, 0.41667439, 0.46517618, 0.51367796, 0.56217974,\n",
       "       0.61068152, 0.6591833 , 0.70768508, 0.75618686, 0.80468864,\n",
       "       0.85319043, 0.90169221, 0.95019399, 0.99869577, 1.04719755])"
      ]
     },
     "execution_count": 109,
     "metadata": {},
     "output_type": "execute_result"
    }
   ],
   "source": [
    "omega.magnitude"
   ]
  },
  {
   "cell_type": "code",
   "execution_count": 110,
   "metadata": {},
   "outputs": [
    {
     "data": {
      "text/plain": [
       "array([68.60527601, 68.60527601, 68.60527601, 68.60527601, 68.60527601,\n",
       "       68.60527601, 68.60527601, 68.60527601, 68.60527601, 68.60527601,\n",
       "       68.60527601, 68.60527601, 68.60527601, 68.60527601, 68.60527601,\n",
       "       68.60527601, 68.60527601, 68.60527601, 68.60527601, 68.60527601])"
      ]
     },
     "execution_count": 110,
     "metadata": {},
     "output_type": "execute_result"
    }
   ],
   "source": [
    "tau*omega.magnitude"
   ]
  },
  {
   "cell_type": "markdown",
   "metadata": {},
   "source": [
    "## equation 8, of /home/jim/Downloads/Water wheel design/1700797.pdf"
   ]
  },
  {
   "cell_type": "code",
   "execution_count": 111,
   "metadata": {},
   "outputs": [],
   "source": [
    "g = 9.80665*ureg.meter/(ureg.sec**2)\n",
    "rho = 999.75*ureg.kg/(ureg.meter**3) # density of water at 50F or 10C, kg/m3"
   ]
  },
  {
   "cell_type": "code",
   "execution_count": 112,
   "metadata": {},
   "outputs": [
    {
     "name": "stdout",
     "output_type": "stream",
     "text": [
      "flow rate: 10.0 gal/min\n",
      "flow rate: 0.0006 m³/s\n"
     ]
    }
   ],
   "source": [
    "flow_rate = 10*ureg.gal/(1*ureg.min)\n",
    "print('flow rate: {:s}'.format(f\"{flow_rate:.1f~P}\"))\n",
    "\n",
    "Q = flow_rate.to_base_units()\n",
    "print('flow rate: {:s}'.format(f\"{Q:.4f~P}\"))"
   ]
  },
  {
   "cell_type": "code",
   "execution_count": 113,
   "metadata": {},
   "outputs": [
    {
     "data": {
      "text/html": [
       "0.000630901964 meter<sup>3</sup>/second"
      ],
      "text/latex": [
       "$0.000630901964\\ \\frac{\\mathrm{meter}^{3}}{\\mathrm{second}}$"
      ],
      "text/plain": [
       "0.000630901964 <Unit('meter ** 3 / second')>"
      ]
     },
     "execution_count": 113,
     "metadata": {},
     "output_type": "execute_result"
    }
   ],
   "source": [
    "Q"
   ]
  },
  {
   "cell_type": "code",
   "execution_count": 114,
   "metadata": {},
   "outputs": [],
   "source": [
    "R = 7*ureg.feet # wheel dia\n",
    "R.ito_base_units()"
   ]
  },
  {
   "cell_type": "code",
   "execution_count": 115,
   "metadata": {},
   "outputs": [
    {
     "data": {
      "text/html": [
       "2.1335999999999995 meter"
      ],
      "text/latex": [
       "$2.1335999999999995\\ \\mathrm{meter}$"
      ],
      "text/plain": [
       "2.1335999999999995 <Unit('meter')>"
      ]
     },
     "execution_count": 115,
     "metadata": {},
     "output_type": "execute_result"
    }
   ],
   "source": [
    "R"
   ]
  },
  {
   "cell_type": "code",
   "execution_count": 116,
   "metadata": {},
   "outputs": [
    {
     "data": {
      "text/html": [
       "21.0 kilogram meter<sup>2</sup>/second<sup>2</sup>"
      ],
      "text/latex": [
       "$21.0\\ \\frac{\\mathrm{kilogram} \\cdot \\mathrm{meter}^{2}}{\\mathrm{second}^{2}}$"
      ],
      "text/plain": [
       "21.0 <Unit('kilogram * meter ** 2 / second ** 2')>"
      ]
     },
     "execution_count": 116,
     "metadata": {},
     "output_type": "execute_result"
    }
   ],
   "source": [
    "tau1 = (21*ureg.kg*ureg.meter**2)/ureg.sec**2 # kg·m²/s² # torque due to load\n",
    "tau1"
   ]
  },
  {
   "cell_type": "code",
   "execution_count": 117,
   "metadata": {},
   "outputs": [
    {
     "data": {
      "text/plain": [
       "2.356194490192345"
      ]
     },
     "execution_count": 117,
     "metadata": {},
     "output_type": "execute_result"
    }
   ],
   "source": [
    "theta1 = 135*np.pi/180 # water release angle\n",
    "theta1"
   ]
  },
  {
   "cell_type": "code",
   "execution_count": 118,
   "metadata": {},
   "outputs": [
    {
     "data": {
      "text/html": [
       "1.0728237102618146 1/second"
      ],
      "text/latex": [
       "$1.0728237102618146\\ \\frac{1}{\\mathrm{second}}$"
      ],
      "text/plain": [
       "1.0728237102618146 <Unit('1 / second')>"
      ]
     },
     "execution_count": 118,
     "metadata": {},
     "output_type": "execute_result"
    }
   ],
   "source": [
    "# equation 8, of /home/jim/Downloads/Water wheel design/1700797.pdf\n",
    "(rho*g*Q*R*(1-np.cos(theta1))/tau1)"
   ]
  },
  {
   "cell_type": "code",
   "execution_count": 119,
   "metadata": {},
   "outputs": [
    {
     "data": {
      "text/html": [
       "10.244711793261308 revolutions_per_minute"
      ],
      "text/latex": [
       "$10.244711793261308\\ \\mathrm{revolutions_per_minute}$"
      ],
      "text/plain": [
       "10.244711793261308 <Unit('revolutions_per_minute')>"
      ]
     },
     "execution_count": 119,
     "metadata": {},
     "output_type": "execute_result"
    }
   ],
   "source": [
    "(rho*g*Q*R*(1-np.cos(theta1))/tau1).to('rpm')"
   ]
  },
  {
   "cell_type": "code",
   "execution_count": 120,
   "metadata": {},
   "outputs": [
    {
     "data": {
      "text/html": [
       "1.0728237102618146 radian/second"
      ],
      "text/latex": [
       "$1.0728237102618146\\ \\frac{\\mathrm{radian}}{\\mathrm{second}}$"
      ],
      "text/plain": [
       "1.0728237102618146 <Unit('radian / second')>"
      ]
     },
     "execution_count": 120,
     "metadata": {},
     "output_type": "execute_result"
    }
   ],
   "source": [
    "(rho*g*Q*R*(1-np.cos(theta1))/tau1).to('radians/sec')"
   ]
  },
  {
   "cell_type": "markdown",
   "metadata": {},
   "source": [
    "### Plot omega vs tau for various Qs"
   ]
  },
  {
   "cell_type": "code",
   "execution_count": 130,
   "metadata": {},
   "outputs": [
    {
     "data": {
      "image/png": "[encoded data removed]",
      "text/plain": [
       "<Figure size 432x288 with 1 Axes>"
      ]
     },
     "metadata": {
      "needs_background": "light"
     },
     "output_type": "display_data"
    }
   ],
   "source": [
    "tau1 = (np.linspace(1,100,100)*ureg.kg*ureg.meter**2)/ureg.sec**2\n",
    "\n",
    "flow_rate = np.linspace(10,150,5)*ureg.gal/ureg.min # flow rate range in gallons per minute\n",
    "Q = flow_rate.to_base_units()\n",
    "\n",
    "for i in range(len(Q)):\n",
    "    plt.plot(tau1,(rho*g*Q[i]*R*(1-np.cos(theta1))/tau1).to('rpm'), '-',label='Q={:.0f}'.format(Q[i].to('gal/min')))\n",
    "    #plt.plot(tau1,(rho*g*Q[i]*R*(1-np.cos(theta1))/tau1), '-',label='Q={:.0f}'.format(Q[i].to('gal/min')))\n",
    "\n",
    "plt.legend(bbox_to_anchor=(1.5, 1))\n",
    "plt.grid()\n",
    "\n",
    "plt.ylim((0,200))\n",
    "plt.ylabel('omega, rpm')\n",
    "plt.xlabel('tau1')\n",
    "\n",
    "plt.title('Plot omega vs tau for various Qs')\n",
    "plt.show()"
   ]
  },
  {
   "cell_type": "code",
   "execution_count": 122,
   "metadata": {},
   "outputs": [
    {
     "data": {
      "image/png": "[encoded data removed]",
      "text/plain": [
       "<Figure size 432x288 with 1 Axes>"
      ]
     },
     "metadata": {
      "needs_background": "light"
     },
     "output_type": "display_data"
    }
   ],
   "source": [
    "tau1 = (np.linspace(1,100,100)*ureg.kg*ureg.meter**2)/ureg.sec**2\n",
    "\n",
    "flow_rate = np.linspace(10,150,5)*ureg.gal/ureg.min # flow rate range in gallons per minute\n",
    "Q = flow_rate.to_base_units()\n",
    "\n",
    "for i in range(len(Q)):\n",
    "    #plt.plot(tau1,(rho*g*Q[i]*R*(1-np.cos(theta1))/tau1).to('rpm'), '-',label='Q={:.0f}'.format(Q[i].to('gal/min')))\n",
    "    plt.plot((rho*g*Q[i]*R*(1-np.cos(theta1))/tau1).to('rpm'),tau1*(rho*g*Q[i]*R*(1-np.cos(theta1))/tau1), '-',label='Q={:.0f}'.format(Q[i].to('gal/min')))\n",
    "    \n",
    "plt.legend(bbox_to_anchor=(1.5, 1))\n",
    "plt.grid()\n",
    "\n",
    "#plt.ylim((0,200))\n",
    "plt.ylabel('P')\n",
    "plt.xlabel('rpm')\n",
    "\n",
    "plt.title('title')\n",
    "plt.show()"
   ]
  },
  {
   "cell_type": "markdown",
   "metadata": {},
   "source": [
    "### Try keeping tau constant and plot omega vs Q\n",
    "From above the generator need a tau of 21"
   ]
  },
  {
   "cell_type": "raw",
   "metadata": {},
   "source": [
    "tau1 = (21*ureg.kg*ureg.meter**2)/ureg.sec**2\n",
    "\n",
    "flow_rate = np.linspace(10,150,5)*ureg.gal/ureg.min # flow rate range in gallons per minute\n",
    "Q = flow_rate.to_base_units()\n",
    "\n",
    "#for i in range(len(Q)):\n",
    "plt.plot(Q.to('gal/min'),(rho*g*Q*R*(1-np.cos(theta1))/tau1).to('rpm'), '-',label='waterwheel rpm')\n",
    "plt.plot(Q.to('gal/min'),(rho*g*Q*R*(1-np.cos(theta1))/tau1).to('rpm')*6, '-',label='generator rpm')\n",
    "plt.plot(Q.to('gal/min'),((rho*g*Q*R*(1-np.cos(theta1))/tau1).to('rpm')).magnitude*6*m+c, '-',label='generator voltage')\n",
    "\n",
    "plt.plot(Q.to('gal/min'),(rho*g*Q*R*(1-np.cos(theta1))/tau1).to('rpm').magnitude*6*2000/900, '-',label='generator pwr')\n",
    "\n",
    "#gen_pwr_24v = (2000*(500/900))*ureg.watt\n",
    "\n",
    "#m*gen_rpm_plt + c\n",
    "\n",
    "    #plt.plot(tau1,(rho*g*Q[i]*R*(1-np.cos(theta1))/tau1), '-',label='Q={:.0f}'.format(Q[i].to('gal/min')))\n",
    "\n",
    "plt.legend(bbox_to_anchor=(1.5, 1))\n",
    "plt.grid()\n",
    "\n",
    "#plt.ylim((0,200))\n",
    "plt.ylabel('rpm')\n",
    "plt.xlabel('Q, gmp')\n",
    "\n",
    "plt.title('title')\n",
    "plt.show()"
   ]
  },
  {
   "cell_type": "code",
   "execution_count": null,
   "metadata": {},
   "outputs": [],
   "source": []
  },
  {
   "cell_type": "markdown",
   "metadata": {},
   "source": [
    "## Generator and pulley system\n",
    "The generator used in this hydro system is a 2000 Watt Freedom II Hydro PMG Permanent Magnet Generator from Missouri Wind And Solar, with a price tag of \\\\$969. This generator has a 28 magnet dual rotor and there are two of stator windings. So it's actually two generators on the same shaft. There are two, three phase outputs from the generator (6 wires) and two rectifier blocks are used in Michael's system. Six conductors were used to bring the power from the generator to the house. It was not clear in any of the videos if Michael had the out put of the recifier blocks wired in series or paralel. According the manufacture, the generator will produce 12 volts at 266 RPM, 24 volts at 500 RPM and 48 volts at 900 RPM.\n",
    "\n",
    "Michael installed a 2000 Watt generator, because that's what Missouri Wind And Solar sold him. This generator is not suited for a waterwheel application. \n",
    "1. You don't need a 2000 Watt generator if your power source can only provide about 100 Watts.  \n",
    "2. The generator shaft RPM needed is too high compared to the waterwheel RPM. ~~A set of gears or pulleys to get to the required gear ratio is not practical sense the level of maintenace and reliability would be too high.~~\n",
    "3. The generator and gear box need to be protected from the weather and protected from splashes from the waterwheel and flume."
   ]
  },
  {
   "cell_type": "raw",
   "metadata": {},
   "source": [
    ", operates at. not a good match for the \n",
    "\n",
    "\n",
    "Permanent magnet synchronous generator\n",
    "https://en.wikipedia.org/wiki/Permanent_magnet_synchronous_generator\n",
    "\n",
    "(without regard to machine efficiency)"
   ]
  },
  {
   "cell_type": "code",
   "execution_count": 124,
   "metadata": {},
   "outputs": [
    {
     "name": "stdout",
     "output_type": "stream",
     "text": [
      "generator voltage vs rpm slope: 0.05\n",
      "generator voltage vs rpm intercept: -1.21\n"
     ]
    },
    {
     "data": {
      "image/png": "[encoded data removed]",
      "text/plain": [
       "<Figure size 432x288 with 1 Axes>"
      ]
     },
     "metadata": {
      "needs_background": "light"
     },
     "output_type": "display_data"
    }
   ],
   "source": [
    "gen_volts = np.array([12,24,48])\n",
    "gen_rpm = np.array([226,500,900])\n",
    "\n",
    "y = gen_volts\n",
    "x = gen_rpm\n",
    "m, c = np.polyfit(x, y, 1)\n",
    "print('generator voltage vs rpm slope: {:.2f}'.format(m))\n",
    "print('generator voltage vs rpm intercept: {:.2f}'.format(c))\n",
    "lstsq_fit = m*x + c  # data points for each rpm\n",
    "\n",
    "gen_rpm_plt = np.linspace(200, 1000, 10)\n",
    "plt.plot(gen_rpm,gen_volts,'o',label = 'volts')\n",
    "plt.plot(gen_rpm_plt,m*gen_rpm_plt + c, '-',label='least squares fit')\n",
    "\n",
    "plt.legend(bbox_to_anchor=(1.1, 1))\n",
    "plt.grid()\n",
    "\n",
    "plt.ylim((0,60))\n",
    "plt.ylabel('generator voltage')\n",
    "plt.xlabel('RPM')\n",
    "\n",
    "plt.title('Generator voltage vs RPM')\n",
    "plt.show()"
   ]
  },
  {
   "cell_type": "markdown",
   "metadata": {},
   "source": [
    "It's not clear from web page at what point the 2000W is acheived. Missouri Wind And Solar does not provide a datasheet in the webpage. You probably need to ask them for one. They do have a chart which shows 2000 Watts from a turbine in 45+ mph wind speed. Let's assume that the generator will produce 2000 Watts at 900 rpm, since this is highest data point given.\n",
    "\n",
    "The generator calculations shaft torque is calculated below."
   ]
  },
  {
   "cell_type": "code",
   "execution_count": 125,
   "metadata": {},
   "outputs": [
    {
     "name": "stdout",
     "output_type": "stream",
     "text": [
      "generator shaft torque, in base units: 21.2 kg·m²/rad/s²\n",
      "generator shaft torque: 21.2 N·m\n",
      "generator shaft torque: 15.7 ft·lbf\n"
     ]
    }
   ],
   "source": [
    "generator_max_pwr = 2000*ureg.watt\n",
    "genenerator_max_rpm = 900*ureg.rpm\n",
    "\n",
    "# convert to base units\n",
    "generator_max_pwr.ito_base_units()\n",
    "genenerator_max_rpm.ito_base_units()\n",
    "\n",
    "# calculate the generator shaft torque\n",
    "gen_tau = generator_max_pwr/genenerator_max_rpm\n",
    "print('generator shaft torque, in base units: {:s}'.format(f\"{gen_tau.to_base_units():.1f~P}\"))\n",
    "print('generator shaft torque: {:s}'.format(f\"{gen_tau.to('newton meter'):.1f~P}\"))\n",
    "print('generator shaft torque: {:s}'.format(f\"{gen_tau.to('foot * force_pound'):.1f~P}\"))"
   ]
  },
  {
   "cell_type": "markdown",
   "metadata": {},
   "source": [
    "Since the rpm to volts and rpm to power relations are linear, this is the torque need at the generated shaft for 1000W or 100W."
   ]
  },
  {
   "cell_type": "code",
   "execution_count": null,
   "metadata": {},
   "outputs": [],
   "source": []
  },
  {
   "cell_type": "markdown",
   "metadata": {},
   "source": [
    "## Pulley system\n",
    "The purpose of the pulley system is to transform the waterwheel rotations to the generator shaft. The generator is advertized to generate 24 volts at 500 rpm. Michael said that Jerry did the calculations for the wheel sizes for the pulleys. He said it was a one to eight ratio. The pulley wheel diameters were estimated by looking at the video and doing a relative comparison against the final generator pulley which is advertized to be 3 inches in radius. The formula for pulleys is:\n",
    "\n",
    "$D_1 \\times RPM_1 = D_2 \\times RPM_2$\n",
    "\n",
    "where $D_1$ and $D_2$ are the pulley diameters and $RPM_1$ and $RPM_2$ are the rotations per minute."
   ]
  },
  {
   "cell_type": "raw",
   "metadata": {},
   "source": [
    "sized his pully system to have a , so if the gear box ratio is times 8 to 16, the water wheel needs to rotate at 62 to 31 rpm. \n",
    "\n",
    "what are the approx diam of his pullies?\n",
    "\n",
    "starting at the generator: 3 inch radius wheel to 6 inch radius wheel, 4 inch radius wheel to a 12+ radius wheel\n",
    "\n",
    "what is the total ratio??\n",
    "\n",
    "d1 * rpm1 = d2 * rpm2\n",
    "\n",
    "need estimate of loaded rpm  \n",
    "\n",
    "or start with req generator rpm, which is about 500 rpm to generate 24 volts\n",
    "\n",
    "\n",
    "https://khkgears.net/new/gear_knowledge/the-first-step-of-mechanism-design-using-gears/know-about-gear-transmission-torque.html\n",
    "\n",
    "https://en.wikipedia.org/wiki/Propulsion_transmission\n",
    "\n",
    "https://www.omnicalculator.com/physics/pulley"
   ]
  },
  {
   "cell_type": "raw",
   "metadata": {},
   "source": [
    "A gear’s transmission torque changes as it increases or decreases speed. Generally, by reducing the speed, a small torque at the input side is transmitted as a larger torque at the output side."
   ]
  },
  {
   "cell_type": "markdown",
   "metadata": {},
   "source": [
    "Starting at the generator, d1 and d2 are the pulleys on the generator belt and rpm1 is what is needed on the generator shaft. "
   ]
  },
  {
   "cell_type": "code",
   "execution_count": 126,
   "metadata": {},
   "outputs": [
    {
     "name": "stdout",
     "output_type": "stream",
     "text": [
      "RPM on the middle axel: 187.5\n"
     ]
    }
   ],
   "source": [
    "d1 = 3 #6 # dia of pulley on the generator\n",
    "d2 = 8 #12 # dia of large pulley on 2nd shaft\n",
    "rpm1 = 500 # a the generator\n",
    "rpm2 = d1*rpm1/d2 # at the big wheel on 2nd shaft\n",
    "print('RPM on the middle axel: {:0.1f}'.format(rpm2))"
   ]
  },
  {
   "cell_type": "markdown",
   "metadata": {},
   "source": [
    "The middle axel has two pulleys. "
   ]
  },
  {
   "cell_type": "code",
   "execution_count": 127,
   "metadata": {},
   "outputs": [
    {
     "name": "stdout",
     "output_type": "stream",
     "text": [
      "RPM on the waterwheel axel: 62.5\n",
      "total pulley ratio: 8.0\n"
     ]
    }
   ],
   "source": [
    "d3 = 4 #8 # dia of small pulley on middle axel\n",
    "d4 = 12 #24 # dia of pulley on waterwheel\n",
    "rpm3 = d3*rpm2/d4\n",
    "rpm3\n",
    "print('RPM on the waterwheel axel: {:0.1f}'.format(rpm3))\n",
    "print('total pulley ratio: {:.1f}'.format((d2/d1)*(d4/d3)))"
   ]
  },
  {
   "cell_type": "markdown",
   "metadata": {},
   "source": [
    "The total ratio for the pulleys is 8:1 and agrees with Michael's comments in the video. A waterwheel RPM of 62 is needed to spin thegenerator at 500 RPM, which is too high for the waterwheel. Water will not stay in the buckets at this RPM. Let's say 10 RPM is more approperate for the waterwheel, then a pulley ratio of 100 is needed, but not practical. At a 100:1 ratio, gears are needed, so a planetary type gearbox might work, if Michael insisted on using the 2kW genrator already purchased."
   ]
  },
  {
   "cell_type": "raw",
   "metadata": {},
   "source": [
    "Gearbox Type: Planetary\n",
    "Gear Ratio: 100 : 1\n",
    "Efficiency: 90%\n",
    "Backlash at No-load: <=25 arcmin\n",
    "Max. Permissible Torque: 15Nm(2124oz.in)\n",
    "Moment Permissible Torque: 25Nm(3540oz.in)\n",
    "Max. Radial Load: 150N\n",
    "Ambient Temperature: -10 - 90℃\n",
    "Insulation Class: B\n",
    "Noise: <=50 dB\n",
    "Life: 20000 h"
   ]
  },
  {
   "cell_type": "code",
   "execution_count": null,
   "metadata": {},
   "outputs": [],
   "source": []
  },
  {
   "cell_type": "markdown",
   "metadata": {},
   "source": [
    "## Electrical cable\n",
    "Electrical power cables are needed to run from the generator loacated at the waterwheel upto the cabin, where the charge controller and the batteries are located. The generator makes 3 phase AC and at 500 rpm, the generater produces 1000W at 24 volts. The cable accoring to Michael is 10-3, which I take to mean three conductors of 10 awg wire. Two sets of cables were bured in the ground. Michael said he purchased the cable form Missouri Wind and Solar, but I could not find on their web site any information about the type of cable might have purchased. \n",
    "\n",
    "Using cable specifications from [Alpha Wire](https://www.alphawire.com/Products/cable/alpha-essentials/tray-cable/M3903), M3903 was chosen as a type of cable that has specifications typical for this appication. This cable is available in configurations of three or six conductors with multi standed (7/.0385) 10 AWG bare copper conductors. The conductor DC resistance is 1.03 ohms/1000ft @20°C, nominal. The cable has a voltage rating of 600 VRMS, is sunlight resistant and is suitable for direct burial.\n",
    "\n",
    "The voltage drop per conductor for 220 feet of cable run, operating at 36 volts and carring 1000 Watts of power is calucated below. 36 volts was used in the calculations, since this is propably close to the operating point the charge controller.\n",
    "\n",
    "The resistance per phase for the 220 foot cable run is calculated below."
   ]
  },
  {
   "cell_type": "code",
   "execution_count": 128,
   "metadata": {},
   "outputs": [
    {
     "name": "stdout",
     "output_type": "stream",
     "text": [
      "resistance per phase: 0.227 Ω at 20 degrees C\n",
      "volts per phase: 36.0 V rms\n",
      "current per phase: 4.63 A rms\n",
      "voltage drop per phase: 1.05 V rms\n"
     ]
    }
   ],
   "source": [
    "resistance_per_phase = 1.03*ureg.ohms/(1000*ureg.foot)*220*ureg.feet\n",
    "print('resistance per phase: {:s} at 20 degrees C'.format(f\"{resistance_per_phase:.3f~P}\") )\n",
    "\n",
    "volts_per_phase = 36*ureg.volt # rms\n",
    "print('volts per phase: {:s} rms'.format(f\"{volts_per_phase:.1f~P}\") )\n",
    "\n",
    "current_per_phase = (1000*ureg.watt/6/volts_per_phase).to_base_units() # using 6 since there are 6 wires in the system\n",
    "print('current per phase: {:s} rms'.format(f\"{current_per_phase:.2f~P}\") )\n",
    "\n",
    "voltage_drop_per_phase = (resistance_per_phase*current_per_phase).to('volts')\n",
    "print('voltage drop per phase: {:s} rms'.format(f\"{voltage_drop_per_phase:.2f~P}\") )"
   ]
  },
  {
   "cell_type": "markdown",
   "metadata": {},
   "source": [
    "A voltage drop of 1 volt to the house when the generator is developing 1000 W, seems acceptable. "
   ]
  },
  {
   "cell_type": "markdown",
   "metadata": {},
   "source": [
    "## Recomendations provided by Joe Malovich\n",
    "A YouTuber named Joe Malovich provided comments and recomendations in [9]. I've summerized some of his suggestions:  \n",
    "- reduce buket dept\n",
    "- extend mill race past existing stand and get a larger dia wheel\n",
    "- use the hydo function on the charge controller\n",
    "- size of generator\n",
    "- 200 gpm at 7 ft = 250 watts\n",
    "- get solar\n",
    "- research Missouri Wind and Solar\n",
    "- change to a turgo (sp?) or pelton\n",
    "\n",
    "Joe has an interesting set of videos documenting his experments with micro hydro power [here](https://www.youtube.com/watch?v=wEoaNCbXZs4) and [here](https://www.youtube.com/watch?v=p8pdCOLzO74). "
   ]
  },
  {
   "cell_type": "raw",
   "metadata": {},
   "source": [
    "discuss other options.\n",
    "\n",
    "\n",
    "Other options\n",
    "turgo, pelton\n",
    "\n",
    "malovich@gmail.com\n",
    "Notes from #9\n",
    "\n",
    "\n",
    "\n",
    "Notes from It's Producing 130W* at 11gpm 280ft, Much Less Than It Should.\n",
    "https://www.youtube.com/watch?v=33VxX9c8120\n",
    "280 ft in height\n",
    "11 gpm flow with his head height is 550W according to him, pressure is 120 psi, \n",
    "94W\n",
    "penstock is 1.5 inches dia\n",
    "\n",
    "Microhydro Turbine - New Hoses and First Start Of The Season\n",
    "https://www.youtube.com/watch?v=kqJzofu9ZEk\n",
    "250W\n",
    "Spring flow rate is between 1 and 60 gpm.\n",
    "\n",
    "\n",
    "[Part 5] Kilowatt Microhydro Turbine - Penstock Selection & Sourcing\n",
    "https://www.youtube.com/watch?v=BSt4eTf6aEk\n",
    "800ft 1.5 inch polyetheline pipe\n",
    "head height 255 ft"
   ]
  },
  {
   "cell_type": "code",
   "execution_count": null,
   "metadata": {},
   "outputs": [],
   "source": []
  },
  {
   "cell_type": "code",
   "execution_count": null,
   "metadata": {},
   "outputs": [],
   "source": []
  },
  {
   "cell_type": "code",
   "execution_count": 129,
   "metadata": {},
   "outputs": [
    {
     "ename": "SyntaxError",
     "evalue": "invalid syntax (<ipython-input-129-3985a11f262a>, line 1)",
     "output_type": "error",
     "traceback": [
      "\u001b[0;36m  File \u001b[0;32m\"<ipython-input-129-3985a11f262a>\"\u001b[0;36m, line \u001b[0;32m1\u001b[0m\n\u001b[0;31m    OLD below here\u001b[0m\n\u001b[0m            ^\u001b[0m\n\u001b[0;31mSyntaxError\u001b[0m\u001b[0;31m:\u001b[0m invalid syntax\n"
     ]
    }
   ],
   "source": [
    "OLD below here"
   ]
  },
  {
   "cell_type": "markdown",
   "metadata": {},
   "source": [
    "### Modified system\n"
   ]
  },
  {
   "cell_type": "code",
   "execution_count": null,
   "metadata": {},
   "outputs": [],
   "source": [
    "est_flow_rate_gpm = 200 # estimated flow rate in gallons per minute\n",
    "Q_m3pm = est_flow_rate_gpm * 0.003785 # flow rate in m^3 per min\n",
    "Q = Q_m3pm / 60 # convert to cubic meters per second\n",
    "\n",
    "H_ft = 25 # height in feet\n",
    "H = H_ft * 0.3048 # height in meters"
   ]
  },
  {
   "cell_type": "code",
   "execution_count": null,
   "metadata": {},
   "outputs": [],
   "source": [
    "g = 9.80665 # m/s^2\n",
    "rho_water = 999.75 # density of water at 50F or 10C, kg/m3\n",
    "P_pot = rho_water*g*Q*H # \n",
    "P_pot"
   ]
  },
  {
   "cell_type": "code",
   "execution_count": null,
   "metadata": {},
   "outputs": [],
   "source": [
    "P_pot*0.7*0.7*24 # Wh generated by waterwheel in 24 hours"
   ]
  },
  {
   "cell_type": "code",
   "execution_count": null,
   "metadata": {},
   "outputs": [],
   "source": []
  },
  {
   "cell_type": "code",
   "execution_count": null,
   "metadata": {},
   "outputs": [],
   "source": [
    "Q = 1.25 # flow in m^3/s\n",
    "h = 1 # water head\n",
    "P = Q*h*8.5 # kW\n",
    "P"
   ]
  },
  {
   "cell_type": "markdown",
   "metadata": {},
   "source": [
    "Amount: 1 gallon US per minute (gal/min) of flow rate\n",
    "Equals: 0.23 cubic meters per hour (m3/h) in flow rate\n",
    "Formula gallons per minute in cubic meters per hour (gal/m in m3/h). M3/h = gal/m*0.22712470704\n",
    "\n"
   ]
  },
  {
   "cell_type": "code",
   "execution_count": null,
   "metadata": {},
   "outputs": [],
   "source": [
    "300*0.22712470704/60/60 # flow rate, m^/s"
   ]
  },
  {
   "cell_type": "code",
   "execution_count": null,
   "metadata": {},
   "outputs": [],
   "source": [
    "3*0.3048 # water head, meters"
   ]
  },
  {
   "cell_type": "code",
   "execution_count": null,
   "metadata": {},
   "outputs": [],
   "source": [
    "Q = 300*0.22712470704/60/60 # 300 gpm flow converted to m^3/s\n",
    "h = 3*0.3048 # water head, ft converted to m\n",
    "P = Q*h*8.5*1000 # W\n",
    "P"
   ]
  },
  {
   "cell_type": "markdown",
   "metadata": {},
   "source": [
    "battery charging, 50Ah"
   ]
  },
  {
   "cell_type": "code",
   "execution_count": null,
   "metadata": {},
   "outputs": [],
   "source": [
    "5*5*24"
   ]
  },
  {
   "cell_type": "code",
   "execution_count": null,
   "metadata": {},
   "outputs": [],
   "source": []
  },
  {
   "cell_type": "code",
   "execution_count": null,
   "metadata": {},
   "outputs": [],
   "source": []
  },
  {
   "cell_type": "code",
   "execution_count": null,
   "metadata": {},
   "outputs": [],
   "source": []
  },
  {
   "cell_type": "code",
   "execution_count": null,
   "metadata": {},
   "outputs": [],
   "source": []
  },
  {
   "cell_type": "code",
   "execution_count": null,
   "metadata": {},
   "outputs": [],
   "source": []
  },
  {
   "cell_type": "markdown",
   "metadata": {},
   "source": [
    "I use 191 kWh per month and max 7 kWh per day."
   ]
  },
  {
   "cell_type": "code",
   "execution_count": null,
   "metadata": {},
   "outputs": [],
   "source": [
    "60*60 # 60 seconds per minute * 60 minutes per hour"
   ]
  },
  {
   "cell_type": "code",
   "execution_count": null,
   "metadata": {},
   "outputs": [],
   "source": [
    "7000/(60*60) # need to generate this on average"
   ]
  },
  {
   "cell_type": "code",
   "execution_count": null,
   "metadata": {},
   "outputs": [],
   "source": [
    "1.95*60*60"
   ]
  },
  {
   "cell_type": "code",
   "execution_count": null,
   "metadata": {},
   "outputs": [],
   "source": [
    "7000/24 # avg power usage per hour"
   ]
  },
  {
   "cell_type": "code",
   "execution_count": null,
   "metadata": {},
   "outputs": [],
   "source": [
    "7000/24/60 # avg power usage per min"
   ]
  },
  {
   "cell_type": "code",
   "execution_count": null,
   "metadata": {},
   "outputs": [],
   "source": [
    "7000/24/60/60 # avg power usage per sec"
   ]
  },
  {
   "cell_type": "code",
   "execution_count": null,
   "metadata": {},
   "outputs": [],
   "source": [
    "0.0810*60 # watt min"
   ]
  },
  {
   "cell_type": "code",
   "execution_count": null,
   "metadata": {},
   "outputs": [],
   "source": [
    "0.0810*60*60 # watt hr"
   ]
  },
  {
   "cell_type": "code",
   "execution_count": null,
   "metadata": {},
   "outputs": [],
   "source": []
  },
  {
   "cell_type": "markdown",
   "metadata": {},
   "source": [
    "400W Three-Phase alternator, Rare earth NdFeB Permanent Magnet Electric Motor Generator DIY AC Alternator AVAN?400w Permanent Magnet Motor ((With Rectifier 12V)  \\\\$141.06\n",
    "\n",
    "https://www.amazon.com/Three-Phase-alternator-Permanent-Generator-Alternator/dp/B08MZHPM1L/ref=sr_1_7?crid=T15TPMP32AZT&keywords=permanent+magnetic+dc+generator&qid=1657135411&sprefix=permanent+magnet+dc+generator%2Caps%2C193&sr=8-7\n",
    "\n",
    "~~~\n",
    "Specification:\n",
    "Item Type: Permanent Magnet Generator\n",
    "Model: AVAN-400w\n",
    "Rated Power: 400w\n",
    "Rated Speed: 550r/m\n",
    "Permanent Magnet Generator: Three-phase AC permanent magnet generator\n",
    "Insulation Class: F\n",
    "Protection Level: IP55\n",
    "Service Life: > 20 Years\n",
    "Surface Treatment: Sprayed\n",
    "Permanent Magnet Material: Rare earth NdFeB\n",
    "Generator Height: Approx. 70mm / 2.8in, 81mm / 3.2in\n",
    "Diameter of Generator: Approx. 150mm / 5.9in\n",
    "\n",
    "Package List:\n",
    "1 x Permanent Magnet Generator\n",
    "or\n",
    "1 x Permanent Magnet Generator\n",
    "1 x Rectifier\n",
    "~~~"
   ]
  },
  {
   "cell_type": "code",
   "execution_count": null,
   "metadata": {},
   "outputs": [],
   "source": [
    "# solar, 6 full hours per day.  One house size pannel is 100 to 200W, so 10 pannels are needed\n",
    "7000/6"
   ]
  },
  {
   "cell_type": "code",
   "execution_count": null,
   "metadata": {},
   "outputs": [],
   "source": []
  },
  {
   "cell_type": "raw",
   "metadata": {},
   "source": [
    "Old notes\n",
    "See the references for sample design.  \n",
    "\n",
    "Run some design calculations for his setup.\n",
    "\n",
    "Did we MAKE HYDRO POWER Using Our Waterwheel for Self Reliant Off Grid Living?, Jan 17, 2021\n",
    "Notes from this [video](https://www.youtube.com/watch?v=VFQQI96CMK8):  \n",
    "\n",
    "off grid cabon, dam, waterwheel, \n",
    "2kW PM generator, Missouri Wind and Solar (https://windandsolar.com/), 24V at 500 rpm, \n",
    "\n",
    "2000 Watt Freedom II Hydro PMG Permanent Magnet Generator from Missouri Wind And Solar, $969.08\n",
    "https://windandsolar.com/freedom-ii-hydro-pmg-permanent-magnet-generator/\n",
    "Produces 12 volts at approximately 266 RPM\n",
    "24 volts at 500 RPM - what he said in video\n",
    "48 volts at 900 RPM\n",
    "\n",
    "Spring location\n",
    "almost 20 ft of fall from spring to resovor.\n",
    "\n",
    "Dam depth\n",
    "\n",
    "Power run from dam to house\n",
    "220ft  line length to house\n",
    "\n",
    "During heavy flow, showing 40V at the house, 33 W, 0.1 KWhr bulk MPPT, \n",
    "\n",
    "Batteries: five 24V liFePo batteries Battle born (https://battlebornbatteries.com/), \n",
    "[50Ah 24V BB5024 Battery](https://battlebornbatteries.com/product/cyber-monday-50ah-24v-battery/)\n",
    "\n",
    "Victron 24V 5KW inverter\n",
    "Midnight classic 200\n",
    "\n",
    "Bought an all in package from Missouri Wind And Solar\n",
    "\n",
    "\n",
    "Since hydro is not working he is running gas powered generator, [PREDATOR 3500](https://go.harborfreight.com/sku/56720/), Max Running Watts = 3000,  run for a few hours and top off the batteries. They can run for 12 hours on the batteries.\n",
    "\n"
   ]
  },
  {
   "cell_type": "raw",
   "metadata": {},
   "source": [
    "dir(ureg.sys.cgs) # ['Planck', 'SI', 'US', 'atomic', 'cgs', 'imperial', 'mks'"
   ]
  },
  {
   "cell_type": "raw",
   "metadata": {},
   "source": [
    "dir(ureg.sys.US) # ['Planck', 'SI', 'US', 'atomic', 'cgs', 'imperial', 'mks'"
   ]
  },
  {
   "cell_type": "raw",
   "metadata": {},
   "source": [
    "dir(ureg.sys.mks) # ['Planck', 'SI', 'US', 'atomic', 'cgs', 'imperial', 'mks'"
   ]
  },
  {
   "cell_type": "raw",
   "metadata": {},
   "source": [
    "dir(ureg.sys.imperial)"
   ]
  },
  {
   "cell_type": "raw",
   "metadata": {},
   "source": [
    "ureg.get_compatible_units('[volume]')"
   ]
  },
  {
   "cell_type": "markdown",
   "metadata": {},
   "source": [
    "Depth of bucket, Bh\n",
    "Wheel’s diameter, D\n",
    "discharge angle of wheel, 150 degrees"
   ]
  },
  {
   "cell_type": "raw",
   "metadata": {},
   "source": [
    "D = 2.133 # Wheel’s diameter\n",
    "Bh = 0.3048 # Depth of bucket\n",
    "Bw = Bh # width of bucket\n",
    "R = D/2 \n",
    "R1 = R-Bh\n",
    "R2 = (R-R1)/2 # radius of center of bucket"
   ]
  },
  {
   "cell_type": "raw",
   "metadata": {},
   "source": [
    "# equation 2, number of buckets\n",
    "n = 20 # number of buckets\n",
    "#theta = 2*np.pi/n # angular position of each bucket\n",
    "theta1 = 150*np.pi/180 # discharge angle of wheel, 150 degrees"
   ]
  },
  {
   "cell_type": "raw",
   "metadata": {},
   "source": [
    "# max volumn of each bucket\n",
    "scoop_factor = 0.5\n",
    "Bv = scoop_factor*Bh*Bw*2*np.pi*R/n\n",
    "Bv"
   ]
  },
  {
   "cell_type": "code",
   "execution_count": null,
   "metadata": {},
   "outputs": [],
   "source": [
    "# equation 3, The mass of water in each bucket is δm.\n",
    "omega = 5 # water wheel angular speed (rad/s)\n",
    "#mass_per_bucket = rho*Bv\n",
    "#mass_per_bucket"
   ]
  },
  {
   "cell_type": "markdown",
   "metadata": {},
   "source": [
    "The torque applied about the waterwheel axle by the\n",
    "weight of water is δG."
   ]
  },
  {
   "cell_type": "raw",
   "metadata": {},
   "source": [
    "#R = 1 # wheel radius (m)\n",
    "#theta = 1 # angular location of the filled bucket (degree)\n",
    "#G = mass_per_bucket*g*R*np.sin(theta)\n",
    "#G"
   ]
  },
  {
   "cell_type": "markdown",
   "metadata": {},
   "source": [
    "For large n, the total torque is as fallows.\n",
    "numpy.trapz(y, x=None, dx=1.0, axis=- 1)\n",
    "y = Input array to integrate.\n",
    "x, optional = The sample points corresponding to the y values. If x is None, the sample points are assumed to be evenly spaced dx apart. The default is None.\n",
    "\n",
    "Changing this to stall torque"
   ]
  },
  {
   "cell_type": "code",
   "execution_count": null,
   "metadata": {},
   "outputs": [],
   "source": [
    "# equation 5"
   ]
  },
  {
   "cell_type": "code",
   "execution_count": null,
   "metadata": {},
   "outputs": [],
   "source": [
    "x = np.linspace(0,theta1,int(n/2)) # angular position of the buckets\n",
    "x"
   ]
  },
  {
   "cell_type": "code",
   "execution_count": null,
   "metadata": {},
   "outputs": [],
   "source": [
    "y = np.sin(x) # 0  to theta1\n",
    "y"
   ]
  },
  {
   "cell_type": "code",
   "execution_count": null,
   "metadata": {},
   "outputs": [],
   "source": [
    "(rho*g*Q*R/omega)*np.trapz(np.sin(np.linspace(0,np.pi,int(n/2))), np.linspace(0,np.pi,int(n/2)))"
   ]
  },
  {
   "cell_type": "code",
   "execution_count": null,
   "metadata": {},
   "outputs": [],
   "source": [
    "# equation 6,\n",
    "#theta1 = np.pi # final angle at which the last bucket empties\n",
    "tau = rho*g*Q*R*(1-np.cos(theta1))/omega\n",
    "tau"
   ]
  },
  {
   "cell_type": "markdown",
   "metadata": {},
   "source": [
    "need moment of inertia of wheel and water"
   ]
  },
  {
   "cell_type": "code",
   "execution_count": null,
   "metadata": {},
   "outputs": [],
   "source": [
    "# equation 8, of /home/jim/Downloads/Water wheel design/1700797.pdf\n",
    "tau1 = 0.8*tau\n",
    "rho*g*Q*R*(1-np.cos(theta1))/tau1"
   ]
  },
  {
   "cell_type": "code",
   "execution_count": null,
   "metadata": {},
   "outputs": [],
   "source": []
  },
  {
   "cell_type": "markdown",
   "metadata": {},
   "source": [
    "A water wheel is a means of extracting power from\n",
    "the flow or fall of water and also known as\n",
    "hydropower. The three basic types of water wheel are\n",
    "undershot, breasts hot and overshot. A vertically\n",
    "mounted water wheel that is rotated by water striking\n",
    "paddle or blades at the bottom of the wheel is said to\n",
    "be undershot. It can only be used where the flow rate\n",
    "\n",
    "is sufficient to provide torque and suited to shallow\n",
    "streams. Breastshot wheel rotated by falling water\n",
    "striking buckets near the center of the wheel’s edge.\n",
    "They are preferred for steady, high volume flow. A\n",
    "vertically mounted water wheel that is rotated by\n",
    "falling water striking buckets near the top of the\n",
    "wheel is called overshot.\n",
    "\n",
    "The mechanical power from an overshot wheel is\n",
    "determined by the wheel’s size, head and water flow\n",
    "rate but does not require rapid flow. They are ideally\n",
    "suited to hilly regions. The main issues that should be\n",
    "considered in a preliminary site selection are\n",
    "measurement of usable head and flow rate of water.\n",
    "The most effective and reliable head measurement is\n",
    "water fill tube method. This method is helpful for low\n",
    "head site, because it is cheap and reasonably accurate.\n",
    "The theodolite method is expensive and heavy for\n",
    "head measurement. But capable of fast and accurate\n",
    "work where the ground is fairly clear. For measuring\n",
    "the discharge, sources of information such as rainfall\n",
    "records, size of catchments area and local knowledge\n",
    "are also needed. The bucket measurement is simple\n",
    "way of measuring the discharge. The whole flow to\n",
    "be measured is diverted into a bucket or barrel and\n",
    "the time is take for the container to fill is record. Weir\n",
    "and stick gauge method requires construction of a\n",
    "weir across the stream to measure discharge [6].\n",
    "\n"
   ]
  }
 ],
 "metadata": {
  "kernelspec": {
   "display_name": "Python 3",
   "language": "python",
   "name": "python3"
  },
  "language_info": {
   "codemirror_mode": {
    "name": "ipython",
    "version": 3
   },
   "file_extension": ".py",
   "mimetype": "text/x-python",
   "name": "python",
   "nbconvert_exporter": "python",
   "pygments_lexer": "ipython3",
   "version": "3.7.3"
  }
 },
 "nbformat": 4,
 "nbformat_minor": 2
}
