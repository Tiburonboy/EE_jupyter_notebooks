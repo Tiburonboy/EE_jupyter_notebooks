{
 "cells": [
  {
   "cell_type": "markdown",
   "metadata": {},
   "source": [
    "# Two port parameters\n",
    "Last update: 26 Apr 2022  \n",
    "\n",
    "Todo:  \n",
    "- clean up narative\n",
    "- spell check\n",
    "\n",
    "\n",
    "In this post I describe the calculation of two port impedance parameters from the circuit's netlist. The first circuit is an antennuator, which could be easily analyized by hand with a pencil, paper and a calculator, but here I'm using python to step through the calculations. These same steps can be applied to larger, more complex circuits which would be difficult to analyze by hand. The second circuit is a bandpass filter. The Sympy and SciPy libraries can be used to obtain symbolic and numerical results, however as is shown below, when the circuit is large, symbolic results are not that useful nor do thay provid much insight.\n",
    "\n",
    "Analyzing circuits is fundemental to electrical engineering. During my 40 year carer as an electrical engineer, the only two port parameters I used on a regular basis were s-parameters, I don't recall ever using the other types of two port parameters.\n",
    "\n",
    "The procedure starts by first drawing a schematic of the circuit with a schematic capture program such as EasyEDA (links to the schematics are provided below) then the netlist is generated and exported as a text file. The netlist is used to generate modified nodal equations with the python program described [here](). The equations are solved for voltages and currents at the port terminals by using SymPy."
   ]
  },
  {
   "cell_type": "raw",
   "metadata": {},
   "source": [
    "with Sympy\n",
    "solution system of equations is \n",
    "\n",
    "Impedance parameters or Z-parameters (the elements of an impedance matrix or Z-matrix) are properties used in electrical engineering, electronic engineering, and communication systems engineering to describe the electrical behavior of linear electrical networks. They are also used to describe the small-signal (linearized) response of non-linear networks. They are members of a family of similar parameters used in electronic engineering, other examples being: S-parameters,[1] Y-parameters,[2] H-parameters, T-parameters or ABCD-parameters.[3][4]\n",
    "\n",
    "Z-parameters are also known as open-circuit impedance parameters as they are calculated under open circuit conditions. i.e., Ix=0, where x=1,2 refer to input and output currents flowing through the ports (of a two-port network in this case) respectively.\n",
    "\n",
    "\n",
    "\n",
    "The impedance two port parameters are \n",
    "\n",
    "work flow: draw schematic, generate net list, generate MNA equations, solve equations for voltages and currents at the port terminals.\n",
    "\n",
    "The Z-parameter matrix for the two-port network is probably the most common. (I think S-param is the most common) The relationship between the port currents, port voltages and the Z-parameter matrix is defined.\n",
    "\n",
    "The input impedance of a two-port network is given by:\n",
    "\n",
    "$Z_{in}=Z_{11}-\\frac {Z_{12}Z_{21}} {Z_{22}+Z_{L}}$\n",
    "\n",
    "\n",
    "where ZL is the impedance of the load connected to port two.\n",
    "\n",
    "Similarly, the output impedance is given by:\n",
    "\n",
    "$Z_{out}=Z_{22}-\\frac {Z_{12}Z_{21}}{Z_{11}+Z_{S}}$\n",
    "\n",
    "See https://en.wikipedia.org/wiki/Impedance_parameters for equalivent circuit.\n",
    "\n",
    "\n",
    "Scattering parameters or S-parameters (the elements of a scattering matrix or S-matrix) describe the electrical behavior of linear electrical networks when undergoing various steady state stimuli by electrical signals.\n",
    "\n",
    "Hybrid parameters (h-parameters)\n",
    "\n",
    "https://en.wikipedia.org/wiki/Two-port_network#Hybrid_parameters_(h-parameters)\n",
    "\n",
    "the term h parameters and recommended that these become the standard method of testing and characterising transistors because they were \"peculiarly adaptable to the physical characteristics of transistors\".[9]\n",
    "\n",
    "Equivilent circuit is similar to the transistor model. \n",
    "\n",
    "### Need to revisit polarity on voltage and current sources, which direction is positive.  \n",
    "\n",
    "ToDo:  \n",
    "- move this notebook to engineering calculations\n",
    "- Pi-attenuator, find the Z parameters, then convert to Y and S params <<-- done\n",
    "- Transistor, find h-params\n",
    "- ~~RLC w/controlled sources, find Z parameters, then convert to Y and S params~~\n",
    "\n",
    "A [Two-port network](https://en.wikipedia.org/wiki/Two-port_network) is a device or circuit that has two pairs of ports or terminals. The device or circuit is characterized by the currents and voltages at the ports. In two-port circuit models, the device or circuit is described by a 2 by 2 matrix."
   ]
  },
  {
   "cell_type": "code",
   "execution_count": 1,
   "metadata": {
    "collapsed": false
   },
   "outputs": [],
   "source": [
    "import numpy as np\n",
    "from sympy import *\n",
    "from scipy import signal\n",
    "import matplotlib.pyplot as plt\n",
    "init_printing()"
   ]
  },
  {
   "cell_type": "markdown",
   "metadata": {},
   "source": [
    "## Pi-attenuator\n",
    "The pi-attenuator is formed by three resistors with R1 and R3 as the shunt resistor values and R2 as the series resistor value in a circuit topology in the shape of the greek letter pi. For R1 = R3 = 96.25 ohms and R2 equal to 71.15 ohms, the attenuation is 10 dB and the port impedance is 50 ohms. Pasternack's Pi Attenuator Calculator ([Pi pad attenuator](https://www.pasternack.com/t-calculator-pi-attn.aspx)) was used to design the attenuator.\n",
    "\n",
    "To find Z-parameters attach voltage sources to both ports and find the node equations. [EasyEDA](https://easyeda.com/) was used to draw the schematic and generate the netlist. A link to the schematic is [here](https://easyeda.com/editor#id=|6b1460bfe8ec4872b7d7fd3038f38331|82658727399e487c94ebe177746e0ba0).\n",
    "\n",
    "![schematic](sch_pi_atten_10dB_50ohm.png)\n",
    "\n",
    "The netlist:\n",
    "~~~\n",
    "R1 0 1 96.25\n",
    "R2 1 2 71.15\n",
    "R3 0 2 96.25\n",
    "V1 1 0 1\n",
    "V2 2 0 1\n",
    "~~~"
   ]
  },
  {
   "cell_type": "markdown",
   "metadata": {},
   "source": [
    "## Find z11 & z21\n",
    "\n",
    "Remove V2 from net list and I2 should be zero. Operating with port 1 active.\n",
    "~~~\n",
    "*pi_atten_10dB_50ohm.net\n",
    "R1 0 1 96.25\n",
    "R2 1 2 71.15\n",
    "R3 0 2 96.25\n",
    "V1 1 0 1\n",
    "*V2 2 0 1\n",
    "~~~\n",
    "The circuit equations generated by the MNA python code.\n",
    "~~~\n",
    "[[Eq(I_V1 + v1*(1/R2 + 1/R1) - v2/R2, 0)],\n",
    "[Eq(v2*(1/R3 + 1/R2) - v1/R2, 0)],\n",
    "[Eq(v1, V1)]]\n",
    "~~~"
   ]
  },
  {
   "cell_type": "code",
   "execution_count": 2,
   "metadata": {},
   "outputs": [
    {
     "data": {
      "text/latex": [
       "$$\\left[\\begin{matrix}I_{V1} + v_{1} \\left(\\frac{1}{R_{2}} + \\frac{1}{R_{1}}\\right) - \\frac{v_{2}}{R_{2}} = 0\\\\v_{2} \\left(\\frac{1}{R_{3}} + \\frac{1}{R_{2}}\\right) - \\frac{v_{1}}{R_{2}} = 0\\\\v_{1} = V_{1}\\end{matrix}\\right]$$"
      ],
      "text/plain": [
       "⎡          ⎛1    1 ⎞   v₂    ⎤\n",
       "⎢I_V1 + v₁⋅⎜── + ──⎟ - ── = 0⎥\n",
       "⎢          ⎝R₂   R₁⎠   R₂    ⎥\n",
       "⎢                            ⎥\n",
       "⎢      ⎛1    1 ⎞   v₁        ⎥\n",
       "⎢   v₂⋅⎜── + ──⎟ - ── = 0    ⎥\n",
       "⎢      ⎝R₃   R₂⎠   R₂        ⎥\n",
       "⎢                            ⎥\n",
       "⎣          v₁ = V₁           ⎦"
      ]
     },
     "execution_count": 2,
     "metadata": {},
     "output_type": "execute_result"
    }
   ],
   "source": [
    "# declare the following symbols\n",
    "I_V1, R3, R2, V1, v1, R1, v2 = symbols('I_V1 R3 R2 V1 v1 R1 v2')\n",
    "\n",
    "# use the equations generated by nodal analysis\n",
    "equ_p1 = Matrix(\n",
    "    [[Eq(I_V1 + v1*(1/R2 + 1/R1) - v2/R2, 0)],\n",
    "    [Eq(v2*(1/R3 + 1/R2) - v1/R2, 0)],\n",
    "    [Eq(v1, V1)]])\n",
    "equ_p1"
   ]
  },
  {
   "cell_type": "code",
   "execution_count": 3,
   "metadata": {},
   "outputs": [
    {
     "data": {
      "image/png": "[encoded data removed]",
      "text/latex": [
       "$$\\left \\{ I_{V1} : - \\frac{V_{1} \\left(R_{1} + R_{2} + R_{3}\\right)}{R_{1} \\left(R_{2} + R_{3}\\right)}, \\quad v_{1} : V_{1}, \\quad v_{2} : \\frac{R_{3} V_{1}}{R_{2} + R_{3}}\\right \\}$$"
      ],
      "text/plain": [
       "⎧      -V₁⋅(R₁ + R₂ + R₃)                R₃⋅V₁ ⎫\n",
       "⎨I_V1: ───────────────────, v₁: V₁, v₂: ───────⎬\n",
       "⎩          R₁⋅(R₂ + R₃)                 R₂ + R₃⎭"
      ]
     },
     "execution_count": 3,
     "metadata": {},
     "output_type": "execute_result"
    }
   ],
   "source": [
    "# find symbolic solution\n",
    "u_p1 = solve(equ_p1,[v1, v2, I_V1])\n",
    "u_p1"
   ]
  },
  {
   "cell_type": "markdown",
   "metadata": {},
   "source": [
    "$z_{11} = \\frac {V_1}{I_1} \\text{  when  } I_2=0$  "
   ]
  },
  {
   "cell_type": "code",
   "execution_count": 4,
   "metadata": {},
   "outputs": [
    {
     "data": {
      "image/png": "[encoded data removed]",
      "text/latex": [
       "$$\\frac{R_{1} \\left(R_{2} + R_{3}\\right)}{R_{1} + R_{2} + R_{3}}$$"
      ],
      "text/plain": [
       "R₁⋅(R₂ + R₃)\n",
       "────────────\n",
       "R₁ + R₂ + R₃"
      ]
     },
     "execution_count": 4,
     "metadata": {},
     "output_type": "execute_result"
    }
   ],
   "source": [
    "z11 = -u_p1[v1]/u_p1[I_V1]\n",
    "z11"
   ]
  },
  {
   "cell_type": "markdown",
   "metadata": {},
   "source": [
    "$z_{21} = \\frac {V_2}{I_1} \\text{  when  } I_2=0$  "
   ]
  },
  {
   "cell_type": "code",
   "execution_count": 5,
   "metadata": {},
   "outputs": [
    {
     "data": {
      "image/png": "[encoded data removed]",
      "text/latex": [
       "$$\\frac{R_{1} R_{3}}{R_{1} + R_{2} + R_{3}}$$"
      ],
      "text/plain": [
       "   R₁⋅R₃    \n",
       "────────────\n",
       "R₁ + R₂ + R₃"
      ]
     },
     "execution_count": 5,
     "metadata": {},
     "output_type": "execute_result"
    }
   ],
   "source": [
    "z21 = -u_p1[v2]/u_p1[I_V1]\n",
    "z21"
   ]
  },
  {
   "cell_type": "code",
   "execution_count": null,
   "metadata": {},
   "outputs": [],
   "source": []
  },
  {
   "cell_type": "markdown",
   "metadata": {},
   "source": [
    "## Find z12 & z22\n",
    "Remove V1 from net list.\n",
    "~~~\n",
    "*pi_atten_10dB_50ohm.net\n",
    "R1 0 1 96.25\n",
    "R2 1 2 71.15\n",
    "R3 0 2 96.25\n",
    "*V1 1 0 1\n",
    "V2 2 0 1\n",
    "~~~\n",
    "The circuit equations generated by the MNA python code.\n",
    "~~~\n",
    "[[Eq(v1*(1/R2 + 1/R1) - v2/R2, 0)],\n",
    "[Eq(I_V2 + v2*(1/R3 + 1/R2) - v1/R2, 0)],\n",
    "[Eq(v2, V2)]]\n",
    "~~~"
   ]
  },
  {
   "cell_type": "code",
   "execution_count": 6,
   "metadata": {},
   "outputs": [
    {
     "data": {
      "text/latex": [
       "$$\\left[\\begin{matrix}v_{1} \\left(\\frac{1}{R_{2}} + \\frac{1}{R_{1}}\\right) - \\frac{v_{2}}{R_{2}} = 0\\\\I_{V2} + v_{2} \\left(\\frac{1}{R_{3}} + \\frac{1}{R_{2}}\\right) - \\frac{v_{1}}{R_{2}} = 0\\\\v_{2} = V_{2}\\end{matrix}\\right]$$"
      ],
      "text/plain": [
       "⎡      ⎛1    1 ⎞   v₂        ⎤\n",
       "⎢   v₁⋅⎜── + ──⎟ - ── = 0    ⎥\n",
       "⎢      ⎝R₂   R₁⎠   R₂        ⎥\n",
       "⎢                            ⎥\n",
       "⎢          ⎛1    1 ⎞   v₁    ⎥\n",
       "⎢I_V2 + v₂⋅⎜── + ──⎟ - ── = 0⎥\n",
       "⎢          ⎝R₃   R₂⎠   R₂    ⎥\n",
       "⎢                            ⎥\n",
       "⎣          v₂ = V₂           ⎦"
      ]
     },
     "execution_count": 6,
     "metadata": {},
     "output_type": "execute_result"
    }
   ],
   "source": [
    "# declare the following symbols\n",
    "R3, R2, V2, v1, R1, I_V2, v2 = symbols('R3 R2 V2 v1 R1 I_V2 v2')\n",
    "\n",
    "# use the equations generated by nodal analysis\n",
    "equ_p2 = Matrix(\n",
    "    [[Eq(v1*(1/R2 + 1/R1) - v2/R2, 0)],\n",
    "    [Eq(I_V2 + v2*(1/R3 + 1/R2) - v1/R2, 0)],\n",
    "    [Eq(v2, V2)]])\n",
    "equ_p2"
   ]
  },
  {
   "cell_type": "code",
   "execution_count": 7,
   "metadata": {},
   "outputs": [
    {
     "data": {
      "image/png": "[encoded data removed]",
      "text/latex": [
       "$$\\left \\{ I_{V2} : - \\frac{V_{2} \\left(R_{1} + R_{2} + R_{3}\\right)}{R_{3} \\left(R_{1} + R_{2}\\right)}, \\quad v_{1} : \\frac{R_{1} V_{2}}{R_{1} + R_{2}}, \\quad v_{2} : V_{2}\\right \\}$$"
      ],
      "text/plain": [
       "⎧      -V₂⋅(R₁ + R₂ + R₃)        R₁⋅V₂         ⎫\n",
       "⎨I_V2: ───────────────────, v₁: ───────, v₂: V₂⎬\n",
       "⎩          R₃⋅(R₁ + R₂)         R₁ + R₂        ⎭"
      ]
     },
     "execution_count": 7,
     "metadata": {},
     "output_type": "execute_result"
    }
   ],
   "source": [
    "# find symbolic solution\n",
    "u_p2 = solve(equ_p2,[v1, v2, I_V2])\n",
    "u_p2"
   ]
  },
  {
   "cell_type": "markdown",
   "metadata": {},
   "source": [
    "$z_{12} = \\frac {V_1}{I_2} \\text{  when  } I_1=0$ "
   ]
  },
  {
   "cell_type": "code",
   "execution_count": 8,
   "metadata": {},
   "outputs": [
    {
     "data": {
      "image/png": "[encoded data removed]",
      "text/latex": [
       "$$\\frac{R_{1} R_{3}}{R_{1} + R_{2} + R_{3}}$$"
      ],
      "text/plain": [
       "   R₁⋅R₃    \n",
       "────────────\n",
       "R₁ + R₂ + R₃"
      ]
     },
     "execution_count": 8,
     "metadata": {},
     "output_type": "execute_result"
    }
   ],
   "source": [
    "z12 = -u_p2[v1]/u_p2[I_V2]\n",
    "z12"
   ]
  },
  {
   "cell_type": "markdown",
   "metadata": {},
   "source": [
    "$z_{22} = \\frac {V_2}{I_2} \\text{  when  } I_1=0$  "
   ]
  },
  {
   "cell_type": "code",
   "execution_count": 9,
   "metadata": {},
   "outputs": [
    {
     "data": {
      "image/png": "[encoded data removed]",
      "text/latex": [
       "$$\\frac{R_{3} \\left(R_{1} + R_{2}\\right)}{R_{1} + R_{2} + R_{3}}$$"
      ],
      "text/plain": [
       "R₃⋅(R₁ + R₂)\n",
       "────────────\n",
       "R₁ + R₂ + R₃"
      ]
     },
     "execution_count": 9,
     "metadata": {},
     "output_type": "execute_result"
    }
   ],
   "source": [
    "z22 = -u_p2[v2]/u_p2[I_V2]\n",
    "z22"
   ]
  },
  {
   "cell_type": "markdown",
   "metadata": {},
   "source": [
    "R1 = R3 = 96.25 ohms and R2 equal to 71.15 ohms"
   ]
  },
  {
   "cell_type": "code",
   "execution_count": 10,
   "metadata": {},
   "outputs": [],
   "source": [
    "R1_val = 96.25\n",
    "R2_val = 71.15\n",
    "R3_val = R1_val"
   ]
  },
  {
   "cell_type": "code",
   "execution_count": 11,
   "metadata": {},
   "outputs": [],
   "source": [
    "z11_val = z11.subs({R1:R1_val,R2:R2_val,R3:R3_val})\n",
    "z12_val = z12.subs({R1:R1_val,R2:R2_val,R3:R3_val})\n",
    "z21_val = z21.subs({R1:R1_val,R2:R2_val,R3:R3_val})\n",
    "z22_val = z22.subs({R1:R1_val,R2:R2_val,R3:R3_val})\n",
    "\n",
    "Z = np.array([[z11_val, z12_val],\n",
    "               [z21_val, z22_val]],dtype=np.float)\n",
    "\n",
    "det_z = np.linalg.det(Z)"
   ]
  },
  {
   "cell_type": "code",
   "execution_count": 12,
   "metadata": {},
   "outputs": [
    {
     "data": {
      "text/plain": [
       "array([[61.11227005, 35.13772995],\n",
       "       [35.13772995, 61.11227005]])"
      ]
     },
     "execution_count": 12,
     "metadata": {},
     "output_type": "execute_result"
    }
   ],
   "source": [
    "Z"
   ]
  },
  {
   "cell_type": "raw",
   "metadata": {},
   "source": [
    "## Convert Z to Y\n",
    "\n",
    "\n",
    "Admittance parameters or Y-parameters (the elements of an admittance matrix or Y-matrix) are properties used in many areas of electrical engineering, such as power, electronics, and telecommunications. These parameters are used to describe the electrical behavior of linear electrical networks. They are also used to describe the small-signal (linearized) response of non-linear networks. Y parameters are also known as short circuited admittance parameters. They are members of a family of similar parameters used in electronic engineering, other examples being: S-parameters,[1] Z-parameters,[2] H-parameters, T-parameters or ABCD-parameters.[3][4]\n",
    "\n"
   ]
  },
  {
   "cell_type": "raw",
   "metadata": {},
   "source": [
    "Y = np.array([[z22_val/det_z,-z12_val/det_z],\n",
    "              [-z21_val/det_z,z11_val/det_z]],dtype=np.float)\n",
    "\n",
    "Y"
   ]
  },
  {
   "cell_type": "markdown",
   "metadata": {},
   "source": [
    "## Convert Z to S\n",
    "\n",
    "Scattering parameters or S-parameters (the elements of a scattering matrix or S-matrix) describe the electrical behavior of linear electrical networks when undergoing various steady state stimuli by electrical signals.\n",
    "\n",
    "The parameters are useful for several branches of electrical engineering, including electronics, communication systems design, and especially for microwave engineering.\n",
    "\n",
    "The S-parameters are members of a family of similar parameters, other examples being: Y-parameters,[1] Z-parameters,[2] H-parameters, T-parameters or ABCD-parameters.[3][4] They differ from these, in the sense that S-parameters do not use open or short circuit conditions to characterize a linear electrical network; instead, matched loads are used. These terminations are much easier to use at high signal frequencies than open-circuit and short-circuit terminations. Contrary to popular belief, the quantities are not measured in terms of power (except in now-obsolete six-port network analyzers). Modern vector network analyzers measure amplitude and phase of voltage traveling wave phasors using essentially the same circuit as that used for the demodulation of digitally modulated wireless signals.\n",
    "\n",
    "Many electrical properties of networks of components (inductors, capacitors, resistors) may be expressed using S-parameters, such as gain, return loss, voltage standing wave ratio (VSWR), reflection coefficient and amplifier stability. The term 'scattering' is more common to optical engineering than RF engineering, referring to the effect observed when a plane electromagnetic wave is incident on an obstruction or passes across dissimilar dielectric media. In the context of S-parameters, scattering refers to the way in which the traveling currents and voltages in a transmission line are affected when they meet a discontinuity caused by the insertion of a network into the transmission line. This is equivalent to the wave meeting an impedance differing from the line's characteristic impedance.\n",
    "\n",
    "Although applicable at any frequency, S-parameters are mostly used for networks operating at radio frequency (RF) and microwave frequencies where signal power and energy considerations are more easily quantified than currents and voltages. S-parameters change with the measurement frequency, so frequency must be specified for any S-parameter measurements stated, in addition to the characteristic impedance or system impedance.\n",
    "\n",
    "S-parameters are readily represented in matrix form and obey the rules of matrix algebra.\n",
    "\n",
    "\n",
    "$s_{11} = \\frac {(Z_{11}-Z_o)(Z_{22}+Z_o)-Z_{12}Z_{21}} {\\Delta Z}$\n",
    "\n",
    "$s_{12} = \\frac {2Z_{12}Z_o} {\\Delta Z}$\n",
    "\n",
    "$s_{21} = \\frac {2Z_{21}Z_o} {\\Delta Z}$\n",
    "\n",
    "$s_{22} = \\frac {(Z_{11}+Z_o)(Z_{22}-Z_o)-Z_{12}Z_{21}} {\\Delta Z}$\n",
    "\n",
    "$\\Delta Z = (Z_{11}+Z_o)(Z_{22}+Z_o)-Z_{12}Z_{21}$\n",
    "\n",
    "The 2-port S-parameters have the following generic descriptions:  \n",
    "$S_{11} \\text{ is the input port voltage reflection coefficient}$  \n",
    "$S_{12} \\text{ is the reverse voltage gain}$  \n",
    "$S_{21} \\text{ is the forward voltage gain}$  \n",
    "$S_{22} \\text{ is the output port voltage reflection coefficient}$  \n",
    "\n"
   ]
  },
  {
   "cell_type": "code",
   "execution_count": 14,
   "metadata": {},
   "outputs": [],
   "source": [
    "Z_o = 50 # characteristic impedance\n",
    "del_z = (z11_val+Z_o)*(z22_val+Z_o)-z12_val*z21_val\n",
    "\n",
    "S = np.array([[((z11_val-Z_o)*(z22_val-Z_o)-z12_val*z21_val)/del_z,(2*z12_val*Z_o)/del_z],\n",
    "              [(2*z21_val*Z_o)/del_z,((z11_val+Z_o)*(z22_val-Z_o)-z12_val*z21_val)/del_z]],dtype=np.float)"
   ]
  },
  {
   "cell_type": "code",
   "execution_count": 15,
   "metadata": {},
   "outputs": [
    {
     "data": {
      "text/plain": [
       "array([[-1.00004488e-01,  3.16234863e-01],\n",
       "       [ 3.16234863e-01,  4.45363654e-06]])"
      ]
     },
     "execution_count": 15,
     "metadata": {},
     "output_type": "execute_result"
    }
   ],
   "source": [
    "S"
   ]
  },
  {
   "cell_type": "markdown",
   "metadata": {},
   "source": [
    "### Input return loss\n",
    "Input return loss (RLin) indicates impedance match of the port to the source. A number of 10 dB or greater, indicates that the match is probably acceptable.\n",
    "\n",
    "$RL_{in} =-20\\log_{10}\\left|S_{11}\\right|$"
   ]
  },
  {
   "cell_type": "code",
   "execution_count": 16,
   "metadata": {},
   "outputs": [
    {
     "name": "stdout",
     "output_type": "stream",
     "text": [
      "Input return loss = 20.00 dB\n"
     ]
    }
   ],
   "source": [
    "print('Input return loss = {:.2f} dB'.format(-20*np.log10(np.abs(S[0,0]))))"
   ]
  },
  {
   "cell_type": "markdown",
   "metadata": {},
   "source": [
    "### Insertion loss\n",
    "Insertion loss (IL) is the reciprocal of the magnitude of the transmission coefficient, S21, expressed in decibels.\n",
    "\n",
    "$IL=-20\\log _{10} \\left|S_{21} \\right|$"
   ]
  },
  {
   "cell_type": "code",
   "execution_count": 17,
   "metadata": {},
   "outputs": [
    {
     "name": "stdout",
     "output_type": "stream",
     "text": [
      "Insertion loss = 10.00\n"
     ]
    }
   ],
   "source": [
    "print('Insertion loss = {:.2f}'.format(-20*np.log10(np.abs(S[1,0]))))"
   ]
  },
  {
   "cell_type": "code",
   "execution_count": null,
   "metadata": {},
   "outputs": [],
   "source": []
  },
  {
   "cell_type": "code",
   "execution_count": null,
   "metadata": {},
   "outputs": [],
   "source": []
  },
  {
   "cell_type": "markdown",
   "metadata": {},
   "source": [
    "## Band Pass Filter\n",
    "The circuit below is a band pass filter designed from normalized filter design tables. \n",
    "\n",
    "The Bessel filter is a linear phase filter and the low pass values for a 3rd order filter with equal termination resistors was selected for this example.\n",
    "\n",
    "\n",
    "![schematic](BPF_10MHz.png)\n",
    "\n",
    "The link to the schematic in EasyEDA is [here](https://easyeda.com/editor#mode=sim,id=|6b1460bfe8ec4872b7d7fd3038f38331|82658727399e487c94ebe177746e0ba0|ea67be55cc5c49f288edfa4ed837b1f0|8ea3b89798114238a453a1c678008c07|bef561e1caa74d498d621a82362fc683|3b000d947aad4568aba52d9cefa5715c).\n",
    "\n",
    "\n",
    "\n",
    "fo = 10MHz\n",
    "BW3dB = 1 MHz\n",
    "\n",
    "\n",
    "~~~\n",
    "3rd order Bessel LPF prototype <<<<  doesnt work\n",
    "Rs/Rl = 1\n",
    "C1 = 0.3374\n",
    "L2 = 0.9705\n",
    "C1 = 2.2034\n",
    "\n",
    "3rd order Butterworth LPF prototype\n",
    "Rs/Rl = 1\n",
    "C1 = 1\n",
    "L2 = 2\n",
    "C1 = 1\n",
    "\n",
    "1dB Chebyshev LPF prototype\n",
    "Rs/Rl = 1\n",
    "C1 = 2.216\n",
    "L2 = 1.0883\n",
    "C1 = 2.216\n",
    "\n",
    "Linear phase LPF prototype <<<<  doesnt work\n",
    "Rs/Rl = 1\n",
    "C1 = 0.5534\n",
    "L2 = 1.0218\n",
    "C1 = 2.425\n",
    "\n",
    "~~~\n"
   ]
  },
  {
   "cell_type": "code",
   "execution_count": 18,
   "metadata": {},
   "outputs": [
    {
     "name": "stdout",
     "output_type": "stream",
     "text": [
      "C1=3.2nF\n",
      "L1=79.6nH\n"
     ]
    }
   ],
   "source": [
    "# 1st parallel branch from source\n",
    "R = 50 # source and load impedance\n",
    "B = 1e6 # bandwidth\n",
    "fo = 10e6 # center frequency\n",
    "\n",
    "# normalized element values\n",
    "C1n = 1\n",
    "L1n = 1\n",
    "\n",
    "# low pass to band pass transformation\n",
    "C1a = C1n/(2*np.pi*R*B)\n",
    "print('C1={:.1f}nF'.format(C1a*1e9))\n",
    "L1a = R*B/(2*np.pi*fo**2*L1n)\n",
    "print('L1={:.1f}nH'.format(L1a*1e9))"
   ]
  },
  {
   "cell_type": "code",
   "execution_count": 19,
   "metadata": {},
   "outputs": [
    {
     "name": "stdout",
     "output_type": "stream",
     "text": [
      "C1=15.9pF\n",
      "L1=15.9uH\n"
     ]
    }
   ],
   "source": [
    "# 1st series branch from source\n",
    "C2n = 2\n",
    "L2n = 2\n",
    "\n",
    "C2a = B/(2*np.pi*fo**2*C2n*R)\n",
    "print('C1={:.1f}pF'.format(C2a*1e12))\n",
    "L2a = R*L2n/(2*np.pi*B)\n",
    "print('L1={:.1f}uH'.format(L2a*1e6))"
   ]
  },
  {
   "cell_type": "code",
   "execution_count": 20,
   "metadata": {},
   "outputs": [
    {
     "name": "stdout",
     "output_type": "stream",
     "text": [
      "C3=3.2nF\n",
      "L3=79.6nH\n"
     ]
    }
   ],
   "source": [
    "# 2nd parallel branch from source\n",
    "C3n = 1\n",
    "L3n = 1\n",
    "\n",
    "C3a = C3n/(2*np.pi*R*B)\n",
    "print('C3={:.1f}nF'.format(C3a*1e9))\n",
    "L3a = R*B/(2*np.pi*fo**2*L3n)\n",
    "print('L3={:.1f}nH'.format(L3a*1e9))"
   ]
  },
  {
   "cell_type": "markdown",
   "metadata": {},
   "source": [
    "## Find Z11 and Z12\n",
    "Remove V2 from net list\n",
    "\n",
    "~~~\n",
    "V1 1 0 1\n",
    "*V2 2 0 1\n",
    "L1 1 3 77.2e-6\n",
    "C1 1 0 1.072e-9\n",
    "C2 2 0 7.0e-9\n",
    "L2 1 0 236.1e-9\n",
    "L3 2 0 36.1e-9\n",
    "C3 2 3 3.3e-12\n",
    "\n",
    "\n",
    "[[Eq(C1*s*v1 + I_L1 + I_L2 + I_V1, 0)],\n",
    "[Eq(-C3*s*v3 + I_L3 + v2*(C2*s + C3*s), 0)],\n",
    "[Eq(-C3*s*v2 + C3*s*v3 - I_L1, 0)],\n",
    "[Eq(v1, V1)],\n",
    "[Eq(-I_L1*L1*s + v1 - v3, 0)],\n",
    "[Eq(-I_L2*L2*s + v1, 0)],\n",
    "[Eq(-I_L3*L3*s + v2, 0)]]\n",
    "\n",
    "\n",
    "str(equ.free_symbols)\n",
    "'{L2, I_L2, v2, v1, I_V1, C1, C3, v3, V1, L1, I_L3, s, C2, L3, I_L1}'\n",
    "str(X)\n",
    "'[v1, v2, v3, I_V1, I_L1, I_L2, I_L3]'\n",
    "~~~\n",
    "\n",
    "\n",
    "~~~\n",
    "check P1 active\n",
    "\n",
    "[[Eq(C1*s*v1 + I_L1 + I_L2 + I_V1, 0)],\n",
    "[Eq(-C3*s*v3 + I_L3 + v2*(C2*s + C3*s), 0)],\n",
    "[Eq(-C3*s*v2 + C3*s*v3 - I_L1, 0)],\n",
    "[Eq(v1, V1)],\n",
    "[Eq(-I_L1*L1*s + v1 - v3, 0)],\n",
    "[Eq(-I_L2*L2*s + v1, 0)],\n",
    "[Eq(-I_L3*L3*s + v2, 0)]]\n",
    "\n",
    "str(equ.free_symbols)\n",
    "'{L2, I_L2, v2, v1, I_V1, C1, C3, v3, V1, L1, I_L3, s, C2, L3, I_L1}'\n",
    "str(X)\n",
    "'[v1, v2, v3, I_V1, I_L1, I_L2, I_L3]'\n",
    "\n",
    "check P2 active\n",
    "\n",
    "[[Eq(C1*s*v1 + I_L1 + I_L2, 0)],\n",
    "[Eq(-C3*s*v3 + I_L3 + I_V2 + v2*(C2*s + C3*s), 0)],\n",
    "[Eq(-C3*s*v2 + C3*s*v3 - I_L1, 0)],\n",
    "[Eq(v2, V2)],\n",
    "[Eq(-I_L1*L1*s + v1 - v3, 0)],\n",
    "[Eq(-I_L2*L2*s + v1, 0)],\n",
    "[Eq(-I_L3*L3*s + v2, 0)]]\n",
    "\n",
    "str(equ.free_symbols)\n",
    "'{V2, L2, I_L2, v2, v1, C1, C3, L1, v3, I_L3, s, C2, L3, I_V2, I_L1}'\n",
    "str(X)\n",
    "'[v1, v2, v3, I_V2, I_L1, I_L2, I_L3]'\n",
    "\n",
    "~~~\n"
   ]
  },
  {
   "cell_type": "code",
   "execution_count": 21,
   "metadata": {},
   "outputs": [
    {
     "data": {
      "text/latex": [
       "$$\\left[\\begin{matrix}C_{1} s v_{1} + I_{L1} + I_{L2} + I_{V1} = 0\\\\- C_{3} s v_{3} + I_{L3} + v_{2} \\left(C_{2} s + C_{3} s\\right) = 0\\\\- C_{3} s v_{2} + C_{3} s v_{3} - I_{L1} = 0\\\\v_{1} = V_{1}\\\\- I_{L1} L_{1} s + v_{1} - v_{3} = 0\\\\- I_{L2} L_{2} s + v_{1} = 0\\\\- I_{L3} L_{3} s + v_{2} = 0\\end{matrix}\\right]$$"
      ],
      "text/plain": [
       "⎡   C₁⋅s⋅v₁ + I_L1 + I_L2 + I_V1 = 0   ⎤\n",
       "⎢                                      ⎥\n",
       "⎢-C₃⋅s⋅v₃ + I_L3 + v₂⋅(C₂⋅s + C₃⋅s) = 0⎥\n",
       "⎢                                      ⎥\n",
       "⎢    -C₃⋅s⋅v₂ + C₃⋅s⋅v₃ - I_L1 = 0     ⎥\n",
       "⎢                                      ⎥\n",
       "⎢               v₁ = V₁                ⎥\n",
       "⎢                                      ⎥\n",
       "⎢       -I_L1⋅L₁⋅s + v₁ - v₃ = 0       ⎥\n",
       "⎢                                      ⎥\n",
       "⎢         -I_L2⋅L₂⋅s + v₁ = 0          ⎥\n",
       "⎢                                      ⎥\n",
       "⎣         -I_L3⋅L₃⋅s + v₂ = 0          ⎦"
      ]
     },
     "execution_count": 21,
     "metadata": {},
     "output_type": "execute_result"
    }
   ],
   "source": [
    "# declare the following symbols\n",
    "L2, I_L2, v2, v1, I_V1, C1, C3, v3, V1, L1, I_L3, s, C2, L3, I_L1 = symbols('L2 I_L2 v2 v1 I_V1 C1 C3 v3 V1 L1 I_L3 s C2 L3 I_L1')\n",
    "\n",
    "# use the equations generated by nodal analysis\n",
    "equ_p1 = Matrix(\n",
    "    [[Eq(C1*s*v1 + I_L1 + I_L2 + I_V1, 0)],\n",
    "    [Eq(-C3*s*v3 + I_L3 + v2*(C2*s + C3*s), 0)],\n",
    "    [Eq(-C3*s*v2 + C3*s*v3 - I_L1, 0)],\n",
    "    [Eq(v1, V1)],\n",
    "    [Eq(-I_L1*L1*s + v1 - v3, 0)],\n",
    "    [Eq(-I_L2*L2*s + v1, 0)],\n",
    "    [Eq(-I_L3*L3*s + v2, 0)]])\n",
    "equ_p1"
   ]
  },
  {
   "cell_type": "code",
   "execution_count": null,
   "metadata": {},
   "outputs": [],
   "source": []
  },
  {
   "cell_type": "code",
   "execution_count": 22,
   "metadata": {},
   "outputs": [
    {
     "data": {
      "image/png": "[encoded data removed]",
      "text/latex": [
       "$$\\left \\{ I_{L1} : \\frac{3.18309886183791 \\cdot 10^{36} V_{1} s \\left(1.26651479552926 \\cdot 10^{27} s^{2} + 1.0 \\cdot 10^{45}\\right)}{3.20811945458895 \\cdot 10^{56} s^{4} + 5.07872433007219 \\cdot 10^{74} s^{2} + 1.0 \\cdot 10^{90}}, \\quad I_{L2} : \\frac{62831.853071796 V_{1}}{s}, \\quad I_{L3} : \\frac{3.18309886183791 \\cdot 10^{81} V_{1} s}{3.20811945458895 \\cdot 10^{56} s^{4} + 5.07872433007219 \\cdot 10^{74} s^{2} + 1.0 \\cdot 10^{90}}, \\quad I_{V1} : - \\frac{3.1415926535898 \\cdot 10^{-37} V_{1} \\left(3.25050460404964 \\cdot 10^{84} s^{6} + 5.15872024536797 \\cdot 10^{102} s^{4} + 2.0365811215069 \\cdot 10^{118} s^{2} + 2.0 \\cdot 10^{131}\\right)}{s \\left(3.20811945458895 \\cdot 10^{56} s^{4} + 5.07872433007219 \\cdot 10^{74} s^{2} + 1.0 \\cdot 10^{90}\\right)}, \\quad v_{1} : V_{1}, \\quad v_{2} : \\frac{2.53302959105845 \\cdot 10^{74} V_{1} s^{2}}{3.20811945458895 \\cdot 10^{56} s^{4} + 5.07872433007219 \\cdot 10^{74} s^{2} + 1.0 \\cdot 10^{90}}, \\quad v_{3} : \\frac{1.0 \\cdot 10^{46} V_{1} \\left(2.54569473901374 \\cdot 10^{28} s^{2} + 1.0 \\cdot 10^{44}\\right)}{3.20811945458895 \\cdot 10^{56} s^{4} + 5.07872433007219 \\cdot 10^{74} s^{2} + 1.0 \\cdot 10^{90}}\\right \\}$$"
      ],
      "text/plain": [
       "⎧                                ⎛                      2          ⎞          \n",
       "⎪      3.18309886183791e+36⋅V₁⋅s⋅⎝1.26651479552926e+27⋅s  + 1.0e+45⎠        62\n",
       "⎨I_L1: ─────────────────────────────────────────────────────────────, I_L2: ──\n",
       "⎪                             4                         2                     \n",
       "⎩       3.20811945458895e+56⋅s  + 5.07872433007219e+74⋅s  + 1.0e+90           \n",
       "\n",
       "                                                                              \n",
       "831.853071796⋅V₁                         3.18309886183791e+81⋅V₁⋅s            \n",
       "────────────────, I_L3: ──────────────────────────────────────────────────────\n",
       "      s                                       4                         2     \n",
       "                        3.20811945458895e+56⋅s  + 5.07872433007219e+74⋅s  + 1.\n",
       "\n",
       "                                     ⎛                      6                 \n",
       "             -3.1415926535898e-37⋅V₁⋅⎝3.25050460404964e+84⋅s  + 5.158720245367\n",
       "─────, I_V1: ─────────────────────────────────────────────────────────────────\n",
       "                                        ⎛                      4              \n",
       "0e+90                                 s⋅⎝3.20811945458895e+56⋅s  + 5.078724330\n",
       "\n",
       "         4                         2           ⎞                              \n",
       "97e+102⋅s  + 2.0365811215069e+118⋅s  + 2.0e+131⎠                              \n",
       "─────────────────────────────────────────────────, v₁: V₁, v₂: ───────────────\n",
       "           2          ⎞                                                       \n",
       "07219e+74⋅s  + 1.0e+90⎠                                        3.2081194545889\n",
       "\n",
       "                           2                                        ⎛         \n",
       "  2.53302959105845e+74⋅V₁⋅s                              1.0e+46⋅V₁⋅⎝2.5456947\n",
       "────────────────────────────────────────────, v₃: ────────────────────────────\n",
       "       4                         2                                      4     \n",
       "5e+56⋅s  + 5.07872433007219e+74⋅s  + 1.0e+90      3.20811945458895e+56⋅s  + 5.\n",
       "\n",
       "             2          ⎞      ⎫\n",
       "3901374e+28⋅s  + 1.0e+44⎠      ⎪\n",
       "───────────────────────────────⎬\n",
       "                    2          ⎪\n",
       "07872433007219e+74⋅s  + 1.0e+90⎭"
      ]
     },
     "execution_count": 22,
     "metadata": {},
     "output_type": "execute_result"
    }
   ],
   "source": [
    "element_values = {L1:L1a,C1:C1a,C2:C2a,L2:L2a,L3:L3a,C3:C3a}\n",
    "\n",
    "# find solution\n",
    "u_p1 = solve(equ_p1.subs(element_values),[v1, v2, v3, I_V1, I_L1, I_L2, I_L3])\n",
    "u_p1"
   ]
  },
  {
   "cell_type": "markdown",
   "metadata": {},
   "source": [
    "$z_{11} = \\frac {V_1}{I_1} \\text{  when  } I_2=0$  "
   ]
  },
  {
   "cell_type": "code",
   "execution_count": 23,
   "metadata": {},
   "outputs": [
    {
     "data": {
      "image/png": "[encoded data removed]",
      "text/latex": [
       "$$\\frac{1.0 \\left(1.02117613845421 \\cdot 10^{93} s^{5} + 1.61660816346412 \\cdot 10^{111} s^{3} + 3.1830988618379 \\cdot 10^{126} s\\right)}{3.25050460404964 \\cdot 10^{84} s^{6} + 5.15872024536797 \\cdot 10^{102} s^{4} + 2.0365811215069 \\cdot 10^{118} s^{2} + 2.0 \\cdot 10^{131}}$$"
      ],
      "text/plain": [
       "       ⎛                      5                          3                    \n",
       "   1.0⋅⎝1.02117613845421e+93⋅s  + 1.61660816346412e+111⋅s  + 3.1830988618379e+\n",
       "──────────────────────────────────────────────────────────────────────────────\n",
       "                      6                          4                         2  \n",
       "3.25050460404964e+84⋅s  + 5.15872024536797e+102⋅s  + 2.0365811215069e+118⋅s  +\n",
       "\n",
       "     ⎞   \n",
       "126⋅s⎠   \n",
       "─────────\n",
       "         \n",
       " 2.0e+131"
      ]
     },
     "execution_count": 23,
     "metadata": {},
     "output_type": "execute_result"
    }
   ],
   "source": [
    "z11 = -u_p1[v1]/u_p1[I_V1]\n",
    "z11.simplify()"
   ]
  },
  {
   "cell_type": "markdown",
   "metadata": {},
   "source": [
    "$z_{21} = \\frac {V_2}{I_1} \\text{  when  } I_2=0$  "
   ]
  },
  {
   "cell_type": "code",
   "execution_count": 24,
   "metadata": {},
   "outputs": [
    {
     "data": {
      "image/png": "[encoded data removed]",
      "text/latex": [
       "$$\\frac{8.06288360829987 \\cdot 10^{110} s^{3}}{3.25050460404964 \\cdot 10^{84} s^{6} + 5.15872024536797 \\cdot 10^{102} s^{4} + 2.0365811215069 \\cdot 10^{118} s^{2} + 2.0 \\cdot 10^{131}}$$"
      ],
      "text/plain": [
       "                                                       3                      \n",
       "                                8.06288360829987e+110⋅s                       \n",
       "──────────────────────────────────────────────────────────────────────────────\n",
       "                      6                          4                         2  \n",
       "3.25050460404964e+84⋅s  + 5.15872024536797e+102⋅s  + 2.0365811215069e+118⋅s  +\n",
       "\n",
       "         \n",
       "         \n",
       "─────────\n",
       "         \n",
       " 2.0e+131"
      ]
     },
     "execution_count": 24,
     "metadata": {},
     "output_type": "execute_result"
    }
   ],
   "source": [
    "z21 = -u_p1[v2]/u_p1[I_V1]\n",
    "z21.simplify()"
   ]
  },
  {
   "cell_type": "code",
   "execution_count": null,
   "metadata": {},
   "outputs": [],
   "source": []
  },
  {
   "cell_type": "markdown",
   "metadata": {},
   "source": [
    "## Find z12 & z22\n",
    "Remove V1 from net list.\n",
    "\n",
    "~~~\n",
    "*V1 1 0 1\n",
    "V2 2 0 1\n",
    "L1 1 3 77.2e-6\n",
    "C1 1 0 1.072e-9\n",
    "C2 2 0 7.0e-9\n",
    "L2 1 0 236.1e-9\n",
    "L3 2 0 36.1e-9\n",
    "C3 2 3 3.3e-12\n",
    "\n",
    "\n",
    "[[Eq(C1*s*v1 + I_L1 + I_L2, 0)],\n",
    "[Eq(-C3*s*v3 + I_L3 + I_V2 + v2*(C2*s + C3*s), 0)],\n",
    "[Eq(-C3*s*v2 + C3*s*v3 - I_L1, 0)],\n",
    "[Eq(v2, V2)],\n",
    "[Eq(-I_L1*L1*s + v1 - v3, 0)],\n",
    "[Eq(-I_L2*L2*s + v1, 0)],\n",
    "[Eq(-I_L3*L3*s + v2, 0)]]\n",
    "\n",
    "str(equ.free_symbols)\n",
    "'{V2, L2, I_L2, v2, v1, C1, C3, L1, v3, I_L3, s, C2, L3, I_V2, I_L1}'\n",
    "str(X)\n",
    "'[v1, v2, v3, I_V2, I_L1, I_L2, I_L3]'\n",
    "\n",
    "\n",
    "check P2 active\n",
    "\n",
    "[[Eq(C1*s*v1 + I_L1 + I_L2, 0)],\n",
    "[Eq(-C3*s*v3 + I_L3 + I_V2 + v2*(C2*s + C3*s), 0)],\n",
    "[Eq(-C3*s*v2 + C3*s*v3 - I_L1, 0)],\n",
    "[Eq(v2, V2)],\n",
    "[Eq(-I_L1*L1*s + v1 - v3, 0)],\n",
    "[Eq(-I_L2*L2*s + v1, 0)],\n",
    "[Eq(-I_L3*L3*s + v2, 0)]]\n",
    "\n",
    "str(equ.free_symbols)\n",
    "'{V2, L2, I_L2, v2, v1, C1, C3, L1, v3, I_L3, s, C2, L3, I_V2, I_L1}'\n",
    "str(X)\n",
    "'[v1, v2, v3, I_V2, I_L1, I_L2, I_L3]'\n",
    "\n",
    "~~~\n"
   ]
  },
  {
   "cell_type": "code",
   "execution_count": 25,
   "metadata": {},
   "outputs": [
    {
     "data": {
      "text/latex": [
       "$$\\left[\\begin{matrix}C_{1} s v_{1} + I_{L1} + I_{L2} = 0\\\\- C_{3} s v_{3} + I_{L3} + I_{V2} + v_{2} \\left(C_{2} s + C_{3} s\\right) = 0\\\\- C_{3} s v_{2} + C_{3} s v_{3} - I_{L1} = 0\\\\v_{2} = V_{2}\\\\- I_{L1} L_{1} s + v_{1} - v_{3} = 0\\\\- I_{L2} L_{2} s + v_{1} = 0\\\\- I_{L3} L_{3} s + v_{2} = 0\\end{matrix}\\right]$$"
      ],
      "text/plain": [
       "⎡          C₁⋅s⋅v₁ + I_L1 + I_L2 = 0          ⎤\n",
       "⎢                                             ⎥\n",
       "⎢-C₃⋅s⋅v₃ + I_L3 + I_V2 + v₂⋅(C₂⋅s + C₃⋅s) = 0⎥\n",
       "⎢                                             ⎥\n",
       "⎢        -C₃⋅s⋅v₂ + C₃⋅s⋅v₃ - I_L1 = 0        ⎥\n",
       "⎢                                             ⎥\n",
       "⎢                   v₂ = V₂                   ⎥\n",
       "⎢                                             ⎥\n",
       "⎢          -I_L1⋅L₁⋅s + v₁ - v₃ = 0           ⎥\n",
       "⎢                                             ⎥\n",
       "⎢             -I_L2⋅L₂⋅s + v₁ = 0             ⎥\n",
       "⎢                                             ⎥\n",
       "⎣             -I_L3⋅L₃⋅s + v₂ = 0             ⎦"
      ]
     },
     "execution_count": 25,
     "metadata": {},
     "output_type": "execute_result"
    }
   ],
   "source": [
    "# declare the following symbols\n",
    "V2, L2, I_L2, v2, v1, C1, C3, L1, v3, I_L3, s, C2, L3, I_V2, I_L1 = symbols('V2 L2 I_L2 v2 v1 C1 C3 L1 v3 I_L3 s C2 L3 I_V2 I_L1')\n",
    "\n",
    "# use the equations generated by nodal analysis\n",
    "equ_p2 = Matrix(\n",
    "    [[Eq(C1*s*v1 + I_L1 + I_L2, 0)],\n",
    "    [Eq(-C3*s*v3 + I_L3 + I_V2 + v2*(C2*s + C3*s), 0)],\n",
    "    [Eq(-C3*s*v2 + C3*s*v3 - I_L1, 0)],\n",
    "    [Eq(v2, V2)],\n",
    "    [Eq(-I_L1*L1*s + v1 - v3, 0)],\n",
    "    [Eq(-I_L2*L2*s + v1, 0)],\n",
    "    [Eq(-I_L3*L3*s + v2, 0)]])\n",
    "equ_p2"
   ]
  },
  {
   "cell_type": "code",
   "execution_count": 26,
   "metadata": {},
   "outputs": [
    {
     "data": {
      "image/png": "[encoded data removed]",
      "text/latex": [
       "$$\\left \\{ I_{L1} : - \\frac{3.18309886183791 \\cdot 10^{36} V_{2} s \\left(1.01321183642338 \\cdot 10^{28} s^{2} + 2.0 \\cdot 10^{41}\\right)}{2.56649556367108 \\cdot 10^{57} s^{4} + 2.03148973202887 \\cdot 10^{73} s^{2} + 2.0 \\cdot 10^{86}}, \\quad I_{L2} : \\frac{6.36619772367582 \\cdot 10^{77} V_{2} s}{2.56649556367108 \\cdot 10^{57} s^{4} + 2.03148973202887 \\cdot 10^{73} s^{2} + 2.0 \\cdot 10^{86}}, \\quad I_{L3} : \\frac{12566370.6143592 V_{2}}{s}, \\quad I_{V2} : - \\frac{1.25663706143592 \\cdot 10^{-38} V_{2} \\left(3.25050460404964 \\cdot 10^{84} s^{6} + 5.15872024536797 \\cdot 10^{102} s^{4} + 2.0365811215069 \\cdot 10^{118} s^{2} + 2.0 \\cdot 10^{131}\\right)}{s \\left(2.56649556367108 \\cdot 10^{57} s^{4} + 2.03148973202887 \\cdot 10^{73} s^{2} + 2.0 \\cdot 10^{86}\\right)}, \\quad v_{1} : \\frac{1.01321183642338 \\cdot 10^{73} V_{2} s^{2}}{2.56649556367108 \\cdot 10^{57} s^{4} + 2.03148973202887 \\cdot 10^{73} s^{2} + 2.0 \\cdot 10^{86}}, \\quad v_{2} : V_{2}, \\quad v_{3} : \\frac{318309886183791.0 V_{2} s^{2} \\left(8.06288360829987 \\cdot 10^{42} s^{2} + 3.19901435614709 \\cdot 10^{58}\\right)}{2.56649556367108 \\cdot 10^{57} s^{4} + 2.03148973202887 \\cdot 10^{73} s^{2} + 2.0 \\cdot 10^{86}}\\right \\}$$"
      ],
      "text/plain": [
       "⎧                                 ⎛                      2          ⎞         \n",
       "⎪      -3.18309886183791e+36⋅V₂⋅s⋅⎝1.01321183642338e+28⋅s  + 2.0e+41⎠         \n",
       "⎨I_L1: ───────────────────────────────────────────────────────────────, I_L2: \n",
       "⎪                              4                         2                    \n",
       "⎩        2.56649556367108e+57⋅s  + 2.03148973202887e+73⋅s  + 2.0e+86          \n",
       "\n",
       "                                                                              \n",
       "                 6.36619772367582e+77⋅V₂⋅s                         12566370.61\n",
       "───────────────────────────────────────────────────────────, I_L3: ───────────\n",
       "                      4                         2                           s \n",
       "2.56649556367108e+57⋅s  + 2.03148973202887e+73⋅s  + 2.0e+86                   \n",
       "\n",
       "                                         ⎛                      6             \n",
       "43592⋅V₂        -1.25663706143592e-38⋅V₂⋅⎝3.25050460404964e+84⋅s  + 5.15872024\n",
       "────────, I_V2: ──────────────────────────────────────────────────────────────\n",
       "                                            ⎛                      4          \n",
       "                                          s⋅⎝2.56649556367108e+57⋅s  + 2.03148\n",
       "\n",
       "             4                         2           ⎞                          \n",
       "536797e+102⋅s  + 2.0365811215069e+118⋅s  + 2.0e+131⎠                        1.\n",
       "─────────────────────────────────────────────────────, v₁: ───────────────────\n",
       "               2          ⎞                                                   \n",
       "973202887e+73⋅s  + 2.0e+86⎠                                2.56649556367108e+5\n",
       "\n",
       "                       2                                                    2 \n",
       "01321183642338e+73⋅V₂⋅s                               318309886183791.0⋅V₂⋅s ⋅\n",
       "────────────────────────────────────────, v₂: V₂, v₃: ────────────────────────\n",
       "   4                         2                                                \n",
       "7⋅s  + 2.03148973202887e+73⋅s  + 2.0e+86                    2.56649556367108e+\n",
       "\n",
       "⎛                      2                       ⎞⎫\n",
       "⎝8.06288360829987e+42⋅s  + 3.19901435614709e+58⎠⎪\n",
       "────────────────────────────────────────────────⎬\n",
       "    4                         2                 ⎪\n",
       "57⋅s  + 2.03148973202887e+73⋅s  + 2.0e+86       ⎭"
      ]
     },
     "execution_count": 26,
     "metadata": {},
     "output_type": "execute_result"
    }
   ],
   "source": [
    "# find symbolic solution\n",
    "u_p2 = solve(equ_p2.subs(element_values),[v1, v2, v3, I_V2, I_L1, I_L2, I_L3])\n",
    "u_p2"
   ]
  },
  {
   "cell_type": "code",
   "execution_count": null,
   "metadata": {},
   "outputs": [],
   "source": []
  },
  {
   "cell_type": "markdown",
   "metadata": {},
   "source": [
    "$z_{12} = \\frac {V_1}{I_2} \\text{  when  } I_1=0$ "
   ]
  },
  {
   "cell_type": "code",
   "execution_count": 27,
   "metadata": {},
   "outputs": [
    {
     "data": {
      "image/png": "[encoded data removed]",
      "text/latex": [
       "$$\\frac{8.06288360829987 \\cdot 10^{110} s^{3}}{3.25050460404964 \\cdot 10^{84} s^{6} + 5.15872024536797 \\cdot 10^{102} s^{4} + 2.0365811215069 \\cdot 10^{118} s^{2} + 2.0 \\cdot 10^{131}}$$"
      ],
      "text/plain": [
       "                                                       3                      \n",
       "                                8.06288360829987e+110⋅s                       \n",
       "──────────────────────────────────────────────────────────────────────────────\n",
       "                      6                          4                         2  \n",
       "3.25050460404964e+84⋅s  + 5.15872024536797e+102⋅s  + 2.0365811215069e+118⋅s  +\n",
       "\n",
       "         \n",
       "         \n",
       "─────────\n",
       "         \n",
       " 2.0e+131"
      ]
     },
     "execution_count": 27,
     "metadata": {},
     "output_type": "execute_result"
    }
   ],
   "source": [
    "z12 = -u_p2[v1]/u_p2[I_V2]\n",
    "z12.simplify()"
   ]
  },
  {
   "cell_type": "markdown",
   "metadata": {},
   "source": [
    "$z_{22} = \\frac {V_2}{I_2} \\text{  when  } I_1=0$  "
   ]
  },
  {
   "cell_type": "code",
   "execution_count": 28,
   "metadata": {},
   "outputs": [
    {
     "data": {
      "image/png": "[encoded data removed]",
      "text/latex": [
       "$$\\frac{1.0 \\left(2.04235227690837 \\cdot 10^{95} s^{5} + 1.61660816346412 \\cdot 10^{111} s^{3} + 1.59154943091895 \\cdot 10^{124} s\\right)}{3.25050460404964 \\cdot 10^{84} s^{6} + 5.15872024536797 \\cdot 10^{102} s^{4} + 2.0365811215069 \\cdot 10^{118} s^{2} + 2.0 \\cdot 10^{131}}$$"
      ],
      "text/plain": [
       "       ⎛                      5                          3                    \n",
       "   1.0⋅⎝2.04235227690837e+95⋅s  + 1.61660816346412e+111⋅s  + 1.59154943091895e\n",
       "──────────────────────────────────────────────────────────────────────────────\n",
       "                      6                          4                         2  \n",
       "3.25050460404964e+84⋅s  + 5.15872024536797e+102⋅s  + 2.0365811215069e+118⋅s  +\n",
       "\n",
       "      ⎞  \n",
       "+124⋅s⎠  \n",
       "─────────\n",
       "         \n",
       " 2.0e+131"
      ]
     },
     "execution_count": 28,
     "metadata": {},
     "output_type": "execute_result"
    }
   ],
   "source": [
    "z22 = -u_p2[v2]/u_p2[I_V2]\n",
    "z22.simplify()"
   ]
  },
  {
   "cell_type": "code",
   "execution_count": null,
   "metadata": {},
   "outputs": [],
   "source": []
  },
  {
   "cell_type": "code",
   "execution_count": 29,
   "metadata": {},
   "outputs": [],
   "source": [
    "func_z11_s = lambdify(s, z11)\n",
    "func_z12_s = lambdify(s, z12) \n",
    "func_z21_s = lambdify(s, z21) \n",
    "func_z22_s = lambdify(s, z22) "
   ]
  },
  {
   "cell_type": "markdown",
   "metadata": {},
   "source": [
    "The input impedance of a two-port network is given by:\n",
    "\n",
    "$Z_{in}=Z_{11}-\\frac {Z_{12}Z_{21}} {Z_{22}+Z_{L}}$\n",
    "\n",
    "where ZL is the impedance of the load connected to port two.\n",
    "\n",
    "Similarly, the output impedance is given by:\n",
    "\n",
    "$Z_{out}=Z_{22}-\\frac {Z_{12}Z_{21}}{Z_{11}+Z_{S}}$\n",
    "\n",
    "\n",
    "Voltage gain  \n",
    "$K_v = \\frac {Z_{21}Z_{L}}{\\Delta _Z+Z_{11}Z_L}$\n",
    "\n",
    "Current gain  \n",
    "$K_i = \\frac {-Z_{21}}{Z_{22}+Z_L}$\n",
    "\n",
    "See table 4.2, page 137, Active Network Theory for circuit properties."
   ]
  },
  {
   "cell_type": "code",
   "execution_count": 40,
   "metadata": {},
   "outputs": [],
   "source": [
    "Zl = 50\n",
    "Zs = 50"
   ]
  },
  {
   "cell_type": "code",
   "execution_count": 58,
   "metadata": {},
   "outputs": [
    {
     "data": {
      "image/png": "[encoded data removed]",
      "text/plain": [
       "<Figure size 432x288 with 1 Axes>"
      ]
     },
     "metadata": {
      "needs_background": "light"
     },
     "output_type": "display_data"
    }
   ],
   "source": [
    "w = np.linspace(9.5e6*2*np.pi, 10.5e6*2*np.pi, 1000, endpoint=True)\n",
    "#w = np.linspace(8e6*2*np.pi, 12e6*2*np.pi, 1000, endpoint=True)\n",
    "\n",
    "Ki = (-func_z21_s(1j*w))/( func_z22_s(1j*w)+Zl)\n",
    "Kv = (func_z21_s(1j*w)*Zl)/((func_z11_s(1j*w)*func_z22_s(1j*w) - func_z12_s(1j*w)*func_z21_s(1j*w)) + func_z11_s(1j*w)*Zl)\n",
    "\n",
    "plt.title('Input and out put impedance')\n",
    "\n",
    "plt.plot(w/(2*np.pi)/1e6, np.abs(func_z11_s(1j*w)-(func_z12_s(1j*w)*func_z21_s(1j*w))/(func_z22_s(1j*w)+Zl)),'-',label='|Zin|')\n",
    "plt.plot(w/(2*np.pi)/1e6, np.abs(func_z22_s(1j*w)-(func_z12_s(1j*w)*func_z21_s(1j*w))/(func_z11_s(1j*w)+Zs)),'-',label='|Zout|')\n",
    "\n",
    "plt.ylabel('|ohms|')\n",
    "plt.xlabel('Frequency, MHz')\n",
    "plt.legend()\n",
    "plt.grid()\n",
    "plt.show()"
   ]
  },
  {
   "cell_type": "markdown",
   "metadata": {},
   "source": [
    "describe the plot, what do the traces mean to an engineer?"
   ]
  },
  {
   "cell_type": "code",
   "execution_count": 59,
   "metadata": {},
   "outputs": [
    {
     "data": {
      "image/png": "[encoded data removed]",
      "text/plain": [
       "<Figure size 432x288 with 1 Axes>"
      ]
     },
     "metadata": {
      "needs_background": "light"
     },
     "output_type": "display_data"
    }
   ],
   "source": [
    "w = np.linspace(9.5e6*2*np.pi, 10.5e6*2*np.pi, 1000, endpoint=True)\n",
    "#w = np.linspace(8e6*2*np.pi, 12e6*2*np.pi, 1000, endpoint=True)\n",
    "\n",
    "Ki = (-func_z21_s(1j*w))/( func_z22_s(1j*w)+Zl)\n",
    "Kv = (func_z21_s(1j*w)*Zl)/((func_z11_s(1j*w)*func_z22_s(1j*w) - func_z12_s(1j*w)*func_z21_s(1j*w)) + func_z11_s(1j*w)*Zl)\n",
    "\n",
    "plt.title('Voltage and current gain')\n",
    "\n",
    "plt.plot(w/(2*np.pi)/1e6, np.abs(Ki),'-',label='Ki')\n",
    "plt.plot(w/(2*np.pi)/1e6, np.abs(Kv),'-',label='Kv')\n",
    "\n",
    "plt.ylabel('Kv,Ki')\n",
    "plt.xlabel('Frequency, MHz')\n",
    "plt.legend()\n",
    "plt.grid()\n",
    "plt.show()"
   ]
  },
  {
   "cell_type": "markdown",
   "metadata": {},
   "source": [
    "describe the plot, what do the traces mean to an engineer?"
   ]
  },
  {
   "cell_type": "markdown",
   "metadata": {},
   "source": [
    "## Convert Z to S\n",
    "\n",
    "$s_{11} = \\frac {(Z_{11}-Z_o)(Z_{22}+Z_o)-Z_{12}Z_{21}} {\\Delta Z}$\n",
    "\n",
    "$s_{12} = \\frac {2Z_{12}Z_o} {\\Delta Z}$\n",
    "\n",
    "$s_{21} = \\frac {2Z_{21}Z_o} {\\Delta Z}$\n",
    "\n",
    "$s_{22} = \\frac {(Z_{11}+Z_o)(Z_{22}-Z_o)-Z_{12}Z_{21}} {\\Delta Z}$\n",
    "\n",
    "$\\Delta Z = (Z_{11}+Z_o)(Z_{22}+Z_o)-Z_{12}Z_{21}$\n"
   ]
  },
  {
   "cell_type": "code",
   "execution_count": 56,
   "metadata": {},
   "outputs": [],
   "source": [
    "Z_o = 50 # characteristic impedance\n",
    "#freq_list = np.linspace(9.5e6*2*np.pi, 10.5e6*2*np.pi, 1000, endpoint=True)\n",
    "w = np.linspace(8e6*2*np.pi, 12e6*2*np.pi, 1000, endpoint=True)\n",
    "s11 = np.zeros(len(w),dtype=complex)\n",
    "s12 = np.zeros(len(w),dtype=complex)\n",
    "s21 = np.zeros(len(w),dtype=complex)\n",
    "s22 = np.zeros(len(w),dtype=complex)\n",
    "\n",
    "for i in range(len(w)):\n",
    "    del_z = (func_z11_s(1j*w[i])+Z_o)*(func_z22_s(1j*w[i])+Z_o)-func_z12_s(1j*w[i])*func_z21_s(1j*w[i])\n",
    "    s11[i] = ((func_z11_s(1j*w[i])-Z_o)*(func_z22_s(1j*w[i])+Z_o)-func_z12_s(1j*w[i])*func_z21_s(1j*w[i]))/del_z\n",
    "    s12[i] = (2*func_z12_s(1j*w[i])*Z_o)/del_z\n",
    "    s21[i] = (2*func_z21_s(1j*w[i])*Z_o)/del_z\n",
    "    s22[i] = ((func_z11_s(1j*w[i])+Z_o)*(func_z22_s(1j*w[i])-Z_o)-func_z12_s(1j*w[i])*func_z21_s(1j*w[i]))/del_z\n",
    "    "
   ]
  },
  {
   "cell_type": "code",
   "execution_count": 60,
   "metadata": {},
   "outputs": [
    {
     "data": {
      "image/png": "[encoded data removed]",
      "text/plain": [
       "<Figure size 432x288 with 1 Axes>"
      ]
     },
     "metadata": {
      "needs_background": "light"
     },
     "output_type": "display_data"
    }
   ],
   "source": [
    "plt.title('plot')\n",
    "plt.plot(w/(2*np.pi)/1e6, 20*np.log10(np.abs(s11)),'-',label='|s11|dB')\n",
    "plt.plot(w/(2*np.pi)/1e6, 20*np.log10(np.abs(s12)),'-',label='|s12|dB')\n",
    "#plt.plot(w/(2*np.pi)/1e6, 20*np.log10(np.abs(s21)),'-',label='|s21|dB')\n",
    "#plt.plot(w/(2*np.pi)/1e6, 20*np.log10(np.abs(s22)),'-',label='|s22|dB')\n",
    "\n",
    "plt.ylabel('|S11| & |S12|, dB')\n",
    "plt.xlabel('Frequency, MHz')\n",
    "plt.legend()\n",
    "plt.grid()\n",
    "plt.show()"
   ]
  },
  {
   "cell_type": "markdown",
   "metadata": {},
   "source": [
    "describe the plot, what do the traces mean to an engineer?"
   ]
  },
  {
   "cell_type": "code",
   "execution_count": null,
   "metadata": {},
   "outputs": [],
   "source": []
  },
  {
   "cell_type": "code",
   "execution_count": null,
   "metadata": {},
   "outputs": [],
   "source": []
  },
  {
   "cell_type": "code",
   "execution_count": null,
   "metadata": {},
   "outputs": [],
   "source": []
  }
 ],
 "metadata": {
  "kernelspec": {
   "display_name": "Python 3",
   "language": "python",
   "name": "python3"
  },
  "language_info": {
   "codemirror_mode": {
    "name": "ipython",
    "version": 3
   },
   "file_extension": ".py",
   "mimetype": "text/x-python",
   "name": "python",
   "nbconvert_exporter": "python",
   "pygments_lexer": "ipython3",
   "version": "3.7.3"
  }
 },
 "nbformat": 4,
 "nbformat_minor": 2
}
